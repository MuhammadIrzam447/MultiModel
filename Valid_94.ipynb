{
  "cells": [
    {
      "cell_type": "markdown",
      "metadata": {
        "id": "view-in-github",
        "colab_type": "text"
      },
      "source": [
        "<a href=\"https://colab.research.google.com/github/MuhammadIrzam447/MultiModel/blob/master/Valid_94.ipynb\" target=\"_parent\"><img src=\"https://colab.research.google.com/assets/colab-badge.svg\" alt=\"Open In Colab\"/></a>"
      ]
    },
    {
      "cell_type": "code",
      "source": [
        "!gdown https://drive.google.com/uc?id=1dxd2pySfCIDJYG7qMtuJre8ph068xc1X"
      ],
      "metadata": {
        "id": "BZSVygUtnh6K"
      },
      "execution_count": null,
      "outputs": []
    },
    {
      "cell_type": "code",
      "source": [
        "!gdown https://drive.google.com/uc?id=1sYR9EgHkM0oiGRQVlFQCyHO8kMRJ4ibQ"
      ],
      "metadata": {
        "id": "ncvcZQTtn6bS"
      },
      "execution_count": null,
      "outputs": []
    },
    {
      "cell_type": "code",
      "source": [
        "!gdown https://drive.google.com/uc?id=1RciaCtImqRTT2-qq27GP6wKpIYfosAA3"
      ],
      "metadata": {
        "id": "mFD_5HDLnvTi"
      },
      "execution_count": null,
      "outputs": []
    },
    {
      "cell_type": "code",
      "source": [
        "!gdown https://drive.google.com/uc?id=1giFuyrh33q_T1hfxcA0b-iBj_ix5w-sQ"
      ],
      "metadata": {
        "id": "3iPOl8sCnwlN"
      },
      "execution_count": null,
      "outputs": []
    },
    {
      "cell_type": "code",
      "source": [
        "!gdown https://drive.google.com/uc?id=1UgMP8unIIcPtFAt4Htav9gIGmYxhoJGW # Fused Model"
      ],
      "metadata": {
        "id": "an8aFpGIqISG"
      },
      "execution_count": null,
      "outputs": []
    },
    {
      "cell_type": "code",
      "source": [
        "# !gdown https://drive.google.com/uc?id=1KNq4VfqWylmL2e3r3Er59RdMd6gLhtP9 # Joint Model"
      ],
      "metadata": {
        "id": "VLB-v6ECKcOG"
      },
      "execution_count": null,
      "outputs": []
    },
    {
      "cell_type": "code",
      "source": [
        "!unzip /content/joint_test.zip -d \"/content/joint/\""
      ],
      "metadata": {
        "id": "2KmQAo8bIPs2"
      },
      "execution_count": null,
      "outputs": []
    },
    {
      "cell_type": "code",
      "source": [
        "!unzip /content/fused_test.zip -d \"/content/fused/\""
      ],
      "metadata": {
        "id": "Lq4bSqN4IS2Y"
      },
      "execution_count": null,
      "outputs": []
    },
    {
      "cell_type": "code",
      "source": [
        "!pip install datasets\n",
        "import requests\n",
        "import torch\n",
        "from PIL import Image\n",
        "import torchvision\n",
        "import torch.nn as nn\n",
        "from torchvision import datasets, transforms\n",
        "import torchvision.models as models\n",
        "from tqdm import tqdm"
      ],
      "metadata": {
        "id": "HTftvdBXRhTJ"
      },
      "execution_count": null,
      "outputs": []
    },
    {
      "cell_type": "code",
      "source": [
        "device = \"cuda\" if torch.cuda.is_available() else \"cpu\"\n",
        "print(device)"
      ],
      "metadata": {
        "id": "dPOyq7dZbgNA",
        "colab": {
          "base_uri": "https://localhost:8080/"
        },
        "outputId": "931273f8-7459-4aa6-ad3a-76e2ca55036b"
      },
      "execution_count": 2,
      "outputs": [
        {
          "output_type": "stream",
          "name": "stdout",
          "text": [
            "cuda\n"
          ]
        }
      ]
    },
    {
      "cell_type": "markdown",
      "source": [
        "# Fused Validation"
      ],
      "metadata": {
        "id": "J1pXJJwyJOdp"
      }
    },
    {
      "cell_type": "code",
      "source": [
        "import os\n",
        "\n",
        "image_file_paths = []\n",
        "genre_labels = []\n",
        "\n",
        "image_folder_add = \"/content/fused/test\"\n",
        "labels_file = \"/content/fused_test_label.txt\"\n",
        "\n",
        "with open(labels_file, 'r') as file:\n",
        "    for line in file:\n",
        "        parts = line.strip().split('|')\n",
        "        filename = parts[0].strip()\n",
        "        labels = parts[1].strip().split(', ')  # Split labels by comma and remove leading/trailing spaces\n",
        "\n",
        "        if not (filename.endswith(\"_1.png\") or filename.endswith(\"_2.png\")):\n",
        "            image_path = os.path.join(image_folder_add, filename)\n",
        "            image_file_paths.append(image_path)\n",
        "            genre_labels.append(labels)\n"
      ],
      "metadata": {
        "id": "1CwXZ1O2JP1X"
      },
      "execution_count": null,
      "outputs": []
    },
    {
      "cell_type": "code",
      "source": [
        "len(image_file_paths)"
      ],
      "metadata": {
        "id": "PQAHSUj7KJtn"
      },
      "execution_count": null,
      "outputs": []
    },
    {
      "cell_type": "markdown",
      "source": [
        "# 100% Missing Modality"
      ],
      "metadata": {
        "id": "p189sy67JxGD"
      }
    },
    {
      "cell_type": "code",
      "source": [
        "# _3.png is for Encoded Image\n",
        "# _4.png is for Actual Image"
      ],
      "metadata": {
        "id": "YgODJ0JYLKCr"
      },
      "execution_count": 3,
      "outputs": []
    },
    {
      "cell_type": "code",
      "source": [
        "import os\n",
        "\n",
        "image_file_paths = []\n",
        "genre_labels = []\n",
        "\n",
        "image_folder_add = \"/content/joint/test\"\n",
        "labels_file = \"/content/joint_test_label.txt\"\n",
        "\n",
        "with open(labels_file, 'r') as file:\n",
        "    for line in file:\n",
        "        parts = line.strip().split('|')\n",
        "        filename = parts[0].strip()\n",
        "        labels = parts[1].strip().split(', ')  # Split labels by comma and remove leading/trailing spaces\n",
        "\n",
        "        if filename.endswith(\"_3.png\"):\n",
        "            image_path = os.path.join(image_folder_add, filename)\n",
        "            image_file_paths.append(image_path)\n",
        "            genre_labels.append(labels)"
      ],
      "metadata": {
        "id": "ynpL2klYJyAF"
      },
      "execution_count": 4,
      "outputs": []
    },
    {
      "cell_type": "code",
      "source": [
        "len(image_file_paths)"
      ],
      "metadata": {
        "id": "XwSGQ4KyKHuh",
        "colab": {
          "base_uri": "https://localhost:8080/"
        },
        "outputId": "fb79a6a8-09b4-4c3a-8a4b-4d7483f31ff8"
      },
      "execution_count": 5,
      "outputs": [
        {
          "output_type": "execute_result",
          "data": {
            "text/plain": [
              "7799"
            ]
          },
          "metadata": {},
          "execution_count": 5
        }
      ]
    },
    {
      "cell_type": "markdown",
      "source": [
        "# Partial Missing Modality"
      ],
      "metadata": {
        "id": "oJ2_570TOmQZ"
      }
    },
    {
      "cell_type": "markdown",
      "source": [
        "Load Fused"
      ],
      "metadata": {
        "id": "ZmVu3IKXPGL7"
      }
    },
    {
      "cell_type": "code",
      "source": [
        "import os\n",
        "\n",
        "fused_image_file_paths = []\n",
        "fused_genre_labels = []\n",
        "\n",
        "image_folder_add = \"/content/fused/test\"\n",
        "labels_file = \"/content/fused_test_label.txt\"\n",
        "\n",
        "with open(labels_file, 'r') as file:\n",
        "    for line in file:\n",
        "        parts = line.strip().split('|')\n",
        "        filename = parts[0].strip()\n",
        "        labels = parts[1].strip().split(', ')  # Split labels by comma and remove leading/trailing spaces\n",
        "\n",
        "        if not (filename.endswith(\"_1.png\") or filename.endswith(\"_2.png\")):\n",
        "            image_path = os.path.join(image_folder_add, filename)\n",
        "            fused_image_file_paths.append(image_path)\n",
        "            fused_genre_labels.append(labels)"
      ],
      "metadata": {
        "id": "q6_JzJy3Oqkz"
      },
      "execution_count": null,
      "outputs": []
    },
    {
      "cell_type": "code",
      "source": [
        "len(fused_image_file_paths)"
      ],
      "metadata": {
        "id": "0sieP3GiPEl6"
      },
      "execution_count": null,
      "outputs": []
    },
    {
      "cell_type": "code",
      "source": [],
      "metadata": {
        "id": "KANHEn8iPVh8"
      },
      "execution_count": null,
      "outputs": []
    },
    {
      "cell_type": "markdown",
      "source": [
        "Load Image Only"
      ],
      "metadata": {
        "id": "POjvuFIwPc_c"
      }
    },
    {
      "cell_type": "code",
      "source": [
        "# _3.png is for Encoded Image\n",
        "# _4.png is for Actual Image"
      ],
      "metadata": {
        "id": "ftkoQMJnd9ss"
      },
      "execution_count": null,
      "outputs": []
    },
    {
      "cell_type": "code",
      "source": [
        "import os\n",
        "\n",
        "img_file_paths = []\n",
        "img_genre_labels = []\n",
        "\n",
        "image_folder_add = \"/content/joint/test\"\n",
        "labels_file = \"/content/joint_test_label.txt\"\n",
        "\n",
        "with open(labels_file, 'r') as file:\n",
        "    for line in file:\n",
        "        parts = line.strip().split('|')\n",
        "        filename = parts[0].strip()\n",
        "        labels = parts[1].strip().split(', ')  # Split labels by comma and remove leading/trailing spaces\n",
        "\n",
        "        if filename.endswith(\"_4.png\"):\n",
        "            image_path = os.path.join(image_folder_add, filename)\n",
        "            img_file_paths.append(image_path)\n",
        "            img_genre_labels.append(labels)"
      ],
      "metadata": {
        "id": "cwtJhz39Pf4a"
      },
      "execution_count": null,
      "outputs": []
    },
    {
      "cell_type": "code",
      "source": [
        "len(img_file_paths)"
      ],
      "metadata": {
        "id": "DVMBX3XNPpGJ"
      },
      "execution_count": null,
      "outputs": []
    },
    {
      "cell_type": "code",
      "source": [],
      "metadata": {
        "id": "sBuRK3ehPrfD"
      },
      "execution_count": null,
      "outputs": []
    },
    {
      "cell_type": "markdown",
      "source": [
        "Random Selection"
      ],
      "metadata": {
        "id": "jrsK-0C-Sm1Y"
      }
    },
    {
      "cell_type": "code",
      "source": [
        "percentage = 0.5 # Fused Availability"
      ],
      "metadata": {
        "id": "wbE3eNhwSxqC"
      },
      "execution_count": null,
      "outputs": []
    },
    {
      "cell_type": "code",
      "source": [
        "import random\n",
        "\n",
        "total_samples = len(fused_image_file_paths)\n",
        "num_samples_from_fused = int(percentage * total_samples)\n",
        "num_samples_from_image = total_samples - num_samples_from_fused"
      ],
      "metadata": {
        "id": "CMe3-wp9Sq05"
      },
      "execution_count": null,
      "outputs": []
    },
    {
      "cell_type": "code",
      "source": [
        "print(\"total_samples\", total_samples)\n",
        "print(\"num_samples_from_fused\", num_samples_from_fused)\n",
        "print(\"num_samples_from_image\", num_samples_from_image)"
      ],
      "metadata": {
        "id": "Igu7VBdDeW11"
      },
      "execution_count": null,
      "outputs": []
    },
    {
      "cell_type": "code",
      "source": [
        "random_indices_fused = random.sample(range(total_samples), num_samples_from_fused)\n",
        "remaining_indices_image = [i for i in range(total_samples) if i not in random_indices_fused]\n",
        "\n",
        "\n",
        "image_file_paths = [fused_image_file_paths[i] for i in random_indices_fused] + [img_file_paths[i] for i in remaining_indices_image]\n",
        "genre_labels = [fused_genre_labels[i] for i in random_indices_fused] + [img_genre_labels[i] for i in remaining_indices_image]"
      ],
      "metadata": {
        "id": "lE26f9GOTRiE"
      },
      "execution_count": null,
      "outputs": []
    },
    {
      "cell_type": "code",
      "source": [
        "image_file_paths[7000]"
      ],
      "metadata": {
        "id": "LhIGoUJkejq9"
      },
      "execution_count": null,
      "outputs": []
    },
    {
      "cell_type": "code",
      "source": [
        "genre_labels[7000]"
      ],
      "metadata": {
        "id": "yqhgcI8oenBX"
      },
      "execution_count": null,
      "outputs": []
    },
    {
      "cell_type": "markdown",
      "source": [
        "# EDA"
      ],
      "metadata": {
        "id": "1w1c6ddCKg7z"
      }
    },
    {
      "cell_type": "code",
      "source": [
        "from collections import defaultdict\n",
        "\n",
        "label_counts = defaultdict(int)\n",
        "\n",
        "for labels in genre_labels:\n",
        "    for label in labels:\n",
        "        label_counts[label] += 1"
      ],
      "metadata": {
        "id": "TgQgz3cBKhW0"
      },
      "execution_count": 6,
      "outputs": []
    },
    {
      "cell_type": "code",
      "source": [
        "label_count_list = [(label, count) for label, count in label_counts.items()]\n",
        "sorted_label_count_list = sorted(label_count_list, key=lambda x: x[1], reverse=True)\n",
        "\n",
        "for label, count in sorted_label_count_list:\n",
        "    print(f\"{label}: {count}\")\n",
        "\n",
        "print(\"Total Labels: \", len(label_count_list))"
      ],
      "metadata": {
        "id": "X1NyQ4jVKiZI",
        "colab": {
          "base_uri": "https://localhost:8080/"
        },
        "outputId": "db9fb94c-a4f2-4bad-8db0-825ce526acd6"
      },
      "execution_count": 7,
      "outputs": [
        {
          "output_type": "stream",
          "name": "stdout",
          "text": [
            "Drama: 4142\n",
            "Comedy: 2611\n",
            "Romance: 1590\n",
            "Thriller: 1567\n",
            "Crime: 1163\n",
            "Action: 1044\n",
            "Horror: 825\n",
            "Adventure: 821\n",
            "Documentary: 629\n",
            "Mystery: 617\n",
            "Sci-Fi: 586\n",
            "Fantasy: 585\n",
            "Family: 518\n",
            "Biography: 411\n",
            "War: 401\n",
            "History: 345\n",
            "Music: 311\n",
            "Animation: 306\n",
            "Musical: 253\n",
            "Western: 210\n",
            "Sport: 191\n",
            "Short: 142\n",
            "Film-Noir: 102\n",
            "News: 19\n",
            "Adult: 1\n",
            "Total Labels:  25\n"
          ]
        }
      ]
    },
    {
      "cell_type": "code",
      "source": [
        "min_label_count = 20\n",
        "valid_labels = [label for label, count in label_counts.items() if count >= min_label_count]\n",
        "valid_labels = sorted(list(valid_labels))"
      ],
      "metadata": {
        "id": "jjIjX7twKsOr"
      },
      "execution_count": 8,
      "outputs": []
    },
    {
      "cell_type": "code",
      "source": [
        "valid_labels, len(valid_labels)"
      ],
      "metadata": {
        "id": "WJldcbI5Kvyc",
        "colab": {
          "base_uri": "https://localhost:8080/"
        },
        "outputId": "ef9e8cea-3d88-4665-d1c1-63a0ca17ec7d"
      },
      "execution_count": 9,
      "outputs": [
        {
          "output_type": "execute_result",
          "data": {
            "text/plain": [
              "(['Action',\n",
              "  'Adventure',\n",
              "  'Animation',\n",
              "  'Biography',\n",
              "  'Comedy',\n",
              "  'Crime',\n",
              "  'Documentary',\n",
              "  'Drama',\n",
              "  'Family',\n",
              "  'Fantasy',\n",
              "  'Film-Noir',\n",
              "  'History',\n",
              "  'Horror',\n",
              "  'Music',\n",
              "  'Musical',\n",
              "  'Mystery',\n",
              "  'Romance',\n",
              "  'Sci-Fi',\n",
              "  'Short',\n",
              "  'Sport',\n",
              "  'Thriller',\n",
              "  'War',\n",
              "  'Western'],\n",
              " 23)"
            ]
          },
          "metadata": {},
          "execution_count": 9
        }
      ]
    },
    {
      "cell_type": "markdown",
      "source": [
        "MultiHot Encoding"
      ],
      "metadata": {
        "id": "aVh_shMHK0sv"
      }
    },
    {
      "cell_type": "code",
      "source": [
        "multi_hot_labels = []\n",
        "\n",
        "for labels in genre_labels:\n",
        "    multi_hot = [1 if label in labels else 0 for label in valid_labels]\n",
        "    multi_hot_labels.append(multi_hot)"
      ],
      "metadata": {
        "id": "ndkQ-dBgK28s"
      },
      "execution_count": 10,
      "outputs": []
    },
    {
      "cell_type": "code",
      "source": [
        "multi_hot_labels[1]"
      ],
      "metadata": {
        "id": "xqCyzIerK3d4",
        "colab": {
          "base_uri": "https://localhost:8080/"
        },
        "outputId": "4228a61c-4408-46b8-fa72-65726b2f22fe"
      },
      "execution_count": 11,
      "outputs": [
        {
          "output_type": "execute_result",
          "data": {
            "text/plain": [
              "[1, 0, 0, 0, 0, 1, 0, 1, 0, 0, 0, 0, 0, 0, 0, 0, 0, 0, 0, 0, 1, 0, 0]"
            ]
          },
          "metadata": {},
          "execution_count": 11
        }
      ]
    },
    {
      "cell_type": "code",
      "source": [
        "genre_labels[1]"
      ],
      "metadata": {
        "id": "13t0HM8fK5iT",
        "colab": {
          "base_uri": "https://localhost:8080/"
        },
        "outputId": "40de1ab8-41b1-4d32-eccf-ed0fcb2993a2"
      },
      "execution_count": 12,
      "outputs": [
        {
          "output_type": "execute_result",
          "data": {
            "text/plain": [
              "['Action', 'Crime', 'Drama', 'Thriller']"
            ]
          },
          "metadata": {},
          "execution_count": 12
        }
      ]
    },
    {
      "cell_type": "markdown",
      "source": [
        "# Create Dataset and apply Transformation (ResNet)"
      ],
      "metadata": {
        "id": "wmwBygvfLZri"
      }
    },
    {
      "cell_type": "code",
      "source": [
        "import os\n",
        "import torch\n",
        "from torch.utils.data import Dataset, DataLoader\n",
        "from torchvision import transforms\n",
        "from PIL import Image\n",
        "\n",
        "class CustomMultiLabelDataset(Dataset):\n",
        "    def __init__(self, image_file_paths, multi_encoded_labels, transform=None):\n",
        "        self.image_file_paths = image_file_paths\n",
        "        self.multi_encoded_labels = multi_encoded_labels\n",
        "        self.transform = transform\n",
        "\n",
        "    def __len__(self):\n",
        "        return len(self.image_file_paths)\n",
        "\n",
        "    def __getitem__(self, idx):\n",
        "        image_path = self.image_file_paths[idx]\n",
        "        image = Image.open(image_path)\n",
        "\n",
        "        labels = self.multi_encoded_labels[idx]\n",
        "        labels = torch.tensor(labels, dtype=torch.float32)\n",
        "\n",
        "        if self.transform:\n",
        "            image = self.transform(image)\n",
        "\n",
        "        return image, labels\n",
        "\n",
        "# Define data transformations (resize, normalize, etc.)\n",
        "transform = transforms.Compose([\n",
        "    transforms.Resize((224, 224)),\n",
        "    transforms.ToTensor(),\n",
        "    transforms.Normalize(mean=[0.485, 0.456, 0.406], std=[0.229, 0.224, 0.225]),\n",
        "])"
      ],
      "metadata": {
        "id": "jP04dLeHLaFn"
      },
      "execution_count": 13,
      "outputs": []
    },
    {
      "cell_type": "code",
      "source": [
        "# Create a custom dataset\n",
        "val_dataset = CustomMultiLabelDataset(image_file_paths, multi_hot_labels, transform=transform)\n",
        "print(len(val_dataset))"
      ],
      "metadata": {
        "id": "R7LEJLN0Layt",
        "colab": {
          "base_uri": "https://localhost:8080/"
        },
        "outputId": "feff02b7-6ead-428e-ea1c-af14434226d8"
      },
      "execution_count": 14,
      "outputs": [
        {
          "output_type": "stream",
          "name": "stdout",
          "text": [
            "7799\n"
          ]
        }
      ]
    },
    {
      "cell_type": "markdown",
      "source": [
        "Load Model and Validation Loop (ResNet)"
      ],
      "metadata": {
        "id": "zNXm21P2lKQb"
      }
    },
    {
      "cell_type": "code",
      "source": [
        "import torch\n",
        "import torch.nn as nn\n",
        "import torch.optim as optim\n",
        "from torchvision import models\n",
        "import os\n",
        "import torch\n",
        "import torch.nn.functional as F\n",
        "\n",
        "save_dir = '/content/'\n",
        "load_path = os.path.join(save_dir, '15_model.pth')\n",
        "\n",
        "model = models.resnet101(pretrained=False)\n",
        "model.fc = nn.Linear(model.fc.in_features, len(valid_labels))\n",
        "model.load_state_dict(torch.load(load_path))\n",
        "\n",
        "model.eval()\n",
        "model.to(device)"
      ],
      "metadata": {
        "id": "SsIJ_MdjL1la"
      },
      "execution_count": null,
      "outputs": []
    },
    {
      "cell_type": "code",
      "source": [
        "batch_size = 32\n",
        "val_loader = DataLoader(val_dataset, batch_size=batch_size, shuffle=True)"
      ],
      "metadata": {
        "id": "153lIoMpLpVz"
      },
      "execution_count": 16,
      "outputs": []
    },
    {
      "cell_type": "code",
      "source": [
        "model.eval()\n",
        "img_predictions = []\n",
        "true_labels = []\n",
        "\n",
        "with torch.no_grad():\n",
        "    for inputs, labels in val_loader:\n",
        "        inputs, labels = inputs.to(device), labels.to(device)\n",
        "\n",
        "        outputs = model(inputs)\n",
        "\n",
        "        # img_predictions.extend((outputs > 0.5).int().cpu().numpy())\n",
        "        img_predictions.extend(F.sigmoid(outputs).cpu().numpy())\n",
        "        true_labels.extend(labels.int().cpu().numpy())"
      ],
      "metadata": {
        "id": "V1C8zu8kMxS5"
      },
      "execution_count": 17,
      "outputs": []
    },
    {
      "cell_type": "code",
      "source": [
        "import numpy as np\n",
        "img_predictions = np.array(img_predictions)"
      ],
      "metadata": {
        "id": "tGwZwklm3-GC"
      },
      "execution_count": 18,
      "outputs": []
    },
    {
      "cell_type": "code",
      "source": [
        "threshold = 0.5\n",
        "predictions = (img_predictions > threshold).astype(int)"
      ],
      "metadata": {
        "id": "nUCgUl0s2U02"
      },
      "execution_count": 19,
      "outputs": []
    },
    {
      "cell_type": "code",
      "source": [
        "from sklearn.metrics import accuracy_score, precision_score, recall_score, f1_score, classification_report\n",
        "\n",
        "accuracy = accuracy_score(true_labels, predictions)\n",
        "precision = precision_score(true_labels, predictions, average='macro')\n",
        "recall = recall_score(true_labels, predictions, average='macro')\n",
        "f1 = f1_score(true_labels, predictions, average='macro')"
      ],
      "metadata": {
        "id": "Qo3yv027NCUm"
      },
      "execution_count": 20,
      "outputs": []
    },
    {
      "cell_type": "code",
      "source": [
        "print(f\"Accuracy: {accuracy}\")\n",
        "print(f\"Precision: {precision}\")\n",
        "print(f\"Recall: {recall}\")\n",
        "print(f\"F1-Score: {f1}\")"
      ],
      "metadata": {
        "id": "xzGxqHKwNNlk",
        "colab": {
          "base_uri": "https://localhost:8080/"
        },
        "outputId": "4352567b-a6a4-487e-ccdb-dd433884e773"
      },
      "execution_count": 21,
      "outputs": [
        {
          "output_type": "stream",
          "name": "stdout",
          "text": [
            "Accuracy: 0.11283497884344147\n",
            "Precision: 0.5327028965026444\n",
            "Recall: 0.3530640610992748\n",
            "F1-Score: 0.3894528870485065\n"
          ]
        }
      ]
    },
    {
      "cell_type": "code",
      "source": [
        "print(classification_report(true_labels, predictions))"
      ],
      "metadata": {
        "id": "K_tSuJ3_NQDT",
        "colab": {
          "base_uri": "https://localhost:8080/"
        },
        "outputId": "e473a76f-4d20-42a1-ee80-22e00bcd40e5"
      },
      "execution_count": 22,
      "outputs": [
        {
          "output_type": "stream",
          "name": "stdout",
          "text": [
            "              precision    recall  f1-score   support\n",
            "\n",
            "           0       0.64      0.34      0.44      1044\n",
            "           1       0.47      0.39      0.42       821\n",
            "           2       0.56      0.12      0.20       306\n",
            "           3       0.36      0.14      0.20       411\n",
            "           4       0.60      0.42      0.49      2611\n",
            "           5       0.58      0.53      0.55      1163\n",
            "           6       0.59      0.70      0.64       629\n",
            "           7       0.60      0.94      0.73      4142\n",
            "           8       0.62      0.22      0.33       518\n",
            "           9       0.39      0.30      0.34       585\n",
            "          10       0.00      0.00      0.00       102\n",
            "          11       0.28      0.30      0.29       345\n",
            "          12       0.74      0.34      0.47       825\n",
            "          13       0.72      0.25      0.38       311\n",
            "          14       0.41      0.09      0.15       253\n",
            "          15       0.41      0.14      0.20       617\n",
            "          16       0.40      0.47      0.43      1590\n",
            "          17       0.75      0.43      0.55       586\n",
            "          18       0.80      0.03      0.05       142\n",
            "          19       0.64      0.36      0.46       191\n",
            "          20       0.54      0.37      0.44      1567\n",
            "          21       0.50      0.68      0.58       401\n",
            "          22       0.67      0.56      0.61       210\n",
            "\n",
            "   micro avg       0.56      0.50      0.53     19370\n",
            "   macro avg       0.53      0.35      0.39     19370\n",
            "weighted avg       0.56      0.50      0.50     19370\n",
            " samples avg       0.58      0.55      0.53     19370\n",
            "\n"
          ]
        },
        {
          "output_type": "stream",
          "name": "stderr",
          "text": [
            "/usr/local/lib/python3.10/dist-packages/sklearn/metrics/_classification.py:1344: UndefinedMetricWarning: Precision and F-score are ill-defined and being set to 0.0 in samples with no predicted labels. Use `zero_division` parameter to control this behavior.\n",
            "  _warn_prf(average, modifier, msg_start, len(result))\n"
          ]
        }
      ]
    },
    {
      "cell_type": "markdown",
      "source": [
        "# Create Dataset and Apply transformation (ViT)"
      ],
      "metadata": {
        "id": "OnDO1DCiiyIY"
      }
    },
    {
      "cell_type": "code",
      "source": [
        "!pip install transformers evaluate datasets\n",
        "import requests\n",
        "import torch\n",
        "from PIL import Image\n",
        "from transformers import *\n",
        "from tqdm import tqdm\n",
        "import torch\n",
        "import torch.nn.functional as F"
      ],
      "metadata": {
        "id": "LwYd4-YniyoZ"
      },
      "execution_count": null,
      "outputs": []
    },
    {
      "cell_type": "code",
      "source": [
        "val_data = {'image': image_file_paths, 'label': multi_hot_labels}\n",
        "ds_val = Dataset.from_dict(val_data)"
      ],
      "metadata": {
        "id": "PdyuGkvXi_Yx"
      },
      "execution_count": null,
      "outputs": []
    },
    {
      "cell_type": "code",
      "source": [
        "ds_val"
      ],
      "metadata": {
        "id": "wS_rL2WhjBwc"
      },
      "execution_count": null,
      "outputs": []
    },
    {
      "cell_type": "code",
      "source": [
        "ds_val['image'][0]"
      ],
      "metadata": {
        "id": "J-4CM-Q6jFGf"
      },
      "execution_count": null,
      "outputs": []
    },
    {
      "cell_type": "code",
      "source": [
        "labels = valid_labels\n",
        "labels"
      ],
      "metadata": {
        "id": "xHMrTOFWjFPM"
      },
      "execution_count": null,
      "outputs": []
    },
    {
      "cell_type": "markdown",
      "source": [
        "Load Model"
      ],
      "metadata": {
        "id": "CB0GazEujdFP"
      }
    },
    {
      "cell_type": "code",
      "source": [
        "model = ViTForImageClassification.from_pretrained(f\"/content/Model/Models-Train-18/checkpoint-81000\").to(device)\n",
        "image_processor = ViTImageProcessor.from_pretrained(f\"/content/Model/Models-Train-18/checkpoint-81000\")"
      ],
      "metadata": {
        "id": "IYmACS61jFWS"
      },
      "execution_count": null,
      "outputs": []
    },
    {
      "cell_type": "code",
      "source": [
        "import PIL.Image as pil\n",
        "\n",
        "def transform(examples):\n",
        "  inputs = image_processor([pil.open(img).convert(\"RGB\") for img in examples[\"image\"]], return_tensors=\"pt\")\n",
        "  inputs[\"labels\"] = examples[\"label\"]\n",
        "  return inputs"
      ],
      "metadata": {
        "id": "iVpwGu5UjFcU"
      },
      "execution_count": null,
      "outputs": []
    },
    {
      "cell_type": "code",
      "source": [
        "val_dataset = ds_val.with_transform(transform)"
      ],
      "metadata": {
        "id": "X5-TuOYFjmPA"
      },
      "execution_count": null,
      "outputs": []
    },
    {
      "cell_type": "code",
      "source": [
        "val_dataset"
      ],
      "metadata": {
        "id": "aDYXLb8EjpnX"
      },
      "execution_count": null,
      "outputs": []
    },
    {
      "cell_type": "code",
      "source": [
        "sample = val_dataset[0]"
      ],
      "metadata": {
        "id": "h_I6n33djr79"
      },
      "execution_count": null,
      "outputs": []
    },
    {
      "cell_type": "code",
      "source": [
        "sample"
      ],
      "metadata": {
        "id": "ozGHp_XpjuTz"
      },
      "execution_count": null,
      "outputs": []
    },
    {
      "cell_type": "code",
      "source": [
        "for item in val_dataset:\n",
        "  print(item['pixel_values'].shape)\n",
        "  print(item[\"labels\"])\n",
        "  break"
      ],
      "metadata": {
        "id": "kSp1wDWdju1L"
      },
      "execution_count": null,
      "outputs": []
    },
    {
      "cell_type": "code",
      "source": [
        "import torch\n",
        "\n",
        "def collate_fn(batch):\n",
        "  return {\n",
        "      \"pixel_values\": torch.stack([x[\"pixel_values\"] for x in batch]),\n",
        "      \"labels\": torch.tensor([x[\"labels\"] for x in batch]),\n",
        "  }"
      ],
      "metadata": {
        "id": "kumR8n8sj0F7"
      },
      "execution_count": null,
      "outputs": []
    },
    {
      "cell_type": "code",
      "source": [
        "batch_size = 32\n",
        "valid_dataset_loader = DataLoader(val_dataset, collate_fn=collate_fn, batch_size=batch_size, shuffle=False)"
      ],
      "metadata": {
        "id": "Gwq7UBrJj5nr"
      },
      "execution_count": null,
      "outputs": []
    },
    {
      "cell_type": "code",
      "source": [
        "model.eval()\n",
        "\n",
        "vit_predictions, labels = [], []\n",
        "\n",
        "for batch in valid_dataset_loader:\n",
        "    pixel_values = batch[\"pixel_values\"].to(device)\n",
        "    label_ids = batch[\"labels\"].to(device).float()\n",
        "\n",
        "    outputs = model(pixel_values=pixel_values, labels=label_ids)\n",
        "\n",
        "    logits = outputs.logits.detach().cpu()\n",
        "\n",
        "    # predictions.extend((logits > 0.5).int().cpu().numpy())\n",
        "    vit_predictions.extend(F.sigmoid(logits).cpu().numpy())\n",
        "    labels.extend(label_ids.int().cpu().numpy())"
      ],
      "metadata": {
        "id": "jF-KBkj7kAWk"
      },
      "execution_count": null,
      "outputs": []
    },
    {
      "cell_type": "code",
      "source": [
        "import numpy as np\n",
        "vit_predictions = np.array(vit_predictions)"
      ],
      "metadata": {
        "id": "aLrAVKuH43_1"
      },
      "execution_count": null,
      "outputs": []
    },
    {
      "cell_type": "code",
      "source": [
        "threshold = 0.5\n",
        "predictions = (vit_predictions > threshold).astype(int)"
      ],
      "metadata": {
        "id": "9_19ai3q5Gr_"
      },
      "execution_count": null,
      "outputs": []
    },
    {
      "cell_type": "code",
      "source": [
        "accuracy = accuracy_score(labels, predictions)\n",
        "precision = precision_score(labels, predictions, average='macro')\n",
        "recall = recall_score(labels, predictions, average='macro')\n",
        "f1 = f1_score(labels, predictions, average='macro')"
      ],
      "metadata": {
        "id": "Us9pLc9pkBFp"
      },
      "execution_count": null,
      "outputs": []
    },
    {
      "cell_type": "code",
      "source": [
        "print(f\"Accuracy: {accuracy}\")\n",
        "print(f\"Precision: {precision}\")\n",
        "print(f\"Recall: {recall}\")\n",
        "print(f\"F1-Score: {f1}\")"
      ],
      "metadata": {
        "id": "LnW_vy4XkI9z"
      },
      "execution_count": null,
      "outputs": []
    },
    {
      "cell_type": "code",
      "source": [
        "print(classification_report(labels, predictions))"
      ],
      "metadata": {
        "id": "tBJ2m3ikkKpg"
      },
      "execution_count": null,
      "outputs": []
    },
    {
      "cell_type": "code",
      "source": [],
      "metadata": {
        "id": "FeTzRkTzZgOp"
      },
      "execution_count": null,
      "outputs": []
    },
    {
      "cell_type": "markdown",
      "source": [
        "# Joint Missing Modality"
      ],
      "metadata": {
        "id": "tl5A8iglZg_f"
      }
    },
    {
      "cell_type": "code",
      "source": [
        "# _3.png is for Encoded Image\n",
        "# _4.png is for Actual Image"
      ],
      "metadata": {
        "id": "2RQBaqAvZpGI"
      },
      "execution_count": null,
      "outputs": []
    },
    {
      "cell_type": "code",
      "source": [
        "import os\n",
        "\n",
        "image_file_paths = []\n",
        "genre_labels = []\n",
        "encoded_file_paths = []\n",
        "encoded_genre_labels = []\n",
        "\n",
        "image_folder_add = \"/content/joint/test\"\n",
        "labels_file = \"/content/joint_test_label.txt\"\n",
        "\n",
        "with open(labels_file, 'r') as file:\n",
        "    for line in file:\n",
        "        parts = line.strip().split('|')\n",
        "        filename = parts[0].strip()\n",
        "        labels = parts[1].strip().split(', ')  # Split labels by comma and remove leading/trailing spaces\n",
        "        image_path = os.path.join(image_folder_add, filename)\n",
        "\n",
        "        if filename.endswith(\"_4.png\"):\n",
        "            image_file_paths.append(image_path)\n",
        "            genre_labels.append(labels)\n",
        "\n",
        "        if filename.endswith(\"_3.png\"):\n",
        "            encoded_file_paths.append(image_path)\n",
        "            encoded_genre_labels.append(labels)"
      ],
      "metadata": {
        "id": "2_igZSwAZihl"
      },
      "execution_count": null,
      "outputs": []
    },
    {
      "cell_type": "code",
      "source": [
        "len(image_file_paths)"
      ],
      "metadata": {
        "id": "UrEG_UNSZmqo"
      },
      "execution_count": null,
      "outputs": []
    },
    {
      "cell_type": "code",
      "source": [
        "len(encoded_file_paths)"
      ],
      "metadata": {
        "id": "2hlashn4ajX2"
      },
      "execution_count": null,
      "outputs": []
    },
    {
      "cell_type": "code",
      "source": [
        "from collections import defaultdict\n",
        "\n",
        "label_counts = defaultdict(int)\n",
        "\n",
        "for labels in genre_labels:\n",
        "    for label in labels:\n",
        "        label_counts[label] += 1"
      ],
      "metadata": {
        "id": "K_ciS54kZ2FZ"
      },
      "execution_count": null,
      "outputs": []
    },
    {
      "cell_type": "code",
      "source": [
        "label_count_list = [(label, count) for label, count in label_counts.items()]\n",
        "sorted_label_count_list = sorted(label_count_list, key=lambda x: x[1], reverse=True)\n",
        "\n",
        "for label, count in sorted_label_count_list:\n",
        "    print(f\"{label}: {count}\")\n",
        "\n",
        "print(\"Total Labels: \", len(label_count_list))"
      ],
      "metadata": {
        "id": "tVB92IOVZ3FN"
      },
      "execution_count": null,
      "outputs": []
    },
    {
      "cell_type": "code",
      "source": [
        "min_label_count = 20\n",
        "valid_labels = [label for label, count in label_counts.items() if count >= min_label_count]\n",
        "valid_labels = sorted(list(valid_labels))"
      ],
      "metadata": {
        "id": "ELjNbwf7Z6a6"
      },
      "execution_count": null,
      "outputs": []
    },
    {
      "cell_type": "code",
      "source": [
        "valid_labels, len(valid_labels)"
      ],
      "metadata": {
        "id": "oC7agfy1Z9lI"
      },
      "execution_count": null,
      "outputs": []
    },
    {
      "cell_type": "code",
      "source": [
        "num_of_classes = len(valid_labels)"
      ],
      "metadata": {
        "id": "vL2S95OAuNr1"
      },
      "execution_count": null,
      "outputs": []
    },
    {
      "cell_type": "markdown",
      "source": [
        "Multi Hot Encoding"
      ],
      "metadata": {
        "id": "2IFOfBBIasY-"
      }
    },
    {
      "cell_type": "code",
      "source": [
        "img_multi_hot_labels = []\n",
        "\n",
        "for labels in genre_labels:\n",
        "    multi_hot = [1 if label in labels else 0 for label in valid_labels]\n",
        "    img_multi_hot_labels.append(multi_hot)"
      ],
      "metadata": {
        "id": "QTUb7FmIaxOd"
      },
      "execution_count": null,
      "outputs": []
    },
    {
      "cell_type": "code",
      "source": [
        "enc_multi_hot_labels = []\n",
        "\n",
        "for labels in encoded_genre_labels:\n",
        "    multi_hot = [1 if label in labels else 0 for label in valid_labels]\n",
        "    enc_multi_hot_labels.append(multi_hot)"
      ],
      "metadata": {
        "id": "b-hwrS0Va1qT"
      },
      "execution_count": null,
      "outputs": []
    },
    {
      "cell_type": "markdown",
      "source": [
        "Sample Check"
      ],
      "metadata": {
        "id": "Cbtn0VatbEj4"
      }
    },
    {
      "cell_type": "code",
      "source": [
        "index = 10"
      ],
      "metadata": {
        "id": "YVTl-eowMbHD"
      },
      "execution_count": null,
      "outputs": []
    },
    {
      "cell_type": "code",
      "source": [
        "image_file_paths[index], genre_labels[index] , img_multi_hot_labels[index]"
      ],
      "metadata": {
        "id": "2aybS0WIbDxO"
      },
      "execution_count": null,
      "outputs": []
    },
    {
      "cell_type": "code",
      "source": [
        "encoded_file_paths[index], encoded_genre_labels[index] , enc_multi_hot_labels[index]"
      ],
      "metadata": {
        "id": "MHkQhEBgbCrZ"
      },
      "execution_count": null,
      "outputs": []
    },
    {
      "cell_type": "markdown",
      "source": [
        "# Joint Missing Modality with ResNet"
      ],
      "metadata": {
        "id": "Nd4-m70_rToh"
      }
    },
    {
      "cell_type": "code",
      "source": [
        "import os\n",
        "import torch\n",
        "from torch.utils.data import Dataset, DataLoader\n",
        "from torchvision import transforms\n",
        "from PIL import Image\n",
        "import torch\n",
        "import torch.nn.functional as F\n",
        "\n",
        "class CustomMultiLabelDataset(Dataset):\n",
        "    def __init__(self, image_file_paths, multi_encoded_labels, transform=None):\n",
        "        self.image_file_paths = image_file_paths\n",
        "        self.multi_encoded_labels = multi_encoded_labels\n",
        "        self.transform = transform\n",
        "\n",
        "    def __len__(self):\n",
        "        return len(self.image_file_paths)\n",
        "\n",
        "    def __getitem__(self, idx):\n",
        "        image_path = self.image_file_paths[idx]\n",
        "        image = Image.open(image_path)\n",
        "\n",
        "        labels = self.multi_encoded_labels[idx]\n",
        "        labels = torch.tensor(labels, dtype=torch.float32)\n",
        "\n",
        "        if self.transform:\n",
        "            image = self.transform(image)\n",
        "\n",
        "        return image, labels\n",
        "\n",
        "# Define data transformations (resize, normalize, etc.)\n",
        "transform = transforms.Compose([\n",
        "    transforms.Resize((224, 224)),\n",
        "    transforms.ToTensor(),\n",
        "    transforms.Normalize(mean=[0.485, 0.456, 0.406], std=[0.229, 0.224, 0.225]),\n",
        "])"
      ],
      "metadata": {
        "id": "HNHkrD-SbbAz"
      },
      "execution_count": null,
      "outputs": []
    },
    {
      "cell_type": "code",
      "source": [
        "# Create a custom dataset\n",
        "img_dataset = CustomMultiLabelDataset(image_file_paths, img_multi_hot_labels, transform=transform)\n",
        "enc_dataset = CustomMultiLabelDataset(encoded_file_paths, enc_multi_hot_labels, transform=transform)"
      ],
      "metadata": {
        "id": "_ChZ3NhqbfGS"
      },
      "execution_count": null,
      "outputs": []
    },
    {
      "cell_type": "code",
      "source": [
        "len(img_dataset) , len(enc_dataset)"
      ],
      "metadata": {
        "id": "FJvAcaV6bkaJ"
      },
      "execution_count": null,
      "outputs": []
    },
    {
      "cell_type": "code",
      "source": [
        "batch_size = 32\n",
        "img_loader = DataLoader(img_dataset, batch_size=batch_size, shuffle=False)\n",
        "enc_loader = DataLoader(enc_dataset, batch_size=batch_size, shuffle=False)"
      ],
      "metadata": {
        "id": "ok1w5X-6b5DM"
      },
      "execution_count": null,
      "outputs": []
    },
    {
      "cell_type": "code",
      "source": [
        "num_batches = len(enc_loader)\n",
        "num_batches_with_logits_3 = int(num_batches * 0.3)  # ___% of batches that you want to include (30 for now)\n",
        "print(\"Total Batches: \", num_batches)\n",
        "print(\"Missing Modaility Batches: \", num_batches_with_logits_3)"
      ],
      "metadata": {
        "id": "8urLJDx4piCC"
      },
      "execution_count": null,
      "outputs": []
    },
    {
      "cell_type": "code",
      "source": [
        "import torch\n",
        "import torch.nn as nn\n",
        "import torch.optim as optim\n",
        "from torchvision import models\n",
        "import os\n",
        "\n",
        "save_dir = '/content/'\n",
        "load_path = os.path.join(save_dir, '22_model.pth')\n",
        "\n",
        "model = models.resnet101(pretrained=False)\n",
        "model.fc = nn.Linear(model.fc.in_features, len(valid_labels))\n",
        "model.load_state_dict(torch.load(load_path))\n",
        "\n",
        "model.eval()\n",
        "model.to(device)"
      ],
      "metadata": {
        "id": "U1rtaBPscK4S"
      },
      "execution_count": null,
      "outputs": []
    },
    {
      "cell_type": "code",
      "source": [
        "model.eval()\n",
        "img_predictions = []\n",
        "img_true_labels = []\n",
        "\n",
        "with torch.no_grad():\n",
        "    for inputs, labels in img_loader:\n",
        "        inputs, labels = inputs.to(device), labels.to(device)\n",
        "\n",
        "        outputs = model(inputs)\n",
        "\n",
        "        img_predictions.extend(F.sigmoid(outputs).cpu().numpy())\n",
        "        img_true_labels.extend(labels.int().cpu().numpy())"
      ],
      "metadata": {
        "id": "e7FdRFn8cRDp"
      },
      "execution_count": null,
      "outputs": []
    },
    {
      "cell_type": "code",
      "source": [
        "enc_predictions = []\n",
        "enc_true_labels = []\n",
        "\n",
        "with torch.no_grad():\n",
        "    batch_idx = 0\n",
        "    for inputs, labels in enc_loader:\n",
        "        inputs, labels = inputs.to(device), labels.to(device)\n",
        "\n",
        "        if batch_idx < num_batches_with_logits_3:\n",
        "            outputs = model(inputs)\n",
        "        else:\n",
        "            length = len(labels)\n",
        "            outputs = torch.zeros((length, num_of_classes), device=\"cpu\")\n",
        "\n",
        "        enc_predictions.extend(F.sigmoid(outputs).cpu().numpy())\n",
        "        enc_true_labels.extend(labels.int().cpu().numpy())\n",
        "        batch_idx = batch_idx + 1"
      ],
      "metadata": {
        "id": "mpKTF3M7ckSw"
      },
      "execution_count": null,
      "outputs": []
    },
    {
      "cell_type": "code",
      "source": [
        "import numpy as np\n",
        "predicted_avg = (np.array(img_predictions) + np.array(enc_predictions)) / 2.0"
      ],
      "metadata": {
        "id": "aUOQ9EeucsxX"
      },
      "execution_count": null,
      "outputs": []
    },
    {
      "cell_type": "code",
      "source": [
        "# Apply the threshold of 0.5\n",
        "threshold = 0.5\n",
        "predictions = (predicted_avg > threshold).astype(int)"
      ],
      "metadata": {
        "id": "eTdiU9Gkcxjs"
      },
      "execution_count": null,
      "outputs": []
    },
    {
      "cell_type": "code",
      "source": [
        "true_labels = img_true_labels"
      ],
      "metadata": {
        "id": "aTnj8fYKL0W8"
      },
      "execution_count": null,
      "outputs": []
    },
    {
      "cell_type": "code",
      "source": [
        "from sklearn.metrics import accuracy_score, precision_score, recall_score, f1_score, classification_report\n",
        "\n",
        "accuracy = accuracy_score(true_labels, predictions)\n",
        "precision = precision_score(true_labels, predictions, average='macro')\n",
        "recall = recall_score(true_labels, predictions, average='macro')\n",
        "f1 = f1_score(true_labels, predictions, average='macro')"
      ],
      "metadata": {
        "id": "qDXnmSGNdB5y"
      },
      "execution_count": null,
      "outputs": []
    },
    {
      "cell_type": "code",
      "source": [
        "print(f\"Accuracy: {accuracy}\")\n",
        "print(f\"Precision: {precision}\")\n",
        "print(f\"Recall: {recall}\")\n",
        "print(f\"F1-Score: {f1}\")"
      ],
      "metadata": {
        "id": "ABUg7EcqdCY6"
      },
      "execution_count": null,
      "outputs": []
    },
    {
      "cell_type": "code",
      "source": [
        "print(classification_report(true_labels, predictions))"
      ],
      "metadata": {
        "id": "-MGGWjSLdGhD"
      },
      "execution_count": null,
      "outputs": []
    },
    {
      "cell_type": "markdown",
      "source": [
        "# Joint Missing Modality with ViT"
      ],
      "metadata": {
        "id": "M-bIORJbrF0c"
      }
    },
    {
      "cell_type": "code",
      "source": [
        "!pip install transformers evaluate datasets\n",
        "import requests\n",
        "import torch\n",
        "from PIL import Image\n",
        "from transformers import *\n",
        "from tqdm import tqdm\n",
        "import torch\n",
        "import torch.nn.functional as F"
      ],
      "metadata": {
        "id": "8hUFQbz1rGMt"
      },
      "execution_count": null,
      "outputs": []
    },
    {
      "cell_type": "code",
      "source": [
        "img_data = {'image': image_file_paths, 'label': multi_hot_labels}\n",
        "ds_img = Dataset.from_dict(img_data)\n",
        "\n",
        "enc_data = {'image': encoded_file_paths, 'label': enc_multi_hot_labels}\n",
        "ds_enc = Dataset.from_dict(enc_data)"
      ],
      "metadata": {
        "id": "HIRPK-KDro34"
      },
      "execution_count": null,
      "outputs": []
    },
    {
      "cell_type": "code",
      "source": [
        "import PIL.Image as pil\n",
        "\n",
        "def transform(examples):\n",
        "  inputs = image_processor([pil.open(img).convert(\"RGB\") for img in examples[\"image\"]], return_tensors=\"pt\")\n",
        "  inputs[\"labels\"] = examples[\"label\"]\n",
        "  return inputs"
      ],
      "metadata": {
        "id": "BvkSQkFKr7xw"
      },
      "execution_count": null,
      "outputs": []
    },
    {
      "cell_type": "code",
      "source": [
        "img_dataset = ds_img.with_transform(transform)\n",
        "enc_dataset = ds_enc.with_transform(transform)"
      ],
      "metadata": {
        "id": "UvSRzA_UrgAN"
      },
      "execution_count": null,
      "outputs": []
    },
    {
      "cell_type": "code",
      "source": [
        "import torch\n",
        "\n",
        "def collate_fn(batch):\n",
        "  return {\n",
        "      \"pixel_values\": torch.stack([x[\"pixel_values\"] for x in batch]),\n",
        "      \"labels\": torch.tensor([x[\"labels\"] for x in batch]),\n",
        "  }"
      ],
      "metadata": {
        "id": "-bmvjU5ysCDk"
      },
      "execution_count": null,
      "outputs": []
    },
    {
      "cell_type": "code",
      "source": [
        "batch_size = 32\n",
        "img_loader = DataLoader(img_dataset, collate_fn=collate_fn, batch_size=batch_size, shuffle=False)\n",
        "enc_loader = DataLoader(enc_dataset, collate_fn=collate_fn, batch_size=batch_size, shuffle=False)"
      ],
      "metadata": {
        "id": "Ofb2m7WbsRFU"
      },
      "execution_count": null,
      "outputs": []
    },
    {
      "cell_type": "code",
      "source": [
        "num_batches = len(enc_loader)\n",
        "num_batches_with_logits_3 = int(num_batches * 0.5)  # ___% of batches that you want to include (30 for now)\n",
        "print(\"Total Batches: \", num_batches)\n",
        "print(\"Missing Modaility Batches: \", num_batches_with_logits_3)"
      ],
      "metadata": {
        "id": "hi16SQ8esRVM"
      },
      "execution_count": null,
      "outputs": []
    },
    {
      "cell_type": "markdown",
      "source": [
        "Load Model"
      ],
      "metadata": {
        "id": "zpKCkTaBso_k"
      }
    },
    {
      "cell_type": "code",
      "source": [
        "model = ViTForImageClassification.from_pretrained(f\"/content/Model/Models-Train-18/checkpoint-81000\").to(device)\n",
        "image_processor = ViTImageProcessor.from_pretrained(f\"/content/Model/Models-Train-18/checkpoint-81000\")"
      ],
      "metadata": {
        "id": "2hRhY0VprHzb"
      },
      "execution_count": null,
      "outputs": []
    },
    {
      "cell_type": "code",
      "source": [
        "model.eval()\n",
        "img_predictions = []\n",
        "img_true_labels = []\n",
        "\n",
        "for batch in img_loader:\n",
        "    pixel_values = batch[\"pixel_values\"].to(device)\n",
        "    label_ids = batch[\"labels\"].to(device).float()\n",
        "\n",
        "    outputs = model(pixel_values=pixel_values, labels=label_ids)\n",
        "\n",
        "    logits = outputs.logits.detach().cpu()\n",
        "    # probabilities = torch.softmax(logits, dim=1)\n",
        "\n",
        "    img_predictions.extend(F.sigmoid(logits).cpu().numpy())\n",
        "    img_true_labels.extend(label_ids.int().cpu().numpy())"
      ],
      "metadata": {
        "id": "yqOokruysqVc"
      },
      "execution_count": null,
      "outputs": []
    },
    {
      "cell_type": "code",
      "source": [
        "enc_predictions = []\n",
        "enc_true_labels = []\n",
        "\n",
        "batch_idx = 0\n",
        "for batch in enc_loader:\n",
        "    pixel_values = batch[\"pixel_values\"].to(device)\n",
        "    label_ids = batch[\"labels\"].to(device).float()\n",
        "\n",
        "    if batch_idx < num_batches_with_logits_3:\n",
        "        outputs = model(pixel_values=pixel_values, labels=label_ids)\n",
        "        logits = outputs.logits.detach().cpu()\n",
        "    else:\n",
        "        length = len(label_ids)\n",
        "        logits = torch.zeros((length, num_of_classes), device=\"cpu\")\n",
        "\n",
        "    # probabilities = torch.softmax(logits, dim=1)\n",
        "    enc_predictions.extend(F.sigmoid(logits).cpu().numpy())\n",
        "    enc_true_labels.extend(labels.int().cpu().numpy())\n",
        "    batch_idx = batch_idx + 1"
      ],
      "metadata": {
        "id": "GbmPtCSesv4C"
      },
      "execution_count": null,
      "outputs": []
    },
    {
      "cell_type": "code",
      "source": [
        "import numpy as np\n",
        "predicted_avg = (np.array(img_predictions) + np.array(enc_predictions)) / 2.0"
      ],
      "metadata": {
        "id": "GqMeprz7szcn"
      },
      "execution_count": null,
      "outputs": []
    },
    {
      "cell_type": "code",
      "source": [
        "# Apply the threshold of 0.5\n",
        "threshold = 0.5\n",
        "predictions = (predicted_avg > threshold).astype(int)"
      ],
      "metadata": {
        "id": "Ntfc13DEszy-"
      },
      "execution_count": null,
      "outputs": []
    },
    {
      "cell_type": "code",
      "source": [
        "true_labels = img_true_labels"
      ],
      "metadata": {
        "id": "AqMG5gMfvSIY"
      },
      "execution_count": null,
      "outputs": []
    },
    {
      "cell_type": "code",
      "source": [
        "from sklearn.metrics import accuracy_score, precision_score, recall_score, f1_score, classification_report\n",
        "\n",
        "accuracy = accuracy_score(true_labels, predictions)\n",
        "precision = precision_score(true_labels, predictions, average='macro')\n",
        "recall = recall_score(true_labels, predictions, average='macro')\n",
        "f1 = f1_score(true_labels, predictions, average='macro')"
      ],
      "metadata": {
        "id": "FVnkU1Yps2Fk"
      },
      "execution_count": null,
      "outputs": []
    },
    {
      "cell_type": "code",
      "source": [
        "print(f\"Accuracy: {accuracy}\")\n",
        "print(f\"Precision: {precision}\")\n",
        "print(f\"Recall: {recall}\")\n",
        "print(f\"F1-Score: {f1}\")"
      ],
      "metadata": {
        "id": "oYLi4SJhs4el"
      },
      "execution_count": null,
      "outputs": []
    },
    {
      "cell_type": "code",
      "source": [
        "print(classification_report(true_labels, predictions))"
      ],
      "metadata": {
        "id": "z6d7QJ7ws6ac"
      },
      "execution_count": null,
      "outputs": []
    }
  ],
  "metadata": {
    "colab": {
      "provenance": [],
      "collapsed_sections": [
        "J1pXJJwyJOdp",
        "p189sy67JxGD",
        "oJ2_570TOmQZ",
        "1w1c6ddCKg7z",
        "wmwBygvfLZri"
      ],
      "gpuType": "T4",
      "include_colab_link": true
    },
    "kernelspec": {
      "display_name": "Python 3",
      "name": "python3"
    },
    "language_info": {
      "name": "python"
    },
    "accelerator": "GPU"
  },
  "nbformat": 4,
  "nbformat_minor": 0
}