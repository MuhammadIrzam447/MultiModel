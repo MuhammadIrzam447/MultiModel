{
  "nbformat": 4,
  "nbformat_minor": 0,
  "metadata": {
    "colab": {
      "provenance": [],
      "gpuType": "T4",
      "collapsed_sections": [
        "00vlqtj_0TXq",
        "LN_1_n4nScPZ",
        "vsW7ms9iFQIi",
        "GZDNW0tS225-",
        "oA19HxxWkW78"
      ],
      "include_colab_link": true
    },
    "kernelspec": {
      "name": "python3",
      "display_name": "Python 3"
    },
    "language_info": {
      "name": "python"
    },
    "accelerator": "GPU"
  },
  "cells": [
    {
      "cell_type": "markdown",
      "metadata": {
        "id": "view-in-github",
        "colab_type": "text"
      },
      "source": [
        "<a href=\"https://colab.research.google.com/github/MuhammadIrzam447/MultiModel/blob/master/Train_07.ipynb\" target=\"_parent\"><img src=\"https://colab.research.google.com/assets/colab-badge.svg\" alt=\"Open In Colab\"/></a>"
      ]
    },
    {
      "cell_type": "code",
      "source": [
        "# ResNet-101 on Imgs-Hateful-Memes(train+test_unseen)"
      ],
      "metadata": {
        "id": "4H3pu3V8Tp-Q"
      },
      "execution_count": null,
      "outputs": []
    },
    {
      "cell_type": "code",
      "source": [
        "# !gdown https://drive.google.com/uc?id=14u9sgibcvl5-2oThkjYWlgYPvgjp0RhV"
      ],
      "metadata": {
        "id": "QJDKRUehNtnz",
        "colab": {
          "base_uri": "https://localhost:8080/"
        },
        "outputId": "94a8c396-e3d9-461f-8595-827ed00ee95d"
      },
      "execution_count": 2,
      "outputs": [
        {
          "output_type": "stream",
          "name": "stdout",
          "text": [
            "Downloading...\n",
            "From: https://drive.google.com/uc?id=14u9sgibcvl5-2oThkjYWlgYPvgjp0RhV\n",
            "To: /content/imgs-train+test.zip\n",
            "100% 1.36G/1.36G [00:31<00:00, 43.2MB/s]\n"
          ]
        }
      ]
    },
    {
      "cell_type": "code",
      "source": [
        "# !unzip /content/imgs-train+test.zip"
      ],
      "metadata": {
        "id": "fIoZ7lU1iskh"
      },
      "execution_count": null,
      "outputs": []
    },
    {
      "cell_type": "code",
      "execution_count": 4,
      "metadata": {
        "id": "ObgVtPmABT7d"
      },
      "outputs": [],
      "source": [
        "from google.colab import drive\n",
        "import pandas as pd\n",
        "import os\n",
        "from PIL import Image\n",
        "import torch\n",
        "import torchvision\n",
        "from torchvision import datasets, transforms\n",
        "import torchvision.models as models\n",
        "from torchvision.datasets import ImageFolder\n",
        "import torch.nn as nn\n",
        "import torch.optim as optim\n",
        "from sklearn.metrics import confusion_matrix\n",
        "from sklearn.metrics import precision_recall_fscore_support\n",
        "from sklearn.metrics import accuracy_score, precision_score, recall_score, f1_score\n",
        "import matplotlib.pyplot as plt\n",
        "import seaborn as sns\n",
        "import numpy as np\n",
        "from PIL import UnidentifiedImageError\n",
        "from sklearn.metrics import classification_report, roc_auc_score\n",
        "from sklearn.metrics import confusion_matrix, ConfusionMatrixDisplay"
      ]
    },
    {
      "cell_type": "code",
      "source": [
        "if torch.cuda.is_available():\n",
        "    device = torch.device(\"cuda\")\n",
        "else:\n",
        "    device = torch.device(\"cpu\")\n",
        "print(device)"
      ],
      "metadata": {
        "id": "pziXvdPgU58B",
        "colab": {
          "base_uri": "https://localhost:8080/"
        },
        "outputId": "dd741f79-a372-4d79-e387-40d73469cba2"
      },
      "execution_count": 5,
      "outputs": [
        {
          "output_type": "stream",
          "name": "stdout",
          "text": [
            "cuda\n"
          ]
        }
      ]
    },
    {
      "cell_type": "markdown",
      "source": [
        "# Loading Training Dataset and Preprocessing"
      ],
      "metadata": {
        "id": "00vlqtj_0TXq"
      }
    },
    {
      "cell_type": "code",
      "source": [
        "transform = transforms.Compose([\n",
        "    transforms.Resize((224, 224)),\n",
        "    transforms.ToTensor(),\n",
        "    transforms.Normalize(mean=[0.485, 0.456, 0.406], std=[0.229, 0.224, 0.225])\n",
        "])"
      ],
      "metadata": {
        "id": "11gcKFPXGx4H"
      },
      "execution_count": 6,
      "outputs": []
    },
    {
      "cell_type": "code",
      "source": [
        "class TrainingDataset(torch.utils.data.Dataset):\n",
        "    def __init__(self, data_dir):\n",
        "        self.data_dir = data_dir\n",
        "        self.dataset = datasets.ImageFolder(data_dir, transform=transform)\n",
        "        self.classes = sorted(os.listdir(data_dir))\n",
        "        self.class_lengths = self._compute_class_lengths()\n",
        "        self.num_classes = len(self.dataset.classes)\n",
        "\n",
        "    def _compute_class_lengths(self):\n",
        "        class_lengths = {cls: 0 for cls in self.classes}\n",
        "\n",
        "        for cls in self.classes:\n",
        "            cls_dir = os.path.join(self.data_dir, cls)\n",
        "            if os.path.isdir(cls_dir):\n",
        "                class_lengths[cls] = len(os.listdir(cls_dir))\n",
        "\n",
        "        return class_lengths\n",
        "\n",
        "    def __getitem__(self, index):\n",
        "        image, label = self.dataset[index]\n",
        "        return image, label\n",
        "\n",
        "    # def __getitem__(self, index):\n",
        "    #     while True:\n",
        "    #         try:\n",
        "    #             image, label = self.dataset[index]\n",
        "    #             return image, label\n",
        "    #         except (UnidentifiedImageError, FileNotFoundError) as e:\n",
        "    #             print(f\"Error loading image at index {index}: {e}\")\n",
        "    #             index += 1\n",
        "\n",
        "    def __len__(self):\n",
        "        return len(self.dataset)\n",
        "\n",
        "    def get_num_classes(self):\n",
        "        return self.num_classes"
      ],
      "metadata": {
        "id": "SxiZcLMwIdP2"
      },
      "execution_count": 7,
      "outputs": []
    },
    {
      "cell_type": "code",
      "source": [
        "data_dir = \"/content/img-train+test/train\"\n",
        "dataset = TrainingDataset(data_dir)"
      ],
      "metadata": {
        "id": "2vHn670_GyKc"
      },
      "execution_count": 8,
      "outputs": []
    },
    {
      "cell_type": "code",
      "source": [
        "print(\"Number of samples:\", len(dataset))\n",
        "print(\"Number of classes:\", len(dataset.classes))"
      ],
      "metadata": {
        "id": "S9kouQGoUpJN",
        "colab": {
          "base_uri": "https://localhost:8080/"
        },
        "outputId": "8e2d0f3f-a7fe-4649-d004-24972ff886b4"
      },
      "execution_count": 9,
      "outputs": [
        {
          "output_type": "stream",
          "name": "stdout",
          "text": [
            "Number of samples: 9500\n",
            "Number of classes: 2\n"
          ]
        }
      ]
    },
    {
      "cell_type": "code",
      "source": [
        "batch_size = 32\n",
        "num_workers = 2\n",
        "data_loader = torch.utils.data.DataLoader(dataset, batch_size=batch_size, shuffle=True, num_workers=num_workers)"
      ],
      "metadata": {
        "id": "Cs0LSvvPGyTZ"
      },
      "execution_count": 10,
      "outputs": []
    },
    {
      "cell_type": "markdown",
      "source": [
        "# Validation Data Loader"
      ],
      "metadata": {
        "id": "LN_1_n4nScPZ"
      }
    },
    {
      "cell_type": "code",
      "source": [
        "val_transform = transforms.Compose([\n",
        "    transforms.Resize((224, 224)),\n",
        "    transforms.ToTensor(),\n",
        "    transforms.Normalize(mean=[0.485, 0.456, 0.406], std=[0.229, 0.224, 0.225])\n",
        "])\n",
        "\n",
        "class ValidationDataset(torch.utils.data.Dataset):\n",
        "    def __init__(self, data_dir):\n",
        "        self.data_dir = data_dir\n",
        "        self.dataset = datasets.ImageFolder(data_dir, transform=val_transform)\n",
        "        self.classes = sorted(os.listdir(data_dir))\n",
        "        self.class_lengths = self._compute_class_lengths()\n",
        "\n",
        "    def _compute_class_lengths(self):\n",
        "        class_lengths = {cls: 0 for cls in self.classes}\n",
        "\n",
        "        for cls in self.classes:\n",
        "            cls_dir = os.path.join(self.data_dir, cls)\n",
        "            if os.path.isdir(cls_dir):\n",
        "                class_lengths[cls] = len(os.listdir(cls_dir))\n",
        "\n",
        "        return class_lengths\n",
        "\n",
        "    def __getitem__(self, index):\n",
        "        image, label = self.dataset[index]\n",
        "        return image, label\n",
        "\n",
        "    def __len__(self):\n",
        "        return len(self.dataset)"
      ],
      "metadata": {
        "id": "hycPMtNySeXn"
      },
      "execution_count": 11,
      "outputs": []
    },
    {
      "cell_type": "code",
      "source": [
        "valPath = \"/content/img-train+test/test\"\n",
        "val_dataset = ValidationDataset(valPath)"
      ],
      "metadata": {
        "id": "F1ZXM95XSz3I"
      },
      "execution_count": 12,
      "outputs": []
    },
    {
      "cell_type": "code",
      "source": [
        "batch_size = 32\n",
        "validation_data_loader = torch.utils.data.DataLoader(val_dataset, batch_size=batch_size, shuffle=False)"
      ],
      "metadata": {
        "id": "re5Gun34Se9b"
      },
      "execution_count": 13,
      "outputs": []
    },
    {
      "cell_type": "code",
      "source": [
        "print(\"Number of samples:\", len(val_dataset))\n",
        "print(\"Number of classes:\", len(val_dataset.classes))"
      ],
      "metadata": {
        "colab": {
          "base_uri": "https://localhost:8080/"
        },
        "id": "rp6bP4sLS3DE",
        "outputId": "94cc0c21-ff73-4496-eeb5-2e72b288ce45"
      },
      "execution_count": 14,
      "outputs": [
        {
          "output_type": "stream",
          "name": "stdout",
          "text": [
            "Number of samples: 2000\n",
            "Number of classes: 2\n"
          ]
        }
      ]
    },
    {
      "cell_type": "markdown",
      "source": [
        "# EDA"
      ],
      "metadata": {
        "id": "vsW7ms9iFQIi"
      }
    },
    {
      "cell_type": "code",
      "source": [
        "class_length = dataset.class_lengths\n",
        "class_labels = list(class_length.keys())"
      ],
      "metadata": {
        "id": "VtJYA2vJ_lzb"
      },
      "execution_count": 15,
      "outputs": []
    },
    {
      "cell_type": "code",
      "source": [
        "from torchvision.transforms import ToPILImage\n",
        "\n",
        "def plot_sample_images(dataset):\n",
        "\n",
        "\n",
        "    # Create a grid layout based on the number of classes\n",
        "    num_classes = len(class_length)\n",
        "    grid_cols = 4  # Number of columns in the grid\n",
        "    grid_rows = (num_classes + grid_cols - 1) // grid_cols  # Number of rows in the grid\n",
        "    plt.figure(figsize=(10, 5 * grid_rows))\n",
        "\n",
        "    # Create a transform to convert the tensor to PIL Image\n",
        "    to_pil = ToPILImage()\n",
        "\n",
        "    # Iterate over each class\n",
        "    for i, class_label in enumerate(class_labels):\n",
        "        # Get a random image index from the class\n",
        "        image_index = np.random.choice(class_length[class_label])\n",
        "\n",
        "        # Get the image and label from the dataset\n",
        "        image, label = dataset[image_index]\n",
        "\n",
        "        # Convert the image tensor to PIL Image\n",
        "        image = to_pil(image)\n",
        "\n",
        "        # Plot the image\n",
        "        plt.subplot(grid_rows, grid_cols, i + 1)\n",
        "        plt.imshow(image, interpolation='none')  # Use 'RGB' interpolation\n",
        "        plt.title(class_label)\n",
        "        plt.axis('off')\n",
        "\n",
        "    plt.tight_layout()\n",
        "    plt.show()\n"
      ],
      "metadata": {
        "id": "mM85nfZA_4KL"
      },
      "execution_count": 16,
      "outputs": []
    },
    {
      "cell_type": "code",
      "source": [
        "plot_sample_images(dataset)"
      ],
      "metadata": {
        "id": "vmHEUpE2AlP_"
      },
      "execution_count": null,
      "outputs": []
    },
    {
      "cell_type": "code",
      "source": [
        "class_lengths_dict = dataset.class_lengths\n",
        "total_sum = sum(class_lengths_dict.values())\n",
        "dict_length = len(class_lengths_dict)\n",
        "\n",
        "# Print the length\n",
        "print(\"Dictionary length:\", dict_length)\n",
        "# Print the total sum\n",
        "print(\"Total sum:\", total_sum)\n",
        "print(class_lengths_dict.values())"
      ],
      "metadata": {
        "id": "g-0uV8a5pPvX",
        "colab": {
          "base_uri": "https://localhost:8080/"
        },
        "outputId": "8491d05f-9589-459b-8919-d61d396303a9"
      },
      "execution_count": 18,
      "outputs": [
        {
          "output_type": "stream",
          "name": "stdout",
          "text": [
            "Dictionary length: 2\n",
            "Total sum: 9500\n",
            "dict_values([5960, 3540])\n"
          ]
        }
      ]
    },
    {
      "cell_type": "code",
      "source": [
        "# Extract class labels and counts from the dictionary\n",
        "class_labels = list(class_lengths_dict.keys())\n",
        "class_counts = list(class_lengths_dict.values())\n",
        "\n",
        "# Create a count plot\n",
        "plt.figure(figsize=(4, 5))\n",
        "sns.barplot(x=class_labels, y=class_counts)\n",
        "plt.xticks(rotation=90)\n",
        "plt.xlabel('Class')\n",
        "plt.ylabel('Number of samples')\n",
        "plt.title('Count of Instances in Each Class')\n",
        "plt.show()"
      ],
      "metadata": {
        "id": "-hU1isiYpR8g",
        "colab": {
          "base_uri": "https://localhost:8080/",
          "height": 482
        },
        "outputId": "97042723-4180-4d3a-9c71-995a5b4e2308"
      },
      "execution_count": 19,
      "outputs": [
        {
          "output_type": "display_data",
          "data": {
            "text/plain": [
              "<Figure size 400x500 with 1 Axes>"
            ],
            "image/png": "[encoded data removed]"
          },
          "metadata": {}
        }
      ]
    },
    {
      "cell_type": "markdown",
      "source": [
        "# Loading ResNet-101"
      ],
      "metadata": {
        "id": "GZDNW0tS225-"
      }
    },
    {
      "cell_type": "code",
      "source": [
        "num_classes = dataset.get_num_classes()\n",
        "print(\"Number of classes:\", num_classes)"
      ],
      "metadata": {
        "id": "EH_KW2uuWpXi",
        "colab": {
          "base_uri": "https://localhost:8080/"
        },
        "outputId": "091d8059-d841-4cfa-ffa1-a77712789a7c"
      },
      "execution_count": 20,
      "outputs": [
        {
          "output_type": "stream",
          "name": "stdout",
          "text": [
            "Number of classes: 2\n"
          ]
        }
      ]
    },
    {
      "cell_type": "code",
      "source": [
        "resnet = torchvision.models.resnet101(pretrained=True)\n",
        "num_features = resnet.fc.in_features\n",
        "resnet.fc = nn.Linear(num_features, num_classes)  # num_classes is the number of classes in your dataset\n",
        "resnet.to(device)\n",
        "print(resnet)"
      ],
      "metadata": {
        "id": "iFFVJbgHN5b-"
      },
      "execution_count": null,
      "outputs": []
    },
    {
      "cell_type": "markdown",
      "source": [
        "# Fine Tuning"
      ],
      "metadata": {
        "id": "tH3B0YYuXbh3"
      }
    },
    {
      "cell_type": "code",
      "source": [
        "criterion = nn.CrossEntropyLoss()\n",
        "optimizer = optim.SGD(resnet.parameters(), lr=0.001, momentum=0.9)\n",
        "num_epochs = 20"
      ],
      "metadata": {
        "id": "-16XvcH9OXyc"
      },
      "execution_count": 22,
      "outputs": []
    },
    {
      "cell_type": "code",
      "source": [
        "training_loss = []\n",
        "\n",
        "for epoch in range(num_epochs):\n",
        "    # Set the model to training mode\n",
        "    resnet.train()\n",
        "    running_loss = 0.0\n",
        "\n",
        "    # Iterate over the data loader\n",
        "    for images, labels in data_loader:\n",
        "        # Move the images and labels to the GPU if available\n",
        "        images = images.to(device)\n",
        "        labels = labels.to(device)\n",
        "\n",
        "        # Clear the gradients\n",
        "        optimizer.zero_grad()\n",
        "\n",
        "        # Forward pass\n",
        "        outputs = resnet(images)\n",
        "\n",
        "        # Compute the loss\n",
        "        loss = criterion(outputs, labels)\n",
        "\n",
        "        # Backward pass and optimization\n",
        "        loss.backward()\n",
        "        optimizer.step()\n",
        "\n",
        "        # Update the running loss\n",
        "        running_loss += loss.item() * images.size(0)\n",
        "\n",
        "    # Calculate the average loss for the epoch\n",
        "    epoch_loss = running_loss / len(data_loader.dataset)\n",
        "    training_loss.append(epoch_loss)\n",
        "    # Print the epoch loss\n",
        "    print(\"Training Loss==========================>>\")\n",
        "    print(f\"Epoch {epoch+1}/{num_epochs} Training Loss: {epoch_loss:.4f}\")\n",
        "\n",
        "    resnet.eval()\n",
        "    predicted_classes = []\n",
        "    actual_labels = []\n",
        "    with torch.no_grad():\n",
        "        for images, labels in validation_data_loader:\n",
        "            # Move the images and labels to the GPU if available\n",
        "            images = images.to(device)\n",
        "            labels = labels.to(device)\n",
        "\n",
        "            # Forward pass\n",
        "            outputs = resnet(images)\n",
        "\n",
        "            # Get the predicted labels\n",
        "            _, predicted_label = torch.max(outputs, 1)\n",
        "\n",
        "            # Store the predicted and true labels\n",
        "            predicted_classes.extend(predicted_label.cpu().tolist())\n",
        "            actual_labels.extend(labels.cpu().tolist())\n",
        "\n",
        "    accuracy = accuracy_score(actual_labels, predicted_classes)\n",
        "    precision = precision_score(actual_labels, predicted_classes, average='weighted')\n",
        "    recall = recall_score(actual_labels, predicted_classes, average='weighted')\n",
        "    f1 = f1_score(actual_labels, predicted_classes, average='weighted')\n",
        "\n",
        "    print(\"Accuracy:\", accuracy)\n",
        "    print(\"Precision:\", precision)\n",
        "    print(\"Recall:\", recall)\n",
        "    print(\"F1-score:\", f1)\n",
        "\n",
        "    print(classification_report(actual_labels, predicted_classes))\n",
        "    print(\"Confusion Matrix: \")\n",
        "    cm = confusion_matrix(actual_labels, predicted_classes)\n",
        "    print(cm)\n",
        "    auroc = roc_auc_score(actual_labels, predicted_classes)\n",
        "    print(\"AUROC:\", auroc)\n",
        "\n",
        "    save_dir = \"/content/Model/Models-Train-07/\"\n",
        "    os.makedirs(save_dir, exist_ok=True)  # Create the directory if it doesn't exist\n",
        "\n",
        "    model_name = str(epoch+1) + \"_model.pth\"\n",
        "    save_path = os.path.join(save_dir, model_name)  # Specify the complete path to the model file\n",
        "    torch.save(resnet.state_dict(), save_path)"
      ],
      "metadata": {
        "id": "nkOQcQCnGygk",
        "colab": {
          "base_uri": "https://localhost:8080/"
        },
        "outputId": "35353d2f-ba1d-48ad-edf0-86adf2f65227"
      },
      "execution_count": 23,
      "outputs": [
        {
          "output_type": "stream",
          "name": "stdout",
          "text": [
            "Training Loss==========================>>\n",
            "Epoch 1/20 Training Loss: 0.6645\n",
            "Accuracy: 0.6215\n",
            "Precision: 0.5848148738230461\n",
            "Recall: 0.6215\n",
            "F1-score: 0.5648776363937891\n",
            "              precision    recall  f1-score   support\n",
            "\n",
            "           0       0.64      0.89      0.75      1250\n",
            "           1       0.49      0.18      0.26       750\n",
            "\n",
            "    accuracy                           0.62      2000\n",
            "   macro avg       0.57      0.53      0.50      2000\n",
            "weighted avg       0.58      0.62      0.56      2000\n",
            "\n",
            "Confusion Matrix: \n",
            "[[1107  143]\n",
            " [ 614  136]]\n",
            "AUROC: 0.5334666666666666\n",
            "Training Loss==========================>>\n",
            "Epoch 2/20 Training Loss: 0.5958\n",
            "Accuracy: 0.6665\n",
            "Precision: 0.65226781415306\n",
            "Recall: 0.6665\n",
            "F1-score: 0.6398184623154083\n",
            "              precision    recall  f1-score   support\n",
            "\n",
            "           0       0.69      0.86      0.76      1250\n",
            "           1       0.60      0.34      0.43       750\n",
            "\n",
            "    accuracy                           0.67      2000\n",
            "   macro avg       0.64      0.60      0.60      2000\n",
            "weighted avg       0.65      0.67      0.64      2000\n",
            "\n",
            "Confusion Matrix: \n",
            "[[1078  172]\n",
            " [ 495  255]]\n",
            "AUROC: 0.6012000000000001\n",
            "Training Loss==========================>>\n",
            "Epoch 3/20 Training Loss: 0.4507\n",
            "Accuracy: 0.661\n",
            "Precision: 0.6732167805108529\n",
            "Recall: 0.661\n",
            "F1-score: 0.6649195959864443\n",
            "              precision    recall  f1-score   support\n",
            "\n",
            "           0       0.75      0.68      0.72      1250\n",
            "           1       0.54      0.63      0.58       750\n",
            "\n",
            "    accuracy                           0.66      2000\n",
            "   macro avg       0.65      0.65      0.65      2000\n",
            "weighted avg       0.67      0.66      0.66      2000\n",
            "\n",
            "Confusion Matrix: \n",
            "[[853 397]\n",
            " [281 469]]\n",
            "AUROC: 0.6538666666666666\n",
            "Training Loss==========================>>\n",
            "Epoch 4/20 Training Loss: 0.2893\n",
            "Accuracy: 0.572\n",
            "Precision: 0.6671262446593611\n",
            "Recall: 0.572\n",
            "F1-score: 0.5674488374584806\n",
            "              precision    recall  f1-score   support\n",
            "\n",
            "           0       0.79      0.43      0.56      1250\n",
            "           1       0.46      0.81      0.59       750\n",
            "\n",
            "    accuracy                           0.57      2000\n",
            "   macro avg       0.63      0.62      0.57      2000\n",
            "weighted avg       0.67      0.57      0.57      2000\n",
            "\n",
            "Confusion Matrix: \n",
            "[[535 715]\n",
            " [141 609]]\n",
            "AUROC: 0.6200000000000001\n",
            "Training Loss==========================>>\n",
            "Epoch 5/20 Training Loss: 0.2131\n",
            "Accuracy: 0.6015\n",
            "Precision: 0.6814430239264648\n",
            "Recall: 0.6015\n",
            "F1-score: 0.6015497128874283\n",
            "              precision    recall  f1-score   support\n",
            "\n",
            "           0       0.80      0.48      0.60      1250\n",
            "           1       0.48      0.80      0.60       750\n",
            "\n",
            "    accuracy                           0.60      2000\n",
            "   macro avg       0.64      0.64      0.60      2000\n",
            "weighted avg       0.68      0.60      0.60      2000\n",
            "\n",
            "Confusion Matrix: \n",
            "[[602 648]\n",
            " [149 601]]\n",
            "AUROC: 0.6414666666666666\n",
            "Training Loss==========================>>\n",
            "Epoch 6/20 Training Loss: 0.1848\n",
            "Accuracy: 0.611\n",
            "Precision: 0.6767772870218064\n",
            "Recall: 0.611\n",
            "F1-score: 0.6137164456403357\n",
            "              precision    recall  f1-score   support\n",
            "\n",
            "           0       0.79      0.51      0.62      1250\n",
            "           1       0.49      0.77      0.60       750\n",
            "\n",
            "    accuracy                           0.61      2000\n",
            "   macro avg       0.64      0.64      0.61      2000\n",
            "weighted avg       0.68      0.61      0.61      2000\n",
            "\n",
            "Confusion Matrix: \n",
            "[[643 607]\n",
            " [171 579]]\n",
            "AUROC: 0.6432\n",
            "Training Loss==========================>>\n",
            "Epoch 7/20 Training Loss: 0.1482\n",
            "Accuracy: 0.619\n",
            "Precision: 0.6845267645489185\n",
            "Recall: 0.619\n",
            "F1-score: 0.6218013023054652\n",
            "              precision    recall  f1-score   support\n",
            "\n",
            "           0       0.80      0.52      0.63      1250\n",
            "           1       0.49      0.78      0.61       750\n",
            "\n",
            "    accuracy                           0.62      2000\n",
            "   macro avg       0.65      0.65      0.62      2000\n",
            "weighted avg       0.68      0.62      0.62      2000\n",
            "\n",
            "Confusion Matrix: \n",
            "[[653 597]\n",
            " [165 585]]\n",
            "AUROC: 0.6512\n",
            "Training Loss==========================>>\n",
            "Epoch 8/20 Training Loss: 0.1139\n",
            "Accuracy: 0.6755\n",
            "Precision: 0.69631664039875\n",
            "Recall: 0.6755\n",
            "F1-score: 0.680327417976254\n",
            "              precision    recall  f1-score   support\n",
            "\n",
            "           0       0.78      0.67      0.72      1250\n",
            "           1       0.55      0.69      0.61       750\n",
            "\n",
            "    accuracy                           0.68      2000\n",
            "   macro avg       0.67      0.68      0.67      2000\n",
            "weighted avg       0.70      0.68      0.68      2000\n",
            "\n",
            "Confusion Matrix: \n",
            "[[834 416]\n",
            " [233 517]]\n",
            "AUROC: 0.6782666666666667\n",
            "Training Loss==========================>>\n",
            "Epoch 9/20 Training Loss: 0.0793\n",
            "Accuracy: 0.6645\n",
            "Precision: 0.7007364443496981\n",
            "Recall: 0.6645\n",
            "F1-score: 0.6697355763207707\n",
            "              precision    recall  f1-score   support\n",
            "\n",
            "           0       0.80      0.62      0.70      1250\n",
            "           1       0.54      0.74      0.62       750\n",
            "\n",
            "    accuracy                           0.66      2000\n",
            "   macro avg       0.67      0.68      0.66      2000\n",
            "weighted avg       0.70      0.66      0.67      2000\n",
            "\n",
            "Confusion Matrix: \n",
            "[[775 475]\n",
            " [196 554]]\n",
            "AUROC: 0.6793333333333333\n",
            "Training Loss==========================>>\n",
            "Epoch 10/20 Training Loss: 0.0889\n",
            "Accuracy: 0.607\n",
            "Precision: 0.6779657914007742\n",
            "Recall: 0.607\n",
            "F1-score: 0.6088085234093638\n",
            "              precision    recall  f1-score   support\n",
            "\n",
            "           0       0.79      0.50      0.61      1250\n",
            "           1       0.49      0.78      0.60       750\n",
            "\n",
            "    accuracy                           0.61      2000\n",
            "   macro avg       0.64      0.64      0.61      2000\n",
            "weighted avg       0.68      0.61      0.61      2000\n",
            "\n",
            "Confusion Matrix: \n",
            "[[627 623]\n",
            " [163 587]]\n",
            "AUROC: 0.6421333333333333\n",
            "Training Loss==========================>>\n",
            "Epoch 11/20 Training Loss: 0.1065\n",
            "Accuracy: 0.695\n",
            "Precision: 0.7045662997903565\n",
            "Recall: 0.695\n",
            "F1-score: 0.6981304169762578\n",
            "              precision    recall  f1-score   support\n",
            "\n",
            "           0       0.78      0.72      0.75      1250\n",
            "           1       0.58      0.66      0.62       750\n",
            "\n",
            "    accuracy                           0.69      2000\n",
            "   macro avg       0.68      0.69      0.68      2000\n",
            "weighted avg       0.70      0.69      0.70      2000\n",
            "\n",
            "Confusion Matrix: \n",
            "[[896 354]\n",
            " [256 494]]\n",
            "AUROC: 0.6877333333333333\n",
            "Training Loss==========================>>\n",
            "Epoch 12/20 Training Loss: 0.0754\n",
            "Accuracy: 0.684\n",
            "Precision: 0.6983335427212048\n",
            "Recall: 0.684\n",
            "F1-score: 0.6880447958166301\n",
            "              precision    recall  f1-score   support\n",
            "\n",
            "           0       0.78      0.69      0.73      1250\n",
            "           1       0.57      0.67      0.61       750\n",
            "\n",
            "    accuracy                           0.68      2000\n",
            "   macro avg       0.67      0.68      0.67      2000\n",
            "weighted avg       0.70      0.68      0.69      2000\n",
            "\n",
            "Confusion Matrix: \n",
            "[[866 384]\n",
            " [248 502]]\n",
            "AUROC: 0.6810666666666667\n",
            "Training Loss==========================>>\n",
            "Epoch 13/20 Training Loss: 0.0608\n",
            "Accuracy: 0.663\n",
            "Precision: 0.7026729584963756\n",
            "Recall: 0.663\n",
            "F1-score: 0.6681237806867859\n",
            "              precision    recall  f1-score   support\n",
            "\n",
            "           0       0.80      0.61      0.69      1250\n",
            "           1       0.54      0.75      0.63       750\n",
            "\n",
            "    accuracy                           0.66      2000\n",
            "   macro avg       0.67      0.68      0.66      2000\n",
            "weighted avg       0.70      0.66      0.67      2000\n",
            "\n",
            "Confusion Matrix: \n",
            "[[764 486]\n",
            " [188 562]]\n",
            "AUROC: 0.6802666666666667\n",
            "Training Loss==========================>>\n",
            "Epoch 14/20 Training Loss: 0.0518\n",
            "Accuracy: 0.7095\n",
            "Precision: 0.7167570684382015\n",
            "Recall: 0.7095\n",
            "F1-score: 0.7120274257414605\n",
            "              precision    recall  f1-score   support\n",
            "\n",
            "           0       0.79      0.74      0.76      1250\n",
            "           1       0.60      0.67      0.63       750\n",
            "\n",
            "    accuracy                           0.71      2000\n",
            "   macro avg       0.69      0.70      0.70      2000\n",
            "weighted avg       0.72      0.71      0.71      2000\n",
            "\n",
            "Confusion Matrix: \n",
            "[[920 330]\n",
            " [251 499]]\n",
            "AUROC: 0.7006666666666667\n",
            "Training Loss==========================>>\n",
            "Epoch 15/20 Training Loss: 0.0428\n",
            "Accuracy: 0.665\n",
            "Precision: 0.6972546011656421\n",
            "Recall: 0.665\n",
            "F1-score: 0.6703103999935033\n",
            "              precision    recall  f1-score   support\n",
            "\n",
            "           0       0.79      0.63      0.70      1250\n",
            "           1       0.54      0.72      0.62       750\n",
            "\n",
            "    accuracy                           0.67      2000\n",
            "   macro avg       0.67      0.68      0.66      2000\n",
            "weighted avg       0.70      0.67      0.67      2000\n",
            "\n",
            "Confusion Matrix: \n",
            "[[787 463]\n",
            " [207 543]]\n",
            "AUROC: 0.6768\n",
            "Training Loss==========================>>\n",
            "Epoch 16/20 Training Loss: 0.0532\n",
            "Accuracy: 0.7095\n",
            "Precision: 0.714311052782037\n",
            "Recall: 0.7095\n",
            "F1-score: 0.711370077393986\n",
            "              precision    recall  f1-score   support\n",
            "\n",
            "           0       0.78      0.75      0.76      1250\n",
            "           1       0.60      0.65      0.63       750\n",
            "\n",
            "    accuracy                           0.71      2000\n",
            "   macro avg       0.69      0.70      0.69      2000\n",
            "weighted avg       0.71      0.71      0.71      2000\n",
            "\n",
            "Confusion Matrix: \n",
            "[[932 318]\n",
            " [263 487]]\n",
            "AUROC: 0.6974666666666667\n",
            "Training Loss==========================>>\n",
            "Epoch 17/20 Training Loss: 0.0614\n",
            "Accuracy: 0.619\n",
            "Precision: 0.6791733843673464\n",
            "Recall: 0.619\n",
            "F1-score: 0.6225828853854757\n",
            "              precision    recall  f1-score   support\n",
            "\n",
            "           0       0.79      0.53      0.64      1250\n",
            "           1       0.49      0.76      0.60       750\n",
            "\n",
            "    accuracy                           0.62      2000\n",
            "   macro avg       0.64      0.65      0.62      2000\n",
            "weighted avg       0.68      0.62      0.62      2000\n",
            "\n",
            "Confusion Matrix: \n",
            "[[665 585]\n",
            " [177 573]]\n",
            "AUROC: 0.648\n",
            "Training Loss==========================>>\n",
            "Epoch 18/20 Training Loss: 0.0422\n",
            "Accuracy: 0.6645\n",
            "Precision: 0.6936230973034442\n",
            "Recall: 0.6645\n",
            "F1-score: 0.6698200075251264\n",
            "              precision    recall  f1-score   support\n",
            "\n",
            "           0       0.79      0.64      0.70      1250\n",
            "           1       0.54      0.71      0.61       750\n",
            "\n",
            "    accuracy                           0.66      2000\n",
            "   macro avg       0.66      0.67      0.66      2000\n",
            "weighted avg       0.69      0.66      0.67      2000\n",
            "\n",
            "Confusion Matrix: \n",
            "[[796 454]\n",
            " [217 533]]\n",
            "AUROC: 0.6737333333333333\n",
            "Training Loss==========================>>\n",
            "Epoch 19/20 Training Loss: 0.0280\n",
            "Accuracy: 0.7035\n",
            "Precision: 0.7166409653740413\n",
            "Recall: 0.7035\n",
            "F1-score: 0.7071739706226168\n",
            "              precision    recall  f1-score   support\n",
            "\n",
            "           0       0.79      0.71      0.75      1250\n",
            "           1       0.59      0.69      0.64       750\n",
            "\n",
            "    accuracy                           0.70      2000\n",
            "   macro avg       0.69      0.70      0.69      2000\n",
            "weighted avg       0.72      0.70      0.71      2000\n",
            "\n",
            "Confusion Matrix: \n",
            "[[889 361]\n",
            " [232 518]]\n",
            "AUROC: 0.7009333333333333\n",
            "Training Loss==========================>>\n",
            "Epoch 20/20 Training Loss: 0.0380\n",
            "Accuracy: 0.707\n",
            "Precision: 0.715708445636879\n",
            "Recall: 0.707\n",
            "F1-score: 0.7098689043222758\n",
            "              precision    recall  f1-score   support\n",
            "\n",
            "           0       0.79      0.73      0.76      1250\n",
            "           1       0.60      0.67      0.63       750\n",
            "\n",
            "    accuracy                           0.71      2000\n",
            "   macro avg       0.69      0.70      0.69      2000\n",
            "weighted avg       0.72      0.71      0.71      2000\n",
            "\n",
            "Confusion Matrix: \n",
            "[[911 339]\n",
            " [247 503]]\n",
            "AUROC: 0.6997333333333332\n"
          ]
        }
      ]
    },
    {
      "cell_type": "code",
      "source": [
        "# Plot the loss curve\n",
        "plt.plot(range(1, num_epochs+1), training_loss)\n",
        "plt.xlabel('Epoch')\n",
        "plt.ylabel('Loss')\n",
        "plt.title('Training Loss Curve')\n",
        "plt.grid(True)\n",
        "plt.show()"
      ],
      "metadata": {
        "id": "uBQm6WUy2Mas",
        "colab": {
          "base_uri": "https://localhost:8080/",
          "height": 472
        },
        "outputId": "d2ab4301-c6e7-4207-e494-5a7254e7e2c3"
      },
      "execution_count": 24,
      "outputs": [
        {
          "output_type": "display_data",
          "data": {
            "text/plain": [
              "<Figure size 640x480 with 1 Axes>"
            ],
            "image/png": "[encoded data removed]"
          },
          "metadata": {}
        }
      ]
    },
    {
      "cell_type": "markdown",
      "source": [
        "# Save Model"
      ],
      "metadata": {
        "id": "oA19HxxWkW78"
      }
    },
    {
      "cell_type": "code",
      "source": [
        "# from google.colab import drive\n",
        "# drive.mount('/content/drive')"
      ],
      "metadata": {
        "id": "En61iS0MncTo"
      },
      "execution_count": 25,
      "outputs": []
    },
    {
      "cell_type": "code",
      "source": [
        "# %cd /content/Model/Models-Train-07/"
      ],
      "metadata": {
        "id": "JdafxfVVneqc"
      },
      "execution_count": 26,
      "outputs": []
    },
    {
      "cell_type": "code",
      "source": [
        "# !cp 21_model.pth /content/drive/MyDrive/21_model.pth"
      ],
      "metadata": {
        "id": "Y_N_X_mUngns"
      },
      "execution_count": 27,
      "outputs": []
    }
  ]
}