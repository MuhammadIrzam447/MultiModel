{
  "nbformat": 4,
  "nbformat_minor": 0,
  "metadata": {
    "colab": {
      "provenance": [],
      "gpuType": "T4",
      "include_colab_link": true
    },
    "kernelspec": {
      "name": "python3",
      "display_name": "Python 3"
    },
    "language_info": {
      "name": "python"
    },
    "accelerator": "GPU"
  },
  "cells": [
    {
      "cell_type": "markdown",
      "metadata": {
        "id": "view-in-github",
        "colab_type": "text"
      },
      "source": [
        "<a href=\"https://colab.research.google.com/github/MuhammadIrzam447/MultiModel/blob/master/Valid_19.ipynb\" target=\"_parent\"><img src=\"https://colab.research.google.com/assets/colab-badge.svg\" alt=\"Open In Colab\"/></a>"
      ]
    },
    {
      "cell_type": "code",
      "execution_count": 1,
      "metadata": {
        "id": "ObgVtPmABT7d"
      },
      "outputs": [],
      "source": [
        "from google.colab import drive\n",
        "import pandas as pd\n",
        "import os\n",
        "from PIL import Image\n",
        "import torch\n",
        "from torchvision import datasets, transforms\n",
        "import torchvision.models as models\n",
        "from torchvision.datasets import ImageFolder\n",
        "import torchvision\n",
        "import torch.nn as nn\n",
        "import torch.optim as optim\n",
        "from sklearn.metrics import confusion_matrix\n",
        "from sklearn.metrics import precision_recall_fscore_support\n",
        "from sklearn.metrics import accuracy_score, precision_score, recall_score, f1_score\n",
        "import matplotlib.pyplot as plt\n",
        "import seaborn as sns\n",
        "import numpy as np\n",
        "from PIL import UnidentifiedImageError\n",
        "from sklearn.metrics import classification_report, roc_auc_score"
      ]
    },
    {
      "cell_type": "code",
      "source": [
        "if torch.cuda.is_available():\n",
        "    device = torch.device(\"cuda\")\n",
        "else:\n",
        "    device = torch.device(\"cpu\")\n",
        "print(device)"
      ],
      "metadata": {
        "id": "pziXvdPgU58B",
        "colab": {
          "base_uri": "https://localhost:8080/"
        },
        "outputId": "d04e90ec-7092-4a16-dab7-3d3c749b4c0c"
      },
      "execution_count": 2,
      "outputs": [
        {
          "output_type": "stream",
          "name": "stdout",
          "text": [
            "cuda\n"
          ]
        }
      ]
    },
    {
      "cell_type": "code",
      "source": [
        "# from google.colab import drive\n",
        "# drive.mount('/content/drive', force_remount=True)"
      ],
      "metadata": {
        "id": "8EPDp91Tyicv"
      },
      "execution_count": null,
      "outputs": []
    },
    {
      "cell_type": "markdown",
      "source": [
        "# Loading Validation Dataset and Preprocessing"
      ],
      "metadata": {
        "id": "p3yzu25SYhKf"
      }
    },
    {
      "cell_type": "code",
      "source": [
        "# save_dir = '/content/Model/Fused_ResNetmodel_Hatefull_Experiment#5'\n",
        "# load_path = os.path.join(save_dir, 'model.pth')\n",
        "\n",
        "# # Create an instance of the ResNet model\n",
        "# resnet = torchvision.models.resnet101(pretrained=False)\n",
        "# resnet.fc = nn.Linear(2048, 2) # Choose the number of output classses as per your model\n",
        "\n",
        "# # Load the saved model parameters\n",
        "# # resnet.load_state_dict(torch.load(load_path, map_location=torch.device('cpu')))\n",
        "# resnet.load_state_dict(torch.load(load_path))\n",
        "\n",
        "# # Set the model to evaluation mode and respective device\n",
        "# resnet.eval()\n",
        "# resnet.to(device)"
      ],
      "metadata": {
        "id": "6gITvuS1n91U"
      },
      "execution_count": null,
      "outputs": []
    },
    {
      "cell_type": "code",
      "source": [
        "val_transform = transforms.Compose([\n",
        "    transforms.Resize((224, 224)),\n",
        "    transforms.ToTensor(),\n",
        "    transforms.Normalize(mean=[0.485, 0.456, 0.406], std=[0.229, 0.224, 0.225])\n",
        "])"
      ],
      "metadata": {
        "id": "4ElOxuNZvqLy"
      },
      "execution_count": 3,
      "outputs": []
    },
    {
      "cell_type": "code",
      "source": [
        "class ValidationDataset(torch.utils.data.Dataset):\n",
        "    def __init__(self, data_dir):\n",
        "        self.data_dir = data_dir\n",
        "        self.dataset = datasets.ImageFolder(data_dir, transform=val_transform)\n",
        "        self.classes = sorted(os.listdir(data_dir))\n",
        "        self.class_lengths = self._compute_class_lengths()\n",
        "\n",
        "    def _compute_class_lengths(self):\n",
        "        class_lengths = {cls: 0 for cls in self.classes}\n",
        "\n",
        "        for cls in self.classes:\n",
        "            cls_dir = os.path.join(self.data_dir, cls)\n",
        "            if os.path.isdir(cls_dir):\n",
        "                class_lengths[cls] = len(os.listdir(cls_dir))\n",
        "\n",
        "        return class_lengths\n",
        "\n",
        "    def __getitem__(self, index):\n",
        "        image, label = self.dataset[index]\n",
        "        return image, label\n",
        "\n",
        "    def __len__(self):\n",
        "        return len(self.dataset)"
      ],
      "metadata": {
        "id": "ZEqVuNvcMgvo"
      },
      "execution_count": 4,
      "outputs": []
    },
    {
      "cell_type": "code",
      "source": [
        "valPath = \"/content/Dataset(s)/jointHF-train+test_unseen/test\"\n",
        "val_dataset = ValidationDataset(valPath)"
      ],
      "metadata": {
        "id": "4UfrxOQ3sCgB"
      },
      "execution_count": 5,
      "outputs": []
    },
    {
      "cell_type": "code",
      "source": [
        "batch_size = 32\n",
        "validation_data_loader = torch.utils.data.DataLoader(val_dataset, batch_size=batch_size, shuffle=False)"
      ],
      "metadata": {
        "id": "8e-uQ6lqVhmI"
      },
      "execution_count": 6,
      "outputs": []
    },
    {
      "cell_type": "code",
      "source": [
        "print(\"Number of samples:\", len(val_dataset))\n",
        "print(\"Number of classes:\", len(val_dataset.classes))"
      ],
      "metadata": {
        "id": "oShp-fOcVmYs",
        "colab": {
          "base_uri": "https://localhost:8080/"
        },
        "outputId": "b0623041-21b7-467d-e63e-97efe01c8338"
      },
      "execution_count": 7,
      "outputs": [
        {
          "output_type": "stream",
          "name": "stdout",
          "text": [
            "Number of samples: 4000\n",
            "Number of classes: 2\n"
          ]
        }
      ]
    },
    {
      "cell_type": "code",
      "source": [
        "num_batches = len(validation_data_loader)\n",
        "print(\"Number of batches:\", num_batches)"
      ],
      "metadata": {
        "id": "l_2_YsDRCJL7",
        "colab": {
          "base_uri": "https://localhost:8080/"
        },
        "outputId": "c2e89975-50f0-403c-8b87-6f1551a49fbe"
      },
      "execution_count": 8,
      "outputs": [
        {
          "output_type": "stream",
          "name": "stdout",
          "text": [
            "Number of batches: 125\n"
          ]
        }
      ]
    },
    {
      "cell_type": "markdown",
      "source": [
        "# Validation"
      ],
      "metadata": {
        "id": "RbwN0R_b2tMA"
      }
    },
    {
      "cell_type": "code",
      "source": [
        "epoch = 1\n",
        "save_dir = '/content/Model/Models-Train-04/'\n",
        "while epoch < 20:\n",
        "    model_name = str(epoch+1) + \"_model.pth\"\n",
        "    load_path = os.path.join(save_dir, model_name)\n",
        "\n",
        "    # Create an instance of the ResNet model\n",
        "    resnet = torchvision.models.resnet101(pretrained=False)\n",
        "    resnet.fc = nn.Linear(2048, 2) # Choose the number of output classses as per your model\n",
        "\n",
        "    # Load the saved model parameters\n",
        "    # resnet.load_state_dict(torch.load(load_path, map_location=torch.device('cpu')))\n",
        "    resnet.load_state_dict(torch.load(load_path))\n",
        "\n",
        "    # Set the model to evaluation mode and respective device\n",
        "    resnet.eval()\n",
        "    resnet.to(device)\n",
        "\n",
        "    # resnet.eval()\n",
        "\n",
        "    predicted_classes = []\n",
        "    actual_labels = []\n",
        "\n",
        "    with torch.no_grad():\n",
        "        for images, labels in validation_data_loader:\n",
        "            # Move the images and labels to the GPU if available\n",
        "            images = images.to(device)\n",
        "            labels = labels.to(device)\n",
        "\n",
        "            # Forward pass\n",
        "            outputs = resnet(images)\n",
        "\n",
        "            # Get the predicted labels\n",
        "            _, predicted_label = torch.max(outputs, 1)\n",
        "\n",
        "            # Store the predicted and true labels\n",
        "            predicted_classes.extend(predicted_label.cpu().tolist())\n",
        "            actual_labels.extend(labels.cpu().tolist())\n",
        "\n",
        "        accuracy = accuracy_score(actual_labels, predicted_classes)\n",
        "        precision = precision_score(actual_labels, predicted_classes, average='weighted')\n",
        "        recall = recall_score(actual_labels, predicted_classes, average='weighted')\n",
        "        f1 = f1_score(actual_labels, predicted_classes, average='weighted')\n",
        "\n",
        "        print(\"Result with model \" + model_name + \" : \")\n",
        "        print(\"=========================================\")\n",
        "        print(\"Accuracy:\", accuracy)\n",
        "        print(\"Precision:\", precision)\n",
        "        print(\"Recall:\", recall)\n",
        "        print(\"F1-score:\", f1)\n",
        "        print(classification_report(actual_labels, predicted_classes))\n",
        "\n",
        "        predicted_classes = np.array(predicted_classes)\n",
        "        actual_labels = np.array(actual_labels)\n",
        "\n",
        "        # Calculate the AUROC score\n",
        "        auroc = roc_auc_score(actual_labels, predicted_classes)\n",
        "        print(\"AUROC:\", auroc)\n",
        "        epoch = epoch + 1\n"
      ],
      "metadata": {
        "id": "QYxUnUjO7DOa",
        "colab": {
          "base_uri": "https://localhost:8080/"
        },
        "outputId": "c1f766d8-5da5-483a-9b41-e8f00085e22c"
      },
      "execution_count": 9,
      "outputs": [
        {
          "output_type": "stream",
          "name": "stderr",
          "text": [
            "/usr/local/lib/python3.10/dist-packages/torchvision/models/_utils.py:208: UserWarning: The parameter 'pretrained' is deprecated since 0.13 and may be removed in the future, please use 'weights' instead.\n",
            "  warnings.warn(\n",
            "/usr/local/lib/python3.10/dist-packages/torchvision/models/_utils.py:223: UserWarning: Arguments other than a weight enum or `None` for 'weights' are deprecated since 0.13 and may be removed in the future. The current behavior is equivalent to passing `weights=None`.\n",
            "  warnings.warn(msg)\n"
          ]
        },
        {
          "output_type": "stream",
          "name": "stdout",
          "text": [
            "Result with model 2_model.pth : \n",
            "=========================================\n",
            "Accuracy: 0.61875\n",
            "Precision: 0.5928156934221068\n",
            "Recall: 0.61875\n",
            "F1-score: 0.5910333226980096\n",
            "              precision    recall  f1-score   support\n",
            "\n",
            "           0       0.66      0.82      0.73      2500\n",
            "           1       0.49      0.29      0.36      1500\n",
            "\n",
            "    accuracy                           0.62      4000\n",
            "   macro avg       0.57      0.55      0.55      4000\n",
            "weighted avg       0.59      0.62      0.59      4000\n",
            "\n",
            "AUROC: 0.5528666666666667\n"
          ]
        },
        {
          "output_type": "stream",
          "name": "stderr",
          "text": [
            "/usr/local/lib/python3.10/dist-packages/torchvision/models/_utils.py:208: UserWarning: The parameter 'pretrained' is deprecated since 0.13 and may be removed in the future, please use 'weights' instead.\n",
            "  warnings.warn(\n",
            "/usr/local/lib/python3.10/dist-packages/torchvision/models/_utils.py:223: UserWarning: Arguments other than a weight enum or `None` for 'weights' are deprecated since 0.13 and may be removed in the future. The current behavior is equivalent to passing `weights=None`.\n",
            "  warnings.warn(msg)\n"
          ]
        },
        {
          "output_type": "stream",
          "name": "stdout",
          "text": [
            "Result with model 3_model.pth : \n",
            "=========================================\n",
            "Accuracy: 0.584\n",
            "Precision: 0.6171678013584296\n",
            "Recall: 0.584\n",
            "F1-score: 0.5905747482587362\n",
            "              precision    recall  f1-score   support\n",
            "\n",
            "           0       0.71      0.56      0.63      2500\n",
            "           1       0.46      0.62      0.53      1500\n",
            "\n",
            "    accuracy                           0.58      4000\n",
            "   macro avg       0.59      0.59      0.58      4000\n",
            "weighted avg       0.62      0.58      0.59      4000\n",
            "\n",
            "AUROC: 0.5913333333333334\n"
          ]
        },
        {
          "output_type": "stream",
          "name": "stderr",
          "text": [
            "/usr/local/lib/python3.10/dist-packages/torchvision/models/_utils.py:208: UserWarning: The parameter 'pretrained' is deprecated since 0.13 and may be removed in the future, please use 'weights' instead.\n",
            "  warnings.warn(\n",
            "/usr/local/lib/python3.10/dist-packages/torchvision/models/_utils.py:223: UserWarning: Arguments other than a weight enum or `None` for 'weights' are deprecated since 0.13 and may be removed in the future. The current behavior is equivalent to passing `weights=None`.\n",
            "  warnings.warn(msg)\n"
          ]
        },
        {
          "output_type": "stream",
          "name": "stdout",
          "text": [
            "Result with model 4_model.pth : \n",
            "=========================================\n",
            "Accuracy: 0.57525\n",
            "Precision: 0.6041554500712818\n",
            "Recall: 0.57525\n",
            "F1-score: 0.5819772554069567\n",
            "              precision    recall  f1-score   support\n",
            "\n",
            "           0       0.70      0.57      0.63      2500\n",
            "           1       0.45      0.59      0.51      1500\n",
            "\n",
            "    accuracy                           0.58      4000\n",
            "   macro avg       0.57      0.58      0.57      4000\n",
            "weighted avg       0.60      0.58      0.58      4000\n",
            "\n",
            "AUROC: 0.5780666666666666\n"
          ]
        },
        {
          "output_type": "stream",
          "name": "stderr",
          "text": [
            "/usr/local/lib/python3.10/dist-packages/torchvision/models/_utils.py:208: UserWarning: The parameter 'pretrained' is deprecated since 0.13 and may be removed in the future, please use 'weights' instead.\n",
            "  warnings.warn(\n",
            "/usr/local/lib/python3.10/dist-packages/torchvision/models/_utils.py:223: UserWarning: Arguments other than a weight enum or `None` for 'weights' are deprecated since 0.13 and may be removed in the future. The current behavior is equivalent to passing `weights=None`.\n",
            "  warnings.warn(msg)\n"
          ]
        },
        {
          "output_type": "stream",
          "name": "stdout",
          "text": [
            "Result with model 5_model.pth : \n",
            "=========================================\n",
            "Accuracy: 0.6045\n",
            "Precision: 0.622112518628912\n",
            "Recall: 0.6045\n",
            "F1-score: 0.6098933820344757\n",
            "              precision    recall  f1-score   support\n",
            "\n",
            "           0       0.71      0.62      0.66      2500\n",
            "           1       0.48      0.57      0.52      1500\n",
            "\n",
            "    accuracy                           0.60      4000\n",
            "   macro avg       0.59      0.60      0.59      4000\n",
            "weighted avg       0.62      0.60      0.61      4000\n",
            "\n",
            "AUROC: 0.5983999999999999\n"
          ]
        },
        {
          "output_type": "stream",
          "name": "stderr",
          "text": [
            "/usr/local/lib/python3.10/dist-packages/torchvision/models/_utils.py:208: UserWarning: The parameter 'pretrained' is deprecated since 0.13 and may be removed in the future, please use 'weights' instead.\n",
            "  warnings.warn(\n",
            "/usr/local/lib/python3.10/dist-packages/torchvision/models/_utils.py:223: UserWarning: Arguments other than a weight enum or `None` for 'weights' are deprecated since 0.13 and may be removed in the future. The current behavior is equivalent to passing `weights=None`.\n",
            "  warnings.warn(msg)\n"
          ]
        },
        {
          "output_type": "stream",
          "name": "stdout",
          "text": [
            "Result with model 6_model.pth : \n",
            "=========================================\n",
            "Accuracy: 0.587\n",
            "Precision: 0.5882157201507298\n",
            "Recall: 0.587\n",
            "F1-score: 0.5875906935586068\n",
            "              precision    recall  f1-score   support\n",
            "\n",
            "           0       0.67      0.67      0.67      2500\n",
            "           1       0.45      0.46      0.45      1500\n",
            "\n",
            "    accuracy                           0.59      4000\n",
            "   macro avg       0.56      0.56      0.56      4000\n",
            "weighted avg       0.59      0.59      0.59      4000\n",
            "\n",
            "AUROC: 0.5609333333333333\n"
          ]
        },
        {
          "output_type": "stream",
          "name": "stderr",
          "text": [
            "/usr/local/lib/python3.10/dist-packages/torchvision/models/_utils.py:208: UserWarning: The parameter 'pretrained' is deprecated since 0.13 and may be removed in the future, please use 'weights' instead.\n",
            "  warnings.warn(\n",
            "/usr/local/lib/python3.10/dist-packages/torchvision/models/_utils.py:223: UserWarning: Arguments other than a weight enum or `None` for 'weights' are deprecated since 0.13 and may be removed in the future. The current behavior is equivalent to passing `weights=None`.\n",
            "  warnings.warn(msg)\n"
          ]
        },
        {
          "output_type": "stream",
          "name": "stdout",
          "text": [
            "Result with model 7_model.pth : \n",
            "=========================================\n",
            "Accuracy: 0.628\n",
            "Precision: 0.619367468786295\n",
            "Recall: 0.628\n",
            "F1-score: 0.6223048922395592\n",
            "              precision    recall  f1-score   support\n",
            "\n",
            "           0       0.69      0.74      0.71      2500\n",
            "           1       0.50      0.44      0.47      1500\n",
            "\n",
            "    accuracy                           0.63      4000\n",
            "   macro avg       0.60      0.59      0.59      4000\n",
            "weighted avg       0.62      0.63      0.62      4000\n",
            "\n",
            "AUROC: 0.5906666666666667\n"
          ]
        },
        {
          "output_type": "stream",
          "name": "stderr",
          "text": [
            "/usr/local/lib/python3.10/dist-packages/torchvision/models/_utils.py:208: UserWarning: The parameter 'pretrained' is deprecated since 0.13 and may be removed in the future, please use 'weights' instead.\n",
            "  warnings.warn(\n",
            "/usr/local/lib/python3.10/dist-packages/torchvision/models/_utils.py:223: UserWarning: Arguments other than a weight enum or `None` for 'weights' are deprecated since 0.13 and may be removed in the future. The current behavior is equivalent to passing `weights=None`.\n",
            "  warnings.warn(msg)\n"
          ]
        },
        {
          "output_type": "stream",
          "name": "stdout",
          "text": [
            "Result with model 8_model.pth : \n",
            "=========================================\n",
            "Accuracy: 0.64975\n",
            "Precision: 0.6338089002551884\n",
            "Recall: 0.64975\n",
            "F1-score: 0.6326320484289949\n",
            "              precision    recall  f1-score   support\n",
            "\n",
            "           0       0.69      0.81      0.74      2500\n",
            "           1       0.55      0.38      0.45      1500\n",
            "\n",
            "    accuracy                           0.65      4000\n",
            "   macro avg       0.62      0.60      0.60      4000\n",
            "weighted avg       0.63      0.65      0.63      4000\n",
            "\n",
            "AUROC: 0.5955333333333334\n"
          ]
        },
        {
          "output_type": "stream",
          "name": "stderr",
          "text": [
            "/usr/local/lib/python3.10/dist-packages/torchvision/models/_utils.py:208: UserWarning: The parameter 'pretrained' is deprecated since 0.13 and may be removed in the future, please use 'weights' instead.\n",
            "  warnings.warn(\n",
            "/usr/local/lib/python3.10/dist-packages/torchvision/models/_utils.py:223: UserWarning: Arguments other than a weight enum or `None` for 'weights' are deprecated since 0.13 and may be removed in the future. The current behavior is equivalent to passing `weights=None`.\n",
            "  warnings.warn(msg)\n"
          ]
        },
        {
          "output_type": "stream",
          "name": "stdout",
          "text": [
            "Result with model 9_model.pth : \n",
            "=========================================\n",
            "Accuracy: 0.582\n",
            "Precision: 0.6426921328438847\n",
            "Recall: 0.582\n",
            "F1-score: 0.5854087220783005\n",
            "              precision    recall  f1-score   support\n",
            "\n",
            "           0       0.75      0.50      0.60      2500\n",
            "           1       0.46      0.72      0.57      1500\n",
            "\n",
            "    accuracy                           0.58      4000\n",
            "   macro avg       0.61      0.61      0.58      4000\n",
            "weighted avg       0.64      0.58      0.59      4000\n",
            "\n",
            "AUROC: 0.6105333333333334\n"
          ]
        },
        {
          "output_type": "stream",
          "name": "stderr",
          "text": [
            "/usr/local/lib/python3.10/dist-packages/torchvision/models/_utils.py:208: UserWarning: The parameter 'pretrained' is deprecated since 0.13 and may be removed in the future, please use 'weights' instead.\n",
            "  warnings.warn(\n",
            "/usr/local/lib/python3.10/dist-packages/torchvision/models/_utils.py:223: UserWarning: Arguments other than a weight enum or `None` for 'weights' are deprecated since 0.13 and may be removed in the future. The current behavior is equivalent to passing `weights=None`.\n",
            "  warnings.warn(msg)\n"
          ]
        },
        {
          "output_type": "stream",
          "name": "stdout",
          "text": [
            "Result with model 10_model.pth : \n",
            "=========================================\n",
            "Accuracy: 0.64375\n",
            "Precision: 0.6452473440088845\n",
            "Recall: 0.64375\n",
            "F1-score: 0.6444605348940402\n",
            "              precision    recall  f1-score   support\n",
            "\n",
            "           0       0.72      0.71      0.71      2500\n",
            "           1       0.52      0.54      0.53      1500\n",
            "\n",
            "    accuracy                           0.64      4000\n",
            "   macro avg       0.62      0.62      0.62      4000\n",
            "weighted avg       0.65      0.64      0.64      4000\n",
            "\n",
            "AUROC: 0.6220666666666667\n"
          ]
        },
        {
          "output_type": "stream",
          "name": "stderr",
          "text": [
            "/usr/local/lib/python3.10/dist-packages/torchvision/models/_utils.py:208: UserWarning: The parameter 'pretrained' is deprecated since 0.13 and may be removed in the future, please use 'weights' instead.\n",
            "  warnings.warn(\n",
            "/usr/local/lib/python3.10/dist-packages/torchvision/models/_utils.py:223: UserWarning: Arguments other than a weight enum or `None` for 'weights' are deprecated since 0.13 and may be removed in the future. The current behavior is equivalent to passing `weights=None`.\n",
            "  warnings.warn(msg)\n"
          ]
        },
        {
          "output_type": "stream",
          "name": "stdout",
          "text": [
            "Result with model 11_model.pth : \n",
            "=========================================\n",
            "Accuracy: 0.62475\n",
            "Precision: 0.6220571306685446\n",
            "Recall: 0.62475\n",
            "F1-score: 0.6232873871286813\n",
            "              precision    recall  f1-score   support\n",
            "\n",
            "           0       0.70      0.71      0.70      2500\n",
            "           1       0.50      0.48      0.49      1500\n",
            "\n",
            "    accuracy                           0.62      4000\n",
            "   macro avg       0.60      0.60      0.60      4000\n",
            "weighted avg       0.62      0.62      0.62      4000\n",
            "\n",
            "AUROC: 0.5960666666666667\n"
          ]
        },
        {
          "output_type": "stream",
          "name": "stderr",
          "text": [
            "/usr/local/lib/python3.10/dist-packages/torchvision/models/_utils.py:208: UserWarning: The parameter 'pretrained' is deprecated since 0.13 and may be removed in the future, please use 'weights' instead.\n",
            "  warnings.warn(\n",
            "/usr/local/lib/python3.10/dist-packages/torchvision/models/_utils.py:223: UserWarning: Arguments other than a weight enum or `None` for 'weights' are deprecated since 0.13 and may be removed in the future. The current behavior is equivalent to passing `weights=None`.\n",
            "  warnings.warn(msg)\n"
          ]
        },
        {
          "output_type": "stream",
          "name": "stdout",
          "text": [
            "Result with model 12_model.pth : \n",
            "=========================================\n",
            "Accuracy: 0.638\n",
            "Precision: 0.6312788259958072\n",
            "Recall: 0.638\n",
            "F1-score: 0.6337455288707203\n",
            "              precision    recall  f1-score   support\n",
            "\n",
            "           0       0.70      0.74      0.72      2500\n",
            "           1       0.52      0.47      0.49      1500\n",
            "\n",
            "    accuracy                           0.64      4000\n",
            "   macro avg       0.61      0.60      0.61      4000\n",
            "weighted avg       0.63      0.64      0.63      4000\n",
            "\n",
            "AUROC: 0.6038666666666667\n"
          ]
        },
        {
          "output_type": "stream",
          "name": "stderr",
          "text": [
            "/usr/local/lib/python3.10/dist-packages/torchvision/models/_utils.py:208: UserWarning: The parameter 'pretrained' is deprecated since 0.13 and may be removed in the future, please use 'weights' instead.\n",
            "  warnings.warn(\n",
            "/usr/local/lib/python3.10/dist-packages/torchvision/models/_utils.py:223: UserWarning: Arguments other than a weight enum or `None` for 'weights' are deprecated since 0.13 and may be removed in the future. The current behavior is equivalent to passing `weights=None`.\n",
            "  warnings.warn(msg)\n"
          ]
        },
        {
          "output_type": "stream",
          "name": "stdout",
          "text": [
            "Result with model 13_model.pth : \n",
            "=========================================\n",
            "Accuracy: 0.64425\n",
            "Precision: 0.6398870990185233\n",
            "Recall: 0.64425\n",
            "F1-score: 0.6416916403244504\n",
            "              precision    recall  f1-score   support\n",
            "\n",
            "           0       0.71      0.73      0.72      2500\n",
            "           1       0.53      0.49      0.51      1500\n",
            "\n",
            "    accuracy                           0.64      4000\n",
            "   macro avg       0.62      0.61      0.62      4000\n",
            "weighted avg       0.64      0.64      0.64      4000\n",
            "\n",
            "AUROC: 0.6140666666666668\n"
          ]
        },
        {
          "output_type": "stream",
          "name": "stderr",
          "text": [
            "/usr/local/lib/python3.10/dist-packages/torchvision/models/_utils.py:208: UserWarning: The parameter 'pretrained' is deprecated since 0.13 and may be removed in the future, please use 'weights' instead.\n",
            "  warnings.warn(\n",
            "/usr/local/lib/python3.10/dist-packages/torchvision/models/_utils.py:223: UserWarning: Arguments other than a weight enum or `None` for 'weights' are deprecated since 0.13 and may be removed in the future. The current behavior is equivalent to passing `weights=None`.\n",
            "  warnings.warn(msg)\n"
          ]
        },
        {
          "output_type": "stream",
          "name": "stdout",
          "text": [
            "Result with model 14_model.pth : \n",
            "=========================================\n",
            "Accuracy: 0.638\n",
            "Precision: 0.6349168560871649\n",
            "Recall: 0.638\n",
            "F1-score: 0.6362864987885878\n",
            "              precision    recall  f1-score   support\n",
            "\n",
            "           0       0.70      0.72      0.71      2500\n",
            "           1       0.52      0.50      0.51      1500\n",
            "\n",
            "    accuracy                           0.64      4000\n",
            "   macro avg       0.61      0.61      0.61      4000\n",
            "weighted avg       0.63      0.64      0.64      4000\n",
            "\n",
            "AUROC: 0.6094666666666667\n"
          ]
        },
        {
          "output_type": "stream",
          "name": "stderr",
          "text": [
            "/usr/local/lib/python3.10/dist-packages/torchvision/models/_utils.py:208: UserWarning: The parameter 'pretrained' is deprecated since 0.13 and may be removed in the future, please use 'weights' instead.\n",
            "  warnings.warn(\n",
            "/usr/local/lib/python3.10/dist-packages/torchvision/models/_utils.py:223: UserWarning: Arguments other than a weight enum or `None` for 'weights' are deprecated since 0.13 and may be removed in the future. The current behavior is equivalent to passing `weights=None`.\n",
            "  warnings.warn(msg)\n"
          ]
        },
        {
          "output_type": "stream",
          "name": "stdout",
          "text": [
            "Result with model 15_model.pth : \n",
            "=========================================\n",
            "Accuracy: 0.61\n",
            "Precision: 0.6292211226108634\n",
            "Recall: 0.61\n",
            "F1-score: 0.6155448810695062\n",
            "              precision    recall  f1-score   support\n",
            "\n",
            "           0       0.72      0.62      0.67      2500\n",
            "           1       0.48      0.59      0.53      1500\n",
            "\n",
            "    accuracy                           0.61      4000\n",
            "   macro avg       0.60      0.61      0.60      4000\n",
            "weighted avg       0.63      0.61      0.62      4000\n",
            "\n",
            "AUROC: 0.6059999999999999\n"
          ]
        },
        {
          "output_type": "stream",
          "name": "stderr",
          "text": [
            "/usr/local/lib/python3.10/dist-packages/torchvision/models/_utils.py:208: UserWarning: The parameter 'pretrained' is deprecated since 0.13 and may be removed in the future, please use 'weights' instead.\n",
            "  warnings.warn(\n",
            "/usr/local/lib/python3.10/dist-packages/torchvision/models/_utils.py:223: UserWarning: Arguments other than a weight enum or `None` for 'weights' are deprecated since 0.13 and may be removed in the future. The current behavior is equivalent to passing `weights=None`.\n",
            "  warnings.warn(msg)\n"
          ]
        },
        {
          "output_type": "stream",
          "name": "stdout",
          "text": [
            "Result with model 16_model.pth : \n",
            "=========================================\n",
            "Accuracy: 0.6395\n",
            "Precision: 0.6267987978109393\n",
            "Recall: 0.6395\n",
            "F1-score: 0.6292507648471355\n",
            "              precision    recall  f1-score   support\n",
            "\n",
            "           0       0.69      0.77      0.73      2500\n",
            "           1       0.52      0.42      0.46      1500\n",
            "\n",
            "    accuracy                           0.64      4000\n",
            "   macro avg       0.61      0.59      0.60      4000\n",
            "weighted avg       0.63      0.64      0.63      4000\n",
            "\n",
            "AUROC: 0.5948\n"
          ]
        },
        {
          "output_type": "stream",
          "name": "stderr",
          "text": [
            "/usr/local/lib/python3.10/dist-packages/torchvision/models/_utils.py:208: UserWarning: The parameter 'pretrained' is deprecated since 0.13 and may be removed in the future, please use 'weights' instead.\n",
            "  warnings.warn(\n",
            "/usr/local/lib/python3.10/dist-packages/torchvision/models/_utils.py:223: UserWarning: Arguments other than a weight enum or `None` for 'weights' are deprecated since 0.13 and may be removed in the future. The current behavior is equivalent to passing `weights=None`.\n",
            "  warnings.warn(msg)\n"
          ]
        },
        {
          "output_type": "stream",
          "name": "stdout",
          "text": [
            "Result with model 17_model.pth : \n",
            "=========================================\n",
            "Accuracy: 0.67175\n",
            "Precision: 0.662699782033395\n",
            "Recall: 0.67175\n",
            "F1-score: 0.6643246313073282\n",
            "              precision    recall  f1-score   support\n",
            "\n",
            "           0       0.72      0.79      0.75      2500\n",
            "           1       0.58      0.48      0.52      1500\n",
            "\n",
            "    accuracy                           0.67      4000\n",
            "   macro avg       0.65      0.63      0.64      4000\n",
            "weighted avg       0.66      0.67      0.66      4000\n",
            "\n",
            "AUROC: 0.6325999999999999\n"
          ]
        },
        {
          "output_type": "stream",
          "name": "stderr",
          "text": [
            "/usr/local/lib/python3.10/dist-packages/torchvision/models/_utils.py:208: UserWarning: The parameter 'pretrained' is deprecated since 0.13 and may be removed in the future, please use 'weights' instead.\n",
            "  warnings.warn(\n",
            "/usr/local/lib/python3.10/dist-packages/torchvision/models/_utils.py:223: UserWarning: Arguments other than a weight enum or `None` for 'weights' are deprecated since 0.13 and may be removed in the future. The current behavior is equivalent to passing `weights=None`.\n",
            "  warnings.warn(msg)\n"
          ]
        },
        {
          "output_type": "stream",
          "name": "stdout",
          "text": [
            "Result with model 18_model.pth : \n",
            "=========================================\n",
            "Accuracy: 0.597\n",
            "Precision: 0.6220579351220406\n",
            "Recall: 0.597\n",
            "F1-score: 0.6032446116667446\n",
            "              precision    recall  f1-score   support\n",
            "\n",
            "           0       0.71      0.59      0.65      2500\n",
            "           1       0.47      0.60      0.53      1500\n",
            "\n",
            "    accuracy                           0.60      4000\n",
            "   macro avg       0.59      0.60      0.59      4000\n",
            "weighted avg       0.62      0.60      0.60      4000\n",
            "\n",
            "AUROC: 0.5977333333333333\n"
          ]
        },
        {
          "output_type": "stream",
          "name": "stderr",
          "text": [
            "/usr/local/lib/python3.10/dist-packages/torchvision/models/_utils.py:208: UserWarning: The parameter 'pretrained' is deprecated since 0.13 and may be removed in the future, please use 'weights' instead.\n",
            "  warnings.warn(\n",
            "/usr/local/lib/python3.10/dist-packages/torchvision/models/_utils.py:223: UserWarning: Arguments other than a weight enum or `None` for 'weights' are deprecated since 0.13 and may be removed in the future. The current behavior is equivalent to passing `weights=None`.\n",
            "  warnings.warn(msg)\n"
          ]
        },
        {
          "output_type": "stream",
          "name": "stdout",
          "text": [
            "Result with model 19_model.pth : \n",
            "=========================================\n",
            "Accuracy: 0.61775\n",
            "Precision: 0.6295050184665172\n",
            "Recall: 0.61775\n",
            "F1-score: 0.6219160806861564\n",
            "              precision    recall  f1-score   support\n",
            "\n",
            "           0       0.71      0.65      0.68      2500\n",
            "           1       0.49      0.56      0.52      1500\n",
            "\n",
            "    accuracy                           0.62      4000\n",
            "   macro avg       0.60      0.61      0.60      4000\n",
            "weighted avg       0.63      0.62      0.62      4000\n",
            "\n",
            "AUROC: 0.6064666666666666\n"
          ]
        },
        {
          "output_type": "stream",
          "name": "stderr",
          "text": [
            "/usr/local/lib/python3.10/dist-packages/torchvision/models/_utils.py:208: UserWarning: The parameter 'pretrained' is deprecated since 0.13 and may be removed in the future, please use 'weights' instead.\n",
            "  warnings.warn(\n",
            "/usr/local/lib/python3.10/dist-packages/torchvision/models/_utils.py:223: UserWarning: Arguments other than a weight enum or `None` for 'weights' are deprecated since 0.13 and may be removed in the future. The current behavior is equivalent to passing `weights=None`.\n",
            "  warnings.warn(msg)\n"
          ]
        },
        {
          "output_type": "stream",
          "name": "stdout",
          "text": [
            "Result with model 20_model.pth : \n",
            "=========================================\n",
            "Accuracy: 0.59075\n",
            "Precision: 0.6246226969509412\n",
            "Recall: 0.59075\n",
            "F1-score: 0.597200368733082\n",
            "              precision    recall  f1-score   support\n",
            "\n",
            "           0       0.72      0.57      0.63      2500\n",
            "           1       0.47      0.63      0.54      1500\n",
            "\n",
            "    accuracy                           0.59      4000\n",
            "   macro avg       0.59      0.60      0.59      4000\n",
            "weighted avg       0.62      0.59      0.60      4000\n",
            "\n",
            "AUROC: 0.5991333333333333\n"
          ]
        }
      ]
    },
    {
      "cell_type": "code",
      "source": [
        "accuracy = accuracy_score(actual_labels, predicted_classes)\n",
        "precision = precision_score(actual_labels, predicted_classes, average='weighted')\n",
        "recall = recall_score(actual_labels, predicted_classes, average='weighted')\n",
        "f1 = f1_score(actual_labels, predicted_classes, average='weighted')\n",
        "\n",
        "print(\"Accuracy:\", accuracy)\n",
        "print(\"Precision:\", precision)\n",
        "print(\"Recall:\", recall)\n",
        "print(\"F1-score:\", f1)"
      ],
      "metadata": {
        "id": "SiJYzy3heKgR"
      },
      "execution_count": null,
      "outputs": []
    },
    {
      "cell_type": "code",
      "source": [
        "print(classification_report(actual_labels, predicted_classes))"
      ],
      "metadata": {
        "id": "1PEdbnvj0vPK"
      },
      "execution_count": null,
      "outputs": []
    },
    {
      "cell_type": "code",
      "source": [
        "labels = ['Accuracy', 'Precision', 'Recall', 'F1-score']\n",
        "values = [accuracy, precision, recall, f1]\n",
        "\n",
        "x = np.arange(len(labels))\n",
        "\n",
        "fig, ax = plt.subplots(figsize=(5, 4))\n",
        "bars = ax.bar(x, values)\n",
        "\n",
        "# labels, title, and legend\n",
        "ax.set_xlabel('Metrics')\n",
        "ax.set_ylabel('Score')\n",
        "ax.set_title('Model Performance Metrics')\n",
        "ax.set_xticks(x)\n",
        "ax.set_xticklabels(labels)\n",
        "\n",
        "# scores on top of each bar\n",
        "for i, bar in enumerate(bars):\n",
        "    score = values[i]\n",
        "    ax.text(bar.get_x() + bar.get_width() / 2, bar.get_height(), f'{score:.2f}', ha='center', va='bottom')\n",
        "\n",
        "plt.show()"
      ],
      "metadata": {
        "id": "xSO-PViWdHwB"
      },
      "execution_count": null,
      "outputs": []
    },
    {
      "cell_type": "code",
      "source": [
        "from sklearn.metrics import confusion_matrix, ConfusionMatrixDisplay\n",
        "cm = confusion_matrix(actual_labels, predicted_classes)\n",
        "ConfusionMatrixDisplay(cm).plot()"
      ],
      "metadata": {
        "id": "6UgUV1DcD_J0"
      },
      "execution_count": null,
      "outputs": []
    },
    {
      "cell_type": "code",
      "source": [
        "# Count the occurrences of each label in predicted and true labels\n",
        "predicted_counts = np.bincount(predicted_classes)\n",
        "true_counts = np.bincount(actual_labels)\n",
        "\n",
        "# Get the unique labels\n",
        "labels = np.unique(np.concatenate((predicted_classes, actual_labels)))\n",
        "\n",
        "# Set the x-axis range\n",
        "x = np.arange(len(labels))\n",
        "\n",
        "# Set the width of the bars\n",
        "width = 0.35\n",
        "\n",
        "# Plot the predicted and true label counts\n",
        "fig, ax = plt.subplots(figsize=(5,5))\n",
        "ax.bar(x - width/2, predicted_counts, width, label='Predicted Labels')\n",
        "ax.bar(x + width/2, true_counts, width, label='True Labels')\n",
        "\n",
        "# Add labels, title, and legend\n",
        "ax.set_xlabel('Labels')\n",
        "ax.set_ylabel('Count')\n",
        "ax.set_title('Distribution of Predicted and True Labels')\n",
        "ax.set_xticks(x)\n",
        "ax.set_xticklabels(labels)\n",
        "ax.legend()\n",
        "\n",
        "plt.show()"
      ],
      "metadata": {
        "id": "55bbdFyXajU8"
      },
      "execution_count": null,
      "outputs": []
    },
    {
      "cell_type": "code",
      "source": [],
      "metadata": {
        "id": "sLUhPIJuD43X"
      },
      "execution_count": null,
      "outputs": []
    }
  ]
}