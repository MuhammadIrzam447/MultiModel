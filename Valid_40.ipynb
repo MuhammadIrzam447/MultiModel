{
  "nbformat": 4,
  "nbformat_minor": 0,
  "metadata": {
    "colab": {
      "provenance": [],
      "gpuType": "T4",
      "include_colab_link": true
    },
    "kernelspec": {
      "name": "python3",
      "display_name": "Python 3"
    },
    "language_info": {
      "name": "python"
    },
    "accelerator": "GPU"
  },
  "cells": [
    {
      "cell_type": "markdown",
      "metadata": {
        "id": "view-in-github",
        "colab_type": "text"
      },
      "source": [
        "<a href=\"https://colab.research.google.com/github/MuhammadIrzam447/MultiModel/blob/master/Valid_40.ipynb\" target=\"_parent\"><img src=\"https://colab.research.google.com/assets/colab-badge.svg\" alt=\"Open In Colab\"/></a>"
      ]
    },
    {
      "cell_type": "code",
      "source": [
        "# !gdown https://drive.google.com/uc?id=1kl1NQvbcre7ktBmaxvdZ5fN_EmQQicBL"
      ],
      "metadata": {
        "id": "VhXCwAGe33A1"
      },
      "execution_count": 1,
      "outputs": []
    },
    {
      "cell_type": "code",
      "source": [
        "# !gdown https://drive.google.com/uc?id=1pdQLXnI3eykHzTITaDIRNyroPs25aSUS"
      ],
      "metadata": {
        "id": "5hxKWwzVIUPv"
      },
      "execution_count": 2,
      "outputs": []
    },
    {
      "cell_type": "code",
      "source": [
        "# !unzip /content/mulitmodal_joint_224x224.zip"
      ],
      "metadata": {
        "id": "QeiVZuVoIQlQ"
      },
      "execution_count": 3,
      "outputs": []
    },
    {
      "cell_type": "code",
      "execution_count": 4,
      "metadata": {
        "id": "ObgVtPmABT7d"
      },
      "outputs": [],
      "source": [
        "from google.colab import drive\n",
        "import pandas as pd\n",
        "import os\n",
        "from PIL import Image\n",
        "import torch\n",
        "from torchvision import datasets, transforms\n",
        "import torchvision.models as models\n",
        "from torchvision.datasets import ImageFolder\n",
        "import torchvision\n",
        "import torch.nn as nn\n",
        "import torch.optim as optim\n",
        "from sklearn.metrics import confusion_matrix\n",
        "from sklearn.metrics import precision_recall_fscore_support\n",
        "from sklearn.metrics import accuracy_score, precision_score, recall_score, f1_score\n",
        "import matplotlib.pyplot as plt\n",
        "import seaborn as sns\n",
        "import numpy as np\n",
        "from PIL import UnidentifiedImageError\n",
        "from sklearn.metrics import classification_report, roc_auc_score"
      ]
    },
    {
      "cell_type": "code",
      "source": [
        "if torch.cuda.is_available():\n",
        "    device = torch.device(\"cuda\")\n",
        "else:\n",
        "    device = torch.device(\"cpu\")\n",
        "print(device)"
      ],
      "metadata": {
        "id": "pziXvdPgU58B",
        "colab": {
          "base_uri": "https://localhost:8080/"
        },
        "outputId": "70aa947c-1d05-400e-e634-9ed37b03d564"
      },
      "execution_count": 5,
      "outputs": [
        {
          "output_type": "stream",
          "name": "stdout",
          "text": [
            "cuda\n"
          ]
        }
      ]
    },
    {
      "cell_type": "code",
      "source": [
        "# from google.colab import drive\n",
        "# drive.mount('/content/drive', force_remount=True)"
      ],
      "metadata": {
        "id": "8EPDp91Tyicv"
      },
      "execution_count": 6,
      "outputs": []
    },
    {
      "cell_type": "markdown",
      "source": [
        "# Loading Validation Dataset and Preprocessing"
      ],
      "metadata": {
        "id": "p3yzu25SYhKf"
      }
    },
    {
      "cell_type": "code",
      "source": [
        "save_dir = '/content/'\n",
        "load_path = os.path.join(save_dir, 'fused+joint_model.pth')\n",
        "\n",
        "# Create an instance of the ResNet model\n",
        "resnet = torchvision.models.resnet101(pretrained=False)\n",
        "resnet.fc = nn.Linear(2048, 101) # Choose the number of output classses as per your model\n",
        "\n",
        "# Load the saved model parameters\n",
        "resnet.load_state_dict(torch.load(load_path))\n",
        "# resnet.load_state_dict(torch.load(load_path, map_location=torch.device('cpu')))\n",
        "\n",
        "# Set the model to evaluation mode and respective device\n",
        "resnet.eval()\n",
        "resnet.to(device)"
      ],
      "metadata": {
        "id": "6gITvuS1n91U"
      },
      "execution_count": null,
      "outputs": []
    },
    {
      "cell_type": "code",
      "source": [
        "val_transform = transforms.Compose([\n",
        "    transforms.Resize((224, 224)),\n",
        "    transforms.ToTensor(),\n",
        "    transforms.Normalize(mean=[0.485, 0.456, 0.406], std=[0.229, 0.224, 0.225])\n",
        "])"
      ],
      "metadata": {
        "id": "4ElOxuNZvqLy"
      },
      "execution_count": 8,
      "outputs": []
    },
    {
      "cell_type": "code",
      "source": [
        "class ValidationDataset(torch.utils.data.Dataset):\n",
        "    def __init__(self, data_dir, val_transform):\n",
        "        self.data_dir = data_dir\n",
        "        self.dataset = datasets.ImageFolder(data_dir)\n",
        "        self.classes = self.dataset.classes\n",
        "        self.val_transform = val_transform\n",
        "\n",
        "        self.selected_indices = []\n",
        "        for class_idx in range(len(self.classes)):\n",
        "            indices = [idx for idx, (_, label) in enumerate(self.dataset.samples) if label == class_idx]\n",
        "            indices_3 = [idx for idx in indices if self.dataset.samples[idx][0].endswith(\"_3.png\")]    # _3.png are the encoded_text images\n",
        "            indices_4 = [idx for idx in indices if self.dataset.samples[idx][0].endswith(\"_4.png\")]    # _4.png are the actual images\n",
        "\n",
        "            self.selected_indices.extend(indices_4)\n",
        "            # self.selected_indices.extend(indices_3)\n",
        "        print(\"Selected Indices:\", len(self.selected_indices))\n",
        "        # for idx in self.selected_indices:\n",
        "          # print(self.dataset.samples[idx][0])\n",
        "\n",
        "    def __getitem__(self, index):\n",
        "        # print(\"Entered get_item\")\n",
        "        img, label = self.dataset[self.selected_indices[index]]\n",
        "        filename = self.dataset.samples[self.selected_indices[index]][0]\n",
        "        image_3 = None\n",
        "        image_4 = None\n",
        "        if filename.endswith(\"_4.png\"):\n",
        "                image_4 = img\n",
        "                image_4_path = filename\n",
        "                # print(\"image_4_path: \", str(filename))\n",
        "                image_3_path = filename.replace('_4.png', '_3.png')\n",
        "                # print(\"image_3_path: \", str(image_3_path))\n",
        "                image_3 = self._load_image(image_3_path)\n",
        "        else:\n",
        "                image_3 = img\n",
        "                image_3_path = filename\n",
        "                # print(\"image_3_path: \", str(filename))\n",
        "                image_4_path = filename.replace('_3.png', '_4.png')\n",
        "                # print(\"image_4_path: \", str(image_4_path))\n",
        "                image_4 = self._load_image(image_4_path)\n",
        "\n",
        "        # print(\"Exit get_item\")\n",
        "        return image_3, image_4, label, image_3_path, image_4_path\n",
        "\n",
        "    def _load_image(self, path):\n",
        "        image = Image.open(path)\n",
        "        return image\n",
        "\n",
        "    def __len__(self):\n",
        "        return len(self.selected_indices)"
      ],
      "metadata": {
        "id": "ZEqVuNvcMgvo"
      },
      "execution_count": 9,
      "outputs": []
    },
    {
      "cell_type": "code",
      "source": [
        "valPath = \"/content/mulitmodal/test\"\n",
        "val_dataset = ValidationDataset(valPath,val_transform)"
      ],
      "metadata": {
        "id": "4UfrxOQ3sCgB",
        "colab": {
          "base_uri": "https://localhost:8080/"
        },
        "outputId": "9780ef14-0ed0-4b98-e8b3-b805e074258b"
      },
      "execution_count": 10,
      "outputs": [
        {
          "output_type": "stream",
          "name": "stdout",
          "text": [
            "Selected Indices: 22716\n"
          ]
        }
      ]
    },
    {
      "cell_type": "code",
      "source": [
        "def custom_collate(batch):\n",
        "    to_tensor = transforms.ToTensor()\n",
        "    val_transform = transforms.Compose([\n",
        "        transforms.Resize((224, 224)),\n",
        "        transforms.ToTensor(),\n",
        "        transforms.Normalize(mean=[0.485, 0.456, 0.406], std=[0.229, 0.224, 0.225])\n",
        "    ])\n",
        "\n",
        "    images_3 = [val_transform(item[0]) for item in batch]\n",
        "    images_4 = [val_transform(item[1]) for item in batch]\n",
        "    labels = [torch.tensor(item[2]) for item in batch]\n",
        "\n",
        "    images_3 = torch.stack(images_3)\n",
        "    images_4 = torch.stack(images_4)\n",
        "\n",
        "    # Print the filenames in each list\n",
        "    # print(\"Filenames in images_3 list:\")\n",
        "    # for item in batch:\n",
        "    #     if item[0] is not None:\n",
        "    #         print(item[3])\n",
        "\n",
        "    # print(\"Filenames in images_4 list:\")\n",
        "    # for item in batch:\n",
        "    #     if item[1] is not None:\n",
        "    #         print(item[4])\n",
        "\n",
        "    return images_3, images_4, labels"
      ],
      "metadata": {
        "id": "snzYnvozBPgC"
      },
      "execution_count": 11,
      "outputs": []
    },
    {
      "cell_type": "code",
      "source": [
        "batch_size = 16\n",
        "validation_data_loader = torch.utils.data.DataLoader(val_dataset, batch_size=batch_size, shuffle=False, collate_fn=custom_collate)"
      ],
      "metadata": {
        "id": "8e-uQ6lqVhmI"
      },
      "execution_count": 12,
      "outputs": []
    },
    {
      "cell_type": "code",
      "source": [
        "print(\"Number of samples:\", len(val_dataset))\n",
        "print(\"Number of classes:\", len(val_dataset.classes))"
      ],
      "metadata": {
        "id": "oShp-fOcVmYs",
        "colab": {
          "base_uri": "https://localhost:8080/"
        },
        "outputId": "f6d619ac-52ff-482a-9444-db5094bcff8e"
      },
      "execution_count": 13,
      "outputs": [
        {
          "output_type": "stream",
          "name": "stdout",
          "text": [
            "Number of samples: 22716\n",
            "Number of classes: 101\n"
          ]
        }
      ]
    },
    {
      "cell_type": "code",
      "source": [
        "num_batches = len(validation_data_loader)\n",
        "print(\"Number of batches:\", num_batches)"
      ],
      "metadata": {
        "id": "l_2_YsDRCJL7",
        "colab": {
          "base_uri": "https://localhost:8080/"
        },
        "outputId": "4037e63f-1733-46cd-c55b-2cfaa33a26fd"
      },
      "execution_count": 14,
      "outputs": [
        {
          "output_type": "stream",
          "name": "stdout",
          "text": [
            "Number of batches: 1420\n"
          ]
        }
      ]
    },
    {
      "cell_type": "markdown",
      "source": [
        "# Validation"
      ],
      "metadata": {
        "id": "RbwN0R_b2tMA"
      }
    },
    {
      "cell_type": "code",
      "source": [
        "resnet.eval()\n",
        "\n",
        "# Initialize lists to store the average probabilities and true labels\n",
        "predicted_labels = []\n",
        "true_labels = []\n",
        "\n",
        "# Iterate over the dataloader in your testing loop\n",
        "for images_3, images_4, labels in validation_data_loader:\n",
        "\n",
        "    # images_3 = images_3.to(device)\n",
        "    images_4 = images_4.to(device)\n",
        "\n",
        "    # logits_3 = resnet(images_3)\n",
        "    logits_4 = resnet(images_4)\n",
        "    logits_3 = torch.zeros_like(logits_4)\n",
        "\n",
        "    probabilities_3 = torch.softmax(logits_3, dim=1)\n",
        "    probabilities_4 = torch.softmax(logits_4, dim=1)\n",
        "\n",
        "    avg_probabilities_batch = (probabilities_3 + probabilities_4) / 2\n",
        "\n",
        "    predicted_labels.extend(avg_probabilities_batch.cpu().tolist())\n",
        "\n",
        "    true_labels.extend(labels)"
      ],
      "metadata": {
        "id": "QYxUnUjO7DOa"
      },
      "execution_count": 15,
      "outputs": []
    },
    {
      "cell_type": "code",
      "source": [
        "predicted_classes = torch.argmax(torch.tensor(predicted_labels), dim=1)\n",
        "actual_labels = torch.tensor(true_labels)"
      ],
      "metadata": {
        "id": "9PWM8Xhck2Xy"
      },
      "execution_count": 16,
      "outputs": []
    },
    {
      "cell_type": "code",
      "source": [
        "accuracy = accuracy_score(actual_labels, predicted_classes)\n",
        "precision = precision_score(actual_labels, predicted_classes, average='weighted')\n",
        "recall = recall_score(actual_labels, predicted_classes, average='weighted')\n",
        "f1 = f1_score(actual_labels, predicted_classes, average='weighted')\n",
        "\n",
        "print(\"Accuracy:\", accuracy)\n",
        "print(\"Precision:\", precision)\n",
        "print(\"Recall:\", recall)\n",
        "print(\"F1-score:\", f1)"
      ],
      "metadata": {
        "id": "SiJYzy3heKgR",
        "colab": {
          "base_uri": "https://localhost:8080/"
        },
        "outputId": "b6bda1a8-6d49-486e-b722-e52f16fe8888"
      },
      "execution_count": 17,
      "outputs": [
        {
          "output_type": "stream",
          "name": "stdout",
          "text": [
            "Accuracy: 0.6633210072195809\n",
            "Precision: 0.6679116106351729\n",
            "Recall: 0.6633210072195809\n",
            "F1-score: 0.6616168141493377\n"
          ]
        }
      ]
    },
    {
      "cell_type": "code",
      "source": [
        "print(classification_report(actual_labels, predicted_classes))"
      ],
      "metadata": {
        "id": "1PEdbnvj0vPK",
        "colab": {
          "base_uri": "https://localhost:8080/"
        },
        "outputId": "f0e7e42c-4d67-4705-cc3d-cf4529609f67"
      },
      "execution_count": 18,
      "outputs": [
        {
          "output_type": "stream",
          "name": "stdout",
          "text": [
            "              precision    recall  f1-score   support\n",
            "\n",
            "           0       0.61      0.54      0.57       234\n",
            "           1       0.64      0.71      0.67       221\n",
            "           2       0.85      0.82      0.83       226\n",
            "           3       0.67      0.72      0.69       222\n",
            "           4       0.54      0.47      0.50       225\n",
            "           5       0.61      0.83      0.70       224\n",
            "           6       0.66      0.68      0.67       224\n",
            "           7       0.69      0.62      0.65       225\n",
            "           8       0.60      0.58      0.59       226\n",
            "           9       0.69      0.65      0.67       214\n",
            "          10       0.76      0.69      0.72       231\n",
            "          11       0.76      0.79      0.77       227\n",
            "          12       0.67      0.65      0.66       230\n",
            "          13       0.76      0.77      0.76       220\n",
            "          14       0.72      0.57      0.63       231\n",
            "          15       0.54      0.63      0.59       227\n",
            "          16       0.46      0.58      0.51       224\n",
            "          17       0.77      0.64      0.70       233\n",
            "          18       0.59      0.72      0.65       222\n",
            "          19       0.64      0.64      0.64       220\n",
            "          20       0.80      0.80      0.80       219\n",
            "          21       0.69      0.71      0.70       232\n",
            "          22       0.62      0.63      0.62       224\n",
            "          23       0.91      0.64      0.75       230\n",
            "          24       0.72      0.76      0.74       224\n",
            "          25       0.72      0.82      0.77       220\n",
            "          26       0.69      0.69      0.69       221\n",
            "          27       0.79      0.78      0.78       225\n",
            "          28       0.60      0.75      0.66       224\n",
            "          29       0.64      0.60      0.62       228\n",
            "          30       0.84      0.94      0.89       229\n",
            "          31       0.72      0.66      0.69       232\n",
            "          32       0.59      0.46      0.52       228\n",
            "          33       0.63      0.67      0.65       231\n",
            "          34       0.73      0.80      0.76       213\n",
            "          35       0.59      0.46      0.52       202\n",
            "          36       0.71      0.61      0.66       228\n",
            "          37       0.56      0.65      0.60       212\n",
            "          38       0.59      0.54      0.56       208\n",
            "          39       0.48      0.42      0.45       216\n",
            "          40       0.68      0.69      0.69       212\n",
            "          41       0.76      0.78      0.77       223\n",
            "          42       0.66      0.54      0.60       238\n",
            "          43       0.82      0.67      0.74       212\n",
            "          44       0.60      0.71      0.65       229\n",
            "          45       0.49      0.58      0.53       233\n",
            "          46       0.46      0.72      0.56       224\n",
            "          47       0.60      0.53      0.56       234\n",
            "          48       0.64      0.80      0.71       223\n",
            "          49       0.73      0.79      0.76       229\n",
            "          50       0.70      0.72      0.71       225\n",
            "          51       0.82      0.79      0.80       228\n",
            "          52       0.54      0.63      0.58       232\n",
            "          53       0.48      0.49      0.49       233\n",
            "          54       0.69      0.52      0.60       203\n",
            "          55       0.45      0.49      0.47       234\n",
            "          56       0.67      0.65      0.66       223\n",
            "          57       0.69      0.62      0.65       234\n",
            "          58       0.45      0.40      0.42       232\n",
            "          59       0.73      0.79      0.76       233\n",
            "          60       0.67      0.63      0.65       197\n",
            "          61       0.46      0.40      0.43       215\n",
            "          62       0.52      0.66      0.59       238\n",
            "          63       0.75      0.78      0.77       231\n",
            "          64       0.67      0.75      0.71       227\n",
            "          65       0.80      0.82      0.81       234\n",
            "          66       0.73      0.69      0.71       224\n",
            "          67       0.61      0.65      0.63       231\n",
            "          68       0.70      0.77      0.74       217\n",
            "          69       0.80      0.50      0.62       223\n",
            "          70       0.70      0.75      0.72       230\n",
            "          71       0.82      0.72      0.77       228\n",
            "          72       0.79      0.71      0.75       234\n",
            "          73       0.72      0.76      0.74       225\n",
            "          74       0.54      0.48      0.51       211\n",
            "          75       0.68      0.69      0.69       218\n",
            "          76       0.66      0.75      0.70       235\n",
            "          77       0.62      0.48      0.54       227\n",
            "          78       0.55      0.75      0.63       210\n",
            "          79       0.78      0.79      0.78       220\n",
            "          80       0.75      0.83      0.79       224\n",
            "          81       0.52      0.51      0.52       232\n",
            "          82       0.71      0.43      0.53       236\n",
            "          83       0.73      0.78      0.76       227\n",
            "          84       0.55      0.62      0.58       236\n",
            "          85       0.74      0.67      0.71       215\n",
            "          86       0.55      0.41      0.47       226\n",
            "          87       0.65      0.56      0.60       228\n",
            "          88       0.74      0.67      0.70       219\n",
            "          89       0.67      0.60      0.63       228\n",
            "          90       0.82      0.85      0.84       213\n",
            "          91       0.79      0.86      0.82       218\n",
            "          92       0.75      0.78      0.76       230\n",
            "          93       0.54      0.38      0.45       229\n",
            "          94       0.70      0.83      0.76       223\n",
            "          95       0.79      0.61      0.69       237\n",
            "          96       0.61      0.65      0.63       233\n",
            "          97       0.68      0.70      0.69       223\n",
            "          98       0.78      0.77      0.78       232\n",
            "          99       0.51      0.58      0.54       211\n",
            "         100       0.77      0.80      0.78       235\n",
            "\n",
            "    accuracy                           0.66     22716\n",
            "   macro avg       0.67      0.66      0.66     22716\n",
            "weighted avg       0.67      0.66      0.66     22716\n",
            "\n"
          ]
        }
      ]
    },
    {
      "cell_type": "code",
      "source": [
        "# predicted_classes = np.array(predicted_classes)\n",
        "# actual_labels = np.array(actual_labels)\n",
        "# # Calculate the AUROC score\n",
        "# auroc = roc_auc_score(actual_labels, predicted_classes)\n",
        "# print(\"AUROC:\", auroc)"
      ],
      "metadata": {
        "id": "9eccIpOdeq_9"
      },
      "execution_count": 19,
      "outputs": []
    },
    {
      "cell_type": "code",
      "source": [
        "# from sklearn import metrics\n",
        "# fpr, tpr, _ = metrics.roc_curve(actual_labels,  predicted_classes)\n",
        "# plt.plot(fpr,tpr)\n",
        "# plt.ylabel('True Positive Rate')\n",
        "# plt.xlabel('False Positive Rate')\n",
        "# plt.show()"
      ],
      "metadata": {
        "id": "wwkCt43qIoO8"
      },
      "execution_count": 20,
      "outputs": []
    },
    {
      "cell_type": "code",
      "source": [
        "from sklearn.metrics import confusion_matrix, ConfusionMatrixDisplay\n",
        "cm = confusion_matrix(actual_labels, predicted_classes)\n",
        "print(cm)"
      ],
      "metadata": {
        "id": "obEkbeIttC3P",
        "colab": {
          "base_uri": "https://localhost:8080/"
        },
        "outputId": "c103cc47-e0a8-49aa-cf03-bf0572ca8075"
      },
      "execution_count": 21,
      "outputs": [
        {
          "output_type": "stream",
          "name": "stdout",
          "text": [
            "[[127   1   6 ...   1   0   6]\n",
            " [  0 157   0 ...   0   1   0]\n",
            " [  3   0 185 ...   0   0   1]\n",
            " ...\n",
            " [  0   1   0 ... 179   0   2]\n",
            " [  0   0   0 ...   0 123   0]\n",
            " [  2   0   0 ...   1   0 187]]\n"
          ]
        }
      ]
    },
    {
      "cell_type": "code",
      "source": [
        "labels = ['Accuracy', 'Precision', 'Recall', 'F1-score']\n",
        "values = [accuracy, precision, recall, f1]\n",
        "\n",
        "x = np.arange(len(labels))\n",
        "\n",
        "fig, ax = plt.subplots(figsize=(5, 4))\n",
        "bars = ax.bar(x, values)\n",
        "\n",
        "# labels, title, and legend\n",
        "ax.set_xlabel('Metrics')\n",
        "ax.set_ylabel('Score')\n",
        "ax.set_title('Model Performance Metrics')\n",
        "ax.set_xticks(x)\n",
        "ax.set_xticklabels(labels)\n",
        "\n",
        "# scores on top of each bar\n",
        "for i, bar in enumerate(bars):\n",
        "    score = values[i]\n",
        "    ax.text(bar.get_x() + bar.get_width() / 2, bar.get_height(), f'{score:.2f}', ha='center', va='bottom')\n",
        "\n",
        "plt.show()"
      ],
      "metadata": {
        "id": "xSO-PViWdHwB",
        "colab": {
          "base_uri": "https://localhost:8080/",
          "height": 410
        },
        "outputId": "e2dd096d-78cb-4fd4-9409-fecb2b7109e4"
      },
      "execution_count": 22,
      "outputs": [
        {
          "output_type": "display_data",
          "data": {
            "text/plain": [
              "<Figure size 500x400 with 1 Axes>"
            ],
            "image/png": "[encoded data removed]"
          },
          "metadata": {}
        }
      ]
    },
    {
      "cell_type": "code",
      "source": [
        "# Count the occurrences of each label in predicted and true labels\n",
        "predicted_counts = np.bincount(predicted_classes)\n",
        "true_counts = np.bincount(actual_labels)\n",
        "\n",
        "# Get the unique labels\n",
        "labels = np.unique(np.concatenate((predicted_classes, actual_labels)))\n",
        "\n",
        "# Set the x-axis range\n",
        "x = np.arange(len(labels))\n",
        "\n",
        "# Set the width of the bars\n",
        "width = 0.35\n",
        "\n",
        "# Plot the predicted and true label counts\n",
        "fig, ax = plt.subplots(figsize=(5,5))\n",
        "ax.bar(x - width/2, predicted_counts, width, label='Predicted Labels')\n",
        "ax.bar(x + width/2, true_counts, width, label='True Labels')\n",
        "\n",
        "# Add labels, title, and legend\n",
        "ax.set_xlabel('Labels')\n",
        "ax.set_ylabel('Count')\n",
        "ax.set_title('Distribution of Predicted and True Labels')\n",
        "ax.set_xticks(x)\n",
        "ax.set_xticklabels(labels)\n",
        "ax.legend()\n",
        "\n",
        "plt.show()"
      ],
      "metadata": {
        "id": "55bbdFyXajU8",
        "colab": {
          "base_uri": "https://localhost:8080/",
          "height": 487
        },
        "outputId": "40783593-cf5b-4867-c9bc-ddd244e7fcfd"
      },
      "execution_count": 23,
      "outputs": [
        {
          "output_type": "display_data",
          "data": {
            "text/plain": [
              "<Figure size 500x500 with 1 Axes>"
            ],
            "image/png": "[encoded data removed]"
          },
          "metadata": {}
        }
      ]
    },
    {
      "cell_type": "code",
      "source": [],
      "metadata": {
        "id": "HySmURlWw6oz"
      },
      "execution_count": 23,
      "outputs": []
    }
  ]
}