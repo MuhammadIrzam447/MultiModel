{
  "cells": [
    {
      "cell_type": "markdown",
      "metadata": {
        "id": "view-in-github",
        "colab_type": "text"
      },
      "source": [
        "<a href=\"https://colab.research.google.com/github/MuhammadIrzam447/MultiModel/blob/master/Valid_97.ipynb\" target=\"_parent\"><img src=\"https://colab.research.google.com/assets/colab-badge.svg\" alt=\"Open In Colab\"/></a>"
      ]
    },
    {
      "cell_type": "markdown",
      "source": [
        "# Load Model\n"
      ],
      "metadata": {
        "id": "L47YXGj6RfJU"
      }
    },
    {
      "cell_type": "code",
      "source": [
        "!pip install transformers evaluate datasets\n",
        "import requests\n",
        "import torch\n",
        "from PIL import Image\n",
        "from transformers import *\n",
        "from tqdm import tqdm"
      ],
      "metadata": {
        "id": "HTftvdBXRhTJ"
      },
      "execution_count": null,
      "outputs": []
    },
    {
      "cell_type": "code",
      "source": [
        "device = \"cuda\" if torch.cuda.is_available() else \"cpu\"\n",
        "print(device)"
      ],
      "metadata": {
        "id": "dPOyq7dZbgNA",
        "colab": {
          "base_uri": "https://localhost:8080/"
        },
        "outputId": "30de1129-0e5c-4aad-a83b-7111cb5ea89b"
      },
      "execution_count": null,
      "outputs": [
        {
          "output_type": "stream",
          "name": "stdout",
          "text": [
            "cuda\n"
          ]
        }
      ]
    },
    {
      "cell_type": "code",
      "source": [
        "model = ViTForImageClassification.from_pretrained(f\"/content/Model/Models-Train-27/checkpoint-3000\").to(device)\n",
        "image_processor = ViTImageProcessor.from_pretrained(f\"/content/Model/Models-Train-27/checkpoint-3000\")"
      ],
      "metadata": {
        "id": "S-XQj67uRnpo"
      },
      "execution_count": null,
      "outputs": []
    },
    {
      "cell_type": "markdown",
      "source": [
        "# Standard Experiment"
      ],
      "metadata": {
        "id": "YDcxpk7uWLbk"
      }
    },
    {
      "cell_type": "code",
      "source": [
        "from datasets import load_dataset\n",
        "\n",
        "ds = load_dataset(\"imagefolder\", data_dir=\"/content/Dataset(s)/joint-food-101/test\", split=\"train\")"
      ],
      "metadata": {
        "id": "l0qEQ73bRr2q"
      },
      "execution_count": null,
      "outputs": []
    },
    {
      "cell_type": "code",
      "source": [
        "ds"
      ],
      "metadata": {
        "id": "DhVQICV0Y3OT"
      },
      "execution_count": null,
      "outputs": []
    },
    {
      "cell_type": "markdown",
      "source": [
        "# 100% Missing Modality Experiment"
      ],
      "metadata": {
        "id": "tNSGzVxwT8id"
      }
    },
    {
      "cell_type": "code",
      "source": [
        "from datasets import load_dataset\n",
        "\n",
        "ds = load_dataset(\"imagefolder\", data_dir=\"/content/Dataset(s)/jointHF-train+test_unseen/test\", split=\"train\")"
      ],
      "metadata": {
        "id": "9t3tUjEOobHx"
      },
      "execution_count": null,
      "outputs": []
    },
    {
      "cell_type": "code",
      "source": [
        "ds"
      ],
      "metadata": {
        "id": "2a8txJ5noazk"
      },
      "execution_count": null,
      "outputs": []
    },
    {
      "cell_type": "code",
      "source": [
        "# Use _3.png for Filtering out Encoded Images\n",
        "# Use _4.png for Filtering out Just Images\n",
        "\n",
        "import os\n",
        "def filter_funtion(example):\n",
        "    img = example[\"image\"]\n",
        "    filename = os.path.basename(img.filename)\n",
        "\n",
        "    return filename.endswith(\"_3.png\")"
      ],
      "metadata": {
        "id": "tmA7PAcIRsLs"
      },
      "execution_count": null,
      "outputs": []
    },
    {
      "cell_type": "code",
      "source": [
        "ds = ds.filter(filter_funtion)"
      ],
      "metadata": {
        "id": "Cg2lXK6iRshv"
      },
      "execution_count": null,
      "outputs": []
    },
    {
      "cell_type": "code",
      "source": [
        "ds"
      ],
      "metadata": {
        "id": "54yCsBF3dY-1"
      },
      "execution_count": null,
      "outputs": []
    },
    {
      "cell_type": "code",
      "source": [
        "# for i in range(0,10):\n",
        "#     sample = ds[i]\n",
        "#     img = sample[\"image\"]\n",
        "#     filename = os.path.basename(img.filename)\n",
        "#     print(f\"File Name: {filename}\")"
      ],
      "metadata": {
        "id": "TZkE_GLwbpPP"
      },
      "execution_count": null,
      "outputs": []
    },
    {
      "cell_type": "markdown",
      "source": [
        "# Partial Missing Modality Experiment"
      ],
      "metadata": {
        "id": "T4MxEdN6Z3-w"
      }
    },
    {
      "cell_type": "code",
      "source": [
        "from datasets import load_dataset\n",
        "from datasets import concatenate_datasets"
      ],
      "metadata": {
        "id": "MZqABTvOSOge"
      },
      "execution_count": null,
      "outputs": []
    },
    {
      "cell_type": "code",
      "source": [
        "# Load the Fused Dataset\n",
        "ds_f = load_dataset(\"imagefolder\", data_dir=\"/content/Dataset(s)/fused-ferramenta-val\", split=\"train\")"
      ],
      "metadata": {
        "id": "JCHbZm-9Z4g-"
      },
      "execution_count": null,
      "outputs": []
    },
    {
      "cell_type": "code",
      "source": [
        "ds_f"
      ],
      "metadata": {
        "id": "NIGDiWC5bdlG"
      },
      "execution_count": null,
      "outputs": []
    },
    {
      "cell_type": "code",
      "source": [
        "# Desired Percentage = Total - Missing\n",
        "import math\n",
        "desired_percentage = 0.9"
      ],
      "metadata": {
        "id": "NHvNJixxiWbG"
      },
      "execution_count": null,
      "outputs": []
    },
    {
      "cell_type": "code",
      "source": [
        "from collections import Counter\n",
        "\n",
        "class_counts = Counter(ds_f['label'])\n",
        "print(class_counts)"
      ],
      "metadata": {
        "id": "baC1KaBJedyb"
      },
      "execution_count": null,
      "outputs": []
    },
    {
      "cell_type": "code",
      "source": [
        "selected_indices = {label: [] for label in class_counts.keys()}\n",
        "print(selected_indices)"
      ],
      "metadata": {
        "id": "xaOkLcbQhoMu"
      },
      "execution_count": null,
      "outputs": []
    },
    {
      "cell_type": "code",
      "source": [
        "# Iterate through the dataset to select indices for each class\n",
        "for i, label in enumerate(ds_f[\"label\"]):\n",
        "    if len(selected_indices[label]) < math.ceil(class_counts[label] * desired_percentage):\n",
        "        selected_indices[label].append(i)"
      ],
      "metadata": {
        "id": "WrsfQ_XIiAdj"
      },
      "execution_count": null,
      "outputs": []
    },
    {
      "cell_type": "code",
      "source": [
        "# selected_indices"
      ],
      "metadata": {
        "id": "GYovdX5niN8W"
      },
      "execution_count": null,
      "outputs": []
    },
    {
      "cell_type": "code",
      "source": [
        "# Flatten the selected indices list\n",
        "selected_indices = [idx for indices in selected_indices.values() for idx in indices]"
      ],
      "metadata": {
        "id": "CRZN72hmiAwd"
      },
      "execution_count": null,
      "outputs": []
    },
    {
      "cell_type": "code",
      "source": [
        "# selected_indices"
      ],
      "metadata": {
        "id": "gTieKxZtijB4"
      },
      "execution_count": null,
      "outputs": []
    },
    {
      "cell_type": "code",
      "source": [
        "# Filter the dataset to select the desired samples\n",
        "fused_ds = ds_f.select(selected_indices)"
      ],
      "metadata": {
        "id": "thqg4To-ijJj"
      },
      "execution_count": null,
      "outputs": []
    },
    {
      "cell_type": "code",
      "source": [
        "fused_ds"
      ],
      "metadata": {
        "id": "Xn7s-OsOikD7"
      },
      "execution_count": null,
      "outputs": []
    },
    {
      "cell_type": "code",
      "source": [],
      "metadata": {
        "id": "i6xM19xBQxDU"
      },
      "execution_count": null,
      "outputs": []
    },
    {
      "cell_type": "code",
      "source": [
        "# Load the Joint Dataset and Filter out Just the Images\n",
        "ds_joint = load_dataset(\"imagefolder\", data_dir=\"/content/Dataset(s)/joint-ferramenta/images-val\", split=\"train\")"
      ],
      "metadata": {
        "id": "sT6AjXHbZ_yQ"
      },
      "execution_count": null,
      "outputs": []
    },
    {
      "cell_type": "code",
      "source": [
        "# Use _4.png for Filtering out Just Images\n",
        "\n",
        "import os\n",
        "def filter_funtion(example):\n",
        "    img = example[\"image\"]\n",
        "    filename = os.path.basename(img.filename)\n",
        "\n",
        "    return filename.endswith(\"_4.png\")"
      ],
      "metadata": {
        "id": "mHZVYTkLXR0S"
      },
      "execution_count": null,
      "outputs": []
    },
    {
      "cell_type": "code",
      "source": [
        "ds_imgs = ds_joint.filter(filter_funtion)"
      ],
      "metadata": {
        "id": "VUKkW-RpXXAA"
      },
      "execution_count": null,
      "outputs": []
    },
    {
      "cell_type": "code",
      "source": [
        "ds_imgs"
      ],
      "metadata": {
        "id": "O2Z_OK3Abf5Z"
      },
      "execution_count": null,
      "outputs": []
    },
    {
      "cell_type": "code",
      "source": [
        "# for i in range(10,100):\n",
        "#     sample = ds_imgs[i]\n",
        "#     img = sample[\"image\"]\n",
        "#     filename = os.path.basename(img.filename)\n",
        "#     print(f\"File Name: {filename}\")"
      ],
      "metadata": {
        "id": "LI8vGBBvXjE6"
      },
      "execution_count": null,
      "outputs": []
    },
    {
      "cell_type": "code",
      "source": [
        "all_indices = range(len(ds_imgs))\n",
        "print(all_indices)"
      ],
      "metadata": {
        "id": "BUMZ6PnAlDII"
      },
      "execution_count": null,
      "outputs": []
    },
    {
      "cell_type": "code",
      "source": [
        "remaining_indices = [idx for idx in all_indices if idx not in selected_indices]"
      ],
      "metadata": {
        "id": "ua1ndJDRlEHq"
      },
      "execution_count": null,
      "outputs": []
    },
    {
      "cell_type": "code",
      "source": [
        "# remaining_indices"
      ],
      "metadata": {
        "id": "2Ow4V9M4mYc0"
      },
      "execution_count": null,
      "outputs": []
    },
    {
      "cell_type": "code",
      "source": [
        "missing_ds = ds_imgs.select(remaining_indices)"
      ],
      "metadata": {
        "id": "4CclYb-QlEaf"
      },
      "execution_count": null,
      "outputs": []
    },
    {
      "cell_type": "code",
      "source": [
        "missing_ds"
      ],
      "metadata": {
        "id": "nc4qLVlOlDbW"
      },
      "execution_count": null,
      "outputs": []
    },
    {
      "cell_type": "code",
      "source": [],
      "metadata": {
        "id": "EovV49T4lchq"
      },
      "execution_count": null,
      "outputs": []
    },
    {
      "cell_type": "code",
      "source": [
        "# Combine Both Datasets"
      ],
      "metadata": {
        "id": "M_V9NRBjVDyj"
      },
      "execution_count": null,
      "outputs": []
    },
    {
      "cell_type": "code",
      "source": [
        "ds = concatenate_datasets([fused_ds, missing_ds])"
      ],
      "metadata": {
        "id": "hcI42LE0SxJK"
      },
      "execution_count": null,
      "outputs": []
    },
    {
      "cell_type": "code",
      "source": [
        "ds"
      ],
      "metadata": {
        "id": "RdXZ8N_mTlp2"
      },
      "execution_count": null,
      "outputs": []
    },
    {
      "cell_type": "markdown",
      "source": [
        "# Pre-Processing and Final Validation Loop"
      ],
      "metadata": {
        "id": "owny-Ab5UDeL"
      }
    },
    {
      "cell_type": "code",
      "source": [
        "labels = ds.features[\"label\"]\n",
        "labels"
      ],
      "metadata": {
        "id": "aWw9vz58Rswv"
      },
      "execution_count": null,
      "outputs": []
    },
    {
      "cell_type": "code",
      "source": [
        "labels.int2str(ds[532][\"label\"])"
      ],
      "metadata": {
        "id": "Pcsmrr7CRs2U"
      },
      "execution_count": null,
      "outputs": []
    },
    {
      "cell_type": "code",
      "source": [
        "def transform(examples):\n",
        "  inputs = image_processor([img.convert(\"RGB\") for img in examples[\"image\"]], return_tensors=\"pt\")\n",
        "  inputs[\"labels\"] = examples[\"label\"]\n",
        "\n",
        "  return inputs"
      ],
      "metadata": {
        "id": "d53u7d5wSFTK"
      },
      "execution_count": null,
      "outputs": []
    },
    {
      "cell_type": "code",
      "source": [
        "dataset = ds.with_transform(transform)"
      ],
      "metadata": {
        "id": "INvdn194SKrH"
      },
      "execution_count": null,
      "outputs": []
    },
    {
      "cell_type": "code",
      "source": [
        "dataset"
      ],
      "metadata": {
        "id": "81wgIvz4jnY8"
      },
      "execution_count": null,
      "outputs": []
    },
    {
      "cell_type": "code",
      "source": [
        "for item in dataset:\n",
        "  print(item[\"pixel_values\"].shape)\n",
        "  print(item[\"labels\"])\n",
        "  break"
      ],
      "metadata": {
        "id": "xUKMYB72SKy6"
      },
      "execution_count": null,
      "outputs": []
    },
    {
      "cell_type": "code",
      "source": [
        "labels = ds.features[\"label\"].names\n",
        "labels"
      ],
      "metadata": {
        "id": "qSCm8qtpSK39"
      },
      "execution_count": null,
      "outputs": []
    },
    {
      "cell_type": "code",
      "source": [
        "import torch\n",
        "\n",
        "def collate_fn(batch):\n",
        "  return {\n",
        "      \"pixel_values\": torch.stack([x[\"pixel_values\"] for x in batch]),\n",
        "      \"labels\": torch.tensor([x[\"labels\"] for x in batch]),\n",
        "  }"
      ],
      "metadata": {
        "id": "NLK2ZaNMSWeO"
      },
      "execution_count": null,
      "outputs": []
    },
    {
      "cell_type": "code",
      "source": [
        "dataset"
      ],
      "metadata": {
        "id": "fWGtz6DHSW_Z"
      },
      "execution_count": null,
      "outputs": []
    },
    {
      "cell_type": "code",
      "source": [
        "from torch.utils.tensorboard import SummaryWriter\n",
        "from torch.optim import AdamW\n",
        "from torch.utils.data import DataLoader"
      ],
      "metadata": {
        "id": "JoC5e4rNSXG6"
      },
      "execution_count": null,
      "outputs": []
    },
    {
      "cell_type": "code",
      "source": [
        "batch_size = 32"
      ],
      "metadata": {
        "id": "WHwCv8BNQy1Z"
      },
      "execution_count": null,
      "outputs": []
    },
    {
      "cell_type": "code",
      "source": [
        "valid_dataset_loader = DataLoader(dataset, collate_fn=collate_fn, batch_size=batch_size, shuffle=False)"
      ],
      "metadata": {
        "id": "ksE7LXsjJHV1"
      },
      "execution_count": null,
      "outputs": []
    },
    {
      "cell_type": "code",
      "source": [
        "model = model.to(device)\n",
        "model.eval()\n",
        "predictions, labels = [], []\n",
        "# valid_loss = 0\n",
        "for batch in valid_dataset_loader:\n",
        "    pixel_values = batch[\"pixel_values\"].to(device)\n",
        "    label_ids = batch[\"labels\"].to(device)\n",
        "\n",
        "    outputs = model(pixel_values=pixel_values, labels=label_ids)\n",
        "\n",
        "    # loss = outputs.loss\n",
        "    # valid_loss += loss.item()\n",
        "\n",
        "    logits = outputs.logits.detach().cpu()\n",
        "\n",
        "    predictions.extend(logits.argmax(dim=-1).tolist())\n",
        "    labels.extend(label_ids.tolist())"
      ],
      "metadata": {
        "id": "Ds5lGgqNTCbT"
      },
      "execution_count": null,
      "outputs": []
    },
    {
      "cell_type": "code",
      "source": [
        "from sklearn.metrics import accuracy_score, precision_score, recall_score, f1_score, roc_auc_score, confusion_matrix, classification_report\n",
        "\n",
        "accuracy = accuracy_score(labels, predictions)\n",
        "precision = precision_score(labels, predictions, average='weighted')\n",
        "recall = recall_score(labels, predictions, average='weighted')\n",
        "f1 = f1_score(labels, predictions, average='weighted')\n",
        "AUROC_score = roc_auc_score(labels, predictions)"
      ],
      "metadata": {
        "id": "hXiw87_oSXVu"
      },
      "execution_count": null,
      "outputs": []
    },
    {
      "cell_type": "code",
      "source": [
        "print(\"Accuracy: \", accuracy)\n",
        "print(\"precision: \", precision)\n",
        "print(\"f1_score: \", f1)\n",
        "print(\"recall\", recall)\n",
        "print(\"AUROC_score: \", AUROC_score)"
      ],
      "metadata": {
        "id": "9bI8z4cdkY8V"
      },
      "execution_count": null,
      "outputs": []
    },
    {
      "cell_type": "code",
      "source": [
        "print(classification_report(labels, predictions))"
      ],
      "metadata": {
        "id": "CN74YVSNmi6C"
      },
      "execution_count": null,
      "outputs": []
    },
    {
      "cell_type": "code",
      "source": [
        "cm = confusion_matrix(labels, predictions)\n",
        "print(cm)"
      ],
      "metadata": {
        "id": "n245g_YoVnpE"
      },
      "execution_count": null,
      "outputs": []
    },
    {
      "cell_type": "markdown",
      "source": [
        "# Joint Representation Experiment\n"
      ],
      "metadata": {
        "id": "xdGUx2tqa9Ka"
      }
    },
    {
      "cell_type": "code",
      "source": [
        "from datasets import load_dataset\n",
        "\n",
        "ds = load_dataset(\"imagefolder\", data_dir=\"/content/Dataset(s)/jointHF-train+test_unseen/test\", split=\"train\")"
      ],
      "metadata": {
        "id": "B86BkdmibHqX",
        "colab": {
          "base_uri": "https://localhost:8080/",
          "height": 49,
          "referenced_widgets": [
            "061ce972545b4c1cbadb52a4e8477567",
            "885278b509ef4cf0bf93f22ca6353808",
            "b1632d2993b84c749843c3a79d500565",
            "83495d758c58484cb3e038faa00d6c2b",
            "73c9508c7618472e999fe4b1c1038fb7",
            "69e3d7dc188b4d08981770539055a454",
            "bf1b04e1a7a043489f86ea43acad4ce0",
            "b4539849ed364c939d6f2749ac55444e",
            "c068c5bb37954439a598526a584d18e6",
            "f4be789a83ed487f8f121516a46ea7f4",
            "23c7567ada0246418006cac95cf536a5"
          ]
        },
        "outputId": "827a21f0-8f85-4624-ed4e-13ad7121bf61"
      },
      "execution_count": null,
      "outputs": [
        {
          "output_type": "display_data",
          "data": {
            "text/plain": [
              "Resolving data files:   0%|          | 0/4000 [00:00<?, ?it/s]"
            ],
            "application/vnd.jupyter.widget-view+json": {
              "version_major": 2,
              "version_minor": 0,
              "model_id": "061ce972545b4c1cbadb52a4e8477567"
            }
          },
          "metadata": {}
        }
      ]
    },
    {
      "cell_type": "code",
      "source": [
        "ds"
      ],
      "metadata": {
        "id": "ScMq-RSrbfv-",
        "colab": {
          "base_uri": "https://localhost:8080/"
        },
        "outputId": "96b6aa9e-cc98-4b24-b793-7385f4cd0365"
      },
      "execution_count": null,
      "outputs": [
        {
          "output_type": "execute_result",
          "data": {
            "text/plain": [
              "Dataset({\n",
              "    features: ['image', 'label'],\n",
              "    num_rows: 4000\n",
              "})"
            ]
          },
          "metadata": {},
          "execution_count": 5
        }
      ]
    },
    {
      "cell_type": "code",
      "source": [
        "# Use _3.png for Filtering out Encoded Images\n",
        "# Use _4.png for Filtering out Just Images\n",
        "\n",
        "import os\n",
        "def filter_funtion(example):\n",
        "    img = example[\"image\"]\n",
        "    filename = os.path.basename(img.filename)\n",
        "\n",
        "    return filename.endswith(\"_3.png\")"
      ],
      "metadata": {
        "id": "N7odOyUDbgm3"
      },
      "execution_count": null,
      "outputs": []
    },
    {
      "cell_type": "code",
      "source": [
        "ds_3 = ds.filter(filter_funtion)"
      ],
      "metadata": {
        "id": "ZEKEZa54bgyy"
      },
      "execution_count": null,
      "outputs": []
    },
    {
      "cell_type": "code",
      "source": [
        "ds_3"
      ],
      "metadata": {
        "id": "J1MpL2Y-bg89",
        "colab": {
          "base_uri": "https://localhost:8080/"
        },
        "outputId": "d7b94aaf-a385-494e-9644-16d1cc257403"
      },
      "execution_count": null,
      "outputs": [
        {
          "output_type": "execute_result",
          "data": {
            "text/plain": [
              "Dataset({\n",
              "    features: ['image', 'label'],\n",
              "    num_rows: 2000\n",
              "})"
            ]
          },
          "metadata": {},
          "execution_count": 8
        }
      ]
    },
    {
      "cell_type": "code",
      "source": [
        "for i in range(0,5):\n",
        "    sample = ds_3[i]\n",
        "    img = sample[\"image\"]\n",
        "    filename = os.path.basename(img.filename)\n",
        "    print(f\"File Name: {filename}\")"
      ],
      "metadata": {
        "id": "oHdCk9fdboTu",
        "colab": {
          "base_uri": "https://localhost:8080/"
        },
        "outputId": "6c7f26fd-a2b1-45ed-b7ab-bd78cc000948"
      },
      "execution_count": null,
      "outputs": [
        {
          "output_type": "stream",
          "name": "stdout",
          "text": [
            "File Name: 01285.jpg_3.png\n",
            "File Name: 01358.jpg_3.png\n",
            "File Name: 01397.jpg_3.png\n",
            "File Name: 01425.jpg_3.png\n",
            "File Name: 01567.jpg_3.png\n"
          ]
        }
      ]
    },
    {
      "cell_type": "markdown",
      "source": [
        "Image Dataset"
      ],
      "metadata": {
        "id": "pUR98hM6cShO"
      }
    },
    {
      "cell_type": "code",
      "source": [
        "# Use _3.png for Filtering out Encoded Images\n",
        "# Use _4.png for Filtering out Just Images\n",
        "\n",
        "import os\n",
        "def filter_funtion(example):\n",
        "    img = example[\"image\"]\n",
        "    filename = os.path.basename(img.filename)\n",
        "\n",
        "    return filename.endswith(\"_4.png\")"
      ],
      "metadata": {
        "id": "CrYlTFWrbybS"
      },
      "execution_count": null,
      "outputs": []
    },
    {
      "cell_type": "code",
      "source": [
        "ds_4 = ds.filter(filter_funtion)"
      ],
      "metadata": {
        "id": "EQE1Pa3qb0C7"
      },
      "execution_count": null,
      "outputs": []
    },
    {
      "cell_type": "code",
      "source": [
        "ds_4"
      ],
      "metadata": {
        "id": "764v9riwb0XK",
        "colab": {
          "base_uri": "https://localhost:8080/"
        },
        "outputId": "65551297-e103-47aa-b7c1-38ab94b01d9e"
      },
      "execution_count": null,
      "outputs": [
        {
          "output_type": "execute_result",
          "data": {
            "text/plain": [
              "Dataset({\n",
              "    features: ['image', 'label'],\n",
              "    num_rows: 2000\n",
              "})"
            ]
          },
          "metadata": {},
          "execution_count": 12
        }
      ]
    },
    {
      "cell_type": "code",
      "source": [
        "for i in range(0,5):\n",
        "    sample = ds_4[i]\n",
        "    img = sample[\"image\"]\n",
        "    filename = os.path.basename(img.filename)\n",
        "    print(f\"File Name: {filename}\")"
      ],
      "metadata": {
        "id": "dy8VGOCKb5sB",
        "colab": {
          "base_uri": "https://localhost:8080/"
        },
        "outputId": "0ceae770-6f3f-4250-c2f3-e21caf375ba1"
      },
      "execution_count": null,
      "outputs": [
        {
          "output_type": "stream",
          "name": "stdout",
          "text": [
            "File Name: 01285.jpg_4.png\n",
            "File Name: 01358.jpg_4.png\n",
            "File Name: 01397.jpg_4.png\n",
            "File Name: 01425.jpg_4.png\n",
            "File Name: 01567.jpg_4.png\n"
          ]
        }
      ]
    },
    {
      "cell_type": "markdown",
      "source": [
        "Pre-processing"
      ],
      "metadata": {
        "id": "1XTcE425cgcs"
      }
    },
    {
      "cell_type": "code",
      "source": [
        "labels = ds.features[\"label\"]\n",
        "labels"
      ],
      "metadata": {
        "id": "1f2eWYYfcJLh",
        "colab": {
          "base_uri": "https://localhost:8080/"
        },
        "outputId": "91ead2ed-fca2-4ec8-cce3-b9a0da15f1ac"
      },
      "execution_count": null,
      "outputs": [
        {
          "output_type": "execute_result",
          "data": {
            "text/plain": [
              "ClassLabel(names=['0', '1'], id=None)"
            ]
          },
          "metadata": {},
          "execution_count": 14
        }
      ]
    },
    {
      "cell_type": "code",
      "source": [
        "labels.int2str(ds[532][\"label\"])"
      ],
      "metadata": {
        "id": "AqH9DebleBIb",
        "colab": {
          "base_uri": "https://localhost:8080/",
          "height": 36
        },
        "outputId": "d0d38dcc-6601-4d18-9892-a05d20f79959"
      },
      "execution_count": null,
      "outputs": [
        {
          "output_type": "execute_result",
          "data": {
            "text/plain": [
              "'0'"
            ],
            "application/vnd.google.colaboratory.intrinsic+json": {
              "type": "string"
            }
          },
          "metadata": {},
          "execution_count": 15
        }
      ]
    },
    {
      "cell_type": "code",
      "source": [
        "def transform(examples):\n",
        "  inputs = image_processor([img.convert(\"RGB\") for img in examples[\"image\"]], return_tensors=\"pt\")\n",
        "  inputs[\"labels\"] = examples[\"label\"]\n",
        "\n",
        "  return inputs"
      ],
      "metadata": {
        "id": "TmpnCkjweBP2"
      },
      "execution_count": null,
      "outputs": []
    },
    {
      "cell_type": "code",
      "source": [
        "dataset_3 = ds_3.with_transform(transform)\n",
        "dataset_4 = ds_4.with_transform(transform)"
      ],
      "metadata": {
        "id": "nY0BnBoyeBSK"
      },
      "execution_count": null,
      "outputs": []
    },
    {
      "cell_type": "code",
      "source": [
        "dataset_3"
      ],
      "metadata": {
        "id": "o_n2ntAbeBVE",
        "colab": {
          "base_uri": "https://localhost:8080/"
        },
        "outputId": "fc919f8f-0c05-4a5d-bdfd-c85246ef27c0"
      },
      "execution_count": null,
      "outputs": [
        {
          "output_type": "execute_result",
          "data": {
            "text/plain": [
              "Dataset({\n",
              "    features: ['image', 'label'],\n",
              "    num_rows: 2000\n",
              "})"
            ]
          },
          "metadata": {},
          "execution_count": 18
        }
      ]
    },
    {
      "cell_type": "code",
      "source": [
        "dataset_4"
      ],
      "metadata": {
        "id": "mNLEFNFgeqwp",
        "colab": {
          "base_uri": "https://localhost:8080/"
        },
        "outputId": "f4a5118a-1844-4cee-9617-4458a1d307f3"
      },
      "execution_count": null,
      "outputs": [
        {
          "output_type": "execute_result",
          "data": {
            "text/plain": [
              "Dataset({\n",
              "    features: ['image', 'label'],\n",
              "    num_rows: 2000\n",
              "})"
            ]
          },
          "metadata": {},
          "execution_count": 19
        }
      ]
    },
    {
      "cell_type": "code",
      "source": [
        "for item in dataset_4:\n",
        "  print(item[\"pixel_values\"].shape)\n",
        "  print(item[\"labels\"])\n",
        "  break"
      ],
      "metadata": {
        "id": "V6yuQT1XeBXd",
        "colab": {
          "base_uri": "https://localhost:8080/"
        },
        "outputId": "febf79bf-769a-4971-c21d-a25cd8345b3b"
      },
      "execution_count": null,
      "outputs": [
        {
          "output_type": "stream",
          "name": "stdout",
          "text": [
            "torch.Size([3, 224, 224])\n",
            "0\n"
          ]
        }
      ]
    },
    {
      "cell_type": "code",
      "source": [
        "labels = ds.features[\"label\"].names\n",
        "labels"
      ],
      "metadata": {
        "id": "lKgSfme0eMuM",
        "colab": {
          "base_uri": "https://localhost:8080/"
        },
        "outputId": "dfe367d1-81eb-4ea3-b14d-dca34fdc239b"
      },
      "execution_count": null,
      "outputs": [
        {
          "output_type": "execute_result",
          "data": {
            "text/plain": [
              "['0', '1']"
            ]
          },
          "metadata": {},
          "execution_count": 21
        }
      ]
    },
    {
      "cell_type": "code",
      "source": [
        "num_of_classes = len(labels)\n",
        "print(num_of_classes)"
      ],
      "metadata": {
        "id": "_EFVx_SEF0MI",
        "colab": {
          "base_uri": "https://localhost:8080/"
        },
        "outputId": "e5e03883-a925-4366-f2d3-a1349862c618"
      },
      "execution_count": null,
      "outputs": [
        {
          "output_type": "stream",
          "name": "stdout",
          "text": [
            "2\n"
          ]
        }
      ]
    },
    {
      "cell_type": "code",
      "source": [
        "import torch\n",
        "\n",
        "def collate_fn(batch):\n",
        "  return {\n",
        "      \"pixel_values\": torch.stack([x[\"pixel_values\"] for x in batch]),\n",
        "      \"labels\": torch.tensor([x[\"labels\"] for x in batch]),\n",
        "  }"
      ],
      "metadata": {
        "id": "AJT_xQ0SeM0m"
      },
      "execution_count": null,
      "outputs": []
    },
    {
      "cell_type": "code",
      "source": [
        "from torch.utils.tensorboard import SummaryWriter\n",
        "from torch.optim import AdamW\n",
        "from torch.utils.data import DataLoader"
      ],
      "metadata": {
        "id": "hRVTRPm-eM2v"
      },
      "execution_count": null,
      "outputs": []
    },
    {
      "cell_type": "code",
      "source": [
        "batch_size = 32"
      ],
      "metadata": {
        "id": "OxwpjW_teM5j"
      },
      "execution_count": null,
      "outputs": []
    },
    {
      "cell_type": "code",
      "source": [
        "valid_dataset_loader_4 = DataLoader(dataset_4, collate_fn=collate_fn, batch_size=batch_size, shuffle=False)"
      ],
      "metadata": {
        "id": "onzQrvN6eM8D"
      },
      "execution_count": null,
      "outputs": []
    },
    {
      "cell_type": "code",
      "source": [
        "print(len(valid_dataset_loader_4))"
      ],
      "metadata": {
        "id": "wkJmRB0pe2sW",
        "colab": {
          "base_uri": "https://localhost:8080/"
        },
        "outputId": "dd3c4a7f-2fda-4836-8dfb-aa596074f5df"
      },
      "execution_count": null,
      "outputs": [
        {
          "output_type": "stream",
          "name": "stdout",
          "text": [
            "63\n"
          ]
        }
      ]
    },
    {
      "cell_type": "code",
      "source": [
        "valid_dataset_loader_3 = DataLoader(dataset_3, collate_fn=collate_fn, batch_size=batch_size, shuffle=False)"
      ],
      "metadata": {
        "id": "z7SpP_D5eM-y"
      },
      "execution_count": null,
      "outputs": []
    },
    {
      "cell_type": "code",
      "source": [
        "print(len(valid_dataset_loader_3))"
      ],
      "metadata": {
        "id": "Or8io6aUe5ol",
        "colab": {
          "base_uri": "https://localhost:8080/"
        },
        "outputId": "58834b58-e470-44e2-904a-6743e7f22622"
      },
      "execution_count": null,
      "outputs": [
        {
          "output_type": "stream",
          "name": "stdout",
          "text": [
            "63\n"
          ]
        }
      ]
    },
    {
      "cell_type": "code",
      "source": [
        "num_batches = len(valid_dataset_loader_3)\n",
        "num_batches_with_logits_3 = int(num_batches * 0.3)  # ___% of batches that you want to include (30 for now)\n",
        "print(\"Total Batches: \", num_batches)\n",
        "print(\"Missing Modaility Batches: \", num_batches_with_logits_3)"
      ],
      "metadata": {
        "id": "yY3YYjzjgCRN",
        "colab": {
          "base_uri": "https://localhost:8080/"
        },
        "outputId": "9ff43f64-d27b-48ef-f9b8-ec6c583c44a3"
      },
      "execution_count": null,
      "outputs": [
        {
          "output_type": "stream",
          "name": "stdout",
          "text": [
            "Total Batches:  63\n",
            "Missing Modaility Batches:  18\n"
          ]
        }
      ]
    },
    {
      "cell_type": "code",
      "source": [
        "import random\n",
        "\n",
        "controller = random.sample(range(1, num_batches), num_batches_with_logits_3)\n",
        "controller = sorted(controller)"
      ],
      "metadata": {
        "id": "U8_ulHfwSx8R"
      },
      "execution_count": null,
      "outputs": []
    },
    {
      "cell_type": "code",
      "source": [
        "controller, len(controller)"
      ],
      "metadata": {
        "id": "Sdtq07IETnuh",
        "outputId": "5f0abd6d-77a8-4f41-89a4-34220bb04684",
        "colab": {
          "base_uri": "https://localhost:8080/"
        }
      },
      "execution_count": null,
      "outputs": [
        {
          "output_type": "execute_result",
          "data": {
            "text/plain": [
              "([1, 3, 9, 12, 13, 14, 20, 26, 27, 30, 35, 36, 42, 43, 46, 47, 54, 55], 18)"
            ]
          },
          "metadata": {},
          "execution_count": 35
        }
      ]
    },
    {
      "cell_type": "markdown",
      "source": [
        "Validation Loops"
      ],
      "metadata": {
        "id": "wDJkPXJRfQgm"
      }
    },
    {
      "cell_type": "code",
      "source": [
        "model = model.to(device)\n",
        "model.eval()\n",
        "predictions_4, labels_4 = [], []\n",
        "for batch in valid_dataset_loader_4:\n",
        "    pixel_values = batch[\"pixel_values\"].to(device)\n",
        "    label_ids = batch[\"labels\"].to(device)\n",
        "\n",
        "    outputs = model(pixel_values=pixel_values, labels=label_ids)\n",
        "\n",
        "    logits = outputs.logits.detach().cpu()\n",
        "    probabilities = torch.softmax(logits, dim=1)\n",
        "\n",
        "    predictions_4.extend(probabilities.cpu().numpy())\n",
        "    labels_4.extend(label_ids.cpu().numpy())"
      ],
      "metadata": {
        "id": "osUo3G54fSMW"
      },
      "execution_count": null,
      "outputs": []
    },
    {
      "cell_type": "code",
      "source": [
        "predictions_3 = []\n",
        "batch_idx = 0\n",
        "for batch in valid_dataset_loader_3:\n",
        "    pixel_values = batch[\"pixel_values\"].to(device)\n",
        "    label_ids = batch[\"labels\"].to(device)\n",
        "\n",
        "    if batch_idx in controller:\n",
        "        print(batch_idx)\n",
        "        outputs = model(pixel_values=pixel_values, labels=label_ids)\n",
        "        logits = outputs.logits.detach().cpu()\n",
        "    else:\n",
        "        length = len(label_ids)\n",
        "        logits = torch.zeros((length, num_of_classes), device=\"cpu\")\n",
        "\n",
        "    probabilities = torch.softmax(logits, dim=1)\n",
        "    predictions_3.extend(probabilities.cpu().numpy())\n",
        "    batch_idx = batch_idx + 1"
      ],
      "metadata": {
        "id": "N0O7uNd-f9cv",
        "outputId": "d23ac667-ce57-43aa-dc82-042f608e3235",
        "colab": {
          "base_uri": "https://localhost:8080/"
        }
      },
      "execution_count": null,
      "outputs": [
        {
          "output_type": "stream",
          "name": "stdout",
          "text": [
            "1\n",
            "3\n",
            "9\n",
            "12\n",
            "13\n",
            "14\n",
            "20\n",
            "26\n",
            "27\n",
            "30\n",
            "35\n",
            "36\n",
            "42\n",
            "43\n",
            "46\n",
            "47\n",
            "54\n",
            "55\n"
          ]
        }
      ]
    },
    {
      "cell_type": "code",
      "source": [
        "import numpy as np\n",
        "predictions_3 = np.array(predictions_3)\n",
        "predictions_4 = np.array(predictions_4)"
      ],
      "metadata": {
        "id": "5qObdWfQLDtj"
      },
      "execution_count": null,
      "outputs": []
    },
    {
      "cell_type": "code",
      "source": [
        "predictions_avg = (predictions_3 + predictions_4) / 2\n",
        "predictions = np.argmax(predictions_avg, axis=1)"
      ],
      "metadata": {
        "id": "7shZhLX6qcIv"
      },
      "execution_count": null,
      "outputs": []
    },
    {
      "cell_type": "code",
      "source": [
        "predictions = np.array(predictions)\n",
        "labels = np.array(labels_4)"
      ],
      "metadata": {
        "id": "uE8xVnf8J5bT"
      },
      "execution_count": null,
      "outputs": []
    },
    {
      "cell_type": "code",
      "source": [
        "from sklearn.metrics import accuracy_score, precision_score, recall_score, f1_score, roc_auc_score, confusion_matrix, classification_report\n",
        "\n",
        "accuracy = accuracy_score(labels, predictions)\n",
        "precision = precision_score(labels, predictions, average='weighted')\n",
        "recall = recall_score(labels, predictions, average='weighted')\n",
        "f1 = f1_score(labels, predictions, average='weighted')\n",
        "AUROC_score = roc_auc_score(labels, predictions)"
      ],
      "metadata": {
        "id": "_Rbze9TNiMLk"
      },
      "execution_count": null,
      "outputs": []
    },
    {
      "cell_type": "code",
      "source": [
        "print(\"Accuracy: \", accuracy)\n",
        "print(\"precision: \", precision)\n",
        "print(\"f1_score: \", f1)\n",
        "print(\"recall\", recall)\n",
        "print(\"AUROC_score: \", AUROC_score)"
      ],
      "metadata": {
        "id": "NJ87fn9Tiihg",
        "colab": {
          "base_uri": "https://localhost:8080/"
        },
        "outputId": "f7694cdc-fafd-4f5e-f34e-e852cc00cfcf"
      },
      "execution_count": null,
      "outputs": [
        {
          "output_type": "stream",
          "name": "stdout",
          "text": [
            "Accuracy:  0.739\n",
            "precision:  0.7423050872968091\n",
            "f1_score:  0.7403246130320118\n",
            "recall 0.739\n",
            "AUROC_score:  0.7272000000000001\n"
          ]
        }
      ]
    },
    {
      "cell_type": "code",
      "source": [
        "print(classification_report(labels, predictions))"
      ],
      "metadata": {
        "id": "XIh6vBhAijAd",
        "colab": {
          "base_uri": "https://localhost:8080/"
        },
        "outputId": "ad8ed377-e6d1-4e5c-fcb4-b97097395dad"
      },
      "execution_count": null,
      "outputs": [
        {
          "output_type": "stream",
          "name": "stdout",
          "text": [
            "              precision    recall  f1-score   support\n",
            "\n",
            "           0       0.80      0.77      0.79      1250\n",
            "           1       0.64      0.68      0.66       750\n",
            "\n",
            "    accuracy                           0.74      2000\n",
            "   macro avg       0.72      0.73      0.72      2000\n",
            "weighted avg       0.74      0.74      0.74      2000\n",
            "\n"
          ]
        }
      ]
    },
    {
      "cell_type": "code",
      "source": [
        "cm = confusion_matrix(labels, predictions)\n",
        "print(cm)"
      ],
      "metadata": {
        "id": "357ijdMlindC",
        "colab": {
          "base_uri": "https://localhost:8080/"
        },
        "outputId": "9bb0cecf-aaef-426a-e4a1-e1b7fba4b698"
      },
      "execution_count": null,
      "outputs": [
        {
          "output_type": "stream",
          "name": "stdout",
          "text": [
            "[[968 282]\n",
            " [240 510]]\n"
          ]
        }
      ]
    },
    {
      "cell_type": "code",
      "source": [],
      "metadata": {
        "id": "KYM9hxuEQBZG"
      },
      "execution_count": null,
      "outputs": []
    }
  ],
  "metadata": {
    "colab": {
      "provenance": [],
      "collapsed_sections": [
        "YDcxpk7uWLbk",
        "tNSGzVxwT8id"
      ],
      "include_colab_link": true
    },
    "kernelspec": {
      "display_name": "Python 3",
      "name": "python3"
    },
    "language_info": {
      "name": "python"
    },
    "widgets": {
      "application/vnd.jupyter.widget-state+json": {
        "061ce972545b4c1cbadb52a4e8477567": {
          "model_module": "@jupyter-widgets/controls",
          "model_name": "HBoxModel",
          "model_module_version": "1.5.0",
          "state": {
            "_dom_classes": [],
            "_model_module": "@jupyter-widgets/controls",
            "_model_module_version": "1.5.0",
            "_model_name": "HBoxModel",
            "_view_count": null,
            "_view_module": "@jupyter-widgets/controls",
            "_view_module_version": "1.5.0",
            "_view_name": "HBoxView",
            "box_style": "",
            "children": [
              "IPY_MODEL_885278b509ef4cf0bf93f22ca6353808",
              "IPY_MODEL_b1632d2993b84c749843c3a79d500565",
              "IPY_MODEL_83495d758c58484cb3e038faa00d6c2b"
            ],
            "layout": "IPY_MODEL_73c9508c7618472e999fe4b1c1038fb7"
          }
        },
        "885278b509ef4cf0bf93f22ca6353808": {
          "model_module": "@jupyter-widgets/controls",
          "model_name": "HTMLModel",
          "model_module_version": "1.5.0",
          "state": {
            "_dom_classes": [],
            "_model_module": "@jupyter-widgets/controls",
            "_model_module_version": "1.5.0",
            "_model_name": "HTMLModel",
            "_view_count": null,
            "_view_module": "@jupyter-widgets/controls",
            "_view_module_version": "1.5.0",
            "_view_name": "HTMLView",
            "description": "",
            "description_tooltip": null,
            "layout": "IPY_MODEL_69e3d7dc188b4d08981770539055a454",
            "placeholder": "​",
            "style": "IPY_MODEL_bf1b04e1a7a043489f86ea43acad4ce0",
            "value": "Resolving data files: 100%"
          }
        },
        "b1632d2993b84c749843c3a79d500565": {
          "model_module": "@jupyter-widgets/controls",
          "model_name": "FloatProgressModel",
          "model_module_version": "1.5.0",
          "state": {
            "_dom_classes": [],
            "_model_module": "@jupyter-widgets/controls",
            "_model_module_version": "1.5.0",
            "_model_name": "FloatProgressModel",
            "_view_count": null,
            "_view_module": "@jupyter-widgets/controls",
            "_view_module_version": "1.5.0",
            "_view_name": "ProgressView",
            "bar_style": "success",
            "description": "",
            "description_tooltip": null,
            "layout": "IPY_MODEL_b4539849ed364c939d6f2749ac55444e",
            "max": 4000,
            "min": 0,
            "orientation": "horizontal",
            "style": "IPY_MODEL_c068c5bb37954439a598526a584d18e6",
            "value": 4000
          }
        },
        "83495d758c58484cb3e038faa00d6c2b": {
          "model_module": "@jupyter-widgets/controls",
          "model_name": "HTMLModel",
          "model_module_version": "1.5.0",
          "state": {
            "_dom_classes": [],
            "_model_module": "@jupyter-widgets/controls",
            "_model_module_version": "1.5.0",
            "_model_name": "HTMLModel",
            "_view_count": null,
            "_view_module": "@jupyter-widgets/controls",
            "_view_module_version": "1.5.0",
            "_view_name": "HTMLView",
            "description": "",
            "description_tooltip": null,
            "layout": "IPY_MODEL_f4be789a83ed487f8f121516a46ea7f4",
            "placeholder": "​",
            "style": "IPY_MODEL_23c7567ada0246418006cac95cf536a5",
            "value": " 4000/4000 [00:00&lt;00:00, 28236.26it/s]"
          }
        },
        "73c9508c7618472e999fe4b1c1038fb7": {
          "model_module": "@jupyter-widgets/base",
          "model_name": "LayoutModel",
          "model_module_version": "1.2.0",
          "state": {
            "_model_module": "@jupyter-widgets/base",
            "_model_module_version": "1.2.0",
            "_model_name": "LayoutModel",
            "_view_count": null,
            "_view_module": "@jupyter-widgets/base",
            "_view_module_version": "1.2.0",
            "_view_name": "LayoutView",
            "align_content": null,
            "align_items": null,
            "align_self": null,
            "border": null,
            "bottom": null,
            "display": null,
            "flex": null,
            "flex_flow": null,
            "grid_area": null,
            "grid_auto_columns": null,
            "grid_auto_flow": null,
            "grid_auto_rows": null,
            "grid_column": null,
            "grid_gap": null,
            "grid_row": null,
            "grid_template_areas": null,
            "grid_template_columns": null,
            "grid_template_rows": null,
            "height": null,
            "justify_content": null,
            "justify_items": null,
            "left": null,
            "margin": null,
            "max_height": null,
            "max_width": null,
            "min_height": null,
            "min_width": null,
            "object_fit": null,
            "object_position": null,
            "order": null,
            "overflow": null,
            "overflow_x": null,
            "overflow_y": null,
            "padding": null,
            "right": null,
            "top": null,
            "visibility": null,
            "width": null
          }
        },
        "69e3d7dc188b4d08981770539055a454": {
          "model_module": "@jupyter-widgets/base",
          "model_name": "LayoutModel",
          "model_module_version": "1.2.0",
          "state": {
            "_model_module": "@jupyter-widgets/base",
            "_model_module_version": "1.2.0",
            "_model_name": "LayoutModel",
            "_view_count": null,
            "_view_module": "@jupyter-widgets/base",
            "_view_module_version": "1.2.0",
            "_view_name": "LayoutView",
            "align_content": null,
            "align_items": null,
            "align_self": null,
            "border": null,
            "bottom": null,
            "display": null,
            "flex": null,
            "flex_flow": null,
            "grid_area": null,
            "grid_auto_columns": null,
            "grid_auto_flow": null,
            "grid_auto_rows": null,
            "grid_column": null,
            "grid_gap": null,
            "grid_row": null,
            "grid_template_areas": null,
            "grid_template_columns": null,
            "grid_template_rows": null,
            "height": null,
            "justify_content": null,
            "justify_items": null,
            "left": null,
            "margin": null,
            "max_height": null,
            "max_width": null,
            "min_height": null,
            "min_width": null,
            "object_fit": null,
            "object_position": null,
            "order": null,
            "overflow": null,
            "overflow_x": null,
            "overflow_y": null,
            "padding": null,
            "right": null,
            "top": null,
            "visibility": null,
            "width": null
          }
        },
        "bf1b04e1a7a043489f86ea43acad4ce0": {
          "model_module": "@jupyter-widgets/controls",
          "model_name": "DescriptionStyleModel",
          "model_module_version": "1.5.0",
          "state": {
            "_model_module": "@jupyter-widgets/controls",
            "_model_module_version": "1.5.0",
            "_model_name": "DescriptionStyleModel",
            "_view_count": null,
            "_view_module": "@jupyter-widgets/base",
            "_view_module_version": "1.2.0",
            "_view_name": "StyleView",
            "description_width": ""
          }
        },
        "b4539849ed364c939d6f2749ac55444e": {
          "model_module": "@jupyter-widgets/base",
          "model_name": "LayoutModel",
          "model_module_version": "1.2.0",
          "state": {
            "_model_module": "@jupyter-widgets/base",
            "_model_module_version": "1.2.0",
            "_model_name": "LayoutModel",
            "_view_count": null,
            "_view_module": "@jupyter-widgets/base",
            "_view_module_version": "1.2.0",
            "_view_name": "LayoutView",
            "align_content": null,
            "align_items": null,
            "align_self": null,
            "border": null,
            "bottom": null,
            "display": null,
            "flex": null,
            "flex_flow": null,
            "grid_area": null,
            "grid_auto_columns": null,
            "grid_auto_flow": null,
            "grid_auto_rows": null,
            "grid_column": null,
            "grid_gap": null,
            "grid_row": null,
            "grid_template_areas": null,
            "grid_template_columns": null,
            "grid_template_rows": null,
            "height": null,
            "justify_content": null,
            "justify_items": null,
            "left": null,
            "margin": null,
            "max_height": null,
            "max_width": null,
            "min_height": null,
            "min_width": null,
            "object_fit": null,
            "object_position": null,
            "order": null,
            "overflow": null,
            "overflow_x": null,
            "overflow_y": null,
            "padding": null,
            "right": null,
            "top": null,
            "visibility": null,
            "width": null
          }
        },
        "c068c5bb37954439a598526a584d18e6": {
          "model_module": "@jupyter-widgets/controls",
          "model_name": "ProgressStyleModel",
          "model_module_version": "1.5.0",
          "state": {
            "_model_module": "@jupyter-widgets/controls",
            "_model_module_version": "1.5.0",
            "_model_name": "ProgressStyleModel",
            "_view_count": null,
            "_view_module": "@jupyter-widgets/base",
            "_view_module_version": "1.2.0",
            "_view_name": "StyleView",
            "bar_color": null,
            "description_width": ""
          }
        },
        "f4be789a83ed487f8f121516a46ea7f4": {
          "model_module": "@jupyter-widgets/base",
          "model_name": "LayoutModel",
          "model_module_version": "1.2.0",
          "state": {
            "_model_module": "@jupyter-widgets/base",
            "_model_module_version": "1.2.0",
            "_model_name": "LayoutModel",
            "_view_count": null,
            "_view_module": "@jupyter-widgets/base",
            "_view_module_version": "1.2.0",
            "_view_name": "LayoutView",
            "align_content": null,
            "align_items": null,
            "align_self": null,
            "border": null,
            "bottom": null,
            "display": null,
            "flex": null,
            "flex_flow": null,
            "grid_area": null,
            "grid_auto_columns": null,
            "grid_auto_flow": null,
            "grid_auto_rows": null,
            "grid_column": null,
            "grid_gap": null,
            "grid_row": null,
            "grid_template_areas": null,
            "grid_template_columns": null,
            "grid_template_rows": null,
            "height": null,
            "justify_content": null,
            "justify_items": null,
            "left": null,
            "margin": null,
            "max_height": null,
            "max_width": null,
            "min_height": null,
            "min_width": null,
            "object_fit": null,
            "object_position": null,
            "order": null,
            "overflow": null,
            "overflow_x": null,
            "overflow_y": null,
            "padding": null,
            "right": null,
            "top": null,
            "visibility": null,
            "width": null
          }
        },
        "23c7567ada0246418006cac95cf536a5": {
          "model_module": "@jupyter-widgets/controls",
          "model_name": "DescriptionStyleModel",
          "model_module_version": "1.5.0",
          "state": {
            "_model_module": "@jupyter-widgets/controls",
            "_model_module_version": "1.5.0",
            "_model_name": "DescriptionStyleModel",
            "_view_count": null,
            "_view_module": "@jupyter-widgets/base",
            "_view_module_version": "1.2.0",
            "_view_name": "StyleView",
            "description_width": ""
          }
        }
      }
    }
  },
  "nbformat": 4,
  "nbformat_minor": 0
}