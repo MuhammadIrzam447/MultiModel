{
  "cells": [
    {
      "cell_type": "markdown",
      "metadata": {
        "id": "view-in-github",
        "colab_type": "text"
      },
      "source": [
        "<a href=\"https://colab.research.google.com/github/MuhammadIrzam447/MultiModel/blob/master/Train_38.ipynb\" target=\"_parent\"><img src=\"https://colab.research.google.com/assets/colab-badge.svg\" alt=\"Open In Colab\"/></a>"
      ]
    },
    {
      "cell_type": "code",
      "source": [
        "%cd \"/content/Dataset(s)/food-101-img_txt/food101\""
      ],
      "metadata": {
        "id": "59nT4j7KmwI1",
        "colab": {
          "base_uri": "https://localhost:8080/"
        },
        "outputId": "6d54823f-12b9-4bd8-fcfe-69837d7596e9"
      },
      "execution_count": 1,
      "outputs": [
        {
          "output_type": "stream",
          "name": "stdout",
          "text": [
            "/content/Dataset(s)/food-101-img_txt/food101\n"
          ]
        }
      ]
    },
    {
      "cell_type": "markdown",
      "source": [
        "# Training Loop"
      ],
      "metadata": {
        "id": "382wBoPnTfhV"
      }
    },
    {
      "cell_type": "markdown",
      "source": [
        "Create Text and Image txt Files"
      ],
      "metadata": {
        "id": "yBwWJcMMiv2v"
      }
    },
    {
      "cell_type": "code",
      "source": [
        "# def custom_sort(line):\n",
        "#     # Extract the filename and numeric part\n",
        "#     filename, text = map(str.strip, line.split(',', 1))\n",
        "#     alpha_part, numeric_part = filename[:-4].rsplit('_', 1)  # Remove the \".txt\" extension\n",
        "\n",
        "#     # Sort alphabetically first and then numerically\n",
        "#     return (alpha_part, numeric_part)\n",
        "\n",
        "# # Read the contents of the file into a list\n",
        "# with open('./train_text.txt', 'r') as file:\n",
        "#     lines = file.readlines()\n",
        "\n",
        "# # Sort the lines using the custom sorting function\n",
        "# sorted_lines = sorted(lines, key=custom_sort)\n",
        "\n",
        "# # Write the sorted lines back to the file\n",
        "# with open('./train_text_sorted.txt', 'w') as file:\n",
        "#     file.writelines(sorted_lines)\n"
      ],
      "metadata": {
        "id": "uh1fr4WuW2Ni"
      },
      "execution_count": null,
      "outputs": []
    },
    {
      "cell_type": "code",
      "source": [
        "# #Create txt file for Image Paths and Labels\n",
        "# import os\n",
        "\n",
        "# dataset_folder = '/content/Dataset(s)/food-101-img_txt/food101/food101/train/'\n",
        "# output_file = './food101/train_dataset.txt'\n",
        "\n",
        "# def custom_sort_key(item):\n",
        "#     return item.replace('@', '')\n",
        "\n",
        "# with open(output_file, 'w') as f:\n",
        "#     for label in sorted(os.listdir(dataset_folder)):\n",
        "#         label_path = os.path.join(dataset_folder, label)\n",
        "#         if os.path.isdir(label_path):\n",
        "#             class_name = label\n",
        "#             image_files = sorted(os.listdir(label_path))\n",
        "#             for image_file in image_files:\n",
        "#                 image_path = os.path.join(label_path, image_file)\n",
        "#                 f.write(f'{image_path}, {class_name}\\n')"
      ],
      "metadata": {
        "id": "M8nfKQBPcNcN"
      },
      "execution_count": null,
      "outputs": []
    },
    {
      "cell_type": "markdown",
      "metadata": {
        "id": "EnEIc61XkMVP"
      },
      "source": [
        "Load Image Data From Label Files"
      ]
    },
    {
      "cell_type": "code",
      "execution_count": 2,
      "metadata": {
        "id": "P3fwjA0ikTKC"
      },
      "outputs": [],
      "source": [
        "import os\n",
        "\n",
        "image_file_paths = []\n",
        "image_genre_labels = []\n",
        "\n",
        "labels_file = \"./food101/train_dataset.txt\"\n",
        "\n",
        "with open(labels_file, 'r') as file:\n",
        "    for line in file:\n",
        "        parts = line.strip().split(', ')\n",
        "        filename = parts[0].strip()\n",
        "        labels = parts[1].strip()\n",
        "        image_file_paths.append(filename)\n",
        "        image_genre_labels.append(labels)"
      ]
    },
    {
      "cell_type": "code",
      "execution_count": 5,
      "metadata": {
        "id": "Tx2nBn5Llige",
        "colab": {
          "base_uri": "https://localhost:8080/"
        },
        "outputId": "e75bdd0e-ddad-459b-83bc-e201b0ab266f"
      },
      "outputs": [
        {
          "output_type": "stream",
          "name": "stdout",
          "text": [
            "67988\n",
            "67988\n"
          ]
        }
      ],
      "source": [
        "print(len(image_file_paths))\n",
        "print(len(image_genre_labels))"
      ]
    },
    {
      "cell_type": "code",
      "execution_count": 4,
      "metadata": {
        "id": "8dnbr4g3kJ7k"
      },
      "outputs": [],
      "source": [
        "import os\n",
        "\n",
        "test_image_file_paths = []\n",
        "test_image_genre_labels = []\n",
        "\n",
        "labels_file = \"./food101/test_dataset.txt\"\n",
        "\n",
        "with open(labels_file, 'r') as file:\n",
        "    for line in file:\n",
        "        parts = line.strip().split(', ')\n",
        "        filename = parts[0].strip()\n",
        "        labels = parts[1].strip()\n",
        "        test_image_file_paths.append(filename)\n",
        "        test_image_genre_labels.append(labels)"
      ]
    },
    {
      "cell_type": "code",
      "execution_count": 6,
      "metadata": {
        "id": "LDJp8ABikRjx",
        "colab": {
          "base_uri": "https://localhost:8080/"
        },
        "outputId": "71b1e5da-b30c-463e-fe7b-ed413e4cdb2d"
      },
      "outputs": [
        {
          "output_type": "stream",
          "name": "stdout",
          "text": [
            "22716\n",
            "22716\n"
          ]
        }
      ],
      "source": [
        "print(len(test_image_file_paths))\n",
        "print(len(test_image_genre_labels))"
      ]
    },
    {
      "cell_type": "markdown",
      "metadata": {
        "id": "7opM21S8kpWR"
      },
      "source": [
        "Load Text Data From CSV"
      ]
    },
    {
      "cell_type": "code",
      "source": [
        "file_path = \"./test_text_sorted.txt\"\n",
        "\n",
        "test_texts_csv_lst = []\n",
        "\n",
        "with open(file_path, 'r') as file:\n",
        "    for line in file:\n",
        "        _, text = map(str.strip, line.split(',', 1))\n",
        "        test_texts_csv_lst.append(text)"
      ],
      "metadata": {
        "id": "Svn-RXYqdfl0"
      },
      "execution_count": 7,
      "outputs": []
    },
    {
      "cell_type": "code",
      "source": [
        "file_path = \"./train_text_sorted.txt\"\n",
        "\n",
        "texts_csv_lst = []\n",
        "\n",
        "with open(file_path, 'r') as file:\n",
        "    for line in file:\n",
        "        _, text = map(str.strip, line.split(',', 1))\n",
        "        texts_csv_lst.append(text)"
      ],
      "metadata": {
        "id": "c_7G_-I5epP0"
      },
      "execution_count": 8,
      "outputs": []
    },
    {
      "cell_type": "code",
      "execution_count": 9,
      "metadata": {
        "id": "GWEwpMeal_6R",
        "colab": {
          "base_uri": "https://localhost:8080/"
        },
        "outputId": "a7bde359-2ffa-4a1d-8013-d6762dcb5a21"
      },
      "outputs": [
        {
          "output_type": "execute_result",
          "data": {
            "text/plain": [
              "(67988, 22716)"
            ]
          },
          "metadata": {},
          "execution_count": 9
        }
      ],
      "source": [
        "len(texts_csv_lst) , len(test_texts_csv_lst)"
      ]
    },
    {
      "cell_type": "markdown",
      "metadata": {
        "id": "4Xugxf_HlIVa"
      },
      "source": [
        "Label Encoder"
      ]
    },
    {
      "cell_type": "code",
      "execution_count": 10,
      "metadata": {
        "id": "dg39H-jZlI1T",
        "colab": {
          "base_uri": "https://localhost:8080/",
          "height": 74
        },
        "outputId": "5ce9d548-16ef-44b2-9dab-c32d775988dc"
      },
      "outputs": [
        {
          "output_type": "execute_result",
          "data": {
            "text/plain": [
              "LabelEncoder()"
            ],
            "text/html": [
              "<style>#sk-container-id-1 {color: black;background-color: white;}#sk-container-id-1 pre{padding: 0;}#sk-container-id-1 div.sk-toggleable {background-color: white;}#sk-container-id-1 label.sk-toggleable__label {cursor: pointer;display: block;width: 100%;margin-bottom: 0;padding: 0.3em;box-sizing: border-box;text-align: center;}#sk-container-id-1 label.sk-toggleable__label-arrow:before {content: \"▸\";float: left;margin-right: 0.25em;color: #696969;}#sk-container-id-1 label.sk-toggleable__label-arrow:hover:before {color: black;}#sk-container-id-1 div.sk-estimator:hover label.sk-toggleable__label-arrow:before {color: black;}#sk-container-id-1 div.sk-toggleable__content {max-height: 0;max-width: 0;overflow: hidden;text-align: left;background-color: #f0f8ff;}#sk-container-id-1 div.sk-toggleable__content pre {margin: 0.2em;color: black;border-radius: 0.25em;background-color: #f0f8ff;}#sk-container-id-1 input.sk-toggleable__control:checked~div.sk-toggleable__content {max-height: 200px;max-width: 100%;overflow: auto;}#sk-container-id-1 input.sk-toggleable__control:checked~label.sk-toggleable__label-arrow:before {content: \"▾\";}#sk-container-id-1 div.sk-estimator input.sk-toggleable__control:checked~label.sk-toggleable__label {background-color: #d4ebff;}#sk-container-id-1 div.sk-label input.sk-toggleable__control:checked~label.sk-toggleable__label {background-color: #d4ebff;}#sk-container-id-1 input.sk-hidden--visually {border: 0;clip: rect(1px 1px 1px 1px);clip: rect(1px, 1px, 1px, 1px);height: 1px;margin: -1px;overflow: hidden;padding: 0;position: absolute;width: 1px;}#sk-container-id-1 div.sk-estimator {font-family: monospace;background-color: #f0f8ff;border: 1px dotted black;border-radius: 0.25em;box-sizing: border-box;margin-bottom: 0.5em;}#sk-container-id-1 div.sk-estimator:hover {background-color: #d4ebff;}#sk-container-id-1 div.sk-parallel-item::after {content: \"\";width: 100%;border-bottom: 1px solid gray;flex-grow: 1;}#sk-container-id-1 div.sk-label:hover label.sk-toggleable__label {background-color: #d4ebff;}#sk-container-id-1 div.sk-serial::before {content: \"\";position: absolute;border-left: 1px solid gray;box-sizing: border-box;top: 0;bottom: 0;left: 50%;z-index: 0;}#sk-container-id-1 div.sk-serial {display: flex;flex-direction: column;align-items: center;background-color: white;padding-right: 0.2em;padding-left: 0.2em;position: relative;}#sk-container-id-1 div.sk-item {position: relative;z-index: 1;}#sk-container-id-1 div.sk-parallel {display: flex;align-items: stretch;justify-content: center;background-color: white;position: relative;}#sk-container-id-1 div.sk-item::before, #sk-container-id-1 div.sk-parallel-item::before {content: \"\";position: absolute;border-left: 1px solid gray;box-sizing: border-box;top: 0;bottom: 0;left: 50%;z-index: -1;}#sk-container-id-1 div.sk-parallel-item {display: flex;flex-direction: column;z-index: 1;position: relative;background-color: white;}#sk-container-id-1 div.sk-parallel-item:first-child::after {align-self: flex-end;width: 50%;}#sk-container-id-1 div.sk-parallel-item:last-child::after {align-self: flex-start;width: 50%;}#sk-container-id-1 div.sk-parallel-item:only-child::after {width: 0;}#sk-container-id-1 div.sk-dashed-wrapped {border: 1px dashed gray;margin: 0 0.4em 0.5em 0.4em;box-sizing: border-box;padding-bottom: 0.4em;background-color: white;}#sk-container-id-1 div.sk-label label {font-family: monospace;font-weight: bold;display: inline-block;line-height: 1.2em;}#sk-container-id-1 div.sk-label-container {text-align: center;}#sk-container-id-1 div.sk-container {/* jupyter's `normalize.less` sets `[hidden] { display: none; }` but bootstrap.min.css set `[hidden] { display: none !important; }` so we also need the `!important` here to be able to override the default hidden behavior on the sphinx rendered scikit-learn.org. See: https://github.com/scikit-learn/scikit-learn/issues/21755 */display: inline-block !important;position: relative;}#sk-container-id-1 div.sk-text-repr-fallback {display: none;}</style><div id=\"sk-container-id-1\" class=\"sk-top-container\"><div class=\"sk-text-repr-fallback\"><pre>LabelEncoder()</pre><b>In a Jupyter environment, please rerun this cell to show the HTML representation or trust the notebook. <br />On GitHub, the HTML representation is unable to render, please try loading this page with nbviewer.org.</b></div><div class=\"sk-container\" hidden><div class=\"sk-item\"><div class=\"sk-estimator sk-toggleable\"><input class=\"sk-toggleable__control sk-hidden--visually\" id=\"sk-estimator-id-1\" type=\"checkbox\" checked><label for=\"sk-estimator-id-1\" class=\"sk-toggleable__label sk-toggleable__label-arrow\">LabelEncoder</label><div class=\"sk-toggleable__content\"><pre>LabelEncoder()</pre></div></div></div></div></div>"
            ]
          },
          "metadata": {},
          "execution_count": 10
        }
      ],
      "source": [
        "from sklearn.preprocessing import LabelEncoder\n",
        "\n",
        "label_encoder = LabelEncoder()\n",
        "label_encoder.fit(image_genre_labels)"
      ]
    },
    {
      "cell_type": "code",
      "execution_count": 11,
      "metadata": {
        "id": "J3xT1b8ptN6L"
      },
      "outputs": [],
      "source": [
        "transformed_genre_labels = label_encoder.transform(image_genre_labels)\n",
        "test_transformed_genre_labels = label_encoder.transform(test_image_genre_labels)"
      ]
    },
    {
      "cell_type": "code",
      "execution_count": 12,
      "metadata": {
        "id": "pdU2u2hZszxo"
      },
      "outputs": [],
      "source": [
        "transformed_genre_labels = transformed_genre_labels.tolist()\n",
        "test_transformed_genre_labels = test_transformed_genre_labels.tolist()"
      ]
    },
    {
      "cell_type": "code",
      "execution_count": 13,
      "metadata": {
        "id": "g65oz_CinqqM",
        "colab": {
          "base_uri": "https://localhost:8080/"
        },
        "outputId": "7b6afabf-8c5a-4116-8374-717fcfbd250f"
      },
      "outputs": [
        {
          "output_type": "execute_result",
          "data": {
            "text/plain": [
              "(67988, 22716)"
            ]
          },
          "metadata": {},
          "execution_count": 13
        }
      ],
      "source": [
        "len(transformed_genre_labels), len(test_transformed_genre_labels)"
      ]
    },
    {
      "cell_type": "markdown",
      "metadata": {
        "id": "ZASZmQcekz77"
      },
      "source": [
        "Create Dataset"
      ]
    },
    {
      "cell_type": "code",
      "execution_count": 14,
      "metadata": {
        "id": "TR7yXnxnmtwP",
        "colab": {
          "base_uri": "https://localhost:8080/"
        },
        "outputId": "de55a7f5-559a-44c9-dc8b-a7c8091068bb"
      },
      "outputs": [
        {
          "output_type": "execute_result",
          "data": {
            "text/plain": [
              "('/content/Dataset(s)/food-101-img_txt/food101/food101/train/cheesecake/cheesecake_783.jpg',\n",
              " '8 Cheesecake Recipes We Love | Serious Eats: Sweets,cheesecake',\n",
              " 17)"
            ]
          },
          "metadata": {},
          "execution_count": 14
        }
      ],
      "source": [
        "image_file_paths[12000], texts_csv_lst[12000], transformed_genre_labels[12000]"
      ]
    },
    {
      "cell_type": "code",
      "execution_count": 16,
      "metadata": {
        "id": "OcgR0MQ4lKB7",
        "colab": {
          "base_uri": "https://localhost:8080/"
        },
        "outputId": "bfb9e2fa-3307-4f0f-e4d6-fbd5afd46dfb"
      },
      "outputs": [
        {
          "output_type": "execute_result",
          "data": {
            "text/plain": [
              "('/content/Dataset(s)/food-101-img_txt/food101/food101/test/apple_pie/apple_pie_1.jpg',\n",
              " 'Apple Pie and Cake Recipes - Health.com,apple_pie',\n",
              " 0)"
            ]
          },
          "metadata": {},
          "execution_count": 16
        }
      ],
      "source": [
        "test_image_file_paths[0], test_texts_csv_lst[0], test_transformed_genre_labels[0]"
      ]
    },
    {
      "cell_type": "code",
      "execution_count": 17,
      "metadata": {
        "id": "Nl3jJ_Y3O44t"
      },
      "outputs": [],
      "source": [
        "import torch\n",
        "from PIL import Image as pil\n",
        "\n",
        "class CustomDataset(torch.utils.data.Dataset):\n",
        "    def __init__(self, images, texts, labels, processor):\n",
        "        self.images = images\n",
        "        self.texts = texts\n",
        "        self.labels = labels\n",
        "        self.processor = processor\n",
        "\n",
        "    def __len__(self):\n",
        "        return len(self.images)\n",
        "\n",
        "    def __getitem__(self, idx):\n",
        "        image = self.images[idx]\n",
        "        text = self.texts[idx]\n",
        "        label = self.labels[idx]\n",
        "\n",
        "        encoding = self.processor(pil.open(image).convert(\"RGB\"), text,  max_length=32, add_special_tokens=True,  is_split_into_words=False, padding=\"max_length\", truncation=True, return_tensors=\"pt\")\n",
        "        for k,v in encoding.items():\n",
        "          encoding[k] = v.squeeze()\n",
        "\n",
        "        # encoding[\"labels\"] = label\n",
        "        encoding[\"labels\"] = torch.tensor(label)\n",
        "\n",
        "        return encoding"
      ]
    },
    {
      "cell_type": "code",
      "execution_count": 18,
      "metadata": {
        "id": "ROjHdLt2P545"
      },
      "outputs": [],
      "source": [
        "from transformers import ViltProcessor\n",
        "\n",
        "processor = ViltProcessor.from_pretrained(\"dandelin/vilt-b32-finetuned-nlvr2\")\n",
        "\n",
        "dataset = CustomDataset(images=image_file_paths,\n",
        "                     texts=texts_csv_lst,\n",
        "                     labels=transformed_genre_labels,\n",
        "                     processor=processor)\n",
        "\n",
        "test_dataset = CustomDataset(images=test_image_file_paths,\n",
        "                     texts=test_texts_csv_lst,\n",
        "                     labels=test_transformed_genre_labels,\n",
        "                     processor=processor)"
      ]
    },
    {
      "cell_type": "code",
      "execution_count": 19,
      "metadata": {
        "id": "AroGwpiBO1nH",
        "colab": {
          "base_uri": "https://localhost:8080/"
        },
        "outputId": "40403b81-3b3e-4af6-dafb-37772cd3b5a4"
      },
      "outputs": [
        {
          "output_type": "execute_result",
          "data": {
            "text/plain": [
              "{'input_ids': tensor([  101,  6207, 11345,  1011, 16948,  1010,  6207,  1035, 11345,   102,\n",
              "            0,     0,     0,     0,     0,     0,     0,     0,     0,     0,\n",
              "            0,     0,     0,     0,     0,     0,     0,     0,     0,     0,\n",
              "            0,     0]), 'token_type_ids': tensor([0, 0, 0, 0, 0, 0, 0, 0, 0, 0, 0, 0, 0, 0, 0, 0, 0, 0, 0, 0, 0, 0, 0, 0,\n",
              "        0, 0, 0, 0, 0, 0, 0, 0]), 'attention_mask': tensor([1, 1, 1, 1, 1, 1, 1, 1, 1, 1, 0, 0, 0, 0, 0, 0, 0, 0, 0, 0, 0, 0, 0, 0,\n",
              "        0, 0, 0, 0, 0, 0, 0, 0]), 'pixel_values': tensor([[[ 0.4824,  0.3333,  0.2863,  ...,  0.4353,  0.4353,  0.4353],\n",
              "         [ 0.3647,  0.2863,  0.2941,  ...,  0.4353,  0.4510,  0.4510],\n",
              "         [ 0.3098,  0.2863,  0.3020,  ...,  0.4588,  0.4588,  0.4510],\n",
              "         ...,\n",
              "         [ 0.1373,  0.1608,  0.2314,  ...,  0.1686,  0.1686,  0.2627],\n",
              "         [ 0.2078,  0.1451,  0.2000,  ...,  0.3176,  0.1608,  0.1373],\n",
              "         [ 0.2706,  0.2627,  0.1529,  ...,  0.1922,  0.3020,  0.2157]],\n",
              "\n",
              "        [[-0.4431, -0.6392, -0.7490,  ..., -0.7961, -0.7961, -0.7882],\n",
              "         [-0.5922, -0.7176, -0.7725,  ..., -0.7882, -0.7725, -0.7725],\n",
              "         [-0.7020, -0.7569, -0.7882,  ..., -0.7725, -0.7647, -0.7725],\n",
              "         ...,\n",
              "         [-0.9059, -0.8980, -0.8431,  ..., -0.8980, -0.9059, -0.8039],\n",
              "         [-0.8667, -0.9294, -0.8824,  ..., -0.7490, -0.8902, -0.9216],\n",
              "         [-0.8118, -0.8275, -0.9216,  ..., -0.8588, -0.7412, -0.8275]],\n",
              "\n",
              "        [[-0.7569, -0.9137, -0.9608,  ..., -0.9451, -0.9608, -0.9765],\n",
              "         [-0.8902, -0.9686, -0.9686,  ..., -0.9451, -0.9529, -0.9608],\n",
              "         [-0.9686, -0.9922, -0.9765,  ..., -0.9294, -0.9451, -0.9608],\n",
              "         ...,\n",
              "         [-1.0000, -0.9843, -0.9137,  ..., -0.9765, -0.9686, -0.9137],\n",
              "         [-0.9686, -0.9922, -0.9373,  ..., -0.8667, -0.9765, -0.9922],\n",
              "         [-0.9294, -0.9059, -0.9686,  ..., -0.9686, -0.8745, -0.9451]]]), 'pixel_mask': tensor([[1, 1, 1,  ..., 1, 1, 1],\n",
              "        [1, 1, 1,  ..., 1, 1, 1],\n",
              "        [1, 1, 1,  ..., 1, 1, 1],\n",
              "        ...,\n",
              "        [1, 1, 1,  ..., 1, 1, 1],\n",
              "        [1, 1, 1,  ..., 1, 1, 1],\n",
              "        [1, 1, 1,  ..., 1, 1, 1]]), 'labels': tensor(0)}"
            ]
          },
          "metadata": {},
          "execution_count": 19
        }
      ],
      "source": [
        "dataset[0]"
      ]
    },
    {
      "cell_type": "code",
      "execution_count": 20,
      "metadata": {
        "id": "l7sqW62hlUfN",
        "colab": {
          "base_uri": "https://localhost:8080/"
        },
        "outputId": "13e22db0-8e85-41fd-bf4c-9518cd60cae6"
      },
      "outputs": [
        {
          "output_type": "execute_result",
          "data": {
            "text/plain": [
              "{'input_ids': tensor([  101,  6207, 11345,  1998,  9850, 19328,  1011,  2740,  1012,  4012,\n",
              "         1010,  6207,  1035, 11345,   102,     0,     0,     0,     0,     0,\n",
              "            0,     0,     0,     0,     0,     0,     0,     0,     0,     0,\n",
              "            0,     0]), 'token_type_ids': tensor([0, 0, 0, 0, 0, 0, 0, 0, 0, 0, 0, 0, 0, 0, 0, 0, 0, 0, 0, 0, 0, 0, 0, 0,\n",
              "        0, 0, 0, 0, 0, 0, 0, 0]), 'attention_mask': tensor([1, 1, 1, 1, 1, 1, 1, 1, 1, 1, 1, 1, 1, 1, 1, 0, 0, 0, 0, 0, 0, 0, 0, 0,\n",
              "        0, 0, 0, 0, 0, 0, 0, 0]), 'pixel_values': tensor([[[-0.0431, -0.0431, -0.0431,  ...,  0.3961,  0.3569,  0.3647],\n",
              "         [-0.1529, -0.1451, -0.1451,  ...,  0.4902,  0.3490,  0.2863],\n",
              "         [-0.2235, -0.2235, -0.2157,  ...,  0.4824,  0.3098,  0.2627],\n",
              "         ...,\n",
              "         [ 0.2000,  0.2000,  0.2000,  ...,  0.4902,  0.4588,  0.4275],\n",
              "         [ 0.1922,  0.1922,  0.1922,  ...,  0.4902,  0.4588,  0.4431],\n",
              "         [ 0.1922,  0.1922,  0.1922,  ...,  0.4667,  0.4353,  0.4196]],\n",
              "\n",
              "        [[-0.0980, -0.0980, -0.0980,  ...,  0.1529,  0.1765,  0.2078],\n",
              "         [-0.2078, -0.2078, -0.2000,  ...,  0.2549,  0.1686,  0.1294],\n",
              "         [-0.2706, -0.2706, -0.2627,  ...,  0.2471,  0.1294,  0.0902],\n",
              "         ...,\n",
              "         [-0.0902, -0.0902, -0.0902,  ...,  0.0118, -0.0039, -0.0353],\n",
              "         [-0.0980, -0.0980, -0.0980,  ...,  0.0118, -0.0039, -0.0196],\n",
              "         [-0.0980, -0.0980, -0.0980,  ..., -0.0118, -0.0275, -0.0431]],\n",
              "\n",
              "        [[-0.2235, -0.2235, -0.2235,  ..., -0.2706, -0.2314, -0.1843],\n",
              "         [-0.3176, -0.3098, -0.3098,  ..., -0.1765, -0.2392, -0.2706],\n",
              "         [-0.3804, -0.3804, -0.3725,  ..., -0.1843, -0.2863, -0.3020],\n",
              "         ...,\n",
              "         [-0.4196, -0.4196, -0.4196,  ..., -0.2157, -0.2392, -0.2706],\n",
              "         [-0.4275, -0.4275, -0.4275,  ..., -0.2157, -0.2392, -0.2549],\n",
              "         [-0.4275, -0.4275, -0.4275,  ..., -0.2392, -0.2627, -0.2784]]]), 'pixel_mask': tensor([[1, 1, 1,  ..., 1, 1, 1],\n",
              "        [1, 1, 1,  ..., 1, 1, 1],\n",
              "        [1, 1, 1,  ..., 1, 1, 1],\n",
              "        ...,\n",
              "        [1, 1, 1,  ..., 1, 1, 1],\n",
              "        [1, 1, 1,  ..., 1, 1, 1],\n",
              "        [1, 1, 1,  ..., 1, 1, 1]]), 'labels': tensor(0)}"
            ]
          },
          "metadata": {},
          "execution_count": 20
        }
      ],
      "source": [
        "test_dataset[0]"
      ]
    },
    {
      "cell_type": "markdown",
      "metadata": {
        "id": "RrpTc8SKQYBx"
      },
      "source": [
        "Collate_fun and Data Loader"
      ]
    },
    {
      "cell_type": "code",
      "execution_count": 21,
      "metadata": {
        "id": "NBFlOmB5QcDA"
      },
      "outputs": [],
      "source": [
        "import torch\n",
        "\n",
        "def collate_fn(batch):\n",
        "  input_ids = [item['input_ids'] for item in batch]\n",
        "  pixel_values = [item['pixel_values'] for item in batch]\n",
        "  labels = [item['labels'] for item in batch]\n",
        "\n",
        "  encoding = processor.image_processor.pad(pixel_values, return_tensors=\"pt\")\n",
        "\n",
        "  batch = {}\n",
        "  batch['input_ids'] = torch.stack(input_ids)\n",
        "  batch['pixel_values'] = encoding['pixel_values']\n",
        "  batch['labels'] = torch.stack(labels)\n",
        "\n",
        "  return batch\n",
        "\n",
        "  # return {\n",
        "  #     \"input_ids\": torch.stack([x[\"input_ids\"] for x in batch]),\n",
        "  #     \"pixel_values\": torch.stack([x[\"pixel_values\"] for x in encoding]),\n",
        "  #     # \"attention_mask\": torch.stack([x[\"attention_mask\"] for x in batch]),\n",
        "  #     # \"token_type_ids\": torch.stack([x[\"token_type_ids\"] for x in batch]),\n",
        "  #     # \"pixel_mask\": torch.stack([x[\"pixel_mask\"] for x in batch]),\n",
        "  #     \"labels\": torch.stack([torch.tensor(x[\"labels\"]) for x in batch]),\n",
        "  # }"
      ]
    },
    {
      "cell_type": "code",
      "execution_count": 22,
      "metadata": {
        "id": "R5nJBScMnPkR"
      },
      "outputs": [],
      "source": [
        "from torch.utils.data import DataLoader\n",
        "train_dataloader = DataLoader(dataset, collate_fn=collate_fn, batch_size=12, shuffle=True)\n",
        "test_dataloader = DataLoader(test_dataset, collate_fn=collate_fn, batch_size=12, shuffle=False)"
      ]
    },
    {
      "cell_type": "markdown",
      "metadata": {
        "id": "gMwrFaC2DY59"
      },
      "source": [
        "Check Dimensions"
      ]
    },
    {
      "cell_type": "code",
      "execution_count": 23,
      "metadata": {
        "id": "4dkCEPAsDb0w"
      },
      "outputs": [],
      "source": [
        "batch = next(iter(train_dataloader))\n",
        "test_batch = next(iter(test_dataloader))"
      ]
    },
    {
      "cell_type": "code",
      "execution_count": 24,
      "metadata": {
        "id": "0y42y2P6DbST",
        "colab": {
          "base_uri": "https://localhost:8080/"
        },
        "outputId": "14ef4d2f-56d0-4b61-a885-603c94946e85"
      },
      "outputs": [
        {
          "output_type": "stream",
          "name": "stdout",
          "text": [
            "input_ids torch.Size([12, 32])\n",
            "pixel_values torch.Size([12, 3, 544, 608])\n",
            "labels torch.Size([12])\n"
          ]
        }
      ],
      "source": [
        "for k,v in batch.items():\n",
        "  print(k, v.shape)"
      ]
    },
    {
      "cell_type": "code",
      "execution_count": 25,
      "metadata": {
        "id": "rpm-ZrV_lbln",
        "colab": {
          "base_uri": "https://localhost:8080/"
        },
        "outputId": "5d8c875a-2f92-4875-892c-ffaacd31e6dc"
      },
      "outputs": [
        {
          "output_type": "stream",
          "name": "stdout",
          "text": [
            "input_ids torch.Size([12, 32])\n",
            "pixel_values torch.Size([12, 3, 608, 608])\n",
            "labels torch.Size([12])\n"
          ]
        }
      ],
      "source": [
        "for k,v in test_batch.items():\n",
        "  print(k, v.shape)"
      ]
    },
    {
      "cell_type": "code",
      "execution_count": null,
      "metadata": {
        "id": "MM56RFQ8Ic4W"
      },
      "outputs": [],
      "source": [
        "# processor.decode(batch[\"input_ids\"][0])"
      ]
    },
    {
      "cell_type": "code",
      "execution_count": null,
      "metadata": {
        "id": "NJmPSLCEIhoQ"
      },
      "outputs": [],
      "source": [
        "# batch[\"pixel_values\"][0]"
      ]
    },
    {
      "cell_type": "markdown",
      "metadata": {
        "id": "fFgKeVAZpPYz"
      },
      "source": [
        "import Model and Processor"
      ]
    },
    {
      "cell_type": "code",
      "execution_count": null,
      "metadata": {
        "id": "vQQnZxGslekZ"
      },
      "outputs": [],
      "source": [
        "# label2id = {label: encoded_id for label, encoded_id in zip(label_encoder.classes_, label_encoder.transform(label_encoder.classes_))}\n",
        "# id2label = {encoded_id: label for encoded_id, label in enumerate(label_encoder.classes_)}"
      ]
    },
    {
      "cell_type": "code",
      "execution_count": null,
      "metadata": {
        "id": "WRD6FkWRlika"
      },
      "outputs": [],
      "source": [
        "# label2id"
      ]
    },
    {
      "cell_type": "code",
      "execution_count": 26,
      "metadata": {
        "id": "jAhjQH3bmi6D"
      },
      "outputs": [],
      "source": [
        "valid_labels = label_encoder.classes_.tolist()"
      ]
    },
    {
      "cell_type": "code",
      "execution_count": null,
      "metadata": {
        "id": "CUDOVYRzms_A"
      },
      "outputs": [],
      "source": [
        "# valid_labels"
      ]
    },
    {
      "cell_type": "code",
      "execution_count": 27,
      "metadata": {
        "id": "-3Dvf-GrpOux",
        "colab": {
          "base_uri": "https://localhost:8080/"
        },
        "outputId": "9eb7d4c6-a574-455a-8fde-d42dea0bbec3"
      },
      "outputs": [
        {
          "output_type": "stream",
          "name": "stderr",
          "text": [
            "Some weights of ViltForImagesAndTextClassification were not initialized from the model checkpoint at dandelin/vilt-b32-finetuned-nlvr2 and are newly initialized because the shapes did not match:\n",
            "- classifier.0.weight: found shape torch.Size([1536, 1536]) in the checkpoint and torch.Size([768, 768]) in the model instantiated\n",
            "- classifier.0.bias: found shape torch.Size([1536]) in the checkpoint and torch.Size([768]) in the model instantiated\n",
            "- classifier.1.weight: found shape torch.Size([1536]) in the checkpoint and torch.Size([768]) in the model instantiated\n",
            "- classifier.1.bias: found shape torch.Size([1536]) in the checkpoint and torch.Size([768]) in the model instantiated\n",
            "- classifier.3.weight: found shape torch.Size([2, 1536]) in the checkpoint and torch.Size([101, 768]) in the model instantiated\n",
            "- classifier.3.bias: found shape torch.Size([2]) in the checkpoint and torch.Size([101]) in the model instantiated\n",
            "You should probably TRAIN this model on a down-stream task to be able to use it for predictions and inference.\n"
          ]
        },
        {
          "output_type": "execute_result",
          "data": {
            "text/plain": [
              "ViltForImagesAndTextClassification(\n",
              "  (vilt): ViltModel(\n",
              "    (embeddings): ViltEmbeddings(\n",
              "      (text_embeddings): TextEmbeddings(\n",
              "        (word_embeddings): Embedding(30522, 768)\n",
              "        (position_embeddings): Embedding(40, 768)\n",
              "        (token_type_embeddings): Embedding(2, 768)\n",
              "        (LayerNorm): LayerNorm((768,), eps=1e-12, elementwise_affine=True)\n",
              "        (dropout): Dropout(p=0.0, inplace=False)\n",
              "      )\n",
              "      (patch_embeddings): ViltPatchEmbeddings(\n",
              "        (projection): Conv2d(3, 768, kernel_size=(32, 32), stride=(32, 32))\n",
              "      )\n",
              "      (token_type_embeddings): Embedding(3, 768)\n",
              "      (dropout): Dropout(p=0.0, inplace=False)\n",
              "    )\n",
              "    (encoder): ViltEncoder(\n",
              "      (layer): ModuleList(\n",
              "        (0-11): 12 x ViltLayer(\n",
              "          (attention): ViltAttention(\n",
              "            (attention): ViltSelfAttention(\n",
              "              (query): Linear(in_features=768, out_features=768, bias=True)\n",
              "              (key): Linear(in_features=768, out_features=768, bias=True)\n",
              "              (value): Linear(in_features=768, out_features=768, bias=True)\n",
              "              (dropout): Dropout(p=0.0, inplace=False)\n",
              "            )\n",
              "            (output): ViltSelfOutput(\n",
              "              (dense): Linear(in_features=768, out_features=768, bias=True)\n",
              "              (dropout): Dropout(p=0.0, inplace=False)\n",
              "            )\n",
              "          )\n",
              "          (intermediate): ViltIntermediate(\n",
              "            (dense): Linear(in_features=768, out_features=3072, bias=True)\n",
              "            (intermediate_act_fn): GELUActivation()\n",
              "          )\n",
              "          (output): ViltOutput(\n",
              "            (dense): Linear(in_features=3072, out_features=768, bias=True)\n",
              "            (dropout): Dropout(p=0.0, inplace=False)\n",
              "          )\n",
              "          (layernorm_before): LayerNorm((768,), eps=1e-12, elementwise_affine=True)\n",
              "          (layernorm_after): LayerNorm((768,), eps=1e-12, elementwise_affine=True)\n",
              "        )\n",
              "      )\n",
              "    )\n",
              "    (layernorm): LayerNorm((768,), eps=1e-12, elementwise_affine=True)\n",
              "    (pooler): ViltPooler(\n",
              "      (dense): Linear(in_features=768, out_features=768, bias=True)\n",
              "      (activation): Tanh()\n",
              "    )\n",
              "  )\n",
              "  (classifier): Sequential(\n",
              "    (0): Linear(in_features=768, out_features=768, bias=True)\n",
              "    (1): LayerNorm((768,), eps=1e-05, elementwise_affine=True)\n",
              "    (2): GELU(approximate='none')\n",
              "    (3): Linear(in_features=768, out_features=101, bias=True)\n",
              "  )\n",
              ")"
            ]
          },
          "metadata": {},
          "execution_count": 27
        }
      ],
      "source": [
        "from transformers import ViltForImagesAndTextClassification\n",
        "\n",
        "device = torch.device(\"cuda\" if torch.cuda.is_available() else \"cpu\")\n",
        "\n",
        "model = ViltForImagesAndTextClassification.from_pretrained(\"dandelin/vilt-b32-finetuned-nlvr2\",\n",
        "                                                                label2id = {label: str(i) for i, label in enumerate(valid_labels)},\n",
        "                                                                id2label = {str(i): label for i, label in enumerate(valid_labels)},\n",
        "                                                                num_images = 1,\n",
        "                                                                ignore_mismatched_sizes=True)\n",
        "\n",
        "model.to(device)"
      ]
    },
    {
      "cell_type": "code",
      "execution_count": 28,
      "metadata": {
        "id": "f5iL6pUhLfd-",
        "colab": {
          "base_uri": "https://localhost:8080/"
        },
        "outputId": "32caad92-8218-4b97-fac2-484cc005600b"
      },
      "outputs": [
        {
          "output_type": "execute_result",
          "data": {
            "text/plain": [
              "ViltConfig {\n",
              "  \"_name_or_path\": \"dandelin/vilt-b32-finetuned-nlvr2\",\n",
              "  \"architectures\": [\n",
              "    \"ViltForImagesAndTextClassification\"\n",
              "  ],\n",
              "  \"attention_probs_dropout_prob\": 0.0,\n",
              "  \"hidden_act\": \"gelu\",\n",
              "  \"hidden_dropout_prob\": 0.0,\n",
              "  \"hidden_size\": 768,\n",
              "  \"id2label\": {\n",
              "    \"0\": \"apple_pie\",\n",
              "    \"1\": \"baby_back_ribs\",\n",
              "    \"10\": \"bruschetta\",\n",
              "    \"100\": \"waffles\",\n",
              "    \"11\": \"caesar_salad\",\n",
              "    \"12\": \"cannoli\",\n",
              "    \"13\": \"caprese_salad\",\n",
              "    \"14\": \"carrot_cake\",\n",
              "    \"15\": \"ceviche\",\n",
              "    \"16\": \"cheese_plate\",\n",
              "    \"17\": \"cheesecake\",\n",
              "    \"18\": \"chicken_curry\",\n",
              "    \"19\": \"chicken_quesadilla\",\n",
              "    \"2\": \"baklava\",\n",
              "    \"20\": \"chicken_wings\",\n",
              "    \"21\": \"chocolate_cake\",\n",
              "    \"22\": \"chocolate_mousse\",\n",
              "    \"23\": \"churros\",\n",
              "    \"24\": \"clam_chowder\",\n",
              "    \"25\": \"club_sandwich\",\n",
              "    \"26\": \"crab_cakes\",\n",
              "    \"27\": \"creme_brulee\",\n",
              "    \"28\": \"croque_madame\",\n",
              "    \"29\": \"cup_cakes\",\n",
              "    \"3\": \"beef_carpaccio\",\n",
              "    \"30\": \"deviled_eggs\",\n",
              "    \"31\": \"donuts\",\n",
              "    \"32\": \"dumplings\",\n",
              "    \"33\": \"edamame\",\n",
              "    \"34\": \"eggs_benedict\",\n",
              "    \"35\": \"escargots\",\n",
              "    \"36\": \"falafel\",\n",
              "    \"37\": \"filet_mignon\",\n",
              "    \"38\": \"fish_and_chips\",\n",
              "    \"39\": \"foie_gras\",\n",
              "    \"4\": \"beef_tartare\",\n",
              "    \"40\": \"french_fries\",\n",
              "    \"41\": \"french_onion_soup\",\n",
              "    \"42\": \"french_toast\",\n",
              "    \"43\": \"fried_calamari\",\n",
              "    \"44\": \"fried_rice\",\n",
              "    \"45\": \"frozen_yogurt\",\n",
              "    \"46\": \"garlic_bread\",\n",
              "    \"47\": \"gnocchi\",\n",
              "    \"48\": \"greek_salad\",\n",
              "    \"49\": \"grilled_cheese_sandwich\",\n",
              "    \"5\": \"beet_salad\",\n",
              "    \"50\": \"grilled_salmon\",\n",
              "    \"51\": \"guacamole\",\n",
              "    \"52\": \"gyoza\",\n",
              "    \"53\": \"hamburger\",\n",
              "    \"54\": \"hot_and_sour_soup\",\n",
              "    \"55\": \"hot_dog\",\n",
              "    \"56\": \"huevos_rancheros\",\n",
              "    \"57\": \"hummus\",\n",
              "    \"58\": \"ice_cream\",\n",
              "    \"59\": \"lasagna\",\n",
              "    \"6\": \"beignets\",\n",
              "    \"60\": \"lobster_bisque\",\n",
              "    \"61\": \"lobster_roll_sandwich\",\n",
              "    \"62\": \"macaroni_and_cheese\",\n",
              "    \"63\": \"macarons\",\n",
              "    \"64\": \"miso_soup\",\n",
              "    \"65\": \"mussels\",\n",
              "    \"66\": \"nachos\",\n",
              "    \"67\": \"omelette\",\n",
              "    \"68\": \"onion_rings\",\n",
              "    \"69\": \"oysters\",\n",
              "    \"7\": \"bibimbap\",\n",
              "    \"70\": \"pad_thai\",\n",
              "    \"71\": \"paella\",\n",
              "    \"72\": \"pancakes\",\n",
              "    \"73\": \"panna_cotta\",\n",
              "    \"74\": \"peking_duck\",\n",
              "    \"75\": \"pho\",\n",
              "    \"76\": \"pizza\",\n",
              "    \"77\": \"pork_chop\",\n",
              "    \"78\": \"poutine\",\n",
              "    \"79\": \"prime_rib\",\n",
              "    \"8\": \"bread_pudding\",\n",
              "    \"80\": \"pulled_pork_sandwich\",\n",
              "    \"81\": \"ramen\",\n",
              "    \"82\": \"ravioli\",\n",
              "    \"83\": \"red_velvet_cake\",\n",
              "    \"84\": \"risotto\",\n",
              "    \"85\": \"samosa\",\n",
              "    \"86\": \"sashimi\",\n",
              "    \"87\": \"scallops\",\n",
              "    \"88\": \"seaweed_salad\",\n",
              "    \"89\": \"shrimp_and_grits\",\n",
              "    \"9\": \"breakfast_burrito\",\n",
              "    \"90\": \"spaghetti_bolognese\",\n",
              "    \"91\": \"spaghetti_carbonara\",\n",
              "    \"92\": \"spring_rolls\",\n",
              "    \"93\": \"steak\",\n",
              "    \"94\": \"strawberry_shortcake\",\n",
              "    \"95\": \"sushi\",\n",
              "    \"96\": \"tacos\",\n",
              "    \"97\": \"takoyaki\",\n",
              "    \"98\": \"tiramisu\",\n",
              "    \"99\": \"tuna_tartare\"\n",
              "  },\n",
              "  \"image_size\": 384,\n",
              "  \"initializer_range\": 0.02,\n",
              "  \"intermediate_size\": 3072,\n",
              "  \"label2id\": {\n",
              "    \"apple_pie\": \"0\",\n",
              "    \"baby_back_ribs\": \"1\",\n",
              "    \"baklava\": \"2\",\n",
              "    \"beef_carpaccio\": \"3\",\n",
              "    \"beef_tartare\": \"4\",\n",
              "    \"beet_salad\": \"5\",\n",
              "    \"beignets\": \"6\",\n",
              "    \"bibimbap\": \"7\",\n",
              "    \"bread_pudding\": \"8\",\n",
              "    \"breakfast_burrito\": \"9\",\n",
              "    \"bruschetta\": \"10\",\n",
              "    \"caesar_salad\": \"11\",\n",
              "    \"cannoli\": \"12\",\n",
              "    \"caprese_salad\": \"13\",\n",
              "    \"carrot_cake\": \"14\",\n",
              "    \"ceviche\": \"15\",\n",
              "    \"cheese_plate\": \"16\",\n",
              "    \"cheesecake\": \"17\",\n",
              "    \"chicken_curry\": \"18\",\n",
              "    \"chicken_quesadilla\": \"19\",\n",
              "    \"chicken_wings\": \"20\",\n",
              "    \"chocolate_cake\": \"21\",\n",
              "    \"chocolate_mousse\": \"22\",\n",
              "    \"churros\": \"23\",\n",
              "    \"clam_chowder\": \"24\",\n",
              "    \"club_sandwich\": \"25\",\n",
              "    \"crab_cakes\": \"26\",\n",
              "    \"creme_brulee\": \"27\",\n",
              "    \"croque_madame\": \"28\",\n",
              "    \"cup_cakes\": \"29\",\n",
              "    \"deviled_eggs\": \"30\",\n",
              "    \"donuts\": \"31\",\n",
              "    \"dumplings\": \"32\",\n",
              "    \"edamame\": \"33\",\n",
              "    \"eggs_benedict\": \"34\",\n",
              "    \"escargots\": \"35\",\n",
              "    \"falafel\": \"36\",\n",
              "    \"filet_mignon\": \"37\",\n",
              "    \"fish_and_chips\": \"38\",\n",
              "    \"foie_gras\": \"39\",\n",
              "    \"french_fries\": \"40\",\n",
              "    \"french_onion_soup\": \"41\",\n",
              "    \"french_toast\": \"42\",\n",
              "    \"fried_calamari\": \"43\",\n",
              "    \"fried_rice\": \"44\",\n",
              "    \"frozen_yogurt\": \"45\",\n",
              "    \"garlic_bread\": \"46\",\n",
              "    \"gnocchi\": \"47\",\n",
              "    \"greek_salad\": \"48\",\n",
              "    \"grilled_cheese_sandwich\": \"49\",\n",
              "    \"grilled_salmon\": \"50\",\n",
              "    \"guacamole\": \"51\",\n",
              "    \"gyoza\": \"52\",\n",
              "    \"hamburger\": \"53\",\n",
              "    \"hot_and_sour_soup\": \"54\",\n",
              "    \"hot_dog\": \"55\",\n",
              "    \"huevos_rancheros\": \"56\",\n",
              "    \"hummus\": \"57\",\n",
              "    \"ice_cream\": \"58\",\n",
              "    \"lasagna\": \"59\",\n",
              "    \"lobster_bisque\": \"60\",\n",
              "    \"lobster_roll_sandwich\": \"61\",\n",
              "    \"macaroni_and_cheese\": \"62\",\n",
              "    \"macarons\": \"63\",\n",
              "    \"miso_soup\": \"64\",\n",
              "    \"mussels\": \"65\",\n",
              "    \"nachos\": \"66\",\n",
              "    \"omelette\": \"67\",\n",
              "    \"onion_rings\": \"68\",\n",
              "    \"oysters\": \"69\",\n",
              "    \"pad_thai\": \"70\",\n",
              "    \"paella\": \"71\",\n",
              "    \"pancakes\": \"72\",\n",
              "    \"panna_cotta\": \"73\",\n",
              "    \"peking_duck\": \"74\",\n",
              "    \"pho\": \"75\",\n",
              "    \"pizza\": \"76\",\n",
              "    \"pork_chop\": \"77\",\n",
              "    \"poutine\": \"78\",\n",
              "    \"prime_rib\": \"79\",\n",
              "    \"pulled_pork_sandwich\": \"80\",\n",
              "    \"ramen\": \"81\",\n",
              "    \"ravioli\": \"82\",\n",
              "    \"red_velvet_cake\": \"83\",\n",
              "    \"risotto\": \"84\",\n",
              "    \"samosa\": \"85\",\n",
              "    \"sashimi\": \"86\",\n",
              "    \"scallops\": \"87\",\n",
              "    \"seaweed_salad\": \"88\",\n",
              "    \"shrimp_and_grits\": \"89\",\n",
              "    \"spaghetti_bolognese\": \"90\",\n",
              "    \"spaghetti_carbonara\": \"91\",\n",
              "    \"spring_rolls\": \"92\",\n",
              "    \"steak\": \"93\",\n",
              "    \"strawberry_shortcake\": \"94\",\n",
              "    \"sushi\": \"95\",\n",
              "    \"tacos\": \"96\",\n",
              "    \"takoyaki\": \"97\",\n",
              "    \"tiramisu\": \"98\",\n",
              "    \"tuna_tartare\": \"99\",\n",
              "    \"waffles\": \"100\"\n",
              "  },\n",
              "  \"layer_norm_eps\": 1e-12,\n",
              "  \"max_image_length\": -1,\n",
              "  \"max_position_embeddings\": 40,\n",
              "  \"modality_type_vocab_size\": 3,\n",
              "  \"model_type\": \"vilt\",\n",
              "  \"num_attention_heads\": 12,\n",
              "  \"num_channels\": 3,\n",
              "  \"num_hidden_layers\": 12,\n",
              "  \"num_images\": 1,\n",
              "  \"patch_size\": 32,\n",
              "  \"qkv_bias\": true,\n",
              "  \"tie_word_embeddings\": false,\n",
              "  \"torch_dtype\": \"float32\",\n",
              "  \"transformers_version\": \"4.32.1\",\n",
              "  \"type_vocab_size\": 2,\n",
              "  \"vocab_size\": 30522\n",
              "}"
            ]
          },
          "metadata": {},
          "execution_count": 28
        }
      ],
      "source": [
        "model.config"
      ]
    },
    {
      "cell_type": "markdown",
      "metadata": {
        "id": "Z4dJNlYITN1l"
      },
      "source": [
        "Training Loop"
      ]
    },
    {
      "cell_type": "code",
      "execution_count": 29,
      "metadata": {
        "id": "VuZ69KYTju-K"
      },
      "outputs": [],
      "source": [
        "from sklearn.metrics import accuracy_score, precision_score, recall_score, f1_score, classification_report\n",
        "from tqdm.notebook import tqdm\n",
        "import numpy as np\n",
        "from datetime import datetime"
      ]
    },
    {
      "cell_type": "code",
      "execution_count": 30,
      "metadata": {
        "id": "kJu2uVb2-UHu"
      },
      "outputs": [],
      "source": [
        "checkpoint_dir = \"/content/Model/Models-Train-38/\""
      ]
    },
    {
      "cell_type": "code",
      "execution_count": 31,
      "metadata": {
        "colab": {
          "base_uri": "https://localhost:8080/",
          "height": 700,
          "referenced_widgets": [
            "8075df076b274e3a88c7177b86305629",
            "5e80fbfee804450a944d31d8a0f9c6c4",
            "71dd405ab5744c7bbe2230f555c41bcb",
            "7973272c1acc4a29a823151584bac47f",
            "cbda5c30cead40cbae9b8dd023216d9b",
            "42cf40cb4fea412fb569651976700d2b",
            "e1b98b4363874f33a6ae6392ad728106",
            "8d3f63b5a5f74cc0bb11f7c75d6bf3a2",
            "b2614552d18a4c9f826e22d37584d49e",
            "bfaaaab7f3434a6195ffa01b37185a71",
            "6f365bf4400141ea962461e17056057b",
            "00535553a93f4402a53edadb2455898f",
            "4fd04a2b63b9458db518ac801ae5e18d",
            "75344f37523e4c51a348ca31576e4b2c",
            "58d90eace4b341c3bf75b607657895f3",
            "20f6211196b0481db25da67347541987",
            "e001a310303d40a4a0215375a69444c9",
            "b87ffae749464da1a0e6a738fbbedf92",
            "d7a87af85a9e43ec8524e651716b53dd",
            "e7d148b8deb04f749e8485acfd23244a",
            "539105853a3747ed918efe3f08df6c4d",
            "096491d1e249426e93f3c508b6de160a",
            "f43beb7898264d9c9a3e6181dc706368",
            "d3632975ef504ebbab966b9141bf9b0c",
            "27bb3de6047140c68b3429f30eb1b729",
            "2601856423a64ec0b728320d28333b04",
            "f1d51d429f9d44b18c8220777ccbbdc5",
            "f1c217c0a4874c179a5abfd01d4aa809",
            "eb60aa0deee64b03bf55472fe6531810",
            "ca3b9ee516ec4b608c436439f0b93b6b",
            "187c6420af2a4a08a20f81da436cd8f1",
            "83771303a5a4471b9b1a885b83282696",
            "e4ceddeb15564ec9a3833b772e06d4bc"
          ]
        },
        "id": "7R63NqnDRkmA",
        "outputId": "0b5ed400-0b74-45d9-a7fd-97ece81b0ebe"
      },
      "outputs": [
        {
          "output_type": "stream",
          "name": "stdout",
          "text": [
            "Epoch: 0\n"
          ]
        },
        {
          "output_type": "display_data",
          "data": {
            "text/plain": [
              "  0%|          | 0/5666 [00:00<?, ?it/s]"
            ],
            "application/vnd.jupyter.widget-view+json": {
              "version_major": 2,
              "version_minor": 0,
              "model_id": "8075df076b274e3a88c7177b86305629"
            }
          },
          "metadata": {}
        },
        {
          "output_type": "stream",
          "name": "stderr",
          "text": [
            "/usr/local/lib/python3.10/dist-packages/PIL/TiffImagePlugin.py:819: UserWarning: Truncated File Read\n",
            "  warnings.warn(str(msg))\n"
          ]
        },
        {
          "output_type": "stream",
          "name": "stdout",
          "text": [
            "Training Loss:  1127.4939217668725\n",
            "Saving Model at epoch: 0\n"
          ]
        },
        {
          "output_type": "display_data",
          "data": {
            "text/plain": [
              "  0%|          | 0/1893 [00:00<?, ?it/s]"
            ],
            "application/vnd.jupyter.widget-view+json": {
              "version_major": 2,
              "version_minor": 0,
              "model_id": "00535553a93f4402a53edadb2455898f"
            }
          },
          "metadata": {}
        },
        {
          "output_type": "stream",
          "name": "stdout",
          "text": [
            "Accuracy: 0.9916358513822856\n",
            "Precision: 0.9921931645762674\n",
            "Recall: 0.9915688183273522\n",
            "F1-Score: 0.9916669351842866\n",
            "Epoch: 1\n"
          ]
        },
        {
          "output_type": "display_data",
          "data": {
            "text/plain": [
              "  0%|          | 0/5666 [00:00<?, ?it/s]"
            ],
            "application/vnd.jupyter.widget-view+json": {
              "version_major": 2,
              "version_minor": 0,
              "model_id": "f43beb7898264d9c9a3e6181dc706368"
            }
          },
          "metadata": {}
        },
        {
          "output_type": "error",
          "ename": "KeyboardInterrupt",
          "evalue": "ignored",
          "traceback": [
            "\u001b[0;31m---------------------------------------------------------------------------\u001b[0m",
            "\u001b[0;31mKeyboardInterrupt\u001b[0m                         Traceback (most recent call last)",
            "\u001b[0;32m<ipython-input-31-390fd594b77c>\u001b[0m in \u001b[0;36m<cell line: 4>\u001b[0;34m()\u001b[0m\n\u001b[1;32m     13\u001b[0m         \u001b[0;31m# print(\"Loss:\", loss.item())\u001b[0m\u001b[0;34m\u001b[0m\u001b[0;34m\u001b[0m\u001b[0m\n\u001b[1;32m     14\u001b[0m         \u001b[0mtrain_loss\u001b[0m \u001b[0;34m+=\u001b[0m \u001b[0mloss\u001b[0m\u001b[0;34m.\u001b[0m\u001b[0mitem\u001b[0m\u001b[0;34m(\u001b[0m\u001b[0;34m)\u001b[0m\u001b[0;34m\u001b[0m\u001b[0;34m\u001b[0m\u001b[0m\n\u001b[0;32m---> 15\u001b[0;31m         \u001b[0mloss\u001b[0m\u001b[0;34m.\u001b[0m\u001b[0mbackward\u001b[0m\u001b[0;34m(\u001b[0m\u001b[0;34m)\u001b[0m\u001b[0;34m\u001b[0m\u001b[0;34m\u001b[0m\u001b[0m\n\u001b[0m\u001b[1;32m     16\u001b[0m         \u001b[0moptimizer\u001b[0m\u001b[0;34m.\u001b[0m\u001b[0mstep\u001b[0m\u001b[0;34m(\u001b[0m\u001b[0;34m)\u001b[0m\u001b[0;34m\u001b[0m\u001b[0;34m\u001b[0m\u001b[0m\n\u001b[1;32m     17\u001b[0m \u001b[0;34m\u001b[0m\u001b[0m\n",
            "\u001b[0;32m/usr/local/lib/python3.10/dist-packages/torch/_tensor.py\u001b[0m in \u001b[0;36mbackward\u001b[0;34m(self, gradient, retain_graph, create_graph, inputs)\u001b[0m\n\u001b[1;32m    485\u001b[0m                 \u001b[0minputs\u001b[0m\u001b[0;34m=\u001b[0m\u001b[0minputs\u001b[0m\u001b[0;34m,\u001b[0m\u001b[0;34m\u001b[0m\u001b[0;34m\u001b[0m\u001b[0m\n\u001b[1;32m    486\u001b[0m             )\n\u001b[0;32m--> 487\u001b[0;31m         torch.autograd.backward(\n\u001b[0m\u001b[1;32m    488\u001b[0m             \u001b[0mself\u001b[0m\u001b[0;34m,\u001b[0m \u001b[0mgradient\u001b[0m\u001b[0;34m,\u001b[0m \u001b[0mretain_graph\u001b[0m\u001b[0;34m,\u001b[0m \u001b[0mcreate_graph\u001b[0m\u001b[0;34m,\u001b[0m \u001b[0minputs\u001b[0m\u001b[0;34m=\u001b[0m\u001b[0minputs\u001b[0m\u001b[0;34m\u001b[0m\u001b[0;34m\u001b[0m\u001b[0m\n\u001b[1;32m    489\u001b[0m         )\n",
            "\u001b[0;32m/usr/local/lib/python3.10/dist-packages/torch/autograd/__init__.py\u001b[0m in \u001b[0;36mbackward\u001b[0;34m(tensors, grad_tensors, retain_graph, create_graph, grad_variables, inputs)\u001b[0m\n\u001b[1;32m    198\u001b[0m     \u001b[0;31m# some Python versions print out the first line of a multi-line function\u001b[0m\u001b[0;34m\u001b[0m\u001b[0;34m\u001b[0m\u001b[0m\n\u001b[1;32m    199\u001b[0m     \u001b[0;31m# calls in the traceback and some print out the last line\u001b[0m\u001b[0;34m\u001b[0m\u001b[0;34m\u001b[0m\u001b[0m\n\u001b[0;32m--> 200\u001b[0;31m     Variable._execution_engine.run_backward(  # Calls into the C++ engine to run the backward pass\n\u001b[0m\u001b[1;32m    201\u001b[0m         \u001b[0mtensors\u001b[0m\u001b[0;34m,\u001b[0m \u001b[0mgrad_tensors_\u001b[0m\u001b[0;34m,\u001b[0m \u001b[0mretain_graph\u001b[0m\u001b[0;34m,\u001b[0m \u001b[0mcreate_graph\u001b[0m\u001b[0;34m,\u001b[0m \u001b[0minputs\u001b[0m\u001b[0;34m,\u001b[0m\u001b[0;34m\u001b[0m\u001b[0;34m\u001b[0m\u001b[0m\n\u001b[1;32m    202\u001b[0m         allow_unreachable=True, accumulate_grad=True)  # Calls into the C++ engine to run the backward pass\n",
            "\u001b[0;31mKeyboardInterrupt\u001b[0m: "
          ]
        }
      ],
      "source": [
        "optimizer = torch.optim.AdamW(model.parameters(), lr=5e-5)\n",
        "\n",
        "for epoch in range(50):\n",
        "   model.train()\n",
        "   print(f\"Epoch: {epoch}\")\n",
        "   train_loss = 0\n",
        "   for batch in tqdm(train_dataloader):\n",
        "        # get the inputs;\n",
        "        batch = {k:v.to(device) for k,v in batch.items()}\n",
        "        optimizer.zero_grad()\n",
        "        outputs = model(**batch)\n",
        "        loss = outputs.loss\n",
        "        # print(\"Loss:\", loss.item())\n",
        "        train_loss += loss.item()\n",
        "        loss.backward()\n",
        "        optimizer.step()\n",
        "\n",
        "   print(\"Training Loss: \", train_loss)\n",
        "   print(f\"Saving Model at epoch: {epoch}\")\n",
        "\n",
        "   timestamp = datetime.now().strftime(\"%Y-%m-%d_%H-%M-%S\")\n",
        "   model_folder = os.path.join(checkpoint_dir, f\"model_{timestamp}\")\n",
        "   os.makedirs(model_folder, exist_ok=True)\n",
        "\n",
        "  #  processor.save_pretrained(checkpoint_dir)\n",
        "   model.save_pretrained(model_folder)\n",
        "\n",
        "   model.eval()\n",
        "   preds = []\n",
        "   orignal = []\n",
        "   for batch in tqdm(test_dataloader):\n",
        "       batch = {k:v.to(device) for k,v in batch.items()}\n",
        "\n",
        "       outputs = model(**batch)\n",
        "\n",
        "       scores = outputs.logits\n",
        "       preds_current = torch.argmax(scores, dim=1)\n",
        "\n",
        "       preds += preds_current.cpu().numpy().tolist()\n",
        "       orignal += batch[\"labels\"].detach().cpu().numpy().tolist()\n",
        "\n",
        "   accuracy = accuracy_score(orignal, preds)\n",
        "   precision = precision_score(orignal, preds, average='macro')\n",
        "   recall = recall_score(orignal, preds, average='macro')\n",
        "   f1 = f1_score(orignal, preds, average='macro')\n",
        "\n",
        "   print(f\"Accuracy: {accuracy}\")\n",
        "   print(f\"Precision: {precision}\")\n",
        "   print(f\"Recall: {recall}\")\n",
        "   print(f\"F1-Score: {f1}\")\n"
      ]
    },
    {
      "cell_type": "markdown",
      "source": [
        "# Missing Percentage Validation"
      ],
      "metadata": {
        "id": "sBKAVqIzQgD3"
      }
    },
    {
      "cell_type": "code",
      "execution_count": null,
      "metadata": {
        "id": "A8NTxeFKU-lj"
      },
      "outputs": [],
      "source": [
        "import os\n",
        "\n",
        "test_image_file_paths = []\n",
        "test_image_genre_labels = []\n",
        "\n",
        "labels_file = \"./ferramenta_Images/test_dataset.txt\"\n",
        "\n",
        "with open(labels_file, 'r') as file:\n",
        "    for line in file:\n",
        "        parts = line.strip().split(', ')\n",
        "        filename = parts[0].strip()\n",
        "        labels = parts[1].strip()\n",
        "        test_image_file_paths.append(filename)\n",
        "        test_image_genre_labels.append(labels)"
      ]
    },
    {
      "cell_type": "code",
      "source": [
        "len(test_image_file_paths)"
      ],
      "metadata": {
        "id": "FF1bl3e_USt3"
      },
      "execution_count": null,
      "outputs": []
    },
    {
      "cell_type": "code",
      "execution_count": null,
      "metadata": {
        "id": "d6wg2b-SUd_a"
      },
      "outputs": [],
      "source": [
        "import pandas as pd\n",
        "\n",
        "df_test = pd.read_csv(\"./test.csv\")"
      ]
    },
    {
      "cell_type": "code",
      "source": [
        "df_test"
      ],
      "metadata": {
        "id": "onqjFL02pgsF"
      },
      "execution_count": null,
      "outputs": []
    },
    {
      "cell_type": "code",
      "source": [
        "# null_indices = df_test[df_test['description'].isnull()].index\n",
        "\n",
        "\n",
        "# print(\"Indices of rows with null entries in 'text' column:\")\n",
        "# print(null_indices)\n"
      ],
      "metadata": {
        "id": "8jMquC0vFsn7"
      },
      "execution_count": null,
      "outputs": []
    },
    {
      "cell_type": "code",
      "source": [
        "# As description contains 1024 null entries\n",
        "df_test['description'].fillna(\" \", inplace=True)"
      ],
      "metadata": {
        "id": "ynwf6zJBGBt1"
      },
      "execution_count": null,
      "outputs": []
    },
    {
      "cell_type": "code",
      "execution_count": null,
      "metadata": {
        "id": "5O2rU7UsWcQF"
      },
      "outputs": [],
      "source": [
        "df_test['text'] = df_test[\"title\"] + df_test['description']"
      ]
    },
    {
      "cell_type": "code",
      "source": [
        "import re\n",
        "\n",
        "def remove_numbers(text):\n",
        "    if isinstance(text, str):\n",
        "        return re.sub(r'\\d+', '', text)\n",
        "    else:\n",
        "        return text"
      ],
      "metadata": {
        "id": "SCq6IrORQ2C_"
      },
      "execution_count": null,
      "outputs": []
    },
    {
      "cell_type": "code",
      "source": [
        "df_test['text'] = df_test['text'].apply(remove_numbers)"
      ],
      "metadata": {
        "id": "wbKpP-mrQ4Jj"
      },
      "execution_count": null,
      "outputs": []
    },
    {
      "cell_type": "code",
      "source": [
        "null_text_count = df_test['text'].isnull().sum()\n",
        "print(null_text_count)"
      ],
      "metadata": {
        "id": "ZtXKalmx5UCV"
      },
      "execution_count": null,
      "outputs": []
    },
    {
      "cell_type": "code",
      "source": [
        "df_test.drop(df_test.columns.difference(['class', 'text']), axis=1, inplace=True)"
      ],
      "metadata": {
        "id": "i2Lo43W25mxb"
      },
      "execution_count": null,
      "outputs": []
    },
    {
      "cell_type": "code",
      "source": [
        "df_test['class'] = df_test['class'].str.replace('_@', '')"
      ],
      "metadata": {
        "id": "q1-D_Oveytbj"
      },
      "execution_count": null,
      "outputs": []
    },
    {
      "cell_type": "code",
      "source": [
        "unique_classes = df_test['class'].unique()\n",
        "print(len(unique_classes))"
      ],
      "metadata": {
        "id": "AfQc0rZJQ-Bn"
      },
      "execution_count": null,
      "outputs": []
    },
    {
      "cell_type": "code",
      "source": [
        "# class_counts = df_test['class'].value_counts()\n",
        "\n",
        "\n",
        "# print(\"Class counts:\")\n",
        "# print(class_counts)"
      ],
      "metadata": {
        "id": "x7okTa3epHo5"
      },
      "execution_count": null,
      "outputs": []
    },
    {
      "cell_type": "code",
      "source": [
        "# percentage_to_filter = 0.9  # Change this to your desired percentage"
      ],
      "metadata": {
        "id": "6Wa7k1GQRCDT"
      },
      "execution_count": null,
      "outputs": []
    },
    {
      "cell_type": "code",
      "source": [
        "# filtered_rows = pd.DataFrame()\n",
        "\n",
        "# for class_name in unique_classes:\n",
        "#     class_rows = df_test[df_test['class'] == class_name]\n",
        "#     num_rows_to_keep = int(len(class_rows) * percentage_to_filter)\n",
        "#     sampled_rows = class_rows.sample(n=num_rows_to_keep, random_state=42)  # You can change the random_state if needed\n",
        "#     filtered_rows = pd.concat([filtered_rows, sampled_rows])\n",
        "\n",
        "# remaining_rows = df_test[~df_test.index.isin(filtered_rows.index)]\n",
        "# remaining_rows['text'] = \" \"\n",
        "\n",
        "\n",
        "# df_test = pd.concat([filtered_rows, remaining_rows])"
      ],
      "metadata": {
        "id": "u91zMztrRD9_"
      },
      "execution_count": null,
      "outputs": []
    },
    {
      "cell_type": "code",
      "source": [
        "percentage_to_keep = 1\n",
        "\n",
        "final_df = pd.DataFrame(columns=df_test.columns)\n",
        "\n",
        "for class_name in unique_classes:\n",
        "\n",
        "    class_rows = df_test[df_test['class'] == class_name]\n",
        "    num_rows_to_keep = int(len(class_rows) * percentage_to_keep)\n",
        "    sampled_rows = class_rows.head(num_rows_to_keep)\n",
        "    final_df = pd.concat([final_df, sampled_rows])\n",
        "\n",
        "remaining_rows = df_test[~df_test.index.isin(final_df.index)]\n",
        "remaining_rows['text'] = \" \"\n",
        "\n",
        "# Step 6: Combine the sampled and updated rows to get the final DataFrame\n",
        "final_df_updated = pd.concat([final_df, remaining_rows])"
      ],
      "metadata": {
        "id": "kwjQseFO36rQ"
      },
      "execution_count": null,
      "outputs": []
    },
    {
      "cell_type": "code",
      "source": [
        "df_test = final_df_updated"
      ],
      "metadata": {
        "id": "6k_VTzTx6LDC"
      },
      "execution_count": null,
      "outputs": []
    },
    {
      "cell_type": "code",
      "source": [
        "# class_counts = final_df['class'].value_counts()\n",
        "\n",
        "# # Display the counts\n",
        "# print(\"Class counts:\")\n",
        "# print(class_counts)"
      ],
      "metadata": {
        "id": "pi7YwEK7oKLS"
      },
      "execution_count": null,
      "outputs": []
    },
    {
      "cell_type": "code",
      "source": [
        "# Check how many rows in df_test have \"no text\" in the 'text' column\n",
        "count_no_text = (df_test['text'] == \" \").sum()\n",
        "print(f\"Number of rows with 'no text': {count_no_text}\")"
      ],
      "metadata": {
        "id": "4u3UUrCQUOdu"
      },
      "execution_count": null,
      "outputs": []
    },
    {
      "cell_type": "code",
      "source": [
        "# df_test"
      ],
      "metadata": {
        "id": "HzsBRUHizFSE"
      },
      "execution_count": null,
      "outputs": []
    },
    {
      "cell_type": "code",
      "source": [
        "# df_test[ df_test['class']== \"estrattore_\"]"
      ],
      "metadata": {
        "id": "ZIbRw-j9AxMl"
      },
      "execution_count": null,
      "outputs": []
    },
    {
      "cell_type": "code",
      "source": [
        "test_texts_csv_lst = df_test['text'].tolist()"
      ],
      "metadata": {
        "id": "VR2NqiElSyAb"
      },
      "execution_count": null,
      "outputs": []
    },
    {
      "cell_type": "code",
      "source": [
        "len(test_texts_csv_lst)"
      ],
      "metadata": {
        "id": "sBwOfpy-Syro"
      },
      "execution_count": null,
      "outputs": []
    },
    {
      "cell_type": "code",
      "source": [
        "# from transformers import AutoTokenizer\n",
        "\n",
        "# # Assuming df_test is your DataFrame with 'text' column\n",
        "\n",
        "# model_name = \"dbmdz/bert-base-italian-cased\"\n",
        "# tokenizer = AutoTokenizer.from_pretrained(model_name)\n",
        "\n",
        "# # Tokenize the 'text' column\n",
        "# df_test['text_tokens'] = df_test['text'].apply(lambda x: tokenizer.encode(x, add_special_tokens=True, truncation=True, padding=True))"
      ],
      "metadata": {
        "id": "xyRERUOFrurx"
      },
      "execution_count": null,
      "outputs": []
    },
    {
      "cell_type": "code",
      "source": [
        "# print(tokenizer.decode(df_test['text_tokens'][0]))\n",
        "# print(df_test['text_tokens'][0])"
      ],
      "metadata": {
        "id": "5rJGcjEMr09N"
      },
      "execution_count": null,
      "outputs": []
    },
    {
      "cell_type": "code",
      "source": [
        "# test_texts_csv_lst[0]"
      ],
      "metadata": {
        "id": "u4GFQw9yyKCh"
      },
      "execution_count": null,
      "outputs": []
    },
    {
      "cell_type": "code",
      "source": [
        "from sklearn.preprocessing import LabelEncoder\n",
        "\n",
        "label_encoder = LabelEncoder()\n",
        "label_encoder.fit(test_image_genre_labels)\n",
        "test_transformed_genre_labels = label_encoder.transform(test_image_genre_labels)\n",
        "test_transformed_genre_labels = test_transformed_genre_labels.tolist()"
      ],
      "metadata": {
        "id": "uw7yMW_-S99l"
      },
      "execution_count": null,
      "outputs": []
    },
    {
      "cell_type": "code",
      "source": [
        "import torch\n",
        "from PIL import Image as pil\n",
        "\n",
        "class CustomDataset(torch.utils.data.Dataset):\n",
        "    def __init__(self, images, texts, labels, processor):\n",
        "        self.images = images\n",
        "        self.texts = texts\n",
        "        self.labels = labels\n",
        "        self.processor = processor\n",
        "\n",
        "    def __len__(self):\n",
        "        return len(self.images)\n",
        "\n",
        "    def __getitem__(self, idx):\n",
        "        image = self.images[idx]\n",
        "        text = self.texts[idx]\n",
        "        label = self.labels[idx]\n",
        "\n",
        "        encoding = self.processor(pil.open(image).convert(\"RGB\"), text,  max_length=32, add_special_tokens=True,  is_split_into_words=False, padding=\"max_length\", truncation=True, return_tensors=\"pt\")\n",
        "        for k,v in encoding.items():\n",
        "          encoding[k] = v.squeeze()\n",
        "\n",
        "        # encoding[\"labels\"] = label\n",
        "        encoding[\"labels\"] = torch.tensor(label)\n",
        "\n",
        "        return encoding"
      ],
      "metadata": {
        "id": "AcbsctLYS0hF"
      },
      "execution_count": null,
      "outputs": []
    },
    {
      "cell_type": "code",
      "source": [
        "from transformers import ViltProcessor\n",
        "\n",
        "processor = ViltProcessor.from_pretrained(\"/content/Model/Models-Train-35/\")\n",
        "\n",
        "test_dataset = CustomDataset(images=test_image_file_paths,\n",
        "                     texts=test_texts_csv_lst,\n",
        "                     labels=test_transformed_genre_labels,\n",
        "                     processor=processor)"
      ],
      "metadata": {
        "id": "2J5n-jImS4Qc"
      },
      "execution_count": null,
      "outputs": []
    },
    {
      "cell_type": "code",
      "source": [
        "import torch\n",
        "\n",
        "def collate_fn(batch):\n",
        "  return {\n",
        "      \"input_ids\": torch.stack([x[\"input_ids\"] for x in batch]),\n",
        "      \"pixel_values\": torch.stack([x[\"pixel_values\"] for x in batch]),\n",
        "      # \"attention_mask\": torch.stack([x[\"attention_mask\"] for x in batch]),\n",
        "      # \"token_type_ids\": torch.stack([x[\"token_type_ids\"] for x in batch]),\n",
        "      # \"pixel_mask\": torch.stack([x[\"pixel_mask\"] for x in batch]),\n",
        "      \"labels\": torch.stack([torch.tensor(x[\"labels\"]) for x in batch]),\n",
        "  }"
      ],
      "metadata": {
        "id": "gIYvG7i3TS0G"
      },
      "execution_count": null,
      "outputs": []
    },
    {
      "cell_type": "code",
      "source": [
        "from torch.utils.data import DataLoader\n",
        "\n",
        "test_dataloader = DataLoader(test_dataset, collate_fn=collate_fn, batch_size=12, shuffle=False)"
      ],
      "metadata": {
        "id": "HocDbtriTTYH"
      },
      "execution_count": null,
      "outputs": []
    },
    {
      "cell_type": "markdown",
      "source": [
        "# Fused Validation"
      ],
      "metadata": {
        "id": "ZHDJ3h9aP-uD"
      }
    },
    {
      "cell_type": "code",
      "source": [
        "from transformers import ViltForImagesAndTextClassification\n",
        "\n",
        "device = torch.device(\"cuda\" if torch.cuda.is_available() else \"cpu\")\n",
        "\n",
        "model = ViltForImagesAndTextClassification.from_pretrained(\"/content/Model/Models-Train-35/\")\n",
        "\n",
        "model.to(device)"
      ],
      "metadata": {
        "id": "I9t0kwFjH1M-"
      },
      "execution_count": null,
      "outputs": []
    },
    {
      "cell_type": "code",
      "execution_count": null,
      "metadata": {
        "id": "MEiTKG5CQV4t"
      },
      "outputs": [],
      "source": [
        "import numpy as np\n",
        "from tqdm.notebook import tqdm\n",
        "\n",
        "preds = []\n",
        "orignal = []\n",
        "\n",
        "for batch in tqdm(test_dataloader):\n",
        "    batch = {k:v.to(device) for k,v in batch.items()}\n",
        "\n",
        "    outputs = model(**batch)\n",
        "\n",
        "    scores = outputs.logits\n",
        "    preds_current = torch.argmax(scores, dim=1)\n",
        "\n",
        "    preds += preds_current.cpu().numpy().tolist()\n",
        "    orignal += batch[\"labels\"].detach().cpu().numpy().tolist()"
      ]
    },
    {
      "cell_type": "code",
      "execution_count": null,
      "metadata": {
        "id": "le97wBG-_yAX"
      },
      "outputs": [],
      "source": [
        "from sklearn.metrics import accuracy_score, precision_score, recall_score, f1_score, classification_report\n",
        "\n",
        "accuracy = accuracy_score(orignal, preds)\n",
        "precision = precision_score(orignal, preds, average='macro')\n",
        "recall = recall_score(orignal, preds, average='macro')\n",
        "f1 = f1_score(orignal, preds, average='macro')"
      ]
    },
    {
      "cell_type": "code",
      "execution_count": null,
      "metadata": {
        "id": "bW6fK5X4R21O"
      },
      "outputs": [],
      "source": [
        "print(f\"Accuracy: {accuracy}\")\n",
        "print(f\"Precision: {precision}\")\n",
        "print(f\"Recall: {recall}\")\n",
        "print(f\"F1-Score: {f1}\")"
      ]
    },
    {
      "cell_type": "markdown",
      "source": [
        "# Extract Model's Number of Trained Parameters"
      ],
      "metadata": {
        "id": "0_Bp8y6s0SXc"
      }
    },
    {
      "cell_type": "code",
      "source": [
        "# from transformers import ViltForImagesAndTextClassification\n",
        "\n",
        "# device = torch.device(\"cuda\" if torch.cuda.is_available() else \"cpu\")\n",
        "\n",
        "# model = ViltForImagesAndTextClassification.from_pretrained(\"/content/Model/Models-Train-35/\")\n",
        "\n",
        "# model.to(device)"
      ],
      "metadata": {
        "id": "tSuqIQwu1moc"
      },
      "execution_count": null,
      "outputs": []
    },
    {
      "cell_type": "code",
      "source": [
        "from transformers import ViTForImageClassification\n",
        "import torch\n",
        "\n",
        "device = torch.device(\"cuda\" if torch.cuda.is_available() else \"cpu\")\n",
        "model = ViTForImageClassification.from_pretrained(f\"/content/Model/Models-Train-18/checkpoint-81000\").to(device)\n",
        "\n",
        "num_parameters = sum(p.numel() for p in model.parameters() if p.requires_grad)"
      ],
      "metadata": {
        "id": "kQeIXx4h0Tc9"
      },
      "execution_count": null,
      "outputs": []
    },
    {
      "cell_type": "code",
      "source": [
        "print(num_parameters)"
      ],
      "metadata": {
        "id": "8nU3Xajd0lXD"
      },
      "execution_count": null,
      "outputs": []
    },
    {
      "cell_type": "code",
      "source": [],
      "metadata": {
        "id": "PX97MgM_0_aH"
      },
      "execution_count": null,
      "outputs": []
    }
  ],
  "metadata": {
    "accelerator": "GPU",
    "colab": {
      "provenance": [],
      "collapsed_sections": [
        "382wBoPnTfhV",
        "ZHDJ3h9aP-uD",
        "0_Bp8y6s0SXc"
      ],
      "include_colab_link": true
    },
    "kernelspec": {
      "display_name": "Python 3",
      "name": "python3"
    },
    "language_info": {
      "name": "python"
    },
    "widgets": {
      "application/vnd.jupyter.widget-state+json": {
        "8075df076b274e3a88c7177b86305629": {
          "model_module": "@jupyter-widgets/controls",
          "model_name": "HBoxModel",
          "model_module_version": "1.5.0",
          "state": {
            "_dom_classes": [],
            "_model_module": "@jupyter-widgets/controls",
            "_model_module_version": "1.5.0",
            "_model_name": "HBoxModel",
            "_view_count": null,
            "_view_module": "@jupyter-widgets/controls",
            "_view_module_version": "1.5.0",
            "_view_name": "HBoxView",
            "box_style": "",
            "children": [
              "IPY_MODEL_5e80fbfee804450a944d31d8a0f9c6c4",
              "IPY_MODEL_71dd405ab5744c7bbe2230f555c41bcb",
              "IPY_MODEL_7973272c1acc4a29a823151584bac47f"
            ],
            "layout": "IPY_MODEL_cbda5c30cead40cbae9b8dd023216d9b"
          }
        },
        "5e80fbfee804450a944d31d8a0f9c6c4": {
          "model_module": "@jupyter-widgets/controls",
          "model_name": "HTMLModel",
          "model_module_version": "1.5.0",
          "state": {
            "_dom_classes": [],
            "_model_module": "@jupyter-widgets/controls",
            "_model_module_version": "1.5.0",
            "_model_name": "HTMLModel",
            "_view_count": null,
            "_view_module": "@jupyter-widgets/controls",
            "_view_module_version": "1.5.0",
            "_view_name": "HTMLView",
            "description": "",
            "description_tooltip": null,
            "layout": "IPY_MODEL_42cf40cb4fea412fb569651976700d2b",
            "placeholder": "​",
            "style": "IPY_MODEL_e1b98b4363874f33a6ae6392ad728106",
            "value": "100%"
          }
        },
        "71dd405ab5744c7bbe2230f555c41bcb": {
          "model_module": "@jupyter-widgets/controls",
          "model_name": "FloatProgressModel",
          "model_module_version": "1.5.0",
          "state": {
            "_dom_classes": [],
            "_model_module": "@jupyter-widgets/controls",
            "_model_module_version": "1.5.0",
            "_model_name": "FloatProgressModel",
            "_view_count": null,
            "_view_module": "@jupyter-widgets/controls",
            "_view_module_version": "1.5.0",
            "_view_name": "ProgressView",
            "bar_style": "success",
            "description": "",
            "description_tooltip": null,
            "layout": "IPY_MODEL_8d3f63b5a5f74cc0bb11f7c75d6bf3a2",
            "max": 5666,
            "min": 0,
            "orientation": "horizontal",
            "style": "IPY_MODEL_b2614552d18a4c9f826e22d37584d49e",
            "value": 5666
          }
        },
        "7973272c1acc4a29a823151584bac47f": {
          "model_module": "@jupyter-widgets/controls",
          "model_name": "HTMLModel",
          "model_module_version": "1.5.0",
          "state": {
            "_dom_classes": [],
            "_model_module": "@jupyter-widgets/controls",
            "_model_module_version": "1.5.0",
            "_model_name": "HTMLModel",
            "_view_count": null,
            "_view_module": "@jupyter-widgets/controls",
            "_view_module_version": "1.5.0",
            "_view_name": "HTMLView",
            "description": "",
            "description_tooltip": null,
            "layout": "IPY_MODEL_bfaaaab7f3434a6195ffa01b37185a71",
            "placeholder": "​",
            "style": "IPY_MODEL_6f365bf4400141ea962461e17056057b",
            "value": " 5666/5666 [1:42:39&lt;00:00,  1.03it/s]"
          }
        },
        "cbda5c30cead40cbae9b8dd023216d9b": {
          "model_module": "@jupyter-widgets/base",
          "model_name": "LayoutModel",
          "model_module_version": "1.2.0",
          "state": {
            "_model_module": "@jupyter-widgets/base",
            "_model_module_version": "1.2.0",
            "_model_name": "LayoutModel",
            "_view_count": null,
            "_view_module": "@jupyter-widgets/base",
            "_view_module_version": "1.2.0",
            "_view_name": "LayoutView",
            "align_content": null,
            "align_items": null,
            "align_self": null,
            "border": null,
            "bottom": null,
            "display": null,
            "flex": null,
            "flex_flow": null,
            "grid_area": null,
            "grid_auto_columns": null,
            "grid_auto_flow": null,
            "grid_auto_rows": null,
            "grid_column": null,
            "grid_gap": null,
            "grid_row": null,
            "grid_template_areas": null,
            "grid_template_columns": null,
            "grid_template_rows": null,
            "height": null,
            "justify_content": null,
            "justify_items": null,
            "left": null,
            "margin": null,
            "max_height": null,
            "max_width": null,
            "min_height": null,
            "min_width": null,
            "object_fit": null,
            "object_position": null,
            "order": null,
            "overflow": null,
            "overflow_x": null,
            "overflow_y": null,
            "padding": null,
            "right": null,
            "top": null,
            "visibility": null,
            "width": null
          }
        },
        "42cf40cb4fea412fb569651976700d2b": {
          "model_module": "@jupyter-widgets/base",
          "model_name": "LayoutModel",
          "model_module_version": "1.2.0",
          "state": {
            "_model_module": "@jupyter-widgets/base",
            "_model_module_version": "1.2.0",
            "_model_name": "LayoutModel",
            "_view_count": null,
            "_view_module": "@jupyter-widgets/base",
            "_view_module_version": "1.2.0",
            "_view_name": "LayoutView",
            "align_content": null,
            "align_items": null,
            "align_self": null,
            "border": null,
            "bottom": null,
            "display": null,
            "flex": null,
            "flex_flow": null,
            "grid_area": null,
            "grid_auto_columns": null,
            "grid_auto_flow": null,
            "grid_auto_rows": null,
            "grid_column": null,
            "grid_gap": null,
            "grid_row": null,
            "grid_template_areas": null,
            "grid_template_columns": null,
            "grid_template_rows": null,
            "height": null,
            "justify_content": null,
            "justify_items": null,
            "left": null,
            "margin": null,
            "max_height": null,
            "max_width": null,
            "min_height": null,
            "min_width": null,
            "object_fit": null,
            "object_position": null,
            "order": null,
            "overflow": null,
            "overflow_x": null,
            "overflow_y": null,
            "padding": null,
            "right": null,
            "top": null,
            "visibility": null,
            "width": null
          }
        },
        "e1b98b4363874f33a6ae6392ad728106": {
          "model_module": "@jupyter-widgets/controls",
          "model_name": "DescriptionStyleModel",
          "model_module_version": "1.5.0",
          "state": {
            "_model_module": "@jupyter-widgets/controls",
            "_model_module_version": "1.5.0",
            "_model_name": "DescriptionStyleModel",
            "_view_count": null,
            "_view_module": "@jupyter-widgets/base",
            "_view_module_version": "1.2.0",
            "_view_name": "StyleView",
            "description_width": ""
          }
        },
        "8d3f63b5a5f74cc0bb11f7c75d6bf3a2": {
          "model_module": "@jupyter-widgets/base",
          "model_name": "LayoutModel",
          "model_module_version": "1.2.0",
          "state": {
            "_model_module": "@jupyter-widgets/base",
            "_model_module_version": "1.2.0",
            "_model_name": "LayoutModel",
            "_view_count": null,
            "_view_module": "@jupyter-widgets/base",
            "_view_module_version": "1.2.0",
            "_view_name": "LayoutView",
            "align_content": null,
            "align_items": null,
            "align_self": null,
            "border": null,
            "bottom": null,
            "display": null,
            "flex": null,
            "flex_flow": null,
            "grid_area": null,
            "grid_auto_columns": null,
            "grid_auto_flow": null,
            "grid_auto_rows": null,
            "grid_column": null,
            "grid_gap": null,
            "grid_row": null,
            "grid_template_areas": null,
            "grid_template_columns": null,
            "grid_template_rows": null,
            "height": null,
            "justify_content": null,
            "justify_items": null,
            "left": null,
            "margin": null,
            "max_height": null,
            "max_width": null,
            "min_height": null,
            "min_width": null,
            "object_fit": null,
            "object_position": null,
            "order": null,
            "overflow": null,
            "overflow_x": null,
            "overflow_y": null,
            "padding": null,
            "right": null,
            "top": null,
            "visibility": null,
            "width": null
          }
        },
        "b2614552d18a4c9f826e22d37584d49e": {
          "model_module": "@jupyter-widgets/controls",
          "model_name": "ProgressStyleModel",
          "model_module_version": "1.5.0",
          "state": {
            "_model_module": "@jupyter-widgets/controls",
            "_model_module_version": "1.5.0",
            "_model_name": "ProgressStyleModel",
            "_view_count": null,
            "_view_module": "@jupyter-widgets/base",
            "_view_module_version": "1.2.0",
            "_view_name": "StyleView",
            "bar_color": null,
            "description_width": ""
          }
        },
        "bfaaaab7f3434a6195ffa01b37185a71": {
          "model_module": "@jupyter-widgets/base",
          "model_name": "LayoutModel",
          "model_module_version": "1.2.0",
          "state": {
            "_model_module": "@jupyter-widgets/base",
            "_model_module_version": "1.2.0",
            "_model_name": "LayoutModel",
            "_view_count": null,
            "_view_module": "@jupyter-widgets/base",
            "_view_module_version": "1.2.0",
            "_view_name": "LayoutView",
            "align_content": null,
            "align_items": null,
            "align_self": null,
            "border": null,
            "bottom": null,
            "display": null,
            "flex": null,
            "flex_flow": null,
            "grid_area": null,
            "grid_auto_columns": null,
            "grid_auto_flow": null,
            "grid_auto_rows": null,
            "grid_column": null,
            "grid_gap": null,
            "grid_row": null,
            "grid_template_areas": null,
            "grid_template_columns": null,
            "grid_template_rows": null,
            "height": null,
            "justify_content": null,
            "justify_items": null,
            "left": null,
            "margin": null,
            "max_height": null,
            "max_width": null,
            "min_height": null,
            "min_width": null,
            "object_fit": null,
            "object_position": null,
            "order": null,
            "overflow": null,
            "overflow_x": null,
            "overflow_y": null,
            "padding": null,
            "right": null,
            "top": null,
            "visibility": null,
            "width": null
          }
        },
        "6f365bf4400141ea962461e17056057b": {
          "model_module": "@jupyter-widgets/controls",
          "model_name": "DescriptionStyleModel",
          "model_module_version": "1.5.0",
          "state": {
            "_model_module": "@jupyter-widgets/controls",
            "_model_module_version": "1.5.0",
            "_model_name": "DescriptionStyleModel",
            "_view_count": null,
            "_view_module": "@jupyter-widgets/base",
            "_view_module_version": "1.2.0",
            "_view_name": "StyleView",
            "description_width": ""
          }
        },
        "00535553a93f4402a53edadb2455898f": {
          "model_module": "@jupyter-widgets/controls",
          "model_name": "HBoxModel",
          "model_module_version": "1.5.0",
          "state": {
            "_dom_classes": [],
            "_model_module": "@jupyter-widgets/controls",
            "_model_module_version": "1.5.0",
            "_model_name": "HBoxModel",
            "_view_count": null,
            "_view_module": "@jupyter-widgets/controls",
            "_view_module_version": "1.5.0",
            "_view_name": "HBoxView",
            "box_style": "",
            "children": [
              "IPY_MODEL_4fd04a2b63b9458db518ac801ae5e18d",
              "IPY_MODEL_75344f37523e4c51a348ca31576e4b2c",
              "IPY_MODEL_58d90eace4b341c3bf75b607657895f3"
            ],
            "layout": "IPY_MODEL_20f6211196b0481db25da67347541987"
          }
        },
        "4fd04a2b63b9458db518ac801ae5e18d": {
          "model_module": "@jupyter-widgets/controls",
          "model_name": "HTMLModel",
          "model_module_version": "1.5.0",
          "state": {
            "_dom_classes": [],
            "_model_module": "@jupyter-widgets/controls",
            "_model_module_version": "1.5.0",
            "_model_name": "HTMLModel",
            "_view_count": null,
            "_view_module": "@jupyter-widgets/controls",
            "_view_module_version": "1.5.0",
            "_view_name": "HTMLView",
            "description": "",
            "description_tooltip": null,
            "layout": "IPY_MODEL_e001a310303d40a4a0215375a69444c9",
            "placeholder": "​",
            "style": "IPY_MODEL_b87ffae749464da1a0e6a738fbbedf92",
            "value": "100%"
          }
        },
        "75344f37523e4c51a348ca31576e4b2c": {
          "model_module": "@jupyter-widgets/controls",
          "model_name": "FloatProgressModel",
          "model_module_version": "1.5.0",
          "state": {
            "_dom_classes": [],
            "_model_module": "@jupyter-widgets/controls",
            "_model_module_version": "1.5.0",
            "_model_name": "FloatProgressModel",
            "_view_count": null,
            "_view_module": "@jupyter-widgets/controls",
            "_view_module_version": "1.5.0",
            "_view_name": "ProgressView",
            "bar_style": "success",
            "description": "",
            "description_tooltip": null,
            "layout": "IPY_MODEL_d7a87af85a9e43ec8524e651716b53dd",
            "max": 1893,
            "min": 0,
            "orientation": "horizontal",
            "style": "IPY_MODEL_e7d148b8deb04f749e8485acfd23244a",
            "value": 1893
          }
        },
        "58d90eace4b341c3bf75b607657895f3": {
          "model_module": "@jupyter-widgets/controls",
          "model_name": "HTMLModel",
          "model_module_version": "1.5.0",
          "state": {
            "_dom_classes": [],
            "_model_module": "@jupyter-widgets/controls",
            "_model_module_version": "1.5.0",
            "_model_name": "HTMLModel",
            "_view_count": null,
            "_view_module": "@jupyter-widgets/controls",
            "_view_module_version": "1.5.0",
            "_view_name": "HTMLView",
            "description": "",
            "description_tooltip": null,
            "layout": "IPY_MODEL_539105853a3747ed918efe3f08df6c4d",
            "placeholder": "​",
            "style": "IPY_MODEL_096491d1e249426e93f3c508b6de160a",
            "value": " 1893/1893 [21:38&lt;00:00,  1.44it/s]"
          }
        },
        "20f6211196b0481db25da67347541987": {
          "model_module": "@jupyter-widgets/base",
          "model_name": "LayoutModel",
          "model_module_version": "1.2.0",
          "state": {
            "_model_module": "@jupyter-widgets/base",
            "_model_module_version": "1.2.0",
            "_model_name": "LayoutModel",
            "_view_count": null,
            "_view_module": "@jupyter-widgets/base",
            "_view_module_version": "1.2.0",
            "_view_name": "LayoutView",
            "align_content": null,
            "align_items": null,
            "align_self": null,
            "border": null,
            "bottom": null,
            "display": null,
            "flex": null,
            "flex_flow": null,
            "grid_area": null,
            "grid_auto_columns": null,
            "grid_auto_flow": null,
            "grid_auto_rows": null,
            "grid_column": null,
            "grid_gap": null,
            "grid_row": null,
            "grid_template_areas": null,
            "grid_template_columns": null,
            "grid_template_rows": null,
            "height": null,
            "justify_content": null,
            "justify_items": null,
            "left": null,
            "margin": null,
            "max_height": null,
            "max_width": null,
            "min_height": null,
            "min_width": null,
            "object_fit": null,
            "object_position": null,
            "order": null,
            "overflow": null,
            "overflow_x": null,
            "overflow_y": null,
            "padding": null,
            "right": null,
            "top": null,
            "visibility": null,
            "width": null
          }
        },
        "e001a310303d40a4a0215375a69444c9": {
          "model_module": "@jupyter-widgets/base",
          "model_name": "LayoutModel",
          "model_module_version": "1.2.0",
          "state": {
            "_model_module": "@jupyter-widgets/base",
            "_model_module_version": "1.2.0",
            "_model_name": "LayoutModel",
            "_view_count": null,
            "_view_module": "@jupyter-widgets/base",
            "_view_module_version": "1.2.0",
            "_view_name": "LayoutView",
            "align_content": null,
            "align_items": null,
            "align_self": null,
            "border": null,
            "bottom": null,
            "display": null,
            "flex": null,
            "flex_flow": null,
            "grid_area": null,
            "grid_auto_columns": null,
            "grid_auto_flow": null,
            "grid_auto_rows": null,
            "grid_column": null,
            "grid_gap": null,
            "grid_row": null,
            "grid_template_areas": null,
            "grid_template_columns": null,
            "grid_template_rows": null,
            "height": null,
            "justify_content": null,
            "justify_items": null,
            "left": null,
            "margin": null,
            "max_height": null,
            "max_width": null,
            "min_height": null,
            "min_width": null,
            "object_fit": null,
            "object_position": null,
            "order": null,
            "overflow": null,
            "overflow_x": null,
            "overflow_y": null,
            "padding": null,
            "right": null,
            "top": null,
            "visibility": null,
            "width": null
          }
        },
        "b87ffae749464da1a0e6a738fbbedf92": {
          "model_module": "@jupyter-widgets/controls",
          "model_name": "DescriptionStyleModel",
          "model_module_version": "1.5.0",
          "state": {
            "_model_module": "@jupyter-widgets/controls",
            "_model_module_version": "1.5.0",
            "_model_name": "DescriptionStyleModel",
            "_view_count": null,
            "_view_module": "@jupyter-widgets/base",
            "_view_module_version": "1.2.0",
            "_view_name": "StyleView",
            "description_width": ""
          }
        },
        "d7a87af85a9e43ec8524e651716b53dd": {
          "model_module": "@jupyter-widgets/base",
          "model_name": "LayoutModel",
          "model_module_version": "1.2.0",
          "state": {
            "_model_module": "@jupyter-widgets/base",
            "_model_module_version": "1.2.0",
            "_model_name": "LayoutModel",
            "_view_count": null,
            "_view_module": "@jupyter-widgets/base",
            "_view_module_version": "1.2.0",
            "_view_name": "LayoutView",
            "align_content": null,
            "align_items": null,
            "align_self": null,
            "border": null,
            "bottom": null,
            "display": null,
            "flex": null,
            "flex_flow": null,
            "grid_area": null,
            "grid_auto_columns": null,
            "grid_auto_flow": null,
            "grid_auto_rows": null,
            "grid_column": null,
            "grid_gap": null,
            "grid_row": null,
            "grid_template_areas": null,
            "grid_template_columns": null,
            "grid_template_rows": null,
            "height": null,
            "justify_content": null,
            "justify_items": null,
            "left": null,
            "margin": null,
            "max_height": null,
            "max_width": null,
            "min_height": null,
            "min_width": null,
            "object_fit": null,
            "object_position": null,
            "order": null,
            "overflow": null,
            "overflow_x": null,
            "overflow_y": null,
            "padding": null,
            "right": null,
            "top": null,
            "visibility": null,
            "width": null
          }
        },
        "e7d148b8deb04f749e8485acfd23244a": {
          "model_module": "@jupyter-widgets/controls",
          "model_name": "ProgressStyleModel",
          "model_module_version": "1.5.0",
          "state": {
            "_model_module": "@jupyter-widgets/controls",
            "_model_module_version": "1.5.0",
            "_model_name": "ProgressStyleModel",
            "_view_count": null,
            "_view_module": "@jupyter-widgets/base",
            "_view_module_version": "1.2.0",
            "_view_name": "StyleView",
            "bar_color": null,
            "description_width": ""
          }
        },
        "539105853a3747ed918efe3f08df6c4d": {
          "model_module": "@jupyter-widgets/base",
          "model_name": "LayoutModel",
          "model_module_version": "1.2.0",
          "state": {
            "_model_module": "@jupyter-widgets/base",
            "_model_module_version": "1.2.0",
            "_model_name": "LayoutModel",
            "_view_count": null,
            "_view_module": "@jupyter-widgets/base",
            "_view_module_version": "1.2.0",
            "_view_name": "LayoutView",
            "align_content": null,
            "align_items": null,
            "align_self": null,
            "border": null,
            "bottom": null,
            "display": null,
            "flex": null,
            "flex_flow": null,
            "grid_area": null,
            "grid_auto_columns": null,
            "grid_auto_flow": null,
            "grid_auto_rows": null,
            "grid_column": null,
            "grid_gap": null,
            "grid_row": null,
            "grid_template_areas": null,
            "grid_template_columns": null,
            "grid_template_rows": null,
            "height": null,
            "justify_content": null,
            "justify_items": null,
            "left": null,
            "margin": null,
            "max_height": null,
            "max_width": null,
            "min_height": null,
            "min_width": null,
            "object_fit": null,
            "object_position": null,
            "order": null,
            "overflow": null,
            "overflow_x": null,
            "overflow_y": null,
            "padding": null,
            "right": null,
            "top": null,
            "visibility": null,
            "width": null
          }
        },
        "096491d1e249426e93f3c508b6de160a": {
          "model_module": "@jupyter-widgets/controls",
          "model_name": "DescriptionStyleModel",
          "model_module_version": "1.5.0",
          "state": {
            "_model_module": "@jupyter-widgets/controls",
            "_model_module_version": "1.5.0",
            "_model_name": "DescriptionStyleModel",
            "_view_count": null,
            "_view_module": "@jupyter-widgets/base",
            "_view_module_version": "1.2.0",
            "_view_name": "StyleView",
            "description_width": ""
          }
        },
        "f43beb7898264d9c9a3e6181dc706368": {
          "model_module": "@jupyter-widgets/controls",
          "model_name": "HBoxModel",
          "model_module_version": "1.5.0",
          "state": {
            "_dom_classes": [],
            "_model_module": "@jupyter-widgets/controls",
            "_model_module_version": "1.5.0",
            "_model_name": "HBoxModel",
            "_view_count": null,
            "_view_module": "@jupyter-widgets/controls",
            "_view_module_version": "1.5.0",
            "_view_name": "HBoxView",
            "box_style": "",
            "children": [
              "IPY_MODEL_d3632975ef504ebbab966b9141bf9b0c",
              "IPY_MODEL_27bb3de6047140c68b3429f30eb1b729",
              "IPY_MODEL_2601856423a64ec0b728320d28333b04"
            ],
            "layout": "IPY_MODEL_f1d51d429f9d44b18c8220777ccbbdc5"
          }
        },
        "d3632975ef504ebbab966b9141bf9b0c": {
          "model_module": "@jupyter-widgets/controls",
          "model_name": "HTMLModel",
          "model_module_version": "1.5.0",
          "state": {
            "_dom_classes": [],
            "_model_module": "@jupyter-widgets/controls",
            "_model_module_version": "1.5.0",
            "_model_name": "HTMLModel",
            "_view_count": null,
            "_view_module": "@jupyter-widgets/controls",
            "_view_module_version": "1.5.0",
            "_view_name": "HTMLView",
            "description": "",
            "description_tooltip": null,
            "layout": "IPY_MODEL_f1c217c0a4874c179a5abfd01d4aa809",
            "placeholder": "​",
            "style": "IPY_MODEL_eb60aa0deee64b03bf55472fe6531810",
            "value": " 52%"
          }
        },
        "27bb3de6047140c68b3429f30eb1b729": {
          "model_module": "@jupyter-widgets/controls",
          "model_name": "FloatProgressModel",
          "model_module_version": "1.5.0",
          "state": {
            "_dom_classes": [],
            "_model_module": "@jupyter-widgets/controls",
            "_model_module_version": "1.5.0",
            "_model_name": "FloatProgressModel",
            "_view_count": null,
            "_view_module": "@jupyter-widgets/controls",
            "_view_module_version": "1.5.0",
            "_view_name": "ProgressView",
            "bar_style": "danger",
            "description": "",
            "description_tooltip": null,
            "layout": "IPY_MODEL_ca3b9ee516ec4b608c436439f0b93b6b",
            "max": 5666,
            "min": 0,
            "orientation": "horizontal",
            "style": "IPY_MODEL_187c6420af2a4a08a20f81da436cd8f1",
            "value": 2970
          }
        },
        "2601856423a64ec0b728320d28333b04": {
          "model_module": "@jupyter-widgets/controls",
          "model_name": "HTMLModel",
          "model_module_version": "1.5.0",
          "state": {
            "_dom_classes": [],
            "_model_module": "@jupyter-widgets/controls",
            "_model_module_version": "1.5.0",
            "_model_name": "HTMLModel",
            "_view_count": null,
            "_view_module": "@jupyter-widgets/controls",
            "_view_module_version": "1.5.0",
            "_view_name": "HTMLView",
            "description": "",
            "description_tooltip": null,
            "layout": "IPY_MODEL_83771303a5a4471b9b1a885b83282696",
            "placeholder": "​",
            "style": "IPY_MODEL_e4ceddeb15564ec9a3833b772e06d4bc",
            "value": " 2970/5666 [52:02&lt;51:03,  1.14s/it]"
          }
        },
        "f1d51d429f9d44b18c8220777ccbbdc5": {
          "model_module": "@jupyter-widgets/base",
          "model_name": "LayoutModel",
          "model_module_version": "1.2.0",
          "state": {
            "_model_module": "@jupyter-widgets/base",
            "_model_module_version": "1.2.0",
            "_model_name": "LayoutModel",
            "_view_count": null,
            "_view_module": "@jupyter-widgets/base",
            "_view_module_version": "1.2.0",
            "_view_name": "LayoutView",
            "align_content": null,
            "align_items": null,
            "align_self": null,
            "border": null,
            "bottom": null,
            "display": null,
            "flex": null,
            "flex_flow": null,
            "grid_area": null,
            "grid_auto_columns": null,
            "grid_auto_flow": null,
            "grid_auto_rows": null,
            "grid_column": null,
            "grid_gap": null,
            "grid_row": null,
            "grid_template_areas": null,
            "grid_template_columns": null,
            "grid_template_rows": null,
            "height": null,
            "justify_content": null,
            "justify_items": null,
            "left": null,
            "margin": null,
            "max_height": null,
            "max_width": null,
            "min_height": null,
            "min_width": null,
            "object_fit": null,
            "object_position": null,
            "order": null,
            "overflow": null,
            "overflow_x": null,
            "overflow_y": null,
            "padding": null,
            "right": null,
            "top": null,
            "visibility": null,
            "width": null
          }
        },
        "f1c217c0a4874c179a5abfd01d4aa809": {
          "model_module": "@jupyter-widgets/base",
          "model_name": "LayoutModel",
          "model_module_version": "1.2.0",
          "state": {
            "_model_module": "@jupyter-widgets/base",
            "_model_module_version": "1.2.0",
            "_model_name": "LayoutModel",
            "_view_count": null,
            "_view_module": "@jupyter-widgets/base",
            "_view_module_version": "1.2.0",
            "_view_name": "LayoutView",
            "align_content": null,
            "align_items": null,
            "align_self": null,
            "border": null,
            "bottom": null,
            "display": null,
            "flex": null,
            "flex_flow": null,
            "grid_area": null,
            "grid_auto_columns": null,
            "grid_auto_flow": null,
            "grid_auto_rows": null,
            "grid_column": null,
            "grid_gap": null,
            "grid_row": null,
            "grid_template_areas": null,
            "grid_template_columns": null,
            "grid_template_rows": null,
            "height": null,
            "justify_content": null,
            "justify_items": null,
            "left": null,
            "margin": null,
            "max_height": null,
            "max_width": null,
            "min_height": null,
            "min_width": null,
            "object_fit": null,
            "object_position": null,
            "order": null,
            "overflow": null,
            "overflow_x": null,
            "overflow_y": null,
            "padding": null,
            "right": null,
            "top": null,
            "visibility": null,
            "width": null
          }
        },
        "eb60aa0deee64b03bf55472fe6531810": {
          "model_module": "@jupyter-widgets/controls",
          "model_name": "DescriptionStyleModel",
          "model_module_version": "1.5.0",
          "state": {
            "_model_module": "@jupyter-widgets/controls",
            "_model_module_version": "1.5.0",
            "_model_name": "DescriptionStyleModel",
            "_view_count": null,
            "_view_module": "@jupyter-widgets/base",
            "_view_module_version": "1.2.0",
            "_view_name": "StyleView",
            "description_width": ""
          }
        },
        "ca3b9ee516ec4b608c436439f0b93b6b": {
          "model_module": "@jupyter-widgets/base",
          "model_name": "LayoutModel",
          "model_module_version": "1.2.0",
          "state": {
            "_model_module": "@jupyter-widgets/base",
            "_model_module_version": "1.2.0",
            "_model_name": "LayoutModel",
            "_view_count": null,
            "_view_module": "@jupyter-widgets/base",
            "_view_module_version": "1.2.0",
            "_view_name": "LayoutView",
            "align_content": null,
            "align_items": null,
            "align_self": null,
            "border": null,
            "bottom": null,
            "display": null,
            "flex": null,
            "flex_flow": null,
            "grid_area": null,
            "grid_auto_columns": null,
            "grid_auto_flow": null,
            "grid_auto_rows": null,
            "grid_column": null,
            "grid_gap": null,
            "grid_row": null,
            "grid_template_areas": null,
            "grid_template_columns": null,
            "grid_template_rows": null,
            "height": null,
            "justify_content": null,
            "justify_items": null,
            "left": null,
            "margin": null,
            "max_height": null,
            "max_width": null,
            "min_height": null,
            "min_width": null,
            "object_fit": null,
            "object_position": null,
            "order": null,
            "overflow": null,
            "overflow_x": null,
            "overflow_y": null,
            "padding": null,
            "right": null,
            "top": null,
            "visibility": null,
            "width": null
          }
        },
        "187c6420af2a4a08a20f81da436cd8f1": {
          "model_module": "@jupyter-widgets/controls",
          "model_name": "ProgressStyleModel",
          "model_module_version": "1.5.0",
          "state": {
            "_model_module": "@jupyter-widgets/controls",
            "_model_module_version": "1.5.0",
            "_model_name": "ProgressStyleModel",
            "_view_count": null,
            "_view_module": "@jupyter-widgets/base",
            "_view_module_version": "1.2.0",
            "_view_name": "StyleView",
            "bar_color": null,
            "description_width": ""
          }
        },
        "83771303a5a4471b9b1a885b83282696": {
          "model_module": "@jupyter-widgets/base",
          "model_name": "LayoutModel",
          "model_module_version": "1.2.0",
          "state": {
            "_model_module": "@jupyter-widgets/base",
            "_model_module_version": "1.2.0",
            "_model_name": "LayoutModel",
            "_view_count": null,
            "_view_module": "@jupyter-widgets/base",
            "_view_module_version": "1.2.0",
            "_view_name": "LayoutView",
            "align_content": null,
            "align_items": null,
            "align_self": null,
            "border": null,
            "bottom": null,
            "display": null,
            "flex": null,
            "flex_flow": null,
            "grid_area": null,
            "grid_auto_columns": null,
            "grid_auto_flow": null,
            "grid_auto_rows": null,
            "grid_column": null,
            "grid_gap": null,
            "grid_row": null,
            "grid_template_areas": null,
            "grid_template_columns": null,
            "grid_template_rows": null,
            "height": null,
            "justify_content": null,
            "justify_items": null,
            "left": null,
            "margin": null,
            "max_height": null,
            "max_width": null,
            "min_height": null,
            "min_width": null,
            "object_fit": null,
            "object_position": null,
            "order": null,
            "overflow": null,
            "overflow_x": null,
            "overflow_y": null,
            "padding": null,
            "right": null,
            "top": null,
            "visibility": null,
            "width": null
          }
        },
        "e4ceddeb15564ec9a3833b772e06d4bc": {
          "model_module": "@jupyter-widgets/controls",
          "model_name": "DescriptionStyleModel",
          "model_module_version": "1.5.0",
          "state": {
            "_model_module": "@jupyter-widgets/controls",
            "_model_module_version": "1.5.0",
            "_model_name": "DescriptionStyleModel",
            "_view_count": null,
            "_view_module": "@jupyter-widgets/base",
            "_view_module_version": "1.2.0",
            "_view_name": "StyleView",
            "description_width": ""
          }
        }
      }
    }
  },
  "nbformat": 4,
  "nbformat_minor": 0
}