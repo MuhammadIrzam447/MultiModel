{
  "nbformat": 4,
  "nbformat_minor": 0,
  "metadata": {
    "colab": {
      "provenance": [],
      "gpuType": "T4",
      "collapsed_sections": [
        "VqotBnmCXM6s",
        "W5OWR3LAvXb_"
      ],
      "include_colab_link": true
    },
    "kernelspec": {
      "name": "python3",
      "display_name": "Python 3"
    },
    "language_info": {
      "name": "python"
    },
    "accelerator": "GPU"
  },
  "cells": [
    {
      "cell_type": "markdown",
      "metadata": {
        "id": "view-in-github",
        "colab_type": "text"
      },
      "source": [
        "<a href=\"https://colab.research.google.com/github/MuhammadIrzam447/MultiModel/blob/master/Train_25.ipynb\" target=\"_parent\"><img src=\"https://colab.research.google.com/assets/colab-badge.svg\" alt=\"Open In Colab\"/></a>"
      ]
    },
    {
      "cell_type": "code",
      "source": [
        "# Image Only Performance of mm-imdb"
      ],
      "metadata": {
        "id": "f6HfIPL5IaGA"
      },
      "execution_count": null,
      "outputs": []
    },
    {
      "cell_type": "code",
      "source": [
        "!gdown https://drive.google.com/uc?id=1Yva4FLcRiSbcf3SAENVQFPWkfNG-GUmt"
      ],
      "metadata": {
        "id": "KlM4r27JL8Qp"
      },
      "execution_count": null,
      "outputs": []
    },
    {
      "cell_type": "code",
      "source": [
        "!gdown https://drive.google.com/uc?id=1X4cmMYRjxXFomCJ1adMhPNMYtd4WeDHP"
      ],
      "metadata": {
        "id": "x_cd9k9OMHSj"
      },
      "execution_count": null,
      "outputs": []
    },
    {
      "cell_type": "code",
      "source": [
        "!gdown https://drive.google.com/uc?id=1dxd2pySfCIDJYG7qMtuJre8ph068xc1X"
      ],
      "metadata": {
        "id": "WqSAFKENMLsx"
      },
      "execution_count": null,
      "outputs": []
    },
    {
      "cell_type": "code",
      "source": [
        "!gdown https://drive.google.com/uc?id=1sYR9EgHkM0oiGRQVlFQCyHO8kMRJ4ibQ"
      ],
      "metadata": {
        "id": "hZbJNCrgM2Pr"
      },
      "execution_count": null,
      "outputs": []
    },
    {
      "cell_type": "code",
      "source": [
        "!unzip /content/fused_test.zip"
      ],
      "metadata": {
        "id": "bAC2Wz4zNcsx"
      },
      "execution_count": null,
      "outputs": []
    },
    {
      "cell_type": "code",
      "source": [
        "!unzip /content/fused_train.zip"
      ],
      "metadata": {
        "id": "pKrFemgJNdpE"
      },
      "execution_count": null,
      "outputs": []
    },
    {
      "cell_type": "code",
      "source": [
        "# Joint"
      ],
      "metadata": {
        "id": "1qWrpSX6L6KI"
      },
      "execution_count": null,
      "outputs": []
    },
    {
      "cell_type": "code",
      "execution_count": null,
      "metadata": {
        "id": "nmF1zNcPTGga"
      },
      "outputs": [],
      "source": [
        "# !gdown https://drive.google.com/uc?id=1jX_5n1kiiLI7Yl72ljkBMSiVgSlg254w"
      ]
    },
    {
      "cell_type": "code",
      "source": [
        "# !gdown https://drive.google.com/uc?id=1D7PMsXUxkmqskMpfy5LzFfPyJH0Ngf3q"
      ],
      "metadata": {
        "id": "KKm0C_4oTUTT"
      },
      "execution_count": null,
      "outputs": []
    },
    {
      "cell_type": "code",
      "source": [
        "# !gdown https://drive.google.com/uc?id=1RciaCtImqRTT2-qq27GP6wKpIYfosAA3"
      ],
      "metadata": {
        "id": "JLMZ4FcgyNpb"
      },
      "execution_count": null,
      "outputs": []
    },
    {
      "cell_type": "code",
      "source": [
        "# !gdown https://drive.google.com/uc?id=1giFuyrh33q_T1hfxcA0b-iBj_ix5w-sQ"
      ],
      "metadata": {
        "id": "sXd76s1XyO5r"
      },
      "execution_count": null,
      "outputs": []
    },
    {
      "cell_type": "code",
      "source": [
        "# !unzip \"/content/Dataset(s)/mm-imdb/joint/joint_test.zip\""
      ],
      "metadata": {
        "id": "Q--gX0z1yYPf"
      },
      "execution_count": null,
      "outputs": []
    },
    {
      "cell_type": "code",
      "source": [
        "# !unzip \"/content/Dataset(s)/mm-imdb/joint/joint_train.zip\""
      ],
      "metadata": {
        "id": "A-YkM8B0ywHJ"
      },
      "execution_count": null,
      "outputs": []
    },
    {
      "cell_type": "markdown",
      "source": [
        "# Training Dataset Preparation"
      ],
      "metadata": {
        "id": "VqotBnmCXM6s"
      }
    },
    {
      "cell_type": "code",
      "source": [
        "# import os\n",
        "# image_file_paths = []\n",
        "# genre_labels = []\n",
        "\n",
        "# image_folder_add = \"/content/train\"\n",
        "# labels_file = '/content/fused_train_label.txt'\n",
        "\n",
        "# with open(labels_file, 'r') as file:\n",
        "#     for line in file:\n",
        "#         parts = line.strip().split('|')\n",
        "#         filename = parts[0].strip()\n",
        "#         labels = parts[1].strip().split(', ')  # Split labels by comma and remove leading/trailing spaces\n",
        "#         image_path = os.path.join(image_folder_add, filename)\n",
        "#         image_file_paths.append(image_path)\n",
        "#         genre_labels.append(labels)"
      ],
      "metadata": {
        "id": "O2DdTX5_XNV8"
      },
      "execution_count": 1,
      "outputs": []
    },
    {
      "cell_type": "code",
      "source": [
        "import os\n",
        "\n",
        "image_file_paths = []\n",
        "genre_labels = []\n",
        "\n",
        "image_folder_add = \"/content/Dataset(s)/mm-imdb/joint/train\"\n",
        "labels_file = \"/content/Dataset(s)/mm-imdb/joint/joint_train_label.txt\"\n",
        "\n",
        "with open(labels_file, 'r') as file:\n",
        "    for line in file:\n",
        "        parts = line.strip().split('|')\n",
        "        filename = parts[0].strip()\n",
        "        labels = parts[1].strip().split(', ')  # Split labels by comma and remove leading/trailing spaces\n",
        "\n",
        "        if filename.endswith(\"_4.png\"):\n",
        "            image_path = os.path.join(image_folder_add, filename)\n",
        "            image_file_paths.append(image_path)\n",
        "            genre_labels.append(labels)"
      ],
      "metadata": {
        "id": "5DoYuDNC8DnJ"
      },
      "execution_count": 2,
      "outputs": []
    },
    {
      "cell_type": "code",
      "source": [
        "len(image_file_paths)"
      ],
      "metadata": {
        "id": "nXDErAZjdJn0",
        "colab": {
          "base_uri": "https://localhost:8080/"
        },
        "outputId": "6ef93c49-f533-4dce-ea52-481376961630"
      },
      "execution_count": 3,
      "outputs": [
        {
          "output_type": "execute_result",
          "data": {
            "text/plain": [
              "15552"
            ]
          },
          "metadata": {},
          "execution_count": 3
        }
      ]
    },
    {
      "cell_type": "code",
      "source": [
        "image_file_paths[0:10]"
      ],
      "metadata": {
        "colab": {
          "base_uri": "https://localhost:8080/"
        },
        "id": "-2UYMFe28bhM",
        "outputId": "5c7fd684-5b95-48d1-d228-f447ac82a119"
      },
      "execution_count": 4,
      "outputs": [
        {
          "output_type": "execute_result",
          "data": {
            "text/plain": [
              "['/content/Dataset(s)/mm-imdb/joint/train/0106714_4.png',\n",
              " '/content/Dataset(s)/mm-imdb/joint/train/0204504_4.png',\n",
              " '/content/Dataset(s)/mm-imdb/joint/train/1865357_4.png',\n",
              " '/content/Dataset(s)/mm-imdb/joint/train/0033804_4.png',\n",
              " '/content/Dataset(s)/mm-imdb/joint/train/0066423_4.png',\n",
              " '/content/Dataset(s)/mm-imdb/joint/train/0045130_4.png',\n",
              " '/content/Dataset(s)/mm-imdb/joint/train/0114323_4.png',\n",
              " '/content/Dataset(s)/mm-imdb/joint/train/0087983_4.png',\n",
              " '/content/Dataset(s)/mm-imdb/joint/train/0185014_4.png',\n",
              " '/content/Dataset(s)/mm-imdb/joint/train/1117523_4.png']"
            ]
          },
          "metadata": {},
          "execution_count": 4
        }
      ]
    },
    {
      "cell_type": "code",
      "source": [
        "# genre_labels"
      ],
      "metadata": {
        "id": "PWOIg0hTdKvS"
      },
      "execution_count": 5,
      "outputs": []
    },
    {
      "cell_type": "code",
      "source": [
        "# unique_labels_set = set()\n",
        "\n",
        "# for labels in genre_labels:\n",
        "#     unique_labels_set.update(labels)\n",
        "\n",
        "# unique_labels = sorted(list(unique_labels_set))"
      ],
      "metadata": {
        "id": "WnWdzeiWXXOk"
      },
      "execution_count": 6,
      "outputs": []
    },
    {
      "cell_type": "code",
      "source": [
        "# unique_labels"
      ],
      "metadata": {
        "id": "rB1rz-dwZgxV"
      },
      "execution_count": 7,
      "outputs": []
    },
    {
      "cell_type": "code",
      "source": [
        "# len(unique_labels)"
      ],
      "metadata": {
        "id": "gbg9-ae_zi0F"
      },
      "execution_count": 8,
      "outputs": []
    },
    {
      "cell_type": "code",
      "source": [
        "from collections import defaultdict\n",
        "\n",
        "label_counts = defaultdict(int)\n",
        "\n",
        "for labels in genre_labels:\n",
        "    for label in labels:\n",
        "        label_counts[label] += 1"
      ],
      "metadata": {
        "id": "yslKvYyH2tQn"
      },
      "execution_count": 9,
      "outputs": []
    },
    {
      "cell_type": "code",
      "source": [
        "# Convert the defaultdict into a list of tuples\n",
        "label_count_list = [(label, count) for label, count in label_counts.items()]\n",
        "\n",
        "# Sort the list of tuples based on counts in descending order\n",
        "sorted_label_count_list = sorted(label_count_list, key=lambda x: x[1], reverse=True)\n",
        "\n",
        "# Display the sorted list\n",
        "for label, count in sorted_label_count_list:\n",
        "    print(f\"{label}: {count}\")\n",
        "\n",
        "print(\"Total Labels: \", len(label_count_list))"
      ],
      "metadata": {
        "colab": {
          "base_uri": "https://localhost:8080/"
        },
        "id": "PFbfclqsU9hm",
        "outputId": "cc8f32e3-fcc0-40cf-e4b3-e4574a23fa7a"
      },
      "execution_count": 10,
      "outputs": [
        {
          "output_type": "stream",
          "name": "stdout",
          "text": [
            "Drama: 8424\n",
            "Comedy: 5108\n",
            "Romance: 3226\n",
            "Thriller: 3113\n",
            "Crime: 2293\n",
            "Action: 2155\n",
            "Adventure: 1611\n",
            "Horror: 1603\n",
            "Documentary: 1234\n",
            "Mystery: 1231\n",
            "Sci-Fi: 1212\n",
            "Fantasy: 1162\n",
            "Family: 978\n",
            "War: 806\n",
            "Biography: 788\n",
            "History: 680\n",
            "Music: 634\n",
            "Animation: 586\n",
            "Musical: 503\n",
            "Western: 423\n",
            "Sport: 379\n",
            "Short: 281\n",
            "Film-Noir: 202\n",
            "News: 39\n",
            "Talk-Show: 2\n",
            "Reality-TV: 1\n",
            "Total Labels:  26\n"
          ]
        }
      ]
    },
    {
      "cell_type": "code",
      "source": [
        "min_label_count = 40\n",
        "valid_labels = [label for label, count in label_counts.items() if count >= min_label_count]\n",
        "valid_labels = sorted(list(valid_labels))"
      ],
      "metadata": {
        "id": "DV3BPMTYWfaq"
      },
      "execution_count": 11,
      "outputs": []
    },
    {
      "cell_type": "code",
      "source": [
        "valid_labels, len(valid_labels)"
      ],
      "metadata": {
        "colab": {
          "base_uri": "https://localhost:8080/"
        },
        "id": "4whPvouoXCuy",
        "outputId": "3689399b-3f06-4c20-bf92-30604962aec7"
      },
      "execution_count": 12,
      "outputs": [
        {
          "output_type": "execute_result",
          "data": {
            "text/plain": [
              "(['Action',\n",
              "  'Adventure',\n",
              "  'Animation',\n",
              "  'Biography',\n",
              "  'Comedy',\n",
              "  'Crime',\n",
              "  'Documentary',\n",
              "  'Drama',\n",
              "  'Family',\n",
              "  'Fantasy',\n",
              "  'Film-Noir',\n",
              "  'History',\n",
              "  'Horror',\n",
              "  'Music',\n",
              "  'Musical',\n",
              "  'Mystery',\n",
              "  'Romance',\n",
              "  'Sci-Fi',\n",
              "  'Short',\n",
              "  'Sport',\n",
              "  'Thriller',\n",
              "  'War',\n",
              "  'Western'],\n",
              " 23)"
            ]
          },
          "metadata": {},
          "execution_count": 12
        }
      ]
    },
    {
      "cell_type": "code",
      "source": [
        "# filtered_image_paths = []\n",
        "# filtered_genre_labels = []\n",
        "\n",
        "# for image_path, labels in zip(image_file_paths, genre_labels):\n",
        "#     valid_labels_for_sample = [label for label in labels if label in valid_labels]\n",
        "\n",
        "#     if valid_labels_for_sample:\n",
        "#         filtered_image_paths.append(image_path)\n",
        "#         filtered_genre_labels.append(valid_labels_for_sample)"
      ],
      "metadata": {
        "id": "0fOqnZ46We-d"
      },
      "execution_count": 13,
      "outputs": []
    },
    {
      "cell_type": "code",
      "source": [
        "# len(filtered_image_paths)"
      ],
      "metadata": {
        "id": "T0NkX3jwWp56"
      },
      "execution_count": 14,
      "outputs": []
    },
    {
      "cell_type": "code",
      "source": [
        "# len(filtered_genre_labels)"
      ],
      "metadata": {
        "id": "Wdv_QSfJWqDT"
      },
      "execution_count": 15,
      "outputs": []
    },
    {
      "cell_type": "code",
      "source": [
        "multi_hot_labels = []\n",
        "\n",
        "for labels in genre_labels:\n",
        "    multi_hot = [1 if label in labels else 0 for label in valid_labels]\n",
        "    multi_hot_labels.append(multi_hot)"
      ],
      "metadata": {
        "id": "weVX9tVdZhxP"
      },
      "execution_count": 16,
      "outputs": []
    },
    {
      "cell_type": "code",
      "source": [
        "multi_hot_labels[1]"
      ],
      "metadata": {
        "id": "5BdzoGhlZ1uE",
        "colab": {
          "base_uri": "https://localhost:8080/"
        },
        "outputId": "8686f556-68a3-4bcd-a980-aef793622cd2"
      },
      "execution_count": 17,
      "outputs": [
        {
          "output_type": "execute_result",
          "data": {
            "text/plain": [
              "[1, 0, 0, 0, 0, 1, 0, 1, 0, 0, 0, 0, 0, 0, 0, 0, 0, 0, 0, 0, 1, 0, 0]"
            ]
          },
          "metadata": {},
          "execution_count": 17
        }
      ]
    },
    {
      "cell_type": "code",
      "source": [
        "genre_labels[1]"
      ],
      "metadata": {
        "id": "1ozp7IfHZ2-m",
        "colab": {
          "base_uri": "https://localhost:8080/"
        },
        "outputId": "ea9a53a2-5491-42a5-fbdd-97eb8e1a9bfd"
      },
      "execution_count": 18,
      "outputs": [
        {
          "output_type": "execute_result",
          "data": {
            "text/plain": [
              "['Action', 'Crime', 'Drama', 'Thriller']"
            ]
          },
          "metadata": {},
          "execution_count": 18
        }
      ]
    },
    {
      "cell_type": "code",
      "source": [
        "import os\n",
        "import torch\n",
        "from torch.utils.data import Dataset, DataLoader\n",
        "from torchvision import transforms\n",
        "from PIL import Image\n",
        "\n",
        "class CustomMultiLabelDataset(Dataset):\n",
        "    def __init__(self, image_file_paths, multi_encoded_labels, transform=None):\n",
        "        self.image_file_paths = image_file_paths\n",
        "        self.multi_encoded_labels = multi_encoded_labels\n",
        "        self.transform = transform\n",
        "\n",
        "    def __len__(self):\n",
        "        return len(self.image_file_paths)\n",
        "\n",
        "    def __getitem__(self, idx):\n",
        "        image_path = self.image_file_paths[idx]\n",
        "        image = Image.open(image_path)\n",
        "\n",
        "        labels = self.multi_encoded_labels[idx]\n",
        "        labels = torch.tensor(labels, dtype=torch.float32)\n",
        "\n",
        "        if self.transform:\n",
        "            image = self.transform(image)\n",
        "\n",
        "        return image, labels\n",
        "\n",
        "# Define data transformations (resize, normalize, etc.)\n",
        "transform = transforms.Compose([\n",
        "    transforms.Resize((224, 224)),\n",
        "    transforms.ToTensor(),\n",
        "    transforms.Normalize(mean=[0.485, 0.456, 0.406], std=[0.229, 0.224, 0.225]),\n",
        "])"
      ],
      "metadata": {
        "id": "uprw1hgjbHji"
      },
      "execution_count": 19,
      "outputs": []
    },
    {
      "cell_type": "code",
      "source": [
        "# Create a custom dataset\n",
        "train_dataset = CustomMultiLabelDataset(image_file_paths, multi_hot_labels, transform=transform)"
      ],
      "metadata": {
        "id": "pjHkp2KZblJf"
      },
      "execution_count": 20,
      "outputs": []
    },
    {
      "cell_type": "code",
      "source": [
        "len(train_dataset)"
      ],
      "metadata": {
        "id": "6djdqSdHdylD",
        "colab": {
          "base_uri": "https://localhost:8080/"
        },
        "outputId": "39983593-a8fc-49b9-b781-20accbd4b64d"
      },
      "execution_count": 21,
      "outputs": [
        {
          "output_type": "execute_result",
          "data": {
            "text/plain": [
              "15552"
            ]
          },
          "metadata": {},
          "execution_count": 21
        }
      ]
    },
    {
      "cell_type": "code",
      "source": [
        "train_dataset[10]"
      ],
      "metadata": {
        "id": "XY0b1aLgd1Dy",
        "colab": {
          "base_uri": "https://localhost:8080/"
        },
        "outputId": "a3906e37-2da7-430c-f84e-c6f20dd2f5d5"
      },
      "execution_count": 22,
      "outputs": [
        {
          "output_type": "execute_result",
          "data": {
            "text/plain": [
              "(tensor([[[ 0.6734,  0.8447,  1.1015,  ...,  1.2043,  0.8104,  0.4679],\n",
              "          [ 0.7248,  1.4098,  1.2385,  ...,  1.7009,  1.3927,  0.6906],\n",
              "          [ 0.9988,  1.3927,  1.4612,  ...,  1.7352,  1.6324,  0.7077],\n",
              "          ...,\n",
              "          [ 1.0673,  1.7009,  1.5982,  ...,  1.6838,  1.4954,  0.8447],\n",
              "          [ 0.8447,  1.5468,  1.4269,  ...,  1.6667,  1.5297,  0.9817],\n",
              "          [ 0.4337,  0.8276,  0.7591,  ...,  1.1187,  0.8961,  0.5707]],\n",
              " \n",
              "         [[ 0.0826,  0.0651,  0.0476,  ...,  0.7304,  0.4153,  0.1352],\n",
              "          [-0.0749,  0.4328, -0.0224,  ...,  1.2031,  1.0105,  0.3277],\n",
              "          [ 0.0301,  0.2227, -0.0224,  ...,  1.1681,  1.1681,  0.2927],\n",
              "          ...,\n",
              "          [ 0.1702,  0.8179,  0.6604,  ...,  0.2227,  0.3277, -0.1099],\n",
              "          [ 0.2752,  0.9580,  0.7829,  ...,  0.1877,  0.2752, -0.0924],\n",
              "          [ 0.2227,  0.5903,  0.4503,  ...,  0.3803,  0.3277,  0.1352]],\n",
              " \n",
              "         [[-0.1138, -0.1661, -0.2707,  ..., -0.6193, -0.5844, -0.2358],\n",
              "          [-0.3753,  0.0779, -0.4624,  ..., -0.4275, -0.2707, -0.2881],\n",
              "          [-0.3578, -0.2358, -0.5670,  ..., -0.7064, -0.3404, -0.5670],\n",
              "          ...,\n",
              "          [-0.4973, -0.0790, -0.5670,  ..., -1.0550, -0.8110, -0.7064],\n",
              "          [-0.6193, -0.1138, -0.5844,  ..., -1.2467, -1.0201, -0.8110],\n",
              "          [-0.0267,  0.1651, -0.2532,  ..., -0.7238, -0.6193, -0.2881]]]),\n",
              " tensor([0., 0., 0., 0., 0., 1., 0., 1., 0., 0., 0., 0., 0., 0., 0., 1., 0., 0.,\n",
              "         0., 0., 0., 0., 0.]))"
            ]
          },
          "metadata": {},
          "execution_count": 22
        }
      ]
    },
    {
      "cell_type": "markdown",
      "source": [
        "# Test Dataset Preparation"
      ],
      "metadata": {
        "id": "W5OWR3LAvXb_"
      }
    },
    {
      "cell_type": "code",
      "source": [
        "# import os\n",
        "\n",
        "# test_image_file_paths = []\n",
        "# test_genre_labels = []\n",
        "\n",
        "# image_folder_add = \"/content/test\"\n",
        "# labels_file = '/content/fused_test_label.txt'\n",
        "\n",
        "# with open(labels_file, 'r') as file:\n",
        "#     for line in file:\n",
        "#         parts = line.strip().split('|')\n",
        "#         filename = parts[0].strip()\n",
        "#         labels = parts[1].strip().split(', ')  # Split labels by comma and remove leading/trailing spaces\n",
        "\n",
        "#         if not (filename.endswith(\"_1.png\") or filename.endswith(\"_2.png\")):\n",
        "#             image_path = os.path.join(image_folder_add, filename)\n",
        "#             test_image_file_paths.append(image_path)\n",
        "#             test_genre_labels.append(labels)\n"
      ],
      "metadata": {
        "id": "O6ZbynEblVNf"
      },
      "execution_count": 23,
      "outputs": []
    },
    {
      "cell_type": "code",
      "source": [
        "import os\n",
        "\n",
        "test_image_file_paths = []\n",
        "test_genre_labels = []\n",
        "\n",
        "image_folder_add = \"/content/Dataset(s)/mm-imdb/joint/test\"\n",
        "labels_file = \"/content/Dataset(s)/mm-imdb/joint/joint_test_label.txt\"\n",
        "\n",
        "with open(labels_file, 'r') as file:\n",
        "    for line in file:\n",
        "        parts = line.strip().split('|')\n",
        "        filename = parts[0].strip()\n",
        "        labels = parts[1].strip().split(', ')  # Split labels by comma and remove leading/trailing spaces\n",
        "\n",
        "        if filename.endswith(\"_4.png\"):\n",
        "            image_path = os.path.join(image_folder_add, filename)\n",
        "            test_image_file_paths.append(image_path)\n",
        "            test_genre_labels.append(labels)"
      ],
      "metadata": {
        "id": "6e_CZsXw9Be5"
      },
      "execution_count": 24,
      "outputs": []
    },
    {
      "cell_type": "code",
      "source": [
        "test_image_file_paths[0:10]"
      ],
      "metadata": {
        "colab": {
          "base_uri": "https://localhost:8080/"
        },
        "id": "y4MFRh5PluWU",
        "outputId": "1733ba73-c8c4-4181-e0a9-46fed2652df1"
      },
      "execution_count": 25,
      "outputs": [
        {
          "output_type": "execute_result",
          "data": {
            "text/plain": [
              "['/content/Dataset(s)/mm-imdb/joint/test/0078718_4.png',\n",
              " '/content/Dataset(s)/mm-imdb/joint/test/0089003_4.png',\n",
              " '/content/Dataset(s)/mm-imdb/joint/test/0098136_4.png',\n",
              " '/content/Dataset(s)/mm-imdb/joint/test/0057693_4.png',\n",
              " '/content/Dataset(s)/mm-imdb/joint/test/0385330_4.png',\n",
              " '/content/Dataset(s)/mm-imdb/joint/test/0096487_4.png',\n",
              " '/content/Dataset(s)/mm-imdb/joint/test/1220553_4.png',\n",
              " '/content/Dataset(s)/mm-imdb/joint/test/1341764_4.png',\n",
              " '/content/Dataset(s)/mm-imdb/joint/test/0882969_4.png',\n",
              " '/content/Dataset(s)/mm-imdb/joint/test/0119918_4.png']"
            ]
          },
          "metadata": {},
          "execution_count": 25
        }
      ]
    },
    {
      "cell_type": "code",
      "source": [
        "test_multi_hot_labels = []\n",
        "\n",
        "for labels in test_genre_labels:\n",
        "    test_multi_hot = [1 if label in labels else 0 for label in valid_labels]\n",
        "    test_multi_hot_labels.append(test_multi_hot)"
      ],
      "metadata": {
        "id": "PFyQCaOQveK7"
      },
      "execution_count": 26,
      "outputs": []
    },
    {
      "cell_type": "code",
      "source": [
        "test_dataset = CustomMultiLabelDataset(test_image_file_paths, test_multi_hot_labels, transform=transform)"
      ],
      "metadata": {
        "id": "BculxAgbwCed"
      },
      "execution_count": 27,
      "outputs": []
    },
    {
      "cell_type": "code",
      "source": [
        "len(test_dataset)"
      ],
      "metadata": {
        "id": "dRs9JPiR1L6p",
        "colab": {
          "base_uri": "https://localhost:8080/"
        },
        "outputId": "fe9ea754-eb1c-47dd-b7d7-69b9cf696e51"
      },
      "execution_count": 28,
      "outputs": [
        {
          "output_type": "execute_result",
          "data": {
            "text/plain": [
              "7799"
            ]
          },
          "metadata": {},
          "execution_count": 28
        }
      ]
    },
    {
      "cell_type": "markdown",
      "source": [
        "# Training"
      ],
      "metadata": {
        "id": "T73kFItave8m"
      }
    },
    {
      "cell_type": "code",
      "source": [
        "batch_size = 32\n",
        "train_loader = DataLoader(train_dataset, batch_size=batch_size, shuffle=True)\n",
        "test_loader = DataLoader(test_dataset, batch_size=batch_size, shuffle=False)"
      ],
      "metadata": {
        "id": "qmjc3h-Xb3pn"
      },
      "execution_count": 29,
      "outputs": []
    },
    {
      "cell_type": "code",
      "source": [
        "import torch\n",
        "import torch.nn as nn\n",
        "import torch.optim as optim\n",
        "from torchvision import models\n",
        "import torch\n",
        "import torch.nn.functional as F\n",
        "import torch.optim as optim\n",
        "\n",
        "device = torch.device(\"cuda\" if torch.cuda.is_available() else \"cpu\")\n",
        "\n",
        "model = models.resnet101(pretrained=True)\n",
        "model.fc = nn.Linear(model.fc.in_features, len(valid_labels))\n",
        "model.to(device)\n",
        "\n",
        "\n",
        "# import os\n",
        "# save_dir = '/content/Model/Models-Train-22'\n",
        "# load_path = os.path.join(save_dir, '29_model.pth')\n",
        "\n",
        "# model = models.resnet101(pretrained=False)\n",
        "# model.fc = nn.Linear(model.fc.in_features, len(valid_labels))\n",
        "# model.load_state_dict(torch.load(load_path))\n",
        "\n",
        "# model.to(device)"
      ],
      "metadata": {
        "id": "nzkSDHpbcBvG"
      },
      "execution_count": null,
      "outputs": []
    },
    {
      "cell_type": "code",
      "source": [
        "# Define loss function and optimizer\n",
        "criterion = nn.BCEWithLogitsLoss()  # Binary Cross-Entropy Loss\n",
        "\n",
        "optimizer = optim.Adam(model.parameters(), lr=0.001)\n",
        "# optimizer = optim.SGD(model.parameters(), lr=0.001, momentum=0.9, weight_decay=0.0001)\n",
        "num_epochs = 30"
      ],
      "metadata": {
        "id": "W3xyf2mIcUp6"
      },
      "execution_count": null,
      "outputs": []
    },
    {
      "cell_type": "code",
      "source": [
        "from sklearn.metrics import accuracy_score, precision_score, recall_score, f1_score, classification_report\n",
        "import numpy as np\n",
        "\n",
        "for epoch in range(num_epochs):\n",
        "    model.train()\n",
        "    running_loss = 0.0\n",
        "\n",
        "    for inputs, labels in train_loader:\n",
        "        inputs, labels = inputs.to(device), labels.to(device)\n",
        "\n",
        "        optimizer.zero_grad()\n",
        "\n",
        "        outputs = model(inputs)\n",
        "        loss = criterion(outputs, labels.float())\n",
        "        loss.backward()\n",
        "        optimizer.step()\n",
        "\n",
        "        running_loss += loss.item()\n",
        "\n",
        "    print(f\"Epoch {epoch + 1}/{num_epochs}, Loss: {running_loss / len(train_loader)}\")\n",
        "\n",
        "    # if epoch > 10:\n",
        "    save_dir = \"/content/Model/Models-Train-25/\"\n",
        "    os.makedirs(save_dir, exist_ok=True)  # Create the directory if it doesn't exist\n",
        "    model_name = str(epoch+1) + \"_model.pth\"\n",
        "    save_path = os.path.join(save_dir, model_name)  # Specify the complete path to the model file\n",
        "    torch.save(model.state_dict(), save_path)\n",
        "\n",
        "    model.eval()\n",
        "    predictions = []\n",
        "    true_labels = []\n",
        "\n",
        "    with torch.no_grad():\n",
        "        for inputs, labels in test_loader:\n",
        "            inputs, labels = inputs.to(device), labels.to(device)\n",
        "\n",
        "            outputs = model(inputs)\n",
        "\n",
        "            # predictions.extend((outputs > 0.5).int().cpu().numpy())\n",
        "            predictions.extend(F.sigmoid(outputs).cpu().numpy())\n",
        "            true_labels.extend(labels.int().cpu().numpy())\n",
        "\n",
        "    predictions = np.array(predictions)\n",
        "    threshold = 0.5\n",
        "    predictions = (predictions > threshold).astype(int)\n",
        "\n",
        "    accuracy = accuracy_score(true_labels, predictions)\n",
        "    precision = precision_score(true_labels, predictions, average='macro')\n",
        "    recall = recall_score(true_labels, predictions, average='macro')\n",
        "    f1 = f1_score(true_labels, predictions, average='macro')\n",
        "\n",
        "    print(f\"Accuracy: {accuracy}\")\n",
        "    print(f\"Precision: {precision}\")\n",
        "    print(f\"Recall: {recall}\")\n",
        "    print(f\"F1-Score: {f1}\")\n",
        "    print(classification_report(true_labels, predictions))"
      ],
      "metadata": {
        "id": "ZRds1BV-chaz"
      },
      "execution_count": null,
      "outputs": []
    },
    {
      "cell_type": "markdown",
      "source": [
        "# New Section"
      ],
      "metadata": {
        "id": "2FkBH0y5pmRy"
      }
    },
    {
      "cell_type": "code",
      "source": [
        "import torch\n",
        "import torch.nn as nn\n",
        "import torch.optim as optim\n",
        "from torchvision import models\n",
        "import torch\n",
        "import torch.nn.functional as F\n",
        "import torch.optim as optim\n",
        "import numpy as np\n",
        "device = torch.device(\"cuda\" if torch.cuda.is_available() else \"cpu\")\n",
        "from sklearn.metrics import accuracy_score, precision_score, recall_score, f1_score, classification_report"
      ],
      "metadata": {
        "id": "kEavOUPpqxXf"
      },
      "execution_count": 32,
      "outputs": []
    },
    {
      "cell_type": "code",
      "source": [
        "epoch = 14\n",
        "while epoch <=30:\n",
        "    save_dir = '/content/Model/Models-Train-25/'\n",
        "    load_path = os.path.join(save_dir, f'{epoch}_model.pth')\n",
        "\n",
        "    model = models.resnet101(pretrained=False)\n",
        "    model.fc = nn.Linear(2048, len(valid_labels)) # Choose the number of output classses as per your model\n",
        "    model.load_state_dict(torch.load(load_path))\n",
        "    model.to(device)\n",
        "\n",
        "    print()\n",
        "    print(\"Loading: \", load_path)\n",
        "    print()\n",
        "\n",
        "    model.eval()\n",
        "    predictions = []\n",
        "    true_labels = []\n",
        "\n",
        "    with torch.no_grad():\n",
        "        for inputs, labels in test_loader:\n",
        "            inputs, labels = inputs.to(device), labels.to(device)\n",
        "\n",
        "            outputs = model(inputs)\n",
        "\n",
        "                # predictions.extend((outputs > 0.5).int().cpu().numpy())\n",
        "            predictions.extend(F.sigmoid(outputs).cpu().numpy())\n",
        "            true_labels.extend(labels.int().cpu().numpy())\n",
        "\n",
        "    predictions = np.array(predictions)\n",
        "    threshold = 0.5\n",
        "    predictions = (predictions > threshold).astype(int)\n",
        "\n",
        "    accuracy = accuracy_score(true_labels, predictions)\n",
        "    precision = precision_score(true_labels, predictions, average='macro')\n",
        "    recall = recall_score(true_labels, predictions, average='macro')\n",
        "    f1 = f1_score(true_labels, predictions, average='macro')\n",
        "\n",
        "    print(f\"Accuracy: {accuracy}\")\n",
        "    print(f\"Precision: {precision}\")\n",
        "    print(f\"Recall: {recall}\")\n",
        "    print(f\"F1-Score: {f1}\")\n",
        "    print(classification_report(true_labels, predictions))\n",
        "    epoch = epoch + 1"
      ],
      "metadata": {
        "id": "ABVebewTU43q",
        "colab": {
          "base_uri": "https://localhost:8080/"
        },
        "outputId": "8c140e08-70ff-482e-fad4-def4372f6ffb"
      },
      "execution_count": 33,
      "outputs": [
        {
          "output_type": "stream",
          "name": "stderr",
          "text": [
            "/usr/local/lib/python3.10/dist-packages/torchvision/models/_utils.py:208: UserWarning: The parameter 'pretrained' is deprecated since 0.13 and may be removed in the future, please use 'weights' instead.\n",
            "  warnings.warn(\n",
            "/usr/local/lib/python3.10/dist-packages/torchvision/models/_utils.py:223: UserWarning: Arguments other than a weight enum or `None` for 'weights' are deprecated since 0.13 and may be removed in the future. The current behavior is equivalent to passing `weights=None`.\n",
            "  warnings.warn(msg)\n"
          ]
        },
        {
          "output_type": "stream",
          "name": "stdout",
          "text": [
            "\n",
            "Loading:  /content/Model/Models-Train-25/14_model.pth\n",
            "\n"
          ]
        },
        {
          "output_type": "stream",
          "name": "stderr",
          "text": [
            "/usr/local/lib/python3.10/dist-packages/sklearn/metrics/_classification.py:1344: UndefinedMetricWarning: Precision is ill-defined and being set to 0.0 in labels with no predicted samples. Use `zero_division` parameter to control this behavior.\n",
            "  _warn_prf(average, modifier, msg_start, len(result))\n",
            "/usr/local/lib/python3.10/dist-packages/sklearn/metrics/_classification.py:1344: UndefinedMetricWarning: Precision and F-score are ill-defined and being set to 0.0 in labels with no predicted samples. Use `zero_division` parameter to control this behavior.\n",
            "  _warn_prf(average, modifier, msg_start, len(result))\n",
            "/usr/local/lib/python3.10/dist-packages/sklearn/metrics/_classification.py:1344: UndefinedMetricWarning: Precision and F-score are ill-defined and being set to 0.0 in samples with no predicted labels. Use `zero_division` parameter to control this behavior.\n",
            "  _warn_prf(average, modifier, msg_start, len(result))\n",
            "/usr/local/lib/python3.10/dist-packages/torchvision/models/_utils.py:208: UserWarning: The parameter 'pretrained' is deprecated since 0.13 and may be removed in the future, please use 'weights' instead.\n",
            "  warnings.warn(\n",
            "/usr/local/lib/python3.10/dist-packages/torchvision/models/_utils.py:223: UserWarning: Arguments other than a weight enum or `None` for 'weights' are deprecated since 0.13 and may be removed in the future. The current behavior is equivalent to passing `weights=None`.\n",
            "  warnings.warn(msg)\n"
          ]
        },
        {
          "output_type": "stream",
          "name": "stdout",
          "text": [
            "Accuracy: 0.10001282215668675\n",
            "Precision: 0.276622173221135\n",
            "Recall: 0.09269475589030175\n",
            "F1-Score: 0.11295374904965684\n",
            "              precision    recall  f1-score   support\n",
            "\n",
            "           0       0.48      0.06      0.11      1044\n",
            "           1       0.48      0.09      0.16       821\n",
            "           2       0.54      0.25      0.34       306\n",
            "           3       0.00      0.00      0.00       411\n",
            "           4       0.57      0.59      0.58      2611\n",
            "           5       0.33      0.01      0.01      1163\n",
            "           6       0.12      0.00      0.01       629\n",
            "           7       0.62      0.66      0.64      4142\n",
            "           8       0.56      0.18      0.28       518\n",
            "           9       0.37      0.06      0.10       585\n",
            "          10       0.00      0.00      0.00       102\n",
            "          11       0.00      0.00      0.00       345\n",
            "          12       0.45      0.01      0.01       825\n",
            "          13       0.00      0.00      0.00       311\n",
            "          14       0.33      0.01      0.02       253\n",
            "          15       0.00      0.00      0.00       617\n",
            "          16       0.49      0.15      0.23      1590\n",
            "          17       0.33      0.02      0.04       586\n",
            "          18       0.00      0.00      0.00       142\n",
            "          19       0.00      0.00      0.00       191\n",
            "          20       0.66      0.04      0.08      1567\n",
            "          21       0.00      0.00      0.00       401\n",
            "          22       0.00      0.00      0.00       210\n",
            "\n",
            "   micro avg       0.58      0.26      0.36     19370\n",
            "   macro avg       0.28      0.09      0.11     19370\n",
            "weighted avg       0.44      0.26      0.27     19370\n",
            " samples avg       0.49      0.31      0.35     19370\n",
            "\n",
            "\n",
            "Loading:  /content/Model/Models-Train-25/15_model.pth\n",
            "\n"
          ]
        },
        {
          "output_type": "stream",
          "name": "stderr",
          "text": [
            "/usr/local/lib/python3.10/dist-packages/sklearn/metrics/_classification.py:1344: UndefinedMetricWarning: Precision is ill-defined and being set to 0.0 in labels with no predicted samples. Use `zero_division` parameter to control this behavior.\n",
            "  _warn_prf(average, modifier, msg_start, len(result))\n",
            "/usr/local/lib/python3.10/dist-packages/sklearn/metrics/_classification.py:1344: UndefinedMetricWarning: Precision and F-score are ill-defined and being set to 0.0 in labels with no predicted samples. Use `zero_division` parameter to control this behavior.\n",
            "  _warn_prf(average, modifier, msg_start, len(result))\n",
            "/usr/local/lib/python3.10/dist-packages/sklearn/metrics/_classification.py:1344: UndefinedMetricWarning: Precision and F-score are ill-defined and being set to 0.0 in samples with no predicted labels. Use `zero_division` parameter to control this behavior.\n",
            "  _warn_prf(average, modifier, msg_start, len(result))\n",
            "/usr/local/lib/python3.10/dist-packages/torchvision/models/_utils.py:208: UserWarning: The parameter 'pretrained' is deprecated since 0.13 and may be removed in the future, please use 'weights' instead.\n",
            "  warnings.warn(\n",
            "/usr/local/lib/python3.10/dist-packages/torchvision/models/_utils.py:223: UserWarning: Arguments other than a weight enum or `None` for 'weights' are deprecated since 0.13 and may be removed in the future. The current behavior is equivalent to passing `weights=None`.\n",
            "  warnings.warn(msg)\n"
          ]
        },
        {
          "output_type": "stream",
          "name": "stdout",
          "text": [
            "Accuracy: 0.09808949865367354\n",
            "Precision: 0.2936414490010734\n",
            "Recall: 0.07839965232095229\n",
            "F1-Score: 0.10407457424173862\n",
            "              precision    recall  f1-score   support\n",
            "\n",
            "           0       0.42      0.16      0.23      1044\n",
            "           1       0.40      0.09      0.15       821\n",
            "           2       0.66      0.19      0.29       306\n",
            "           3       0.00      0.00      0.00       411\n",
            "           4       0.74      0.24      0.36      2611\n",
            "           5       0.34      0.02      0.03      1163\n",
            "           6       0.12      0.00      0.01       629\n",
            "           7       0.63      0.70      0.66      4142\n",
            "           8       0.60      0.13      0.22       518\n",
            "           9       0.62      0.01      0.03       585\n",
            "          10       0.00      0.00      0.00       102\n",
            "          11       0.00      0.00      0.00       345\n",
            "          12       0.49      0.04      0.08       825\n",
            "          13       0.00      0.00      0.00       311\n",
            "          14       0.33      0.00      0.01       253\n",
            "          15       0.00      0.00      0.00       617\n",
            "          16       0.68      0.02      0.03      1590\n",
            "          17       0.15      0.01      0.01       586\n",
            "          18       0.00      0.00      0.00       142\n",
            "          19       0.00      0.00      0.00       191\n",
            "          20       0.56      0.19      0.29      1567\n",
            "          21       0.00      0.00      0.00       401\n",
            "          22       0.00      0.00      0.00       210\n",
            "\n",
            "   micro avg       0.61      0.22      0.32     19370\n",
            "   macro avg       0.29      0.08      0.10     19370\n",
            "weighted avg       0.47      0.22      0.25     19370\n",
            " samples avg       0.47      0.27      0.32     19370\n",
            "\n",
            "\n",
            "Loading:  /content/Model/Models-Train-25/16_model.pth\n",
            "\n"
          ]
        },
        {
          "output_type": "stream",
          "name": "stderr",
          "text": [
            "/usr/local/lib/python3.10/dist-packages/sklearn/metrics/_classification.py:1344: UndefinedMetricWarning: Precision is ill-defined and being set to 0.0 in labels with no predicted samples. Use `zero_division` parameter to control this behavior.\n",
            "  _warn_prf(average, modifier, msg_start, len(result))\n",
            "/usr/local/lib/python3.10/dist-packages/sklearn/metrics/_classification.py:1344: UndefinedMetricWarning: Precision and F-score are ill-defined and being set to 0.0 in labels with no predicted samples. Use `zero_division` parameter to control this behavior.\n",
            "  _warn_prf(average, modifier, msg_start, len(result))\n",
            "/usr/local/lib/python3.10/dist-packages/sklearn/metrics/_classification.py:1344: UndefinedMetricWarning: Precision and F-score are ill-defined and being set to 0.0 in samples with no predicted labels. Use `zero_division` parameter to control this behavior.\n",
            "  _warn_prf(average, modifier, msg_start, len(result))\n",
            "/usr/local/lib/python3.10/dist-packages/torchvision/models/_utils.py:208: UserWarning: The parameter 'pretrained' is deprecated since 0.13 and may be removed in the future, please use 'weights' instead.\n",
            "  warnings.warn(\n",
            "/usr/local/lib/python3.10/dist-packages/torchvision/models/_utils.py:223: UserWarning: Arguments other than a weight enum or `None` for 'weights' are deprecated since 0.13 and may be removed in the future. The current behavior is equivalent to passing `weights=None`.\n",
            "  warnings.warn(msg)\n"
          ]
        },
        {
          "output_type": "stream",
          "name": "stdout",
          "text": [
            "Accuracy: 0.10437235543018336\n",
            "Precision: 0.28322426397812867\n",
            "Recall: 0.09725791453197383\n",
            "F1-Score: 0.12073936491898218\n",
            "              precision    recall  f1-score   support\n",
            "\n",
            "           0       0.38      0.13      0.19      1044\n",
            "           1       0.48      0.08      0.13       821\n",
            "           2       0.56      0.27      0.37       306\n",
            "           3       0.00      0.00      0.00       411\n",
            "           4       0.65      0.33      0.44      2611\n",
            "           5       0.35      0.02      0.04      1163\n",
            "           6       0.40      0.04      0.08       629\n",
            "           7       0.59      0.83      0.69      4142\n",
            "           8       0.51      0.21      0.30       518\n",
            "           9       0.47      0.03      0.06       585\n",
            "          10       0.00      0.00      0.00       102\n",
            "          11       0.00      0.00      0.00       345\n",
            "          12       0.42      0.02      0.04       825\n",
            "          13       0.00      0.00      0.00       311\n",
            "          14       0.41      0.03      0.05       253\n",
            "          15       0.00      0.00      0.00       617\n",
            "          16       0.50      0.14      0.21      1590\n",
            "          17       0.24      0.01      0.03       586\n",
            "          18       0.00      0.00      0.00       142\n",
            "          19       0.00      0.00      0.00       191\n",
            "          20       0.54      0.08      0.15      1567\n",
            "          21       0.00      0.00      0.00       401\n",
            "          22       0.00      0.00      0.00       210\n",
            "\n",
            "   micro avg       0.58      0.27      0.36     19370\n",
            "   macro avg       0.28      0.10      0.12     19370\n",
            "weighted avg       0.44      0.27      0.28     19370\n",
            " samples avg       0.52      0.32      0.36     19370\n",
            "\n",
            "\n",
            "Loading:  /content/Model/Models-Train-25/17_model.pth\n",
            "\n"
          ]
        },
        {
          "output_type": "stream",
          "name": "stderr",
          "text": [
            "/usr/local/lib/python3.10/dist-packages/sklearn/metrics/_classification.py:1344: UndefinedMetricWarning: Precision is ill-defined and being set to 0.0 in labels with no predicted samples. Use `zero_division` parameter to control this behavior.\n",
            "  _warn_prf(average, modifier, msg_start, len(result))\n",
            "/usr/local/lib/python3.10/dist-packages/sklearn/metrics/_classification.py:1344: UndefinedMetricWarning: Precision and F-score are ill-defined and being set to 0.0 in labels with no predicted samples. Use `zero_division` parameter to control this behavior.\n",
            "  _warn_prf(average, modifier, msg_start, len(result))\n",
            "/usr/local/lib/python3.10/dist-packages/sklearn/metrics/_classification.py:1344: UndefinedMetricWarning: Precision and F-score are ill-defined and being set to 0.0 in samples with no predicted labels. Use `zero_division` parameter to control this behavior.\n",
            "  _warn_prf(average, modifier, msg_start, len(result))\n",
            "/usr/local/lib/python3.10/dist-packages/torchvision/models/_utils.py:208: UserWarning: The parameter 'pretrained' is deprecated since 0.13 and may be removed in the future, please use 'weights' instead.\n",
            "  warnings.warn(\n",
            "/usr/local/lib/python3.10/dist-packages/torchvision/models/_utils.py:223: UserWarning: Arguments other than a weight enum or `None` for 'weights' are deprecated since 0.13 and may be removed in the future. The current behavior is equivalent to passing `weights=None`.\n",
            "  warnings.warn(msg)\n"
          ]
        },
        {
          "output_type": "stream",
          "name": "stdout",
          "text": [
            "Accuracy: 0.09590973201692525\n",
            "Precision: 0.2669433179535297\n",
            "Recall: 0.07490146688425277\n",
            "F1-Score: 0.0845166996571777\n",
            "              precision    recall  f1-score   support\n",
            "\n",
            "           0       0.40      0.15      0.21      1044\n",
            "           1       0.53      0.01      0.02       821\n",
            "           2       0.74      0.06      0.10       306\n",
            "           3       0.00      0.00      0.00       411\n",
            "           4       0.71      0.18      0.29      2611\n",
            "           5       0.27      0.03      0.06      1163\n",
            "           6       0.27      0.01      0.02       629\n",
            "           7       0.59      0.86      0.70      4142\n",
            "           8       0.57      0.01      0.02       518\n",
            "           9       0.00      0.00      0.00       585\n",
            "          10       0.05      0.01      0.02       102\n",
            "          11       0.00      0.00      0.00       345\n",
            "          12       0.48      0.04      0.07       825\n",
            "          13       0.00      0.00      0.00       311\n",
            "          14       0.00      0.00      0.00       253\n",
            "          15       0.00      0.00      0.00       617\n",
            "          16       0.52      0.02      0.03      1590\n",
            "          17       0.25      0.01      0.03       586\n",
            "          18       0.00      0.00      0.00       142\n",
            "          19       0.00      0.00      0.00       191\n",
            "          20       0.42      0.34      0.37      1567\n",
            "          21       0.00      0.00      0.00       401\n",
            "          22       0.33      0.00      0.01       210\n",
            "\n",
            "   micro avg       0.55      0.25      0.35     19370\n",
            "   macro avg       0.27      0.07      0.08     19370\n",
            "weighted avg       0.43      0.25      0.24     19370\n",
            " samples avg       0.51      0.30      0.35     19370\n",
            "\n",
            "\n",
            "Loading:  /content/Model/Models-Train-25/18_model.pth\n",
            "\n"
          ]
        },
        {
          "output_type": "stream",
          "name": "stderr",
          "text": [
            "/usr/local/lib/python3.10/dist-packages/sklearn/metrics/_classification.py:1344: UndefinedMetricWarning: Precision is ill-defined and being set to 0.0 in labels with no predicted samples. Use `zero_division` parameter to control this behavior.\n",
            "  _warn_prf(average, modifier, msg_start, len(result))\n",
            "/usr/local/lib/python3.10/dist-packages/sklearn/metrics/_classification.py:1344: UndefinedMetricWarning: Precision and F-score are ill-defined and being set to 0.0 in labels with no predicted samples. Use `zero_division` parameter to control this behavior.\n",
            "  _warn_prf(average, modifier, msg_start, len(result))\n",
            "/usr/local/lib/python3.10/dist-packages/sklearn/metrics/_classification.py:1344: UndefinedMetricWarning: Precision and F-score are ill-defined and being set to 0.0 in samples with no predicted labels. Use `zero_division` parameter to control this behavior.\n",
            "  _warn_prf(average, modifier, msg_start, len(result))\n",
            "/usr/local/lib/python3.10/dist-packages/torchvision/models/_utils.py:208: UserWarning: The parameter 'pretrained' is deprecated since 0.13 and may be removed in the future, please use 'weights' instead.\n",
            "  warnings.warn(\n",
            "/usr/local/lib/python3.10/dist-packages/torchvision/models/_utils.py:223: UserWarning: Arguments other than a weight enum or `None` for 'weights' are deprecated since 0.13 and may be removed in the future. The current behavior is equivalent to passing `weights=None`.\n",
            "  warnings.warn(msg)\n"
          ]
        },
        {
          "output_type": "stream",
          "name": "stdout",
          "text": [
            "Accuracy: 0.0894986536735479\n",
            "Precision: 0.33896203382292384\n",
            "Recall: 0.10745695000895718\n",
            "F1-Score: 0.13731460638722529\n",
            "              precision    recall  f1-score   support\n",
            "\n",
            "           0       0.35      0.28      0.31      1044\n",
            "           1       0.45      0.06      0.11       821\n",
            "           2       0.74      0.13      0.22       306\n",
            "           3       0.00      0.00      0.00       411\n",
            "           4       0.64      0.42      0.50      2611\n",
            "           5       0.32      0.13      0.19      1163\n",
            "           6       0.30      0.03      0.05       629\n",
            "           7       0.63      0.57      0.60      4142\n",
            "           8       0.64      0.12      0.20       518\n",
            "           9       0.68      0.02      0.04       585\n",
            "          10       0.00      0.00      0.00       102\n",
            "          11       0.00      0.00      0.00       345\n",
            "          12       0.43      0.16      0.23       825\n",
            "          13       0.00      0.00      0.00       311\n",
            "          14       0.62      0.02      0.04       253\n",
            "          15       0.50      0.00      0.00       617\n",
            "          16       0.51      0.06      0.10      1590\n",
            "          17       0.30      0.09      0.14       586\n",
            "          18       0.00      0.00      0.00       142\n",
            "          19       0.00      0.00      0.00       191\n",
            "          20       0.43      0.38      0.40      1567\n",
            "          21       0.00      0.00      0.00       401\n",
            "          22       0.25      0.01      0.02       210\n",
            "\n",
            "   micro avg       0.54      0.25      0.35     19370\n",
            "   macro avg       0.34      0.11      0.14     19370\n",
            "weighted avg       0.47      0.25      0.30     19370\n",
            " samples avg       0.46      0.30      0.33     19370\n",
            "\n",
            "\n",
            "Loading:  /content/Model/Models-Train-25/19_model.pth\n",
            "\n"
          ]
        },
        {
          "output_type": "stream",
          "name": "stderr",
          "text": [
            "/usr/local/lib/python3.10/dist-packages/sklearn/metrics/_classification.py:1344: UndefinedMetricWarning: Precision is ill-defined and being set to 0.0 in labels with no predicted samples. Use `zero_division` parameter to control this behavior.\n",
            "  _warn_prf(average, modifier, msg_start, len(result))\n",
            "/usr/local/lib/python3.10/dist-packages/sklearn/metrics/_classification.py:1344: UndefinedMetricWarning: Precision and F-score are ill-defined and being set to 0.0 in labels with no predicted samples. Use `zero_division` parameter to control this behavior.\n",
            "  _warn_prf(average, modifier, msg_start, len(result))\n",
            "/usr/local/lib/python3.10/dist-packages/sklearn/metrics/_classification.py:1344: UndefinedMetricWarning: Precision and F-score are ill-defined and being set to 0.0 in samples with no predicted labels. Use `zero_division` parameter to control this behavior.\n",
            "  _warn_prf(average, modifier, msg_start, len(result))\n",
            "/usr/local/lib/python3.10/dist-packages/torchvision/models/_utils.py:208: UserWarning: The parameter 'pretrained' is deprecated since 0.13 and may be removed in the future, please use 'weights' instead.\n",
            "  warnings.warn(\n",
            "/usr/local/lib/python3.10/dist-packages/torchvision/models/_utils.py:223: UserWarning: Arguments other than a weight enum or `None` for 'weights' are deprecated since 0.13 and may be removed in the future. The current behavior is equivalent to passing `weights=None`.\n",
            "  warnings.warn(msg)\n"
          ]
        },
        {
          "output_type": "stream",
          "name": "stdout",
          "text": [
            "Accuracy: 0.10155148095909731\n",
            "Precision: 0.3375892416447872\n",
            "Recall: 0.10622200839536082\n",
            "F1-Score: 0.13697391338774426\n",
            "              precision    recall  f1-score   support\n",
            "\n",
            "           0       0.44      0.16      0.24      1044\n",
            "           1       0.36      0.14      0.21       821\n",
            "           2       0.50      0.21      0.29       306\n",
            "           3       0.00      0.00      0.00       411\n",
            "           4       0.68      0.32      0.44      2611\n",
            "           5       0.36      0.04      0.07      1163\n",
            "           6       0.27      0.01      0.03       629\n",
            "           7       0.59      0.79      0.67      4142\n",
            "           8       0.50      0.15      0.23       518\n",
            "           9       0.40      0.03      0.06       585\n",
            "          10       0.08      0.04      0.05       102\n",
            "          11       0.00      0.00      0.00       345\n",
            "          12       0.53      0.06      0.10       825\n",
            "          13       0.00      0.00      0.00       311\n",
            "          14       0.35      0.03      0.05       253\n",
            "          15       0.00      0.00      0.00       617\n",
            "          16       0.48      0.16      0.24      1590\n",
            "          17       0.31      0.07      0.11       586\n",
            "          18       1.00      0.01      0.03       142\n",
            "          19       0.00      0.00      0.00       191\n",
            "          20       0.51      0.18      0.27      1567\n",
            "          21       0.26      0.02      0.04       401\n",
            "          22       0.14      0.01      0.02       210\n",
            "\n",
            "   micro avg       0.56      0.27      0.37     19370\n",
            "   macro avg       0.34      0.11      0.14     19370\n",
            "weighted avg       0.45      0.27      0.29     19370\n",
            " samples avg       0.50      0.32      0.36     19370\n",
            "\n",
            "\n",
            "Loading:  /content/Model/Models-Train-25/20_model.pth\n",
            "\n"
          ]
        },
        {
          "output_type": "stream",
          "name": "stderr",
          "text": [
            "/usr/local/lib/python3.10/dist-packages/sklearn/metrics/_classification.py:1344: UndefinedMetricWarning: Precision is ill-defined and being set to 0.0 in labels with no predicted samples. Use `zero_division` parameter to control this behavior.\n",
            "  _warn_prf(average, modifier, msg_start, len(result))\n",
            "/usr/local/lib/python3.10/dist-packages/sklearn/metrics/_classification.py:1344: UndefinedMetricWarning: Precision and F-score are ill-defined and being set to 0.0 in labels with no predicted samples. Use `zero_division` parameter to control this behavior.\n",
            "  _warn_prf(average, modifier, msg_start, len(result))\n",
            "/usr/local/lib/python3.10/dist-packages/sklearn/metrics/_classification.py:1344: UndefinedMetricWarning: Precision and F-score are ill-defined and being set to 0.0 in samples with no predicted labels. Use `zero_division` parameter to control this behavior.\n",
            "  _warn_prf(average, modifier, msg_start, len(result))\n",
            "/usr/local/lib/python3.10/dist-packages/torchvision/models/_utils.py:208: UserWarning: The parameter 'pretrained' is deprecated since 0.13 and may be removed in the future, please use 'weights' instead.\n",
            "  warnings.warn(\n",
            "/usr/local/lib/python3.10/dist-packages/torchvision/models/_utils.py:223: UserWarning: Arguments other than a weight enum or `None` for 'weights' are deprecated since 0.13 and may be removed in the future. The current behavior is equivalent to passing `weights=None`.\n",
            "  warnings.warn(msg)\n"
          ]
        },
        {
          "output_type": "stream",
          "name": "stdout",
          "text": [
            "Accuracy: 0.07988203615848186\n",
            "Precision: 0.30746420829335314\n",
            "Recall: 0.1297716419291215\n",
            "F1-Score: 0.15261320309667734\n",
            "              precision    recall  f1-score   support\n",
            "\n",
            "           0       0.35      0.22      0.27      1044\n",
            "           1       0.48      0.09      0.14       821\n",
            "           2       0.52      0.24      0.32       306\n",
            "           3       0.00      0.00      0.00       411\n",
            "           4       0.68      0.30      0.42      2611\n",
            "           5       0.33      0.13      0.19      1163\n",
            "           6       0.31      0.02      0.04       629\n",
            "           7       0.63      0.58      0.60      4142\n",
            "           8       0.54      0.14      0.23       518\n",
            "           9       0.35      0.05      0.09       585\n",
            "          10       0.05      0.01      0.02       102\n",
            "          11       0.00      0.00      0.00       345\n",
            "          12       0.31      0.41      0.35       825\n",
            "          13       0.00      0.00      0.00       311\n",
            "          14       1.00      0.01      0.02       253\n",
            "          15       0.26      0.02      0.04       617\n",
            "          16       0.46      0.08      0.14      1590\n",
            "          17       0.28      0.15      0.20       586\n",
            "          18       0.00      0.00      0.00       142\n",
            "          19       0.00      0.00      0.00       191\n",
            "          20       0.37      0.53      0.44      1567\n",
            "          21       0.00      0.00      0.00       401\n",
            "          22       0.17      0.00      0.01       210\n",
            "\n",
            "   micro avg       0.49      0.27      0.35     19370\n",
            "   macro avg       0.31      0.13      0.15     19370\n",
            "weighted avg       0.44      0.27      0.30     19370\n",
            " samples avg       0.44      0.31      0.33     19370\n",
            "\n",
            "\n",
            "Loading:  /content/Model/Models-Train-25/21_model.pth\n",
            "\n"
          ]
        },
        {
          "output_type": "stream",
          "name": "stderr",
          "text": [
            "/usr/local/lib/python3.10/dist-packages/sklearn/metrics/_classification.py:1344: UndefinedMetricWarning: Precision is ill-defined and being set to 0.0 in labels with no predicted samples. Use `zero_division` parameter to control this behavior.\n",
            "  _warn_prf(average, modifier, msg_start, len(result))\n",
            "/usr/local/lib/python3.10/dist-packages/sklearn/metrics/_classification.py:1344: UndefinedMetricWarning: Precision and F-score are ill-defined and being set to 0.0 in labels with no predicted samples. Use `zero_division` parameter to control this behavior.\n",
            "  _warn_prf(average, modifier, msg_start, len(result))\n",
            "/usr/local/lib/python3.10/dist-packages/sklearn/metrics/_classification.py:1344: UndefinedMetricWarning: Precision and F-score are ill-defined and being set to 0.0 in samples with no predicted labels. Use `zero_division` parameter to control this behavior.\n",
            "  _warn_prf(average, modifier, msg_start, len(result))\n",
            "/usr/local/lib/python3.10/dist-packages/torchvision/models/_utils.py:208: UserWarning: The parameter 'pretrained' is deprecated since 0.13 and may be removed in the future, please use 'weights' instead.\n",
            "  warnings.warn(\n",
            "/usr/local/lib/python3.10/dist-packages/torchvision/models/_utils.py:223: UserWarning: Arguments other than a weight enum or `None` for 'weights' are deprecated since 0.13 and may be removed in the future. The current behavior is equivalent to passing `weights=None`.\n",
            "  warnings.warn(msg)\n"
          ]
        },
        {
          "output_type": "stream",
          "name": "stdout",
          "text": [
            "Accuracy: 0.09296063597897167\n",
            "Precision: 0.3388589386530052\n",
            "Recall: 0.11026088643131808\n",
            "F1-Score: 0.14082407764837201\n",
            "              precision    recall  f1-score   support\n",
            "\n",
            "           0       0.39      0.15      0.22      1044\n",
            "           1       0.36      0.12      0.18       821\n",
            "           2       0.50      0.18      0.27       306\n",
            "           3       0.50      0.00      0.01       411\n",
            "           4       0.67      0.26      0.38      2611\n",
            "           5       0.29      0.12      0.17      1163\n",
            "           6       0.23      0.12      0.16       629\n",
            "           7       0.58      0.80      0.68      4142\n",
            "           8       0.51      0.15      0.23       518\n",
            "           9       0.37      0.03      0.05       585\n",
            "          10       0.09      0.03      0.04       102\n",
            "          11       0.25      0.02      0.03       345\n",
            "          12       0.38      0.03      0.06       825\n",
            "          13       0.00      0.00      0.00       311\n",
            "          14       0.21      0.02      0.04       253\n",
            "          15       0.07      0.00      0.00       617\n",
            "          16       0.45      0.14      0.21      1590\n",
            "          17       0.33      0.04      0.07       586\n",
            "          18       0.75      0.02      0.04       142\n",
            "          19       0.00      0.00      0.00       191\n",
            "          20       0.41      0.25      0.31      1567\n",
            "          21       0.21      0.02      0.04       401\n",
            "          22       0.23      0.03      0.05       210\n",
            "\n",
            "   micro avg       0.52      0.27      0.36     19370\n",
            "   macro avg       0.34      0.11      0.14     19370\n",
            "weighted avg       0.44      0.27      0.29     19370\n",
            " samples avg       0.49      0.32      0.35     19370\n",
            "\n",
            "\n",
            "Loading:  /content/Model/Models-Train-25/22_model.pth\n",
            "\n",
            "Accuracy: 0.07885626362354148\n",
            "Precision: 0.27804841767967525\n",
            "Recall: 0.11926076478586302\n",
            "F1-Score: 0.151320297730166\n",
            "              precision    recall  f1-score   support\n",
            "\n",
            "           0       0.33      0.17      0.23      1044\n",
            "           1       0.28      0.17      0.21       821\n",
            "           2       0.45      0.26      0.33       306\n",
            "           3       0.10      0.01      0.02       411\n",
            "           4       0.56      0.43      0.49      2611\n",
            "           5       0.28      0.06      0.10      1163\n",
            "           6       0.23      0.09      0.13       629\n",
            "           7       0.62      0.63      0.63      4142\n",
            "           8       0.37      0.20      0.26       518\n",
            "           9       0.25      0.05      0.08       585\n",
            "          10       0.03      0.01      0.01       102\n",
            "          11       0.13      0.03      0.05       345\n",
            "          12       0.32      0.10      0.15       825\n",
            "          13       0.09      0.00      0.01       311\n",
            "          14       0.18      0.04      0.06       253\n",
            "          15       0.27      0.01      0.01       617\n",
            "          16       0.41      0.19      0.26      1590\n",
            "          17       0.28      0.05      0.08       586\n",
            "          18       0.14      0.01      0.01       142\n",
            "          19       0.33      0.01      0.01       191\n",
            "          20       0.42      0.17      0.24      1567\n",
            "          21       0.09      0.01      0.03       401\n",
            "          22       0.24      0.06      0.10       210\n",
            "\n",
            "   micro avg       0.49      0.26      0.34     19370\n",
            "   macro avg       0.28      0.12      0.15     19370\n",
            "weighted avg       0.40      0.26      0.30     19370\n",
            " samples avg       0.44      0.31      0.33     19370\n",
            "\n"
          ]
        },
        {
          "output_type": "stream",
          "name": "stderr",
          "text": [
            "/usr/local/lib/python3.10/dist-packages/sklearn/metrics/_classification.py:1344: UndefinedMetricWarning: Precision and F-score are ill-defined and being set to 0.0 in samples with no predicted labels. Use `zero_division` parameter to control this behavior.\n",
            "  _warn_prf(average, modifier, msg_start, len(result))\n",
            "/usr/local/lib/python3.10/dist-packages/torchvision/models/_utils.py:208: UserWarning: The parameter 'pretrained' is deprecated since 0.13 and may be removed in the future, please use 'weights' instead.\n",
            "  warnings.warn(\n",
            "/usr/local/lib/python3.10/dist-packages/torchvision/models/_utils.py:223: UserWarning: Arguments other than a weight enum or `None` for 'weights' are deprecated since 0.13 and may be removed in the future. The current behavior is equivalent to passing `weights=None`.\n",
            "  warnings.warn(msg)\n"
          ]
        },
        {
          "output_type": "stream",
          "name": "stdout",
          "text": [
            "\n",
            "Loading:  /content/Model/Models-Train-25/23_model.pth\n",
            "\n",
            "Accuracy: 0.08360046159764073\n",
            "Precision: 0.31134646361839696\n",
            "Recall: 0.13345349113752075\n",
            "F1-Score: 0.16289788460134458\n",
            "              precision    recall  f1-score   support\n",
            "\n",
            "           0       0.39      0.17      0.24      1044\n",
            "           1       0.26      0.23      0.24       821\n",
            "           2       0.47      0.23      0.30       306\n",
            "           3       0.00      0.00      0.00       411\n",
            "           4       0.52      0.60      0.56      2611\n",
            "           5       0.35      0.06      0.10      1163\n",
            "           6       0.28      0.07      0.11       629\n",
            "           7       0.63      0.56      0.60      4142\n",
            "           8       0.35      0.25      0.29       518\n",
            "           9       0.22      0.09      0.13       585\n",
            "          10       0.11      0.01      0.02       102\n",
            "          11       0.14      0.00      0.01       345\n",
            "          12       0.35      0.14      0.20       825\n",
            "          13       0.09      0.00      0.01       311\n",
            "          14       0.19      0.05      0.08       253\n",
            "          15       0.21      0.01      0.01       617\n",
            "          16       0.40      0.22      0.28      1590\n",
            "          17       0.27      0.09      0.13       586\n",
            "          18       0.43      0.02      0.04       142\n",
            "          19       0.25      0.01      0.01       191\n",
            "          20       0.45      0.22      0.29      1567\n",
            "          21       0.24      0.02      0.04       401\n",
            "          22       0.55      0.03      0.05       210\n",
            "\n",
            "   micro avg       0.49      0.29      0.36     19370\n",
            "   macro avg       0.31      0.13      0.16     19370\n",
            "weighted avg       0.41      0.29      0.32     19370\n",
            " samples avg       0.46      0.33      0.35     19370\n",
            "\n"
          ]
        },
        {
          "output_type": "stream",
          "name": "stderr",
          "text": [
            "/usr/local/lib/python3.10/dist-packages/sklearn/metrics/_classification.py:1344: UndefinedMetricWarning: Precision and F-score are ill-defined and being set to 0.0 in samples with no predicted labels. Use `zero_division` parameter to control this behavior.\n",
            "  _warn_prf(average, modifier, msg_start, len(result))\n",
            "/usr/local/lib/python3.10/dist-packages/torchvision/models/_utils.py:208: UserWarning: The parameter 'pretrained' is deprecated since 0.13 and may be removed in the future, please use 'weights' instead.\n",
            "  warnings.warn(\n",
            "/usr/local/lib/python3.10/dist-packages/torchvision/models/_utils.py:223: UserWarning: Arguments other than a weight enum or `None` for 'weights' are deprecated since 0.13 and may be removed in the future. The current behavior is equivalent to passing `weights=None`.\n",
            "  warnings.warn(msg)\n"
          ]
        },
        {
          "output_type": "stream",
          "name": "stdout",
          "text": [
            "\n",
            "Loading:  /content/Model/Models-Train-25/24_model.pth\n",
            "\n",
            "Accuracy: 0.0848826772663162\n",
            "Precision: 0.3085215491360352\n",
            "Recall: 0.12868139536949916\n",
            "F1-Score: 0.1607491277571476\n",
            "              precision    recall  f1-score   support\n",
            "\n",
            "           0       0.36      0.21      0.26      1044\n",
            "           1       0.30      0.14      0.19       821\n",
            "           2       0.61      0.18      0.28       306\n",
            "           3       0.04      0.00      0.00       411\n",
            "           4       0.51      0.58      0.54      2611\n",
            "           5       0.30      0.05      0.08      1163\n",
            "           6       0.25      0.07      0.11       629\n",
            "           7       0.62      0.62      0.62      4142\n",
            "           8       0.41      0.18      0.25       518\n",
            "           9       0.20      0.04      0.06       585\n",
            "          10       0.12      0.01      0.02       102\n",
            "          11       0.10      0.01      0.02       345\n",
            "          12       0.34      0.13      0.19       825\n",
            "          13       0.14      0.00      0.01       311\n",
            "          14       0.24      0.06      0.10       253\n",
            "          15       0.16      0.01      0.02       617\n",
            "          16       0.40      0.26      0.31      1590\n",
            "          17       0.34      0.10      0.16       586\n",
            "          18       0.67      0.06      0.10       142\n",
            "          19       0.00      0.00      0.00       191\n",
            "          20       0.45      0.19      0.27      1567\n",
            "          21       0.16      0.03      0.05       401\n",
            "          22       0.38      0.02      0.04       210\n",
            "\n",
            "   micro avg       0.49      0.29      0.37     19370\n",
            "   macro avg       0.31      0.13      0.16     19370\n",
            "weighted avg       0.41      0.29      0.31     19370\n",
            " samples avg       0.46      0.33      0.35     19370\n",
            "\n"
          ]
        },
        {
          "output_type": "stream",
          "name": "stderr",
          "text": [
            "/usr/local/lib/python3.10/dist-packages/sklearn/metrics/_classification.py:1344: UndefinedMetricWarning: Precision and F-score are ill-defined and being set to 0.0 in samples with no predicted labels. Use `zero_division` parameter to control this behavior.\n",
            "  _warn_prf(average, modifier, msg_start, len(result))\n",
            "/usr/local/lib/python3.10/dist-packages/torchvision/models/_utils.py:208: UserWarning: The parameter 'pretrained' is deprecated since 0.13 and may be removed in the future, please use 'weights' instead.\n",
            "  warnings.warn(\n",
            "/usr/local/lib/python3.10/dist-packages/torchvision/models/_utils.py:223: UserWarning: Arguments other than a weight enum or `None` for 'weights' are deprecated since 0.13 and may be removed in the future. The current behavior is equivalent to passing `weights=None`.\n",
            "  warnings.warn(msg)\n"
          ]
        },
        {
          "output_type": "stream",
          "name": "stdout",
          "text": [
            "\n",
            "Loading:  /content/Model/Models-Train-25/25_model.pth\n",
            "\n",
            "Accuracy: 0.08347224003077318\n",
            "Precision: 0.2926017759804692\n",
            "Recall: 0.12474617288818797\n",
            "F1-Score: 0.15080446548125312\n",
            "              precision    recall  f1-score   support\n",
            "\n",
            "           0       0.36      0.14      0.20      1044\n",
            "           1       0.31      0.10      0.15       821\n",
            "           2       0.65      0.10      0.17       306\n",
            "           3       0.07      0.00      0.01       411\n",
            "           4       0.52      0.53      0.53      2611\n",
            "           5       0.27      0.09      0.14      1163\n",
            "           6       0.24      0.05      0.09       629\n",
            "           7       0.59      0.72      0.65      4142\n",
            "           8       0.48      0.17      0.25       518\n",
            "           9       0.29      0.02      0.03       585\n",
            "          10       0.09      0.04      0.05       102\n",
            "          11       0.15      0.02      0.03       345\n",
            "          12       0.33      0.10      0.15       825\n",
            "          13       0.00      0.00      0.00       311\n",
            "          14       0.16      0.06      0.09       253\n",
            "          15       0.16      0.02      0.03       617\n",
            "          16       0.35      0.33      0.34      1590\n",
            "          17       0.32      0.03      0.05       586\n",
            "          18       0.50      0.05      0.09       142\n",
            "          19       0.17      0.01      0.01       191\n",
            "          20       0.41      0.19      0.26      1567\n",
            "          21       0.15      0.02      0.04       401\n",
            "          22       0.14      0.08      0.10       210\n",
            "\n",
            "   micro avg       0.48      0.30      0.37     19370\n",
            "   macro avg       0.29      0.12      0.15     19370\n",
            "weighted avg       0.39      0.30      0.31     19370\n",
            " samples avg       0.46      0.35      0.36     19370\n",
            "\n"
          ]
        },
        {
          "output_type": "stream",
          "name": "stderr",
          "text": [
            "/usr/local/lib/python3.10/dist-packages/sklearn/metrics/_classification.py:1344: UndefinedMetricWarning: Precision and F-score are ill-defined and being set to 0.0 in samples with no predicted labels. Use `zero_division` parameter to control this behavior.\n",
            "  _warn_prf(average, modifier, msg_start, len(result))\n",
            "/usr/local/lib/python3.10/dist-packages/torchvision/models/_utils.py:208: UserWarning: The parameter 'pretrained' is deprecated since 0.13 and may be removed in the future, please use 'weights' instead.\n",
            "  warnings.warn(\n",
            "/usr/local/lib/python3.10/dist-packages/torchvision/models/_utils.py:223: UserWarning: Arguments other than a weight enum or `None` for 'weights' are deprecated since 0.13 and may be removed in the future. The current behavior is equivalent to passing `weights=None`.\n",
            "  warnings.warn(msg)\n"
          ]
        },
        {
          "output_type": "stream",
          "name": "stdout",
          "text": [
            "\n",
            "Loading:  /content/Model/Models-Train-25/26_model.pth\n",
            "\n",
            "Accuracy: 0.06334145403256827\n",
            "Precision: 0.2537595924228575\n",
            "Recall: 0.1516854821406815\n",
            "F1-Score: 0.17590220442197768\n",
            "              precision    recall  f1-score   support\n",
            "\n",
            "           0       0.29      0.38      0.33      1044\n",
            "           1       0.25      0.25      0.25       821\n",
            "           2       0.44      0.24      0.31       306\n",
            "           3       0.13      0.02      0.03       411\n",
            "           4       0.50      0.55      0.53      2611\n",
            "           5       0.31      0.09      0.14      1163\n",
            "           6       0.27      0.09      0.13       629\n",
            "           7       0.63      0.44      0.52      4142\n",
            "           8       0.30      0.24      0.27       518\n",
            "           9       0.19      0.19      0.19       585\n",
            "          10       0.00      0.00      0.00       102\n",
            "          11       0.08      0.02      0.03       345\n",
            "          12       0.35      0.11      0.16       825\n",
            "          13       0.00      0.00      0.00       311\n",
            "          14       0.28      0.08      0.12       253\n",
            "          15       0.15      0.02      0.03       617\n",
            "          16       0.38      0.23      0.28      1590\n",
            "          17       0.23      0.09      0.13       586\n",
            "          18       0.31      0.08      0.12       142\n",
            "          19       0.08      0.01      0.01       191\n",
            "          20       0.41      0.20      0.27      1567\n",
            "          21       0.13      0.03      0.05       401\n",
            "          22       0.15      0.15      0.15       210\n",
            "\n",
            "   micro avg       0.42      0.27      0.33     19370\n",
            "   macro avg       0.25      0.15      0.18     19370\n",
            "weighted avg       0.38      0.27      0.30     19370\n",
            " samples avg       0.39      0.30      0.31     19370\n",
            "\n"
          ]
        },
        {
          "output_type": "stream",
          "name": "stderr",
          "text": [
            "/usr/local/lib/python3.10/dist-packages/sklearn/metrics/_classification.py:1344: UndefinedMetricWarning: Precision and F-score are ill-defined and being set to 0.0 in samples with no predicted labels. Use `zero_division` parameter to control this behavior.\n",
            "  _warn_prf(average, modifier, msg_start, len(result))\n",
            "/usr/local/lib/python3.10/dist-packages/torchvision/models/_utils.py:208: UserWarning: The parameter 'pretrained' is deprecated since 0.13 and may be removed in the future, please use 'weights' instead.\n",
            "  warnings.warn(\n",
            "/usr/local/lib/python3.10/dist-packages/torchvision/models/_utils.py:223: UserWarning: Arguments other than a weight enum or `None` for 'weights' are deprecated since 0.13 and may be removed in the future. The current behavior is equivalent to passing `weights=None`.\n",
            "  warnings.warn(msg)\n"
          ]
        },
        {
          "output_type": "stream",
          "name": "stdout",
          "text": [
            "\n",
            "Loading:  /content/Model/Models-Train-25/27_model.pth\n",
            "\n",
            "Accuracy: 0.07962559302474677\n",
            "Precision: 0.2926597032551867\n",
            "Recall: 0.1281236397082585\n",
            "F1-Score: 0.1619597109759424\n",
            "              precision    recall  f1-score   support\n",
            "\n",
            "           0       0.34      0.19      0.25      1044\n",
            "           1       0.29      0.10      0.14       821\n",
            "           2       0.61      0.17      0.26       306\n",
            "           3       0.06      0.01      0.02       411\n",
            "           4       0.55      0.41      0.47      2611\n",
            "           5       0.26      0.16      0.20      1163\n",
            "           6       0.22      0.09      0.13       629\n",
            "           7       0.59      0.74      0.66      4142\n",
            "           8       0.43      0.12      0.19       518\n",
            "           9       0.20      0.07      0.10       585\n",
            "          10       0.12      0.02      0.03       102\n",
            "          11       0.10      0.02      0.03       345\n",
            "          12       0.31      0.10      0.15       825\n",
            "          13       0.03      0.01      0.01       311\n",
            "          14       0.28      0.07      0.11       253\n",
            "          15       0.21      0.03      0.05       617\n",
            "          16       0.37      0.20      0.26      1590\n",
            "          17       0.32      0.04      0.08       586\n",
            "          18       0.57      0.08      0.15       142\n",
            "          19       0.05      0.01      0.01       191\n",
            "          20       0.42      0.25      0.31      1567\n",
            "          21       0.12      0.02      0.03       401\n",
            "          22       0.26      0.04      0.07       210\n",
            "\n",
            "   micro avg       0.48      0.29      0.36     19370\n",
            "   macro avg       0.29      0.13      0.16     19370\n",
            "weighted avg       0.39      0.29      0.31     19370\n",
            " samples avg       0.46      0.34      0.36     19370\n",
            "\n"
          ]
        },
        {
          "output_type": "stream",
          "name": "stderr",
          "text": [
            "/usr/local/lib/python3.10/dist-packages/sklearn/metrics/_classification.py:1344: UndefinedMetricWarning: Precision and F-score are ill-defined and being set to 0.0 in samples with no predicted labels. Use `zero_division` parameter to control this behavior.\n",
            "  _warn_prf(average, modifier, msg_start, len(result))\n",
            "/usr/local/lib/python3.10/dist-packages/torchvision/models/_utils.py:208: UserWarning: The parameter 'pretrained' is deprecated since 0.13 and may be removed in the future, please use 'weights' instead.\n",
            "  warnings.warn(\n",
            "/usr/local/lib/python3.10/dist-packages/torchvision/models/_utils.py:223: UserWarning: Arguments other than a weight enum or `None` for 'weights' are deprecated since 0.13 and may be removed in the future. The current behavior is equivalent to passing `weights=None`.\n",
            "  warnings.warn(msg)\n"
          ]
        },
        {
          "output_type": "stream",
          "name": "stdout",
          "text": [
            "\n",
            "Loading:  /content/Model/Models-Train-25/28_model.pth\n",
            "\n",
            "Accuracy: 0.07372740094883959\n",
            "Precision: 0.2800148197688188\n",
            "Recall: 0.14314860750881322\n",
            "F1-Score: 0.16356205571185334\n",
            "              precision    recall  f1-score   support\n",
            "\n",
            "           0       0.37      0.14      0.20      1044\n",
            "           1       0.30      0.13      0.18       821\n",
            "           2       0.56      0.21      0.30       306\n",
            "           3       0.07      0.01      0.02       411\n",
            "           4       0.57      0.42      0.49      2611\n",
            "           5       0.24      0.13      0.17      1163\n",
            "           6       0.25      0.04      0.07       629\n",
            "           7       0.56      0.89      0.69      4142\n",
            "           8       0.37      0.21      0.27       518\n",
            "           9       0.09      0.01      0.02       585\n",
            "          10       0.07      0.03      0.04       102\n",
            "          11       0.09      0.03      0.04       345\n",
            "          12       0.30      0.06      0.10       825\n",
            "          13       0.06      0.01      0.02       311\n",
            "          14       0.14      0.12      0.13       253\n",
            "          15       0.16      0.03      0.06       617\n",
            "          16       0.32      0.36      0.34      1590\n",
            "          17       0.27      0.05      0.08       586\n",
            "          18       1.00      0.06      0.12       142\n",
            "          19       0.03      0.01      0.02       191\n",
            "          20       0.43      0.17      0.25      1567\n",
            "          21       0.11      0.11      0.11       401\n",
            "          22       0.09      0.05      0.06       210\n",
            "\n",
            "   micro avg       0.45      0.33      0.38     19370\n",
            "   macro avg       0.28      0.14      0.16     19370\n",
            "weighted avg       0.38      0.33      0.32     19370\n",
            " samples avg       0.47      0.38      0.38     19370\n",
            "\n"
          ]
        },
        {
          "output_type": "stream",
          "name": "stderr",
          "text": [
            "/usr/local/lib/python3.10/dist-packages/sklearn/metrics/_classification.py:1344: UndefinedMetricWarning: Precision and F-score are ill-defined and being set to 0.0 in samples with no predicted labels. Use `zero_division` parameter to control this behavior.\n",
            "  _warn_prf(average, modifier, msg_start, len(result))\n",
            "/usr/local/lib/python3.10/dist-packages/torchvision/models/_utils.py:208: UserWarning: The parameter 'pretrained' is deprecated since 0.13 and may be removed in the future, please use 'weights' instead.\n",
            "  warnings.warn(\n",
            "/usr/local/lib/python3.10/dist-packages/torchvision/models/_utils.py:223: UserWarning: Arguments other than a weight enum or `None` for 'weights' are deprecated since 0.13 and may be removed in the future. The current behavior is equivalent to passing `weights=None`.\n",
            "  warnings.warn(msg)\n"
          ]
        },
        {
          "output_type": "stream",
          "name": "stdout",
          "text": [
            "\n",
            "Loading:  /content/Model/Models-Train-25/29_model.pth\n",
            "\n",
            "Accuracy: 0.06154635209642262\n",
            "Precision: 0.25103335607543126\n",
            "Recall: 0.1483986607685046\n",
            "F1-Score: 0.17996238519497568\n",
            "              precision    recall  f1-score   support\n",
            "\n",
            "           0       0.32      0.22      0.26      1044\n",
            "           1       0.26      0.17      0.21       821\n",
            "           2       0.41      0.31      0.36       306\n",
            "           3       0.08      0.06      0.07       411\n",
            "           4       0.57      0.42      0.48      2611\n",
            "           5       0.26      0.09      0.13      1163\n",
            "           6       0.20      0.20      0.20       629\n",
            "           7       0.63      0.45      0.53      4142\n",
            "           8       0.33      0.15      0.21       518\n",
            "           9       0.15      0.06      0.09       585\n",
            "          10       0.11      0.02      0.03       102\n",
            "          11       0.13      0.03      0.05       345\n",
            "          12       0.28      0.25      0.26       825\n",
            "          13       0.00      0.00      0.00       311\n",
            "          14       0.17      0.07      0.10       253\n",
            "          15       0.15      0.05      0.07       617\n",
            "          16       0.34      0.23      0.27      1590\n",
            "          17       0.24      0.16      0.19       586\n",
            "          18       0.42      0.13      0.20       142\n",
            "          19       0.07      0.01      0.01       191\n",
            "          20       0.38      0.27      0.31      1567\n",
            "          21       0.13      0.01      0.02       401\n",
            "          22       0.16      0.07      0.09       210\n",
            "\n",
            "   micro avg       0.41      0.26      0.32     19370\n",
            "   macro avg       0.25      0.15      0.18     19370\n",
            "weighted avg       0.38      0.26      0.30     19370\n",
            " samples avg       0.37      0.29      0.30     19370\n",
            "\n"
          ]
        },
        {
          "output_type": "stream",
          "name": "stderr",
          "text": [
            "/usr/local/lib/python3.10/dist-packages/sklearn/metrics/_classification.py:1344: UndefinedMetricWarning: Precision and F-score are ill-defined and being set to 0.0 in samples with no predicted labels. Use `zero_division` parameter to control this behavior.\n",
            "  _warn_prf(average, modifier, msg_start, len(result))\n",
            "/usr/local/lib/python3.10/dist-packages/torchvision/models/_utils.py:208: UserWarning: The parameter 'pretrained' is deprecated since 0.13 and may be removed in the future, please use 'weights' instead.\n",
            "  warnings.warn(\n",
            "/usr/local/lib/python3.10/dist-packages/torchvision/models/_utils.py:223: UserWarning: Arguments other than a weight enum or `None` for 'weights' are deprecated since 0.13 and may be removed in the future. The current behavior is equivalent to passing `weights=None`.\n",
            "  warnings.warn(msg)\n"
          ]
        },
        {
          "output_type": "stream",
          "name": "stdout",
          "text": [
            "\n",
            "Loading:  /content/Model/Models-Train-25/30_model.pth\n",
            "\n",
            "Accuracy: 0.06180279523015771\n",
            "Precision: 0.25111862238086985\n",
            "Recall: 0.15085923247045688\n",
            "F1-Score: 0.17735632589940784\n",
            "              precision    recall  f1-score   support\n",
            "\n",
            "           0       0.36      0.18      0.24      1044\n",
            "           1       0.33      0.08      0.12       821\n",
            "           2       0.49      0.29      0.36       306\n",
            "           3       0.12      0.02      0.04       411\n",
            "           4       0.50      0.58      0.53      2611\n",
            "           5       0.23      0.20      0.21      1163\n",
            "           6       0.23      0.11      0.15       629\n",
            "           7       0.60      0.62      0.61      4142\n",
            "           8       0.38      0.18      0.24       518\n",
            "           9       0.21      0.07      0.10       585\n",
            "          10       0.05      0.02      0.03       102\n",
            "          11       0.06      0.01      0.01       345\n",
            "          12       0.29      0.20      0.23       825\n",
            "          13       0.05      0.01      0.01       311\n",
            "          14       0.16      0.09      0.11       253\n",
            "          15       0.16      0.05      0.08       617\n",
            "          16       0.33      0.28      0.30      1590\n",
            "          17       0.24      0.07      0.11       586\n",
            "          18       0.21      0.11      0.14       142\n",
            "          19       0.06      0.02      0.02       191\n",
            "          20       0.41      0.25      0.31      1567\n",
            "          21       0.13      0.02      0.03       401\n",
            "          22       0.18      0.04      0.07       210\n",
            "\n",
            "   micro avg       0.43      0.31      0.36     19370\n",
            "   macro avg       0.25      0.15      0.18     19370\n",
            "weighted avg       0.37      0.31      0.32     19370\n",
            " samples avg       0.42      0.35      0.35     19370\n",
            "\n"
          ]
        },
        {
          "output_type": "stream",
          "name": "stderr",
          "text": [
            "/usr/local/lib/python3.10/dist-packages/sklearn/metrics/_classification.py:1344: UndefinedMetricWarning: Precision and F-score are ill-defined and being set to 0.0 in samples with no predicted labels. Use `zero_division` parameter to control this behavior.\n",
            "  _warn_prf(average, modifier, msg_start, len(result))\n"
          ]
        }
      ]
    },
    {
      "cell_type": "code",
      "source": [],
      "metadata": {
        "id": "ovgH-RPRqtvL"
      },
      "execution_count": null,
      "outputs": []
    }
  ]
}