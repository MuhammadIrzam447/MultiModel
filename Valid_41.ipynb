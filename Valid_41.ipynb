{
  "nbformat": 4,
  "nbformat_minor": 0,
  "metadata": {
    "colab": {
      "provenance": [],
      "gpuType": "T4",
      "include_colab_link": true
    },
    "kernelspec": {
      "name": "python3",
      "display_name": "Python 3"
    },
    "language_info": {
      "name": "python"
    },
    "accelerator": "GPU"
  },
  "cells": [
    {
      "cell_type": "markdown",
      "metadata": {
        "id": "view-in-github",
        "colab_type": "text"
      },
      "source": [
        "<a href=\"https://colab.research.google.com/github/MuhammadIrzam447/MultiModel/blob/master/Valid_41.ipynb\" target=\"_parent\"><img src=\"https://colab.research.google.com/assets/colab-badge.svg\" alt=\"Open In Colab\"/></a>"
      ]
    },
    {
      "cell_type": "code",
      "source": [
        "# !gdown https://drive.google.com/uc?id=1kl1NQvbcre7ktBmaxvdZ5fN_EmQQicBL"
      ],
      "metadata": {
        "id": "VhXCwAGe33A1"
      },
      "execution_count": 1,
      "outputs": []
    },
    {
      "cell_type": "code",
      "source": [
        "# !gdown https://drive.google.com/uc?id=1pdQLXnI3eykHzTITaDIRNyroPs25aSUS"
      ],
      "metadata": {
        "id": "5hxKWwzVIUPv"
      },
      "execution_count": 2,
      "outputs": []
    },
    {
      "cell_type": "code",
      "source": [
        "# !unzip /content/mulitmodal_joint_224x224.zip"
      ],
      "metadata": {
        "id": "QeiVZuVoIQlQ"
      },
      "execution_count": 3,
      "outputs": []
    },
    {
      "cell_type": "code",
      "execution_count": 4,
      "metadata": {
        "id": "ObgVtPmABT7d"
      },
      "outputs": [],
      "source": [
        "from google.colab import drive\n",
        "import pandas as pd\n",
        "import os\n",
        "from PIL import Image\n",
        "import torch\n",
        "from torchvision import datasets, transforms\n",
        "import torchvision.models as models\n",
        "from torchvision.datasets import ImageFolder\n",
        "import torchvision\n",
        "import torch.nn as nn\n",
        "import torch.optim as optim\n",
        "from sklearn.metrics import confusion_matrix\n",
        "from sklearn.metrics import precision_recall_fscore_support\n",
        "from sklearn.metrics import accuracy_score, precision_score, recall_score, f1_score\n",
        "import matplotlib.pyplot as plt\n",
        "import seaborn as sns\n",
        "import numpy as np\n",
        "from PIL import UnidentifiedImageError\n",
        "from sklearn.metrics import classification_report, roc_auc_score"
      ]
    },
    {
      "cell_type": "code",
      "source": [
        "if torch.cuda.is_available():\n",
        "    device = torch.device(\"cuda\")\n",
        "else:\n",
        "    device = torch.device(\"cpu\")\n",
        "print(device)"
      ],
      "metadata": {
        "id": "pziXvdPgU58B",
        "colab": {
          "base_uri": "https://localhost:8080/"
        },
        "outputId": "6307f775-b3dd-4b2b-c1ce-5b6c2e827418"
      },
      "execution_count": 5,
      "outputs": [
        {
          "output_type": "stream",
          "name": "stdout",
          "text": [
            "cuda\n"
          ]
        }
      ]
    },
    {
      "cell_type": "code",
      "source": [
        "# from google.colab import drive\n",
        "# drive.mount('/content/drive', force_remount=True)"
      ],
      "metadata": {
        "id": "8EPDp91Tyicv"
      },
      "execution_count": 6,
      "outputs": []
    },
    {
      "cell_type": "markdown",
      "source": [
        "# Loading Validation Dataset and Preprocessing"
      ],
      "metadata": {
        "id": "p3yzu25SYhKf"
      }
    },
    {
      "cell_type": "code",
      "source": [
        "save_dir = '/content/'\n",
        "load_path = os.path.join(save_dir, 'fused+joint_model.pth')\n",
        "\n",
        "# Create an instance of the ResNet model\n",
        "resnet = torchvision.models.resnet101(pretrained=False)\n",
        "resnet.fc = nn.Linear(2048, 101) # Choose the number of output classses as per your model\n",
        "\n",
        "# Load the saved model parameters\n",
        "resnet.load_state_dict(torch.load(load_path))\n",
        "# resnet.load_state_dict(torch.load(load_path, map_location=torch.device('cpu')))\n",
        "\n",
        "# Set the model to evaluation mode and respective device\n",
        "resnet.eval()\n",
        "resnet.to(device)"
      ],
      "metadata": {
        "id": "6gITvuS1n91U"
      },
      "execution_count": null,
      "outputs": []
    },
    {
      "cell_type": "code",
      "source": [
        "val_transform = transforms.Compose([\n",
        "    transforms.Resize((224, 224)),\n",
        "    transforms.ToTensor(),\n",
        "    transforms.Normalize(mean=[0.485, 0.456, 0.406], std=[0.229, 0.224, 0.225])\n",
        "])"
      ],
      "metadata": {
        "id": "4ElOxuNZvqLy"
      },
      "execution_count": 8,
      "outputs": []
    },
    {
      "cell_type": "code",
      "source": [
        "class ValidationDataset(torch.utils.data.Dataset):\n",
        "    def __init__(self, data_dir, val_transform):\n",
        "        self.data_dir = data_dir\n",
        "        self.dataset = datasets.ImageFolder(data_dir)\n",
        "        self.classes = self.dataset.classes\n",
        "        self.val_transform = val_transform\n",
        "\n",
        "        self.selected_indices = []\n",
        "        for class_idx in range(len(self.classes)):\n",
        "            indices = [idx for idx, (_, label) in enumerate(self.dataset.samples) if label == class_idx]\n",
        "            indices_3 = [idx for idx in indices if self.dataset.samples[idx][0].endswith(\"_3.png\")]    # _3.png are the encoded_text images\n",
        "            indices_4 = [idx for idx in indices if self.dataset.samples[idx][0].endswith(\"_4.png\")]    # _4.png are the actual images\n",
        "\n",
        "            self.selected_indices.extend(indices_4)\n",
        "            # self.selected_indices.extend(indices_3)\n",
        "        print(\"Selected Indices:\", len(self.selected_indices))\n",
        "        # for idx in self.selected_indices:\n",
        "          # print(self.dataset.samples[idx][0])\n",
        "\n",
        "    def __getitem__(self, index):\n",
        "        # print(\"Entered get_item\")\n",
        "        img, label = self.dataset[self.selected_indices[index]]\n",
        "        filename = self.dataset.samples[self.selected_indices[index]][0]\n",
        "        image_3 = None\n",
        "        image_4 = None\n",
        "        if filename.endswith(\"_4.png\"):\n",
        "                image_4 = img\n",
        "                image_4_path = filename\n",
        "                # print(\"image_4_path: \", str(filename))\n",
        "                image_3_path = filename.replace('_4.png', '_3.png')\n",
        "                # print(\"image_3_path: \", str(image_3_path))\n",
        "                image_3 = self._load_image(image_3_path)\n",
        "        else:\n",
        "                image_3 = img\n",
        "                image_3_path = filename\n",
        "                # print(\"image_3_path: \", str(filename))\n",
        "                image_4_path = filename.replace('_3.png', '_4.png')\n",
        "                # print(\"image_4_path: \", str(image_4_path))\n",
        "                image_4 = self._load_image(image_4_path)\n",
        "\n",
        "        # print(\"Exit get_item\")\n",
        "        return image_3, image_4, label, image_3_path, image_4_path\n",
        "\n",
        "    def _load_image(self, path):\n",
        "        image = Image.open(path)\n",
        "        return image\n",
        "\n",
        "    def __len__(self):\n",
        "        return len(self.selected_indices)"
      ],
      "metadata": {
        "id": "ZEqVuNvcMgvo"
      },
      "execution_count": 9,
      "outputs": []
    },
    {
      "cell_type": "code",
      "source": [
        "valPath = \"/content/mulitmodal/test\"\n",
        "val_dataset = ValidationDataset(valPath,val_transform)"
      ],
      "metadata": {
        "id": "4UfrxOQ3sCgB",
        "colab": {
          "base_uri": "https://localhost:8080/"
        },
        "outputId": "1978c6a2-a3d4-417e-8b85-bf53484ff61f"
      },
      "execution_count": 10,
      "outputs": [
        {
          "output_type": "stream",
          "name": "stdout",
          "text": [
            "Selected Indices: 22716\n"
          ]
        }
      ]
    },
    {
      "cell_type": "code",
      "source": [
        "def custom_collate(batch):\n",
        "    to_tensor = transforms.ToTensor()\n",
        "    val_transform = transforms.Compose([\n",
        "        transforms.Resize((224, 224)),\n",
        "        transforms.ToTensor(),\n",
        "        transforms.Normalize(mean=[0.485, 0.456, 0.406], std=[0.229, 0.224, 0.225])\n",
        "    ])\n",
        "\n",
        "    images_3 = [val_transform(item[0]) for item in batch]\n",
        "    images_4 = [val_transform(item[1]) for item in batch]\n",
        "    labels = [torch.tensor(item[2]) for item in batch]\n",
        "\n",
        "    images_3 = torch.stack(images_3)\n",
        "    images_4 = torch.stack(images_4)\n",
        "\n",
        "    # Print the filenames in each list\n",
        "    # print(\"Filenames in images_3 list:\")\n",
        "    # for item in batch:\n",
        "    #     if item[0] is not None:\n",
        "    #         print(item[3])\n",
        "\n",
        "    # print(\"Filenames in images_4 list:\")\n",
        "    # for item in batch:\n",
        "    #     if item[1] is not None:\n",
        "    #         print(item[4])\n",
        "\n",
        "    return images_3, images_4, labels"
      ],
      "metadata": {
        "id": "snzYnvozBPgC"
      },
      "execution_count": 11,
      "outputs": []
    },
    {
      "cell_type": "code",
      "source": [
        "batch_size = 16\n",
        "validation_data_loader = torch.utils.data.DataLoader(val_dataset, batch_size=batch_size, shuffle=False, collate_fn=custom_collate)"
      ],
      "metadata": {
        "id": "8e-uQ6lqVhmI"
      },
      "execution_count": 12,
      "outputs": []
    },
    {
      "cell_type": "code",
      "source": [
        "print(\"Number of samples:\", len(val_dataset))\n",
        "print(\"Number of classes:\", len(val_dataset.classes))"
      ],
      "metadata": {
        "id": "oShp-fOcVmYs",
        "colab": {
          "base_uri": "https://localhost:8080/"
        },
        "outputId": "a2a576d1-f9e5-41c1-d4ec-89670865cf2b"
      },
      "execution_count": 13,
      "outputs": [
        {
          "output_type": "stream",
          "name": "stdout",
          "text": [
            "Number of samples: 22716\n",
            "Number of classes: 101\n"
          ]
        }
      ]
    },
    {
      "cell_type": "code",
      "source": [
        "num_batches = len(validation_data_loader)\n",
        "print(\"Number of batches:\", num_batches)"
      ],
      "metadata": {
        "id": "l_2_YsDRCJL7",
        "colab": {
          "base_uri": "https://localhost:8080/"
        },
        "outputId": "00d232fb-696e-4549-84ba-a367c311b72d"
      },
      "execution_count": 14,
      "outputs": [
        {
          "output_type": "stream",
          "name": "stdout",
          "text": [
            "Number of batches: 1420\n"
          ]
        }
      ]
    },
    {
      "cell_type": "markdown",
      "source": [
        "# Validation"
      ],
      "metadata": {
        "id": "RbwN0R_b2tMA"
      }
    },
    {
      "cell_type": "code",
      "source": [
        "resnet.eval()\n",
        "\n",
        "# Initialize lists to store the average probabilities and true labels\n",
        "predicted_labels = []\n",
        "true_labels = []\n",
        "\n",
        "# Iterate over the dataloader in your testing loop\n",
        "for images_3, images_4, labels in validation_data_loader:\n",
        "\n",
        "    images_3 = images_3.to(device)\n",
        "    # images_4 = images_4.to(device)\n",
        "\n",
        "    logits_3 = resnet(images_3)\n",
        "    # logits_4 = resnet(images_4)\n",
        "    logits_4 = torch.zeros_like(logits_3)\n",
        "\n",
        "    probabilities_3 = torch.softmax(logits_3, dim=1)\n",
        "    probabilities_4 = torch.softmax(logits_4, dim=1)\n",
        "\n",
        "    avg_probabilities_batch = (probabilities_3 + probabilities_4) / 2\n",
        "\n",
        "    predicted_labels.extend(avg_probabilities_batch.cpu().tolist())\n",
        "\n",
        "    true_labels.extend(labels)"
      ],
      "metadata": {
        "id": "QYxUnUjO7DOa"
      },
      "execution_count": 15,
      "outputs": []
    },
    {
      "cell_type": "code",
      "source": [
        "predicted_classes = torch.argmax(torch.tensor(predicted_labels), dim=1)\n",
        "actual_labels = torch.tensor(true_labels)"
      ],
      "metadata": {
        "id": "9PWM8Xhck2Xy"
      },
      "execution_count": 16,
      "outputs": []
    },
    {
      "cell_type": "code",
      "source": [
        "accuracy = accuracy_score(actual_labels, predicted_classes)\n",
        "precision = precision_score(actual_labels, predicted_classes, average='weighted')\n",
        "recall = recall_score(actual_labels, predicted_classes, average='weighted')\n",
        "f1 = f1_score(actual_labels, predicted_classes, average='weighted')\n",
        "\n",
        "print(\"Accuracy:\", accuracy)\n",
        "print(\"Precision:\", precision)\n",
        "print(\"Recall:\", recall)\n",
        "print(\"F1-score:\", f1)"
      ],
      "metadata": {
        "id": "SiJYzy3heKgR",
        "colab": {
          "base_uri": "https://localhost:8080/"
        },
        "outputId": "e66ee05f-096a-4d8e-fda4-afda1e8d442f"
      },
      "execution_count": 17,
      "outputs": [
        {
          "output_type": "stream",
          "name": "stdout",
          "text": [
            "Accuracy: 0.8042349005106533\n",
            "Precision: 0.8436941355357138\n",
            "Recall: 0.8042349005106533\n",
            "F1-score: 0.8181561241619751\n"
          ]
        }
      ]
    },
    {
      "cell_type": "code",
      "source": [
        "print(classification_report(actual_labels, predicted_classes))"
      ],
      "metadata": {
        "id": "1PEdbnvj0vPK",
        "colab": {
          "base_uri": "https://localhost:8080/"
        },
        "outputId": "093c4e91-482b-4e31-ff71-860cb90faf86"
      },
      "execution_count": 18,
      "outputs": [
        {
          "output_type": "stream",
          "name": "stdout",
          "text": [
            "              precision    recall  f1-score   support\n",
            "\n",
            "           0       0.94      0.89      0.91       234\n",
            "           1       0.91      0.78      0.84       221\n",
            "           2       0.84      0.67      0.74       226\n",
            "           3       0.67      0.59      0.63       222\n",
            "           4       0.60      0.54      0.57       225\n",
            "           5       0.78      0.79      0.79       224\n",
            "           6       0.91      0.81      0.85       224\n",
            "           7       0.90      0.82      0.86       225\n",
            "           8       0.88      0.95      0.91       226\n",
            "           9       0.88      0.76      0.81       214\n",
            "          10       0.91      0.88      0.89       231\n",
            "          11       0.87      0.74      0.80       227\n",
            "          12       0.89      0.89      0.89       230\n",
            "          13       0.88      0.78      0.83       220\n",
            "          14       0.94      0.82      0.88       231\n",
            "          15       0.89      0.86      0.88       227\n",
            "          16       0.70      0.70      0.70       224\n",
            "          17       0.93      0.87      0.90       233\n",
            "          18       0.88      0.73      0.80       222\n",
            "          19       0.78      0.61      0.69       220\n",
            "          20       0.97      0.79      0.87       219\n",
            "          21       0.94      0.88      0.91       232\n",
            "          22       0.86      0.92      0.89       224\n",
            "          23       0.92      0.86      0.89       230\n",
            "          24       0.85      0.81      0.83       224\n",
            "          25       0.84      0.84      0.84       220\n",
            "          26       0.86      0.73      0.79       221\n",
            "          27       0.82      0.70      0.75       225\n",
            "          28       0.70      0.67      0.69       224\n",
            "          29       0.85      0.83      0.84       228\n",
            "          30       0.86      0.91      0.89       229\n",
            "          31       0.77      0.81      0.79       232\n",
            "          32       0.85      0.91      0.88       228\n",
            "          33       0.84      0.75      0.79       231\n",
            "          34       0.89      0.77      0.82       213\n",
            "          35       0.72      0.84      0.77       202\n",
            "          36       0.67      0.93      0.78       228\n",
            "          37       0.70      0.59      0.64       212\n",
            "          38       0.88      0.68      0.77       208\n",
            "          39       0.68      0.77      0.72       216\n",
            "          40       0.89      0.81      0.85       212\n",
            "          41       0.78      0.74      0.76       223\n",
            "          42       0.90      0.78      0.84       238\n",
            "          43       0.80      0.66      0.72       212\n",
            "          44       0.90      0.77      0.83       229\n",
            "          45       0.90      0.94      0.92       233\n",
            "          46       0.87      0.73      0.79       224\n",
            "          47       0.87      0.91      0.89       234\n",
            "          48       0.90      0.74      0.81       223\n",
            "          49       0.75      0.71      0.73       229\n",
            "          50       0.90      0.88      0.89       225\n",
            "          51       0.93      0.88      0.91       228\n",
            "          52       0.92      0.84      0.88       232\n",
            "          53       0.88      0.85      0.87       233\n",
            "          54       0.87      0.85      0.86       203\n",
            "          55       0.87      0.93      0.90       234\n",
            "          56       0.85      0.84      0.85       223\n",
            "          57       0.95      0.91      0.93       234\n",
            "          58       0.96      0.93      0.94       232\n",
            "          59       0.94      0.88      0.90       233\n",
            "          60       0.79      0.70      0.74       197\n",
            "          61       0.83      0.87      0.85       215\n",
            "          62       0.94      0.90      0.92       238\n",
            "          63       0.91      0.88      0.90       231\n",
            "          64       0.78      0.89      0.83       227\n",
            "          65       0.78      0.75      0.76       234\n",
            "          66       0.91      0.88      0.90       224\n",
            "          67       0.95      0.91      0.93       231\n",
            "          68       0.88      0.80      0.84       217\n",
            "          69       0.83      0.86      0.84       223\n",
            "          70       0.77      0.68      0.72       230\n",
            "          71       0.14      0.89      0.25       228\n",
            "          72       0.96      0.91      0.93       234\n",
            "          73       0.90      0.90      0.90       225\n",
            "          74       0.77      0.60      0.67       211\n",
            "          75       0.63      0.67      0.65       218\n",
            "          76       0.77      0.90      0.83       235\n",
            "          77       0.96      0.79      0.87       227\n",
            "          78       0.88      0.85      0.86       210\n",
            "          79       0.90      0.86      0.88       220\n",
            "          80       0.61      0.75      0.67       224\n",
            "          81       0.91      0.90      0.90       232\n",
            "          82       0.86      0.90      0.88       236\n",
            "          83       0.87      0.82      0.85       227\n",
            "          84       0.91      0.89      0.90       236\n",
            "          85       0.88      0.84      0.86       215\n",
            "          86       0.70      0.53      0.60       226\n",
            "          87       0.84      0.76      0.80       228\n",
            "          88       0.79      0.58      0.67       219\n",
            "          89       0.90      0.89      0.90       228\n",
            "          90       0.88      0.69      0.77       213\n",
            "          91       0.91      0.84      0.87       218\n",
            "          92       0.88      0.77      0.82       230\n",
            "          93       0.83      0.89      0.85       229\n",
            "          94       0.92      0.65      0.76       223\n",
            "          95       0.84      0.84      0.84       237\n",
            "          96       0.82      0.81      0.81       233\n",
            "          97       0.92      0.81      0.86       223\n",
            "          98       0.93      0.91      0.92       232\n",
            "          99       0.74      0.57      0.65       211\n",
            "         100       0.84      0.91      0.87       235\n",
            "\n",
            "    accuracy                           0.80     22716\n",
            "   macro avg       0.84      0.80      0.82     22716\n",
            "weighted avg       0.84      0.80      0.82     22716\n",
            "\n"
          ]
        }
      ]
    },
    {
      "cell_type": "code",
      "source": [
        "# predicted_classes = np.array(predicted_classes)\n",
        "# actual_labels = np.array(actual_labels)\n",
        "# # Calculate the AUROC score\n",
        "# auroc = roc_auc_score(actual_labels, predicted_classes)\n",
        "# print(\"AUROC:\", auroc)"
      ],
      "metadata": {
        "id": "9eccIpOdeq_9"
      },
      "execution_count": 19,
      "outputs": []
    },
    {
      "cell_type": "code",
      "source": [
        "# from sklearn import metrics\n",
        "# fpr, tpr, _ = metrics.roc_curve(actual_labels,  predicted_classes)\n",
        "# plt.plot(fpr,tpr)\n",
        "# plt.ylabel('True Positive Rate')\n",
        "# plt.xlabel('False Positive Rate')\n",
        "# plt.show()"
      ],
      "metadata": {
        "id": "wwkCt43qIoO8"
      },
      "execution_count": 20,
      "outputs": []
    },
    {
      "cell_type": "code",
      "source": [
        "from sklearn.metrics import confusion_matrix, ConfusionMatrixDisplay\n",
        "cm = confusion_matrix(actual_labels, predicted_classes)\n",
        "print(cm)"
      ],
      "metadata": {
        "id": "obEkbeIttC3P",
        "colab": {
          "base_uri": "https://localhost:8080/"
        },
        "outputId": "2744ec92-1759-496f-8ea2-b19dc89d9a15"
      },
      "execution_count": 21,
      "outputs": [
        {
          "output_type": "stream",
          "name": "stdout",
          "text": [
            "[[208   0   1 ...   0   0   0]\n",
            " [  0 172   0 ...   0   0   1]\n",
            " [  1   0 151 ...   0   0   0]\n",
            " ...\n",
            " [  0   0   0 ... 210   0   0]\n",
            " [  0   1   1 ...   1 121   0]\n",
            " [  0   0   2 ...   0   0 213]]\n"
          ]
        }
      ]
    },
    {
      "cell_type": "code",
      "source": [
        "labels = ['Accuracy', 'Precision', 'Recall', 'F1-score']\n",
        "values = [accuracy, precision, recall, f1]\n",
        "\n",
        "x = np.arange(len(labels))\n",
        "\n",
        "fig, ax = plt.subplots(figsize=(5, 4))\n",
        "bars = ax.bar(x, values)\n",
        "\n",
        "# labels, title, and legend\n",
        "ax.set_xlabel('Metrics')\n",
        "ax.set_ylabel('Score')\n",
        "ax.set_title('Model Performance Metrics')\n",
        "ax.set_xticks(x)\n",
        "ax.set_xticklabels(labels)\n",
        "\n",
        "# scores on top of each bar\n",
        "for i, bar in enumerate(bars):\n",
        "    score = values[i]\n",
        "    ax.text(bar.get_x() + bar.get_width() / 2, bar.get_height(), f'{score:.2f}', ha='center', va='bottom')\n",
        "\n",
        "plt.show()"
      ],
      "metadata": {
        "id": "xSO-PViWdHwB",
        "colab": {
          "base_uri": "https://localhost:8080/",
          "height": 410
        },
        "outputId": "dcdbcd5a-f7cd-4486-d68d-fc4f479dd22d"
      },
      "execution_count": 22,
      "outputs": [
        {
          "output_type": "display_data",
          "data": {
            "text/plain": [
              "<Figure size 500x400 with 1 Axes>"
            ],
            "image/png": "[encoded data removed]"
          },
          "metadata": {}
        }
      ]
    },
    {
      "cell_type": "code",
      "source": [
        "# Count the occurrences of each label in predicted and true labels\n",
        "predicted_counts = np.bincount(predicted_classes)\n",
        "true_counts = np.bincount(actual_labels)\n",
        "\n",
        "# Get the unique labels\n",
        "labels = np.unique(np.concatenate((predicted_classes, actual_labels)))\n",
        "\n",
        "# Set the x-axis range\n",
        "x = np.arange(len(labels))\n",
        "\n",
        "# Set the width of the bars\n",
        "width = 0.35\n",
        "\n",
        "# Plot the predicted and true label counts\n",
        "fig, ax = plt.subplots(figsize=(5,5))\n",
        "ax.bar(x - width/2, predicted_counts, width, label='Predicted Labels')\n",
        "ax.bar(x + width/2, true_counts, width, label='True Labels')\n",
        "\n",
        "# Add labels, title, and legend\n",
        "ax.set_xlabel('Labels')\n",
        "ax.set_ylabel('Count')\n",
        "ax.set_title('Distribution of Predicted and True Labels')\n",
        "ax.set_xticks(x)\n",
        "ax.set_xticklabels(labels)\n",
        "ax.legend()\n",
        "\n",
        "plt.show()"
      ],
      "metadata": {
        "id": "55bbdFyXajU8",
        "colab": {
          "base_uri": "https://localhost:8080/",
          "height": 487
        },
        "outputId": "8ee227d7-1697-4b5c-eb4b-e7a07ae28aa4"
      },
      "execution_count": 23,
      "outputs": [
        {
          "output_type": "display_data",
          "data": {
            "text/plain": [
              "<Figure size 500x500 with 1 Axes>"
            ],
            "image/png": "[encoded data removed]"
          },
          "metadata": {}
        }
      ]
    },
    {
      "cell_type": "code",
      "source": [],
      "metadata": {
        "id": "HySmURlWw6oz"
      },
      "execution_count": 23,
      "outputs": []
    }
  ]
}