{
  "nbformat": 4,
  "nbformat_minor": 0,
  "metadata": {
    "colab": {
      "provenance": [],
      "collapsed_sections": [
        "VWtsIHx6w0T4"
      ],
      "gpuType": "T4",
      "include_colab_link": true
    },
    "kernelspec": {
      "name": "python3",
      "display_name": "Python 3"
    },
    "language_info": {
      "name": "python"
    },
    "accelerator": "GPU"
  },
  "cells": [
    {
      "cell_type": "markdown",
      "metadata": {
        "id": "view-in-github",
        "colab_type": "text"
      },
      "source": [
        "<a href=\"https://colab.research.google.com/github/MuhammadIrzam447/MultiModel/blob/master/Train_21(1).ipynb\" target=\"_parent\"><img src=\"https://colab.research.google.com/assets/colab-badge.svg\" alt=\"Open In Colab\"/></a>"
      ]
    },
    {
      "cell_type": "code",
      "source": [
        "# Train-21"
      ],
      "metadata": {
        "id": "f6HfIPL5IaGA"
      },
      "execution_count": null,
      "outputs": []
    },
    {
      "cell_type": "code",
      "source": [
        "!gdown https://drive.google.com/uc?id=1Yva4FLcRiSbcf3SAENVQFPWkfNG-GUmt"
      ],
      "metadata": {
        "colab": {
          "base_uri": "https://localhost:8080/"
        },
        "id": "KlM4r27JL8Qp",
        "outputId": "72696ef5-4c75-4f97-ca45-32af3112eea1"
      },
      "execution_count": null,
      "outputs": [
        {
          "output_type": "stream",
          "name": "stdout",
          "text": [
            "Downloading...\n",
            "From: https://drive.google.com/uc?id=1Yva4FLcRiSbcf3SAENVQFPWkfNG-GUmt\n",
            "To: /content/fused_train.zip\n",
            "100% 4.21G/4.21G [00:45<00:00, 92.4MB/s]\n"
          ]
        }
      ]
    },
    {
      "cell_type": "code",
      "source": [
        "!gdown https://drive.google.com/uc?id=1X4cmMYRjxXFomCJ1adMhPNMYtd4WeDHP"
      ],
      "metadata": {
        "colab": {
          "base_uri": "https://localhost:8080/"
        },
        "id": "x_cd9k9OMHSj",
        "outputId": "03988a59-4d16-49e6-cfb9-a32fa9f843b5"
      },
      "execution_count": null,
      "outputs": [
        {
          "output_type": "stream",
          "name": "stdout",
          "text": [
            "Downloading...\n",
            "From: https://drive.google.com/uc?id=1X4cmMYRjxXFomCJ1adMhPNMYtd4WeDHP\n",
            "To: /content/fused_train_label.txt\n",
            "\r  0% 0.00/1.55M [00:00<?, ?B/s]\r100% 1.55M/1.55M [00:00<00:00, 177MB/s]\n"
          ]
        }
      ]
    },
    {
      "cell_type": "code",
      "source": [
        "!gdown https://drive.google.com/uc?id=1dxd2pySfCIDJYG7qMtuJre8ph068xc1X"
      ],
      "metadata": {
        "colab": {
          "base_uri": "https://localhost:8080/"
        },
        "id": "WqSAFKENMLsx",
        "outputId": "a69f4648-21ef-460b-a59b-352a04e67f7b"
      },
      "execution_count": null,
      "outputs": [
        {
          "output_type": "stream",
          "name": "stdout",
          "text": [
            "Downloading...\n",
            "From: https://drive.google.com/uc?id=1dxd2pySfCIDJYG7qMtuJre8ph068xc1X\n",
            "To: /content/fused_test.zip\n",
            "100% 2.12G/2.12G [00:23<00:00, 89.0MB/s]\n"
          ]
        }
      ]
    },
    {
      "cell_type": "code",
      "source": [
        "!gdown https://drive.google.com/uc?id=1sYR9EgHkM0oiGRQVlFQCyHO8kMRJ4ibQ"
      ],
      "metadata": {
        "colab": {
          "base_uri": "https://localhost:8080/"
        },
        "id": "hZbJNCrgM2Pr",
        "outputId": "8efe1bb5-3ee3-42f2-b6f0-b339079150b4"
      },
      "execution_count": null,
      "outputs": [
        {
          "output_type": "stream",
          "name": "stdout",
          "text": [
            "Downloading...\n",
            "From: https://drive.google.com/uc?id=1sYR9EgHkM0oiGRQVlFQCyHO8kMRJ4ibQ\n",
            "To: /content/fused_test_label.txt\n",
            "\r  0% 0.00/777k [00:00<?, ?B/s]\r100% 777k/777k [00:00<00:00, 135MB/s]\n"
          ]
        }
      ]
    },
    {
      "cell_type": "code",
      "source": [
        "!unzip /content/fused_test.zip"
      ],
      "metadata": {
        "id": "bAC2Wz4zNcsx"
      },
      "execution_count": null,
      "outputs": []
    },
    {
      "cell_type": "code",
      "source": [
        "!unzip /content/fused_train.zip"
      ],
      "metadata": {
        "id": "pKrFemgJNdpE"
      },
      "execution_count": null,
      "outputs": []
    },
    {
      "cell_type": "code",
      "source": [
        "# Joint"
      ],
      "metadata": {
        "id": "1qWrpSX6L6KI"
      },
      "execution_count": null,
      "outputs": []
    },
    {
      "cell_type": "code",
      "execution_count": null,
      "metadata": {
        "id": "nmF1zNcPTGga"
      },
      "outputs": [],
      "source": [
        "# !gdown https://drive.google.com/uc?id=1jX_5n1kiiLI7Yl72ljkBMSiVgSlg254w"
      ]
    },
    {
      "cell_type": "code",
      "source": [
        "# !gdown https://drive.google.com/uc?id=1D7PMsXUxkmqskMpfy5LzFfPyJH0Ngf3q"
      ],
      "metadata": {
        "id": "KKm0C_4oTUTT"
      },
      "execution_count": null,
      "outputs": []
    },
    {
      "cell_type": "code",
      "source": [
        "# !gdown https://drive.google.com/uc?id=1RciaCtImqRTT2-qq27GP6wKpIYfosAA3"
      ],
      "metadata": {
        "id": "JLMZ4FcgyNpb"
      },
      "execution_count": null,
      "outputs": []
    },
    {
      "cell_type": "code",
      "source": [
        "# !gdown https://drive.google.com/uc?id=1giFuyrh33q_T1hfxcA0b-iBj_ix5w-sQ"
      ],
      "metadata": {
        "id": "sXd76s1XyO5r"
      },
      "execution_count": null,
      "outputs": []
    },
    {
      "cell_type": "code",
      "source": [
        "# !unzip \"/content/Dataset(s)/mm-imdb/joint/joint_test.zip\""
      ],
      "metadata": {
        "id": "Q--gX0z1yYPf"
      },
      "execution_count": null,
      "outputs": []
    },
    {
      "cell_type": "code",
      "source": [
        "# !unzip \"/content/Dataset(s)/mm-imdb/joint/joint_train.zip\""
      ],
      "metadata": {
        "id": "A-YkM8B0ywHJ"
      },
      "execution_count": null,
      "outputs": []
    },
    {
      "cell_type": "markdown",
      "source": [
        "# Training Dataset Preparation"
      ],
      "metadata": {
        "id": "VqotBnmCXM6s"
      }
    },
    {
      "cell_type": "code",
      "source": [
        "import os\n",
        "image_file_paths = []\n",
        "genre_labels = []\n",
        "\n",
        "image_folder_add = \"/content/train\"\n",
        "labels_file = '/content/fused_train_label.txt'\n",
        "\n",
        "with open(labels_file, 'r') as file:\n",
        "    for line in file:\n",
        "        parts = line.strip().split('|')\n",
        "        filename = parts[0].strip()\n",
        "        labels = parts[1].strip().split(', ')  # Split labels by comma and remove leading/trailing spaces\n",
        "        image_path = os.path.join(image_folder_add, filename)\n",
        "        image_file_paths.append(image_path)\n",
        "        genre_labels.append(labels)"
      ],
      "metadata": {
        "id": "O2DdTX5_XNV8"
      },
      "execution_count": null,
      "outputs": []
    },
    {
      "cell_type": "code",
      "source": [
        "len(image_file_paths)"
      ],
      "metadata": {
        "id": "nXDErAZjdJn0",
        "colab": {
          "base_uri": "https://localhost:8080/"
        },
        "outputId": "490d8dcd-4b98-4196-c9aa-921b51445837"
      },
      "execution_count": null,
      "outputs": [
        {
          "output_type": "execute_result",
          "data": {
            "text/plain": [
              "46656"
            ]
          },
          "metadata": {},
          "execution_count": 8
        }
      ]
    },
    {
      "cell_type": "code",
      "source": [
        "# genre_labels"
      ],
      "metadata": {
        "id": "PWOIg0hTdKvS"
      },
      "execution_count": null,
      "outputs": []
    },
    {
      "cell_type": "code",
      "source": [
        "# unique_labels_set = set()\n",
        "\n",
        "# for labels in genre_labels:\n",
        "#     unique_labels_set.update(labels)\n",
        "\n",
        "# unique_labels = sorted(list(unique_labels_set))"
      ],
      "metadata": {
        "id": "WnWdzeiWXXOk"
      },
      "execution_count": null,
      "outputs": []
    },
    {
      "cell_type": "code",
      "source": [
        "# unique_labels"
      ],
      "metadata": {
        "id": "rB1rz-dwZgxV"
      },
      "execution_count": null,
      "outputs": []
    },
    {
      "cell_type": "code",
      "source": [
        "# len(unique_labels)"
      ],
      "metadata": {
        "id": "gbg9-ae_zi0F"
      },
      "execution_count": null,
      "outputs": []
    },
    {
      "cell_type": "code",
      "source": [
        "from collections import defaultdict\n",
        "\n",
        "label_counts = defaultdict(int)\n",
        "\n",
        "for labels in genre_labels:\n",
        "    for label in labels:\n",
        "        label_counts[label] += 1"
      ],
      "metadata": {
        "id": "yslKvYyH2tQn"
      },
      "execution_count": null,
      "outputs": []
    },
    {
      "cell_type": "code",
      "source": [
        "# Convert the defaultdict into a list of tuples\n",
        "label_count_list = [(label, count) for label, count in label_counts.items()]\n",
        "\n",
        "# Sort the list of tuples based on counts in descending order\n",
        "sorted_label_count_list = sorted(label_count_list, key=lambda x: x[1], reverse=True)\n",
        "\n",
        "# Display the sorted list\n",
        "for label, count in sorted_label_count_list:\n",
        "    print(f\"{label}: {count}\")\n",
        "\n",
        "print(\"Total Labels: \", len(label_count_list))"
      ],
      "metadata": {
        "colab": {
          "base_uri": "https://localhost:8080/"
        },
        "id": "PFbfclqsU9hm",
        "outputId": "d682f844-d3ce-450f-bb93-4fe8bd1a4fdc"
      },
      "execution_count": null,
      "outputs": [
        {
          "output_type": "stream",
          "name": "stdout",
          "text": [
            "Drama: 25272\n",
            "Comedy: 15324\n",
            "Romance: 9678\n",
            "Thriller: 9339\n",
            "Crime: 6879\n",
            "Action: 6465\n",
            "Adventure: 4833\n",
            "Horror: 4809\n",
            "Documentary: 3702\n",
            "Mystery: 3693\n",
            "Sci-Fi: 3636\n",
            "Fantasy: 3486\n",
            "Family: 2934\n",
            "War: 2418\n",
            "Biography: 2364\n",
            "History: 2040\n",
            "Music: 1902\n",
            "Animation: 1758\n",
            "Musical: 1509\n",
            "Western: 1269\n",
            "Sport: 1137\n",
            "Short: 843\n",
            "Film-Noir: 606\n",
            "News: 117\n",
            "Talk-Show: 6\n",
            "Reality-TV: 3\n",
            "Total Labels:  26\n"
          ]
        }
      ]
    },
    {
      "cell_type": "code",
      "source": [
        "min_label_count = 400\n",
        "valid_labels = [label for label, count in label_counts.items() if count >= min_label_count]\n",
        "valid_labels = sorted(list(valid_labels))"
      ],
      "metadata": {
        "id": "DV3BPMTYWfaq"
      },
      "execution_count": null,
      "outputs": []
    },
    {
      "cell_type": "code",
      "source": [
        "valid_labels, len(valid_labels)"
      ],
      "metadata": {
        "colab": {
          "base_uri": "https://localhost:8080/"
        },
        "id": "4whPvouoXCuy",
        "outputId": "be67c45f-b3e1-4dc3-a837-4f1b3a35b376"
      },
      "execution_count": null,
      "outputs": [
        {
          "output_type": "execute_result",
          "data": {
            "text/plain": [
              "(['Action',\n",
              "  'Adventure',\n",
              "  'Animation',\n",
              "  'Biography',\n",
              "  'Comedy',\n",
              "  'Crime',\n",
              "  'Documentary',\n",
              "  'Drama',\n",
              "  'Family',\n",
              "  'Fantasy',\n",
              "  'Film-Noir',\n",
              "  'History',\n",
              "  'Horror',\n",
              "  'Music',\n",
              "  'Musical',\n",
              "  'Mystery',\n",
              "  'Romance',\n",
              "  'Sci-Fi',\n",
              "  'Short',\n",
              "  'Sport',\n",
              "  'Thriller',\n",
              "  'War',\n",
              "  'Western'],\n",
              " 23)"
            ]
          },
          "metadata": {},
          "execution_count": 16
        }
      ]
    },
    {
      "cell_type": "code",
      "source": [
        "# filtered_image_paths = []\n",
        "# filtered_genre_labels = []\n",
        "\n",
        "# for image_path, labels in zip(image_file_paths, genre_labels):\n",
        "#     valid_labels_for_sample = [label for label in labels if label in valid_labels]\n",
        "\n",
        "#     if valid_labels_for_sample:\n",
        "#         filtered_image_paths.append(image_path)\n",
        "#         filtered_genre_labels.append(valid_labels_for_sample)"
      ],
      "metadata": {
        "id": "0fOqnZ46We-d"
      },
      "execution_count": null,
      "outputs": []
    },
    {
      "cell_type": "code",
      "source": [
        "# len(filtered_image_paths)"
      ],
      "metadata": {
        "id": "T0NkX3jwWp56"
      },
      "execution_count": null,
      "outputs": []
    },
    {
      "cell_type": "code",
      "source": [
        "# len(filtered_genre_labels)"
      ],
      "metadata": {
        "id": "Wdv_QSfJWqDT"
      },
      "execution_count": null,
      "outputs": []
    },
    {
      "cell_type": "code",
      "source": [
        "multi_hot_labels = []\n",
        "\n",
        "for labels in genre_labels:\n",
        "    multi_hot = [1 if label in labels else 0 for label in valid_labels]\n",
        "    multi_hot_labels.append(multi_hot)"
      ],
      "metadata": {
        "id": "weVX9tVdZhxP"
      },
      "execution_count": null,
      "outputs": []
    },
    {
      "cell_type": "code",
      "source": [
        "multi_hot_labels[1]"
      ],
      "metadata": {
        "id": "5BdzoGhlZ1uE",
        "colab": {
          "base_uri": "https://localhost:8080/"
        },
        "outputId": "c6e12b84-5317-4f9d-a108-e6c15b96d095"
      },
      "execution_count": null,
      "outputs": [
        {
          "output_type": "execute_result",
          "data": {
            "text/plain": [
              "[0, 0, 0, 0, 0, 1, 0, 1, 0, 0, 0, 0, 0, 0, 0, 0, 0, 0, 0, 0, 1, 0, 0]"
            ]
          },
          "metadata": {},
          "execution_count": 21
        }
      ]
    },
    {
      "cell_type": "code",
      "source": [
        "genre_labels[1]"
      ],
      "metadata": {
        "id": "1ozp7IfHZ2-m",
        "colab": {
          "base_uri": "https://localhost:8080/"
        },
        "outputId": "b3e00276-b9ac-46b4-90b3-13a9c3ca1db6"
      },
      "execution_count": null,
      "outputs": [
        {
          "output_type": "execute_result",
          "data": {
            "text/plain": [
              "['Crime', 'Drama', 'Thriller']"
            ]
          },
          "metadata": {},
          "execution_count": 22
        }
      ]
    },
    {
      "cell_type": "code",
      "source": [
        "import os\n",
        "import torch\n",
        "from torch.utils.data import Dataset, DataLoader\n",
        "from torchvision import transforms\n",
        "from PIL import Image\n",
        "\n",
        "class CustomMultiLabelDataset(Dataset):\n",
        "    def __init__(self, image_file_paths, multi_encoded_labels, transform=None):\n",
        "        self.image_file_paths = image_file_paths\n",
        "        self.multi_encoded_labels = multi_encoded_labels\n",
        "        self.transform = transform\n",
        "\n",
        "    def __len__(self):\n",
        "        return len(self.image_file_paths)\n",
        "\n",
        "    def __getitem__(self, idx):\n",
        "        image_path = self.image_file_paths[idx]\n",
        "        image = Image.open(image_path)\n",
        "\n",
        "        labels = self.multi_encoded_labels[idx]\n",
        "        labels = torch.tensor(labels, dtype=torch.float32)\n",
        "\n",
        "        if self.transform:\n",
        "            image = self.transform(image)\n",
        "\n",
        "        return image, labels\n",
        "\n",
        "# Define data transformations (resize, normalize, etc.)\n",
        "transform = transforms.Compose([\n",
        "    transforms.Resize((224, 224)),\n",
        "    transforms.ToTensor(),\n",
        "    transforms.Normalize(mean=[0.485, 0.456, 0.406], std=[0.229, 0.224, 0.225]),\n",
        "])"
      ],
      "metadata": {
        "id": "uprw1hgjbHji"
      },
      "execution_count": null,
      "outputs": []
    },
    {
      "cell_type": "code",
      "source": [
        "# Create a custom dataset\n",
        "train_dataset = CustomMultiLabelDataset(image_file_paths, multi_hot_labels, transform=transform)"
      ],
      "metadata": {
        "id": "pjHkp2KZblJf"
      },
      "execution_count": null,
      "outputs": []
    },
    {
      "cell_type": "code",
      "source": [
        "len(train_dataset)"
      ],
      "metadata": {
        "id": "6djdqSdHdylD",
        "colab": {
          "base_uri": "https://localhost:8080/"
        },
        "outputId": "2b7f1fd1-c0c0-4bf4-f1b3-62c48476126a"
      },
      "execution_count": null,
      "outputs": [
        {
          "output_type": "execute_result",
          "data": {
            "text/plain": [
              "46656"
            ]
          },
          "metadata": {},
          "execution_count": 25
        }
      ]
    },
    {
      "cell_type": "code",
      "source": [
        "train_dataset[10]"
      ],
      "metadata": {
        "id": "XY0b1aLgd1Dy",
        "colab": {
          "base_uri": "https://localhost:8080/"
        },
        "outputId": "939e6eef-151b-4e8c-d2f5-05c4681a7404"
      },
      "execution_count": null,
      "outputs": [
        {
          "output_type": "execute_result",
          "data": {
            "text/plain": [
              "(tensor([[[-0.4739, -1.2103, -1.2617,  ..., -1.2617, -1.2103, -0.4568],\n",
              "          [-0.7137, -2.0494, -2.0837,  ..., -2.0665, -2.0323, -0.7137],\n",
              "          [-0.6281, -2.1179, -2.1179,  ..., -2.1179, -2.1008, -0.6281],\n",
              "          ...,\n",
              "          [ 0.5193,  1.7865,  1.7352,  ...,  1.9920,  2.2489,  0.6221],\n",
              "          [ 0.5022,  1.7865,  1.7009,  ...,  2.0263,  2.2318,  0.6563],\n",
              "          [ 0.2624,  1.0159,  1.0159,  ...,  1.1015,  1.2899,  0.3138]],\n",
              " \n",
              "         [[-0.3550, -1.1078, -1.1604,  ..., -1.1604, -1.1078, -0.3375],\n",
              "          [-0.6001, -1.9657, -2.0007,  ..., -1.9832, -1.9482, -0.6001],\n",
              "          [-0.5126, -2.0357, -2.0357,  ..., -2.0357, -2.0182, -0.5126],\n",
              "          ...,\n",
              "          [ 0.6954,  2.0434,  2.0609,  ...,  2.1134,  2.3936,  0.6954],\n",
              "          [ 0.8004,  2.1660,  2.0959,  ...,  2.2010,  2.4111,  0.7654],\n",
              "          [ 0.4503,  1.2556,  1.3081,  ...,  1.3256,  1.4657,  0.4678]],\n",
              " \n",
              "         [[-0.1312, -0.8807, -0.9330,  ..., -0.9330, -0.8807, -0.1138],\n",
              "          [-0.3753, -1.7347, -1.7696,  ..., -1.7522, -1.7173, -0.3753],\n",
              "          [-0.2881, -1.8044, -1.8044,  ..., -1.8044, -1.7870, -0.2881],\n",
              "          ...,\n",
              "          [ 0.1476,  1.1062,  0.7054,  ...,  1.2980,  2.3263,  0.9494],\n",
              "          [-0.3753,  0.6705,  0.2522,  ...,  1.3677,  2.2217,  0.7751],\n",
              "          [-0.0092,  0.5485,  0.3393,  ...,  0.8797,  1.5594,  0.6879]]]),\n",
              " tensor([0., 0., 0., 0., 1., 0., 0., 0., 0., 0., 0., 0., 0., 0., 0., 0., 1., 0.,\n",
              "         0., 0., 0., 0., 0.]))"
            ]
          },
          "metadata": {},
          "execution_count": 26
        }
      ]
    },
    {
      "cell_type": "markdown",
      "source": [
        "# Test Dataset Preparation"
      ],
      "metadata": {
        "id": "W5OWR3LAvXb_"
      }
    },
    {
      "cell_type": "code",
      "source": [
        "import os\n",
        "\n",
        "test_image_file_paths = []\n",
        "test_genre_labels = []\n",
        "\n",
        "image_folder_add = \"/content/test\"\n",
        "labels_file = '/content/fused_test_label.txt'\n",
        "\n",
        "with open(labels_file, 'r') as file:\n",
        "    for line in file:\n",
        "        parts = line.strip().split('|')\n",
        "        filename = parts[0].strip()\n",
        "        labels = parts[1].strip().split(', ')  # Split labels by comma and remove leading/trailing spaces\n",
        "\n",
        "        if not (filename.endswith(\"_1.png\") or filename.endswith(\"_2.png\")):\n",
        "            image_path = os.path.join(image_folder_add, filename)\n",
        "            test_image_file_paths.append(image_path)\n",
        "            test_genre_labels.append(labels)\n"
      ],
      "metadata": {
        "id": "O6ZbynEblVNf"
      },
      "execution_count": null,
      "outputs": []
    },
    {
      "cell_type": "code",
      "source": [
        "test_image_file_paths[0:10]"
      ],
      "metadata": {
        "colab": {
          "base_uri": "https://localhost:8080/"
        },
        "id": "y4MFRh5PluWU",
        "outputId": "89aaf8d0-2d38-47a7-92f3-8cd3d10cd0df"
      },
      "execution_count": null,
      "outputs": [
        {
          "output_type": "execute_result",
          "data": {
            "text/plain": [
              "['/content/test/0078718.png',\n",
              " '/content/test/0089003.png',\n",
              " '/content/test/0098136.png',\n",
              " '/content/test/0057693.png',\n",
              " '/content/test/0385330.png',\n",
              " '/content/test/0096487.png',\n",
              " '/content/test/1220553.png',\n",
              " '/content/test/1341764.png',\n",
              " '/content/test/0882969.png',\n",
              " '/content/test/0119918.png']"
            ]
          },
          "metadata": {},
          "execution_count": 28
        }
      ]
    },
    {
      "cell_type": "code",
      "source": [
        "test_multi_hot_labels = []\n",
        "\n",
        "for labels in test_genre_labels:\n",
        "    test_multi_hot = [1 if label in labels else 0 for label in valid_labels]\n",
        "    test_multi_hot_labels.append(test_multi_hot)"
      ],
      "metadata": {
        "id": "PFyQCaOQveK7"
      },
      "execution_count": null,
      "outputs": []
    },
    {
      "cell_type": "code",
      "source": [
        "test_dataset = CustomMultiLabelDataset(test_image_file_paths, test_multi_hot_labels, transform=transform)"
      ],
      "metadata": {
        "id": "BculxAgbwCed"
      },
      "execution_count": null,
      "outputs": []
    },
    {
      "cell_type": "code",
      "source": [
        "len(test_dataset)"
      ],
      "metadata": {
        "id": "dRs9JPiR1L6p",
        "colab": {
          "base_uri": "https://localhost:8080/"
        },
        "outputId": "4541f2e0-396f-4a6e-826e-64bfea59b471"
      },
      "execution_count": null,
      "outputs": [
        {
          "output_type": "execute_result",
          "data": {
            "text/plain": [
              "7799"
            ]
          },
          "metadata": {},
          "execution_count": 31
        }
      ]
    },
    {
      "cell_type": "markdown",
      "source": [
        "# Training"
      ],
      "metadata": {
        "id": "T73kFItave8m"
      }
    },
    {
      "cell_type": "code",
      "source": [
        "batch_size = 32\n",
        "train_loader = DataLoader(train_dataset, batch_size=batch_size, shuffle=True)\n",
        "test_loader = DataLoader(test_dataset, batch_size=batch_size, shuffle=False)"
      ],
      "metadata": {
        "id": "qmjc3h-Xb3pn"
      },
      "execution_count": null,
      "outputs": []
    },
    {
      "cell_type": "code",
      "source": [
        "import torch\n",
        "import torch.nn as nn\n",
        "import torch.optim as optim\n",
        "from torchvision import models\n",
        "import torch\n",
        "import torch.nn.functional as F\n",
        "import torch.optim as optim\n",
        "\n",
        "device = torch.device(\"cuda\" if torch.cuda.is_available() else \"cpu\")\n",
        "\n",
        "model = models.resnet101(pretrained=True)\n",
        "model.fc = nn.Linear(model.fc.in_features, len(valid_labels))\n",
        "model.to(device)\n",
        "\n",
        "\n",
        "# import os\n",
        "# save_dir = '/content/Model/Models-Train-22'\n",
        "# load_path = os.path.join(save_dir, '29_model.pth')\n",
        "\n",
        "# model = models.resnet101(pretrained=False)\n",
        "# model.fc = nn.Linear(model.fc.in_features, len(valid_labels))\n",
        "# model.load_state_dict(torch.load(load_path))\n",
        "\n",
        "# model.to(device)"
      ],
      "metadata": {
        "id": "nzkSDHpbcBvG"
      },
      "execution_count": null,
      "outputs": []
    },
    {
      "cell_type": "code",
      "source": [
        "# Define loss function and optimizer\n",
        "criterion = nn.BCEWithLogitsLoss()  # Binary Cross-Entropy Loss\n",
        "\n",
        "optimizer = optim.Adam(model.parameters(), lr=0.001)\n",
        "# optimizer = optim.SGD(model.parameters(), lr=0.001, momentum=0.9, weight_decay=0.0001)\n",
        "num_epochs = 30"
      ],
      "metadata": {
        "id": "W3xyf2mIcUp6"
      },
      "execution_count": null,
      "outputs": []
    },
    {
      "cell_type": "code",
      "source": [
        "from sklearn.metrics import accuracy_score, precision_score, recall_score, f1_score, classification_report\n",
        "import numpy as np\n",
        "\n",
        "for epoch in range(num_epochs):\n",
        "    model.train()\n",
        "    running_loss = 0.0\n",
        "\n",
        "    for inputs, labels in train_loader:\n",
        "        inputs, labels = inputs.to(device), labels.to(device)\n",
        "\n",
        "        optimizer.zero_grad()\n",
        "\n",
        "        outputs = model(inputs)\n",
        "        loss = criterion(outputs, labels.float())\n",
        "        loss.backward()\n",
        "        optimizer.step()\n",
        "\n",
        "        running_loss += loss.item()\n",
        "\n",
        "    print(f\"Epoch {epoch + 1}/{num_epochs}, Loss: {running_loss / len(train_loader)}\")\n",
        "\n",
        "    # if epoch > 10:\n",
        "    save_dir = \"/content/Model/Models-Train-22/\"\n",
        "    os.makedirs(save_dir, exist_ok=True)  # Create the directory if it doesn't exist\n",
        "    model_name = str(epoch+1) + \"_model.pth\"\n",
        "    save_path = os.path.join(save_dir, model_name)  # Specify the complete path to the model file\n",
        "    torch.save(model.state_dict(), save_path)\n",
        "\n",
        "    model.eval()\n",
        "    predictions = []\n",
        "    true_labels = []\n",
        "\n",
        "    with torch.no_grad():\n",
        "        for inputs, labels in test_loader:\n",
        "            inputs, labels = inputs.to(device), labels.to(device)\n",
        "\n",
        "            outputs = model(inputs)\n",
        "\n",
        "            # predictions.extend((outputs > 0.5).int().cpu().numpy())\n",
        "            predictions.extend(F.sigmoid(outputs).cpu().numpy())\n",
        "            true_labels.extend(labels.int().cpu().numpy())\n",
        "\n",
        "    predictions = np.array(predictions)\n",
        "    threshold = 0.5\n",
        "    predictions = (predictions > threshold).astype(int)\n",
        "\n",
        "    accuracy = accuracy_score(true_labels, predictions)\n",
        "    precision = precision_score(true_labels, predictions, average='macro')\n",
        "    recall = recall_score(true_labels, predictions, average='macro')\n",
        "    f1 = f1_score(true_labels, predictions, average='macro')\n",
        "\n",
        "    print(f\"Accuracy: {accuracy}\")\n",
        "    print(f\"Precision: {precision}\")\n",
        "    print(f\"Recall: {recall}\")\n",
        "    print(f\"F1-Score: {f1}\")\n",
        "    print(classification_report(true_labels, predictions))"
      ],
      "metadata": {
        "id": "ZRds1BV-chaz",
        "colab": {
          "base_uri": "https://localhost:8080/"
        },
        "outputId": "93b9bea7-7e8e-49e4-dabc-9f6373303c2c"
      },
      "execution_count": null,
      "outputs": [
        {
          "output_type": "stream",
          "name": "stdout",
          "text": [
            "Epoch 1/30, Loss: 0.2696590148045366\n"
          ]
        },
        {
          "output_type": "stream",
          "name": "stderr",
          "text": [
            "/usr/local/lib/python3.10/dist-packages/sklearn/metrics/_classification.py:1344: UndefinedMetricWarning: Precision is ill-defined and being set to 0.0 in labels with no predicted samples. Use `zero_division` parameter to control this behavior.\n",
            "  _warn_prf(average, modifier, msg_start, len(result))\n",
            "/usr/local/lib/python3.10/dist-packages/sklearn/metrics/_classification.py:1344: UndefinedMetricWarning: Precision and F-score are ill-defined and being set to 0.0 in labels with no predicted samples. Use `zero_division` parameter to control this behavior.\n",
            "  _warn_prf(average, modifier, msg_start, len(result))\n",
            "/usr/local/lib/python3.10/dist-packages/sklearn/metrics/_classification.py:1344: UndefinedMetricWarning: Precision and F-score are ill-defined and being set to 0.0 in samples with no predicted labels. Use `zero_division` parameter to control this behavior.\n",
            "  _warn_prf(average, modifier, msg_start, len(result))\n"
          ]
        },
        {
          "output_type": "stream",
          "name": "stdout",
          "text": [
            "Accuracy: 0.10616745736632902\n",
            "Precision: 0.32515512713312356\n",
            "Recall: 0.07836155231063102\n",
            "F1-Score: 0.09866944323769856\n",
            "              precision    recall  f1-score   support\n",
            "\n",
            "           0       0.00      0.00      0.00      1044\n",
            "           1       0.54      0.07      0.12       821\n",
            "           2       0.71      0.03      0.06       306\n",
            "           3       0.00      0.00      0.00       411\n",
            "           4       0.69      0.21      0.32      2611\n",
            "           5       0.75      0.19      0.30      1163\n",
            "           6       0.00      0.00      0.00       629\n",
            "           7       0.62      0.87      0.72      4142\n",
            "           8       0.81      0.03      0.06       518\n",
            "           9       0.55      0.02      0.04       585\n",
            "          10       0.33      0.01      0.02       102\n",
            "          11       0.00      0.00      0.00       345\n",
            "          12       0.61      0.13      0.22       825\n",
            "          13       0.00      0.00      0.00       311\n",
            "          14       0.00      0.00      0.00       253\n",
            "          15       0.00      0.00      0.00       617\n",
            "          16       0.57      0.02      0.03      1590\n",
            "          17       0.55      0.16      0.24       586\n",
            "          18       0.00      0.00      0.00       142\n",
            "          19       0.00      0.00      0.00       191\n",
            "          20       0.75      0.07      0.12      1567\n",
            "          21       0.00      0.00      0.00       401\n",
            "          22       0.00      0.00      0.00       210\n",
            "\n",
            "   micro avg       0.63      0.25      0.36     19370\n",
            "   macro avg       0.33      0.08      0.10     19370\n",
            "weighted avg       0.50      0.25      0.25     19370\n",
            " samples avg       0.52      0.30      0.35     19370\n",
            "\n",
            "Epoch 2/30, Loss: 0.23108488780194678\n"
          ]
        },
        {
          "output_type": "stream",
          "name": "stderr",
          "text": [
            "/usr/local/lib/python3.10/dist-packages/sklearn/metrics/_classification.py:1344: UndefinedMetricWarning: Precision is ill-defined and being set to 0.0 in labels with no predicted samples. Use `zero_division` parameter to control this behavior.\n",
            "  _warn_prf(average, modifier, msg_start, len(result))\n",
            "/usr/local/lib/python3.10/dist-packages/sklearn/metrics/_classification.py:1344: UndefinedMetricWarning: Precision and F-score are ill-defined and being set to 0.0 in labels with no predicted samples. Use `zero_division` parameter to control this behavior.\n",
            "  _warn_prf(average, modifier, msg_start, len(result))\n",
            "/usr/local/lib/python3.10/dist-packages/sklearn/metrics/_classification.py:1344: UndefinedMetricWarning: Precision and F-score are ill-defined and being set to 0.0 in samples with no predicted labels. Use `zero_division` parameter to control this behavior.\n",
            "  _warn_prf(average, modifier, msg_start, len(result))\n"
          ]
        },
        {
          "output_type": "stream",
          "name": "stdout",
          "text": [
            "Accuracy: 0.13014489037056032\n",
            "Precision: 0.46885285576660357\n",
            "Recall: 0.18468073959245035\n",
            "F1-Score: 0.23413235151431205\n",
            "              precision    recall  f1-score   support\n",
            "\n",
            "           0       0.68      0.12      0.20      1044\n",
            "           1       0.68      0.11      0.18       821\n",
            "           2       0.67      0.22      0.33       306\n",
            "           3       0.00      0.00      0.00       411\n",
            "           4       0.65      0.51      0.57      2611\n",
            "           5       0.74      0.35      0.47      1163\n",
            "           6       0.45      0.72      0.55       629\n",
            "           7       0.71      0.65      0.68      4142\n",
            "           8       0.80      0.18      0.30       518\n",
            "           9       0.57      0.06      0.12       585\n",
            "          10       0.00      0.00      0.00       102\n",
            "          11       0.40      0.01      0.02       345\n",
            "          12       0.80      0.35      0.48       825\n",
            "          13       0.27      0.01      0.02       311\n",
            "          14       0.33      0.01      0.02       253\n",
            "          15       0.43      0.06      0.11       617\n",
            "          16       0.52      0.18      0.26      1590\n",
            "          17       0.71      0.23      0.35       586\n",
            "          18       0.00      0.00      0.00       142\n",
            "          19       0.00      0.00      0.00       191\n",
            "          20       0.66      0.28      0.39      1567\n",
            "          21       0.72      0.21      0.33       401\n",
            "          22       0.00      0.00      0.00       210\n",
            "\n",
            "   micro avg       0.66      0.34      0.45     19370\n",
            "   macro avg       0.47      0.18      0.23     19370\n",
            "weighted avg       0.61      0.34      0.40     19370\n",
            " samples avg       0.57      0.40      0.43     19370\n",
            "\n",
            "Epoch 3/30, Loss: 0.211546398157609\n"
          ]
        },
        {
          "output_type": "stream",
          "name": "stderr",
          "text": [
            "/usr/local/lib/python3.10/dist-packages/sklearn/metrics/_classification.py:1344: UndefinedMetricWarning: Precision is ill-defined and being set to 0.0 in labels with no predicted samples. Use `zero_division` parameter to control this behavior.\n",
            "  _warn_prf(average, modifier, msg_start, len(result))\n",
            "/usr/local/lib/python3.10/dist-packages/sklearn/metrics/_classification.py:1344: UndefinedMetricWarning: Precision and F-score are ill-defined and being set to 0.0 in labels with no predicted samples. Use `zero_division` parameter to control this behavior.\n",
            "  _warn_prf(average, modifier, msg_start, len(result))\n",
            "/usr/local/lib/python3.10/dist-packages/sklearn/metrics/_classification.py:1344: UndefinedMetricWarning: Precision and F-score are ill-defined and being set to 0.0 in samples with no predicted labels. Use `zero_division` parameter to control this behavior.\n",
            "  _warn_prf(average, modifier, msg_start, len(result))\n"
          ]
        },
        {
          "output_type": "stream",
          "name": "stdout",
          "text": [
            "Accuracy: 0.14924990383382486\n",
            "Precision: 0.5593705967277373\n",
            "Recall: 0.2645185236664183\n",
            "F1-Score: 0.3309949146074602\n",
            "              precision    recall  f1-score   support\n",
            "\n",
            "           0       0.65      0.26      0.38      1044\n",
            "           1       0.68      0.21      0.32       821\n",
            "           2       0.73      0.19      0.30       306\n",
            "           3       0.00      0.00      0.00       411\n",
            "           4       0.60      0.69      0.64      2611\n",
            "           5       0.72      0.40      0.52      1163\n",
            "           6       0.76      0.62      0.68       629\n",
            "           7       0.72      0.74      0.73      4142\n",
            "           8       0.66      0.29      0.40       518\n",
            "           9       0.80      0.10      0.18       585\n",
            "          10       0.00      0.00      0.00       102\n",
            "          11       0.41      0.03      0.05       345\n",
            "          12       0.81      0.40      0.53       825\n",
            "          13       0.56      0.42      0.48       311\n",
            "          14       0.33      0.06      0.09       253\n",
            "          15       0.66      0.07      0.13       617\n",
            "          16       0.57      0.33      0.42      1590\n",
            "          17       0.90      0.21      0.34       586\n",
            "          18       0.00      0.00      0.00       142\n",
            "          19       0.23      0.02      0.03       191\n",
            "          20       0.65      0.31      0.42      1567\n",
            "          21       0.78      0.41      0.54       401\n",
            "          22       0.64      0.32      0.43       210\n",
            "\n",
            "   micro avg       0.67      0.43      0.52     19370\n",
            "   macro avg       0.56      0.26      0.33     19370\n",
            "weighted avg       0.65      0.43      0.48     19370\n",
            " samples avg       0.65      0.49      0.52     19370\n",
            "\n",
            "Epoch 4/30, Loss: 0.19999776521010326\n",
            "Accuracy: 0.16309783305551995\n",
            "Precision: 0.6147410452260992\n",
            "Recall: 0.3296299405630733\n",
            "F1-Score: 0.40199264040494004\n",
            "              precision    recall  f1-score   support\n",
            "\n",
            "           0       0.71      0.31      0.43      1044\n",
            "           1       0.57      0.42      0.48       821\n",
            "           2       0.61      0.28      0.39       306\n",
            "           3       0.62      0.04      0.07       411\n",
            "           4       0.75      0.40      0.52      2611\n",
            "           5       0.77      0.34      0.47      1163\n",
            "           6       0.72      0.72      0.72       629\n",
            "           7       0.71      0.79      0.75      4142\n",
            "           8       0.73      0.34      0.46       518\n",
            "           9       0.66      0.22      0.33       585\n",
            "          10       0.50      0.03      0.06       102\n",
            "          11       0.42      0.05      0.09       345\n",
            "          12       0.70      0.57      0.63       825\n",
            "          13       0.53      0.42      0.47       311\n",
            "          14       0.30      0.06      0.09       253\n",
            "          15       0.51      0.15      0.23       617\n",
            "          16       0.59      0.36      0.45      1590\n",
            "          17       0.75      0.46      0.57       586\n",
            "          18       0.20      0.01      0.01       142\n",
            "          19       0.59      0.42      0.49       191\n",
            "          20       0.69      0.34      0.45      1567\n",
            "          21       0.81      0.34      0.48       401\n",
            "          22       0.69      0.54      0.60       210\n",
            "\n",
            "   micro avg       0.69      0.45      0.54     19370\n",
            "   macro avg       0.61      0.33      0.40     19370\n",
            "weighted avg       0.67      0.45      0.51     19370\n",
            " samples avg       0.67      0.51      0.54     19370\n",
            "\n"
          ]
        },
        {
          "output_type": "stream",
          "name": "stderr",
          "text": [
            "/usr/local/lib/python3.10/dist-packages/sklearn/metrics/_classification.py:1344: UndefinedMetricWarning: Precision and F-score are ill-defined and being set to 0.0 in samples with no predicted labels. Use `zero_division` parameter to control this behavior.\n",
            "  _warn_prf(average, modifier, msg_start, len(result))\n"
          ]
        },
        {
          "output_type": "stream",
          "name": "stdout",
          "text": [
            "Epoch 5/30, Loss: 0.19079581747248012\n",
            "Accuracy: 0.1648929349916656\n",
            "Precision: 0.651488061846478\n",
            "Recall: 0.31879446252578214\n",
            "F1-Score: 0.39106135108148576\n",
            "              precision    recall  f1-score   support\n",
            "\n",
            "           0       0.62      0.48      0.54      1044\n",
            "           1       0.62      0.35      0.45       821\n",
            "           2       0.73      0.26      0.38       306\n",
            "           3       0.57      0.01      0.02       411\n",
            "           4       0.78      0.37      0.51      2611\n",
            "           5       0.77      0.34      0.47      1163\n",
            "           6       0.68      0.73      0.71       629\n",
            "           7       0.73      0.75      0.74      4142\n",
            "           8       0.77      0.28      0.41       518\n",
            "           9       0.59      0.23      0.33       585\n",
            "          10       0.40      0.02      0.04       102\n",
            "          11       0.58      0.07      0.13       345\n",
            "          12       0.70      0.57      0.63       825\n",
            "          13       0.64      0.33      0.43       311\n",
            "          14       0.39      0.06      0.10       253\n",
            "          15       0.65      0.05      0.10       617\n",
            "          16       0.73      0.15      0.25      1590\n",
            "          17       0.69      0.54      0.60       586\n",
            "          18       0.41      0.05      0.09       142\n",
            "          19       0.67      0.31      0.42       191\n",
            "          20       0.62      0.52      0.57      1567\n",
            "          21       0.71      0.57      0.63       401\n",
            "          22       0.93      0.30      0.46       210\n",
            "\n",
            "   micro avg       0.70      0.44      0.54     19370\n",
            "   macro avg       0.65      0.32      0.39     19370\n",
            "weighted avg       0.70      0.44      0.50     19370\n",
            " samples avg       0.68      0.49      0.53     19370\n",
            "\n"
          ]
        },
        {
          "output_type": "stream",
          "name": "stderr",
          "text": [
            "/usr/local/lib/python3.10/dist-packages/sklearn/metrics/_classification.py:1344: UndefinedMetricWarning: Precision and F-score are ill-defined and being set to 0.0 in samples with no predicted labels. Use `zero_division` parameter to control this behavior.\n",
            "  _warn_prf(average, modifier, msg_start, len(result))\n"
          ]
        },
        {
          "output_type": "stream",
          "name": "stdout",
          "text": [
            "Epoch 6/30, Loss: 0.1836215952929973\n",
            "Accuracy: 0.16450827029106296\n",
            "Precision: 0.6011136926184154\n",
            "Recall: 0.39002385806076545\n",
            "F1-Score: 0.44573611072704367\n",
            "              precision    recall  f1-score   support\n",
            "\n",
            "           0       0.60      0.48      0.53      1044\n",
            "           1       0.53      0.46      0.49       821\n",
            "           2       0.67      0.27      0.39       306\n",
            "           3       0.58      0.04      0.07       411\n",
            "           4       0.75      0.46      0.57      2611\n",
            "           5       0.69      0.48      0.57      1163\n",
            "           6       0.81      0.52      0.64       629\n",
            "           7       0.70      0.80      0.75      4142\n",
            "           8       0.72      0.36      0.48       518\n",
            "           9       0.54      0.30      0.39       585\n",
            "          10       0.23      0.19      0.21       102\n",
            "          11       0.55      0.13      0.21       345\n",
            "          12       0.76      0.49      0.60       825\n",
            "          13       0.61      0.44      0.51       311\n",
            "          14       0.42      0.13      0.19       253\n",
            "          15       0.57      0.19      0.28       617\n",
            "          16       0.57      0.42      0.49      1590\n",
            "          17       0.73      0.49      0.58       586\n",
            "          18       0.43      0.04      0.08       142\n",
            "          19       0.63      0.44      0.52       191\n",
            "          20       0.69      0.39      0.50      1567\n",
            "          21       0.59      0.66      0.62       401\n",
            "          22       0.47      0.78      0.59       210\n",
            "\n",
            "   micro avg       0.66      0.50      0.57     19370\n",
            "   macro avg       0.60      0.39      0.45     19370\n",
            "weighted avg       0.66      0.50      0.55     19370\n",
            " samples avg       0.66      0.55      0.56     19370\n",
            "\n"
          ]
        },
        {
          "output_type": "stream",
          "name": "stderr",
          "text": [
            "/usr/local/lib/python3.10/dist-packages/sklearn/metrics/_classification.py:1344: UndefinedMetricWarning: Precision and F-score are ill-defined and being set to 0.0 in samples with no predicted labels. Use `zero_division` parameter to control this behavior.\n",
            "  _warn_prf(average, modifier, msg_start, len(result))\n"
          ]
        },
        {
          "output_type": "stream",
          "name": "stdout",
          "text": [
            "Epoch 7/30, Loss: 0.17509903492015086\n",
            "Accuracy: 0.16399538402359276\n",
            "Precision: 0.6518228403029983\n",
            "Recall: 0.37341028597775155\n",
            "F1-Score: 0.43941324814715604\n",
            "              precision    recall  f1-score   support\n",
            "\n",
            "           0       0.80      0.21      0.34      1044\n",
            "           1       0.72      0.22      0.34       821\n",
            "           2       0.78      0.27      0.40       306\n",
            "           3       0.48      0.05      0.10       411\n",
            "           4       0.74      0.50      0.59      2611\n",
            "           5       0.72      0.44      0.54      1163\n",
            "           6       0.71      0.73      0.72       629\n",
            "           7       0.67      0.88      0.76      4142\n",
            "           8       0.67      0.37      0.48       518\n",
            "           9       0.70      0.19      0.30       585\n",
            "          10       0.25      0.13      0.17       102\n",
            "          11       0.38      0.23      0.28       345\n",
            "          12       0.77      0.50      0.61       825\n",
            "          13       0.61      0.38      0.47       311\n",
            "          14       0.50      0.11      0.18       253\n",
            "          15       0.48      0.33      0.39       617\n",
            "          16       0.55      0.43      0.48      1590\n",
            "          17       0.83      0.44      0.57       586\n",
            "          18       1.00      0.01      0.01       142\n",
            "          19       0.61      0.58      0.60       191\n",
            "          20       0.67      0.44      0.53      1567\n",
            "          21       0.66      0.58      0.62       401\n",
            "          22       0.70      0.59      0.64       210\n",
            "\n",
            "   micro avg       0.67      0.50      0.57     19370\n",
            "   macro avg       0.65      0.37      0.44     19370\n",
            "weighted avg       0.68      0.50      0.54     19370\n",
            " samples avg       0.68      0.56      0.57     19370\n",
            "\n"
          ]
        },
        {
          "output_type": "stream",
          "name": "stderr",
          "text": [
            "/usr/local/lib/python3.10/dist-packages/sklearn/metrics/_classification.py:1344: UndefinedMetricWarning: Precision and F-score are ill-defined and being set to 0.0 in samples with no predicted labels. Use `zero_division` parameter to control this behavior.\n",
            "  _warn_prf(average, modifier, msg_start, len(result))\n"
          ]
        },
        {
          "output_type": "stream",
          "name": "stdout",
          "text": [
            "Epoch 8/30, Loss: 0.16574056324931002\n",
            "Accuracy: 0.1697653545326324\n",
            "Precision: 0.6322457774308268\n",
            "Recall: 0.34767349651091134\n",
            "F1-Score: 0.4160859969763641\n",
            "              precision    recall  f1-score   support\n",
            "\n",
            "           0       0.66      0.31      0.42      1044\n",
            "           1       0.73      0.21      0.33       821\n",
            "           2       0.78      0.20      0.32       306\n",
            "           3       0.45      0.08      0.14       411\n",
            "           4       0.77      0.43      0.55      2611\n",
            "           5       0.70      0.44      0.54      1163\n",
            "           6       0.72      0.72      0.72       629\n",
            "           7       0.71      0.80      0.75      4142\n",
            "           8       0.78      0.25      0.37       518\n",
            "           9       0.65      0.23      0.34       585\n",
            "          10       0.26      0.13      0.17       102\n",
            "          11       0.42      0.12      0.19       345\n",
            "          12       0.63      0.69      0.66       825\n",
            "          13       0.68      0.22      0.33       311\n",
            "          14       0.50      0.04      0.07       253\n",
            "          15       0.49      0.26      0.34       617\n",
            "          16       0.64      0.31      0.42      1590\n",
            "          17       0.72      0.50      0.59       586\n",
            "          18       0.43      0.07      0.12       142\n",
            "          19       0.71      0.45      0.55       191\n",
            "          20       0.57      0.63      0.60      1567\n",
            "          21       0.60      0.63      0.62       401\n",
            "          22       0.92      0.29      0.44       210\n",
            "\n",
            "   micro avg       0.68      0.48      0.56     19370\n",
            "   macro avg       0.63      0.35      0.42     19370\n",
            "weighted avg       0.67      0.48      0.53     19370\n",
            " samples avg       0.68      0.54      0.56     19370\n",
            "\n"
          ]
        },
        {
          "output_type": "stream",
          "name": "stderr",
          "text": [
            "/usr/local/lib/python3.10/dist-packages/sklearn/metrics/_classification.py:1344: UndefinedMetricWarning: Precision and F-score are ill-defined and being set to 0.0 in samples with no predicted labels. Use `zero_division` parameter to control this behavior.\n",
            "  _warn_prf(average, modifier, msg_start, len(result))\n"
          ]
        },
        {
          "output_type": "stream",
          "name": "stdout",
          "text": [
            "Epoch 9/30, Loss: 0.15395670835904787\n",
            "Accuracy: 0.15489165277599692\n",
            "Precision: 0.5855741441572928\n",
            "Recall: 0.4018365383987195\n",
            "F1-Score: 0.45601921232817566\n",
            "              precision    recall  f1-score   support\n",
            "\n",
            "           0       0.65      0.45      0.54      1044\n",
            "           1       0.54      0.41      0.47       821\n",
            "           2       0.58      0.41      0.48       306\n",
            "           3       0.42      0.08      0.14       411\n",
            "           4       0.61      0.72      0.66      2611\n",
            "           5       0.66      0.48      0.56      1163\n",
            "           6       0.67      0.73      0.70       629\n",
            "           7       0.80      0.58      0.67      4142\n",
            "           8       0.60      0.41      0.48       518\n",
            "           9       0.57      0.25      0.35       585\n",
            "          10       0.27      0.16      0.20       102\n",
            "          11       0.48      0.09      0.15       345\n",
            "          12       0.70      0.60      0.64       825\n",
            "          13       0.66      0.42      0.51       311\n",
            "          14       0.37      0.09      0.15       253\n",
            "          15       0.43      0.30      0.35       617\n",
            "          16       0.55      0.44      0.49      1590\n",
            "          17       0.58      0.67      0.62       586\n",
            "          18       0.47      0.06      0.11       142\n",
            "          19       0.64      0.45      0.52       191\n",
            "          20       0.59      0.59      0.59      1567\n",
            "          21       0.83      0.32      0.46       401\n",
            "          22       0.80      0.52      0.63       210\n",
            "\n",
            "   micro avg       0.64      0.51      0.57     19370\n",
            "   macro avg       0.59      0.40      0.46     19370\n",
            "weighted avg       0.64      0.51      0.55     19370\n",
            " samples avg       0.65      0.56      0.56     19370\n",
            "\n"
          ]
        },
        {
          "output_type": "stream",
          "name": "stderr",
          "text": [
            "/usr/local/lib/python3.10/dist-packages/sklearn/metrics/_classification.py:1344: UndefinedMetricWarning: Precision and F-score are ill-defined and being set to 0.0 in samples with no predicted labels. Use `zero_division` parameter to control this behavior.\n",
            "  _warn_prf(average, modifier, msg_start, len(result))\n"
          ]
        },
        {
          "output_type": "stream",
          "name": "stdout",
          "text": [
            "Epoch 10/30, Loss: 0.14070493951235452\n",
            "Accuracy: 0.1586100782151558\n",
            "Precision: 0.5795854769071981\n",
            "Recall: 0.40711640379516306\n",
            "F1-Score: 0.4639044214146604\n",
            "              precision    recall  f1-score   support\n",
            "\n",
            "           0       0.59      0.50      0.54      1044\n",
            "           1       0.60      0.40      0.48       821\n",
            "           2       0.60      0.42      0.50       306\n",
            "           3       0.38      0.17      0.24       411\n",
            "           4       0.69      0.56      0.62      2611\n",
            "           5       0.66      0.47      0.55      1163\n",
            "           6       0.70      0.69      0.70       629\n",
            "           7       0.71      0.79      0.75      4142\n",
            "           8       0.57      0.44      0.50       518\n",
            "           9       0.51      0.34      0.41       585\n",
            "          10       0.50      0.06      0.11       102\n",
            "          11       0.44      0.22      0.29       345\n",
            "          12       0.73      0.56      0.64       825\n",
            "          13       0.44      0.58      0.50       311\n",
            "          14       0.44      0.19      0.27       253\n",
            "          15       0.47      0.20      0.28       617\n",
            "          16       0.55      0.37      0.44      1590\n",
            "          17       0.75      0.42      0.54       586\n",
            "          18       0.29      0.07      0.11       142\n",
            "          19       0.60      0.49      0.54       191\n",
            "          20       0.65      0.44      0.52      1567\n",
            "          21       0.74      0.39      0.51       401\n",
            "          22       0.72      0.57      0.64       210\n",
            "\n",
            "   micro avg       0.65      0.52      0.57     19370\n",
            "   macro avg       0.58      0.41      0.46     19370\n",
            "weighted avg       0.63      0.52      0.56     19370\n",
            " samples avg       0.67      0.57      0.57     19370\n",
            "\n"
          ]
        },
        {
          "output_type": "stream",
          "name": "stderr",
          "text": [
            "/usr/local/lib/python3.10/dist-packages/sklearn/metrics/_classification.py:1344: UndefinedMetricWarning: Precision and F-score are ill-defined and being set to 0.0 in samples with no predicted labels. Use `zero_division` parameter to control this behavior.\n",
            "  _warn_prf(average, modifier, msg_start, len(result))\n"
          ]
        },
        {
          "output_type": "stream",
          "name": "stdout",
          "text": [
            "Epoch 11/30, Loss: 0.1257710104504158\n",
            "Accuracy: 0.14527503526093088\n",
            "Precision: 0.5867127541823196\n",
            "Recall: 0.3874475938192891\n",
            "F1-Score: 0.4446669438735409\n",
            "              precision    recall  f1-score   support\n",
            "\n",
            "           0       0.70      0.30      0.42      1044\n",
            "           1       0.76      0.20      0.31       821\n",
            "           2       0.74      0.35      0.47       306\n",
            "           3       0.33      0.17      0.23       411\n",
            "           4       0.61      0.67      0.64      2611\n",
            "           5       0.62      0.50      0.55      1163\n",
            "           6       0.68      0.74      0.71       629\n",
            "           7       0.68      0.83      0.75      4142\n",
            "           8       0.60      0.35      0.44       518\n",
            "           9       0.52      0.32      0.39       585\n",
            "          10       0.33      0.11      0.16       102\n",
            "          11       0.39      0.18      0.25       345\n",
            "          12       0.80      0.39      0.53       825\n",
            "          13       0.49      0.49      0.49       311\n",
            "          14       0.43      0.16      0.24       253\n",
            "          15       0.50      0.22      0.31       617\n",
            "          16       0.47      0.51      0.49      1590\n",
            "          17       0.80      0.41      0.54       586\n",
            "          18       0.46      0.08      0.13       142\n",
            "          19       0.56      0.51      0.53       191\n",
            "          20       0.67      0.32      0.44      1567\n",
            "          21       0.62      0.58      0.60       401\n",
            "          22       0.74      0.51      0.61       210\n",
            "\n",
            "   micro avg       0.62      0.52      0.56     19370\n",
            "   macro avg       0.59      0.39      0.44     19370\n",
            "weighted avg       0.63      0.52      0.54     19370\n",
            " samples avg       0.64      0.58      0.56     19370\n",
            "\n"
          ]
        },
        {
          "output_type": "stream",
          "name": "stderr",
          "text": [
            "/usr/local/lib/python3.10/dist-packages/sklearn/metrics/_classification.py:1344: UndefinedMetricWarning: Precision and F-score are ill-defined and being set to 0.0 in samples with no predicted labels. Use `zero_division` parameter to control this behavior.\n",
            "  _warn_prf(average, modifier, msg_start, len(result))\n"
          ]
        },
        {
          "output_type": "stream",
          "name": "stdout",
          "text": [
            "Epoch 12/30, Loss: 0.10965940904061326\n",
            "Accuracy: 0.1368124118476728\n",
            "Precision: 0.5977710293561398\n",
            "Recall: 0.3888809318936983\n",
            "F1-Score: 0.44441440083607753\n",
            "              precision    recall  f1-score   support\n",
            "\n",
            "           0       0.64      0.40      0.49      1044\n",
            "           1       0.66      0.29      0.40       821\n",
            "           2       0.78      0.25      0.38       306\n",
            "           3       0.33      0.21      0.26       411\n",
            "           4       0.67      0.55      0.60      2611\n",
            "           5       0.50      0.62      0.56      1163\n",
            "           6       0.82      0.55      0.66       629\n",
            "           7       0.64      0.90      0.75      4142\n",
            "           8       0.68      0.36      0.47       518\n",
            "           9       0.58      0.26      0.36       585\n",
            "          10       0.26      0.21      0.23       102\n",
            "          11       0.42      0.20      0.27       345\n",
            "          12       0.82      0.36      0.50       825\n",
            "          13       0.56      0.47      0.51       311\n",
            "          14       0.47      0.09      0.15       253\n",
            "          15       0.41      0.30      0.34       617\n",
            "          16       0.54      0.25      0.34      1590\n",
            "          17       0.81      0.41      0.55       586\n",
            "          18       0.75      0.04      0.08       142\n",
            "          19       0.58      0.49      0.53       191\n",
            "          20       0.57      0.53      0.55      1567\n",
            "          21       0.65      0.55      0.60       401\n",
            "          22       0.63      0.65      0.64       210\n",
            "\n",
            "   micro avg       0.61      0.52      0.56     19370\n",
            "   macro avg       0.60      0.39      0.44     19370\n",
            "weighted avg       0.62      0.52      0.54     19370\n",
            " samples avg       0.64      0.57      0.56     19370\n",
            "\n"
          ]
        },
        {
          "output_type": "stream",
          "name": "stderr",
          "text": [
            "/usr/local/lib/python3.10/dist-packages/sklearn/metrics/_classification.py:1344: UndefinedMetricWarning: Precision and F-score are ill-defined and being set to 0.0 in samples with no predicted labels. Use `zero_division` parameter to control this behavior.\n",
            "  _warn_prf(average, modifier, msg_start, len(result))\n"
          ]
        },
        {
          "output_type": "stream",
          "name": "stdout",
          "text": [
            "Epoch 13/30, Loss: 0.09396818730423152\n",
            "Accuracy: 0.1352737530452622\n",
            "Precision: 0.5450495845545368\n",
            "Recall: 0.4120836382671163\n",
            "F1-Score: 0.4560820614011464\n",
            "              precision    recall  f1-score   support\n",
            "\n",
            "           0       0.57      0.56      0.56      1044\n",
            "           1       0.53      0.38      0.44       821\n",
            "           2       0.61      0.36      0.45       306\n",
            "           3       0.34      0.23      0.27       411\n",
            "           4       0.76      0.33      0.46      2611\n",
            "           5       0.54      0.62      0.58      1163\n",
            "           6       0.74      0.62      0.68       629\n",
            "           7       0.68      0.82      0.74      4142\n",
            "           8       0.60      0.36      0.45       518\n",
            "           9       0.65      0.15      0.24       585\n",
            "          10       0.25      0.19      0.21       102\n",
            "          11       0.36      0.23      0.28       345\n",
            "          12       0.68      0.58      0.62       825\n",
            "          13       0.59      0.42      0.49       311\n",
            "          14       0.33      0.21      0.26       253\n",
            "          15       0.40      0.28      0.33       617\n",
            "          16       0.51      0.36      0.43      1590\n",
            "          17       0.64      0.57      0.60       586\n",
            "          18       0.23      0.15      0.18       142\n",
            "          19       0.66      0.32      0.43       191\n",
            "          20       0.50      0.67      0.57      1567\n",
            "          21       0.66      0.52      0.58       401\n",
            "          22       0.69      0.57      0.63       210\n",
            "\n",
            "   micro avg       0.60      0.52      0.56     19370\n",
            "   macro avg       0.55      0.41      0.46     19370\n",
            "weighted avg       0.60      0.52      0.54     19370\n",
            " samples avg       0.62      0.56      0.55     19370\n",
            "\n"
          ]
        },
        {
          "output_type": "stream",
          "name": "stderr",
          "text": [
            "/usr/local/lib/python3.10/dist-packages/sklearn/metrics/_classification.py:1344: UndefinedMetricWarning: Precision and F-score are ill-defined and being set to 0.0 in samples with no predicted labels. Use `zero_division` parameter to control this behavior.\n",
            "  _warn_prf(average, modifier, msg_start, len(result))\n"
          ]
        },
        {
          "output_type": "stream",
          "name": "stdout",
          "text": [
            "Epoch 14/30, Loss: 0.07846903985440322\n",
            "Accuracy: 0.13424798051032183\n",
            "Precision: 0.5403297516443396\n",
            "Recall: 0.4062662113654791\n",
            "F1-Score: 0.4282245691741002\n",
            "              precision    recall  f1-score   support\n",
            "\n",
            "           0       0.53      0.58      0.55      1044\n",
            "           1       0.44      0.47      0.45       821\n",
            "           2       0.40      0.48      0.44       306\n",
            "           3       0.47      0.11      0.17       411\n",
            "           4       0.67      0.55      0.60      2611\n",
            "           5       0.53      0.63      0.58      1163\n",
            "           6       0.54      0.82      0.65       629\n",
            "           7       0.74      0.62      0.68      4142\n",
            "           8       0.48      0.45      0.46       518\n",
            "           9       0.49      0.25      0.33       585\n",
            "          10       0.47      0.07      0.12       102\n",
            "          11       0.43      0.21      0.28       345\n",
            "          12       0.62      0.65      0.63       825\n",
            "          13       0.65      0.24      0.36       311\n",
            "          14       0.60      0.04      0.07       253\n",
            "          15       0.39      0.28      0.33       617\n",
            "          16       0.64      0.14      0.24      1590\n",
            "          17       0.56      0.63      0.60       586\n",
            "          18       0.13      0.29      0.18       142\n",
            "          19       0.71      0.35      0.46       191\n",
            "          20       0.54      0.54      0.54      1567\n",
            "          21       0.66      0.50      0.57       401\n",
            "          22       0.74      0.45      0.56       210\n",
            "\n",
            "   micro avg       0.59      0.49      0.54     19370\n",
            "   macro avg       0.54      0.41      0.43     19370\n",
            "weighted avg       0.60      0.49      0.52     19370\n",
            " samples avg       0.61      0.54      0.53     19370\n",
            "\n"
          ]
        },
        {
          "output_type": "stream",
          "name": "stderr",
          "text": [
            "/usr/local/lib/python3.10/dist-packages/sklearn/metrics/_classification.py:1344: UndefinedMetricWarning: Precision and F-score are ill-defined and being set to 0.0 in samples with no predicted labels. Use `zero_division` parameter to control this behavior.\n",
            "  _warn_prf(average, modifier, msg_start, len(result))\n"
          ]
        },
        {
          "output_type": "stream",
          "name": "stdout",
          "text": [
            "Epoch 15/30, Loss: 0.06660742145951515\n",
            "Accuracy: 0.1287344531350173\n",
            "Precision: 0.5488089338466718\n",
            "Recall: 0.4180561278828528\n",
            "F1-Score: 0.45803349761922657\n",
            "              precision    recall  f1-score   support\n",
            "\n",
            "           0       0.65      0.40      0.49      1044\n",
            "           1       0.59      0.32      0.42       821\n",
            "           2       0.69      0.23      0.34       306\n",
            "           3       0.33      0.23      0.27       411\n",
            "           4       0.60      0.68      0.64      2611\n",
            "           5       0.60      0.48      0.53      1163\n",
            "           6       0.69      0.70      0.70       629\n",
            "           7       0.70      0.75      0.73      4142\n",
            "           8       0.67      0.26      0.37       518\n",
            "           9       0.55      0.24      0.33       585\n",
            "          10       0.30      0.19      0.23       102\n",
            "          11       0.40      0.21      0.28       345\n",
            "          12       0.65      0.62      0.64       825\n",
            "          13       0.45      0.58      0.51       311\n",
            "          14       0.46      0.11      0.18       253\n",
            "          15       0.37      0.32      0.34       617\n",
            "          16       0.45      0.52      0.48      1590\n",
            "          17       0.69      0.50      0.58       586\n",
            "          18       0.32      0.14      0.20       142\n",
            "          19       0.60      0.41      0.49       191\n",
            "          20       0.56      0.50      0.53      1567\n",
            "          21       0.62      0.59      0.61       401\n",
            "          22       0.70      0.63      0.66       210\n",
            "\n",
            "   micro avg       0.60      0.54      0.57     19370\n",
            "   macro avg       0.55      0.42      0.46     19370\n",
            "weighted avg       0.59      0.54      0.55     19370\n",
            " samples avg       0.62      0.59      0.56     19370\n",
            "\n"
          ]
        },
        {
          "output_type": "stream",
          "name": "stderr",
          "text": [
            "/usr/local/lib/python3.10/dist-packages/sklearn/metrics/_classification.py:1344: UndefinedMetricWarning: Precision and F-score are ill-defined and being set to 0.0 in samples with no predicted labels. Use `zero_division` parameter to control this behavior.\n",
            "  _warn_prf(average, modifier, msg_start, len(result))\n"
          ]
        },
        {
          "output_type": "stream",
          "name": "stdout",
          "text": [
            "Epoch 16/30, Loss: 0.05583501709126887\n",
            "Accuracy: 0.12796512373381203\n",
            "Precision: 0.5259977766527919\n",
            "Recall: 0.42283096682903254\n",
            "F1-Score: 0.4534700932663675\n",
            "              precision    recall  f1-score   support\n",
            "\n",
            "           0       0.43      0.70      0.53      1044\n",
            "           1       0.39      0.58      0.47       821\n",
            "           2       0.49      0.44      0.46       306\n",
            "           3       0.35      0.19      0.25       411\n",
            "           4       0.65      0.58      0.61      2611\n",
            "           5       0.66      0.39      0.49      1163\n",
            "           6       0.68      0.66      0.67       629\n",
            "           7       0.73      0.69      0.71      4142\n",
            "           8       0.52      0.41      0.46       518\n",
            "           9       0.42      0.39      0.41       585\n",
            "          10       0.31      0.05      0.08       102\n",
            "          11       0.36      0.24      0.29       345\n",
            "          12       0.65      0.61      0.63       825\n",
            "          13       0.59      0.39      0.47       311\n",
            "          14       0.42      0.14      0.21       253\n",
            "          15       0.41      0.26      0.32       617\n",
            "          16       0.51      0.35      0.42      1590\n",
            "          17       0.58      0.59      0.59       586\n",
            "          18       0.31      0.09      0.14       142\n",
            "          19       0.69      0.37      0.48       191\n",
            "          20       0.57      0.47      0.52      1567\n",
            "          21       0.64      0.59      0.62       401\n",
            "          22       0.73      0.53      0.61       210\n",
            "\n",
            "   micro avg       0.58      0.52      0.55     19370\n",
            "   macro avg       0.53      0.42      0.45     19370\n",
            "weighted avg       0.59      0.52      0.54     19370\n",
            " samples avg       0.61      0.57      0.54     19370\n",
            "\n"
          ]
        },
        {
          "output_type": "stream",
          "name": "stderr",
          "text": [
            "/usr/local/lib/python3.10/dist-packages/sklearn/metrics/_classification.py:1344: UndefinedMetricWarning: Precision and F-score are ill-defined and being set to 0.0 in samples with no predicted labels. Use `zero_division` parameter to control this behavior.\n",
            "  _warn_prf(average, modifier, msg_start, len(result))\n"
          ]
        },
        {
          "output_type": "stream",
          "name": "stdout",
          "text": [
            "Epoch 17/30, Loss: 0.04746743250990846\n",
            "Accuracy: 0.1156558533145275\n",
            "Precision: 0.5197463745204941\n",
            "Recall: 0.41773416317867346\n",
            "F1-Score: 0.442707427478751\n",
            "              precision    recall  f1-score   support\n",
            "\n",
            "           0       0.65      0.33      0.43      1044\n",
            "           1       0.46      0.47      0.46       821\n",
            "           2       0.57      0.38      0.46       306\n",
            "           3       0.28      0.38      0.33       411\n",
            "           4       0.66      0.48      0.56      2611\n",
            "           5       0.61      0.48      0.53      1163\n",
            "           6       0.68      0.70      0.69       629\n",
            "           7       0.70      0.72      0.71      4142\n",
            "           8       0.37      0.56      0.44       518\n",
            "           9       0.31      0.54      0.39       585\n",
            "          10       0.33      0.05      0.09       102\n",
            "          11       0.40      0.22      0.28       345\n",
            "          12       0.66      0.50      0.57       825\n",
            "          13       0.43      0.56      0.49       311\n",
            "          14       0.22      0.31      0.26       253\n",
            "          15       0.50      0.19      0.27       617\n",
            "          16       0.45      0.48      0.47      1590\n",
            "          17       0.76      0.44      0.56       586\n",
            "          18       0.25      0.14      0.18       142\n",
            "          19       0.70      0.32      0.44       191\n",
            "          20       0.65      0.29      0.40      1567\n",
            "          21       0.66      0.47      0.55       401\n",
            "          22       0.62      0.60      0.61       210\n",
            "\n",
            "   micro avg       0.57      0.49      0.53     19370\n",
            "   macro avg       0.52      0.42      0.44     19370\n",
            "weighted avg       0.59      0.49      0.52     19370\n",
            " samples avg       0.58      0.54      0.52     19370\n",
            "\n"
          ]
        },
        {
          "output_type": "stream",
          "name": "stderr",
          "text": [
            "/usr/local/lib/python3.10/dist-packages/sklearn/metrics/_classification.py:1344: UndefinedMetricWarning: Precision and F-score are ill-defined and being set to 0.0 in samples with no predicted labels. Use `zero_division` parameter to control this behavior.\n",
            "  _warn_prf(average, modifier, msg_start, len(result))\n"
          ]
        },
        {
          "output_type": "stream",
          "name": "stdout",
          "text": [
            "Epoch 18/30, Loss: 0.04148901525606364\n",
            "Accuracy: 0.14078728042056673\n",
            "Precision: 0.5563570199884653\n",
            "Recall: 0.3981497947805374\n",
            "F1-Score: 0.45120768193594113\n",
            "              precision    recall  f1-score   support\n",
            "\n",
            "           0       0.53      0.57      0.55      1044\n",
            "           1       0.54      0.36      0.43       821\n",
            "           2       0.62      0.29      0.40       306\n",
            "           3       0.38      0.10      0.16       411\n",
            "           4       0.67      0.56      0.61      2611\n",
            "           5       0.55      0.54      0.54      1163\n",
            "           6       0.72      0.65      0.68       629\n",
            "           7       0.71      0.75      0.73      4142\n",
            "           8       0.46      0.48      0.47       518\n",
            "           9       0.45      0.35      0.40       585\n",
            "          10       0.28      0.13      0.18       102\n",
            "          11       0.46      0.16      0.24       345\n",
            "          12       0.69      0.52      0.60       825\n",
            "          13       0.57      0.39      0.46       311\n",
            "          14       0.35      0.15      0.21       253\n",
            "          15       0.41      0.29      0.34       617\n",
            "          16       0.53      0.28      0.37      1590\n",
            "          17       0.66      0.55      0.60       586\n",
            "          18       0.50      0.11      0.17       142\n",
            "          19       0.64      0.43      0.51       191\n",
            "          20       0.58      0.50      0.54      1567\n",
            "          21       0.70      0.54      0.61       401\n",
            "          22       0.79      0.47      0.59       210\n",
            "\n",
            "   micro avg       0.62      0.51      0.56     19370\n",
            "   macro avg       0.56      0.40      0.45     19370\n",
            "weighted avg       0.60      0.51      0.54     19370\n",
            " samples avg       0.64      0.56      0.55     19370\n",
            "\n"
          ]
        },
        {
          "output_type": "stream",
          "name": "stderr",
          "text": [
            "/usr/local/lib/python3.10/dist-packages/sklearn/metrics/_classification.py:1344: UndefinedMetricWarning: Precision and F-score are ill-defined and being set to 0.0 in samples with no predicted labels. Use `zero_division` parameter to control this behavior.\n",
            "  _warn_prf(average, modifier, msg_start, len(result))\n"
          ]
        }
      ]
    },
    {
      "cell_type": "code",
      "source": [],
      "metadata": {
        "id": "ABVebewTU43q"
      },
      "execution_count": null,
      "outputs": []
    }
  ]
}