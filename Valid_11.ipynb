{
  "nbformat": 4,
  "nbformat_minor": 0,
  "metadata": {
    "colab": {
      "provenance": [],
      "gpuType": "T4",
      "include_colab_link": true
    },
    "kernelspec": {
      "name": "python3",
      "display_name": "Python 3"
    },
    "language_info": {
      "name": "python"
    },
    "accelerator": "GPU"
  },
  "cells": [
    {
      "cell_type": "markdown",
      "metadata": {
        "id": "view-in-github",
        "colab_type": "text"
      },
      "source": [
        "<a href=\"https://colab.research.google.com/github/MuhammadIrzam447/MultiModel/blob/master/Valid_11.ipynb\" target=\"_parent\"><img src=\"https://colab.research.google.com/assets/colab-badge.svg\" alt=\"Open In Colab\"/></a>"
      ]
    },
    {
      "cell_type": "code",
      "source": [
        "# !gdown https://drive.google.com/uc?id=1kl1NQvbcre7ktBmaxvdZ5fN_EmQQicBL"
      ],
      "metadata": {
        "id": "VhXCwAGe33A1"
      },
      "execution_count": null,
      "outputs": []
    },
    {
      "cell_type": "code",
      "source": [
        "# !gdown https://drive.google.com/uc?id=1gJD_PD9mVfW10neMtQFg2L-t4pgoz07O"
      ],
      "metadata": {
        "id": "Awg5lLwRRmOn"
      },
      "execution_count": null,
      "outputs": []
    },
    {
      "cell_type": "code",
      "source": [
        "# !unzip /content/mulitmodal_joint_224x224.zip"
      ],
      "metadata": {
        "id": "pXdW_dvBRoGH"
      },
      "execution_count": null,
      "outputs": []
    },
    {
      "cell_type": "code",
      "execution_count": 1,
      "metadata": {
        "id": "ObgVtPmABT7d"
      },
      "outputs": [],
      "source": [
        "from google.colab import drive\n",
        "import pandas as pd\n",
        "import os\n",
        "from PIL import Image\n",
        "import torch\n",
        "from torchvision import datasets, transforms\n",
        "import torchvision.models as models\n",
        "from torchvision.datasets import ImageFolder\n",
        "import torchvision\n",
        "import torch.nn as nn\n",
        "import torch.optim as optim\n",
        "from sklearn.metrics import confusion_matrix\n",
        "from sklearn.metrics import precision_recall_fscore_support\n",
        "from sklearn.metrics import accuracy_score, precision_score, recall_score, f1_score\n",
        "import matplotlib.pyplot as plt\n",
        "import seaborn as sns\n",
        "import numpy as np\n",
        "from PIL import UnidentifiedImageError\n",
        "from sklearn.metrics import classification_report"
      ]
    },
    {
      "cell_type": "code",
      "source": [
        "if torch.cuda.is_available():\n",
        "    device = torch.device(\"cuda\")\n",
        "else:\n",
        "    device = torch.device(\"cpu\")\n",
        "print(device)"
      ],
      "metadata": {
        "id": "pziXvdPgU58B",
        "colab": {
          "base_uri": "https://localhost:8080/"
        },
        "outputId": "b5f6b5c2-506d-48c0-ae48-7a1859ae310e"
      },
      "execution_count": 2,
      "outputs": [
        {
          "output_type": "stream",
          "name": "stdout",
          "text": [
            "cuda\n"
          ]
        }
      ]
    },
    {
      "cell_type": "code",
      "source": [
        "# from google.colab import drive\n",
        "# drive.mount('/content/drive')"
      ],
      "metadata": {
        "id": "ri3v1Z5UeWNb"
      },
      "execution_count": null,
      "outputs": []
    },
    {
      "cell_type": "markdown",
      "source": [
        "# Loading Validation Dataset and Preprocessing"
      ],
      "metadata": {
        "id": "p3yzu25SYhKf"
      }
    },
    {
      "cell_type": "code",
      "source": [
        "save_dir = \"/content/Model/Models-Train-02/\"\n",
        "load_path = os.path.join(save_dir, '17_model.pth')\n",
        "\n",
        "resnet = torchvision.models.resnet101(pretrained=False)\n",
        "resnet.fc = nn.Linear(2048, 101)               #  change the output classes to number of classes for your model\n",
        "\n",
        "resnet.load_state_dict(torch.load(load_path))\n",
        "# resnet.load_state_dict(torch.load(load_path, map_location=torch.device('cpu')))\n",
        "resnet.eval()\n",
        "resnet.to(device)"
      ],
      "metadata": {
        "id": "6gITvuS1n91U"
      },
      "execution_count": null,
      "outputs": []
    },
    {
      "cell_type": "code",
      "source": [
        "val_transform = transforms.Compose([\n",
        "    transforms.Resize((224, 224)),\n",
        "    transforms.ToTensor(),\n",
        "    transforms.Normalize(mean=[0.485, 0.456, 0.406], std=[0.229, 0.224, 0.225])\n",
        "])"
      ],
      "metadata": {
        "id": "4ElOxuNZvqLy"
      },
      "execution_count": 4,
      "outputs": []
    },
    {
      "cell_type": "code",
      "source": [
        "class ValidationDataset(torch.utils.data.Dataset):\n",
        "    def __init__(self, data_dir, val_transform):\n",
        "        self.data_dir = data_dir\n",
        "        self.dataset = datasets.ImageFolder(data_dir)\n",
        "        self.classes = self.dataset.classes\n",
        "        self.val_transform = val_transform\n",
        "\n",
        "        self.selected_indices = []\n",
        "        for class_idx in range(len(self.classes)):\n",
        "            indices = [idx for idx, (_, label) in enumerate(self.dataset.samples) if label == class_idx]\n",
        "            indices_3 = [idx for idx in indices if self.dataset.samples[idx][0].endswith(\"_3.png\")]    # _3.png are the encoded_text images\n",
        "            indices_4 = [idx for idx in indices if self.dataset.samples[idx][0].endswith(\"_4.png\")]    # _4.png are the actual images\n",
        "\n",
        "            self.selected_indices.extend(indices_4)\n",
        "            # self.selected_indices.extend(indices_3)\n",
        "        print(\"Selected Indices:\", len(self.selected_indices))\n",
        "        # for idx in self.selected_indices:\n",
        "          # print(self.dataset.samples[idx][0])\n",
        "\n",
        "    def __getitem__(self, index):\n",
        "        # print(\"Entered get_item\")\n",
        "        img, label = self.dataset[self.selected_indices[index]]\n",
        "        filename = self.dataset.samples[self.selected_indices[index]][0]\n",
        "        image_3 = None\n",
        "        image_4 = None\n",
        "        if filename.endswith(\"_4.png\"):\n",
        "                image_4 = img\n",
        "                image_4_path = filename\n",
        "                # print(\"image_4_path: \", str(filename))\n",
        "                image_3_path = filename.replace('_4.png', '_3.png')\n",
        "                # print(\"image_3_path: \", str(image_3_path))\n",
        "                image_3 = self._load_image(image_3_path)\n",
        "        else:\n",
        "                image_3 = img\n",
        "                image_3_path = filename\n",
        "                # print(\"image_3_path: \", str(filename))\n",
        "                image_4_path = filename.replace('_3.png', '_4.png')\n",
        "                # print(\"image_4_path: \", str(image_4_path))\n",
        "                image_4 = self._load_image(image_4_path)\n",
        "\n",
        "        # print(\"Exit get_item\")\n",
        "        return image_3, image_4, label, image_3_path, image_4_path\n",
        "\n",
        "    def _load_image(self, path):\n",
        "        image = Image.open(path)\n",
        "        return image\n",
        "\n",
        "    def __len__(self):\n",
        "        return len(self.selected_indices)"
      ],
      "metadata": {
        "id": "ZEqVuNvcMgvo"
      },
      "execution_count": 5,
      "outputs": []
    },
    {
      "cell_type": "code",
      "source": [
        "valPath = \"/content/Dataset(s)/joint-food-101/test\"\n",
        "val_dataset = ValidationDataset(valPath,val_transform)"
      ],
      "metadata": {
        "id": "4UfrxOQ3sCgB",
        "colab": {
          "base_uri": "https://localhost:8080/"
        },
        "outputId": "ad5f4ebc-3849-4fa9-e1d2-0dab18ca43f9"
      },
      "execution_count": 6,
      "outputs": [
        {
          "output_type": "stream",
          "name": "stdout",
          "text": [
            "Selected Indices: 22716\n"
          ]
        }
      ]
    },
    {
      "cell_type": "code",
      "source": [
        "def custom_collate(batch):\n",
        "    to_tensor = transforms.ToTensor()\n",
        "    val_transform = transforms.Compose([\n",
        "        transforms.Resize((224, 224)),\n",
        "        transforms.ToTensor(),\n",
        "        transforms.Normalize(mean=[0.485, 0.456, 0.406], std=[0.229, 0.224, 0.225])\n",
        "    ])\n",
        "\n",
        "    images_3 = [val_transform(item[0]) for item in batch]\n",
        "    images_4 = [val_transform(item[1]) for item in batch]\n",
        "    labels = [torch.tensor(item[2]) for item in batch]\n",
        "\n",
        "    images_3 = torch.stack(images_3)\n",
        "    images_4 = torch.stack(images_4)\n",
        "\n",
        "    # Print the filenames in each list\n",
        "    # print(\"Filenames in images_3 list:\")\n",
        "    # for item in batch:\n",
        "    #     if item[0] is not None:\n",
        "    #         print(item[3])\n",
        "\n",
        "    # print(\"Filenames in images_4 list:\")\n",
        "    # for item in batch:\n",
        "    #     if item[1] is not None:\n",
        "    #         print(item[4])\n",
        "\n",
        "    return images_3, images_4, labels\n"
      ],
      "metadata": {
        "id": "snzYnvozBPgC"
      },
      "execution_count": 7,
      "outputs": []
    },
    {
      "cell_type": "code",
      "source": [
        "batch_size = 16\n",
        "validation_data_loader = torch.utils.data.DataLoader(val_dataset, batch_size=batch_size, shuffle=False, collate_fn=custom_collate)"
      ],
      "metadata": {
        "id": "8e-uQ6lqVhmI"
      },
      "execution_count": 8,
      "outputs": []
    },
    {
      "cell_type": "code",
      "source": [
        "print(\"Number of samples:\", len(val_dataset))\n",
        "print(\"Number of classes:\", len(val_dataset.classes))"
      ],
      "metadata": {
        "id": "oShp-fOcVmYs",
        "colab": {
          "base_uri": "https://localhost:8080/"
        },
        "outputId": "8c84ed88-44b8-4fe7-968b-cc2090647326"
      },
      "execution_count": 9,
      "outputs": [
        {
          "output_type": "stream",
          "name": "stdout",
          "text": [
            "Number of samples: 22716\n",
            "Number of classes: 101\n"
          ]
        }
      ]
    },
    {
      "cell_type": "markdown",
      "source": [
        "# Validation"
      ],
      "metadata": {
        "id": "RbwN0R_b2tMA"
      }
    },
    {
      "cell_type": "code",
      "source": [
        "num_batches = len(validation_data_loader)\n",
        "num_batches_with_logits_3 = int(num_batches * 0.3)  # __% of batches that you want to include (30 for now)\n",
        "print(\"Total Batches: \", num_batches)\n",
        "print(\"Missing Modaility Batches: \", num_batches_with_logits_3)"
      ],
      "metadata": {
        "id": "rh9-ga7zvafZ",
        "colab": {
          "base_uri": "https://localhost:8080/"
        },
        "outputId": "ea237677-920e-4313-d361-75e85aac237c"
      },
      "execution_count": 10,
      "outputs": [
        {
          "output_type": "stream",
          "name": "stdout",
          "text": [
            "Total Batches:  1420\n",
            "Missing Modaility Batches:  426\n"
          ]
        }
      ]
    },
    {
      "cell_type": "code",
      "source": [
        "resnet.eval()\n",
        "\n",
        "predicted_labels = []\n",
        "true_labels = []\n",
        "\n",
        "batch_idx = 0\n",
        "for images_3, images_4, labels in validation_data_loader:\n",
        "\n",
        "    images_4 = images_4.to(device)\n",
        "    logits_4 = resnet(images_4)\n",
        "\n",
        "    if batch_idx < num_batches_with_logits_3:\n",
        "        images_3 = images_3.to(device)\n",
        "        logits_3 = resnet(images_3)\n",
        "    else:\n",
        "        logits_3 = torch.zeros_like(logits_4)\n",
        "\n",
        "    probabilities_3 = torch.softmax(logits_3, dim=1)\n",
        "    probabilities_4 = torch.softmax(logits_4, dim=1)\n",
        "\n",
        "    avg_probabilities_batch = (probabilities_3 + probabilities_4) / 2\n",
        "\n",
        "    predicted_labels.extend(avg_probabilities_batch.cpu().tolist())\n",
        "    true_labels.extend(labels)\n",
        "    batch_idx += 1\n",
        "\n",
        "print(batch_idx)"
      ],
      "metadata": {
        "id": "QYxUnUjO7DOa",
        "colab": {
          "base_uri": "https://localhost:8080/"
        },
        "outputId": "245865ca-2702-4139-be70-3b19cc4e714d"
      },
      "execution_count": 11,
      "outputs": [
        {
          "output_type": "stream",
          "name": "stdout",
          "text": [
            "1420\n"
          ]
        }
      ]
    },
    {
      "cell_type": "code",
      "source": [
        "predicted_classes = torch.argmax(torch.tensor(predicted_labels), dim=1)\n",
        "actual_labels = torch.tensor(true_labels)"
      ],
      "metadata": {
        "id": "9PWM8Xhck2Xy"
      },
      "execution_count": 12,
      "outputs": []
    },
    {
      "cell_type": "code",
      "source": [
        "accuracy = accuracy_score(actual_labels, predicted_classes)\n",
        "precision = precision_score(actual_labels, predicted_classes, average='weighted')\n",
        "recall = recall_score(actual_labels, predicted_classes, average='weighted')\n",
        "f1 = f1_score(actual_labels, predicted_classes, average='weighted')\n",
        "\n",
        "print(\"Accuracy:\", accuracy)\n",
        "print(\"Precision:\", precision)\n",
        "print(\"Recall:\", recall)\n",
        "print(\"F1-score:\", f1)"
      ],
      "metadata": {
        "id": "SiJYzy3heKgR",
        "colab": {
          "base_uri": "https://localhost:8080/"
        },
        "outputId": "7311fbe4-a599-439a-8ae6-553c353ae733"
      },
      "execution_count": 13,
      "outputs": [
        {
          "output_type": "stream",
          "name": "stdout",
          "text": [
            "Accuracy: 0.7071227328755062\n",
            "Precision: 0.7093786749064019\n",
            "Recall: 0.7071227328755062\n",
            "F1-score: 0.7004136005147582\n"
          ]
        }
      ]
    },
    {
      "cell_type": "code",
      "source": [
        "print(classification_report(actual_labels, predicted_classes))"
      ],
      "metadata": {
        "id": "1PEdbnvj0vPK",
        "colab": {
          "base_uri": "https://localhost:8080/"
        },
        "outputId": "d3a8b347-b9ed-41d4-d43a-bde9cac15fcb"
      },
      "execution_count": 14,
      "outputs": [
        {
          "output_type": "stream",
          "name": "stdout",
          "text": [
            "              precision    recall  f1-score   support\n",
            "\n",
            "           0       0.74      0.92      0.82       234\n",
            "           1       0.77      0.95      0.85       221\n",
            "           2       0.83      0.95      0.88       226\n",
            "           3       0.78      0.79      0.79       222\n",
            "           4       0.62      0.72      0.67       225\n",
            "           5       0.85      0.90      0.87       224\n",
            "           6       0.74      0.92      0.82       224\n",
            "           7       0.82      0.88      0.85       225\n",
            "           8       0.71      0.97      0.82       226\n",
            "           9       0.79      0.86      0.83       214\n",
            "          10       0.65      0.97      0.78       231\n",
            "          11       0.80      0.90      0.85       227\n",
            "          12       0.81      0.93      0.86       230\n",
            "          13       0.82      0.93      0.87       220\n",
            "          14       0.85      0.84      0.84       231\n",
            "          15       0.67      0.92      0.78       227\n",
            "          16       0.76      0.75      0.76       224\n",
            "          17       0.69      0.94      0.80       233\n",
            "          18       0.70      0.91      0.79       222\n",
            "          19       0.61      0.85      0.71       220\n",
            "          20       0.81      0.94      0.87       219\n",
            "          21       0.85      0.95      0.90       232\n",
            "          22       0.76      0.94      0.84       224\n",
            "          23       0.91      0.93      0.92       230\n",
            "          24       0.73      0.94      0.82       224\n",
            "          25       0.82      0.91      0.86       220\n",
            "          26       0.71      0.90      0.79       221\n",
            "          27       0.72      0.90      0.80       225\n",
            "          28       0.82      0.86      0.84       224\n",
            "          29       0.69      0.86      0.76       228\n",
            "          30       0.90      0.93      0.91       229\n",
            "          31       0.73      0.67      0.70       232\n",
            "          32       0.58      0.39      0.46       228\n",
            "          33       0.68      0.65      0.67       231\n",
            "          34       0.75      0.76      0.75       213\n",
            "          35       0.66      0.40      0.49       202\n",
            "          36       0.69      0.62      0.65       228\n",
            "          37       0.62      0.58      0.60       212\n",
            "          38       0.52      0.57      0.55       208\n",
            "          39       0.60      0.30      0.40       216\n",
            "          40       0.69      0.71      0.70       212\n",
            "          41       0.84      0.71      0.77       223\n",
            "          42       0.71      0.56      0.63       238\n",
            "          43       0.75      0.67      0.71       212\n",
            "          44       0.78      0.47      0.58       229\n",
            "          45       0.59      0.44      0.50       233\n",
            "          46       0.75      0.54      0.63       224\n",
            "          47       0.52      0.62      0.56       234\n",
            "          48       0.77      0.72      0.74       223\n",
            "          49       0.66      0.83      0.73       229\n",
            "          50       0.65      0.67      0.66       225\n",
            "          51       0.75      0.84      0.79       228\n",
            "          52       0.54      0.56      0.55       232\n",
            "          53       0.40      0.57      0.47       233\n",
            "          54       0.62      0.44      0.52       203\n",
            "          55       0.48      0.47      0.48       234\n",
            "          56       0.53      0.72      0.61       223\n",
            "          57       0.62      0.68      0.65       234\n",
            "          58       0.65      0.33      0.44       232\n",
            "          59       0.75      0.77      0.76       233\n",
            "          60       0.60      0.63      0.61       197\n",
            "          61       0.55      0.30      0.39       215\n",
            "          62       0.65      0.61      0.63       238\n",
            "          63       0.85      0.75      0.80       231\n",
            "          64       0.63      0.75      0.69       227\n",
            "          65       0.85      0.79      0.82       234\n",
            "          66       0.63      0.70      0.66       224\n",
            "          67       0.69      0.58      0.63       231\n",
            "          68       0.89      0.65      0.75       217\n",
            "          69       0.59      0.53      0.56       223\n",
            "          70       0.72      0.70      0.71       230\n",
            "          71       0.80      0.71      0.75       228\n",
            "          72       0.75      0.73      0.74       234\n",
            "          73       0.73      0.77      0.75       225\n",
            "          74       0.61      0.44      0.51       211\n",
            "          75       0.87      0.60      0.71       218\n",
            "          76       0.73      0.65      0.69       235\n",
            "          77       0.62      0.48      0.54       227\n",
            "          78       0.65      0.70      0.67       210\n",
            "          79       0.88      0.74      0.80       220\n",
            "          80       0.85      0.70      0.77       224\n",
            "          81       0.62      0.47      0.54       232\n",
            "          82       0.49      0.57      0.53       236\n",
            "          83       0.73      0.76      0.74       227\n",
            "          84       0.51      0.62      0.56       236\n",
            "          85       0.76      0.70      0.73       215\n",
            "          86       0.51      0.47      0.49       226\n",
            "          87       0.68      0.54      0.60       228\n",
            "          88       0.76      0.68      0.72       219\n",
            "          89       0.62      0.63      0.62       228\n",
            "          90       0.80      0.87      0.83       213\n",
            "          91       0.85      0.78      0.82       218\n",
            "          92       0.75      0.69      0.72       230\n",
            "          93       0.51      0.46      0.48       229\n",
            "          94       0.73      0.77      0.75       223\n",
            "          95       0.78      0.55      0.65       237\n",
            "          96       0.78      0.46      0.58       233\n",
            "          97       0.76      0.65      0.70       223\n",
            "          98       0.88      0.75      0.81       232\n",
            "          99       0.56      0.50      0.53       211\n",
            "         100       0.81      0.78      0.80       235\n",
            "\n",
            "    accuracy                           0.71     22716\n",
            "   macro avg       0.71      0.71      0.70     22716\n",
            "weighted avg       0.71      0.71      0.70     22716\n",
            "\n"
          ]
        }
      ]
    },
    {
      "cell_type": "code",
      "source": [
        "labels = ['Accuracy', 'Precision', 'Recall', 'F1-score']\n",
        "values = [accuracy, precision, recall, f1]\n",
        "\n",
        "x = np.arange(len(labels))\n",
        "\n",
        "fig, ax = plt.subplots(figsize=(5, 4))\n",
        "bars = ax.bar(x, values)\n",
        "\n",
        "ax.set_xlabel('Metrics')\n",
        "ax.set_ylabel('Score')\n",
        "ax.set_title('Model Performance Metrics')\n",
        "ax.set_xticks(x)\n",
        "ax.set_xticklabels(labels)\n",
        "\n",
        "for i, bar in enumerate(bars):\n",
        "    score = values[i]\n",
        "    ax.text(bar.get_x() + bar.get_width() / 2, bar.get_height(), f'{score:.2f}', ha='center', va='bottom')\n",
        "\n",
        "plt.show()"
      ],
      "metadata": {
        "id": "xSO-PViWdHwB",
        "colab": {
          "base_uri": "https://localhost:8080/",
          "height": 410
        },
        "outputId": "c9e68865-8c5e-43d1-d7a2-2249b6cbd4c7"
      },
      "execution_count": 15,
      "outputs": [
        {
          "output_type": "display_data",
          "data": {
            "text/plain": [
              "<Figure size 500x400 with 1 Axes>"
            ],
            "image/png": "[encoded data removed]"
          },
          "metadata": {}
        }
      ]
    },
    {
      "cell_type": "code",
      "source": [
        "# Count the occurrences of each label in predicted and true labels\n",
        "predicted_counts = np.bincount(predicted_classes)\n",
        "true_counts = np.bincount(actual_labels)\n",
        "\n",
        "# Get the unique labels\n",
        "labels = np.unique(np.concatenate((predicted_classes, actual_labels)))\n",
        "\n",
        "# Set the x-axis range\n",
        "x = np.arange(len(labels))\n",
        "\n",
        "# Set the width of the bars\n",
        "width = 0.35\n",
        "\n",
        "# Plot the predicted and true label counts\n",
        "fig, ax = plt.subplots(figsize=(20, 8))\n",
        "ax.bar(x - width/2, predicted_counts, width, label='Predicted Labels')\n",
        "ax.bar(x + width/2, true_counts, width, label='True Labels')\n",
        "\n",
        "# Add labels, title, and legend\n",
        "ax.set_xlabel('Labels')\n",
        "ax.set_ylabel('Count')\n",
        "ax.set_title('Distribution of Predicted and True Labels')\n",
        "ax.set_xticks(x)\n",
        "ax.set_xticklabels(labels)\n",
        "ax.legend()\n",
        "\n",
        "plt.show()"
      ],
      "metadata": {
        "id": "55bbdFyXajU8",
        "colab": {
          "base_uri": "https://localhost:8080/",
          "height": 627
        },
        "outputId": "9ee855eb-c779-489c-f069-f12eb21704ee"
      },
      "execution_count": 16,
      "outputs": [
        {
          "output_type": "display_data",
          "data": {
            "text/plain": [
              "<Figure size 2000x800 with 1 Axes>"
            ],
            "image/png": "[encoded data removed]"
          },
          "metadata": {}
        }
      ]
    },
    {
      "cell_type": "code",
      "source": [],
      "metadata": {
        "id": "5zzGK-BUT1sA"
      },
      "execution_count": 16,
      "outputs": []
    }
  ]
}