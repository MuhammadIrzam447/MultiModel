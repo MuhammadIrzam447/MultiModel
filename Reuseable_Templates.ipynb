{
  "nbformat": 4,
  "nbformat_minor": 0,
  "metadata": {
    "colab": {
      "provenance": [],
      "authorship_tag": "ABX9TyM1+BbIF+J1tItiJ/MPOkrK",
      "include_colab_link": true
    },
    "kernelspec": {
      "name": "python3",
      "display_name": "Python 3"
    },
    "language_info": {
      "name": "python"
    }
  },
  "cells": [
    {
      "cell_type": "markdown",
      "metadata": {
        "id": "view-in-github",
        "colab_type": "text"
      },
      "source": [
        "<a href=\"https://colab.research.google.com/github/MuhammadIrzam447/MultiModel/blob/master/Reuseable_Templates.ipynb\" target=\"_parent\"><img src=\"https://colab.research.google.com/assets/colab-badge.svg\" alt=\"Open In Colab\"/></a>"
      ]
    },
    {
      "cell_type": "markdown",
      "source": [
        "# Removing Files from Directory"
      ],
      "metadata": {
        "id": "5eiYu1Drpp2p"
      }
    },
    {
      "cell_type": "code",
      "execution_count": null,
      "metadata": {
        "id": "Ygkqw--kpk23"
      },
      "outputs": [],
      "source": [
        "from PIL import Image\n",
        "import os\n",
        "\n",
        "# Specify the path to the folder\n",
        "folder_path = ''\n",
        "counter = 0\n",
        "# Iterate over each file in the folder\n",
        "for filename in os.listdir(folder_path):\n",
        "    # Check if the filename ends with \"_2.png\" or \"_3.png\"\n",
        "    if filename.endswith((\"_2.png\")): #, \"_1.png\")):\n",
        "        # Create the file path\n",
        "        file_path = os.path.join(folder_path, filename)\n",
        "\n",
        "        # Remove the file\n",
        "        os.remove(file_path)\n",
        "        counter = counter +1\n",
        "\n",
        "print(\"File removal complete: \", counter)"
      ]
    },
    {
      "cell_type": "markdown",
      "source": [
        "# off-line Augmentation"
      ],
      "metadata": {
        "id": "rYR0gIrTprWh"
      }
    },
    {
      "cell_type": "code",
      "source": [
        "from PIL import Image\n",
        "import os\n",
        "\n",
        "counter = 0\n",
        "for filename in os.listdir(original_folder):\n",
        "    original_path = os.path.join(original_folder, filename)\n",
        "    image = Image.open(original_path)\n",
        "    flipped_image = image.transpose(Image.FLIP_TOP_BOTTOM)\n",
        "    new_filename = filename + '_3.png'\n",
        "    new_path = os.path.join(new_folder, new_filename)\n",
        "    flipped_image.save(new_path)\n",
        "    flipped_image.close()\n",
        "    counter = counter + 1\n",
        "print(\"New Files Created: \", counter)\n"
      ],
      "metadata": {
        "id": "zHSHEjpsp375"
      },
      "execution_count": null,
      "outputs": []
    },
    {
      "cell_type": "markdown",
      "source": [
        "# Colab Virtual Machine Commands"
      ],
      "metadata": {
        "id": "-yNhemiKqWZh"
      }
    },
    {
      "cell_type": "code",
      "source": [
        "# vm commands\n",
        "# rm -r * \t\t\t>> remove all files in current directory\n",
        "# rm -rf directory >> foreefully remove the non-empty directory\n",
        "# /root/.local/share/Trash/files/  \t>> contains all the removed files\n",
        "# sudo fuser -v /dev/nvidia* \t>> show all users\n",
        "# nvidia-smi   \t\t\t>> GPU/Memory Allocation/Utilization\n",
        "# kill -9 PID\t\t\t>> forcefully terminate any processe\n",
        "# !unzip zipfile.zip"
      ],
      "metadata": {
        "id": "r-41OdOJrGi5"
      },
      "execution_count": null,
      "outputs": []
    },
    {
      "cell_type": "markdown",
      "source": [
        "# AUROC Score"
      ],
      "metadata": {
        "id": "hYr8XDvurQh4"
      }
    },
    {
      "cell_type": "code",
      "source": [
        "from sklearn.metrics import roc_auc_score\n",
        "\n",
        "# Convert the predicted_classes and actual_labels lists to numpy arrays\n",
        "predicted_classes = np.array(predicted_classes)\n",
        "actual_labels = np.array(actual_labels)\n",
        "\n",
        "# Calculate the AUROC score\n",
        "auroc = roc_auc_score(actual_labels, predicted_classes)\n",
        "\n",
        "print(\"AUROC:\", auroc)\n"
      ],
      "metadata": {
        "id": "IMviQMRIrRP4"
      },
      "execution_count": null,
      "outputs": []
    },
    {
      "cell_type": "markdown",
      "source": [
        "# New Section"
      ],
      "metadata": {
        "id": "DmsLkYNhrRvA"
      }
    },
    {
      "cell_type": "code",
      "source": [],
      "metadata": {
        "id": "2bjxm8MErSNg"
      },
      "execution_count": null,
      "outputs": []
    }
  ]
}