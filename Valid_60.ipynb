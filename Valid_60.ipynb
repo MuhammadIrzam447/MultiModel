{
  "cells": [
    {
      "cell_type": "markdown",
      "metadata": {
        "id": "view-in-github",
        "colab_type": "text"
      },
      "source": [
        "<a href=\"https://colab.research.google.com/github/MuhammadIrzam447/MultiModel/blob/master/Valid_60.ipynb\" target=\"_parent\"><img src=\"https://colab.research.google.com/assets/colab-badge.svg\" alt=\"Open In Colab\"/></a>"
      ]
    },
    {
      "cell_type": "code",
      "source": [
        "# !gdown https://drive.google.com/uc?id=1ytJdl1n4e2Y-F8a8mJab0S_4TgyrkE-4"
      ],
      "metadata": {
        "id": "aPyxZLsHY9Rv"
      },
      "execution_count": null,
      "outputs": []
    },
    {
      "cell_type": "code",
      "source": [
        "# !unzip \"/content/joint_representations.zip\""
      ],
      "metadata": {
        "id": "BOxHTKNxZGD9"
      },
      "execution_count": null,
      "outputs": []
    },
    {
      "cell_type": "code",
      "source": [
        "# !gdown https://drive.google.com/uc?id=1wgl3QGXZ4m2aLg3T-1TDXQqSP31RuXgL"
      ],
      "metadata": {
        "id": "i740U6GzV5HV"
      },
      "execution_count": null,
      "outputs": []
    },
    {
      "cell_type": "code",
      "source": [
        "# !unzip \"/content/hateful_train+test_unseen.zip\""
      ],
      "metadata": {
        "id": "lKYjZZ5ymkIC"
      },
      "execution_count": null,
      "outputs": []
    },
    {
      "cell_type": "code",
      "source": [
        "# from google.colab import drive\n",
        "# drive.mount('/content/drive')"
      ],
      "metadata": {
        "id": "DwoYGIzmWbJl"
      },
      "execution_count": null,
      "outputs": []
    },
    {
      "cell_type": "markdown",
      "source": [
        "# Load Model\n"
      ],
      "metadata": {
        "id": "L47YXGj6RfJU"
      }
    },
    {
      "cell_type": "code",
      "source": [
        "!pip install transformers evaluate datasets\n",
        "import requests\n",
        "import torch\n",
        "from PIL import Image\n",
        "from transformers import *\n",
        "from tqdm import tqdm"
      ],
      "metadata": {
        "colab": {
          "base_uri": "https://localhost:8080/"
        },
        "id": "HTftvdBXRhTJ",
        "outputId": "335e0a33-ee77-4cc3-c225-f5dd59c62885"
      },
      "execution_count": 1,
      "outputs": [
        {
          "output_type": "stream",
          "name": "stdout",
          "text": [
            "Looking in indexes: https://pypi.org/simple, https://us-python.pkg.dev/colab-wheels/public/simple/\n",
            "Requirement already satisfied: transformers in /usr/local/lib/python3.10/dist-packages (4.32.1)\n",
            "Requirement already satisfied: evaluate in /usr/local/lib/python3.10/dist-packages (0.4.0)\n",
            "Requirement already satisfied: datasets in /usr/local/lib/python3.10/dist-packages (2.14.5)\n",
            "Requirement already satisfied: filelock in /usr/local/lib/python3.10/dist-packages (from transformers) (3.12.2)\n",
            "Requirement already satisfied: huggingface-hub<1.0,>=0.15.1 in /usr/local/lib/python3.10/dist-packages (from transformers) (0.16.4)\n",
            "Requirement already satisfied: numpy>=1.17 in /usr/local/lib/python3.10/dist-packages (from transformers) (1.22.4)\n",
            "Requirement already satisfied: packaging>=20.0 in /usr/local/lib/python3.10/dist-packages (from transformers) (23.1)\n",
            "Requirement already satisfied: pyyaml>=5.1 in /usr/local/lib/python3.10/dist-packages (from transformers) (6.0)\n",
            "Requirement already satisfied: regex!=2019.12.17 in /usr/local/lib/python3.10/dist-packages (from transformers) (2022.10.31)\n",
            "Requirement already satisfied: requests in /usr/local/lib/python3.10/dist-packages (from transformers) (2.27.1)\n",
            "Requirement already satisfied: tokenizers!=0.11.3,<0.14,>=0.11.1 in /usr/local/lib/python3.10/dist-packages (from transformers) (0.13.3)\n",
            "Requirement already satisfied: safetensors>=0.3.1 in /usr/local/lib/python3.10/dist-packages (from transformers) (0.3.3)\n",
            "Requirement already satisfied: tqdm>=4.27 in /usr/local/lib/python3.10/dist-packages (from transformers) (4.65.0)\n",
            "Requirement already satisfied: dill in /usr/local/lib/python3.10/dist-packages (from evaluate) (0.3.7)\n",
            "Requirement already satisfied: pandas in /usr/local/lib/python3.10/dist-packages (from evaluate) (1.5.3)\n",
            "Requirement already satisfied: xxhash in /usr/local/lib/python3.10/dist-packages (from evaluate) (3.3.0)\n",
            "Requirement already satisfied: multiprocess in /usr/local/lib/python3.10/dist-packages (from evaluate) (0.70.15)\n",
            "Requirement already satisfied: fsspec[http]>=2021.05.0 in /usr/local/lib/python3.10/dist-packages (from evaluate) (2023.6.0)\n",
            "Requirement already satisfied: responses<0.19 in /usr/local/lib/python3.10/dist-packages (from evaluate) (0.18.0)\n",
            "Requirement already satisfied: pyarrow>=8.0.0 in /usr/local/lib/python3.10/dist-packages (from datasets) (9.0.0)\n",
            "Requirement already satisfied: aiohttp in /usr/local/lib/python3.10/dist-packages (from datasets) (3.8.5)\n",
            "Requirement already satisfied: attrs>=17.3.0 in /usr/local/lib/python3.10/dist-packages (from aiohttp->datasets) (23.1.0)\n",
            "Requirement already satisfied: charset-normalizer<4.0,>=2.0 in /usr/local/lib/python3.10/dist-packages (from aiohttp->datasets) (2.0.12)\n",
            "Requirement already satisfied: multidict<7.0,>=4.5 in /usr/local/lib/python3.10/dist-packages (from aiohttp->datasets) (6.0.4)\n",
            "Requirement already satisfied: async-timeout<5.0,>=4.0.0a3 in /usr/local/lib/python3.10/dist-packages (from aiohttp->datasets) (4.0.3)\n",
            "Requirement already satisfied: yarl<2.0,>=1.0 in /usr/local/lib/python3.10/dist-packages (from aiohttp->datasets) (1.9.2)\n",
            "Requirement already satisfied: frozenlist>=1.1.1 in /usr/local/lib/python3.10/dist-packages (from aiohttp->datasets) (1.4.0)\n",
            "Requirement already satisfied: aiosignal>=1.1.2 in /usr/local/lib/python3.10/dist-packages (from aiohttp->datasets) (1.3.1)\n",
            "Requirement already satisfied: typing-extensions>=3.7.4.3 in /usr/local/lib/python3.10/dist-packages (from huggingface-hub<1.0,>=0.15.1->transformers) (4.6.3)\n",
            "Requirement already satisfied: urllib3<1.27,>=1.21.1 in /usr/local/lib/python3.10/dist-packages (from requests->transformers) (1.26.16)\n",
            "Requirement already satisfied: certifi>=2017.4.17 in /usr/local/lib/python3.10/dist-packages (from requests->transformers) (2023.5.7)\n",
            "Requirement already satisfied: idna<4,>=2.5 in /usr/local/lib/python3.10/dist-packages (from requests->transformers) (3.4)\n",
            "Requirement already satisfied: python-dateutil>=2.8.1 in /usr/local/lib/python3.10/dist-packages (from pandas->evaluate) (2.8.2)\n",
            "Requirement already satisfied: pytz>=2020.1 in /usr/local/lib/python3.10/dist-packages (from pandas->evaluate) (2022.7.1)\n",
            "Requirement already satisfied: six>=1.5 in /usr/local/lib/python3.10/dist-packages (from python-dateutil>=2.8.1->pandas->evaluate) (1.16.0)\n"
          ]
        },
        {
          "output_type": "stream",
          "name": "stderr",
          "text": [
            "/usr/local/lib/python3.10/dist-packages/transformers/generation_utils.py:24: FutureWarning: Importing `GenerationMixin` from `src/transformers/generation_utils.py` is deprecated and will be removed in Transformers v5. Import as `from transformers import GenerationMixin` instead.\n",
            "  warnings.warn(\n",
            "/usr/local/lib/python3.10/dist-packages/transformers/generation_tf_utils.py:24: FutureWarning: Importing `TFGenerationMixin` from `src/transformers/generation_tf_utils.py` is deprecated and will be removed in Transformers v5. Import as `from transformers import TFGenerationMixin` instead.\n",
            "  warnings.warn(\n",
            "/usr/local/lib/python3.10/dist-packages/transformers/generation_flax_utils.py:24: FutureWarning: Importing `FlaxGenerationMixin` from `src/transformers/generation_flax_utils.py` is deprecated and will be removed in Transformers v5. Import as `from transformers import FlaxGenerationMixin` instead.\n",
            "  warnings.warn(\n",
            "Xformers is not installed correctly. If you want to use memory_efficient_attention to accelerate training use the following command to install Xformers\n",
            "pip install xformers.\n"
          ]
        }
      ]
    },
    {
      "cell_type": "code",
      "source": [
        "device = \"cuda\" if torch.cuda.is_available() else \"cpu\"\n",
        "print(device)"
      ],
      "metadata": {
        "colab": {
          "base_uri": "https://localhost:8080/"
        },
        "id": "dPOyq7dZbgNA",
        "outputId": "2594f149-afca-4da6-e61f-a6fd15cbfdbe"
      },
      "execution_count": 2,
      "outputs": [
        {
          "output_type": "stream",
          "name": "stdout",
          "text": [
            "cuda\n"
          ]
        }
      ]
    },
    {
      "cell_type": "code",
      "source": [
        "model = ViTForImageClassification.from_pretrained(f\"/content/Model/Models-Train-14/checkpoint-63000\").to(device)\n",
        "image_processor = ViTImageProcessor.from_pretrained(f\"/content/Model/Models-Train-14/checkpoint-63000\")"
      ],
      "metadata": {
        "colab": {
          "base_uri": "https://localhost:8080/"
        },
        "id": "S-XQj67uRnpo",
        "outputId": "d23ca248-3943-4049-f10a-f60dacebdfe6"
      },
      "execution_count": 3,
      "outputs": [
        {
          "output_type": "stream",
          "name": "stderr",
          "text": [
            "loading configuration file /content/Model/Models-Train-14/checkpoint-63000/config.json\n",
            "Model config ViTConfig {\n",
            "  \"_name_or_path\": \"/content/Model/Models-Train-14/checkpoint-119000_f\",\n",
            "  \"architectures\": [\n",
            "    \"ViTForImageClassification\"\n",
            "  ],\n",
            "  \"attention_probs_dropout_prob\": 0.0,\n",
            "  \"encoder_stride\": 16,\n",
            "  \"hidden_act\": \"gelu\",\n",
            "  \"hidden_dropout_prob\": 0.0,\n",
            "  \"hidden_size\": 768,\n",
            "  \"id2label\": {\n",
            "    \"0\": \"apple_pie\",\n",
            "    \"1\": \"baby_back_ribs\",\n",
            "    \"2\": \"baklava\",\n",
            "    \"3\": \"beef_carpaccio\",\n",
            "    \"4\": \"beef_tartare\",\n",
            "    \"5\": \"beet_salad\",\n",
            "    \"6\": \"beignets\",\n",
            "    \"7\": \"bibimbap\",\n",
            "    \"8\": \"bread_pudding\",\n",
            "    \"9\": \"breakfast_burrito\",\n",
            "    \"10\": \"bruschetta\",\n",
            "    \"11\": \"caesar_salad\",\n",
            "    \"12\": \"cannoli\",\n",
            "    \"13\": \"caprese_salad\",\n",
            "    \"14\": \"carrot_cake\",\n",
            "    \"15\": \"ceviche\",\n",
            "    \"16\": \"cheese_plate\",\n",
            "    \"17\": \"cheesecake\",\n",
            "    \"18\": \"chicken_curry\",\n",
            "    \"19\": \"chicken_quesadilla\",\n",
            "    \"20\": \"chicken_wings\",\n",
            "    \"21\": \"chocolate_cake\",\n",
            "    \"22\": \"chocolate_mousse\",\n",
            "    \"23\": \"churros\",\n",
            "    \"24\": \"clam_chowder\",\n",
            "    \"25\": \"club_sandwich\",\n",
            "    \"26\": \"crab_cakes\",\n",
            "    \"27\": \"creme_brulee\",\n",
            "    \"28\": \"croque_madame\",\n",
            "    \"29\": \"cup_cakes\",\n",
            "    \"30\": \"deviled_eggs\",\n",
            "    \"31\": \"donuts\",\n",
            "    \"32\": \"dumplings\",\n",
            "    \"33\": \"edamame\",\n",
            "    \"34\": \"eggs_benedict\",\n",
            "    \"35\": \"escargots\",\n",
            "    \"36\": \"falafel\",\n",
            "    \"37\": \"filet_mignon\",\n",
            "    \"38\": \"fish_and_chips\",\n",
            "    \"39\": \"foie_gras\",\n",
            "    \"40\": \"french_fries\",\n",
            "    \"41\": \"french_onion_soup\",\n",
            "    \"42\": \"french_toast\",\n",
            "    \"43\": \"fried_calamari\",\n",
            "    \"44\": \"fried_rice\",\n",
            "    \"45\": \"frozen_yogurt\",\n",
            "    \"46\": \"garlic_bread\",\n",
            "    \"47\": \"gnocchi\",\n",
            "    \"48\": \"greek_salad\",\n",
            "    \"49\": \"grilled_cheese_sandwich\",\n",
            "    \"50\": \"grilled_salmon\",\n",
            "    \"51\": \"guacamole\",\n",
            "    \"52\": \"gyoza\",\n",
            "    \"53\": \"hamburger\",\n",
            "    \"54\": \"hot_and_sour_soup\",\n",
            "    \"55\": \"hot_dog\",\n",
            "    \"56\": \"huevos_rancheros\",\n",
            "    \"57\": \"hummus\",\n",
            "    \"58\": \"ice_cream\",\n",
            "    \"59\": \"lasagna\",\n",
            "    \"60\": \"lobster_bisque\",\n",
            "    \"61\": \"lobster_roll_sandwich\",\n",
            "    \"62\": \"macaroni_and_cheese\",\n",
            "    \"63\": \"macarons\",\n",
            "    \"64\": \"miso_soup\",\n",
            "    \"65\": \"mussels\",\n",
            "    \"66\": \"nachos\",\n",
            "    \"67\": \"omelette\",\n",
            "    \"68\": \"onion_rings\",\n",
            "    \"69\": \"oysters\",\n",
            "    \"70\": \"pad_thai\",\n",
            "    \"71\": \"paella\",\n",
            "    \"72\": \"pancakes\",\n",
            "    \"73\": \"panna_cotta\",\n",
            "    \"74\": \"peking_duck\",\n",
            "    \"75\": \"pho\",\n",
            "    \"76\": \"pizza\",\n",
            "    \"77\": \"pork_chop\",\n",
            "    \"78\": \"poutine\",\n",
            "    \"79\": \"prime_rib\",\n",
            "    \"80\": \"pulled_pork_sandwich\",\n",
            "    \"81\": \"ramen\",\n",
            "    \"82\": \"ravioli\",\n",
            "    \"83\": \"red_velvet_cake\",\n",
            "    \"84\": \"risotto\",\n",
            "    \"85\": \"samosa\",\n",
            "    \"86\": \"sashimi\",\n",
            "    \"87\": \"scallops\",\n",
            "    \"88\": \"seaweed_salad\",\n",
            "    \"89\": \"shrimp_and_grits\",\n",
            "    \"90\": \"spaghetti_bolognese\",\n",
            "    \"91\": \"spaghetti_carbonara\",\n",
            "    \"92\": \"spring_rolls\",\n",
            "    \"93\": \"steak\",\n",
            "    \"94\": \"strawberry_shortcake\",\n",
            "    \"95\": \"sushi\",\n",
            "    \"96\": \"tacos\",\n",
            "    \"97\": \"takoyaki\",\n",
            "    \"98\": \"tiramisu\",\n",
            "    \"99\": \"tuna_tartare\",\n",
            "    \"100\": \"waffles\"\n",
            "  },\n",
            "  \"image_size\": 224,\n",
            "  \"initializer_range\": 0.02,\n",
            "  \"intermediate_size\": 3072,\n",
            "  \"label2id\": {\n",
            "    \"apple_pie\": \"0\",\n",
            "    \"baby_back_ribs\": \"1\",\n",
            "    \"baklava\": \"2\",\n",
            "    \"beef_carpaccio\": \"3\",\n",
            "    \"beef_tartare\": \"4\",\n",
            "    \"beet_salad\": \"5\",\n",
            "    \"beignets\": \"6\",\n",
            "    \"bibimbap\": \"7\",\n",
            "    \"bread_pudding\": \"8\",\n",
            "    \"breakfast_burrito\": \"9\",\n",
            "    \"bruschetta\": \"10\",\n",
            "    \"caesar_salad\": \"11\",\n",
            "    \"cannoli\": \"12\",\n",
            "    \"caprese_salad\": \"13\",\n",
            "    \"carrot_cake\": \"14\",\n",
            "    \"ceviche\": \"15\",\n",
            "    \"cheese_plate\": \"16\",\n",
            "    \"cheesecake\": \"17\",\n",
            "    \"chicken_curry\": \"18\",\n",
            "    \"chicken_quesadilla\": \"19\",\n",
            "    \"chicken_wings\": \"20\",\n",
            "    \"chocolate_cake\": \"21\",\n",
            "    \"chocolate_mousse\": \"22\",\n",
            "    \"churros\": \"23\",\n",
            "    \"clam_chowder\": \"24\",\n",
            "    \"club_sandwich\": \"25\",\n",
            "    \"crab_cakes\": \"26\",\n",
            "    \"creme_brulee\": \"27\",\n",
            "    \"croque_madame\": \"28\",\n",
            "    \"cup_cakes\": \"29\",\n",
            "    \"deviled_eggs\": \"30\",\n",
            "    \"donuts\": \"31\",\n",
            "    \"dumplings\": \"32\",\n",
            "    \"edamame\": \"33\",\n",
            "    \"eggs_benedict\": \"34\",\n",
            "    \"escargots\": \"35\",\n",
            "    \"falafel\": \"36\",\n",
            "    \"filet_mignon\": \"37\",\n",
            "    \"fish_and_chips\": \"38\",\n",
            "    \"foie_gras\": \"39\",\n",
            "    \"french_fries\": \"40\",\n",
            "    \"french_onion_soup\": \"41\",\n",
            "    \"french_toast\": \"42\",\n",
            "    \"fried_calamari\": \"43\",\n",
            "    \"fried_rice\": \"44\",\n",
            "    \"frozen_yogurt\": \"45\",\n",
            "    \"garlic_bread\": \"46\",\n",
            "    \"gnocchi\": \"47\",\n",
            "    \"greek_salad\": \"48\",\n",
            "    \"grilled_cheese_sandwich\": \"49\",\n",
            "    \"grilled_salmon\": \"50\",\n",
            "    \"guacamole\": \"51\",\n",
            "    \"gyoza\": \"52\",\n",
            "    \"hamburger\": \"53\",\n",
            "    \"hot_and_sour_soup\": \"54\",\n",
            "    \"hot_dog\": \"55\",\n",
            "    \"huevos_rancheros\": \"56\",\n",
            "    \"hummus\": \"57\",\n",
            "    \"ice_cream\": \"58\",\n",
            "    \"lasagna\": \"59\",\n",
            "    \"lobster_bisque\": \"60\",\n",
            "    \"lobster_roll_sandwich\": \"61\",\n",
            "    \"macaroni_and_cheese\": \"62\",\n",
            "    \"macarons\": \"63\",\n",
            "    \"miso_soup\": \"64\",\n",
            "    \"mussels\": \"65\",\n",
            "    \"nachos\": \"66\",\n",
            "    \"omelette\": \"67\",\n",
            "    \"onion_rings\": \"68\",\n",
            "    \"oysters\": \"69\",\n",
            "    \"pad_thai\": \"70\",\n",
            "    \"paella\": \"71\",\n",
            "    \"pancakes\": \"72\",\n",
            "    \"panna_cotta\": \"73\",\n",
            "    \"peking_duck\": \"74\",\n",
            "    \"pho\": \"75\",\n",
            "    \"pizza\": \"76\",\n",
            "    \"pork_chop\": \"77\",\n",
            "    \"poutine\": \"78\",\n",
            "    \"prime_rib\": \"79\",\n",
            "    \"pulled_pork_sandwich\": \"80\",\n",
            "    \"ramen\": \"81\",\n",
            "    \"ravioli\": \"82\",\n",
            "    \"red_velvet_cake\": \"83\",\n",
            "    \"risotto\": \"84\",\n",
            "    \"samosa\": \"85\",\n",
            "    \"sashimi\": \"86\",\n",
            "    \"scallops\": \"87\",\n",
            "    \"seaweed_salad\": \"88\",\n",
            "    \"shrimp_and_grits\": \"89\",\n",
            "    \"spaghetti_bolognese\": \"90\",\n",
            "    \"spaghetti_carbonara\": \"91\",\n",
            "    \"spring_rolls\": \"92\",\n",
            "    \"steak\": \"93\",\n",
            "    \"strawberry_shortcake\": \"94\",\n",
            "    \"sushi\": \"95\",\n",
            "    \"tacos\": \"96\",\n",
            "    \"takoyaki\": \"97\",\n",
            "    \"tiramisu\": \"98\",\n",
            "    \"tuna_tartare\": \"99\",\n",
            "    \"waffles\": \"100\"\n",
            "  },\n",
            "  \"layer_norm_eps\": 1e-12,\n",
            "  \"model_type\": \"vit\",\n",
            "  \"num_attention_heads\": 12,\n",
            "  \"num_channels\": 3,\n",
            "  \"num_hidden_layers\": 12,\n",
            "  \"patch_size\": 16,\n",
            "  \"problem_type\": \"single_label_classification\",\n",
            "  \"qkv_bias\": true,\n",
            "  \"torch_dtype\": \"float32\",\n",
            "  \"transformers_version\": \"4.32.1\"\n",
            "}\n",
            "\n",
            "loading weights file /content/Model/Models-Train-14/checkpoint-63000/pytorch_model.bin\n",
            "All model checkpoint weights were used when initializing ViTForImageClassification.\n",
            "\n",
            "All the weights of ViTForImageClassification were initialized from the model checkpoint at /content/Model/Models-Train-14/checkpoint-63000.\n",
            "If your task is similar to the task the model of the checkpoint was trained on, you can already use ViTForImageClassification for predictions without further training.\n",
            "loading configuration file /content/Model/Models-Train-14/checkpoint-63000/preprocessor_config.json\n",
            "Image processor ViTImageProcessor {\n",
            "  \"do_normalize\": true,\n",
            "  \"do_rescale\": true,\n",
            "  \"do_resize\": true,\n",
            "  \"image_mean\": [\n",
            "    0.5,\n",
            "    0.5,\n",
            "    0.5\n",
            "  ],\n",
            "  \"image_processor_type\": \"ViTImageProcessor\",\n",
            "  \"image_std\": [\n",
            "    0.5,\n",
            "    0.5,\n",
            "    0.5\n",
            "  ],\n",
            "  \"resample\": 2,\n",
            "  \"rescale_factor\": 0.00392156862745098,\n",
            "  \"size\": {\n",
            "    \"height\": 224,\n",
            "    \"width\": 224\n",
            "  }\n",
            "}\n",
            "\n"
          ]
        }
      ]
    },
    {
      "cell_type": "markdown",
      "source": [
        "# Standard Experiment"
      ],
      "metadata": {
        "id": "YDcxpk7uWLbk"
      }
    },
    {
      "cell_type": "code",
      "source": [
        "from datasets import load_dataset\n",
        "\n",
        "ds = load_dataset(\"imagefolder\", data_dir=\"/content/Dataset(s)/fused-food-101-test\", split=\"train\")"
      ],
      "metadata": {
        "id": "l0qEQ73bRr2q"
      },
      "execution_count": null,
      "outputs": []
    },
    {
      "cell_type": "code",
      "source": [
        "ds"
      ],
      "metadata": {
        "id": "DhVQICV0Y3OT"
      },
      "execution_count": null,
      "outputs": []
    },
    {
      "cell_type": "markdown",
      "source": [
        "# 100% Missing Modality Experiment"
      ],
      "metadata": {
        "id": "tNSGzVxwT8id"
      }
    },
    {
      "cell_type": "code",
      "source": [
        "from datasets import load_dataset\n",
        "\n",
        "ds = load_dataset(\"imagefolder\", data_dir=\"/content/Dataset(s)/joint-food-101/test\", split=\"train\")"
      ],
      "metadata": {
        "colab": {
          "base_uri": "https://localhost:8080/",
          "height": 49,
          "referenced_widgets": [
            "55bcebd98309452ea845254fa6c53b46",
            "867082f8dc0d4fb0a237622825340353",
            "a7f756db209e4f24b320a4ee9f05d737",
            "ab9e87ddac0e4f91a251a414ad996016",
            "353c86d2618247e1b0fd31c9f343b977",
            "0186ec06705641498175de757770df01",
            "a41cabe9bec24a65a14b5ca955bd31d6",
            "e68935713c7a46fd83453b9b450a27a0",
            "f6fa540f04f7422d9bcfaf9ffbcc033b",
            "2587bf6b81954dec9c36ce959c069b95",
            "5e4d58bc704842cb87e5436642229ff7"
          ]
        },
        "id": "9t3tUjEOobHx",
        "outputId": "85bf7b37-9917-41d1-bf68-e06a4cc0b7d4"
      },
      "execution_count": 4,
      "outputs": [
        {
          "output_type": "display_data",
          "data": {
            "text/plain": [
              "Resolving data files:   0%|          | 0/45432 [00:00<?, ?it/s]"
            ],
            "application/vnd.jupyter.widget-view+json": {
              "version_major": 2,
              "version_minor": 0,
              "model_id": "55bcebd98309452ea845254fa6c53b46"
            }
          },
          "metadata": {}
        }
      ]
    },
    {
      "cell_type": "code",
      "source": [
        "ds"
      ],
      "metadata": {
        "colab": {
          "base_uri": "https://localhost:8080/"
        },
        "id": "2a8txJ5noazk",
        "outputId": "1e0b885e-7bd6-4676-d99f-02d9cd182c8f"
      },
      "execution_count": 5,
      "outputs": [
        {
          "output_type": "execute_result",
          "data": {
            "text/plain": [
              "Dataset({\n",
              "    features: ['image', 'label'],\n",
              "    num_rows: 45432\n",
              "})"
            ]
          },
          "metadata": {},
          "execution_count": 5
        }
      ]
    },
    {
      "cell_type": "code",
      "source": [
        "# Use _3.png for Filtering out Encoded Images\n",
        "# Use _4.png for Filtering out Just Images\n",
        "\n",
        "import os\n",
        "def filter_funtion(example):\n",
        "    img = example[\"image\"]\n",
        "    filename = os.path.basename(img.filename)\n",
        "\n",
        "    return filename.endswith(\"_3.png\")"
      ],
      "metadata": {
        "id": "tmA7PAcIRsLs"
      },
      "execution_count": 6,
      "outputs": []
    },
    {
      "cell_type": "code",
      "source": [
        "ds = ds.filter(filter_funtion)"
      ],
      "metadata": {
        "id": "Cg2lXK6iRshv"
      },
      "execution_count": 7,
      "outputs": []
    },
    {
      "cell_type": "code",
      "source": [
        "ds"
      ],
      "metadata": {
        "id": "54yCsBF3dY-1",
        "colab": {
          "base_uri": "https://localhost:8080/"
        },
        "outputId": "eea7b9b4-ba03-4e17-9210-42f10f7f0df6"
      },
      "execution_count": 8,
      "outputs": [
        {
          "output_type": "execute_result",
          "data": {
            "text/plain": [
              "Dataset({\n",
              "    features: ['image', 'label'],\n",
              "    num_rows: 22716\n",
              "})"
            ]
          },
          "metadata": {},
          "execution_count": 8
        }
      ]
    },
    {
      "cell_type": "code",
      "source": [
        "for i in range(0,150):\n",
        "    sample = ds[i]\n",
        "    img = sample[\"image\"]\n",
        "    filename = os.path.basename(img.filename)\n",
        "    print(f\"File Name: {filename}\")"
      ],
      "metadata": {
        "id": "TZkE_GLwbpPP",
        "colab": {
          "base_uri": "https://localhost:8080/"
        },
        "outputId": "77d1318b-f634-439a-bd56-4171d4f2bec7"
      },
      "execution_count": 9,
      "outputs": [
        {
          "output_type": "stream",
          "name": "stdout",
          "text": [
            "File Name: apple_pie_1.jpg_3.png\n",
            "File Name: apple_pie_10.jpg_3.png\n",
            "File Name: apple_pie_103.jpg_3.png\n",
            "File Name: apple_pie_105.jpg_3.png\n",
            "File Name: apple_pie_107.jpg_3.png\n",
            "File Name: apple_pie_119.jpg_3.png\n",
            "File Name: apple_pie_12.jpg_3.png\n",
            "File Name: apple_pie_123.jpg_3.png\n",
            "File Name: apple_pie_124.jpg_3.png\n",
            "File Name: apple_pie_132.jpg_3.png\n",
            "File Name: apple_pie_135.jpg_3.png\n",
            "File Name: apple_pie_139.jpg_3.png\n",
            "File Name: apple_pie_143.jpg_3.png\n",
            "File Name: apple_pie_147.jpg_3.png\n",
            "File Name: apple_pie_150.jpg_3.png\n",
            "File Name: apple_pie_154.jpg_3.png\n",
            "File Name: apple_pie_156.jpg_3.png\n",
            "File Name: apple_pie_157.jpg_3.png\n",
            "File Name: apple_pie_168.jpg_3.png\n",
            "File Name: apple_pie_170.jpg_3.png\n",
            "File Name: apple_pie_173.jpg_3.png\n",
            "File Name: apple_pie_175.jpg_3.png\n",
            "File Name: apple_pie_18.jpg_3.png\n",
            "File Name: apple_pie_183.jpg_3.png\n",
            "File Name: apple_pie_189.jpg_3.png\n",
            "File Name: apple_pie_190.jpg_3.png\n",
            "File Name: apple_pie_191.jpg_3.png\n",
            "File Name: apple_pie_192.jpg_3.png\n",
            "File Name: apple_pie_198.jpg_3.png\n",
            "File Name: apple_pie_2.jpg_3.png\n",
            "File Name: apple_pie_203.jpg_3.png\n",
            "File Name: apple_pie_205.jpg_3.png\n",
            "File Name: apple_pie_214.jpg_3.png\n",
            "File Name: apple_pie_217.jpg_3.png\n",
            "File Name: apple_pie_219.jpg_3.png\n",
            "File Name: apple_pie_222.jpg_3.png\n",
            "File Name: apple_pie_223.jpg_3.png\n",
            "File Name: apple_pie_23.jpg_3.png\n",
            "File Name: apple_pie_239.jpg_3.png\n",
            "File Name: apple_pie_246.jpg_3.png\n",
            "File Name: apple_pie_250.jpg_3.png\n",
            "File Name: apple_pie_252.jpg_3.png\n",
            "File Name: apple_pie_254.jpg_3.png\n",
            "File Name: apple_pie_255.jpg_3.png\n",
            "File Name: apple_pie_259.jpg_3.png\n",
            "File Name: apple_pie_262.jpg_3.png\n",
            "File Name: apple_pie_263.jpg_3.png\n",
            "File Name: apple_pie_264.jpg_3.png\n",
            "File Name: apple_pie_265.jpg_3.png\n",
            "File Name: apple_pie_267.jpg_3.png\n",
            "File Name: apple_pie_281.jpg_3.png\n",
            "File Name: apple_pie_291.jpg_3.png\n",
            "File Name: apple_pie_292.jpg_3.png\n",
            "File Name: apple_pie_298.jpg_3.png\n",
            "File Name: apple_pie_301.jpg_3.png\n",
            "File Name: apple_pie_302.jpg_3.png\n",
            "File Name: apple_pie_305.jpg_3.png\n",
            "File Name: apple_pie_309.jpg_3.png\n",
            "File Name: apple_pie_324.jpg_3.png\n",
            "File Name: apple_pie_333.jpg_3.png\n",
            "File Name: apple_pie_336.jpg_3.png\n",
            "File Name: apple_pie_34.jpg_3.png\n",
            "File Name: apple_pie_349.jpg_3.png\n",
            "File Name: apple_pie_350.jpg_3.png\n",
            "File Name: apple_pie_351.jpg_3.png\n",
            "File Name: apple_pie_353.jpg_3.png\n",
            "File Name: apple_pie_354.jpg_3.png\n",
            "File Name: apple_pie_357.jpg_3.png\n",
            "File Name: apple_pie_358.jpg_3.png\n",
            "File Name: apple_pie_366.jpg_3.png\n",
            "File Name: apple_pie_369.jpg_3.png\n",
            "File Name: apple_pie_378.jpg_3.png\n",
            "File Name: apple_pie_38.jpg_3.png\n",
            "File Name: apple_pie_380.jpg_3.png\n",
            "File Name: apple_pie_384.jpg_3.png\n",
            "File Name: apple_pie_385.jpg_3.png\n",
            "File Name: apple_pie_388.jpg_3.png\n",
            "File Name: apple_pie_391.jpg_3.png\n",
            "File Name: apple_pie_394.jpg_3.png\n",
            "File Name: apple_pie_399.jpg_3.png\n",
            "File Name: apple_pie_400.jpg_3.png\n",
            "File Name: apple_pie_402.jpg_3.png\n",
            "File Name: apple_pie_412.jpg_3.png\n",
            "File Name: apple_pie_420.jpg_3.png\n",
            "File Name: apple_pie_424.jpg_3.png\n",
            "File Name: apple_pie_437.jpg_3.png\n",
            "File Name: apple_pie_438.jpg_3.png\n",
            "File Name: apple_pie_445.jpg_3.png\n",
            "File Name: apple_pie_447.jpg_3.png\n",
            "File Name: apple_pie_45.jpg_3.png\n",
            "File Name: apple_pie_455.jpg_3.png\n",
            "File Name: apple_pie_457.jpg_3.png\n",
            "File Name: apple_pie_459.jpg_3.png\n",
            "File Name: apple_pie_463.jpg_3.png\n",
            "File Name: apple_pie_467.jpg_3.png\n",
            "File Name: apple_pie_473.jpg_3.png\n",
            "File Name: apple_pie_476.jpg_3.png\n",
            "File Name: apple_pie_481.jpg_3.png\n",
            "File Name: apple_pie_483.jpg_3.png\n",
            "File Name: apple_pie_489.jpg_3.png\n",
            "File Name: apple_pie_490.jpg_3.png\n",
            "File Name: apple_pie_5.jpg_3.png\n",
            "File Name: apple_pie_501.jpg_3.png\n",
            "File Name: apple_pie_503.jpg_3.png\n",
            "File Name: apple_pie_504.jpg_3.png\n",
            "File Name: apple_pie_508.jpg_3.png\n",
            "File Name: apple_pie_512.jpg_3.png\n",
            "File Name: apple_pie_513.jpg_3.png\n",
            "File Name: apple_pie_514.jpg_3.png\n",
            "File Name: apple_pie_519.jpg_3.png\n",
            "File Name: apple_pie_52.jpg_3.png\n",
            "File Name: apple_pie_520.jpg_3.png\n",
            "File Name: apple_pie_524.jpg_3.png\n",
            "File Name: apple_pie_526.jpg_3.png\n",
            "File Name: apple_pie_529.jpg_3.png\n",
            "File Name: apple_pie_53.jpg_3.png\n",
            "File Name: apple_pie_530.jpg_3.png\n",
            "File Name: apple_pie_536.jpg_3.png\n",
            "File Name: apple_pie_54.jpg_3.png\n",
            "File Name: apple_pie_541.jpg_3.png\n",
            "File Name: apple_pie_542.jpg_3.png\n",
            "File Name: apple_pie_549.jpg_3.png\n",
            "File Name: apple_pie_550.jpg_3.png\n",
            "File Name: apple_pie_551.jpg_3.png\n",
            "File Name: apple_pie_552.jpg_3.png\n",
            "File Name: apple_pie_554.jpg_3.png\n",
            "File Name: apple_pie_555.jpg_3.png\n",
            "File Name: apple_pie_556.jpg_3.png\n",
            "File Name: apple_pie_557.jpg_3.png\n",
            "File Name: apple_pie_559.jpg_3.png\n",
            "File Name: apple_pie_560.jpg_3.png\n",
            "File Name: apple_pie_564.jpg_3.png\n",
            "File Name: apple_pie_565.jpg_3.png\n",
            "File Name: apple_pie_566.jpg_3.png\n",
            "File Name: apple_pie_567.jpg_3.png\n",
            "File Name: apple_pie_569.jpg_3.png\n",
            "File Name: apple_pie_570.jpg_3.png\n",
            "File Name: apple_pie_576.jpg_3.png\n",
            "File Name: apple_pie_58.jpg_3.png\n",
            "File Name: apple_pie_580.jpg_3.png\n",
            "File Name: apple_pie_586.jpg_3.png\n",
            "File Name: apple_pie_587.jpg_3.png\n",
            "File Name: apple_pie_59.jpg_3.png\n",
            "File Name: apple_pie_596.jpg_3.png\n",
            "File Name: apple_pie_597.jpg_3.png\n",
            "File Name: apple_pie_615.jpg_3.png\n",
            "File Name: apple_pie_62.jpg_3.png\n",
            "File Name: apple_pie_620.jpg_3.png\n",
            "File Name: apple_pie_629.jpg_3.png\n",
            "File Name: apple_pie_631.jpg_3.png\n"
          ]
        }
      ]
    },
    {
      "cell_type": "markdown",
      "source": [
        "# Partial Missing Modality Experiment"
      ],
      "metadata": {
        "id": "T4MxEdN6Z3-w"
      }
    },
    {
      "cell_type": "code",
      "source": [
        "from datasets import load_dataset\n",
        "from datasets import concatenate_datasets"
      ],
      "metadata": {
        "id": "MZqABTvOSOge"
      },
      "execution_count": null,
      "outputs": []
    },
    {
      "cell_type": "code",
      "source": [
        "# Load the Fused Dataset\n",
        "ds_f = load_dataset(\"imagefolder\", data_dir=\"/content/Dataset(s)/fused-food-101-test\", split=\"train\")"
      ],
      "metadata": {
        "id": "JCHbZm-9Z4g-"
      },
      "execution_count": null,
      "outputs": []
    },
    {
      "cell_type": "code",
      "source": [
        "ds_f"
      ],
      "metadata": {
        "id": "NIGDiWC5bdlG"
      },
      "execution_count": null,
      "outputs": []
    },
    {
      "cell_type": "code",
      "source": [
        "# Desired Percentage = Total - Missing\n",
        "import math\n",
        "desired_percentage = 0.7"
      ],
      "metadata": {
        "id": "NHvNJixxiWbG"
      },
      "execution_count": null,
      "outputs": []
    },
    {
      "cell_type": "code",
      "source": [
        "from collections import Counter\n",
        "\n",
        "class_counts = Counter(ds_f['label'])\n",
        "print(class_counts)"
      ],
      "metadata": {
        "id": "baC1KaBJedyb"
      },
      "execution_count": null,
      "outputs": []
    },
    {
      "cell_type": "code",
      "source": [
        "selected_indices = {label: [] for label in class_counts.keys()}\n",
        "print(selected_indices)"
      ],
      "metadata": {
        "id": "xaOkLcbQhoMu"
      },
      "execution_count": null,
      "outputs": []
    },
    {
      "cell_type": "code",
      "source": [
        "# Iterate through the dataset to select indices for each class\n",
        "for i, label in enumerate(ds_f[\"label\"]):\n",
        "    if len(selected_indices[label]) < math.ceil(class_counts[label] * desired_percentage):\n",
        "        selected_indices[label].append(i)"
      ],
      "metadata": {
        "id": "WrsfQ_XIiAdj"
      },
      "execution_count": null,
      "outputs": []
    },
    {
      "cell_type": "code",
      "source": [
        "# selected_indices"
      ],
      "metadata": {
        "id": "GYovdX5niN8W"
      },
      "execution_count": null,
      "outputs": []
    },
    {
      "cell_type": "code",
      "source": [
        "# Flatten the selected indices list\n",
        "selected_indices = [idx for indices in selected_indices.values() for idx in indices]"
      ],
      "metadata": {
        "id": "CRZN72hmiAwd"
      },
      "execution_count": null,
      "outputs": []
    },
    {
      "cell_type": "code",
      "source": [
        "# selected_indices"
      ],
      "metadata": {
        "id": "gTieKxZtijB4"
      },
      "execution_count": null,
      "outputs": []
    },
    {
      "cell_type": "code",
      "source": [
        "# Filter the dataset to select the desired samples\n",
        "fused_ds = ds_f.select(selected_indices)"
      ],
      "metadata": {
        "id": "thqg4To-ijJj"
      },
      "execution_count": null,
      "outputs": []
    },
    {
      "cell_type": "code",
      "source": [
        "fused_ds"
      ],
      "metadata": {
        "id": "Xn7s-OsOikD7"
      },
      "execution_count": null,
      "outputs": []
    },
    {
      "cell_type": "code",
      "source": [],
      "metadata": {
        "id": "i6xM19xBQxDU"
      },
      "execution_count": null,
      "outputs": []
    },
    {
      "cell_type": "code",
      "source": [
        "# Load the Joint Dataset and Filter out Just the Images\n",
        "ds_joint = load_dataset(\"imagefolder\", data_dir=\"/content/Dataset(s)/joint-food-101/test\", split=\"train\")"
      ],
      "metadata": {
        "id": "sT6AjXHbZ_yQ"
      },
      "execution_count": null,
      "outputs": []
    },
    {
      "cell_type": "code",
      "source": [
        "# Use _4.png for Filtering out Just Images\n",
        "\n",
        "import os\n",
        "def filter_funtion(example):\n",
        "    img = example[\"image\"]\n",
        "    filename = os.path.basename(img.filename)\n",
        "\n",
        "    return filename.endswith(\"_4.png\")"
      ],
      "metadata": {
        "id": "mHZVYTkLXR0S"
      },
      "execution_count": null,
      "outputs": []
    },
    {
      "cell_type": "code",
      "source": [
        "ds_imgs = ds_joint.filter(filter_funtion)"
      ],
      "metadata": {
        "id": "VUKkW-RpXXAA"
      },
      "execution_count": null,
      "outputs": []
    },
    {
      "cell_type": "code",
      "source": [
        "ds_imgs"
      ],
      "metadata": {
        "id": "O2Z_OK3Abf5Z"
      },
      "execution_count": null,
      "outputs": []
    },
    {
      "cell_type": "code",
      "source": [
        "# for i in range(10,100):\n",
        "#     sample = ds_imgs[i]\n",
        "#     img = sample[\"image\"]\n",
        "#     filename = os.path.basename(img.filename)\n",
        "#     print(f\"File Name: {filename}\")"
      ],
      "metadata": {
        "id": "LI8vGBBvXjE6"
      },
      "execution_count": null,
      "outputs": []
    },
    {
      "cell_type": "code",
      "source": [
        "all_indices = range(len(ds_imgs))\n",
        "print(all_indices)"
      ],
      "metadata": {
        "id": "BUMZ6PnAlDII"
      },
      "execution_count": null,
      "outputs": []
    },
    {
      "cell_type": "code",
      "source": [
        "remaining_indices = [idx for idx in all_indices if idx not in selected_indices]"
      ],
      "metadata": {
        "id": "ua1ndJDRlEHq"
      },
      "execution_count": null,
      "outputs": []
    },
    {
      "cell_type": "code",
      "source": [
        "# remaining_indices"
      ],
      "metadata": {
        "id": "2Ow4V9M4mYc0"
      },
      "execution_count": null,
      "outputs": []
    },
    {
      "cell_type": "code",
      "source": [
        "missing_ds = ds_imgs.select(remaining_indices)"
      ],
      "metadata": {
        "id": "4CclYb-QlEaf"
      },
      "execution_count": null,
      "outputs": []
    },
    {
      "cell_type": "code",
      "source": [
        "missing_ds"
      ],
      "metadata": {
        "id": "nc4qLVlOlDbW"
      },
      "execution_count": null,
      "outputs": []
    },
    {
      "cell_type": "code",
      "source": [],
      "metadata": {
        "id": "EovV49T4lchq"
      },
      "execution_count": null,
      "outputs": []
    },
    {
      "cell_type": "code",
      "source": [
        "# Combine Both Datasets"
      ],
      "metadata": {
        "id": "M_V9NRBjVDyj"
      },
      "execution_count": null,
      "outputs": []
    },
    {
      "cell_type": "code",
      "source": [
        "ds = concatenate_datasets([fused_ds, missing_ds])"
      ],
      "metadata": {
        "id": "hcI42LE0SxJK"
      },
      "execution_count": null,
      "outputs": []
    },
    {
      "cell_type": "code",
      "source": [
        "ds"
      ],
      "metadata": {
        "id": "RdXZ8N_mTlp2"
      },
      "execution_count": null,
      "outputs": []
    },
    {
      "cell_type": "markdown",
      "source": [
        "# Pre-Processing and Validation Loop"
      ],
      "metadata": {
        "id": "owny-Ab5UDeL"
      }
    },
    {
      "cell_type": "code",
      "source": [
        "labels = ds.features[\"label\"]\n",
        "labels"
      ],
      "metadata": {
        "colab": {
          "base_uri": "https://localhost:8080/"
        },
        "id": "aWw9vz58Rswv",
        "outputId": "40d6c465-393c-4c9f-d572-1a3e96bcd22f"
      },
      "execution_count": 10,
      "outputs": [
        {
          "output_type": "execute_result",
          "data": {
            "text/plain": [
              "ClassLabel(names=['apple_pie', 'baby_back_ribs', 'baklava', 'beef_carpaccio', 'beef_tartare', 'beet_salad', 'beignets', 'bibimbap', 'bread_pudding', 'breakfast_burrito', 'bruschetta', 'caesar_salad', 'cannoli', 'caprese_salad', 'carrot_cake', 'ceviche', 'cheese_plate', 'cheesecake', 'chicken_curry', 'chicken_quesadilla', 'chicken_wings', 'chocolate_cake', 'chocolate_mousse', 'churros', 'clam_chowder', 'club_sandwich', 'crab_cakes', 'creme_brulee', 'croque_madame', 'cup_cakes', 'deviled_eggs', 'donuts', 'dumplings', 'edamame', 'eggs_benedict', 'escargots', 'falafel', 'filet_mignon', 'fish_and_chips', 'foie_gras', 'french_fries', 'french_onion_soup', 'french_toast', 'fried_calamari', 'fried_rice', 'frozen_yogurt', 'garlic_bread', 'gnocchi', 'greek_salad', 'grilled_cheese_sandwich', 'grilled_salmon', 'guacamole', 'gyoza', 'hamburger', 'hot_and_sour_soup', 'hot_dog', 'huevos_rancheros', 'hummus', 'ice_cream', 'lasagna', 'lobster_bisque', 'lobster_roll_sandwich', 'macaroni_and_cheese', 'macarons', 'miso_soup', 'mussels', 'nachos', 'omelette', 'onion_rings', 'oysters', 'pad_thai', 'paella', 'pancakes', 'panna_cotta', 'peking_duck', 'pho', 'pizza', 'pork_chop', 'poutine', 'prime_rib', 'pulled_pork_sandwich', 'ramen', 'ravioli', 'red_velvet_cake', 'risotto', 'samosa', 'sashimi', 'scallops', 'seaweed_salad', 'shrimp_and_grits', 'spaghetti_bolognese', 'spaghetti_carbonara', 'spring_rolls', 'steak', 'strawberry_shortcake', 'sushi', 'tacos', 'takoyaki', 'tiramisu', 'tuna_tartare', 'waffles'], id=None)"
            ]
          },
          "metadata": {},
          "execution_count": 10
        }
      ]
    },
    {
      "cell_type": "code",
      "source": [
        "labels.int2str(ds[532][\"label\"])"
      ],
      "metadata": {
        "colab": {
          "base_uri": "https://localhost:8080/",
          "height": 36
        },
        "id": "Pcsmrr7CRs2U",
        "outputId": "9081bb5c-19ab-4679-a930-3adbdd92f9c3"
      },
      "execution_count": 11,
      "outputs": [
        {
          "output_type": "execute_result",
          "data": {
            "text/plain": [
              "'baklava'"
            ],
            "application/vnd.google.colaboratory.intrinsic+json": {
              "type": "string"
            }
          },
          "metadata": {},
          "execution_count": 11
        }
      ]
    },
    {
      "cell_type": "code",
      "source": [
        "def transform(examples):\n",
        "  inputs = image_processor([img.convert(\"RGB\") for img in examples[\"image\"]], return_tensors=\"pt\")\n",
        "  inputs[\"labels\"] = examples[\"label\"]\n",
        "\n",
        "  return inputs"
      ],
      "metadata": {
        "id": "d53u7d5wSFTK"
      },
      "execution_count": 12,
      "outputs": []
    },
    {
      "cell_type": "code",
      "source": [
        "dataset = ds.with_transform(transform)"
      ],
      "metadata": {
        "id": "INvdn194SKrH"
      },
      "execution_count": 13,
      "outputs": []
    },
    {
      "cell_type": "code",
      "source": [
        "dataset"
      ],
      "metadata": {
        "colab": {
          "base_uri": "https://localhost:8080/"
        },
        "id": "81wgIvz4jnY8",
        "outputId": "90f30189-8147-427d-b40c-3e24db301c74"
      },
      "execution_count": 14,
      "outputs": [
        {
          "output_type": "execute_result",
          "data": {
            "text/plain": [
              "Dataset({\n",
              "    features: ['image', 'label'],\n",
              "    num_rows: 22716\n",
              "})"
            ]
          },
          "metadata": {},
          "execution_count": 14
        }
      ]
    },
    {
      "cell_type": "code",
      "source": [
        "for item in dataset:\n",
        "  print(item[\"pixel_values\"].shape)\n",
        "  print(item[\"labels\"])\n",
        "  break"
      ],
      "metadata": {
        "colab": {
          "base_uri": "https://localhost:8080/"
        },
        "id": "xUKMYB72SKy6",
        "outputId": "f9e01681-7a8c-4a34-b7ac-22a25351e7e5"
      },
      "execution_count": 15,
      "outputs": [
        {
          "output_type": "stream",
          "name": "stdout",
          "text": [
            "torch.Size([3, 224, 224])\n",
            "0\n"
          ]
        }
      ]
    },
    {
      "cell_type": "code",
      "source": [
        "labels = ds.features[\"label\"].names\n",
        "labels"
      ],
      "metadata": {
        "colab": {
          "base_uri": "https://localhost:8080/"
        },
        "id": "qSCm8qtpSK39",
        "outputId": "89ef41a0-2719-499d-e4d2-65a681a1ca02"
      },
      "execution_count": 16,
      "outputs": [
        {
          "output_type": "execute_result",
          "data": {
            "text/plain": [
              "['apple_pie',\n",
              " 'baby_back_ribs',\n",
              " 'baklava',\n",
              " 'beef_carpaccio',\n",
              " 'beef_tartare',\n",
              " 'beet_salad',\n",
              " 'beignets',\n",
              " 'bibimbap',\n",
              " 'bread_pudding',\n",
              " 'breakfast_burrito',\n",
              " 'bruschetta',\n",
              " 'caesar_salad',\n",
              " 'cannoli',\n",
              " 'caprese_salad',\n",
              " 'carrot_cake',\n",
              " 'ceviche',\n",
              " 'cheese_plate',\n",
              " 'cheesecake',\n",
              " 'chicken_curry',\n",
              " 'chicken_quesadilla',\n",
              " 'chicken_wings',\n",
              " 'chocolate_cake',\n",
              " 'chocolate_mousse',\n",
              " 'churros',\n",
              " 'clam_chowder',\n",
              " 'club_sandwich',\n",
              " 'crab_cakes',\n",
              " 'creme_brulee',\n",
              " 'croque_madame',\n",
              " 'cup_cakes',\n",
              " 'deviled_eggs',\n",
              " 'donuts',\n",
              " 'dumplings',\n",
              " 'edamame',\n",
              " 'eggs_benedict',\n",
              " 'escargots',\n",
              " 'falafel',\n",
              " 'filet_mignon',\n",
              " 'fish_and_chips',\n",
              " 'foie_gras',\n",
              " 'french_fries',\n",
              " 'french_onion_soup',\n",
              " 'french_toast',\n",
              " 'fried_calamari',\n",
              " 'fried_rice',\n",
              " 'frozen_yogurt',\n",
              " 'garlic_bread',\n",
              " 'gnocchi',\n",
              " 'greek_salad',\n",
              " 'grilled_cheese_sandwich',\n",
              " 'grilled_salmon',\n",
              " 'guacamole',\n",
              " 'gyoza',\n",
              " 'hamburger',\n",
              " 'hot_and_sour_soup',\n",
              " 'hot_dog',\n",
              " 'huevos_rancheros',\n",
              " 'hummus',\n",
              " 'ice_cream',\n",
              " 'lasagna',\n",
              " 'lobster_bisque',\n",
              " 'lobster_roll_sandwich',\n",
              " 'macaroni_and_cheese',\n",
              " 'macarons',\n",
              " 'miso_soup',\n",
              " 'mussels',\n",
              " 'nachos',\n",
              " 'omelette',\n",
              " 'onion_rings',\n",
              " 'oysters',\n",
              " 'pad_thai',\n",
              " 'paella',\n",
              " 'pancakes',\n",
              " 'panna_cotta',\n",
              " 'peking_duck',\n",
              " 'pho',\n",
              " 'pizza',\n",
              " 'pork_chop',\n",
              " 'poutine',\n",
              " 'prime_rib',\n",
              " 'pulled_pork_sandwich',\n",
              " 'ramen',\n",
              " 'ravioli',\n",
              " 'red_velvet_cake',\n",
              " 'risotto',\n",
              " 'samosa',\n",
              " 'sashimi',\n",
              " 'scallops',\n",
              " 'seaweed_salad',\n",
              " 'shrimp_and_grits',\n",
              " 'spaghetti_bolognese',\n",
              " 'spaghetti_carbonara',\n",
              " 'spring_rolls',\n",
              " 'steak',\n",
              " 'strawberry_shortcake',\n",
              " 'sushi',\n",
              " 'tacos',\n",
              " 'takoyaki',\n",
              " 'tiramisu',\n",
              " 'tuna_tartare',\n",
              " 'waffles']"
            ]
          },
          "metadata": {},
          "execution_count": 16
        }
      ]
    },
    {
      "cell_type": "code",
      "source": [
        "import torch\n",
        "\n",
        "def collate_fn(batch):\n",
        "  return {\n",
        "      \"pixel_values\": torch.stack([x[\"pixel_values\"] for x in batch]),\n",
        "      \"labels\": torch.tensor([x[\"labels\"] for x in batch]),\n",
        "  }"
      ],
      "metadata": {
        "id": "NLK2ZaNMSWeO"
      },
      "execution_count": 17,
      "outputs": []
    },
    {
      "cell_type": "code",
      "source": [
        "dataset"
      ],
      "metadata": {
        "colab": {
          "base_uri": "https://localhost:8080/"
        },
        "id": "fWGtz6DHSW_Z",
        "outputId": "4f717c3f-8cfa-4dc9-f408-e16b1855dff2"
      },
      "execution_count": 18,
      "outputs": [
        {
          "output_type": "execute_result",
          "data": {
            "text/plain": [
              "Dataset({\n",
              "    features: ['image', 'label'],\n",
              "    num_rows: 22716\n",
              "})"
            ]
          },
          "metadata": {},
          "execution_count": 18
        }
      ]
    },
    {
      "cell_type": "code",
      "source": [
        "from torch.utils.tensorboard import SummaryWriter\n",
        "from torch.optim import AdamW\n",
        "from torch.utils.data import DataLoader"
      ],
      "metadata": {
        "id": "JoC5e4rNSXG6"
      },
      "execution_count": 19,
      "outputs": []
    },
    {
      "cell_type": "code",
      "source": [
        "batch_size = 32"
      ],
      "metadata": {
        "id": "WHwCv8BNQy1Z"
      },
      "execution_count": 20,
      "outputs": []
    },
    {
      "cell_type": "code",
      "source": [
        "valid_dataset_loader = DataLoader(dataset, collate_fn=collate_fn, batch_size=batch_size, shuffle=False)"
      ],
      "metadata": {
        "id": "ksE7LXsjJHV1"
      },
      "execution_count": 21,
      "outputs": []
    },
    {
      "cell_type": "code",
      "source": [
        "model = model.to(device)\n",
        "model.eval()\n",
        "predictions, labels = [], []\n",
        "valid_loss = 0\n",
        "for batch in valid_dataset_loader:\n",
        "    pixel_values = batch[\"pixel_values\"].to(device)\n",
        "    label_ids = batch[\"labels\"].to(device)\n",
        "\n",
        "    outputs = model(pixel_values=pixel_values, labels=label_ids)\n",
        "\n",
        "    loss = outputs.loss\n",
        "    valid_loss += loss.item()\n",
        "\n",
        "    logits = outputs.logits.detach().cpu()\n",
        "\n",
        "    predictions.extend(logits.argmax(dim=-1).tolist())\n",
        "    labels.extend(label_ids.tolist())"
      ],
      "metadata": {
        "id": "Ds5lGgqNTCbT"
      },
      "execution_count": 22,
      "outputs": []
    },
    {
      "cell_type": "code",
      "source": [
        "from sklearn.metrics import accuracy_score, precision_score, recall_score, f1_score, roc_auc_score, confusion_matrix, classification_report\n",
        "\n",
        "accuracy = accuracy_score(labels, predictions)\n",
        "precision = precision_score(labels, predictions, average='weighted')\n",
        "recall = recall_score(labels, predictions, average='weighted')\n",
        "f1 = f1_score(labels, predictions, average='weighted')\n",
        "# AUROC_score = roc_auc_score(labels, predictions)"
      ],
      "metadata": {
        "id": "hXiw87_oSXVu",
        "colab": {
          "base_uri": "https://localhost:8080/"
        },
        "outputId": "4b9611dc-f43e-4f28-d68f-0787627ca715"
      },
      "execution_count": 23,
      "outputs": [
        {
          "output_type": "stream",
          "name": "stderr",
          "text": [
            "/usr/local/lib/python3.10/dist-packages/sklearn/metrics/_classification.py:1344: UndefinedMetricWarning: Precision is ill-defined and being set to 0.0 in labels with no predicted samples. Use `zero_division` parameter to control this behavior.\n",
            "  _warn_prf(average, modifier, msg_start, len(result))\n"
          ]
        }
      ]
    },
    {
      "cell_type": "code",
      "source": [
        "print(\"Accuracy: \", accuracy)\n",
        "print(\"precision: \", precision)\n",
        "print(\"f1_score: \", f1)\n",
        "# print(\"AUROC_score: \", AUROC_score)"
      ],
      "metadata": {
        "colab": {
          "base_uri": "https://localhost:8080/"
        },
        "id": "9bI8z4cdkY8V",
        "outputId": "4f146974-7203-41b9-ef4a-a45f1d379d95"
      },
      "execution_count": 24,
      "outputs": [
        {
          "output_type": "stream",
          "name": "stdout",
          "text": [
            "Accuracy:  0.5841697481951048\n",
            "precision:  0.8510781932302853\n",
            "f1_score:  0.6465732392733615\n"
          ]
        }
      ]
    },
    {
      "cell_type": "code",
      "source": [
        "print(classification_report(labels, predictions))"
      ],
      "metadata": {
        "colab": {
          "base_uri": "https://localhost:8080/"
        },
        "id": "CN74YVSNmi6C",
        "outputId": "cab10754-ffb0-4d42-8f23-8b0675f9d052"
      },
      "execution_count": 26,
      "outputs": [
        {
          "output_type": "stream",
          "name": "stdout",
          "text": [
            "              precision    recall  f1-score   support\n",
            "\n",
            "           0       0.81      0.87      0.84       234\n",
            "           1       0.78      0.76      0.77       221\n",
            "           2       0.99      0.42      0.59       226\n",
            "           3       0.65      0.50      0.57       222\n",
            "           4       0.78      0.29      0.42       225\n",
            "           5       0.51      0.57      0.54       224\n",
            "           6       0.96      0.56      0.71       224\n",
            "           7       0.82      0.70      0.75       225\n",
            "           8       0.67      0.91      0.77       226\n",
            "           9       0.98      0.50      0.67       214\n",
            "          10       0.96      0.39      0.55       231\n",
            "          11       0.98      0.45      0.62       227\n",
            "          12       0.82      0.81      0.81       230\n",
            "          13       0.98      0.64      0.77       220\n",
            "          14       0.83      0.76      0.80       231\n",
            "          15       0.94      0.85      0.89       227\n",
            "          16       0.97      0.12      0.22       224\n",
            "          17       1.00      0.21      0.34       233\n",
            "          18       0.97      0.61      0.75       222\n",
            "          19       0.99      0.54      0.70       220\n",
            "          20       0.97      0.28      0.44       219\n",
            "          21       0.96      0.41      0.57       232\n",
            "          22       0.98      0.89      0.93       224\n",
            "          23       0.99      0.69      0.81       230\n",
            "          24       0.86      0.78      0.82       224\n",
            "          25       0.93      0.76      0.84       220\n",
            "          26       0.98      0.41      0.58       221\n",
            "          27       0.10      0.71      0.17       225\n",
            "          28       0.94      0.57      0.71       224\n",
            "          29       0.84      0.43      0.57       228\n",
            "          30       0.97      0.70      0.82       229\n",
            "          31       0.84      0.57      0.68       232\n",
            "          32       0.96      0.65      0.78       228\n",
            "          33       1.00      0.01      0.02       231\n",
            "          34       0.74      0.76      0.75       213\n",
            "          35       0.98      0.75      0.85       202\n",
            "          36       0.94      0.78      0.85       228\n",
            "          37       0.96      0.53      0.68       212\n",
            "          38       0.54      0.63      0.58       208\n",
            "          39       0.89      0.65      0.75       216\n",
            "          40       0.99      0.66      0.79       212\n",
            "          41       0.82      0.70      0.75       223\n",
            "          42       0.95      0.68      0.80       238\n",
            "          43       0.95      0.57      0.71       212\n",
            "          44       0.96      0.59      0.73       229\n",
            "          45       0.87      0.92      0.90       233\n",
            "          46       1.00      0.22      0.36       224\n",
            "          47       0.92      0.79      0.85       234\n",
            "          48       0.97      0.49      0.65       223\n",
            "          49       0.92      0.15      0.26       229\n",
            "          50       0.98      0.60      0.74       225\n",
            "          51       1.00      0.43      0.60       228\n",
            "          52       0.99      0.72      0.84       232\n",
            "          53       0.97      0.64      0.77       233\n",
            "          54       0.86      0.82      0.84       203\n",
            "          55       0.97      0.49      0.65       234\n",
            "          56       0.99      0.80      0.89       223\n",
            "          57       0.94      0.87      0.90       234\n",
            "          58       0.89      0.93      0.91       232\n",
            "          59       1.00      0.12      0.21       233\n",
            "          60       0.98      0.61      0.75       197\n",
            "          61       0.04      0.95      0.07       215\n",
            "          62       0.93      0.81      0.86       238\n",
            "          63       0.81      0.86      0.83       231\n",
            "          64       0.91      0.62      0.74       227\n",
            "          65       1.00      0.06      0.11       234\n",
            "          66       0.97      0.76      0.85       224\n",
            "          67       0.66      0.21      0.32       231\n",
            "          68       0.72      0.76      0.74       217\n",
            "          69       0.75      0.55      0.63       223\n",
            "          70       0.91      0.60      0.72       230\n",
            "          71       1.00      0.04      0.08       228\n",
            "          72       0.88      0.03      0.06       234\n",
            "          73       0.96      0.88      0.92       225\n",
            "          74       0.93      0.47      0.62       211\n",
            "          75       0.91      0.56      0.70       218\n",
            "          76       0.62      0.25      0.35       235\n",
            "          77       0.96      0.73      0.83       227\n",
            "          78       0.00      0.00      0.00       210\n",
            "          79       0.90      0.80      0.85       220\n",
            "          80       0.77      0.65      0.70       224\n",
            "          81       0.91      0.83      0.87       232\n",
            "          82       0.97      0.62      0.76       236\n",
            "          83       0.81      0.81      0.81       227\n",
            "          84       0.53      0.79      0.64       236\n",
            "          85       0.74      0.79      0.76       215\n",
            "          86       0.70      0.47      0.57       226\n",
            "          87       0.93      0.32      0.48       228\n",
            "          88       0.95      0.50      0.66       219\n",
            "          89       0.88      0.89      0.89       228\n",
            "          90       0.00      0.00      0.00       213\n",
            "          91       0.29      0.83      0.43       218\n",
            "          92       0.75      0.59      0.66       230\n",
            "          93       0.97      0.49      0.65       229\n",
            "          94       0.98      0.58      0.73       223\n",
            "          95       0.89      0.74      0.81       237\n",
            "          96       0.97      0.49      0.65       233\n",
            "          97       0.97      0.62      0.75       223\n",
            "          98       0.98      0.82      0.90       232\n",
            "          99       0.77      0.52      0.62       211\n",
            "         100       0.50      0.51      0.51       235\n",
            "\n",
            "    accuracy                           0.58     22716\n",
            "   macro avg       0.85      0.58      0.65     22716\n",
            "weighted avg       0.85      0.58      0.65     22716\n",
            "\n"
          ]
        },
        {
          "output_type": "stream",
          "name": "stderr",
          "text": [
            "/usr/local/lib/python3.10/dist-packages/sklearn/metrics/_classification.py:1344: UndefinedMetricWarning: Precision and F-score are ill-defined and being set to 0.0 in labels with no predicted samples. Use `zero_division` parameter to control this behavior.\n",
            "  _warn_prf(average, modifier, msg_start, len(result))\n",
            "/usr/local/lib/python3.10/dist-packages/sklearn/metrics/_classification.py:1344: UndefinedMetricWarning: Precision and F-score are ill-defined and being set to 0.0 in labels with no predicted samples. Use `zero_division` parameter to control this behavior.\n",
            "  _warn_prf(average, modifier, msg_start, len(result))\n",
            "/usr/local/lib/python3.10/dist-packages/sklearn/metrics/_classification.py:1344: UndefinedMetricWarning: Precision and F-score are ill-defined and being set to 0.0 in labels with no predicted samples. Use `zero_division` parameter to control this behavior.\n",
            "  _warn_prf(average, modifier, msg_start, len(result))\n"
          ]
        }
      ]
    },
    {
      "cell_type": "code",
      "source": [
        "cm = confusion_matrix(labels, predictions)\n",
        "print(cm)"
      ],
      "metadata": {
        "colab": {
          "base_uri": "https://localhost:8080/"
        },
        "id": "n245g_YoVnpE",
        "outputId": "0a2ce94f-57a7-4196-d4f7-d2981ca26e5c"
      },
      "execution_count": 25,
      "outputs": [
        {
          "output_type": "stream",
          "name": "stdout",
          "text": [
            "[[204   0   0 ...   0   0   0]\n",
            " [  0 168   0 ...   0   0   0]\n",
            " [  1   0  95 ...   0   0   0]\n",
            " ...\n",
            " [  0   0   1 ... 191   0   0]\n",
            " [  0   0   0 ...   0 110   0]\n",
            " [  3   0   0 ...   0   0 119]]\n"
          ]
        }
      ]
    }
  ],
  "metadata": {
    "colab": {
      "provenance": [],
      "collapsed_sections": [
        "YDcxpk7uWLbk",
        "tNSGzVxwT8id"
      ],
      "include_colab_link": true
    },
    "kernelspec": {
      "display_name": "Python 3",
      "name": "python3"
    },
    "language_info": {
      "name": "python"
    },
    "widgets": {
      "application/vnd.jupyter.widget-state+json": {
        "55bcebd98309452ea845254fa6c53b46": {
          "model_module": "@jupyter-widgets/controls",
          "model_name": "HBoxModel",
          "model_module_version": "1.5.0",
          "state": {
            "_dom_classes": [],
            "_model_module": "@jupyter-widgets/controls",
            "_model_module_version": "1.5.0",
            "_model_name": "HBoxModel",
            "_view_count": null,
            "_view_module": "@jupyter-widgets/controls",
            "_view_module_version": "1.5.0",
            "_view_name": "HBoxView",
            "box_style": "",
            "children": [
              "IPY_MODEL_867082f8dc0d4fb0a237622825340353",
              "IPY_MODEL_a7f756db209e4f24b320a4ee9f05d737",
              "IPY_MODEL_ab9e87ddac0e4f91a251a414ad996016"
            ],
            "layout": "IPY_MODEL_353c86d2618247e1b0fd31c9f343b977"
          }
        },
        "867082f8dc0d4fb0a237622825340353": {
          "model_module": "@jupyter-widgets/controls",
          "model_name": "HTMLModel",
          "model_module_version": "1.5.0",
          "state": {
            "_dom_classes": [],
            "_model_module": "@jupyter-widgets/controls",
            "_model_module_version": "1.5.0",
            "_model_name": "HTMLModel",
            "_view_count": null,
            "_view_module": "@jupyter-widgets/controls",
            "_view_module_version": "1.5.0",
            "_view_name": "HTMLView",
            "description": "",
            "description_tooltip": null,
            "layout": "IPY_MODEL_0186ec06705641498175de757770df01",
            "placeholder": "​",
            "style": "IPY_MODEL_a41cabe9bec24a65a14b5ca955bd31d6",
            "value": "Resolving data files: 100%"
          }
        },
        "a7f756db209e4f24b320a4ee9f05d737": {
          "model_module": "@jupyter-widgets/controls",
          "model_name": "FloatProgressModel",
          "model_module_version": "1.5.0",
          "state": {
            "_dom_classes": [],
            "_model_module": "@jupyter-widgets/controls",
            "_model_module_version": "1.5.0",
            "_model_name": "FloatProgressModel",
            "_view_count": null,
            "_view_module": "@jupyter-widgets/controls",
            "_view_module_version": "1.5.0",
            "_view_name": "ProgressView",
            "bar_style": "success",
            "description": "",
            "description_tooltip": null,
            "layout": "IPY_MODEL_e68935713c7a46fd83453b9b450a27a0",
            "max": 45432,
            "min": 0,
            "orientation": "horizontal",
            "style": "IPY_MODEL_f6fa540f04f7422d9bcfaf9ffbcc033b",
            "value": 45432
          }
        },
        "ab9e87ddac0e4f91a251a414ad996016": {
          "model_module": "@jupyter-widgets/controls",
          "model_name": "HTMLModel",
          "model_module_version": "1.5.0",
          "state": {
            "_dom_classes": [],
            "_model_module": "@jupyter-widgets/controls",
            "_model_module_version": "1.5.0",
            "_model_name": "HTMLModel",
            "_view_count": null,
            "_view_module": "@jupyter-widgets/controls",
            "_view_module_version": "1.5.0",
            "_view_name": "HTMLView",
            "description": "",
            "description_tooltip": null,
            "layout": "IPY_MODEL_2587bf6b81954dec9c36ce959c069b95",
            "placeholder": "​",
            "style": "IPY_MODEL_5e4d58bc704842cb87e5436642229ff7",
            "value": " 45432/45432 [00:00&lt;00:00, 135584.99it/s]"
          }
        },
        "353c86d2618247e1b0fd31c9f343b977": {
          "model_module": "@jupyter-widgets/base",
          "model_name": "LayoutModel",
          "model_module_version": "1.2.0",
          "state": {
            "_model_module": "@jupyter-widgets/base",
            "_model_module_version": "1.2.0",
            "_model_name": "LayoutModel",
            "_view_count": null,
            "_view_module": "@jupyter-widgets/base",
            "_view_module_version": "1.2.0",
            "_view_name": "LayoutView",
            "align_content": null,
            "align_items": null,
            "align_self": null,
            "border": null,
            "bottom": null,
            "display": null,
            "flex": null,
            "flex_flow": null,
            "grid_area": null,
            "grid_auto_columns": null,
            "grid_auto_flow": null,
            "grid_auto_rows": null,
            "grid_column": null,
            "grid_gap": null,
            "grid_row": null,
            "grid_template_areas": null,
            "grid_template_columns": null,
            "grid_template_rows": null,
            "height": null,
            "justify_content": null,
            "justify_items": null,
            "left": null,
            "margin": null,
            "max_height": null,
            "max_width": null,
            "min_height": null,
            "min_width": null,
            "object_fit": null,
            "object_position": null,
            "order": null,
            "overflow": null,
            "overflow_x": null,
            "overflow_y": null,
            "padding": null,
            "right": null,
            "top": null,
            "visibility": null,
            "width": null
          }
        },
        "0186ec06705641498175de757770df01": {
          "model_module": "@jupyter-widgets/base",
          "model_name": "LayoutModel",
          "model_module_version": "1.2.0",
          "state": {
            "_model_module": "@jupyter-widgets/base",
            "_model_module_version": "1.2.0",
            "_model_name": "LayoutModel",
            "_view_count": null,
            "_view_module": "@jupyter-widgets/base",
            "_view_module_version": "1.2.0",
            "_view_name": "LayoutView",
            "align_content": null,
            "align_items": null,
            "align_self": null,
            "border": null,
            "bottom": null,
            "display": null,
            "flex": null,
            "flex_flow": null,
            "grid_area": null,
            "grid_auto_columns": null,
            "grid_auto_flow": null,
            "grid_auto_rows": null,
            "grid_column": null,
            "grid_gap": null,
            "grid_row": null,
            "grid_template_areas": null,
            "grid_template_columns": null,
            "grid_template_rows": null,
            "height": null,
            "justify_content": null,
            "justify_items": null,
            "left": null,
            "margin": null,
            "max_height": null,
            "max_width": null,
            "min_height": null,
            "min_width": null,
            "object_fit": null,
            "object_position": null,
            "order": null,
            "overflow": null,
            "overflow_x": null,
            "overflow_y": null,
            "padding": null,
            "right": null,
            "top": null,
            "visibility": null,
            "width": null
          }
        },
        "a41cabe9bec24a65a14b5ca955bd31d6": {
          "model_module": "@jupyter-widgets/controls",
          "model_name": "DescriptionStyleModel",
          "model_module_version": "1.5.0",
          "state": {
            "_model_module": "@jupyter-widgets/controls",
            "_model_module_version": "1.5.0",
            "_model_name": "DescriptionStyleModel",
            "_view_count": null,
            "_view_module": "@jupyter-widgets/base",
            "_view_module_version": "1.2.0",
            "_view_name": "StyleView",
            "description_width": ""
          }
        },
        "e68935713c7a46fd83453b9b450a27a0": {
          "model_module": "@jupyter-widgets/base",
          "model_name": "LayoutModel",
          "model_module_version": "1.2.0",
          "state": {
            "_model_module": "@jupyter-widgets/base",
            "_model_module_version": "1.2.0",
            "_model_name": "LayoutModel",
            "_view_count": null,
            "_view_module": "@jupyter-widgets/base",
            "_view_module_version": "1.2.0",
            "_view_name": "LayoutView",
            "align_content": null,
            "align_items": null,
            "align_self": null,
            "border": null,
            "bottom": null,
            "display": null,
            "flex": null,
            "flex_flow": null,
            "grid_area": null,
            "grid_auto_columns": null,
            "grid_auto_flow": null,
            "grid_auto_rows": null,
            "grid_column": null,
            "grid_gap": null,
            "grid_row": null,
            "grid_template_areas": null,
            "grid_template_columns": null,
            "grid_template_rows": null,
            "height": null,
            "justify_content": null,
            "justify_items": null,
            "left": null,
            "margin": null,
            "max_height": null,
            "max_width": null,
            "min_height": null,
            "min_width": null,
            "object_fit": null,
            "object_position": null,
            "order": null,
            "overflow": null,
            "overflow_x": null,
            "overflow_y": null,
            "padding": null,
            "right": null,
            "top": null,
            "visibility": null,
            "width": null
          }
        },
        "f6fa540f04f7422d9bcfaf9ffbcc033b": {
          "model_module": "@jupyter-widgets/controls",
          "model_name": "ProgressStyleModel",
          "model_module_version": "1.5.0",
          "state": {
            "_model_module": "@jupyter-widgets/controls",
            "_model_module_version": "1.5.0",
            "_model_name": "ProgressStyleModel",
            "_view_count": null,
            "_view_module": "@jupyter-widgets/base",
            "_view_module_version": "1.2.0",
            "_view_name": "StyleView",
            "bar_color": null,
            "description_width": ""
          }
        },
        "2587bf6b81954dec9c36ce959c069b95": {
          "model_module": "@jupyter-widgets/base",
          "model_name": "LayoutModel",
          "model_module_version": "1.2.0",
          "state": {
            "_model_module": "@jupyter-widgets/base",
            "_model_module_version": "1.2.0",
            "_model_name": "LayoutModel",
            "_view_count": null,
            "_view_module": "@jupyter-widgets/base",
            "_view_module_version": "1.2.0",
            "_view_name": "LayoutView",
            "align_content": null,
            "align_items": null,
            "align_self": null,
            "border": null,
            "bottom": null,
            "display": null,
            "flex": null,
            "flex_flow": null,
            "grid_area": null,
            "grid_auto_columns": null,
            "grid_auto_flow": null,
            "grid_auto_rows": null,
            "grid_column": null,
            "grid_gap": null,
            "grid_row": null,
            "grid_template_areas": null,
            "grid_template_columns": null,
            "grid_template_rows": null,
            "height": null,
            "justify_content": null,
            "justify_items": null,
            "left": null,
            "margin": null,
            "max_height": null,
            "max_width": null,
            "min_height": null,
            "min_width": null,
            "object_fit": null,
            "object_position": null,
            "order": null,
            "overflow": null,
            "overflow_x": null,
            "overflow_y": null,
            "padding": null,
            "right": null,
            "top": null,
            "visibility": null,
            "width": null
          }
        },
        "5e4d58bc704842cb87e5436642229ff7": {
          "model_module": "@jupyter-widgets/controls",
          "model_name": "DescriptionStyleModel",
          "model_module_version": "1.5.0",
          "state": {
            "_model_module": "@jupyter-widgets/controls",
            "_model_module_version": "1.5.0",
            "_model_name": "DescriptionStyleModel",
            "_view_count": null,
            "_view_module": "@jupyter-widgets/base",
            "_view_module_version": "1.2.0",
            "_view_name": "StyleView",
            "description_width": ""
          }
        }
      }
    }
  },
  "nbformat": 4,
  "nbformat_minor": 0
}