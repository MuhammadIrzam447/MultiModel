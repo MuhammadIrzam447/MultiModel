{
  "nbformat": 4,
  "nbformat_minor": 0,
  "metadata": {
    "colab": {
      "provenance": [],
      "collapsed_sections": [
        "NzBfAyc7apgv",
        "LWIDbmsuZ6yr"
      ],
      "authorship_tag": "ABX9TyOwNDdE0bmgoe7CK4gE/RF8",
      "include_colab_link": true
    },
    "kernelspec": {
      "name": "python3",
      "display_name": "Python 3"
    },
    "language_info": {
      "name": "python"
    }
  },
  "cells": [
    {
      "cell_type": "markdown",
      "metadata": {
        "id": "view-in-github",
        "colab_type": "text"
      },
      "source": [
        "<a href=\"https://colab.research.google.com/github/MuhammadIrzam447/MultiModel/blob/master/Train_37.ipynb\" target=\"_parent\"><img src=\"https://colab.research.google.com/assets/colab-badge.svg\" alt=\"Open In Colab\"/></a>"
      ]
    },
    {
      "cell_type": "code",
      "source": [
        "# Notebook to Train and Evaluate ResNet and ViT on 100 and __% datasets residing in a single directory for Multi Class Classification"
      ],
      "metadata": {
        "id": "VxazLvh8JMJ3"
      },
      "execution_count": null,
      "outputs": []
    },
    {
      "cell_type": "code",
      "source": [
        "%cd \"/content/Dataset(s)/joint_ferramenta/mulitmodal_img_enc_txt\""
      ],
      "metadata": {
        "colab": {
          "base_uri": "https://localhost:8080/"
        },
        "id": "FRJUSURVJsfk",
        "outputId": "9d46b676-226e-43c7-b29d-e290b0ade941"
      },
      "execution_count": 2,
      "outputs": [
        {
          "output_type": "stream",
          "name": "stdout",
          "text": [
            "/content/Dataset(s)/joint_ferramenta/mulitmodal_img_enc_txt\n"
          ]
        }
      ]
    },
    {
      "cell_type": "markdown",
      "source": [
        "# Load Data\n"
      ],
      "metadata": {
        "id": "jNTJQ9CCMOuR"
      }
    },
    {
      "cell_type": "code",
      "source": [
        "# import os\n",
        "\n",
        "# # Define the path to your dataset folder\n",
        "# dataset_folder = './images-train'\n",
        "\n",
        "# # Define the path for the output text file\n",
        "# output_file = './train_dataset.txt'\n",
        "\n",
        "# def custom_sort_key(item):\n",
        "#     return item.replace('@', '')\n",
        "\n",
        "# with open(output_file, 'w') as f:\n",
        "#     for label in sorted(os.listdir(dataset_folder), key=custom_sort_key):\n",
        "#         label_path = os.path.join(dataset_folder, label)\n",
        "#         if os.path.isdir(label_path):\n",
        "#             class_name = label\n",
        "#             image_files = sorted(os.listdir(label_path))\n",
        "#             for image_file in image_files:\n",
        "#                 image_path = os.path.join(label_path, image_file)\n",
        "#                 f.write(f'{image_path}, {class_name}\\n')"
      ],
      "metadata": {
        "id": "UGxumxKWLV6X"
      },
      "execution_count": null,
      "outputs": []
    },
    {
      "cell_type": "markdown",
      "source": [
        "Train Dataset"
      ],
      "metadata": {
        "id": "XNma768QgFfU"
      }
    },
    {
      "cell_type": "code",
      "source": [
        "import os\n",
        "\n",
        "image_file_paths = []\n",
        "image_genre_labels = []\n",
        "enc_file_paths = []\n",
        "enc_genre_labels = []\n",
        "\n",
        "labels_file = \"./train_dataset.txt\"\n",
        "\n",
        "with open(labels_file, 'r') as file:\n",
        "    for line in file:\n",
        "        parts = line.strip().split(', ')\n",
        "        filename = parts[0].strip()\n",
        "        labels = parts[1].strip()\n",
        "\n",
        "        if filename.endswith(\"_4.png\"):\n",
        "            enc_file_paths.append(filename)\n",
        "            enc_genre_labels.append(labels)\n",
        "\n",
        "        elif filename.endswith(\"_3.png\"):\n",
        "            image_file_paths.append(filename)\n",
        "            image_genre_labels.append(labels)"
      ],
      "metadata": {
        "id": "OEjnk0W-Pc8Y"
      },
      "execution_count": 3,
      "outputs": []
    },
    {
      "cell_type": "code",
      "source": [
        "len(image_file_paths), len(enc_file_paths)"
      ],
      "metadata": {
        "id": "MmYmWXRJRaXy",
        "colab": {
          "base_uri": "https://localhost:8080/"
        },
        "outputId": "4a47bc06-9807-423c-dad5-857b81ac75c4"
      },
      "execution_count": 4,
      "outputs": [
        {
          "output_type": "execute_result",
          "data": {
            "text/plain": [
              "(66141, 66141)"
            ]
          },
          "metadata": {},
          "execution_count": 4
        }
      ]
    },
    {
      "cell_type": "code",
      "source": [
        "image_file_paths[0:5] , image_genre_labels[0:5]"
      ],
      "metadata": {
        "id": "UwLJAYq6dhLs",
        "colab": {
          "base_uri": "https://localhost:8080/"
        },
        "outputId": "9d8b38c6-7597-42e0-fb3d-6272cb2fe781"
      },
      "execution_count": 5,
      "outputs": [
        {
          "output_type": "execute_result",
          "data": {
            "text/plain": [
              "(['./images-train/@accessori_saldatore/113267806.jpg_3.png',\n",
              "  './images-train/@accessori_saldatore/115061965.jpg_3.png',\n",
              "  './images-train/@accessori_saldatore/119306609.jpg_3.png',\n",
              "  './images-train/@accessori_saldatore/119392789.jpg_3.png',\n",
              "  './images-train/@accessori_saldatore/122140907.jpg_3.png'],\n",
              " ['@accessori_saldatore',\n",
              "  '@accessori_saldatore',\n",
              "  '@accessori_saldatore',\n",
              "  '@accessori_saldatore',\n",
              "  '@accessori_saldatore'])"
            ]
          },
          "metadata": {},
          "execution_count": 5
        }
      ]
    },
    {
      "cell_type": "code",
      "source": [
        "enc_file_paths[0:5] , enc_genre_labels[0:5]"
      ],
      "metadata": {
        "id": "WxClniG0fpwN",
        "colab": {
          "base_uri": "https://localhost:8080/"
        },
        "outputId": "3101de42-d1b2-417c-b77a-910e6f5aba53"
      },
      "execution_count": 6,
      "outputs": [
        {
          "output_type": "execute_result",
          "data": {
            "text/plain": [
              "(['./images-train/@accessori_saldatore/113267806.jpg_4.png',\n",
              "  './images-train/@accessori_saldatore/115061965.jpg_4.png',\n",
              "  './images-train/@accessori_saldatore/119306609.jpg_4.png',\n",
              "  './images-train/@accessori_saldatore/119392789.jpg_4.png',\n",
              "  './images-train/@accessori_saldatore/122140907.jpg_4.png'],\n",
              " ['@accessori_saldatore',\n",
              "  '@accessori_saldatore',\n",
              "  '@accessori_saldatore',\n",
              "  '@accessori_saldatore',\n",
              "  '@accessori_saldatore'])"
            ]
          },
          "metadata": {},
          "execution_count": 6
        }
      ]
    },
    {
      "cell_type": "code",
      "source": [
        "unique_labels = set(enc_genre_labels)\n",
        "unique_labels_list = list(unique_labels)\n",
        "\n",
        "print(\"Unique Labels:\", unique_labels_list)"
      ],
      "metadata": {
        "id": "slLNEQBQS-i-",
        "colab": {
          "base_uri": "https://localhost:8080/"
        },
        "outputId": "aab49e94-c13e-42b7-eccc-4ab99840f135"
      },
      "execution_count": 7,
      "outputs": [
        {
          "output_type": "stream",
          "name": "stdout",
          "text": [
            "Unique Labels: ['@cacciavite_giravite_cercafase', '@ruota', '@maniglia_pomello', '@chiavistello', '@catena', '@spazzola', '@pistola', '@accessori_trapano', '@morsetto_strettoio', '@rubinetto_miscelatore_valvola', '@tassello', '@livella', '@nastro', '@pinzetta', '@brugola', '@accessori_saldatore', '@carrello', '@chiodo_rivetto', '@lame_sega_circolare', '@scaffale', '@banco', '@carta-vetrata_carta-abrasiva', '@vite_bullone', '@lama_seghetto_sega', '@lima_grattuggia_raspa', '@scala', '@pinza_punzonatrice_giratubo', '@armadio_cassettiera', '@seghetto_sega', '@cazzuola_frattone', '@segnaletica', '@torcia-faro', '@sega-a-tazza', '@collare', '@lucchetto', '@serratura_cilindro', '@metro_flessometro', '@bancale_cargo', '@colla_silicone', '@cerniera_bandella', '@chiave_inglese_poligonale', '@vernice', '@pennello', '@chiave-a-bussola_tubo', '@coltello', '@forbice_cesoia', '@estrattore', '@martello_mazzetta_ascia', '@cassaforte', '@scalpello', '@spatola_raschietto', '@staffa_squadretta']\n"
          ]
        }
      ]
    },
    {
      "cell_type": "code",
      "source": [
        "num_classes = len(unique_labels_list)\n",
        "num_classes"
      ],
      "metadata": {
        "id": "HX2Qa1xQZu6Y",
        "colab": {
          "base_uri": "https://localhost:8080/"
        },
        "outputId": "43515612-63b6-43ed-a535-692d2bfa2162"
      },
      "execution_count": 8,
      "outputs": [
        {
          "output_type": "execute_result",
          "data": {
            "text/plain": [
              "52"
            ]
          },
          "metadata": {},
          "execution_count": 8
        }
      ]
    },
    {
      "cell_type": "code",
      "source": [
        "import random\n",
        "\n",
        "\n",
        "percentage = 0.3\n",
        "\n",
        "label_counts = {label: 0 for label in unique_labels_list}\n",
        "\n",
        "num_samples_to_include_per_label = {}\n",
        "for label in unique_labels_list:\n",
        "    label_count = enc_genre_labels.count(label)\n",
        "    num_samples_to_include = int(label_count * percentage)\n",
        "    num_samples_to_include_per_label[label] = num_samples_to_include\n",
        "\n",
        "\n",
        "filtered_enc_file_paths = []\n",
        "filtered_enc_genre_labels = []\n",
        "\n",
        "\n",
        "selected_samples_per_label = {label: 0 for label in unique_labels_list}\n",
        "for path, label in zip(enc_file_paths, enc_genre_labels):\n",
        "    if selected_samples_per_label[label] < num_samples_to_include_per_label[label]:\n",
        "        filtered_enc_file_paths.append(path)\n",
        "        filtered_enc_genre_labels.append(label)\n",
        "        selected_samples_per_label[label] += 1"
      ],
      "metadata": {
        "id": "Q9xQzx8MV3_U"
      },
      "execution_count": 9,
      "outputs": []
    },
    {
      "cell_type": "code",
      "source": [
        "len(filtered_enc_file_paths)"
      ],
      "metadata": {
        "id": "_JgyuBkqf45r",
        "colab": {
          "base_uri": "https://localhost:8080/"
        },
        "outputId": "0fc5ec69-bdbc-42fa-f2a7-b51def03c1ea"
      },
      "execution_count": 10,
      "outputs": [
        {
          "output_type": "execute_result",
          "data": {
            "text/plain": [
              "19818"
            ]
          },
          "metadata": {},
          "execution_count": 10
        }
      ]
    },
    {
      "cell_type": "code",
      "source": [
        "filtered_enc_file_paths[0:5]"
      ],
      "metadata": {
        "colab": {
          "base_uri": "https://localhost:8080/"
        },
        "id": "XgjQxqstrBhx",
        "outputId": "304dc1cd-32cf-4016-cded-f72484bd2ad1"
      },
      "execution_count": 11,
      "outputs": [
        {
          "output_type": "execute_result",
          "data": {
            "text/plain": [
              "['./images-train/@accessori_saldatore/113267806.jpg_4.png',\n",
              " './images-train/@accessori_saldatore/115061965.jpg_4.png',\n",
              " './images-train/@accessori_saldatore/119306609.jpg_4.png',\n",
              " './images-train/@accessori_saldatore/119392789.jpg_4.png',\n",
              " './images-train/@accessori_saldatore/122140907.jpg_4.png']"
            ]
          },
          "metadata": {},
          "execution_count": 11
        }
      ]
    },
    {
      "cell_type": "code",
      "source": [
        "# Create new lists to combine data from both lists\n",
        "train_file_paths = image_file_paths + filtered_enc_file_paths\n",
        "train_genre_labels = image_genre_labels + filtered_enc_genre_labels"
      ],
      "metadata": {
        "id": "2WTpdvsOXRgD"
      },
      "execution_count": 12,
      "outputs": []
    },
    {
      "cell_type": "code",
      "source": [
        "len(train_file_paths)"
      ],
      "metadata": {
        "id": "72g7sZu8gAXW",
        "colab": {
          "base_uri": "https://localhost:8080/"
        },
        "outputId": "e4e2b26d-7001-4015-fb30-148d38a10c57"
      },
      "execution_count": 13,
      "outputs": [
        {
          "output_type": "execute_result",
          "data": {
            "text/plain": [
              "85959"
            ]
          },
          "metadata": {},
          "execution_count": 13
        }
      ]
    },
    {
      "cell_type": "markdown",
      "source": [
        "Test Dataset"
      ],
      "metadata": {
        "id": "7D26BNoJbJ3M"
      }
    },
    {
      "cell_type": "code",
      "source": [
        "import os\n",
        "\n",
        "test_image_file_paths = []\n",
        "test_image_genre_labels = []\n",
        "test_enc_file_paths = []\n",
        "test_enc_genre_labels = []\n",
        "\n",
        "test_labels_file = \"./test_dataset.txt\"\n",
        "\n",
        "with open(test_labels_file, 'r') as file:\n",
        "    for line in file:\n",
        "        parts = line.strip().split(', ')\n",
        "        filename = parts[0].strip()\n",
        "        labels = parts[1].strip()\n",
        "\n",
        "        if filename.endswith(\"_4.png\"):\n",
        "            test_enc_file_paths.append(filename)\n",
        "            test_enc_genre_labels.append(labels)\n",
        "\n",
        "        elif filename.endswith(\"_3.png\"):\n",
        "            test_image_file_paths.append(filename)\n",
        "            test_image_genre_labels.append(labels)"
      ],
      "metadata": {
        "id": "LnGxlWzqbLIj"
      },
      "execution_count": 14,
      "outputs": []
    },
    {
      "cell_type": "code",
      "source": [
        "len(test_image_file_paths), len(test_enc_file_paths)"
      ],
      "metadata": {
        "id": "yd9_b3EfbLdS",
        "colab": {
          "base_uri": "https://localhost:8080/"
        },
        "outputId": "cf9d5f97-5c42-4845-be8e-63b0be5c44ba"
      },
      "execution_count": 15,
      "outputs": [
        {
          "output_type": "execute_result",
          "data": {
            "text/plain": [
              "(21869, 21869)"
            ]
          },
          "metadata": {},
          "execution_count": 15
        }
      ]
    },
    {
      "cell_type": "code",
      "source": [
        "test_image_file_paths[0:5] , test_image_genre_labels[0:5]"
      ],
      "metadata": {
        "id": "Kj5sNm7ngOhz",
        "colab": {
          "base_uri": "https://localhost:8080/"
        },
        "outputId": "b79d7851-7b47-4cca-ccc2-538e9b103458"
      },
      "execution_count": 16,
      "outputs": [
        {
          "output_type": "execute_result",
          "data": {
            "text/plain": [
              "(['./images-val/@accessori_saldatore/123031564.jpg_3.png',\n",
              "  './images-val/@accessori_saldatore/125066170.jpg_3.png',\n",
              "  './images-val/@accessori_saldatore/128436452.jpg_3.png',\n",
              "  './images-val/@accessori_saldatore/129979053.jpg_3.png',\n",
              "  './images-val/@accessori_saldatore/130236413.jpg_3.png'],\n",
              " ['@accessori_saldatore',\n",
              "  '@accessori_saldatore',\n",
              "  '@accessori_saldatore',\n",
              "  '@accessori_saldatore',\n",
              "  '@accessori_saldatore'])"
            ]
          },
          "metadata": {},
          "execution_count": 16
        }
      ]
    },
    {
      "cell_type": "code",
      "source": [
        "import random\n",
        "\n",
        "label_counts = {label: 0 for label in unique_labels_list}\n",
        "\n",
        "test_num_samples_to_include_per_label = {}\n",
        "for label in unique_labels_list:\n",
        "    label_count = test_enc_genre_labels.count(label)\n",
        "    num_samples_to_include = int(label_count * percentage)\n",
        "    test_num_samples_to_include_per_label[label] = num_samples_to_include\n",
        "\n",
        "\n",
        "test_filtered_enc_file_paths = []\n",
        "test_filtered_enc_genre_labels = []\n",
        "\n",
        "\n",
        "test_selected_samples_per_label = {label: 0 for label in unique_labels_list}\n",
        "for path, label in zip(test_enc_file_paths, test_enc_genre_labels):\n",
        "    if test_selected_samples_per_label[label] < test_num_samples_to_include_per_label[label]:\n",
        "        test_filtered_enc_file_paths.append(path)\n",
        "        test_filtered_enc_genre_labels.append(label)\n",
        "        test_selected_samples_per_label[label] += 1"
      ],
      "metadata": {
        "id": "rHhvWppqbLxi"
      },
      "execution_count": 17,
      "outputs": []
    },
    {
      "cell_type": "code",
      "source": [
        "len(test_filtered_enc_file_paths)"
      ],
      "metadata": {
        "id": "ZplC_8mxgfng",
        "colab": {
          "base_uri": "https://localhost:8080/"
        },
        "outputId": "8cb4fbd3-8a43-4313-e1d4-136d7ce27810"
      },
      "execution_count": 18,
      "outputs": [
        {
          "output_type": "execute_result",
          "data": {
            "text/plain": [
              "6533"
            ]
          },
          "metadata": {},
          "execution_count": 18
        }
      ]
    },
    {
      "cell_type": "code",
      "source": [
        "# Create new lists to combine data from both lists\n",
        "test_file_paths = test_image_file_paths + test_filtered_enc_file_paths\n",
        "test_genre_labels = test_image_genre_labels + test_filtered_enc_genre_labels"
      ],
      "metadata": {
        "id": "C6sjf4Ptbcdf"
      },
      "execution_count": 19,
      "outputs": []
    },
    {
      "cell_type": "code",
      "source": [
        "len(test_file_paths)"
      ],
      "metadata": {
        "id": "T0OH11Z2OJ_k",
        "colab": {
          "base_uri": "https://localhost:8080/"
        },
        "outputId": "25e9730f-b850-4332-e19f-94e3166c634a"
      },
      "execution_count": 20,
      "outputs": [
        {
          "output_type": "execute_result",
          "data": {
            "text/plain": [
              "28402"
            ]
          },
          "metadata": {},
          "execution_count": 20
        }
      ]
    },
    {
      "cell_type": "markdown",
      "source": [
        "# ResNet"
      ],
      "metadata": {
        "id": "NzBfAyc7apgv"
      }
    },
    {
      "cell_type": "code",
      "source": [
        "from torch.utils.data import Dataset\n",
        "from torchvision import transforms\n",
        "from PIL import Image\n",
        "\n",
        "class CustomDataset(Dataset):\n",
        "    def __init__(self, file_paths, labels, transform=None):\n",
        "        self.file_paths = file_paths\n",
        "        self.labels = labels\n",
        "        self.transform = transform\n",
        "\n",
        "    def __len__(self):\n",
        "        return len(self.file_paths)\n",
        "\n",
        "    def __getitem__(self, idx):\n",
        "        img_path = self.file_paths[idx]\n",
        "        image = Image.open(img_path)\n",
        "        label = int(self.labels[idx])\n",
        "        # label = torch.tensor(label,dtype=torch.float32)\n",
        "\n",
        "        if self.transform:\n",
        "            image = self.transform(image)\n",
        "\n",
        "        return image, label\n",
        "\n",
        "\n",
        "transform = transforms.Compose([\n",
        "    transforms.Resize((224, 224)),\n",
        "    transforms.ToTensor(),\n",
        "    transforms.Normalize(mean=[0.485, 0.456, 0.406], std=[0.229, 0.224, 0.225])\n",
        "])"
      ],
      "metadata": {
        "id": "3Y7VXqUBYf_B"
      },
      "execution_count": null,
      "outputs": []
    },
    {
      "cell_type": "code",
      "source": [
        "train_dataset = CustomDataset(train_file_paths, train_genre_labels, transform=transform)\n",
        "test_dataset = CustomDataset(test_file_paths, test_genre_labels, transform=transform)"
      ],
      "metadata": {
        "id": "CjVU94XRZOXR"
      },
      "execution_count": null,
      "outputs": []
    },
    {
      "cell_type": "code",
      "source": [
        "from torch.utils.data import DataLoader\n",
        "\n",
        "batch_size = 32  # Adjust as needed\n",
        "train_loader = DataLoader(train_dataset, batch_size=batch_size, shuffle=True)\n",
        "test_loader = DataLoader(test_dataset, batch_size=batch_size, shuffle=False)"
      ],
      "metadata": {
        "id": "niKEq0PUZVan"
      },
      "execution_count": null,
      "outputs": []
    },
    {
      "cell_type": "code",
      "source": [
        "import torch\n",
        "import torch.nn as nn\n",
        "import torch.optim as optim\n",
        "from torchvision import models\n",
        "device = \"cuda\" if torch.cuda.is_available() else \"cpu\"\n",
        "\n",
        "resnet = models.resnet101(pretrained=True)\n",
        "num_features = resnet.fc.in_features\n",
        "resnet.fc = nn.Linear(num_features, num_classes)  # num_classes is the number of classes in your dataset\n",
        "resnet.to(device)\n",
        "print(resnet)\n"
      ],
      "metadata": {
        "id": "WkU78f5UZXqy"
      },
      "execution_count": null,
      "outputs": []
    },
    {
      "cell_type": "code",
      "source": [
        "criterion = nn.CrossEntropyLoss()\n",
        "# optimizer = optim.SGD(resnet.parameters(), lr=0.001, momentum=0.9)\n",
        "optimizer = optim.Adam(resnet.parameters(), lr=0.001)\n",
        "num_epochs = 30"
      ],
      "metadata": {
        "id": "kQnCFcJCZx5m"
      },
      "execution_count": null,
      "outputs": []
    },
    {
      "cell_type": "code",
      "source": [
        "from sklearn.metrics import accuracy_score, precision_score, recall_score, f1_score, classification_report, roc_auc_score\n",
        "import numpy as np"
      ],
      "metadata": {
        "id": "6Q79jKkChops"
      },
      "execution_count": null,
      "outputs": []
    },
    {
      "cell_type": "code",
      "source": [
        "training_loss = []\n",
        "\n",
        "for epoch in range(num_epochs):\n",
        "    resnet.train()\n",
        "    running_loss = 0.0\n",
        "\n",
        "\n",
        "    for images, labels in train_loader:\n",
        "        images = images.to(device)\n",
        "        labels = labels.to(device)\n",
        "\n",
        "        optimizer.zero_grad()\n",
        "        outputs = resnet(images)\n",
        "        loss = criterion(outputs, labels)\n",
        "\n",
        "        loss.backward()\n",
        "        optimizer.step()\n",
        "\n",
        "        running_loss += loss.item() * images.size(0)\n",
        "\n",
        "    epoch_loss = running_loss / len(train_loader.dataset)\n",
        "    training_loss.append(epoch_loss)\n",
        "\n",
        "    print(\"Training Loss==========================>>\")\n",
        "    print(f\"Epoch {epoch+1}/{num_epochs} Training Loss: {epoch_loss:.4f}\")\n",
        "\n",
        "    resnet.eval()\n",
        "    predicted_classes = []\n",
        "    actual_labels = []\n",
        "    with torch.no_grad():\n",
        "        for images, labels in test_loader:\n",
        "            images = images.to(device)\n",
        "            labels = labels.to(device)\n",
        "\n",
        "            outputs = resnet(images)\n",
        "\n",
        "            _, predicted_label = torch.max(outputs, 1)\n",
        "\n",
        "            predicted_classes.extend(predicted_label.cpu().tolist())\n",
        "            actual_labels.extend(labels.cpu().tolist())\n",
        "\n",
        "    accuracy = accuracy_score(actual_labels, predicted_classes)\n",
        "    # precision = precision_score(actual_labels, predicted_classes, average='weighted')\n",
        "    # recall = recall_score(actual_labels, predicted_classes, average='weighted')\n",
        "    # f1 = f1_score(actual_labels, predicted_classes, average='weighted')\n",
        "\n",
        "    print(\"Accuracy:\", accuracy)\n",
        "    # print(\"Precision:\", precision)\n",
        "    # print(\"Recall:\", recall)\n",
        "    # print(\"F1-score:\", f1)\n",
        "\n",
        "    print(classification_report(actual_labels, predicted_classes))\n",
        "    # print(\"Confusion Matrix: \")\n",
        "    # cm = confusion_matrix(actual_labels, predicted_classes)\n",
        "    # print(cm)\n",
        "    predicted_classes = np.array(predicted_classes)\n",
        "    actual_labels = np.array(actual_labels)\n",
        "    print(roc_auc_score(actual_labels, predicted_classes))\n",
        "\n",
        "\n",
        "    save_dir = \"/content/Model/Models-Train-30/\"\n",
        "    os.makedirs(save_dir, exist_ok=True)  # Create the directory if it doesn't exist\n",
        "\n",
        "    model_name = str(epoch+1) + \"_model.pth\"\n",
        "    save_path = os.path.join(save_dir, model_name)  # Specify the complete path to the model file\n",
        "    torch.save(resnet.state_dict(), save_path)"
      ],
      "metadata": {
        "id": "X70EPWQbZ_id"
      },
      "execution_count": null,
      "outputs": []
    },
    {
      "cell_type": "markdown",
      "source": [
        "# ViT"
      ],
      "metadata": {
        "id": "VmLtbV7uZiUU"
      }
    },
    {
      "cell_type": "code",
      "source": [
        "import torch\n",
        "# !pip install transformers evaluate datasets\n",
        "import requests\n",
        "import torch\n",
        "from PIL import Image\n",
        "from transformers import *\n",
        "from tqdm import tqdm"
      ],
      "metadata": {
        "id": "uO3ZsSpNeu9M",
        "colab": {
          "base_uri": "https://localhost:8080/"
        },
        "outputId": "ece23aa7-c109-4fa9-ad3f-06902aca44cc"
      },
      "execution_count": 21,
      "outputs": [
        {
          "output_type": "stream",
          "name": "stderr",
          "text": [
            "/usr/local/lib/python3.10/dist-packages/transformers/generation_utils.py:24: FutureWarning: Importing `GenerationMixin` from `src/transformers/generation_utils.py` is deprecated and will be removed in Transformers v5. Import as `from transformers import GenerationMixin` instead.\n",
            "  warnings.warn(\n",
            "/usr/local/lib/python3.10/dist-packages/transformers/generation_tf_utils.py:24: FutureWarning: Importing `TFGenerationMixin` from `src/transformers/generation_tf_utils.py` is deprecated and will be removed in Transformers v5. Import as `from transformers import TFGenerationMixin` instead.\n",
            "  warnings.warn(\n",
            "/usr/local/lib/python3.10/dist-packages/transformers/generation_flax_utils.py:24: FutureWarning: Importing `FlaxGenerationMixin` from `src/transformers/generation_flax_utils.py` is deprecated and will be removed in Transformers v5. Import as `from transformers import FlaxGenerationMixin` instead.\n",
            "  warnings.warn(\n",
            "Xformers is not installed correctly. If you want to use memory_efficient_attention to accelerate training use the following command to install Xformers\n",
            "pip install xformers.\n"
          ]
        }
      ]
    },
    {
      "cell_type": "code",
      "source": [
        "device = \"cuda\" if torch.cuda.is_available() else \"cpu\"\n",
        "\n",
        "model_name = \"google/vit-base-patch16-224\"\n",
        "image_processor = ViTImageProcessor.from_pretrained(model_name)\n",
        "model = ViTForImageClassification.from_pretrained(model_name).to(device)"
      ],
      "metadata": {
        "id": "5kwp9qmMZjkd",
        "colab": {
          "base_uri": "https://localhost:8080/"
        },
        "outputId": "83a246a9-5a5d-4d1e-c022-461c98ec2d4f"
      },
      "execution_count": 37,
      "outputs": [
        {
          "output_type": "stream",
          "name": "stderr",
          "text": [
            "loading configuration file preprocessor_config.json from cache at /root/.cache/huggingface/hub/models--google--vit-base-patch16-224/snapshots/3f49326eb077187dfe1c2a2bb15fbd74e6ab91e3/preprocessor_config.json\n",
            "size should be a dictionary on of the following set of keys: ({'width', 'height'}, {'shortest_edge'}, {'shortest_edge', 'longest_edge'}, {'longest_edge'}), got 224. Converted to {'height': 224, 'width': 224}.\n",
            "Image processor ViTImageProcessor {\n",
            "  \"do_normalize\": true,\n",
            "  \"do_rescale\": true,\n",
            "  \"do_resize\": true,\n",
            "  \"image_mean\": [\n",
            "    0.5,\n",
            "    0.5,\n",
            "    0.5\n",
            "  ],\n",
            "  \"image_processor_type\": \"ViTImageProcessor\",\n",
            "  \"image_std\": [\n",
            "    0.5,\n",
            "    0.5,\n",
            "    0.5\n",
            "  ],\n",
            "  \"resample\": 2,\n",
            "  \"rescale_factor\": 0.00392156862745098,\n",
            "  \"size\": {\n",
            "    \"height\": 224,\n",
            "    \"width\": 224\n",
            "  }\n",
            "}\n",
            "\n"
          ]
        }
      ]
    },
    {
      "cell_type": "markdown",
      "source": [
        "Label Encoding"
      ],
      "metadata": {
        "id": "UGs6LJI9guRM"
      }
    },
    {
      "cell_type": "code",
      "source": [
        "from sklearn.preprocessing import LabelEncoder\n",
        "\n",
        "label_encoder = LabelEncoder()\n",
        "transformed_train_genre_labels = label_encoder.fit_transform(train_genre_labels)"
      ],
      "metadata": {
        "id": "x5qr0pvBcKi0"
      },
      "execution_count": 38,
      "outputs": []
    },
    {
      "cell_type": "code",
      "source": [
        "# label_to_id_mapping = {label: id for label, id in zip(label_encoder.classes_, label_encoder.transform(label_encoder.classes_))}\n",
        "# label_to_id_mapping"
      ],
      "metadata": {
        "id": "AhfBYrKeYoUa"
      },
      "execution_count": null,
      "outputs": []
    },
    {
      "cell_type": "code",
      "source": [
        "label_encoder1 = LabelEncoder()\n",
        "transformed_test_genre_labels = label_encoder1.fit_transform(test_genre_labels)"
      ],
      "metadata": {
        "id": "VJ-m2Q5rgsrj"
      },
      "execution_count": 39,
      "outputs": []
    },
    {
      "cell_type": "code",
      "source": [
        "label_to_id_mapping = {label: id for label, id in zip(label_encoder1.classes_, label_encoder1.transform(label_encoder1.classes_))}\n",
        "id_to_label_mapping = {id: label for id, label in enumerate(label_encoder1.classes_)}"
      ],
      "metadata": {
        "id": "jsF-RjLRYbcN"
      },
      "execution_count": 40,
      "outputs": []
    },
    {
      "cell_type": "code",
      "source": [
        "# Convert int64 to int in id_to_label_mapping and label_to_id_mapping\n",
        "id_to_label_mapping = {int(id): label for id, label in id_to_label_mapping.items()}\n",
        "label_to_id_mapping = {label: int(id) for label, id in label_to_id_mapping.items()}"
      ],
      "metadata": {
        "id": "Hnad1bYLakGs"
      },
      "execution_count": 41,
      "outputs": []
    },
    {
      "cell_type": "code",
      "source": [
        "id_to_label_mapping"
      ],
      "metadata": {
        "colab": {
          "base_uri": "https://localhost:8080/"
        },
        "id": "EUXBAY3Xa3lo",
        "outputId": "f5b9b604-690b-499f-e80d-eb4956c99b04"
      },
      "execution_count": 42,
      "outputs": [
        {
          "output_type": "execute_result",
          "data": {
            "text/plain": [
              "{0: '@accessori_saldatore',\n",
              " 1: '@accessori_trapano',\n",
              " 2: '@armadio_cassettiera',\n",
              " 3: '@bancale_cargo',\n",
              " 4: '@banco',\n",
              " 5: '@brugola',\n",
              " 6: '@cacciavite_giravite_cercafase',\n",
              " 7: '@carrello',\n",
              " 8: '@carta-vetrata_carta-abrasiva',\n",
              " 9: '@cassaforte',\n",
              " 10: '@catena',\n",
              " 11: '@cazzuola_frattone',\n",
              " 12: '@cerniera_bandella',\n",
              " 13: '@chiave-a-bussola_tubo',\n",
              " 14: '@chiave_inglese_poligonale',\n",
              " 15: '@chiavistello',\n",
              " 16: '@chiodo_rivetto',\n",
              " 17: '@colla_silicone',\n",
              " 18: '@collare',\n",
              " 19: '@coltello',\n",
              " 20: '@estrattore',\n",
              " 21: '@forbice_cesoia',\n",
              " 22: '@lama_seghetto_sega',\n",
              " 23: '@lame_sega_circolare',\n",
              " 24: '@lima_grattuggia_raspa',\n",
              " 25: '@livella',\n",
              " 26: '@lucchetto',\n",
              " 27: '@maniglia_pomello',\n",
              " 28: '@martello_mazzetta_ascia',\n",
              " 29: '@metro_flessometro',\n",
              " 30: '@morsetto_strettoio',\n",
              " 31: '@nastro',\n",
              " 32: '@pennello',\n",
              " 33: '@pinza_punzonatrice_giratubo',\n",
              " 34: '@pinzetta',\n",
              " 35: '@pistola',\n",
              " 36: '@rubinetto_miscelatore_valvola',\n",
              " 37: '@ruota',\n",
              " 38: '@scaffale',\n",
              " 39: '@scala',\n",
              " 40: '@scalpello',\n",
              " 41: '@sega-a-tazza',\n",
              " 42: '@seghetto_sega',\n",
              " 43: '@segnaletica',\n",
              " 44: '@serratura_cilindro',\n",
              " 45: '@spatola_raschietto',\n",
              " 46: '@spazzola',\n",
              " 47: '@staffa_squadretta',\n",
              " 48: '@tassello',\n",
              " 49: '@torcia-faro',\n",
              " 50: '@vernice',\n",
              " 51: '@vite_bullone'}"
            ]
          },
          "metadata": {},
          "execution_count": 42
        }
      ]
    },
    {
      "cell_type": "code",
      "source": [
        "len(train_genre_labels), len(transformed_train_genre_labels)"
      ],
      "metadata": {
        "id": "Q8iTY22HfXsS",
        "colab": {
          "base_uri": "https://localhost:8080/"
        },
        "outputId": "4f2756f9-5796-45f1-8b88-9d31d59f80b0"
      },
      "execution_count": 43,
      "outputs": [
        {
          "output_type": "execute_result",
          "data": {
            "text/plain": [
              "(85959, 85959)"
            ]
          },
          "metadata": {},
          "execution_count": 43
        }
      ]
    },
    {
      "cell_type": "code",
      "source": [
        "len(test_genre_labels), len(transformed_test_genre_labels)"
      ],
      "metadata": {
        "id": "ClRZgMkgg4Sw",
        "colab": {
          "base_uri": "https://localhost:8080/"
        },
        "outputId": "327c8f58-8d1b-4830-e341-f1975e8f749b"
      },
      "execution_count": 44,
      "outputs": [
        {
          "output_type": "execute_result",
          "data": {
            "text/plain": [
              "(28402, 28402)"
            ]
          },
          "metadata": {},
          "execution_count": 44
        }
      ]
    },
    {
      "cell_type": "markdown",
      "source": [
        "Dataset Creating"
      ],
      "metadata": {
        "id": "e297rXtbgwdE"
      }
    },
    {
      "cell_type": "code",
      "source": [
        "from datasets import Dataset\n",
        "\n",
        "train_data = {'image': train_file_paths, 'label': transformed_train_genre_labels}\n",
        "ds_train = Dataset.from_dict(train_data)"
      ],
      "metadata": {
        "id": "6XKv_SEBa6Sz"
      },
      "execution_count": 45,
      "outputs": []
    },
    {
      "cell_type": "code",
      "source": [
        "val_data = {'image': test_file_paths, 'label': transformed_test_genre_labels}\n",
        "ds_val = Dataset.from_dict(val_data)"
      ],
      "metadata": {
        "id": "djhbA0nCaDgq"
      },
      "execution_count": 46,
      "outputs": []
    },
    {
      "cell_type": "code",
      "source": [
        "import PIL.Image as pil\n",
        "\n",
        "def transform(examples):\n",
        "  inputs = image_processor([pil.open(img).convert(\"RGB\") for img in examples[\"image\"]], return_tensors=\"pt\")\n",
        "  inputs[\"labels\"] = examples[\"label\"]\n",
        "  return inputs"
      ],
      "metadata": {
        "id": "9dEy0tTcbTfJ"
      },
      "execution_count": 47,
      "outputs": []
    },
    {
      "cell_type": "code",
      "source": [
        "train_dataset = ds_train.with_transform(transform)\n",
        "val_dataset = ds_val.with_transform(transform)"
      ],
      "metadata": {
        "id": "owz6NIGTbVA7"
      },
      "execution_count": 48,
      "outputs": []
    },
    {
      "cell_type": "code",
      "source": [
        "train_dataset"
      ],
      "metadata": {
        "id": "pet0z7BJdDZO",
        "colab": {
          "base_uri": "https://localhost:8080/"
        },
        "outputId": "3eb22ad1-0953-472c-9567-4bffce10e973"
      },
      "execution_count": 49,
      "outputs": [
        {
          "output_type": "execute_result",
          "data": {
            "text/plain": [
              "Dataset({\n",
              "    features: ['image', 'label'],\n",
              "    num_rows: 85959\n",
              "})"
            ]
          },
          "metadata": {},
          "execution_count": 49
        }
      ]
    },
    {
      "cell_type": "code",
      "source": [
        "val_dataset"
      ],
      "metadata": {
        "id": "00nnqJFvdHIj",
        "colab": {
          "base_uri": "https://localhost:8080/"
        },
        "outputId": "23c57205-cd58-477d-8c2a-9c8a7f86a9b8"
      },
      "execution_count": 50,
      "outputs": [
        {
          "output_type": "execute_result",
          "data": {
            "text/plain": [
              "Dataset({\n",
              "    features: ['image', 'label'],\n",
              "    num_rows: 28402\n",
              "})"
            ]
          },
          "metadata": {},
          "execution_count": 50
        }
      ]
    },
    {
      "cell_type": "code",
      "source": [
        "for item in val_dataset:\n",
        "  print(item['pixel_values'].shape)\n",
        "  print(item[\"labels\"])\n",
        "  break"
      ],
      "metadata": {
        "id": "sPsIroeXbjlY",
        "colab": {
          "base_uri": "https://localhost:8080/"
        },
        "outputId": "30ef8624-4531-4a6e-9751-4b3ce19dc6e1"
      },
      "execution_count": 51,
      "outputs": [
        {
          "output_type": "stream",
          "name": "stdout",
          "text": [
            "torch.Size([3, 224, 224])\n",
            "0\n"
          ]
        }
      ]
    },
    {
      "cell_type": "code",
      "source": [
        "import torch\n",
        "\n",
        "def collate_fn(batch):\n",
        "  return {\n",
        "      \"pixel_values\": torch.stack([x[\"pixel_values\"] for x in batch]),\n",
        "      \"labels\": torch.tensor([x[\"labels\"] for x in batch]),\n",
        "  }"
      ],
      "metadata": {
        "id": "22a48uX4bnZ0"
      },
      "execution_count": 52,
      "outputs": []
    },
    {
      "cell_type": "code",
      "source": [
        "# load the ViT model\n",
        "model = ViTForImageClassification.from_pretrained(\n",
        "    model_name,\n",
        "    num_labels=len(unique_labels_list),\n",
        "    # id2label={str(i): c for i, c in enumerate(unique_labels_list)},\n",
        "    id2label=id_to_label_mapping,\n",
        "    label2id=label_to_id_mapping,\n",
        "    # label2id={c: str(i) for i, c in enumerate(unique_labels_list)},\n",
        "    ignore_mismatched_sizes=True,\n",
        ")"
      ],
      "metadata": {
        "id": "sIQenfhHbz_N",
        "colab": {
          "base_uri": "https://localhost:8080/"
        },
        "outputId": "d2f481ee-75d1-4a4a-d68a-0e08adc29dfd"
      },
      "execution_count": null,
      "outputs": [
        {
          "output_type": "stream",
          "name": "stderr",
          "text": [
            "loading configuration file config.json from cache at /root/.cache/huggingface/hub/models--google--vit-base-patch16-224/snapshots/3f49326eb077187dfe1c2a2bb15fbd74e6ab91e3/config.json\n",
            "Model config ViTConfig {\n",
            "  \"_name_or_path\": \"google/vit-base-patch16-224\",\n",
            "  \"architectures\": [\n",
            "    \"ViTForImageClassification\"\n",
            "  ],\n",
            "  \"attention_probs_dropout_prob\": 0.0,\n",
            "  \"encoder_stride\": 16,\n",
            "  \"hidden_act\": \"gelu\",\n",
            "  \"hidden_dropout_prob\": 0.0,\n",
            "  \"hidden_size\": 768,\n",
            "  \"id2label\": {\n",
            "    \"0\": \"@accessori_saldatore\",\n",
            "    \"1\": \"@accessori_trapano\",\n",
            "    \"2\": \"@armadio_cassettiera\",\n",
            "    \"3\": \"@bancale_cargo\",\n",
            "    \"4\": \"@banco\",\n",
            "    \"5\": \"@brugola\",\n",
            "    \"6\": \"@cacciavite_giravite_cercafase\",\n",
            "    \"7\": \"@carrello\",\n",
            "    \"8\": \"@carta-vetrata_carta-abrasiva\",\n",
            "    \"9\": \"@cassaforte\",\n",
            "    \"10\": \"@catena\",\n",
            "    \"11\": \"@cazzuola_frattone\",\n",
            "    \"12\": \"@cerniera_bandella\",\n",
            "    \"13\": \"@chiave-a-bussola_tubo\",\n",
            "    \"14\": \"@chiave_inglese_poligonale\",\n",
            "    \"15\": \"@chiavistello\",\n",
            "    \"16\": \"@chiodo_rivetto\",\n",
            "    \"17\": \"@colla_silicone\",\n",
            "    \"18\": \"@collare\",\n",
            "    \"19\": \"@coltello\",\n",
            "    \"20\": \"@estrattore\",\n",
            "    \"21\": \"@forbice_cesoia\",\n",
            "    \"22\": \"@lama_seghetto_sega\",\n",
            "    \"23\": \"@lame_sega_circolare\",\n",
            "    \"24\": \"@lima_grattuggia_raspa\",\n",
            "    \"25\": \"@livella\",\n",
            "    \"26\": \"@lucchetto\",\n",
            "    \"27\": \"@maniglia_pomello\",\n",
            "    \"28\": \"@martello_mazzetta_ascia\",\n",
            "    \"29\": \"@metro_flessometro\",\n",
            "    \"30\": \"@morsetto_strettoio\",\n",
            "    \"31\": \"@nastro\",\n",
            "    \"32\": \"@pennello\",\n",
            "    \"33\": \"@pinza_punzonatrice_giratubo\",\n",
            "    \"34\": \"@pinzetta\",\n",
            "    \"35\": \"@pistola\",\n",
            "    \"36\": \"@rubinetto_miscelatore_valvola\",\n",
            "    \"37\": \"@ruota\",\n",
            "    \"38\": \"@scaffale\",\n",
            "    \"39\": \"@scala\",\n",
            "    \"40\": \"@scalpello\",\n",
            "    \"41\": \"@sega-a-tazza\",\n",
            "    \"42\": \"@seghetto_sega\",\n",
            "    \"43\": \"@segnaletica\",\n",
            "    \"44\": \"@serratura_cilindro\",\n",
            "    \"45\": \"@spatola_raschietto\",\n",
            "    \"46\": \"@spazzola\",\n",
            "    \"47\": \"@staffa_squadretta\",\n",
            "    \"48\": \"@tassello\",\n",
            "    \"49\": \"@torcia-faro\",\n",
            "    \"50\": \"@vernice\",\n",
            "    \"51\": \"@vite_bullone\"\n",
            "  },\n",
            "  \"image_size\": 224,\n",
            "  \"initializer_range\": 0.02,\n",
            "  \"intermediate_size\": 3072,\n",
            "  \"label2id\": {\n",
            "    \"@accessori_saldatore\": 0,\n",
            "    \"@accessori_trapano\": 1,\n",
            "    \"@armadio_cassettiera\": 2,\n",
            "    \"@bancale_cargo\": 3,\n",
            "    \"@banco\": 4,\n",
            "    \"@brugola\": 5,\n",
            "    \"@cacciavite_giravite_cercafase\": 6,\n",
            "    \"@carrello\": 7,\n",
            "    \"@carta-vetrata_carta-abrasiva\": 8,\n",
            "    \"@cassaforte\": 9,\n",
            "    \"@catena\": 10,\n",
            "    \"@cazzuola_frattone\": 11,\n",
            "    \"@cerniera_bandella\": 12,\n",
            "    \"@chiave-a-bussola_tubo\": 13,\n",
            "    \"@chiave_inglese_poligonale\": 14,\n",
            "    \"@chiavistello\": 15,\n",
            "    \"@chiodo_rivetto\": 16,\n",
            "    \"@colla_silicone\": 17,\n",
            "    \"@collare\": 18,\n",
            "    \"@coltello\": 19,\n",
            "    \"@estrattore\": 20,\n",
            "    \"@forbice_cesoia\": 21,\n",
            "    \"@lama_seghetto_sega\": 22,\n",
            "    \"@lame_sega_circolare\": 23,\n",
            "    \"@lima_grattuggia_raspa\": 24,\n",
            "    \"@livella\": 25,\n",
            "    \"@lucchetto\": 26,\n",
            "    \"@maniglia_pomello\": 27,\n",
            "    \"@martello_mazzetta_ascia\": 28,\n",
            "    \"@metro_flessometro\": 29,\n",
            "    \"@morsetto_strettoio\": 30,\n",
            "    \"@nastro\": 31,\n",
            "    \"@pennello\": 32,\n",
            "    \"@pinza_punzonatrice_giratubo\": 33,\n",
            "    \"@pinzetta\": 34,\n",
            "    \"@pistola\": 35,\n",
            "    \"@rubinetto_miscelatore_valvola\": 36,\n",
            "    \"@ruota\": 37,\n",
            "    \"@scaffale\": 38,\n",
            "    \"@scala\": 39,\n",
            "    \"@scalpello\": 40,\n",
            "    \"@sega-a-tazza\": 41,\n",
            "    \"@seghetto_sega\": 42,\n",
            "    \"@segnaletica\": 43,\n",
            "    \"@serratura_cilindro\": 44,\n",
            "    \"@spatola_raschietto\": 45,\n",
            "    \"@spazzola\": 46,\n",
            "    \"@staffa_squadretta\": 47,\n",
            "    \"@tassello\": 48,\n",
            "    \"@torcia-faro\": 49,\n",
            "    \"@vernice\": 50,\n",
            "    \"@vite_bullone\": 51\n",
            "  },\n",
            "  \"layer_norm_eps\": 1e-12,\n",
            "  \"model_type\": \"vit\",\n",
            "  \"num_attention_heads\": 12,\n",
            "  \"num_channels\": 3,\n",
            "  \"num_hidden_layers\": 12,\n",
            "  \"patch_size\": 16,\n",
            "  \"qkv_bias\": true,\n",
            "  \"transformers_version\": \"4.32.1\"\n",
            "}\n",
            "\n",
            "loading weights file model.safetensors from cache at /root/.cache/huggingface/hub/models--google--vit-base-patch16-224/snapshots/3f49326eb077187dfe1c2a2bb15fbd74e6ab91e3/model.safetensors\n",
            "All model checkpoint weights were used when initializing ViTForImageClassification.\n",
            "\n",
            "Some weights of ViTForImageClassification were not initialized from the model checkpoint at google/vit-base-patch16-224 and are newly initialized because the shapes did not match:\n",
            "- classifier.bias: found shape torch.Size([1000]) in the checkpoint and torch.Size([52]) in the model instantiated\n",
            "- classifier.weight: found shape torch.Size([1000, 768]) in the checkpoint and torch.Size([52, 768]) in the model instantiated\n",
            "You should probably TRAIN this model on a down-stream task to be able to use it for predictions and inference.\n"
          ]
        }
      ]
    },
    {
      "cell_type": "markdown",
      "source": [
        "Evaluation Metric"
      ],
      "metadata": {
        "id": "KLVUJAqgcCRy"
      }
    },
    {
      "cell_type": "code",
      "source": [
        "from evaluate import load\n",
        "import numpy as np\n",
        "from sklearn.metrics import roc_auc_score\n",
        "\n",
        "# load the accuracy and f1 metrics from the evaluate module\n",
        "accuracy = load(\"accuracy\")\n",
        "f1 = load(\"f1\")\n",
        "\n",
        "def compute_metrics(eval_pred):\n",
        "  # compute the accuracy and f1 scores & return them\n",
        "  accuracy_score = accuracy.compute(predictions=np.argmax(eval_pred.predictions, axis=1), references=eval_pred.label_ids)\n",
        "  f1_score = f1.compute(predictions=np.argmax(eval_pred.predictions, axis=1), references=eval_pred.label_ids, average=\"macro\")\n",
        "\n",
        "  # auroc_score = roc_auc_score(eval_pred.label_ids, np.argmax(eval_pred.predictions, axis=1))\n",
        "  # print(f\"AUROC Score: {auroc_score:.4f}\")\n",
        "\n",
        "  return {**accuracy_score, **f1_score}"
      ],
      "metadata": {
        "id": "23DkFdTNcCtE"
      },
      "execution_count": null,
      "outputs": []
    },
    {
      "cell_type": "markdown",
      "source": [
        "Training"
      ],
      "metadata": {
        "id": "FuDfvAopcHUs"
      }
    },
    {
      "cell_type": "code",
      "source": [
        "# !pip install accelerate -U\n",
        "# !pip install transformers[torch]"
      ],
      "metadata": {
        "id": "665OJ9i4cudJ"
      },
      "execution_count": null,
      "outputs": []
    },
    {
      "cell_type": "code",
      "source": [
        "from transformers import TrainingArguments\n",
        "\n",
        "training_args = TrainingArguments(\n",
        "  output_dir=\"/content/Model/Models-Train-37\", # output directory\n",
        "  per_device_train_batch_size=32, # batch size per device during training\n",
        "  evaluation_strategy=\"steps\",    # evaluation strategy to adopt during training\n",
        "  num_train_epochs=20,             # total number of training epochs\n",
        "  # fp16=True,                    # use mixed precision\n",
        "  save_steps=8000,                # number of update steps before saving checkpoint\n",
        "  eval_steps=8000,                # number of update steps before evaluating\n",
        "  logging_steps=8000,             # number of update steps before logging\n",
        "  # save_steps=50,\n",
        "  # eval_steps=50,\n",
        "  # logging_steps=50,\n",
        "  save_total_limit=4,             # limit the total amount of checkpoints on disk\n",
        "  remove_unused_columns=False,    # remove unused columns from the dataset\n",
        "  push_to_hub=False,              # do not push the model to the hub\n",
        "  report_to='tensorboard',        # report metrics to tensorboard\n",
        "  load_best_model_at_end=True,    # load the best model at the end of training\n",
        ")"
      ],
      "metadata": {
        "id": "xApZuICNcqvR",
        "colab": {
          "base_uri": "https://localhost:8080/"
        },
        "outputId": "4831e6ed-9901-4104-e085-ca07d3cdc211"
      },
      "execution_count": null,
      "outputs": [
        {
          "output_type": "stream",
          "name": "stderr",
          "text": [
            "Found safetensors installation, but --save_safetensors=False. Safetensors should be a preferred weights saving format due to security and performance reasons. If your model cannot be saved by safetensors please feel free to open an issue at https://github.com/huggingface/safetensors!\n",
            "PyTorch: setting up devices\n"
          ]
        }
      ]
    },
    {
      "cell_type": "code",
      "source": [
        "from transformers import Trainer\n",
        "\n",
        "trainer = Trainer(\n",
        "    model=model,                        # the instantiated 🤗 Transformers model to be trained\n",
        "    args=training_args,                 # training arguments, defined above\n",
        "    data_collator=collate_fn,           # the data collator that will be used for batching\n",
        "    compute_metrics=compute_metrics,    # the metrics function that will be used for evaluation\n",
        "    train_dataset=train_dataset,        # training dataset\n",
        "    eval_dataset=val_dataset,           # evaluation dataset\n",
        "    tokenizer=image_processor,          # the processor that will be used for preprocessing the images\n",
        ")"
      ],
      "metadata": {
        "id": "CDA6IEUzc6M8"
      },
      "execution_count": null,
      "outputs": []
    },
    {
      "cell_type": "code",
      "source": [
        "trainer.train()"
      ],
      "metadata": {
        "id": "0CI-Z4G_c9WT",
        "colab": {
          "base_uri": "https://localhost:8080/",
          "height": 630
        },
        "outputId": "d2925003-5cee-4c7c-8620-6e7a5c4f3e52"
      },
      "execution_count": 42,
      "outputs": [
        {
          "output_type": "stream",
          "name": "stderr",
          "text": [
            "***** Running training *****\n",
            "  Num examples = 85,959\n",
            "  Num Epochs = 20\n",
            "  Instantaneous batch size per device = 32\n",
            "  Total train batch size (w. parallel, distributed & accumulation) = 32\n",
            "  Gradient Accumulation steps = 1\n",
            "  Total optimization steps = 53,740\n",
            "  Number of trainable parameters = 85,838,644\n"
          ]
        },
        {
          "output_type": "display_data",
          "data": {
            "text/plain": [
              "<IPython.core.display.HTML object>"
            ],
            "text/html": [
              "\n",
              "    <div>\n",
              "      \n",
              "      <progress value='24001' max='53740' style='width:300px; height:20px; vertical-align: middle;'></progress>\n",
              "      [24001/53740 9:41:55 < 12:01:06, 0.69 it/s, Epoch 8.93/20]\n",
              "    </div>\n",
              "    <table border=\"1\" class=\"dataframe\">\n",
              "  <thead>\n",
              " <tr style=\"text-align: left;\">\n",
              "      <th>Step</th>\n",
              "      <th>Training Loss</th>\n",
              "      <th>Validation Loss</th>\n",
              "      <th>Accuracy</th>\n",
              "      <th>F1</th>\n",
              "    </tr>\n",
              "  </thead>\n",
              "  <tbody>\n",
              "    <tr>\n",
              "      <td>8000</td>\n",
              "      <td>0.415600</td>\n",
              "      <td>0.315445</td>\n",
              "      <td>0.918844</td>\n",
              "      <td>0.886528</td>\n",
              "    </tr>\n",
              "    <tr>\n",
              "      <td>16000</td>\n",
              "      <td>0.109500</td>\n",
              "      <td>0.340700</td>\n",
              "      <td>0.923914</td>\n",
              "      <td>0.892816</td>\n",
              "    </tr>\n",
              "  </tbody>\n",
              "</table><p>\n",
              "    <div>\n",
              "      \n",
              "      <progress value='3468' max='3551' style='width:300px; height:20px; vertical-align: middle;'></progress>\n",
              "      [3468/3551 08:32 < 00:12, 6.77 it/s]\n",
              "    </div>\n",
              "    "
            ]
          },
          "metadata": {}
        },
        {
          "output_type": "stream",
          "name": "stderr",
          "text": [
            "***** Running Evaluation *****\n",
            "  Num examples = 28402\n",
            "  Batch size = 8\n",
            "Saving model checkpoint to /content/Model/Models-Train-37/checkpoint-8000\n",
            "Configuration saved in /content/Model/Models-Train-37/checkpoint-8000/config.json\n",
            "Model weights saved in /content/Model/Models-Train-37/checkpoint-8000/pytorch_model.bin\n",
            "Image processor saved in /content/Model/Models-Train-37/checkpoint-8000/preprocessor_config.json\n",
            "***** Running Evaluation *****\n",
            "  Num examples = 28402\n",
            "  Batch size = 8\n",
            "Saving model checkpoint to /content/Model/Models-Train-37/checkpoint-16000\n",
            "Configuration saved in /content/Model/Models-Train-37/checkpoint-16000/config.json\n",
            "Model weights saved in /content/Model/Models-Train-37/checkpoint-16000/pytorch_model.bin\n",
            "Image processor saved in /content/Model/Models-Train-37/checkpoint-16000/preprocessor_config.json\n",
            "***** Running Evaluation *****\n",
            "  Num examples = 28402\n",
            "  Batch size = 8\n"
          ]
        },
        {
          "output_type": "stream",
          "name": "stdout",
          "text": [
            "Buffered data was truncated after reaching the output size limit."
          ]
        }
      ]
    },
    {
      "cell_type": "markdown",
      "source": [
        "# Best Model Selection"
      ],
      "metadata": {
        "id": "LWIDbmsuZ6yr"
      }
    },
    {
      "cell_type": "code",
      "source": [
        "from torch.utils.data import DataLoader\n",
        "\n",
        "batch_size = 32\n",
        "valid_dataset_loader = DataLoader(val_dataset, collate_fn=collate_fn, batch_size=batch_size, shuffle=False)"
      ],
      "metadata": {
        "id": "j6YOll-WZ7RK"
      },
      "execution_count": 53,
      "outputs": []
    },
    {
      "cell_type": "code",
      "source": [
        "checkpoint = 8000"
      ],
      "metadata": {
        "id": "b_DhOKQqcRsT"
      },
      "execution_count": 54,
      "outputs": []
    },
    {
      "cell_type": "code",
      "source": [
        "from sklearn.metrics import accuracy_score, precision_score, recall_score, f1_score, roc_auc_score, confusion_matrix, classification_report\n",
        "\n",
        "while checkpoint <= 32000:\n",
        "    model = ViTForImageClassification.from_pretrained(f\"/content/Model/Models-Train-37/checkpoint-{checkpoint}\").to(device)\n",
        "    image_processor = ViTImageProcessor.from_pretrained(f\"/content/Model/Models-Train-37/checkpoint-{checkpoint}\")\n",
        "    model = model.to(device)\n",
        "    model.eval()\n",
        "    predictions, labels = [], []\n",
        "\n",
        "    for batch in valid_dataset_loader:\n",
        "        pixel_values = batch[\"pixel_values\"].to(device)\n",
        "        label_ids = batch[\"labels\"].to(device)\n",
        "\n",
        "        outputs = model(pixel_values=pixel_values, labels=label_ids)\n",
        "        logits = outputs.logits.detach().cpu()\n",
        "\n",
        "        predictions.extend(logits.argmax(dim=-1).tolist())\n",
        "        labels.extend(label_ids.tolist())\n",
        "\n",
        "    accuracy = accuracy_score(labels, predictions)\n",
        "    precision = precision_score(labels, predictions, average='weighted')\n",
        "    recall = recall_score(labels, predictions, average='weighted')\n",
        "    f1 = f1_score(labels, predictions, average='weighted')\n",
        "\n",
        "    print(\"Accuracy: \", accuracy)\n",
        "    print(\"precision: \", precision)\n",
        "    print(\"f1_score: \", f1)\n",
        "    print(\"recall\", recall)\n",
        "    print(classification_report(labels, predictions))\n",
        "    checkpoint = checkpoint + 8000"
      ],
      "metadata": {
        "id": "OLAwNwLPbe8I",
        "colab": {
          "base_uri": "https://localhost:8080/"
        },
        "outputId": "fac6ad43-3a03-44db-afbd-88538d296202"
      },
      "execution_count": 55,
      "outputs": [
        {
          "output_type": "stream",
          "name": "stderr",
          "text": [
            "loading configuration file /content/Model/Models-Train-37/checkpoint-8000/config.json\n",
            "Model config ViTConfig {\n",
            "  \"_name_or_path\": \"google/vit-base-patch16-224\",\n",
            "  \"architectures\": [\n",
            "    \"ViTForImageClassification\"\n",
            "  ],\n",
            "  \"attention_probs_dropout_prob\": 0.0,\n",
            "  \"encoder_stride\": 16,\n",
            "  \"hidden_act\": \"gelu\",\n",
            "  \"hidden_dropout_prob\": 0.0,\n",
            "  \"hidden_size\": 768,\n",
            "  \"id2label\": {\n",
            "    \"0\": \"@accessori_saldatore\",\n",
            "    \"1\": \"@accessori_trapano\",\n",
            "    \"2\": \"@armadio_cassettiera\",\n",
            "    \"3\": \"@bancale_cargo\",\n",
            "    \"4\": \"@banco\",\n",
            "    \"5\": \"@brugola\",\n",
            "    \"6\": \"@cacciavite_giravite_cercafase\",\n",
            "    \"7\": \"@carrello\",\n",
            "    \"8\": \"@carta-vetrata_carta-abrasiva\",\n",
            "    \"9\": \"@cassaforte\",\n",
            "    \"10\": \"@catena\",\n",
            "    \"11\": \"@cazzuola_frattone\",\n",
            "    \"12\": \"@cerniera_bandella\",\n",
            "    \"13\": \"@chiave-a-bussola_tubo\",\n",
            "    \"14\": \"@chiave_inglese_poligonale\",\n",
            "    \"15\": \"@chiavistello\",\n",
            "    \"16\": \"@chiodo_rivetto\",\n",
            "    \"17\": \"@colla_silicone\",\n",
            "    \"18\": \"@collare\",\n",
            "    \"19\": \"@coltello\",\n",
            "    \"20\": \"@estrattore\",\n",
            "    \"21\": \"@forbice_cesoia\",\n",
            "    \"22\": \"@lama_seghetto_sega\",\n",
            "    \"23\": \"@lame_sega_circolare\",\n",
            "    \"24\": \"@lima_grattuggia_raspa\",\n",
            "    \"25\": \"@livella\",\n",
            "    \"26\": \"@lucchetto\",\n",
            "    \"27\": \"@maniglia_pomello\",\n",
            "    \"28\": \"@martello_mazzetta_ascia\",\n",
            "    \"29\": \"@metro_flessometro\",\n",
            "    \"30\": \"@morsetto_strettoio\",\n",
            "    \"31\": \"@nastro\",\n",
            "    \"32\": \"@pennello\",\n",
            "    \"33\": \"@pinza_punzonatrice_giratubo\",\n",
            "    \"34\": \"@pinzetta\",\n",
            "    \"35\": \"@pistola\",\n",
            "    \"36\": \"@rubinetto_miscelatore_valvola\",\n",
            "    \"37\": \"@ruota\",\n",
            "    \"38\": \"@scaffale\",\n",
            "    \"39\": \"@scala\",\n",
            "    \"40\": \"@scalpello\",\n",
            "    \"41\": \"@sega-a-tazza\",\n",
            "    \"42\": \"@seghetto_sega\",\n",
            "    \"43\": \"@segnaletica\",\n",
            "    \"44\": \"@serratura_cilindro\",\n",
            "    \"45\": \"@spatola_raschietto\",\n",
            "    \"46\": \"@spazzola\",\n",
            "    \"47\": \"@staffa_squadretta\",\n",
            "    \"48\": \"@tassello\",\n",
            "    \"49\": \"@torcia-faro\",\n",
            "    \"50\": \"@vernice\",\n",
            "    \"51\": \"@vite_bullone\"\n",
            "  },\n",
            "  \"image_size\": 224,\n",
            "  \"initializer_range\": 0.02,\n",
            "  \"intermediate_size\": 3072,\n",
            "  \"label2id\": {\n",
            "    \"@accessori_saldatore\": 0,\n",
            "    \"@accessori_trapano\": 1,\n",
            "    \"@armadio_cassettiera\": 2,\n",
            "    \"@bancale_cargo\": 3,\n",
            "    \"@banco\": 4,\n",
            "    \"@brugola\": 5,\n",
            "    \"@cacciavite_giravite_cercafase\": 6,\n",
            "    \"@carrello\": 7,\n",
            "    \"@carta-vetrata_carta-abrasiva\": 8,\n",
            "    \"@cassaforte\": 9,\n",
            "    \"@catena\": 10,\n",
            "    \"@cazzuola_frattone\": 11,\n",
            "    \"@cerniera_bandella\": 12,\n",
            "    \"@chiave-a-bussola_tubo\": 13,\n",
            "    \"@chiave_inglese_poligonale\": 14,\n",
            "    \"@chiavistello\": 15,\n",
            "    \"@chiodo_rivetto\": 16,\n",
            "    \"@colla_silicone\": 17,\n",
            "    \"@collare\": 18,\n",
            "    \"@coltello\": 19,\n",
            "    \"@estrattore\": 20,\n",
            "    \"@forbice_cesoia\": 21,\n",
            "    \"@lama_seghetto_sega\": 22,\n",
            "    \"@lame_sega_circolare\": 23,\n",
            "    \"@lima_grattuggia_raspa\": 24,\n",
            "    \"@livella\": 25,\n",
            "    \"@lucchetto\": 26,\n",
            "    \"@maniglia_pomello\": 27,\n",
            "    \"@martello_mazzetta_ascia\": 28,\n",
            "    \"@metro_flessometro\": 29,\n",
            "    \"@morsetto_strettoio\": 30,\n",
            "    \"@nastro\": 31,\n",
            "    \"@pennello\": 32,\n",
            "    \"@pinza_punzonatrice_giratubo\": 33,\n",
            "    \"@pinzetta\": 34,\n",
            "    \"@pistola\": 35,\n",
            "    \"@rubinetto_miscelatore_valvola\": 36,\n",
            "    \"@ruota\": 37,\n",
            "    \"@scaffale\": 38,\n",
            "    \"@scala\": 39,\n",
            "    \"@scalpello\": 40,\n",
            "    \"@sega-a-tazza\": 41,\n",
            "    \"@seghetto_sega\": 42,\n",
            "    \"@segnaletica\": 43,\n",
            "    \"@serratura_cilindro\": 44,\n",
            "    \"@spatola_raschietto\": 45,\n",
            "    \"@spazzola\": 46,\n",
            "    \"@staffa_squadretta\": 47,\n",
            "    \"@tassello\": 48,\n",
            "    \"@torcia-faro\": 49,\n",
            "    \"@vernice\": 50,\n",
            "    \"@vite_bullone\": 51\n",
            "  },\n",
            "  \"layer_norm_eps\": 1e-12,\n",
            "  \"model_type\": \"vit\",\n",
            "  \"num_attention_heads\": 12,\n",
            "  \"num_channels\": 3,\n",
            "  \"num_hidden_layers\": 12,\n",
            "  \"patch_size\": 16,\n",
            "  \"problem_type\": \"single_label_classification\",\n",
            "  \"qkv_bias\": true,\n",
            "  \"torch_dtype\": \"float32\",\n",
            "  \"transformers_version\": \"4.32.1\"\n",
            "}\n",
            "\n",
            "loading weights file /content/Model/Models-Train-37/checkpoint-8000/pytorch_model.bin\n",
            "All model checkpoint weights were used when initializing ViTForImageClassification.\n",
            "\n",
            "All the weights of ViTForImageClassification were initialized from the model checkpoint at /content/Model/Models-Train-37/checkpoint-8000.\n",
            "If your task is similar to the task the model of the checkpoint was trained on, you can already use ViTForImageClassification for predictions without further training.\n",
            "loading configuration file /content/Model/Models-Train-37/checkpoint-8000/preprocessor_config.json\n",
            "Image processor ViTImageProcessor {\n",
            "  \"do_normalize\": true,\n",
            "  \"do_rescale\": true,\n",
            "  \"do_resize\": true,\n",
            "  \"image_mean\": [\n",
            "    0.5,\n",
            "    0.5,\n",
            "    0.5\n",
            "  ],\n",
            "  \"image_processor_type\": \"ViTImageProcessor\",\n",
            "  \"image_std\": [\n",
            "    0.5,\n",
            "    0.5,\n",
            "    0.5\n",
            "  ],\n",
            "  \"resample\": 2,\n",
            "  \"rescale_factor\": 0.00392156862745098,\n",
            "  \"size\": {\n",
            "    \"height\": 224,\n",
            "    \"width\": 224\n",
            "  }\n",
            "}\n",
            "\n",
            "loading configuration file /content/Model/Models-Train-37/checkpoint-16000/config.json\n",
            "Model config ViTConfig {\n",
            "  \"_name_or_path\": \"google/vit-base-patch16-224\",\n",
            "  \"architectures\": [\n",
            "    \"ViTForImageClassification\"\n",
            "  ],\n",
            "  \"attention_probs_dropout_prob\": 0.0,\n",
            "  \"encoder_stride\": 16,\n",
            "  \"hidden_act\": \"gelu\",\n",
            "  \"hidden_dropout_prob\": 0.0,\n",
            "  \"hidden_size\": 768,\n",
            "  \"id2label\": {\n",
            "    \"0\": \"@accessori_saldatore\",\n",
            "    \"1\": \"@accessori_trapano\",\n",
            "    \"2\": \"@armadio_cassettiera\",\n",
            "    \"3\": \"@bancale_cargo\",\n",
            "    \"4\": \"@banco\",\n",
            "    \"5\": \"@brugola\",\n",
            "    \"6\": \"@cacciavite_giravite_cercafase\",\n",
            "    \"7\": \"@carrello\",\n",
            "    \"8\": \"@carta-vetrata_carta-abrasiva\",\n",
            "    \"9\": \"@cassaforte\",\n",
            "    \"10\": \"@catena\",\n",
            "    \"11\": \"@cazzuola_frattone\",\n",
            "    \"12\": \"@cerniera_bandella\",\n",
            "    \"13\": \"@chiave-a-bussola_tubo\",\n",
            "    \"14\": \"@chiave_inglese_poligonale\",\n",
            "    \"15\": \"@chiavistello\",\n",
            "    \"16\": \"@chiodo_rivetto\",\n",
            "    \"17\": \"@colla_silicone\",\n",
            "    \"18\": \"@collare\",\n",
            "    \"19\": \"@coltello\",\n",
            "    \"20\": \"@estrattore\",\n",
            "    \"21\": \"@forbice_cesoia\",\n",
            "    \"22\": \"@lama_seghetto_sega\",\n",
            "    \"23\": \"@lame_sega_circolare\",\n",
            "    \"24\": \"@lima_grattuggia_raspa\",\n",
            "    \"25\": \"@livella\",\n",
            "    \"26\": \"@lucchetto\",\n",
            "    \"27\": \"@maniglia_pomello\",\n",
            "    \"28\": \"@martello_mazzetta_ascia\",\n",
            "    \"29\": \"@metro_flessometro\",\n",
            "    \"30\": \"@morsetto_strettoio\",\n",
            "    \"31\": \"@nastro\",\n",
            "    \"32\": \"@pennello\",\n",
            "    \"33\": \"@pinza_punzonatrice_giratubo\",\n",
            "    \"34\": \"@pinzetta\",\n",
            "    \"35\": \"@pistola\",\n",
            "    \"36\": \"@rubinetto_miscelatore_valvola\",\n",
            "    \"37\": \"@ruota\",\n",
            "    \"38\": \"@scaffale\",\n",
            "    \"39\": \"@scala\",\n",
            "    \"40\": \"@scalpello\",\n",
            "    \"41\": \"@sega-a-tazza\",\n",
            "    \"42\": \"@seghetto_sega\",\n",
            "    \"43\": \"@segnaletica\",\n",
            "    \"44\": \"@serratura_cilindro\",\n",
            "    \"45\": \"@spatola_raschietto\",\n",
            "    \"46\": \"@spazzola\",\n",
            "    \"47\": \"@staffa_squadretta\",\n",
            "    \"48\": \"@tassello\",\n",
            "    \"49\": \"@torcia-faro\",\n",
            "    \"50\": \"@vernice\",\n",
            "    \"51\": \"@vite_bullone\"\n",
            "  },\n",
            "  \"image_size\": 224,\n",
            "  \"initializer_range\": 0.02,\n",
            "  \"intermediate_size\": 3072,\n",
            "  \"label2id\": {\n",
            "    \"@accessori_saldatore\": 0,\n",
            "    \"@accessori_trapano\": 1,\n",
            "    \"@armadio_cassettiera\": 2,\n",
            "    \"@bancale_cargo\": 3,\n",
            "    \"@banco\": 4,\n",
            "    \"@brugola\": 5,\n",
            "    \"@cacciavite_giravite_cercafase\": 6,\n",
            "    \"@carrello\": 7,\n",
            "    \"@carta-vetrata_carta-abrasiva\": 8,\n",
            "    \"@cassaforte\": 9,\n",
            "    \"@catena\": 10,\n",
            "    \"@cazzuola_frattone\": 11,\n",
            "    \"@cerniera_bandella\": 12,\n",
            "    \"@chiave-a-bussola_tubo\": 13,\n",
            "    \"@chiave_inglese_poligonale\": 14,\n",
            "    \"@chiavistello\": 15,\n",
            "    \"@chiodo_rivetto\": 16,\n",
            "    \"@colla_silicone\": 17,\n",
            "    \"@collare\": 18,\n",
            "    \"@coltello\": 19,\n",
            "    \"@estrattore\": 20,\n",
            "    \"@forbice_cesoia\": 21,\n",
            "    \"@lama_seghetto_sega\": 22,\n",
            "    \"@lame_sega_circolare\": 23,\n",
            "    \"@lima_grattuggia_raspa\": 24,\n",
            "    \"@livella\": 25,\n",
            "    \"@lucchetto\": 26,\n",
            "    \"@maniglia_pomello\": 27,\n",
            "    \"@martello_mazzetta_ascia\": 28,\n",
            "    \"@metro_flessometro\": 29,\n",
            "    \"@morsetto_strettoio\": 30,\n",
            "    \"@nastro\": 31,\n",
            "    \"@pennello\": 32,\n",
            "    \"@pinza_punzonatrice_giratubo\": 33,\n",
            "    \"@pinzetta\": 34,\n",
            "    \"@pistola\": 35,\n",
            "    \"@rubinetto_miscelatore_valvola\": 36,\n",
            "    \"@ruota\": 37,\n",
            "    \"@scaffale\": 38,\n",
            "    \"@scala\": 39,\n",
            "    \"@scalpello\": 40,\n",
            "    \"@sega-a-tazza\": 41,\n",
            "    \"@seghetto_sega\": 42,\n",
            "    \"@segnaletica\": 43,\n",
            "    \"@serratura_cilindro\": 44,\n",
            "    \"@spatola_raschietto\": 45,\n",
            "    \"@spazzola\": 46,\n",
            "    \"@staffa_squadretta\": 47,\n",
            "    \"@tassello\": 48,\n",
            "    \"@torcia-faro\": 49,\n",
            "    \"@vernice\": 50,\n",
            "    \"@vite_bullone\": 51\n",
            "  },\n",
            "  \"layer_norm_eps\": 1e-12,\n",
            "  \"model_type\": \"vit\",\n",
            "  \"num_attention_heads\": 12,\n",
            "  \"num_channels\": 3,\n",
            "  \"num_hidden_layers\": 12,\n",
            "  \"patch_size\": 16,\n",
            "  \"problem_type\": \"single_label_classification\",\n",
            "  \"qkv_bias\": true,\n",
            "  \"torch_dtype\": \"float32\",\n",
            "  \"transformers_version\": \"4.32.1\"\n",
            "}\n",
            "\n",
            "loading weights file /content/Model/Models-Train-37/checkpoint-16000/pytorch_model.bin\n"
          ]
        },
        {
          "output_type": "stream",
          "name": "stdout",
          "text": [
            "Accuracy:  0.9188437433983522\n",
            "precision:  0.9174667305659775\n",
            "f1_score:  0.9169665113383682\n",
            "recall 0.9188437433983522\n",
            "              precision    recall  f1-score   support\n",
            "\n",
            "           0       0.69      0.47      0.56        76\n",
            "           1       0.93      0.97      0.95      2442\n",
            "           2       0.95      0.90      0.92       448\n",
            "           3       0.97      0.98      0.98        62\n",
            "           4       0.94      0.98      0.96       171\n",
            "           5       0.90      0.81      0.85       228\n",
            "           6       0.96      0.98      0.97      1389\n",
            "           7       0.95      0.88      0.92       192\n",
            "           8       0.97      0.96      0.96       861\n",
            "           9       0.97      0.98      0.97       834\n",
            "          10       0.85      0.93      0.89       176\n",
            "          11       0.93      0.89      0.91        45\n",
            "          12       0.83      0.83      0.83       145\n",
            "          13       0.93      0.91      0.92      1094\n",
            "          14       0.91      0.97      0.94      2021\n",
            "          15       0.72      0.50      0.59        46\n",
            "          16       0.80      0.92      0.86        66\n",
            "          17       0.86      0.93      0.89       267\n",
            "          18       0.84      0.93      0.88        76\n",
            "          19       0.59      0.53      0.56        55\n",
            "          20       0.95      0.86      0.90        42\n",
            "          21       0.78      0.65      0.71      2503\n",
            "          22       0.90      0.88      0.89       365\n",
            "          23       0.97      0.97      0.97       824\n",
            "          24       0.93      0.94      0.94       351\n",
            "          25       0.95      0.97      0.96       254\n",
            "          26       0.97      0.93      0.95       585\n",
            "          27       0.95      0.97      0.96       906\n",
            "          28       0.98      0.97      0.97       903\n",
            "          29       0.87      0.90      0.88       189\n",
            "          30       0.83      0.81      0.82       110\n",
            "          31       0.89      0.88      0.89       430\n",
            "          32       0.90      0.87      0.88        70\n",
            "          33       0.81      0.92      0.86      1554\n",
            "          34       0.90      0.84      0.87        94\n",
            "          35       0.86      0.90      0.88       192\n",
            "          36       0.91      0.97      0.94       309\n",
            "          37       0.97      0.92      0.94       189\n",
            "          38       0.98      0.99      0.99       184\n",
            "          39       0.98      0.98      0.98       425\n",
            "          40       0.85      0.92      0.89       263\n",
            "          41       0.96      0.96      0.96       678\n",
            "          42       0.84      0.86      0.85       204\n",
            "          43       0.99      0.99      0.99      1757\n",
            "          44       0.88      0.89      0.89       330\n",
            "          45       0.89      0.69      0.78        48\n",
            "          46       0.87      0.63      0.73       104\n",
            "          47       0.86      0.80      0.83       150\n",
            "          48       0.88      0.91      0.90       492\n",
            "          49       0.90      0.83      0.86       206\n",
            "          50       0.98      0.93      0.96       137\n",
            "          51       0.97      0.98      0.98      2860\n",
            "\n",
            "    accuracy                           0.92     28402\n",
            "   macro avg       0.90      0.88      0.89     28402\n",
            "weighted avg       0.92      0.92      0.92     28402\n",
            "\n"
          ]
        },
        {
          "output_type": "stream",
          "name": "stderr",
          "text": [
            "All model checkpoint weights were used when initializing ViTForImageClassification.\n",
            "\n",
            "All the weights of ViTForImageClassification were initialized from the model checkpoint at /content/Model/Models-Train-37/checkpoint-16000.\n",
            "If your task is similar to the task the model of the checkpoint was trained on, you can already use ViTForImageClassification for predictions without further training.\n",
            "loading configuration file /content/Model/Models-Train-37/checkpoint-16000/preprocessor_config.json\n",
            "Image processor ViTImageProcessor {\n",
            "  \"do_normalize\": true,\n",
            "  \"do_rescale\": true,\n",
            "  \"do_resize\": true,\n",
            "  \"image_mean\": [\n",
            "    0.5,\n",
            "    0.5,\n",
            "    0.5\n",
            "  ],\n",
            "  \"image_processor_type\": \"ViTImageProcessor\",\n",
            "  \"image_std\": [\n",
            "    0.5,\n",
            "    0.5,\n",
            "    0.5\n",
            "  ],\n",
            "  \"resample\": 2,\n",
            "  \"rescale_factor\": 0.00392156862745098,\n",
            "  \"size\": {\n",
            "    \"height\": 224,\n",
            "    \"width\": 224\n",
            "  }\n",
            "}\n",
            "\n",
            "loading configuration file /content/Model/Models-Train-37/checkpoint-24000/config.json\n",
            "Model config ViTConfig {\n",
            "  \"_name_or_path\": \"google/vit-base-patch16-224\",\n",
            "  \"architectures\": [\n",
            "    \"ViTForImageClassification\"\n",
            "  ],\n",
            "  \"attention_probs_dropout_prob\": 0.0,\n",
            "  \"encoder_stride\": 16,\n",
            "  \"hidden_act\": \"gelu\",\n",
            "  \"hidden_dropout_prob\": 0.0,\n",
            "  \"hidden_size\": 768,\n",
            "  \"id2label\": {\n",
            "    \"0\": \"@accessori_saldatore\",\n",
            "    \"1\": \"@accessori_trapano\",\n",
            "    \"2\": \"@armadio_cassettiera\",\n",
            "    \"3\": \"@bancale_cargo\",\n",
            "    \"4\": \"@banco\",\n",
            "    \"5\": \"@brugola\",\n",
            "    \"6\": \"@cacciavite_giravite_cercafase\",\n",
            "    \"7\": \"@carrello\",\n",
            "    \"8\": \"@carta-vetrata_carta-abrasiva\",\n",
            "    \"9\": \"@cassaforte\",\n",
            "    \"10\": \"@catena\",\n",
            "    \"11\": \"@cazzuola_frattone\",\n",
            "    \"12\": \"@cerniera_bandella\",\n",
            "    \"13\": \"@chiave-a-bussola_tubo\",\n",
            "    \"14\": \"@chiave_inglese_poligonale\",\n",
            "    \"15\": \"@chiavistello\",\n",
            "    \"16\": \"@chiodo_rivetto\",\n",
            "    \"17\": \"@colla_silicone\",\n",
            "    \"18\": \"@collare\",\n",
            "    \"19\": \"@coltello\",\n",
            "    \"20\": \"@estrattore\",\n",
            "    \"21\": \"@forbice_cesoia\",\n",
            "    \"22\": \"@lama_seghetto_sega\",\n",
            "    \"23\": \"@lame_sega_circolare\",\n",
            "    \"24\": \"@lima_grattuggia_raspa\",\n",
            "    \"25\": \"@livella\",\n",
            "    \"26\": \"@lucchetto\",\n",
            "    \"27\": \"@maniglia_pomello\",\n",
            "    \"28\": \"@martello_mazzetta_ascia\",\n",
            "    \"29\": \"@metro_flessometro\",\n",
            "    \"30\": \"@morsetto_strettoio\",\n",
            "    \"31\": \"@nastro\",\n",
            "    \"32\": \"@pennello\",\n",
            "    \"33\": \"@pinza_punzonatrice_giratubo\",\n",
            "    \"34\": \"@pinzetta\",\n",
            "    \"35\": \"@pistola\",\n",
            "    \"36\": \"@rubinetto_miscelatore_valvola\",\n",
            "    \"37\": \"@ruota\",\n",
            "    \"38\": \"@scaffale\",\n",
            "    \"39\": \"@scala\",\n",
            "    \"40\": \"@scalpello\",\n",
            "    \"41\": \"@sega-a-tazza\",\n",
            "    \"42\": \"@seghetto_sega\",\n",
            "    \"43\": \"@segnaletica\",\n",
            "    \"44\": \"@serratura_cilindro\",\n",
            "    \"45\": \"@spatola_raschietto\",\n",
            "    \"46\": \"@spazzola\",\n",
            "    \"47\": \"@staffa_squadretta\",\n",
            "    \"48\": \"@tassello\",\n",
            "    \"49\": \"@torcia-faro\",\n",
            "    \"50\": \"@vernice\",\n",
            "    \"51\": \"@vite_bullone\"\n",
            "  },\n",
            "  \"image_size\": 224,\n",
            "  \"initializer_range\": 0.02,\n",
            "  \"intermediate_size\": 3072,\n",
            "  \"label2id\": {\n",
            "    \"@accessori_saldatore\": 0,\n",
            "    \"@accessori_trapano\": 1,\n",
            "    \"@armadio_cassettiera\": 2,\n",
            "    \"@bancale_cargo\": 3,\n",
            "    \"@banco\": 4,\n",
            "    \"@brugola\": 5,\n",
            "    \"@cacciavite_giravite_cercafase\": 6,\n",
            "    \"@carrello\": 7,\n",
            "    \"@carta-vetrata_carta-abrasiva\": 8,\n",
            "    \"@cassaforte\": 9,\n",
            "    \"@catena\": 10,\n",
            "    \"@cazzuola_frattone\": 11,\n",
            "    \"@cerniera_bandella\": 12,\n",
            "    \"@chiave-a-bussola_tubo\": 13,\n",
            "    \"@chiave_inglese_poligonale\": 14,\n",
            "    \"@chiavistello\": 15,\n",
            "    \"@chiodo_rivetto\": 16,\n",
            "    \"@colla_silicone\": 17,\n",
            "    \"@collare\": 18,\n",
            "    \"@coltello\": 19,\n",
            "    \"@estrattore\": 20,\n",
            "    \"@forbice_cesoia\": 21,\n",
            "    \"@lama_seghetto_sega\": 22,\n",
            "    \"@lame_sega_circolare\": 23,\n",
            "    \"@lima_grattuggia_raspa\": 24,\n",
            "    \"@livella\": 25,\n",
            "    \"@lucchetto\": 26,\n",
            "    \"@maniglia_pomello\": 27,\n",
            "    \"@martello_mazzetta_ascia\": 28,\n",
            "    \"@metro_flessometro\": 29,\n",
            "    \"@morsetto_strettoio\": 30,\n",
            "    \"@nastro\": 31,\n",
            "    \"@pennello\": 32,\n",
            "    \"@pinza_punzonatrice_giratubo\": 33,\n",
            "    \"@pinzetta\": 34,\n",
            "    \"@pistola\": 35,\n",
            "    \"@rubinetto_miscelatore_valvola\": 36,\n",
            "    \"@ruota\": 37,\n",
            "    \"@scaffale\": 38,\n",
            "    \"@scala\": 39,\n",
            "    \"@scalpello\": 40,\n",
            "    \"@sega-a-tazza\": 41,\n",
            "    \"@seghetto_sega\": 42,\n",
            "    \"@segnaletica\": 43,\n",
            "    \"@serratura_cilindro\": 44,\n",
            "    \"@spatola_raschietto\": 45,\n",
            "    \"@spazzola\": 46,\n",
            "    \"@staffa_squadretta\": 47,\n",
            "    \"@tassello\": 48,\n",
            "    \"@torcia-faro\": 49,\n",
            "    \"@vernice\": 50,\n",
            "    \"@vite_bullone\": 51\n",
            "  },\n",
            "  \"layer_norm_eps\": 1e-12,\n",
            "  \"model_type\": \"vit\",\n",
            "  \"num_attention_heads\": 12,\n",
            "  \"num_channels\": 3,\n",
            "  \"num_hidden_layers\": 12,\n",
            "  \"patch_size\": 16,\n",
            "  \"problem_type\": \"single_label_classification\",\n",
            "  \"qkv_bias\": true,\n",
            "  \"torch_dtype\": \"float32\",\n",
            "  \"transformers_version\": \"4.32.1\"\n",
            "}\n",
            "\n",
            "loading weights file /content/Model/Models-Train-37/checkpoint-24000/pytorch_model.bin\n"
          ]
        },
        {
          "output_type": "stream",
          "name": "stdout",
          "text": [
            "Accuracy:  0.9239138088866982\n",
            "precision:  0.9235248448328391\n",
            "f1_score:  0.9233597870442207\n",
            "recall 0.9239138088866982\n",
            "              precision    recall  f1-score   support\n",
            "\n",
            "           0       0.66      0.51      0.58        76\n",
            "           1       0.96      0.95      0.96      2442\n",
            "           2       0.96      0.92      0.94       448\n",
            "           3       0.97      1.00      0.98        62\n",
            "           4       0.91      0.98      0.94       171\n",
            "           5       0.78      0.90      0.84       228\n",
            "           6       0.97      0.97      0.97      1389\n",
            "           7       0.95      0.90      0.93       192\n",
            "           8       0.93      0.99      0.96       861\n",
            "           9       0.95      0.99      0.97       834\n",
            "          10       0.90      0.90      0.90       176\n",
            "          11       0.87      0.87      0.87        45\n",
            "          12       0.87      0.83      0.85       145\n",
            "          13       0.90      0.94      0.92      1094\n",
            "          14       0.95      0.96      0.95      2021\n",
            "          15       0.74      0.63      0.68        46\n",
            "          16       0.90      0.79      0.84        66\n",
            "          17       0.92      0.90      0.91       267\n",
            "          18       0.93      0.91      0.92        76\n",
            "          19       0.57      0.55      0.56        55\n",
            "          20       0.87      0.93      0.90        42\n",
            "          21       0.76      0.72      0.74      2503\n",
            "          22       0.85      0.92      0.89       365\n",
            "          23       0.96      0.98      0.97       824\n",
            "          24       0.96      0.93      0.94       351\n",
            "          25       0.94      0.98      0.96       254\n",
            "          26       0.99      0.92      0.95       585\n",
            "          27       0.96      0.97      0.97       906\n",
            "          28       0.98      0.96      0.97       903\n",
            "          29       0.88      0.87      0.88       189\n",
            "          30       0.83      0.85      0.84       110\n",
            "          31       0.88      0.92      0.90       430\n",
            "          32       0.97      0.90      0.93        70\n",
            "          33       0.87      0.88      0.88      1554\n",
            "          34       0.83      0.87      0.85        94\n",
            "          35       0.88      0.90      0.89       192\n",
            "          36       0.92      0.94      0.93       309\n",
            "          37       0.97      0.92      0.95       189\n",
            "          38       0.97      1.00      0.99       184\n",
            "          39       0.94      0.98      0.96       425\n",
            "          40       0.89      0.88      0.89       263\n",
            "          41       0.97      0.95      0.96       678\n",
            "          42       0.84      0.80      0.82       204\n",
            "          43       0.99      0.99      0.99      1757\n",
            "          44       0.92      0.88      0.90       330\n",
            "          45       0.86      0.67      0.75        48\n",
            "          46       0.80      0.88      0.84       104\n",
            "          47       0.81      0.84      0.83       150\n",
            "          48       0.89      0.92      0.90       492\n",
            "          49       0.84      0.92      0.88       206\n",
            "          50       0.97      0.96      0.97       137\n",
            "          51       0.98      0.98      0.98      2860\n",
            "\n",
            "    accuracy                           0.92     28402\n",
            "   macro avg       0.90      0.89      0.89     28402\n",
            "weighted avg       0.92      0.92      0.92     28402\n",
            "\n"
          ]
        },
        {
          "output_type": "stream",
          "name": "stderr",
          "text": [
            "All model checkpoint weights were used when initializing ViTForImageClassification.\n",
            "\n",
            "All the weights of ViTForImageClassification were initialized from the model checkpoint at /content/Model/Models-Train-37/checkpoint-24000.\n",
            "If your task is similar to the task the model of the checkpoint was trained on, you can already use ViTForImageClassification for predictions without further training.\n",
            "loading configuration file /content/Model/Models-Train-37/checkpoint-24000/preprocessor_config.json\n",
            "Image processor ViTImageProcessor {\n",
            "  \"do_normalize\": true,\n",
            "  \"do_rescale\": true,\n",
            "  \"do_resize\": true,\n",
            "  \"image_mean\": [\n",
            "    0.5,\n",
            "    0.5,\n",
            "    0.5\n",
            "  ],\n",
            "  \"image_processor_type\": \"ViTImageProcessor\",\n",
            "  \"image_std\": [\n",
            "    0.5,\n",
            "    0.5,\n",
            "    0.5\n",
            "  ],\n",
            "  \"resample\": 2,\n",
            "  \"rescale_factor\": 0.00392156862745098,\n",
            "  \"size\": {\n",
            "    \"height\": 224,\n",
            "    \"width\": 224\n",
            "  }\n",
            "}\n",
            "\n",
            "loading configuration file /content/Model/Models-Train-37/checkpoint-32000/config.json\n",
            "Model config ViTConfig {\n",
            "  \"_name_or_path\": \"google/vit-base-patch16-224\",\n",
            "  \"architectures\": [\n",
            "    \"ViTForImageClassification\"\n",
            "  ],\n",
            "  \"attention_probs_dropout_prob\": 0.0,\n",
            "  \"encoder_stride\": 16,\n",
            "  \"hidden_act\": \"gelu\",\n",
            "  \"hidden_dropout_prob\": 0.0,\n",
            "  \"hidden_size\": 768,\n",
            "  \"id2label\": {\n",
            "    \"0\": \"@accessori_saldatore\",\n",
            "    \"1\": \"@accessori_trapano\",\n",
            "    \"2\": \"@armadio_cassettiera\",\n",
            "    \"3\": \"@bancale_cargo\",\n",
            "    \"4\": \"@banco\",\n",
            "    \"5\": \"@brugola\",\n",
            "    \"6\": \"@cacciavite_giravite_cercafase\",\n",
            "    \"7\": \"@carrello\",\n",
            "    \"8\": \"@carta-vetrata_carta-abrasiva\",\n",
            "    \"9\": \"@cassaforte\",\n",
            "    \"10\": \"@catena\",\n",
            "    \"11\": \"@cazzuola_frattone\",\n",
            "    \"12\": \"@cerniera_bandella\",\n",
            "    \"13\": \"@chiave-a-bussola_tubo\",\n",
            "    \"14\": \"@chiave_inglese_poligonale\",\n",
            "    \"15\": \"@chiavistello\",\n",
            "    \"16\": \"@chiodo_rivetto\",\n",
            "    \"17\": \"@colla_silicone\",\n",
            "    \"18\": \"@collare\",\n",
            "    \"19\": \"@coltello\",\n",
            "    \"20\": \"@estrattore\",\n",
            "    \"21\": \"@forbice_cesoia\",\n",
            "    \"22\": \"@lama_seghetto_sega\",\n",
            "    \"23\": \"@lame_sega_circolare\",\n",
            "    \"24\": \"@lima_grattuggia_raspa\",\n",
            "    \"25\": \"@livella\",\n",
            "    \"26\": \"@lucchetto\",\n",
            "    \"27\": \"@maniglia_pomello\",\n",
            "    \"28\": \"@martello_mazzetta_ascia\",\n",
            "    \"29\": \"@metro_flessometro\",\n",
            "    \"30\": \"@morsetto_strettoio\",\n",
            "    \"31\": \"@nastro\",\n",
            "    \"32\": \"@pennello\",\n",
            "    \"33\": \"@pinza_punzonatrice_giratubo\",\n",
            "    \"34\": \"@pinzetta\",\n",
            "    \"35\": \"@pistola\",\n",
            "    \"36\": \"@rubinetto_miscelatore_valvola\",\n",
            "    \"37\": \"@ruota\",\n",
            "    \"38\": \"@scaffale\",\n",
            "    \"39\": \"@scala\",\n",
            "    \"40\": \"@scalpello\",\n",
            "    \"41\": \"@sega-a-tazza\",\n",
            "    \"42\": \"@seghetto_sega\",\n",
            "    \"43\": \"@segnaletica\",\n",
            "    \"44\": \"@serratura_cilindro\",\n",
            "    \"45\": \"@spatola_raschietto\",\n",
            "    \"46\": \"@spazzola\",\n",
            "    \"47\": \"@staffa_squadretta\",\n",
            "    \"48\": \"@tassello\",\n",
            "    \"49\": \"@torcia-faro\",\n",
            "    \"50\": \"@vernice\",\n",
            "    \"51\": \"@vite_bullone\"\n",
            "  },\n",
            "  \"image_size\": 224,\n",
            "  \"initializer_range\": 0.02,\n",
            "  \"intermediate_size\": 3072,\n",
            "  \"label2id\": {\n",
            "    \"@accessori_saldatore\": 0,\n",
            "    \"@accessori_trapano\": 1,\n",
            "    \"@armadio_cassettiera\": 2,\n",
            "    \"@bancale_cargo\": 3,\n",
            "    \"@banco\": 4,\n",
            "    \"@brugola\": 5,\n",
            "    \"@cacciavite_giravite_cercafase\": 6,\n",
            "    \"@carrello\": 7,\n",
            "    \"@carta-vetrata_carta-abrasiva\": 8,\n",
            "    \"@cassaforte\": 9,\n",
            "    \"@catena\": 10,\n",
            "    \"@cazzuola_frattone\": 11,\n",
            "    \"@cerniera_bandella\": 12,\n",
            "    \"@chiave-a-bussola_tubo\": 13,\n",
            "    \"@chiave_inglese_poligonale\": 14,\n",
            "    \"@chiavistello\": 15,\n",
            "    \"@chiodo_rivetto\": 16,\n",
            "    \"@colla_silicone\": 17,\n",
            "    \"@collare\": 18,\n",
            "    \"@coltello\": 19,\n",
            "    \"@estrattore\": 20,\n",
            "    \"@forbice_cesoia\": 21,\n",
            "    \"@lama_seghetto_sega\": 22,\n",
            "    \"@lame_sega_circolare\": 23,\n",
            "    \"@lima_grattuggia_raspa\": 24,\n",
            "    \"@livella\": 25,\n",
            "    \"@lucchetto\": 26,\n",
            "    \"@maniglia_pomello\": 27,\n",
            "    \"@martello_mazzetta_ascia\": 28,\n",
            "    \"@metro_flessometro\": 29,\n",
            "    \"@morsetto_strettoio\": 30,\n",
            "    \"@nastro\": 31,\n",
            "    \"@pennello\": 32,\n",
            "    \"@pinza_punzonatrice_giratubo\": 33,\n",
            "    \"@pinzetta\": 34,\n",
            "    \"@pistola\": 35,\n",
            "    \"@rubinetto_miscelatore_valvola\": 36,\n",
            "    \"@ruota\": 37,\n",
            "    \"@scaffale\": 38,\n",
            "    \"@scala\": 39,\n",
            "    \"@scalpello\": 40,\n",
            "    \"@sega-a-tazza\": 41,\n",
            "    \"@seghetto_sega\": 42,\n",
            "    \"@segnaletica\": 43,\n",
            "    \"@serratura_cilindro\": 44,\n",
            "    \"@spatola_raschietto\": 45,\n",
            "    \"@spazzola\": 46,\n",
            "    \"@staffa_squadretta\": 47,\n",
            "    \"@tassello\": 48,\n",
            "    \"@torcia-faro\": 49,\n",
            "    \"@vernice\": 50,\n",
            "    \"@vite_bullone\": 51\n",
            "  },\n",
            "  \"layer_norm_eps\": 1e-12,\n",
            "  \"model_type\": \"vit\",\n",
            "  \"num_attention_heads\": 12,\n",
            "  \"num_channels\": 3,\n",
            "  \"num_hidden_layers\": 12,\n",
            "  \"patch_size\": 16,\n",
            "  \"problem_type\": \"single_label_classification\",\n",
            "  \"qkv_bias\": true,\n",
            "  \"torch_dtype\": \"float32\",\n",
            "  \"transformers_version\": \"4.32.1\"\n",
            "}\n",
            "\n",
            "loading weights file /content/Model/Models-Train-37/checkpoint-32000/pytorch_model.bin\n"
          ]
        },
        {
          "output_type": "stream",
          "name": "stdout",
          "text": [
            "Accuracy:  0.9271882261812548\n",
            "precision:  0.9273847517479491\n",
            "f1_score:  0.9269816699128299\n",
            "recall 0.9271882261812548\n",
            "              precision    recall  f1-score   support\n",
            "\n",
            "           0       0.55      0.61      0.58        76\n",
            "           1       0.96      0.96      0.96      2442\n",
            "           2       0.93      0.95      0.94       448\n",
            "           3       0.98      1.00      0.99        62\n",
            "           4       0.94      0.98      0.96       171\n",
            "           5       0.91      0.83      0.87       228\n",
            "           6       0.96      0.98      0.97      1389\n",
            "           7       0.95      0.93      0.94       192\n",
            "           8       0.96      0.97      0.97       861\n",
            "           9       0.98      0.98      0.98       834\n",
            "          10       0.85      0.90      0.88       176\n",
            "          11       0.80      0.87      0.83        45\n",
            "          12       0.85      0.83      0.84       145\n",
            "          13       0.94      0.91      0.93      1094\n",
            "          14       0.96      0.96      0.96      2021\n",
            "          15       0.66      0.72      0.69        46\n",
            "          16       0.85      0.92      0.88        66\n",
            "          17       0.87      0.93      0.89       267\n",
            "          18       0.95      0.92      0.93        76\n",
            "          19       0.57      0.62      0.59        55\n",
            "          20       0.78      0.95      0.86        42\n",
            "          21       0.77      0.73      0.75      2503\n",
            "          22       0.87      0.91      0.89       365\n",
            "          23       0.98      0.98      0.98       824\n",
            "          24       0.95      0.93      0.94       351\n",
            "          25       0.96      0.96      0.96       254\n",
            "          26       0.96      0.94      0.95       585\n",
            "          27       0.97      0.95      0.96       906\n",
            "          28       0.97      0.96      0.97       903\n",
            "          29       0.89      0.87      0.88       189\n",
            "          30       0.83      0.82      0.82       110\n",
            "          31       0.88      0.93      0.91       430\n",
            "          32       0.96      0.93      0.94        70\n",
            "          33       0.87      0.88      0.88      1554\n",
            "          34       0.85      0.89      0.87        94\n",
            "          35       0.90      0.85      0.87       192\n",
            "          36       0.92      0.96      0.94       309\n",
            "          37       0.95      0.96      0.96       189\n",
            "          38       0.97      0.99      0.98       184\n",
            "          39       0.98      0.98      0.98       425\n",
            "          40       0.91      0.90      0.91       263\n",
            "          41       0.95      0.97      0.96       678\n",
            "          42       0.81      0.84      0.83       204\n",
            "          43       0.99      0.98      0.99      1757\n",
            "          44       0.88      0.92      0.90       330\n",
            "          45       0.86      0.67      0.75        48\n",
            "          46       0.75      0.93      0.83       104\n",
            "          47       0.92      0.76      0.83       150\n",
            "          48       0.89      0.94      0.91       492\n",
            "          49       0.83      0.94      0.88       206\n",
            "          50       0.97      0.96      0.96       137\n",
            "          51       0.98      0.98      0.98      2860\n",
            "\n",
            "    accuracy                           0.93     28402\n",
            "   macro avg       0.89      0.90      0.90     28402\n",
            "weighted avg       0.93      0.93      0.93     28402\n",
            "\n"
          ]
        },
        {
          "output_type": "stream",
          "name": "stderr",
          "text": [
            "All model checkpoint weights were used when initializing ViTForImageClassification.\n",
            "\n",
            "All the weights of ViTForImageClassification were initialized from the model checkpoint at /content/Model/Models-Train-37/checkpoint-32000.\n",
            "If your task is similar to the task the model of the checkpoint was trained on, you can already use ViTForImageClassification for predictions without further training.\n",
            "loading configuration file /content/Model/Models-Train-37/checkpoint-32000/preprocessor_config.json\n",
            "Image processor ViTImageProcessor {\n",
            "  \"do_normalize\": true,\n",
            "  \"do_rescale\": true,\n",
            "  \"do_resize\": true,\n",
            "  \"image_mean\": [\n",
            "    0.5,\n",
            "    0.5,\n",
            "    0.5\n",
            "  ],\n",
            "  \"image_processor_type\": \"ViTImageProcessor\",\n",
            "  \"image_std\": [\n",
            "    0.5,\n",
            "    0.5,\n",
            "    0.5\n",
            "  ],\n",
            "  \"resample\": 2,\n",
            "  \"rescale_factor\": 0.00392156862745098,\n",
            "  \"size\": {\n",
            "    \"height\": 224,\n",
            "    \"width\": 224\n",
            "  }\n",
            "}\n",
            "\n"
          ]
        },
        {
          "output_type": "stream",
          "name": "stdout",
          "text": [
            "Accuracy:  0.9272234349693683\n",
            "precision:  0.9276659166721101\n",
            "f1_score:  0.9272198258381161\n",
            "recall 0.9272234349693683\n",
            "              precision    recall  f1-score   support\n",
            "\n",
            "           0       0.61      0.51      0.56        76\n",
            "           1       0.96      0.96      0.96      2442\n",
            "           2       0.96      0.94      0.95       448\n",
            "           3       0.98      1.00      0.99        62\n",
            "           4       0.93      0.98      0.96       171\n",
            "           5       0.90      0.85      0.87       228\n",
            "           6       0.97      0.98      0.97      1389\n",
            "           7       0.96      0.93      0.94       192\n",
            "           8       0.98      0.96      0.97       861\n",
            "           9       0.97      0.99      0.98       834\n",
            "          10       0.90      0.89      0.89       176\n",
            "          11       0.80      0.89      0.84        45\n",
            "          12       0.90      0.83      0.86       145\n",
            "          13       0.92      0.93      0.92      1094\n",
            "          14       0.95      0.96      0.96      2021\n",
            "          15       0.68      0.70      0.69        46\n",
            "          16       0.96      0.73      0.83        66\n",
            "          17       0.90      0.88      0.89       267\n",
            "          18       0.95      0.92      0.93        76\n",
            "          19       0.58      0.58      0.58        55\n",
            "          20       0.88      0.86      0.87        42\n",
            "          21       0.74      0.77      0.75      2503\n",
            "          22       0.86      0.90      0.88       365\n",
            "          23       0.98      0.97      0.98       824\n",
            "          24       0.94      0.94      0.94       351\n",
            "          25       0.96      0.97      0.96       254\n",
            "          26       0.98      0.93      0.95       585\n",
            "          27       0.97      0.97      0.97       906\n",
            "          28       0.98      0.96      0.97       903\n",
            "          29       0.89      0.90      0.89       189\n",
            "          30       0.87      0.84      0.85       110\n",
            "          31       0.91      0.93      0.92       430\n",
            "          32       0.91      0.91      0.91        70\n",
            "          33       0.88      0.87      0.87      1554\n",
            "          34       0.89      0.88      0.89        94\n",
            "          35       0.86      0.86      0.86       192\n",
            "          36       0.96      0.88      0.92       309\n",
            "          37       0.97      0.92      0.95       189\n",
            "          38       0.98      1.00      0.99       184\n",
            "          39       0.98      0.98      0.98       425\n",
            "          40       0.88      0.92      0.90       263\n",
            "          41       0.96      0.95      0.96       678\n",
            "          42       0.86      0.80      0.83       204\n",
            "          43       0.99      0.99      0.99      1757\n",
            "          44       0.92      0.92      0.92       330\n",
            "          45       0.83      0.71      0.76        48\n",
            "          46       0.83      0.88      0.86       104\n",
            "          47       0.89      0.76      0.82       150\n",
            "          48       0.93      0.89      0.91       492\n",
            "          49       0.86      0.92      0.89       206\n",
            "          50       0.96      0.95      0.96       137\n",
            "          51       0.97      0.98      0.98      2860\n",
            "\n",
            "    accuracy                           0.93     28402\n",
            "   macro avg       0.90      0.89      0.90     28402\n",
            "weighted avg       0.93      0.93      0.93     28402\n",
            "\n"
          ]
        }
      ]
    }
  ]
}