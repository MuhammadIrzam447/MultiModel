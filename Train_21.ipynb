{
  "nbformat": 4,
  "nbformat_minor": 0,
  "metadata": {
    "colab": {
      "provenance": [],
      "collapsed_sections": [
        "VWtsIHx6w0T4"
      ],
      "gpuType": "T4",
      "include_colab_link": true
    },
    "kernelspec": {
      "name": "python3",
      "display_name": "Python 3"
    },
    "language_info": {
      "name": "python"
    },
    "accelerator": "GPU"
  },
  "cells": [
    {
      "cell_type": "markdown",
      "metadata": {
        "id": "view-in-github",
        "colab_type": "text"
      },
      "source": [
        "<a href=\"https://colab.research.google.com/github/MuhammadIrzam447/MultiModel/blob/master/Train_21.ipynb\" target=\"_parent\"><img src=\"https://colab.research.google.com/assets/colab-badge.svg\" alt=\"Open In Colab\"/></a>"
      ]
    },
    {
      "cell_type": "code",
      "execution_count": null,
      "metadata": {
        "id": "nmF1zNcPTGga"
      },
      "outputs": [],
      "source": [
        "# !gdown https://drive.google.com/uc?id=1dxd2pySfCIDJYG7qMtuJre8ph068xc1X"
      ]
    },
    {
      "cell_type": "code",
      "source": [
        "# !gdown https://drive.google.com/uc?id=1sYR9EgHkM0oiGRQVlFQCyHO8kMRJ4ibQ"
      ],
      "metadata": {
        "id": "KKm0C_4oTUTT"
      },
      "execution_count": null,
      "outputs": []
    },
    {
      "cell_type": "code",
      "source": [
        "# !gdown https://drive.google.com/uc?id=1X4cmMYRjxXFomCJ1adMhPNMYtd4WeDHP"
      ],
      "metadata": {
        "id": "JLMZ4FcgyNpb"
      },
      "execution_count": null,
      "outputs": []
    },
    {
      "cell_type": "code",
      "source": [
        "# !gdown https://drive.google.com/uc?id=1yAeNEPXD3LNxmtSnC09jEg0vEDc1qiaq"
      ],
      "metadata": {
        "id": "sXd76s1XyO5r"
      },
      "execution_count": null,
      "outputs": []
    },
    {
      "cell_type": "code",
      "source": [
        "# !unzip test.zip"
      ],
      "metadata": {
        "id": "Q--gX0z1yYPf"
      },
      "execution_count": null,
      "outputs": []
    },
    {
      "cell_type": "code",
      "source": [
        "# !unzip train.zip"
      ],
      "metadata": {
        "id": "A-YkM8B0ywHJ"
      },
      "execution_count": null,
      "outputs": []
    },
    {
      "cell_type": "markdown",
      "source": [
        "# Training Dataset Preparation"
      ],
      "metadata": {
        "id": "VqotBnmCXM6s"
      }
    },
    {
      "cell_type": "code",
      "source": [
        "import os\n",
        "image_file_paths = []\n",
        "genre_labels = []\n",
        "\n",
        "image_folder_add = \"/content/Dataset(s)/mm-imdb/fused/train\"\n",
        "labels_file = '/content/Dataset(s)/mm-imdb/fused/train_label.txt'\n",
        "\n",
        "with open(labels_file, 'r') as file:\n",
        "    for line in file:\n",
        "        parts = line.strip().split('|')\n",
        "        filename = parts[0].strip()\n",
        "        labels = parts[1].strip().split(', ')  # Split labels by comma and remove leading/trailing spaces\n",
        "        image_path = os.path.join(image_folder_add, filename)\n",
        "        image_file_paths.append(image_path)\n",
        "        genre_labels.append(labels)"
      ],
      "metadata": {
        "id": "O2DdTX5_XNV8"
      },
      "execution_count": null,
      "outputs": []
    },
    {
      "cell_type": "code",
      "source": [
        "len(image_file_paths)"
      ],
      "metadata": {
        "id": "nXDErAZjdJn0",
        "colab": {
          "base_uri": "https://localhost:8080/"
        },
        "outputId": "79bc5520-8d3f-454e-955c-7eb1e62f8a0d"
      },
      "execution_count": null,
      "outputs": [
        {
          "output_type": "execute_result",
          "data": {
            "text/plain": [
              "46656"
            ]
          },
          "metadata": {},
          "execution_count": 2
        }
      ]
    },
    {
      "cell_type": "code",
      "source": [
        "# genre_labels"
      ],
      "metadata": {
        "id": "PWOIg0hTdKvS"
      },
      "execution_count": null,
      "outputs": []
    },
    {
      "cell_type": "code",
      "source": [
        "# unique_labels_set = set()\n",
        "\n",
        "# for labels in genre_labels:\n",
        "#     unique_labels_set.update(labels)\n",
        "\n",
        "# unique_labels = sorted(list(unique_labels_set))"
      ],
      "metadata": {
        "id": "WnWdzeiWXXOk"
      },
      "execution_count": null,
      "outputs": []
    },
    {
      "cell_type": "code",
      "source": [
        "# unique_labels"
      ],
      "metadata": {
        "id": "rB1rz-dwZgxV"
      },
      "execution_count": null,
      "outputs": []
    },
    {
      "cell_type": "code",
      "source": [
        "# len(unique_labels)"
      ],
      "metadata": {
        "id": "gbg9-ae_zi0F"
      },
      "execution_count": null,
      "outputs": []
    },
    {
      "cell_type": "code",
      "source": [
        "from collections import defaultdict\n",
        "\n",
        "label_counts = defaultdict(int)\n",
        "\n",
        "for labels in genre_labels:\n",
        "    for label in labels:\n",
        "        label_counts[label] += 1"
      ],
      "metadata": {
        "id": "yslKvYyH2tQn"
      },
      "execution_count": null,
      "outputs": []
    },
    {
      "cell_type": "code",
      "source": [
        "# Convert the defaultdict into a list of tuples\n",
        "label_count_list = [(label, count) for label, count in label_counts.items()]\n",
        "\n",
        "# Sort the list of tuples based on counts in descending order\n",
        "sorted_label_count_list = sorted(label_count_list, key=lambda x: x[1], reverse=True)\n",
        "\n",
        "# Display the sorted list\n",
        "for label, count in sorted_label_count_list:\n",
        "    print(f\"{label}: {count}\")\n",
        "\n",
        "print(\"Total Labels: \", len(label_count_list))"
      ],
      "metadata": {
        "colab": {
          "base_uri": "https://localhost:8080/"
        },
        "id": "PFbfclqsU9hm",
        "outputId": "cd107a84-c492-4755-f097-e152cc9e76b4"
      },
      "execution_count": null,
      "outputs": [
        {
          "output_type": "stream",
          "name": "stdout",
          "text": [
            "Drama: 25272\n",
            "Comedy: 15324\n",
            "Romance: 9678\n",
            "Thriller: 9339\n",
            "Crime: 6879\n",
            "Action: 6465\n",
            "Adventure: 4833\n",
            "Horror: 4809\n",
            "Documentary: 3702\n",
            "Mystery: 3693\n",
            "Sci-Fi: 3636\n",
            "Fantasy: 3486\n",
            "Family: 2934\n",
            "War: 2418\n",
            "Biography: 2364\n",
            "History: 2040\n",
            "Music: 1902\n",
            "Animation: 1758\n",
            "Musical: 1509\n",
            "Western: 1269\n",
            "Sport: 1137\n",
            "Short: 843\n",
            "Film-Noir: 606\n",
            "News: 117\n",
            "Talk-Show: 6\n",
            "Reality-TV: 3\n",
            "Total Labels:  26\n"
          ]
        }
      ]
    },
    {
      "cell_type": "code",
      "source": [
        "min_label_count = 500\n",
        "valid_labels = [label for label, count in label_counts.items() if count >= min_label_count]\n",
        "valid_labels = sorted(list(valid_labels))"
      ],
      "metadata": {
        "id": "DV3BPMTYWfaq"
      },
      "execution_count": null,
      "outputs": []
    },
    {
      "cell_type": "code",
      "source": [
        "valid_labels, len(valid_labels)"
      ],
      "metadata": {
        "colab": {
          "base_uri": "https://localhost:8080/"
        },
        "id": "4whPvouoXCuy",
        "outputId": "73a31820-81c7-42da-b847-fd78f1561b6a"
      },
      "execution_count": null,
      "outputs": [
        {
          "output_type": "execute_result",
          "data": {
            "text/plain": [
              "(['Action',\n",
              "  'Adventure',\n",
              "  'Animation',\n",
              "  'Biography',\n",
              "  'Comedy',\n",
              "  'Crime',\n",
              "  'Documentary',\n",
              "  'Drama',\n",
              "  'Family',\n",
              "  'Fantasy',\n",
              "  'Film-Noir',\n",
              "  'History',\n",
              "  'Horror',\n",
              "  'Music',\n",
              "  'Musical',\n",
              "  'Mystery',\n",
              "  'Romance',\n",
              "  'Sci-Fi',\n",
              "  'Short',\n",
              "  'Sport',\n",
              "  'Thriller',\n",
              "  'War',\n",
              "  'Western'],\n",
              " 23)"
            ]
          },
          "metadata": {},
          "execution_count": 6
        }
      ]
    },
    {
      "cell_type": "code",
      "source": [
        "# filtered_image_paths = []\n",
        "# filtered_genre_labels = []\n",
        "\n",
        "# for image_path, labels in zip(image_file_paths, genre_labels):\n",
        "#     valid_labels_for_sample = [label for label in labels if label in valid_labels]\n",
        "\n",
        "#     if valid_labels_for_sample:\n",
        "#         filtered_image_paths.append(image_path)\n",
        "#         filtered_genre_labels.append(valid_labels_for_sample)"
      ],
      "metadata": {
        "id": "0fOqnZ46We-d"
      },
      "execution_count": null,
      "outputs": []
    },
    {
      "cell_type": "code",
      "source": [
        "# len(filtered_image_paths)"
      ],
      "metadata": {
        "id": "T0NkX3jwWp56"
      },
      "execution_count": null,
      "outputs": []
    },
    {
      "cell_type": "code",
      "source": [
        "# len(filtered_genre_labels)"
      ],
      "metadata": {
        "id": "Wdv_QSfJWqDT"
      },
      "execution_count": null,
      "outputs": []
    },
    {
      "cell_type": "code",
      "source": [
        "multi_hot_labels = []\n",
        "\n",
        "for labels in genre_labels:\n",
        "    multi_hot = [1 if label in labels else 0 for label in valid_labels]\n",
        "    multi_hot_labels.append(multi_hot)"
      ],
      "metadata": {
        "id": "weVX9tVdZhxP"
      },
      "execution_count": null,
      "outputs": []
    },
    {
      "cell_type": "code",
      "source": [
        "multi_hot_labels[1]"
      ],
      "metadata": {
        "id": "5BdzoGhlZ1uE",
        "colab": {
          "base_uri": "https://localhost:8080/"
        },
        "outputId": "dcc81c84-dd45-495b-a4f1-452f6cd41c8b"
      },
      "execution_count": null,
      "outputs": [
        {
          "output_type": "execute_result",
          "data": {
            "text/plain": [
              "[0, 0, 0, 0, 0, 1, 0, 1, 0, 0, 0, 0, 0, 0, 0, 0, 0, 0, 0, 0, 1, 0, 0]"
            ]
          },
          "metadata": {},
          "execution_count": 11
        }
      ]
    },
    {
      "cell_type": "code",
      "source": [
        "genre_labels[1]"
      ],
      "metadata": {
        "id": "1ozp7IfHZ2-m",
        "colab": {
          "base_uri": "https://localhost:8080/"
        },
        "outputId": "48e95053-6cd7-46ae-e288-850fa9e9160c"
      },
      "execution_count": null,
      "outputs": [
        {
          "output_type": "execute_result",
          "data": {
            "text/plain": [
              "['Crime', 'Drama', 'Thriller']"
            ]
          },
          "metadata": {},
          "execution_count": 12
        }
      ]
    },
    {
      "cell_type": "code",
      "source": [
        "import os\n",
        "import torch\n",
        "from torch.utils.data import Dataset, DataLoader\n",
        "from torchvision import transforms\n",
        "from PIL import Image\n",
        "\n",
        "class CustomMultiLabelDataset(Dataset):\n",
        "    def __init__(self, image_file_paths, multi_encoded_labels, transform=None):\n",
        "        self.image_file_paths = image_file_paths\n",
        "        self.multi_encoded_labels = multi_encoded_labels\n",
        "        self.transform = transform\n",
        "\n",
        "    def __len__(self):\n",
        "        return len(self.image_file_paths)\n",
        "\n",
        "    def __getitem__(self, idx):\n",
        "        image_path = self.image_file_paths[idx]\n",
        "        image = Image.open(image_path)\n",
        "\n",
        "        labels = self.multi_encoded_labels[idx]\n",
        "        labels = torch.tensor(labels, dtype=torch.float32)\n",
        "\n",
        "        if self.transform:\n",
        "            image = self.transform(image)\n",
        "\n",
        "        return image, labels\n",
        "\n",
        "# Define data transformations (resize, normalize, etc.)\n",
        "transform = transforms.Compose([\n",
        "    transforms.Resize((224, 224)),\n",
        "    transforms.ToTensor(),\n",
        "    transforms.Normalize(mean=[0.485, 0.456, 0.406], std=[0.229, 0.224, 0.225]),\n",
        "])"
      ],
      "metadata": {
        "id": "uprw1hgjbHji"
      },
      "execution_count": null,
      "outputs": []
    },
    {
      "cell_type": "code",
      "source": [
        "# Create a custom dataset\n",
        "train_dataset = CustomMultiLabelDataset(image_file_paths, multi_hot_labels, transform=transform)"
      ],
      "metadata": {
        "id": "pjHkp2KZblJf"
      },
      "execution_count": null,
      "outputs": []
    },
    {
      "cell_type": "code",
      "source": [
        "len(train_dataset)"
      ],
      "metadata": {
        "id": "6djdqSdHdylD",
        "colab": {
          "base_uri": "https://localhost:8080/"
        },
        "outputId": "80ba84f7-dba8-4e0a-cac5-f30491ae9546"
      },
      "execution_count": null,
      "outputs": [
        {
          "output_type": "execute_result",
          "data": {
            "text/plain": [
              "46656"
            ]
          },
          "metadata": {},
          "execution_count": 15
        }
      ]
    },
    {
      "cell_type": "code",
      "source": [
        "train_dataset[10]"
      ],
      "metadata": {
        "id": "XY0b1aLgd1Dy",
        "colab": {
          "base_uri": "https://localhost:8080/"
        },
        "outputId": "626ecab5-f8c6-4ebd-ef53-6384cad34937"
      },
      "execution_count": null,
      "outputs": [
        {
          "output_type": "execute_result",
          "data": {
            "text/plain": [
              "(tensor([[[-0.4739, -1.2103, -1.2617,  ..., -1.2617, -1.2103, -0.4568],\n",
              "          [-0.7137, -2.0494, -2.0837,  ..., -2.0665, -2.0323, -0.7137],\n",
              "          [-0.6281, -2.1179, -2.1179,  ..., -2.1179, -2.1008, -0.6281],\n",
              "          ...,\n",
              "          [ 0.5193,  1.7865,  1.7352,  ...,  1.9920,  2.2489,  0.6221],\n",
              "          [ 0.5022,  1.7865,  1.7009,  ...,  2.0263,  2.2318,  0.6563],\n",
              "          [ 0.2624,  1.0159,  1.0159,  ...,  1.1015,  1.2899,  0.3138]],\n",
              " \n",
              "         [[-0.3550, -1.1078, -1.1604,  ..., -1.1604, -1.1078, -0.3375],\n",
              "          [-0.6001, -1.9657, -2.0007,  ..., -1.9832, -1.9482, -0.6001],\n",
              "          [-0.5126, -2.0357, -2.0357,  ..., -2.0357, -2.0182, -0.5126],\n",
              "          ...,\n",
              "          [ 0.6954,  2.0434,  2.0609,  ...,  2.1134,  2.3936,  0.6954],\n",
              "          [ 0.8004,  2.1660,  2.0959,  ...,  2.2010,  2.4111,  0.7654],\n",
              "          [ 0.4503,  1.2556,  1.3081,  ...,  1.3256,  1.4657,  0.4678]],\n",
              " \n",
              "         [[-0.1312, -0.8807, -0.9330,  ..., -0.9330, -0.8807, -0.1138],\n",
              "          [-0.3753, -1.7347, -1.7696,  ..., -1.7522, -1.7173, -0.3753],\n",
              "          [-0.2881, -1.8044, -1.8044,  ..., -1.8044, -1.7870, -0.2881],\n",
              "          ...,\n",
              "          [ 0.1476,  1.1062,  0.7054,  ...,  1.2980,  2.3263,  0.9494],\n",
              "          [-0.3753,  0.6705,  0.2522,  ...,  1.3677,  2.2217,  0.7751],\n",
              "          [-0.0092,  0.5485,  0.3393,  ...,  0.8797,  1.5594,  0.6879]]]),\n",
              " tensor([0., 0., 0., 0., 1., 0., 0., 0., 0., 0., 0., 0., 0., 0., 0., 0., 1., 0.,\n",
              "         0., 0., 0., 0., 0.]))"
            ]
          },
          "metadata": {},
          "execution_count": 16
        }
      ]
    },
    {
      "cell_type": "markdown",
      "source": [
        "# Test Dataset Preparation"
      ],
      "metadata": {
        "id": "W5OWR3LAvXb_"
      }
    },
    {
      "cell_type": "code",
      "source": [
        "import os\n",
        "\n",
        "test_image_file_paths = []\n",
        "test_genre_labels = []\n",
        "\n",
        "image_folder_add = \"/content/Dataset(s)/mm-imdb/fused/test\"\n",
        "labels_file = '/content/Dataset(s)/mm-imdb/fused/test_label.txt'\n",
        "\n",
        "with open(labels_file, 'r') as file:\n",
        "    for line in file:\n",
        "        parts = line.strip().split('|')\n",
        "        filename = parts[0].strip()\n",
        "        labels = parts[1].strip().split(', ')  # Split labels by comma and remove leading/trailing spaces\n",
        "\n",
        "        if not (filename.endswith(\"_1.png\") or filename.endswith(\"_2.png\")):\n",
        "            image_path = os.path.join(image_folder_add, filename)\n",
        "            test_image_file_paths.append(image_path)\n",
        "            test_genre_labels.append(labels)\n"
      ],
      "metadata": {
        "id": "O6ZbynEblVNf"
      },
      "execution_count": null,
      "outputs": []
    },
    {
      "cell_type": "code",
      "source": [
        "len(test_image_file_paths)"
      ],
      "metadata": {
        "colab": {
          "base_uri": "https://localhost:8080/"
        },
        "id": "y4MFRh5PluWU",
        "outputId": "c910ad84-2094-4548-fb8e-0f3cfb090433"
      },
      "execution_count": null,
      "outputs": [
        {
          "output_type": "execute_result",
          "data": {
            "text/plain": [
              "7799"
            ]
          },
          "metadata": {},
          "execution_count": 18
        }
      ]
    },
    {
      "cell_type": "code",
      "source": [
        "test_multi_hot_labels = []\n",
        "\n",
        "for labels in test_genre_labels:\n",
        "    test_multi_hot = [1 if label in labels else 0 for label in valid_labels]\n",
        "    test_multi_hot_labels.append(test_multi_hot)"
      ],
      "metadata": {
        "id": "PFyQCaOQveK7"
      },
      "execution_count": null,
      "outputs": []
    },
    {
      "cell_type": "code",
      "source": [
        "test_dataset = CustomMultiLabelDataset(test_image_file_paths, test_multi_hot_labels, transform=transform)"
      ],
      "metadata": {
        "id": "BculxAgbwCed"
      },
      "execution_count": null,
      "outputs": []
    },
    {
      "cell_type": "code",
      "source": [
        "len(test_dataset)"
      ],
      "metadata": {
        "id": "dRs9JPiR1L6p",
        "colab": {
          "base_uri": "https://localhost:8080/"
        },
        "outputId": "016917bc-2fdd-40c7-df27-35d2b7ca997f"
      },
      "execution_count": null,
      "outputs": [
        {
          "output_type": "execute_result",
          "data": {
            "text/plain": [
              "7799"
            ]
          },
          "metadata": {},
          "execution_count": 21
        }
      ]
    },
    {
      "cell_type": "markdown",
      "source": [
        "# Training"
      ],
      "metadata": {
        "id": "T73kFItave8m"
      }
    },
    {
      "cell_type": "code",
      "source": [
        "batch_size = 32\n",
        "train_loader = DataLoader(train_dataset, batch_size=batch_size, shuffle=True)\n",
        "test_loader = DataLoader(test_dataset, batch_size=batch_size, shuffle=False)"
      ],
      "metadata": {
        "id": "qmjc3h-Xb3pn"
      },
      "execution_count": null,
      "outputs": []
    },
    {
      "cell_type": "code",
      "source": [
        "import torch\n",
        "import torch.nn as nn\n",
        "import torch.optim as optim\n",
        "from torchvision import models\n",
        "device = torch.device(\"cuda\" if torch.cuda.is_available() else \"cpu\")\n",
        "\n",
        "# model = models.resnet101(pretrained=True)  # You can use a pre-trained model\n",
        "\n",
        "# model.fc = nn.Sequential(\n",
        "#     nn.Linear(model.fc.in_features, 512),\n",
        "#     nn.ReLU(),\n",
        "#     nn.Linear(512, len(unique_labels)),\n",
        "#     nn.Sigmoid()\n",
        "# )\n",
        "\n",
        "model = models.resnet101(pretrained=True)\n",
        "model.fc = nn.Linear(model.fc.in_features, len(valid_labels))\n",
        "model.to(device)"
      ],
      "metadata": {
        "id": "nzkSDHpbcBvG"
      },
      "execution_count": null,
      "outputs": []
    },
    {
      "cell_type": "code",
      "source": [
        "# Define loss function and optimizer\n",
        "criterion = nn.BCEWithLogitsLoss()  # Binary Cross-Entropy Loss\n",
        "optimizer = optim.Adam(model.parameters(), lr=0.001)\n",
        "num_epochs = 30"
      ],
      "metadata": {
        "id": "W3xyf2mIcUp6"
      },
      "execution_count": null,
      "outputs": []
    },
    {
      "cell_type": "code",
      "source": [
        "for epoch in range(num_epochs):\n",
        "    model.train()\n",
        "    running_loss = 0.0\n",
        "\n",
        "    for inputs, labels in train_loader:\n",
        "        inputs, labels = inputs.to(device), labels.to(device)\n",
        "\n",
        "        optimizer.zero_grad()\n",
        "\n",
        "        outputs = model(inputs)\n",
        "        loss = criterion(outputs, labels.float())\n",
        "        loss.backward()\n",
        "        optimizer.step()\n",
        "\n",
        "        running_loss += loss.item()\n",
        "\n",
        "    print(f\"Epoch {epoch + 1}/{num_epochs}, Loss: {running_loss / len(train_loader)}\")\n",
        "\n",
        "    # if epoch > 10:\n",
        "    save_dir = \"/content/Model/Models-Train-21/\"\n",
        "    os.makedirs(save_dir, exist_ok=True)  # Create the directory if it doesn't exist\n",
        "    model_name = str(epoch) + \"_model.pth\"\n",
        "    save_path = os.path.join(save_dir, model_name)  # Specify the complete path to the model file\n",
        "    torch.save(model.state_dict(), save_path)\n",
        "\n",
        "    model.eval()\n",
        "    predictions = []\n",
        "    true_labels = []\n",
        "\n",
        "    with torch.no_grad():\n",
        "        for inputs, labels in test_loader:\n",
        "            inputs, labels = inputs.to(device), labels.to(device)\n",
        "\n",
        "            outputs = model(inputs)\n",
        "            # loss = criterion(outputs, labels.float())\n",
        "\n",
        "            # Apply a threshold (e.g., 0.5) to convert logits to binary predictions\n",
        "            predictions.extend((outputs > 0.5).int().cpu().numpy())\n",
        "            true_labels.extend(labels.int().cpu().numpy())\n",
        "\n",
        "    # Calculate evaluation metrics\n",
        "    from sklearn.metrics import accuracy_score, precision_score, recall_score, f1_score, classification_report\n",
        "\n",
        "    accuracy = accuracy_score(true_labels, predictions)\n",
        "    precision = precision_score(true_labels, predictions, average='macro')\n",
        "    recall = recall_score(true_labels, predictions, average='macro')\n",
        "    f1 = f1_score(true_labels, predictions, average='macro')\n",
        "\n",
        "    print(f\"Accuracy: {accuracy}\")\n",
        "    print(f\"Precision: {precision}\")\n",
        "    print(f\"Recall: {recall}\")\n",
        "    print(f\"F1-Score: {f1}\")\n",
        "    print(classification_report(true_labels, predictions))"
      ],
      "metadata": {
        "id": "ZRds1BV-chaz",
        "colab": {
          "base_uri": "https://localhost:8080/"
        },
        "outputId": "f4a1fb69-2ffe-4410-84e7-2bdfdc0ab392"
      },
      "execution_count": 25,
      "outputs": [
        {
          "output_type": "stream",
          "name": "stdout",
          "text": [
            "Epoch 1/30, Loss: 0.2674324148333285\n"
          ]
        },
        {
          "output_type": "stream",
          "name": "stderr",
          "text": [
            "/usr/local/lib/python3.10/dist-packages/sklearn/metrics/_classification.py:1344: UndefinedMetricWarning: Precision is ill-defined and being set to 0.0 in labels with no predicted samples. Use `zero_division` parameter to control this behavior.\n",
            "  _warn_prf(average, modifier, msg_start, len(result))\n",
            "/usr/local/lib/python3.10/dist-packages/sklearn/metrics/_classification.py:1344: UndefinedMetricWarning: Precision and F-score are ill-defined and being set to 0.0 in labels with no predicted samples. Use `zero_division` parameter to control this behavior.\n",
            "  _warn_prf(average, modifier, msg_start, len(result))\n",
            "/usr/local/lib/python3.10/dist-packages/sklearn/metrics/_classification.py:1344: UndefinedMetricWarning: Precision and F-score are ill-defined and being set to 0.0 in samples with no predicted labels. Use `zero_division` parameter to control this behavior.\n",
            "  _warn_prf(average, modifier, msg_start, len(result))\n"
          ]
        },
        {
          "output_type": "stream",
          "name": "stdout",
          "text": [
            "Accuracy: 0.09488395948198487\n",
            "Precision: 0.4177244738685913\n",
            "Recall: 0.07366235027532383\n",
            "F1-Score: 0.10502846437252289\n",
            "              precision    recall  f1-score   support\n",
            "\n",
            "           0       0.64      0.04      0.07      1044\n",
            "           1       0.64      0.01      0.02       821\n",
            "           2       1.00      0.04      0.07       306\n",
            "           3       0.00      0.00      0.00       411\n",
            "           4       0.74      0.16      0.27      2611\n",
            "           5       0.73      0.18      0.29      1163\n",
            "           6       0.30      0.01      0.02       629\n",
            "           7       0.68      0.64      0.66      4142\n",
            "           8       0.80      0.05      0.10       518\n",
            "           9       0.00      0.00      0.00       585\n",
            "          10       0.00      0.00      0.00       102\n",
            "          11       0.33      0.01      0.01       345\n",
            "          12       0.84      0.13      0.23       825\n",
            "          13       0.00      0.00      0.00       311\n",
            "          14       0.00      0.00      0.00       253\n",
            "          15       0.41      0.02      0.04       617\n",
            "          16       0.60      0.03      0.05      1590\n",
            "          17       0.74      0.04      0.08       586\n",
            "          18       0.00      0.00      0.00       142\n",
            "          19       0.00      0.00      0.00       191\n",
            "          20       0.62      0.23      0.33      1567\n",
            "          21       0.53      0.10      0.16       401\n",
            "          22       0.00      0.00      0.00       210\n",
            "\n",
            "   micro avg       0.68      0.21      0.32     19370\n",
            "   macro avg       0.42      0.07      0.11     19370\n",
            "weighted avg       0.58      0.21      0.25     19370\n",
            " samples avg       0.43      0.25      0.30     19370\n",
            "\n",
            "Epoch 2/30, Loss: 0.2252737218194701\n"
          ]
        },
        {
          "output_type": "stream",
          "name": "stderr",
          "text": [
            "/usr/local/lib/python3.10/dist-packages/sklearn/metrics/_classification.py:1344: UndefinedMetricWarning: Precision is ill-defined and being set to 0.0 in labels with no predicted samples. Use `zero_division` parameter to control this behavior.\n",
            "  _warn_prf(average, modifier, msg_start, len(result))\n",
            "/usr/local/lib/python3.10/dist-packages/sklearn/metrics/_classification.py:1344: UndefinedMetricWarning: Precision and F-score are ill-defined and being set to 0.0 in labels with no predicted samples. Use `zero_division` parameter to control this behavior.\n",
            "  _warn_prf(average, modifier, msg_start, len(result))\n",
            "/usr/local/lib/python3.10/dist-packages/sklearn/metrics/_classification.py:1344: UndefinedMetricWarning: Precision and F-score are ill-defined and being set to 0.0 in samples with no predicted labels. Use `zero_division` parameter to control this behavior.\n",
            "  _warn_prf(average, modifier, msg_start, len(result))\n"
          ]
        },
        {
          "output_type": "stream",
          "name": "stdout",
          "text": [
            "Accuracy: 0.1224515963585075\n",
            "Precision: 0.5767241273348941\n",
            "Recall: 0.17661950780315613\n",
            "F1-Score: 0.22794248626308267\n",
            "              precision    recall  f1-score   support\n",
            "\n",
            "           0       0.66      0.25      0.36      1044\n",
            "           1       0.70      0.02      0.04       821\n",
            "           2       0.88      0.09      0.17       306\n",
            "           3       0.60      0.01      0.01       411\n",
            "           4       0.75      0.27      0.40      2611\n",
            "           5       0.74      0.28      0.41      1163\n",
            "           6       0.84      0.41      0.55       629\n",
            "           7       0.78      0.57      0.66      4142\n",
            "           8       0.89      0.09      0.16       518\n",
            "           9       1.00      0.00      0.00       585\n",
            "          10       0.00      0.00      0.00       102\n",
            "          11       0.56      0.01      0.03       345\n",
            "          12       0.75      0.43      0.55       825\n",
            "          13       0.33      0.00      0.01       311\n",
            "          14       0.00      0.00      0.00       253\n",
            "          15       0.48      0.07      0.13       617\n",
            "          16       0.65      0.13      0.22      1590\n",
            "          17       0.73      0.31      0.43       586\n",
            "          18       0.00      0.00      0.00       142\n",
            "          19       0.00      0.00      0.00       191\n",
            "          20       0.62      0.38      0.47      1567\n",
            "          21       0.46      0.68      0.55       401\n",
            "          22       0.86      0.06      0.11       210\n",
            "\n",
            "   micro avg       0.71      0.29      0.42     19370\n",
            "   macro avg       0.58      0.18      0.23     19370\n",
            "weighted avg       0.69      0.29      0.37     19370\n",
            " samples avg       0.52      0.34      0.38     19370\n",
            "\n",
            "Epoch 3/30, Loss: 0.20784606356352608\n"
          ]
        },
        {
          "output_type": "stream",
          "name": "stderr",
          "text": [
            "/usr/local/lib/python3.10/dist-packages/sklearn/metrics/_classification.py:1344: UndefinedMetricWarning: Precision is ill-defined and being set to 0.0 in labels with no predicted samples. Use `zero_division` parameter to control this behavior.\n",
            "  _warn_prf(average, modifier, msg_start, len(result))\n",
            "/usr/local/lib/python3.10/dist-packages/sklearn/metrics/_classification.py:1344: UndefinedMetricWarning: Precision and F-score are ill-defined and being set to 0.0 in labels with no predicted samples. Use `zero_division` parameter to control this behavior.\n",
            "  _warn_prf(average, modifier, msg_start, len(result))\n",
            "/usr/local/lib/python3.10/dist-packages/sklearn/metrics/_classification.py:1344: UndefinedMetricWarning: Precision and F-score are ill-defined and being set to 0.0 in samples with no predicted labels. Use `zero_division` parameter to control this behavior.\n",
            "  _warn_prf(average, modifier, msg_start, len(result))\n"
          ]
        },
        {
          "output_type": "stream",
          "name": "stdout",
          "text": [
            "Accuracy: 0.14886523913322222\n",
            "Precision: 0.6356776842382292\n",
            "Recall: 0.24327449214553812\n",
            "F1-Score: 0.3127042086365369\n",
            "              precision    recall  f1-score   support\n",
            "\n",
            "           0       0.75      0.23      0.35      1044\n",
            "           1       0.71      0.17      0.28       821\n",
            "           2       0.51      0.44      0.47       306\n",
            "           3       0.00      0.00      0.00       411\n",
            "           4       0.72      0.41      0.52      2611\n",
            "           5       0.75      0.34      0.47      1163\n",
            "           6       0.77      0.61      0.68       629\n",
            "           7       0.78      0.62      0.69      4142\n",
            "           8       0.57      0.47      0.52       518\n",
            "           9       0.78      0.07      0.13       585\n",
            "          10       0.00      0.00      0.00       102\n",
            "          11       1.00      0.01      0.02       345\n",
            "          12       0.90      0.28      0.43       825\n",
            "          13       0.70      0.14      0.24       311\n",
            "          14       0.45      0.04      0.07       253\n",
            "          15       0.58      0.08      0.14       617\n",
            "          16       0.67      0.12      0.20      1590\n",
            "          17       0.74      0.48      0.58       586\n",
            "          18       0.00      0.00      0.00       142\n",
            "          19       1.00      0.01      0.02       191\n",
            "          20       0.68      0.28      0.39      1567\n",
            "          21       0.67      0.53      0.59       401\n",
            "          22       0.88      0.25      0.39       210\n",
            "\n",
            "   micro avg       0.73      0.35      0.47     19370\n",
            "   macro avg       0.64      0.24      0.31     19370\n",
            "weighted avg       0.71      0.35      0.44     19370\n",
            " samples avg       0.61      0.40      0.45     19370\n",
            "\n",
            "Epoch 4/30, Loss: 0.19739497771846903\n"
          ]
        },
        {
          "output_type": "stream",
          "name": "stderr",
          "text": [
            "/usr/local/lib/python3.10/dist-packages/sklearn/metrics/_classification.py:1344: UndefinedMetricWarning: Precision is ill-defined and being set to 0.0 in labels with no predicted samples. Use `zero_division` parameter to control this behavior.\n",
            "  _warn_prf(average, modifier, msg_start, len(result))\n",
            "/usr/local/lib/python3.10/dist-packages/sklearn/metrics/_classification.py:1344: UndefinedMetricWarning: Precision and F-score are ill-defined and being set to 0.0 in labels with no predicted samples. Use `zero_division` parameter to control this behavior.\n",
            "  _warn_prf(average, modifier, msg_start, len(result))\n",
            "/usr/local/lib/python3.10/dist-packages/sklearn/metrics/_classification.py:1344: UndefinedMetricWarning: Precision and F-score are ill-defined and being set to 0.0 in samples with no predicted labels. Use `zero_division` parameter to control this behavior.\n",
            "  _warn_prf(average, modifier, msg_start, len(result))\n"
          ]
        },
        {
          "output_type": "stream",
          "name": "stdout",
          "text": [
            "Accuracy: 0.15258366457238107\n",
            "Precision: 0.6217666180889276\n",
            "Recall: 0.25266199064638983\n",
            "F1-Score: 0.32434088230400765\n",
            "              precision    recall  f1-score   support\n",
            "\n",
            "           0       0.79      0.17      0.28      1044\n",
            "           1       0.75      0.19      0.30       821\n",
            "           2       0.79      0.13      0.23       306\n",
            "           3       0.38      0.01      0.02       411\n",
            "           4       0.78      0.29      0.43      2611\n",
            "           5       0.78      0.27      0.40      1163\n",
            "           6       0.69      0.62      0.65       629\n",
            "           7       0.73      0.73      0.73      4142\n",
            "           8       0.75      0.20      0.31       518\n",
            "           9       0.88      0.08      0.14       585\n",
            "          10       0.00      0.00      0.00       102\n",
            "          11       0.50      0.04      0.07       345\n",
            "          12       0.87      0.27      0.41       825\n",
            "          13       0.36      0.43      0.39       311\n",
            "          14       0.36      0.17      0.23       253\n",
            "          15       0.67      0.03      0.06       617\n",
            "          16       0.57      0.37      0.45      1590\n",
            "          17       0.66      0.29      0.40       586\n",
            "          18       0.00      0.00      0.00       142\n",
            "          19       0.65      0.38      0.48       191\n",
            "          20       0.76      0.17      0.28      1567\n",
            "          21       0.78      0.44      0.56       401\n",
            "          22       0.80      0.53      0.64       210\n",
            "\n",
            "   micro avg       0.71      0.35      0.47     19370\n",
            "   macro avg       0.62      0.25      0.32     19370\n",
            "weighted avg       0.71      0.35      0.43     19370\n",
            " samples avg       0.61      0.42      0.46     19370\n",
            "\n",
            "Epoch 5/30, Loss: 0.18969315333887218\n"
          ]
        },
        {
          "output_type": "stream",
          "name": "stderr",
          "text": [
            "/usr/local/lib/python3.10/dist-packages/sklearn/metrics/_classification.py:1344: UndefinedMetricWarning: Precision is ill-defined and being set to 0.0 in labels with no predicted samples. Use `zero_division` parameter to control this behavior.\n",
            "  _warn_prf(average, modifier, msg_start, len(result))\n",
            "/usr/local/lib/python3.10/dist-packages/sklearn/metrics/_classification.py:1344: UndefinedMetricWarning: Precision and F-score are ill-defined and being set to 0.0 in labels with no predicted samples. Use `zero_division` parameter to control this behavior.\n",
            "  _warn_prf(average, modifier, msg_start, len(result))\n",
            "/usr/local/lib/python3.10/dist-packages/sklearn/metrics/_classification.py:1344: UndefinedMetricWarning: Precision and F-score are ill-defined and being set to 0.0 in samples with no predicted labels. Use `zero_division` parameter to control this behavior.\n",
            "  _warn_prf(average, modifier, msg_start, len(result))\n"
          ]
        },
        {
          "output_type": "stream",
          "name": "stdout",
          "text": [
            "Accuracy: 0.16155917425310937\n",
            "Precision: 0.6766435598300269\n",
            "Recall: 0.28176485060707984\n",
            "F1-Score: 0.3762621914492814\n",
            "              precision    recall  f1-score   support\n",
            "\n",
            "           0       0.69      0.35      0.47      1044\n",
            "           1       0.74      0.21      0.33       821\n",
            "           2       0.71      0.33      0.45       306\n",
            "           3       1.00      0.00      0.01       411\n",
            "           4       0.70      0.52      0.60      2611\n",
            "           5       0.73      0.39      0.51      1163\n",
            "           6       0.86      0.50      0.63       629\n",
            "           7       0.82      0.53      0.65      4142\n",
            "           8       0.77      0.28      0.41       518\n",
            "           9       0.70      0.16      0.26       585\n",
            "          10       0.10      0.01      0.02       102\n",
            "          11       0.61      0.03      0.06       345\n",
            "          12       0.84      0.45      0.59       825\n",
            "          13       0.68      0.22      0.33       311\n",
            "          14       0.49      0.07      0.12       253\n",
            "          15       0.58      0.12      0.19       617\n",
            "          16       0.66      0.27      0.38      1590\n",
            "          17       0.89      0.35      0.50       586\n",
            "          18       0.00      0.00      0.00       142\n",
            "          19       0.70      0.38      0.49       191\n",
            "          20       0.70      0.34      0.46      1567\n",
            "          21       0.80      0.44      0.57       401\n",
            "          22       0.80      0.53      0.64       210\n",
            "\n",
            "   micro avg       0.75      0.38      0.50     19370\n",
            "   macro avg       0.68      0.28      0.38     19370\n",
            "weighted avg       0.74      0.38      0.48     19370\n",
            " samples avg       0.64      0.43      0.48     19370\n",
            "\n",
            "Epoch 6/30, Loss: 0.18116805012579318\n"
          ]
        },
        {
          "output_type": "stream",
          "name": "stderr",
          "text": [
            "/usr/local/lib/python3.10/dist-packages/sklearn/metrics/_classification.py:1344: UndefinedMetricWarning: Precision is ill-defined and being set to 0.0 in labels with no predicted samples. Use `zero_division` parameter to control this behavior.\n",
            "  _warn_prf(average, modifier, msg_start, len(result))\n",
            "/usr/local/lib/python3.10/dist-packages/sklearn/metrics/_classification.py:1344: UndefinedMetricWarning: Precision and F-score are ill-defined and being set to 0.0 in labels with no predicted samples. Use `zero_division` parameter to control this behavior.\n",
            "  _warn_prf(average, modifier, msg_start, len(result))\n",
            "/usr/local/lib/python3.10/dist-packages/sklearn/metrics/_classification.py:1344: UndefinedMetricWarning: Precision and F-score are ill-defined and being set to 0.0 in samples with no predicted labels. Use `zero_division` parameter to control this behavior.\n",
            "  _warn_prf(average, modifier, msg_start, len(result))\n"
          ]
        },
        {
          "output_type": "stream",
          "name": "stdout",
          "text": [
            "Accuracy: 0.16027695858443392\n",
            "Precision: 0.6136977619804738\n",
            "Recall: 0.3161235476303674\n",
            "F1-Score: 0.39945249790242565\n",
            "              precision    recall  f1-score   support\n",
            "\n",
            "           0       0.71      0.40      0.51      1044\n",
            "           1       0.59      0.39      0.47       821\n",
            "           2       0.71      0.34      0.46       306\n",
            "           3       0.00      0.00      0.00       411\n",
            "           4       0.75      0.44      0.56      2611\n",
            "           5       0.67      0.51      0.57      1163\n",
            "           6       0.89      0.35      0.50       629\n",
            "           7       0.77      0.68      0.73      4142\n",
            "           8       0.58      0.46      0.51       518\n",
            "           9       0.56      0.28      0.38       585\n",
            "          10       0.29      0.04      0.07       102\n",
            "          11       0.58      0.02      0.04       345\n",
            "          12       0.87      0.37      0.52       825\n",
            "          13       0.62      0.32      0.43       311\n",
            "          14       0.33      0.08      0.13       253\n",
            "          15       0.54      0.20      0.29       617\n",
            "          16       0.57      0.44      0.50      1590\n",
            "          17       0.77      0.49      0.60       586\n",
            "          18       0.20      0.01      0.01       142\n",
            "          19       0.79      0.20      0.32       191\n",
            "          20       0.66      0.38      0.48      1567\n",
            "          21       0.85      0.31      0.46       401\n",
            "          22       0.82      0.55      0.66       210\n",
            "\n",
            "   micro avg       0.70      0.44      0.54     19370\n",
            "   macro avg       0.61      0.32      0.40     19370\n",
            "weighted avg       0.68      0.44      0.52     19370\n",
            " samples avg       0.65      0.48      0.52     19370\n",
            "\n",
            "Epoch 7/30, Loss: 0.17220574826390492\n",
            "Accuracy: 0.16361071932299012\n",
            "Precision: 0.69346286455395\n",
            "Recall: 0.28573917129115645\n",
            "F1-Score: 0.37126706295468603\n",
            "              precision    recall  f1-score   support\n",
            "\n",
            "           0       0.74      0.30      0.42      1044\n",
            "           1       0.69      0.21      0.32       821\n",
            "           2       0.73      0.29      0.42       306\n",
            "           3       0.52      0.03      0.05       411\n",
            "           4       0.71      0.54      0.62      2611\n",
            "           5       0.68      0.44      0.54      1163\n",
            "           6       0.74      0.66      0.70       629\n",
            "           7       0.79      0.63      0.70      4142\n",
            "           8       0.78      0.30      0.43       518\n",
            "           9       0.65      0.22      0.33       585\n",
            "          10       0.00      0.00      0.00       102\n",
            "          11       0.75      0.06      0.11       345\n",
            "          12       0.90      0.30      0.45       825\n",
            "          13       0.70      0.16      0.26       311\n",
            "          14       0.52      0.06      0.11       253\n",
            "          15       0.61      0.07      0.13       617\n",
            "          16       0.61      0.26      0.36      1590\n",
            "          17       0.77      0.48      0.59       586\n",
            "          18       1.00      0.01      0.03       142\n",
            "          19       0.61      0.57      0.59       191\n",
            "          20       0.77      0.22      0.34      1567\n",
            "          21       0.82      0.32      0.47       401\n",
            "          22       0.85      0.44      0.58       210\n",
            "\n",
            "   micro avg       0.74      0.39      0.51     19370\n",
            "   macro avg       0.69      0.29      0.37     19370\n",
            "weighted avg       0.73      0.39      0.48     19370\n",
            " samples avg       0.66      0.45      0.50     19370\n",
            "\n"
          ]
        },
        {
          "output_type": "stream",
          "name": "stderr",
          "text": [
            "/usr/local/lib/python3.10/dist-packages/sklearn/metrics/_classification.py:1344: UndefinedMetricWarning: Precision and F-score are ill-defined and being set to 0.0 in samples with no predicted labels. Use `zero_division` parameter to control this behavior.\n",
            "  _warn_prf(average, modifier, msg_start, len(result))\n"
          ]
        },
        {
          "output_type": "stream",
          "name": "stdout",
          "text": [
            "Epoch 8/30, Loss: 0.16172746421746265\n",
            "Accuracy: 0.168739581997692\n",
            "Precision: 0.6469541448121285\n",
            "Recall: 0.3234757862208903\n",
            "F1-Score: 0.4030532803417894\n",
            "              precision    recall  f1-score   support\n",
            "\n",
            "           0       0.73      0.31      0.44      1044\n",
            "           1       0.74      0.21      0.33       821\n",
            "           2       0.84      0.15      0.26       306\n",
            "           3       0.42      0.16      0.23       411\n",
            "           4       0.70      0.54      0.61      2611\n",
            "           5       0.71      0.39      0.50      1163\n",
            "           6       0.72      0.64      0.68       629\n",
            "           7       0.74      0.74      0.74      4142\n",
            "           8       0.77      0.23      0.36       518\n",
            "           9       0.59      0.26      0.36       585\n",
            "          10       0.36      0.09      0.14       102\n",
            "          11       0.48      0.19      0.27       345\n",
            "          12       0.85      0.36      0.51       825\n",
            "          13       0.47      0.60      0.53       311\n",
            "          14       0.39      0.17      0.23       253\n",
            "          15       0.70      0.03      0.06       617\n",
            "          16       0.56      0.38      0.45      1590\n",
            "          17       0.85      0.32      0.46       586\n",
            "          18       0.20      0.01      0.01       142\n",
            "          19       0.66      0.49      0.56       191\n",
            "          20       0.75      0.24      0.36      1567\n",
            "          21       0.84      0.35      0.50       401\n",
            "          22       0.80      0.58      0.67       210\n",
            "\n",
            "   micro avg       0.70      0.43      0.53     19370\n",
            "   macro avg       0.65      0.32      0.40     19370\n",
            "weighted avg       0.70      0.43      0.50     19370\n",
            " samples avg       0.67      0.49      0.53     19370\n",
            "\n"
          ]
        },
        {
          "output_type": "stream",
          "name": "stderr",
          "text": [
            "/usr/local/lib/python3.10/dist-packages/sklearn/metrics/_classification.py:1344: UndefinedMetricWarning: Precision and F-score are ill-defined and being set to 0.0 in samples with no predicted labels. Use `zero_division` parameter to control this behavior.\n",
            "  _warn_prf(average, modifier, msg_start, len(result))\n"
          ]
        },
        {
          "output_type": "stream",
          "name": "stdout",
          "text": [
            "Epoch 9/30, Loss: 0.14906191914783093\n",
            "Accuracy: 0.16989357609949993\n",
            "Precision: 0.655798680738559\n",
            "Recall: 0.3252201355476435\n",
            "F1-Score: 0.4045516793751111\n",
            "              precision    recall  f1-score   support\n",
            "\n",
            "           0       0.65      0.44      0.53      1044\n",
            "           1       0.70      0.26      0.38       821\n",
            "           2       0.75      0.28      0.41       306\n",
            "           3       0.51      0.11      0.18       411\n",
            "           4       0.69      0.57      0.62      2611\n",
            "           5       0.72      0.35      0.47      1163\n",
            "           6       0.65      0.74      0.69       629\n",
            "           7       0.76      0.67      0.71      4142\n",
            "           8       0.76      0.24      0.36       518\n",
            "           9       0.63      0.24      0.35       585\n",
            "          10       0.40      0.02      0.04       102\n",
            "          11       0.49      0.19      0.28       345\n",
            "          12       0.76      0.52      0.62       825\n",
            "          13       0.58      0.44      0.50       311\n",
            "          14       0.46      0.04      0.08       253\n",
            "          15       0.63      0.12      0.19       617\n",
            "          16       0.59      0.32      0.41      1590\n",
            "          17       0.70      0.52      0.60       586\n",
            "          18       0.67      0.04      0.08       142\n",
            "          19       0.62      0.41      0.49       191\n",
            "          20       0.76      0.17      0.28      1567\n",
            "          21       0.70      0.47      0.57       401\n",
            "          22       0.88      0.32      0.47       210\n",
            "\n",
            "   micro avg       0.70      0.43      0.53     19370\n",
            "   macro avg       0.66      0.33      0.40     19370\n",
            "weighted avg       0.69      0.43      0.51     19370\n",
            " samples avg       0.67      0.49      0.53     19370\n",
            "\n"
          ]
        },
        {
          "output_type": "stream",
          "name": "stderr",
          "text": [
            "/usr/local/lib/python3.10/dist-packages/sklearn/metrics/_classification.py:1344: UndefinedMetricWarning: Precision and F-score are ill-defined and being set to 0.0 in samples with no predicted labels. Use `zero_division` parameter to control this behavior.\n",
            "  _warn_prf(average, modifier, msg_start, len(result))\n"
          ]
        },
        {
          "output_type": "stream",
          "name": "stdout",
          "text": [
            "Epoch 10/30, Loss: 0.13415850152163186\n",
            "Accuracy: 0.15822541351455316\n",
            "Precision: 0.6210458293104358\n",
            "Recall: 0.335923296791236\n",
            "F1-Score: 0.41363039248032857\n",
            "              precision    recall  f1-score   support\n",
            "\n",
            "           0       0.65      0.42      0.51      1044\n",
            "           1       0.62      0.33      0.43       821\n",
            "           2       0.60      0.41      0.48       306\n",
            "           3       0.36      0.15      0.21       411\n",
            "           4       0.76      0.40      0.53      2611\n",
            "           5       0.58      0.60      0.59      1163\n",
            "           6       0.76      0.57      0.65       629\n",
            "           7       0.70      0.81      0.75      4142\n",
            "           8       0.64      0.34      0.44       518\n",
            "           9       0.63      0.20      0.31       585\n",
            "          10       0.29      0.06      0.10       102\n",
            "          11       0.52      0.07      0.12       345\n",
            "          12       0.87      0.20      0.33       825\n",
            "          13       0.65      0.34      0.45       311\n",
            "          14       0.54      0.08      0.13       253\n",
            "          15       0.56      0.18      0.28       617\n",
            "          16       0.59      0.23      0.33      1590\n",
            "          17       0.72      0.51      0.60       586\n",
            "          18       0.41      0.08      0.13       142\n",
            "          19       0.68      0.39      0.50       191\n",
            "          20       0.69      0.32      0.44      1567\n",
            "          21       0.74      0.47      0.58       401\n",
            "          22       0.74      0.56      0.64       210\n",
            "\n",
            "   micro avg       0.68      0.45      0.54     19370\n",
            "   macro avg       0.62      0.34      0.41     19370\n",
            "weighted avg       0.67      0.45      0.51     19370\n",
            " samples avg       0.66      0.50      0.53     19370\n",
            "\n"
          ]
        },
        {
          "output_type": "stream",
          "name": "stderr",
          "text": [
            "/usr/local/lib/python3.10/dist-packages/sklearn/metrics/_classification.py:1344: UndefinedMetricWarning: Precision and F-score are ill-defined and being set to 0.0 in samples with no predicted labels. Use `zero_division` parameter to control this behavior.\n",
            "  _warn_prf(average, modifier, msg_start, len(result))\n"
          ]
        },
        {
          "output_type": "stream",
          "name": "stdout",
          "text": [
            "Epoch 11/30, Loss: 0.11853383635828688\n",
            "Accuracy: 0.15271188613924863\n",
            "Precision: 0.6145176468846925\n",
            "Recall: 0.3471122081842017\n",
            "F1-Score: 0.4235280896954758\n",
            "              precision    recall  f1-score   support\n",
            "\n",
            "           0       0.73      0.28      0.41      1044\n",
            "           1       0.74      0.16      0.27       821\n",
            "           2       0.76      0.24      0.36       306\n",
            "           3       0.41      0.11      0.18       411\n",
            "           4       0.69      0.54      0.60      2611\n",
            "           5       0.59      0.54      0.57      1163\n",
            "           6       0.80      0.51      0.62       629\n",
            "           7       0.76      0.61      0.68      4142\n",
            "           8       0.74      0.21      0.32       518\n",
            "           9       0.64      0.17      0.27       585\n",
            "          10       0.18      0.17      0.17       102\n",
            "          11       0.52      0.13      0.21       345\n",
            "          12       0.72      0.54      0.62       825\n",
            "          13       0.56      0.43      0.48       311\n",
            "          14       0.33      0.24      0.28       253\n",
            "          15       0.46      0.30      0.36       617\n",
            "          16       0.53      0.41      0.47      1590\n",
            "          17       0.80      0.41      0.55       586\n",
            "          18       0.41      0.05      0.09       142\n",
            "          19       0.69      0.36      0.47       191\n",
            "          20       0.62      0.41      0.49      1567\n",
            "          21       0.71      0.51      0.60       401\n",
            "          22       0.71      0.65      0.68       210\n",
            "\n",
            "   micro avg       0.67      0.44      0.53     19370\n",
            "   macro avg       0.61      0.35      0.42     19370\n",
            "weighted avg       0.67      0.44      0.51     19370\n",
            " samples avg       0.64      0.49      0.52     19370\n",
            "\n"
          ]
        },
        {
          "output_type": "stream",
          "name": "stderr",
          "text": [
            "/usr/local/lib/python3.10/dist-packages/sklearn/metrics/_classification.py:1344: UndefinedMetricWarning: Precision and F-score are ill-defined and being set to 0.0 in samples with no predicted labels. Use `zero_division` parameter to control this behavior.\n",
            "  _warn_prf(average, modifier, msg_start, len(result))\n"
          ]
        },
        {
          "output_type": "stream",
          "name": "stdout",
          "text": [
            "Epoch 12/30, Loss: 0.10144832633967181\n",
            "Accuracy: 0.1578407488139505\n",
            "Precision: 0.5941199443924006\n",
            "Recall: 0.36232922401618556\n",
            "F1-Score: 0.4340936753509186\n",
            "              precision    recall  f1-score   support\n",
            "\n",
            "           0       0.70      0.32      0.44      1044\n",
            "           1       0.59      0.33      0.42       821\n",
            "           2       0.64      0.34      0.44       306\n",
            "           3       0.41      0.15      0.22       411\n",
            "           4       0.69      0.53      0.60      2611\n",
            "           5       0.61      0.52      0.56      1163\n",
            "           6       0.66      0.72      0.69       629\n",
            "           7       0.72      0.74      0.73      4142\n",
            "           8       0.55      0.38      0.45       518\n",
            "           9       0.52      0.24      0.33       585\n",
            "          10       0.24      0.09      0.13       102\n",
            "          11       0.37      0.24      0.29       345\n",
            "          12       0.79      0.44      0.57       825\n",
            "          13       0.56      0.40      0.47       311\n",
            "          14       0.49      0.08      0.14       253\n",
            "          15       0.56      0.15      0.23       617\n",
            "          16       0.59      0.25      0.35      1590\n",
            "          17       0.79      0.40      0.53       586\n",
            "          18       0.48      0.16      0.24       142\n",
            "          19       0.66      0.45      0.53       191\n",
            "          20       0.69      0.28      0.40      1567\n",
            "          21       0.61      0.59      0.60       401\n",
            "          22       0.75      0.55      0.63       210\n",
            "\n",
            "   micro avg       0.66      0.46      0.54     19370\n",
            "   macro avg       0.59      0.36      0.43     19370\n",
            "weighted avg       0.65      0.46      0.52     19370\n",
            " samples avg       0.66      0.51      0.54     19370\n",
            "\n"
          ]
        },
        {
          "output_type": "stream",
          "name": "stderr",
          "text": [
            "/usr/local/lib/python3.10/dist-packages/sklearn/metrics/_classification.py:1344: UndefinedMetricWarning: Precision and F-score are ill-defined and being set to 0.0 in samples with no predicted labels. Use `zero_division` parameter to control this behavior.\n",
            "  _warn_prf(average, modifier, msg_start, len(result))\n"
          ]
        },
        {
          "output_type": "stream",
          "name": "stdout",
          "text": [
            "Epoch 13/30, Loss: 0.08517984238508143\n",
            "Accuracy: 0.13937684318502372\n",
            "Precision: 0.5672979974699724\n",
            "Recall: 0.36608058367396656\n",
            "F1-Score: 0.4209073171058317\n",
            "              precision    recall  f1-score   support\n",
            "\n",
            "           0       0.52      0.61      0.56      1044\n",
            "           1       0.52      0.38      0.44       821\n",
            "           2       0.60      0.38      0.46       306\n",
            "           3       0.32      0.17      0.22       411\n",
            "           4       0.71      0.42      0.53      2611\n",
            "           5       0.64      0.38      0.47      1163\n",
            "           6       0.68      0.66      0.67       629\n",
            "           7       0.72      0.69      0.71      4142\n",
            "           8       0.57      0.34      0.43       518\n",
            "           9       0.56      0.23      0.32       585\n",
            "          10       0.31      0.05      0.08       102\n",
            "          11       0.40      0.11      0.17       345\n",
            "          12       0.69      0.55      0.61       825\n",
            "          13       0.54      0.31      0.39       311\n",
            "          14       0.74      0.08      0.14       253\n",
            "          15       0.52      0.12      0.20       617\n",
            "          16       0.53      0.23      0.32      1590\n",
            "          17       0.55      0.63      0.59       586\n",
            "          18       0.37      0.07      0.12       142\n",
            "          19       0.56      0.55      0.56       191\n",
            "          20       0.60      0.41      0.49      1567\n",
            "          21       0.69      0.45      0.54       401\n",
            "          22       0.69      0.60      0.65       210\n",
            "\n",
            "   micro avg       0.63      0.45      0.53     19370\n",
            "   macro avg       0.57      0.37      0.42     19370\n",
            "weighted avg       0.62      0.45      0.51     19370\n",
            " samples avg       0.63      0.50      0.52     19370\n",
            "\n"
          ]
        },
        {
          "output_type": "stream",
          "name": "stderr",
          "text": [
            "/usr/local/lib/python3.10/dist-packages/sklearn/metrics/_classification.py:1344: UndefinedMetricWarning: Precision and F-score are ill-defined and being set to 0.0 in samples with no predicted labels. Use `zero_division` parameter to control this behavior.\n",
            "  _warn_prf(average, modifier, msg_start, len(result))\n"
          ]
        },
        {
          "output_type": "stream",
          "name": "stdout",
          "text": [
            "Epoch 14/30, Loss: 0.07066092966699306\n",
            "Accuracy: 0.14117194512116937\n",
            "Precision: 0.5551941957601076\n",
            "Recall: 0.37051441314976413\n",
            "F1-Score: 0.41945089879264524\n",
            "              precision    recall  f1-score   support\n",
            "\n",
            "           0       0.56      0.43      0.49      1044\n",
            "           1       0.60      0.27      0.37       821\n",
            "           2       0.59      0.36      0.45       306\n",
            "           3       0.52      0.04      0.07       411\n",
            "           4       0.68      0.50      0.58      2611\n",
            "           5       0.60      0.51      0.55      1163\n",
            "           6       0.73      0.59      0.65       629\n",
            "           7       0.70      0.76      0.73      4142\n",
            "           8       0.63      0.34      0.44       518\n",
            "           9       0.47      0.25      0.33       585\n",
            "          10       0.18      0.02      0.04       102\n",
            "          11       0.43      0.20      0.27       345\n",
            "          12       0.67      0.62      0.64       825\n",
            "          13       0.48      0.31      0.38       311\n",
            "          14       0.52      0.05      0.09       253\n",
            "          15       0.42      0.32      0.36       617\n",
            "          16       0.54      0.30      0.39      1590\n",
            "          17       0.61      0.60      0.60       586\n",
            "          18       0.34      0.08      0.13       142\n",
            "          19       0.65      0.41      0.50       191\n",
            "          20       0.69      0.24      0.36      1567\n",
            "          21       0.52      0.70      0.60       401\n",
            "          22       0.64      0.62      0.63       210\n",
            "\n",
            "   micro avg       0.63      0.47      0.54     19370\n",
            "   macro avg       0.56      0.37      0.42     19370\n",
            "weighted avg       0.62      0.47      0.52     19370\n",
            " samples avg       0.64      0.53      0.54     19370\n",
            "\n"
          ]
        },
        {
          "output_type": "stream",
          "name": "stderr",
          "text": [
            "/usr/local/lib/python3.10/dist-packages/sklearn/metrics/_classification.py:1344: UndefinedMetricWarning: Precision and F-score are ill-defined and being set to 0.0 in samples with no predicted labels. Use `zero_division` parameter to control this behavior.\n",
            "  _warn_prf(average, modifier, msg_start, len(result))\n"
          ]
        },
        {
          "output_type": "stream",
          "name": "stdout",
          "text": [
            "Epoch 15/30, Loss: 0.05879525129845563\n",
            "Accuracy: 0.14245416078984485\n",
            "Precision: 0.5687894075424067\n",
            "Recall: 0.3568559575627553\n",
            "F1-Score: 0.4184679073584279\n",
            "              precision    recall  f1-score   support\n",
            "\n",
            "           0       0.63      0.43      0.51      1044\n",
            "           1       0.60      0.23      0.33       821\n",
            "           2       0.71      0.19      0.30       306\n",
            "           3       0.30      0.07      0.11       411\n",
            "           4       0.73      0.44      0.55      2611\n",
            "           5       0.58      0.52      0.55      1163\n",
            "           6       0.71      0.66      0.68       629\n",
            "           7       0.68      0.79      0.73      4142\n",
            "           8       0.71      0.26      0.39       518\n",
            "           9       0.52      0.21      0.29       585\n",
            "          10       0.18      0.26      0.21       102\n",
            "          11       0.39      0.19      0.26       345\n",
            "          12       0.71      0.56      0.63       825\n",
            "          13       0.59      0.25      0.35       311\n",
            "          14       0.35      0.21      0.26       253\n",
            "          15       0.50      0.14      0.22       617\n",
            "          16       0.47      0.36      0.41      1590\n",
            "          17       0.73      0.46      0.56       586\n",
            "          18       0.36      0.06      0.10       142\n",
            "          19       0.73      0.32      0.44       191\n",
            "          20       0.57      0.48      0.52      1567\n",
            "          21       0.61      0.56      0.59       401\n",
            "          22       0.72      0.54      0.61       210\n",
            "\n",
            "   micro avg       0.63      0.48      0.54     19370\n",
            "   macro avg       0.57      0.36      0.42     19370\n",
            "weighted avg       0.62      0.48      0.52     19370\n",
            " samples avg       0.64      0.53      0.54     19370\n",
            "\n"
          ]
        },
        {
          "output_type": "stream",
          "name": "stderr",
          "text": [
            "/usr/local/lib/python3.10/dist-packages/sklearn/metrics/_classification.py:1344: UndefinedMetricWarning: Precision and F-score are ill-defined and being set to 0.0 in samples with no predicted labels. Use `zero_division` parameter to control this behavior.\n",
            "  _warn_prf(average, modifier, msg_start, len(result))\n"
          ]
        },
        {
          "output_type": "stream",
          "name": "stdout",
          "text": [
            "Epoch 16/30, Loss: 0.049761683372231344\n",
            "Accuracy: 0.12976022566995768\n",
            "Precision: 0.5392179738020552\n",
            "Recall: 0.40487835332516914\n",
            "F1-Score: 0.4456786148883502\n",
            "              precision    recall  f1-score   support\n",
            "\n",
            "           0       0.53      0.54      0.53      1044\n",
            "           1       0.43      0.49      0.46       821\n",
            "           2       0.66      0.29      0.40       306\n",
            "           3       0.38      0.13      0.19       411\n",
            "           4       0.71      0.47      0.56      2611\n",
            "           5       0.55      0.61      0.58      1163\n",
            "           6       0.77      0.55      0.64       629\n",
            "           7       0.65      0.85      0.74      4142\n",
            "           8       0.67      0.26      0.38       518\n",
            "           9       0.47      0.27      0.34       585\n",
            "          10       0.17      0.08      0.11       102\n",
            "          11       0.37      0.25      0.30       345\n",
            "          12       0.76      0.40      0.53       825\n",
            "          13       0.57      0.42      0.48       311\n",
            "          14       0.36      0.17      0.24       253\n",
            "          15       0.42      0.27      0.33       617\n",
            "          16       0.43      0.49      0.46      1590\n",
            "          17       0.72      0.50      0.59       586\n",
            "          18       0.35      0.11      0.16       142\n",
            "          19       0.69      0.36      0.47       191\n",
            "          20       0.56      0.51      0.53      1567\n",
            "          21       0.59      0.60      0.60       401\n",
            "          22       0.57      0.69      0.62       210\n",
            "\n",
            "   micro avg       0.59      0.53      0.56     19370\n",
            "   macro avg       0.54      0.40      0.45     19370\n",
            "weighted avg       0.59      0.53      0.54     19370\n",
            " samples avg       0.61      0.58      0.55     19370\n",
            "\n"
          ]
        },
        {
          "output_type": "stream",
          "name": "stderr",
          "text": [
            "/usr/local/lib/python3.10/dist-packages/sklearn/metrics/_classification.py:1344: UndefinedMetricWarning: Precision and F-score are ill-defined and being set to 0.0 in samples with no predicted labels. Use `zero_division` parameter to control this behavior.\n",
            "  _warn_prf(average, modifier, msg_start, len(result))\n"
          ]
        },
        {
          "output_type": "stream",
          "name": "stdout",
          "text": [
            "Epoch 17/30, Loss: 0.04362864061086266\n",
            "Accuracy: 0.13078599820489806\n",
            "Precision: 0.5422600402525124\n",
            "Recall: 0.38502059094100616\n",
            "F1-Score: 0.4328253935078044\n",
            "              precision    recall  f1-score   support\n",
            "\n",
            "           0       0.55      0.49      0.52      1044\n",
            "           1       0.46      0.41      0.44       821\n",
            "           2       0.47      0.45      0.46       306\n",
            "           3       0.38      0.09      0.14       411\n",
            "           4       0.68      0.53      0.60      2611\n",
            "           5       0.66      0.26      0.38      1163\n",
            "           6       0.64      0.69      0.67       629\n",
            "           7       0.76      0.56      0.65      4142\n",
            "           8       0.71      0.27      0.39       518\n",
            "           9       0.37      0.35      0.36       585\n",
            "          10       0.26      0.06      0.10       102\n",
            "          11       0.31      0.28      0.30       345\n",
            "          12       0.58      0.69      0.63       825\n",
            "          13       0.60      0.30      0.40       311\n",
            "          14       0.46      0.12      0.19       253\n",
            "          15       0.42      0.30      0.35       617\n",
            "          16       0.49      0.35      0.41      1590\n",
            "          17       0.65      0.52      0.58       586\n",
            "          18       0.33      0.16      0.22       142\n",
            "          19       0.73      0.36      0.48       191\n",
            "          20       0.56      0.46      0.51      1567\n",
            "          21       0.55      0.67      0.60       401\n",
            "          22       0.84      0.46      0.60       210\n",
            "\n",
            "   micro avg       0.60      0.46      0.52     19370\n",
            "   macro avg       0.54      0.39      0.43     19370\n",
            "weighted avg       0.61      0.46      0.51     19370\n",
            " samples avg       0.60      0.50      0.50     19370\n",
            "\n"
          ]
        },
        {
          "output_type": "stream",
          "name": "stderr",
          "text": [
            "/usr/local/lib/python3.10/dist-packages/sklearn/metrics/_classification.py:1344: UndefinedMetricWarning: Precision and F-score are ill-defined and being set to 0.0 in samples with no predicted labels. Use `zero_division` parameter to control this behavior.\n",
            "  _warn_prf(average, modifier, msg_start, len(result))\n"
          ]
        },
        {
          "output_type": "stream",
          "name": "stdout",
          "text": [
            "Epoch 18/30, Loss: 0.036859262067139846\n",
            "Accuracy: 0.12065649442236184\n",
            "Precision: 0.5181111034914424\n",
            "Recall: 0.4112525904745798\n",
            "F1-Score: 0.44138618601640905\n",
            "              precision    recall  f1-score   support\n",
            "\n",
            "           0       0.54      0.51      0.52      1044\n",
            "           1       0.52      0.37      0.43       821\n",
            "           2       0.61      0.30      0.40       306\n",
            "           3       0.34      0.10      0.15       411\n",
            "           4       0.59      0.70      0.64      2611\n",
            "           5       0.51      0.59      0.55      1163\n",
            "           6       0.78      0.46      0.58       629\n",
            "           7       0.69      0.76      0.72      4142\n",
            "           8       0.48      0.49      0.49       518\n",
            "           9       0.46      0.28      0.35       585\n",
            "          10       0.22      0.10      0.14       102\n",
            "          11       0.52      0.14      0.22       345\n",
            "          12       0.63      0.63      0.63       825\n",
            "          13       0.52      0.36      0.42       311\n",
            "          14       0.34      0.13      0.19       253\n",
            "          15       0.44      0.20      0.27       617\n",
            "          16       0.48      0.42      0.45      1590\n",
            "          17       0.58      0.60      0.59       586\n",
            "          18       0.38      0.10      0.16       142\n",
            "          19       0.52      0.53      0.52       191\n",
            "          20       0.55      0.49      0.52      1567\n",
            "          21       0.60      0.56      0.58       401\n",
            "          22       0.62      0.64      0.63       210\n",
            "\n",
            "   micro avg       0.58      0.54      0.56     19370\n",
            "   macro avg       0.52      0.41      0.44     19370\n",
            "weighted avg       0.57      0.54      0.54     19370\n",
            " samples avg       0.61      0.59      0.55     19370\n",
            "\n"
          ]
        },
        {
          "output_type": "stream",
          "name": "stderr",
          "text": [
            "/usr/local/lib/python3.10/dist-packages/sklearn/metrics/_classification.py:1344: UndefinedMetricWarning: Precision and F-score are ill-defined and being set to 0.0 in samples with no predicted labels. Use `zero_division` parameter to control this behavior.\n",
            "  _warn_prf(average, modifier, msg_start, len(result))\n"
          ]
        },
        {
          "output_type": "stream",
          "name": "stdout",
          "text": [
            "Epoch 19/30, Loss: 0.03299120138750625\n",
            "Accuracy: 0.1365559687139377\n",
            "Precision: 0.5462268332718317\n",
            "Recall: 0.3742422188486877\n",
            "F1-Score: 0.43155470100011667\n",
            "              precision    recall  f1-score   support\n",
            "\n",
            "           0       0.51      0.56      0.53      1044\n",
            "           1       0.51      0.35      0.42       821\n",
            "           2       0.62      0.29      0.39       306\n",
            "           3       0.29      0.15      0.20       411\n",
            "           4       0.67      0.51      0.58      2611\n",
            "           5       0.53      0.52      0.53      1163\n",
            "           6       0.73      0.61      0.67       629\n",
            "           7       0.69      0.75      0.72      4142\n",
            "           8       0.68      0.25      0.37       518\n",
            "           9       0.44      0.26      0.33       585\n",
            "          10       0.30      0.10      0.15       102\n",
            "          11       0.37      0.16      0.23       345\n",
            "          12       0.71      0.53      0.61       825\n",
            "          13       0.52      0.36      0.43       311\n",
            "          14       0.47      0.12      0.19       253\n",
            "          15       0.46      0.19      0.27       617\n",
            "          16       0.49      0.32      0.39      1590\n",
            "          17       0.72      0.49      0.58       586\n",
            "          18       0.22      0.08      0.12       142\n",
            "          19       0.63      0.47      0.54       191\n",
            "          20       0.53      0.57      0.54      1567\n",
            "          21       0.68      0.52      0.59       401\n",
            "          22       0.77      0.44      0.56       210\n",
            "\n",
            "   micro avg       0.61      0.50      0.55     19370\n",
            "   macro avg       0.55      0.37      0.43     19370\n",
            "weighted avg       0.59      0.50      0.53     19370\n",
            " samples avg       0.62      0.54      0.54     19370\n",
            "\n"
          ]
        },
        {
          "output_type": "stream",
          "name": "stderr",
          "text": [
            "/usr/local/lib/python3.10/dist-packages/sklearn/metrics/_classification.py:1344: UndefinedMetricWarning: Precision and F-score are ill-defined and being set to 0.0 in samples with no predicted labels. Use `zero_division` parameter to control this behavior.\n",
            "  _warn_prf(average, modifier, msg_start, len(result))\n"
          ]
        },
        {
          "output_type": "stream",
          "name": "stdout",
          "text": [
            "Epoch 20/30, Loss: 0.029805108274055955\n",
            "Accuracy: 0.1350173099115271\n",
            "Precision: 0.5355016934273881\n",
            "Recall: 0.3852246738124326\n",
            "F1-Score: 0.43638170042941343\n",
            "              precision    recall  f1-score   support\n",
            "\n",
            "           0       0.56      0.53      0.54      1044\n",
            "           1       0.51      0.41      0.45       821\n",
            "           2       0.53      0.30      0.39       306\n",
            "           3       0.36      0.08      0.12       411\n",
            "           4       0.67      0.54      0.60      2611\n",
            "           5       0.63      0.42      0.50      1163\n",
            "           6       0.72      0.63      0.67       629\n",
            "           7       0.74      0.63      0.68      4142\n",
            "           8       0.66      0.33      0.44       518\n",
            "           9       0.42      0.36      0.39       585\n",
            "          10       0.18      0.03      0.05       102\n",
            "          11       0.49      0.17      0.26       345\n",
            "          12       0.76      0.51      0.61       825\n",
            "          13       0.56      0.33      0.41       311\n",
            "          14       0.35      0.12      0.18       253\n",
            "          15       0.44      0.30      0.36       617\n",
            "          16       0.53      0.34      0.41      1590\n",
            "          17       0.63      0.56      0.59       586\n",
            "          18       0.20      0.12      0.15       142\n",
            "          19       0.65      0.35      0.46       191\n",
            "          20       0.52      0.59      0.55      1567\n",
            "          21       0.59      0.56      0.57       401\n",
            "          22       0.64      0.65      0.64       210\n",
            "\n",
            "   micro avg       0.62      0.48      0.54     19370\n",
            "   macro avg       0.54      0.39      0.44     19370\n",
            "weighted avg       0.61      0.48      0.53     19370\n",
            " samples avg       0.62      0.53      0.53     19370\n",
            "\n"
          ]
        },
        {
          "output_type": "stream",
          "name": "stderr",
          "text": [
            "/usr/local/lib/python3.10/dist-packages/sklearn/metrics/_classification.py:1344: UndefinedMetricWarning: Precision and F-score are ill-defined and being set to 0.0 in samples with no predicted labels. Use `zero_division` parameter to control this behavior.\n",
            "  _warn_prf(average, modifier, msg_start, len(result))\n"
          ]
        },
        {
          "output_type": "stream",
          "name": "stdout",
          "text": [
            "Epoch 21/30, Loss: 0.027018693899825235\n",
            "Accuracy: 0.13745351968201053\n",
            "Precision: 0.5500109863213859\n",
            "Recall: 0.3695225925175188\n",
            "F1-Score: 0.4296483196967061\n",
            "              precision    recall  f1-score   support\n",
            "\n",
            "           0       0.65      0.32      0.43      1044\n",
            "           1       0.55      0.33      0.41       821\n",
            "           2       0.60      0.37      0.46       306\n",
            "           3       0.26      0.24      0.25       411\n",
            "           4       0.65      0.53      0.59      2611\n",
            "           5       0.52      0.60      0.56      1163\n",
            "           6       0.69      0.70      0.70       629\n",
            "           7       0.73      0.67      0.70      4142\n",
            "           8       0.64      0.35      0.45       518\n",
            "           9       0.41      0.36      0.38       585\n",
            "          10       0.18      0.04      0.06       102\n",
            "          11       0.44      0.20      0.27       345\n",
            "          12       0.73      0.46      0.57       825\n",
            "          13       0.47      0.40      0.43       311\n",
            "          14       0.48      0.10      0.17       253\n",
            "          15       0.47      0.21      0.29       617\n",
            "          16       0.51      0.32      0.40      1590\n",
            "          17       0.62      0.52      0.57       586\n",
            "          18       0.34      0.09      0.14       142\n",
            "          19       0.59      0.47      0.52       191\n",
            "          20       0.61      0.39      0.47      1567\n",
            "          21       0.69      0.41      0.51       401\n",
            "          22       0.80      0.41      0.54       210\n",
            "\n",
            "   micro avg       0.62      0.47      0.53     19370\n",
            "   macro avg       0.55      0.37      0.43     19370\n",
            "weighted avg       0.61      0.47      0.52     19370\n",
            " samples avg       0.62      0.52      0.52     19370\n",
            "\n"
          ]
        },
        {
          "output_type": "stream",
          "name": "stderr",
          "text": [
            "/usr/local/lib/python3.10/dist-packages/sklearn/metrics/_classification.py:1344: UndefinedMetricWarning: Precision and F-score are ill-defined and being set to 0.0 in samples with no predicted labels. Use `zero_division` parameter to control this behavior.\n",
            "  _warn_prf(average, modifier, msg_start, len(result))\n"
          ]
        },
        {
          "output_type": "stream",
          "name": "stdout",
          "text": [
            "Epoch 22/30, Loss: 0.024975312308731536\n",
            "Accuracy: 0.13296576484164638\n",
            "Precision: 0.548132975494127\n",
            "Recall: 0.37388288287115856\n",
            "F1-Score: 0.4283768448558768\n",
            "              precision    recall  f1-score   support\n",
            "\n",
            "           0       0.68      0.34      0.45      1044\n",
            "           1       0.49      0.38      0.43       821\n",
            "           2       0.54      0.38      0.45       306\n",
            "           3       0.38      0.07      0.12       411\n",
            "           4       0.61      0.67      0.64      2611\n",
            "           5       0.66      0.34      0.45      1163\n",
            "           6       0.73      0.66      0.69       629\n",
            "           7       0.73      0.69      0.70      4142\n",
            "           8       0.60      0.35      0.44       518\n",
            "           9       0.36      0.38      0.37       585\n",
            "          10       0.15      0.02      0.03       102\n",
            "          11       0.39      0.30      0.33       345\n",
            "          12       0.72      0.56      0.63       825\n",
            "          13       0.65      0.21      0.32       311\n",
            "          14       0.33      0.18      0.23       253\n",
            "          15       0.49      0.13      0.20       617\n",
            "          16       0.44      0.50      0.47      1590\n",
            "          17       0.66      0.55      0.60       586\n",
            "          18       0.32      0.13      0.18       142\n",
            "          19       0.73      0.31      0.43       191\n",
            "          20       0.58      0.43      0.49      1567\n",
            "          21       0.69      0.43      0.53       401\n",
            "          22       0.70      0.60      0.65       210\n",
            "\n",
            "   micro avg       0.61      0.49      0.54     19370\n",
            "   macro avg       0.55      0.37      0.43     19370\n",
            "weighted avg       0.60      0.49      0.53     19370\n",
            " samples avg       0.62      0.55      0.54     19370\n",
            "\n"
          ]
        },
        {
          "output_type": "stream",
          "name": "stderr",
          "text": [
            "/usr/local/lib/python3.10/dist-packages/sklearn/metrics/_classification.py:1344: UndefinedMetricWarning: Precision and F-score are ill-defined and being set to 0.0 in samples with no predicted labels. Use `zero_division` parameter to control this behavior.\n",
            "  _warn_prf(average, modifier, msg_start, len(result))\n"
          ]
        },
        {
          "output_type": "stream",
          "name": "stdout",
          "text": [
            "Epoch 23/30, Loss: 0.023296818020913254\n",
            "Accuracy: 0.13886395691755354\n",
            "Precision: 0.5385197308211283\n",
            "Recall: 0.3719194613818851\n",
            "F1-Score: 0.41910937029732265\n",
            "              precision    recall  f1-score   support\n",
            "\n",
            "           0       0.67      0.27      0.38      1044\n",
            "           1       0.66      0.16      0.26       821\n",
            "           2       0.48      0.41      0.44       306\n",
            "           3       0.33      0.09      0.14       411\n",
            "           4       0.66      0.55      0.60      2611\n",
            "           5       0.55      0.52      0.53      1163\n",
            "           6       0.64      0.71      0.67       629\n",
            "           7       0.70      0.74      0.72      4142\n",
            "           8       0.53      0.39      0.45       518\n",
            "           9       0.50      0.27      0.35       585\n",
            "          10       0.16      0.07      0.10       102\n",
            "          11       0.47      0.19      0.27       345\n",
            "          12       0.61      0.68      0.65       825\n",
            "          13       0.37      0.52      0.43       311\n",
            "          14       0.46      0.12      0.19       253\n",
            "          15       0.40      0.28      0.33       617\n",
            "          16       0.55      0.24      0.33      1590\n",
            "          17       0.61      0.55      0.58       586\n",
            "          18       0.31      0.09      0.14       142\n",
            "          19       0.68      0.33      0.44       191\n",
            "          20       0.54      0.47      0.50      1567\n",
            "          21       0.74      0.40      0.52       401\n",
            "          22       0.76      0.51      0.61       210\n",
            "\n",
            "   micro avg       0.61      0.48      0.54     19370\n",
            "   macro avg       0.54      0.37      0.42     19370\n",
            "weighted avg       0.60      0.48      0.51     19370\n",
            " samples avg       0.63      0.54      0.54     19370\n",
            "\n"
          ]
        },
        {
          "output_type": "stream",
          "name": "stderr",
          "text": [
            "/usr/local/lib/python3.10/dist-packages/sklearn/metrics/_classification.py:1344: UndefinedMetricWarning: Precision and F-score are ill-defined and being set to 0.0 in samples with no predicted labels. Use `zero_division` parameter to control this behavior.\n",
            "  _warn_prf(average, modifier, msg_start, len(result))\n"
          ]
        },
        {
          "output_type": "stream",
          "name": "stdout",
          "text": [
            "Epoch 24/30, Loss: 0.021353183908577093\n",
            "Accuracy: 0.12937556096935504\n",
            "Precision: 0.5480148358778638\n",
            "Recall: 0.3729200989417324\n",
            "F1-Score: 0.43395153487907817\n",
            "              precision    recall  f1-score   support\n",
            "\n",
            "           0       0.53      0.52      0.52      1044\n",
            "           1       0.53      0.36      0.43       821\n",
            "           2       0.60      0.34      0.43       306\n",
            "           3       0.28      0.17      0.21       411\n",
            "           4       0.62      0.66      0.64      2611\n",
            "           5       0.55      0.58      0.56      1163\n",
            "           6       0.69      0.63      0.66       629\n",
            "           7       0.77      0.54      0.63      4142\n",
            "           8       0.60      0.34      0.43       518\n",
            "           9       0.56      0.23      0.33       585\n",
            "          10       0.21      0.03      0.05       102\n",
            "          11       0.41      0.18      0.25       345\n",
            "          12       0.74      0.52      0.61       825\n",
            "          13       0.56      0.35      0.43       311\n",
            "          14       0.39      0.19      0.26       253\n",
            "          15       0.46      0.15      0.22       617\n",
            "          16       0.49      0.33      0.39      1590\n",
            "          17       0.71      0.50      0.59       586\n",
            "          18       0.24      0.15      0.18       142\n",
            "          19       0.69      0.39      0.49       191\n",
            "          20       0.55      0.42      0.48      1567\n",
            "          21       0.64      0.56      0.59       401\n",
            "          22       0.80      0.44      0.57       210\n",
            "\n",
            "   micro avg       0.61      0.46      0.53     19370\n",
            "   macro avg       0.55      0.37      0.43     19370\n",
            "weighted avg       0.61      0.46      0.52     19370\n",
            " samples avg       0.60      0.51      0.51     19370\n",
            "\n"
          ]
        },
        {
          "output_type": "stream",
          "name": "stderr",
          "text": [
            "/usr/local/lib/python3.10/dist-packages/sklearn/metrics/_classification.py:1344: UndefinedMetricWarning: Precision and F-score are ill-defined and being set to 0.0 in samples with no predicted labels. Use `zero_division` parameter to control this behavior.\n",
            "  _warn_prf(average, modifier, msg_start, len(result))\n"
          ]
        },
        {
          "output_type": "stream",
          "name": "stdout",
          "text": [
            "Epoch 25/30, Loss: 0.02007030058985599\n",
            "Accuracy: 0.13052955507116296\n",
            "Precision: 0.5343322366028042\n",
            "Recall: 0.3768239407213159\n",
            "F1-Score: 0.4300981331417564\n",
            "              precision    recall  f1-score   support\n",
            "\n",
            "           0       0.61      0.41      0.49      1044\n",
            "           1       0.51      0.35      0.42       821\n",
            "           2       0.61      0.33      0.42       306\n",
            "           3       0.24      0.16      0.19       411\n",
            "           4       0.60      0.69      0.64      2611\n",
            "           5       0.62      0.40      0.49      1163\n",
            "           6       0.68      0.69      0.69       629\n",
            "           7       0.69      0.76      0.73      4142\n",
            "           8       0.62      0.29      0.40       518\n",
            "           9       0.40      0.34      0.37       585\n",
            "          10       0.18      0.02      0.04       102\n",
            "          11       0.39      0.23      0.29       345\n",
            "          12       0.70      0.54      0.61       825\n",
            "          13       0.48      0.43      0.45       311\n",
            "          14       0.34      0.14      0.20       253\n",
            "          15       0.45      0.14      0.21       617\n",
            "          16       0.51      0.29      0.37      1590\n",
            "          17       0.65      0.50      0.56       586\n",
            "          18       0.31      0.11      0.16       142\n",
            "          19       0.66      0.46      0.54       191\n",
            "          20       0.56      0.47      0.51      1567\n",
            "          21       0.66      0.53      0.59       401\n",
            "          22       0.82      0.40      0.54       210\n",
            "\n",
            "   micro avg       0.61      0.50      0.55     19370\n",
            "   macro avg       0.53      0.38      0.43     19370\n",
            "weighted avg       0.59      0.50      0.53     19370\n",
            " samples avg       0.63      0.56      0.55     19370\n",
            "\n"
          ]
        },
        {
          "output_type": "stream",
          "name": "stderr",
          "text": [
            "/usr/local/lib/python3.10/dist-packages/sklearn/metrics/_classification.py:1344: UndefinedMetricWarning: Precision and F-score are ill-defined and being set to 0.0 in samples with no predicted labels. Use `zero_division` parameter to control this behavior.\n",
            "  _warn_prf(average, modifier, msg_start, len(result))\n"
          ]
        },
        {
          "output_type": "stream",
          "name": "stdout",
          "text": [
            "Epoch 26/30, Loss: 0.020447011688591296\n",
            "Accuracy: 0.13052955507116296\n",
            "Precision: 0.5377911839407422\n",
            "Recall: 0.38939659096630314\n",
            "F1-Score: 0.4351825814427488\n",
            "              precision    recall  f1-score   support\n",
            "\n",
            "           0       0.51      0.53      0.52      1044\n",
            "           1       0.52      0.36      0.43       821\n",
            "           2       0.45      0.50      0.47       306\n",
            "           3       0.28      0.17      0.21       411\n",
            "           4       0.60      0.69      0.64      2611\n",
            "           5       0.61      0.44      0.51      1163\n",
            "           6       0.76      0.58      0.66       629\n",
            "           7       0.70      0.75      0.72      4142\n",
            "           8       0.54      0.41      0.46       518\n",
            "           9       0.45      0.28      0.34       585\n",
            "          10       0.29      0.02      0.04       102\n",
            "          11       0.32      0.31      0.31       345\n",
            "          12       0.76      0.40      0.53       825\n",
            "          13       0.57      0.39      0.46       311\n",
            "          14       0.50      0.08      0.13       253\n",
            "          15       0.52      0.16      0.24       617\n",
            "          16       0.48      0.33      0.39      1590\n",
            "          17       0.67      0.54      0.60       586\n",
            "          18       0.24      0.16      0.19       142\n",
            "          19       0.65      0.44      0.52       191\n",
            "          20       0.59      0.38      0.47      1567\n",
            "          21       0.58      0.61      0.60       401\n",
            "          22       0.81      0.44      0.57       210\n",
            "\n",
            "   micro avg       0.60      0.50      0.55     19370\n",
            "   macro avg       0.54      0.39      0.44     19370\n",
            "weighted avg       0.59      0.50      0.53     19370\n",
            " samples avg       0.62      0.56      0.54     19370\n",
            "\n"
          ]
        },
        {
          "output_type": "stream",
          "name": "stderr",
          "text": [
            "/usr/local/lib/python3.10/dist-packages/sklearn/metrics/_classification.py:1344: UndefinedMetricWarning: Precision and F-score are ill-defined and being set to 0.0 in samples with no predicted labels. Use `zero_division` parameter to control this behavior.\n",
            "  _warn_prf(average, modifier, msg_start, len(result))\n"
          ]
        },
        {
          "output_type": "stream",
          "name": "stdout",
          "text": [
            "Epoch 27/30, Loss: 0.01742153626464854\n",
            "Accuracy: 0.1343762020771894\n",
            "Precision: 0.5361449610205427\n",
            "Recall: 0.3837377681587716\n",
            "F1-Score: 0.4361028532001493\n",
            "              precision    recall  f1-score   support\n",
            "\n",
            "           0       0.64      0.35      0.45      1044\n",
            "           1       0.53      0.31      0.39       821\n",
            "           2       0.53      0.37      0.44       306\n",
            "           3       0.33      0.20      0.25       411\n",
            "           4       0.68      0.48      0.57      2611\n",
            "           5       0.57      0.52      0.55      1163\n",
            "           6       0.63      0.73      0.68       629\n",
            "           7       0.71      0.69      0.70      4142\n",
            "           8       0.69      0.25      0.36       518\n",
            "           9       0.44      0.26      0.32       585\n",
            "          10       0.23      0.06      0.09       102\n",
            "          11       0.39      0.25      0.30       345\n",
            "          12       0.65      0.61      0.63       825\n",
            "          13       0.50      0.28      0.36       311\n",
            "          14       0.34      0.19      0.25       253\n",
            "          15       0.39      0.42      0.40       617\n",
            "          16       0.52      0.23      0.32      1590\n",
            "          17       0.63      0.52      0.57       586\n",
            "          18       0.41      0.12      0.19       142\n",
            "          19       0.63      0.48      0.55       191\n",
            "          20       0.55      0.43      0.48      1567\n",
            "          21       0.65      0.48      0.55       401\n",
            "          22       0.68      0.59      0.63       210\n",
            "\n",
            "   micro avg       0.61      0.47      0.53     19370\n",
            "   macro avg       0.54      0.38      0.44     19370\n",
            "weighted avg       0.60      0.47      0.52     19370\n",
            " samples avg       0.62      0.52      0.52     19370\n",
            "\n"
          ]
        },
        {
          "output_type": "stream",
          "name": "stderr",
          "text": [
            "/usr/local/lib/python3.10/dist-packages/sklearn/metrics/_classification.py:1344: UndefinedMetricWarning: Precision and F-score are ill-defined and being set to 0.0 in samples with no predicted labels. Use `zero_division` parameter to control this behavior.\n",
            "  _warn_prf(average, modifier, msg_start, len(result))\n"
          ]
        },
        {
          "output_type": "stream",
          "name": "stdout",
          "text": [
            "Epoch 28/30, Loss: 0.017147671261071567\n",
            "Accuracy: 0.12578535709706373\n",
            "Precision: 0.510718884984397\n",
            "Recall: 0.3965175626165196\n",
            "F1-Score: 0.436093499283929\n",
            "              precision    recall  f1-score   support\n",
            "\n",
            "           0       0.49      0.54      0.51      1044\n",
            "           1       0.54      0.35      0.43       821\n",
            "           2       0.46      0.51      0.48       306\n",
            "           3       0.30      0.14      0.19       411\n",
            "           4       0.64      0.58      0.61      2611\n",
            "           5       0.68      0.29      0.41      1163\n",
            "           6       0.73      0.62      0.67       629\n",
            "           7       0.73      0.64      0.68      4142\n",
            "           8       0.60      0.36      0.45       518\n",
            "           9       0.36      0.40      0.38       585\n",
            "          10       0.15      0.02      0.03       102\n",
            "          11       0.35      0.19      0.24       345\n",
            "          12       0.73      0.47      0.57       825\n",
            "          13       0.53      0.37      0.43       311\n",
            "          14       0.25      0.18      0.21       253\n",
            "          15       0.49      0.20      0.28       617\n",
            "          16       0.49      0.36      0.41      1590\n",
            "          17       0.59      0.61      0.60       586\n",
            "          18       0.26      0.17      0.21       142\n",
            "          19       0.54      0.56      0.55       191\n",
            "          20       0.54      0.46      0.50      1567\n",
            "          21       0.56      0.61      0.58       401\n",
            "          22       0.73      0.52      0.61       210\n",
            "\n",
            "   micro avg       0.60      0.48      0.53     19370\n",
            "   macro avg       0.51      0.40      0.44     19370\n",
            "weighted avg       0.59      0.48      0.52     19370\n",
            " samples avg       0.60      0.53      0.52     19370\n",
            "\n"
          ]
        },
        {
          "output_type": "stream",
          "name": "stderr",
          "text": [
            "/usr/local/lib/python3.10/dist-packages/sklearn/metrics/_classification.py:1344: UndefinedMetricWarning: Precision and F-score are ill-defined and being set to 0.0 in samples with no predicted labels. Use `zero_division` parameter to control this behavior.\n",
            "  _warn_prf(average, modifier, msg_start, len(result))\n"
          ]
        },
        {
          "output_type": "stream",
          "name": "stdout",
          "text": [
            "Epoch 29/30, Loss: 0.017000379968327258\n",
            "Accuracy: 0.12809334530067956\n",
            "Precision: 0.5447906118471988\n",
            "Recall: 0.36925890262597844\n",
            "F1-Score: 0.4261342067638938\n",
            "              precision    recall  f1-score   support\n",
            "\n",
            "           0       0.61      0.40      0.48      1044\n",
            "           1       0.61      0.22      0.32       821\n",
            "           2       0.52      0.40      0.45       306\n",
            "           3       0.26      0.21      0.23       411\n",
            "           4       0.67      0.51      0.58      2611\n",
            "           5       0.63      0.44      0.52      1163\n",
            "           6       0.68      0.66      0.67       629\n",
            "           7       0.67      0.79      0.72      4142\n",
            "           8       0.72      0.24      0.35       518\n",
            "           9       0.50      0.18      0.26       585\n",
            "          10       0.14      0.03      0.05       102\n",
            "          11       0.30      0.27      0.28       345\n",
            "          12       0.78      0.44      0.56       825\n",
            "          13       0.46      0.44      0.45       311\n",
            "          14       0.43      0.11      0.18       253\n",
            "          15       0.46      0.20      0.28       617\n",
            "          16       0.46      0.44      0.45      1590\n",
            "          17       0.64      0.53      0.58       586\n",
            "          18       0.30      0.18      0.23       142\n",
            "          19       0.64      0.51      0.57       191\n",
            "          20       0.56      0.44      0.49      1567\n",
            "          21       0.65      0.46      0.54       401\n",
            "          22       0.83      0.41      0.55       210\n",
            "\n",
            "   micro avg       0.61      0.48      0.54     19370\n",
            "   macro avg       0.54      0.37      0.43     19370\n",
            "weighted avg       0.60      0.48      0.52     19370\n",
            " samples avg       0.62      0.54      0.53     19370\n",
            "\n"
          ]
        },
        {
          "output_type": "stream",
          "name": "stderr",
          "text": [
            "/usr/local/lib/python3.10/dist-packages/sklearn/metrics/_classification.py:1344: UndefinedMetricWarning: Precision and F-score are ill-defined and being set to 0.0 in samples with no predicted labels. Use `zero_division` parameter to control this behavior.\n",
            "  _warn_prf(average, modifier, msg_start, len(result))\n"
          ]
        },
        {
          "output_type": "stream",
          "name": "stdout",
          "text": [
            "Epoch 30/30, Loss: 0.015807005217163446\n",
            "Accuracy: 0.12283626105911014\n",
            "Precision: 0.5401968844635666\n",
            "Recall: 0.3813951100941434\n",
            "F1-Score: 0.4320822426196188\n",
            "              precision    recall  f1-score   support\n",
            "\n",
            "           0       0.59      0.44      0.50      1044\n",
            "           1       0.50      0.38      0.43       821\n",
            "           2       0.57      0.32      0.41       306\n",
            "           3       0.34      0.09      0.15       411\n",
            "           4       0.61      0.62      0.62      2611\n",
            "           5       0.51      0.62      0.56      1163\n",
            "           6       0.79      0.53      0.63       629\n",
            "           7       0.70      0.73      0.71      4142\n",
            "           8       0.62      0.30      0.40       518\n",
            "           9       0.44      0.25      0.32       585\n",
            "          10       0.18      0.12      0.14       102\n",
            "          11       0.38      0.23      0.29       345\n",
            "          12       0.81      0.37      0.51       825\n",
            "          13       0.58      0.23      0.32       311\n",
            "          14       0.36      0.20      0.26       253\n",
            "          15       0.42      0.30      0.35       617\n",
            "          16       0.43      0.48      0.45      1590\n",
            "          17       0.65      0.52      0.58       586\n",
            "          18       0.42      0.06      0.10       142\n",
            "          19       0.70      0.42      0.53       191\n",
            "          20       0.56      0.42      0.48      1567\n",
            "          21       0.55      0.60      0.57       401\n",
            "          22       0.70      0.56      0.62       210\n",
            "\n",
            "   micro avg       0.59      0.50      0.54     19370\n",
            "   macro avg       0.54      0.38      0.43     19370\n",
            "weighted avg       0.59      0.50      0.53     19370\n",
            " samples avg       0.60      0.55      0.53     19370\n",
            "\n"
          ]
        },
        {
          "output_type": "stream",
          "name": "stderr",
          "text": [
            "/usr/local/lib/python3.10/dist-packages/sklearn/metrics/_classification.py:1344: UndefinedMetricWarning: Precision and F-score are ill-defined and being set to 0.0 in samples with no predicted labels. Use `zero_division` parameter to control this behavior.\n",
            "  _warn_prf(average, modifier, msg_start, len(result))\n"
          ]
        }
      ]
    },
    {
      "cell_type": "markdown",
      "source": [
        "# New Section"
      ],
      "metadata": {
        "id": "VWtsIHx6w0T4"
      }
    },
    {
      "cell_type": "code",
      "source": [
        "import torch\n",
        "import torch.nn as nn\n",
        "import torch.optim as optim\n",
        "from torchvision import models\n",
        "\n",
        "device = \"cuda\" if torch.cuda.is_available() else \"cpu\"\n",
        "print(device)\n",
        "\n",
        "save_dir = \"/content/Model/Models-Train-1\"\n",
        "load_path = os.path.join(save_dir, '8_model.pth')\n",
        "\n",
        "\n",
        "model = models.resnet101(pretrained=False)\n",
        "model.fc = nn.Sequential(\n",
        "    nn.Linear(model.fc.in_features, 512),\n",
        "    nn.ReLU(),\n",
        "    nn.Linear(512, len(unique_labels)),\n",
        "    nn.Sigmoid()\n",
        ")\n",
        "model.load_state_dict(torch.load(load_path))\n",
        "model.eval()\n",
        "model.to(device)"
      ],
      "metadata": {
        "id": "n3WA2jmvwinp"
      },
      "execution_count": null,
      "outputs": []
    },
    {
      "cell_type": "code",
      "source": [
        "# Initialize lists to store predicted and ground truth labels\n",
        "predicted_labels = []\n",
        "true_labels = []\n",
        "\n",
        "# Iterate through the test set and make predictions\n",
        "with torch.no_grad():\n",
        "    for inputs, labels in test_loader:\n",
        "        inputs, labels = inputs.to(device), labels.to(device)\n",
        "        outputs = model(inputs)\n",
        "        predicted_labels.extend(outputs.cpu().numpy())\n",
        "        true_labels.extend(labels.cpu().numpy())"
      ],
      "metadata": {
        "id": "2xfv0nHIxEAR"
      },
      "execution_count": null,
      "outputs": []
    },
    {
      "cell_type": "code",
      "source": [
        "predicted_labels[0]"
      ],
      "metadata": {
        "id": "xD6r2Tetx9Ks"
      },
      "execution_count": null,
      "outputs": []
    },
    {
      "cell_type": "code",
      "source": [
        "threshold = 0.5\n",
        "\n",
        "binary_predictions = []\n",
        "\n",
        "for sample_logits in predicted_labels:\n",
        "    binary_sample_predictions = [1 if value >= threshold else 0 for value in sample_logits]\n",
        "    binary_predictions.append(binary_sample_predictions)"
      ],
      "metadata": {
        "id": "cjZ_uU9My8nw"
      },
      "execution_count": null,
      "outputs": []
    },
    {
      "cell_type": "code",
      "source": [
        "binary_predictions[1000]"
      ],
      "metadata": {
        "id": "jpFmDp3KzPwc"
      },
      "execution_count": null,
      "outputs": []
    },
    {
      "cell_type": "code",
      "source": [
        "from sklearn.metrics import accuracy_score, precision_score, recall_score, f1_score, classification_report\n",
        "\n",
        "accuracy = accuracy_score(true_labels, binary_predictions)\n",
        "precision = precision_score(true_labels, binary_predictions, average='macro')\n",
        "recall = recall_score(true_labels, binary_predictions, average='macro')\n",
        "f1 = f1_score(true_labels, binary_predictions, average='macro')\n",
        "\n",
        "print(f\"Accuracy: {accuracy}\")\n",
        "print(f\"Precision: {precision}\")\n",
        "print(f\"Recall: {recall}\")\n",
        "print(f\"F1-Score: {f1}\")\n",
        "print(classification_report(true_labels, binary_predictions))"
      ],
      "metadata": {
        "id": "poAMnH0lximL"
      },
      "execution_count": null,
      "outputs": []
    },
    {
      "cell_type": "code",
      "source": [],
      "metadata": {
        "id": "aibnGr-BxTny"
      },
      "execution_count": null,
      "outputs": []
    }
  ]
}