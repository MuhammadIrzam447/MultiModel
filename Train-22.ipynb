{
  "nbformat": 4,
  "nbformat_minor": 0,
  "metadata": {
    "colab": {
      "provenance": [],
      "collapsed_sections": [
        "VWtsIHx6w0T4"
      ],
      "gpuType": "T4",
      "include_colab_link": true
    },
    "kernelspec": {
      "name": "python3",
      "display_name": "Python 3"
    },
    "language_info": {
      "name": "python"
    },
    "accelerator": "GPU"
  },
  "cells": [
    {
      "cell_type": "markdown",
      "metadata": {
        "id": "view-in-github",
        "colab_type": "text"
      },
      "source": [
        "<a href=\"https://colab.research.google.com/github/MuhammadIrzam447/MultiModel/blob/master/Train-22.ipynb\" target=\"_parent\"><img src=\"https://colab.research.google.com/assets/colab-badge.svg\" alt=\"Open In Colab\"/></a>"
      ]
    },
    {
      "cell_type": "code",
      "source": [
        "# Train-22"
      ],
      "metadata": {
        "id": "f6HfIPL5IaGA"
      },
      "execution_count": null,
      "outputs": []
    },
    {
      "cell_type": "code",
      "execution_count": null,
      "metadata": {
        "id": "nmF1zNcPTGga"
      },
      "outputs": [],
      "source": [
        "!gdown https://drive.google.com/uc?id=1jX_5n1kiiLI7Yl72ljkBMSiVgSlg254w"
      ]
    },
    {
      "cell_type": "code",
      "source": [
        "!gdown https://drive.google.com/uc?id=1D7PMsXUxkmqskMpfy5LzFfPyJH0Ngf3q"
      ],
      "metadata": {
        "id": "KKm0C_4oTUTT"
      },
      "execution_count": null,
      "outputs": []
    },
    {
      "cell_type": "code",
      "source": [
        "!gdown https://drive.google.com/uc?id=1RciaCtImqRTT2-qq27GP6wKpIYfosAA3"
      ],
      "metadata": {
        "id": "JLMZ4FcgyNpb"
      },
      "execution_count": null,
      "outputs": []
    },
    {
      "cell_type": "code",
      "source": [
        "!gdown https://drive.google.com/uc?id=1giFuyrh33q_T1hfxcA0b-iBj_ix5w-sQ"
      ],
      "metadata": {
        "id": "sXd76s1XyO5r"
      },
      "execution_count": null,
      "outputs": []
    },
    {
      "cell_type": "code",
      "source": [
        "!unzip \"/content/Dataset(s)/mm-imdb/joint/joint_test.zip\""
      ],
      "metadata": {
        "id": "Q--gX0z1yYPf"
      },
      "execution_count": null,
      "outputs": []
    },
    {
      "cell_type": "code",
      "source": [
        "!unzip \"/content/Dataset(s)/mm-imdb/joint/joint_train.zip\""
      ],
      "metadata": {
        "id": "A-YkM8B0ywHJ"
      },
      "execution_count": null,
      "outputs": []
    },
    {
      "cell_type": "markdown",
      "source": [
        "# Training Dataset Preparation"
      ],
      "metadata": {
        "id": "VqotBnmCXM6s"
      }
    },
    {
      "cell_type": "code",
      "source": [
        "import os\n",
        "image_file_paths = []\n",
        "genre_labels = []\n",
        "\n",
        "image_folder_add = \"/content/Dataset(s)/mm-imdb/joint/train\"\n",
        "labels_file = '/content/Dataset(s)/mm-imdb/joint/joint_train_label.txt'\n",
        "\n",
        "with open(labels_file, 'r') as file:\n",
        "    for line in file:\n",
        "        parts = line.strip().split('|')\n",
        "        filename = parts[0].strip()\n",
        "        labels = parts[1].strip().split(', ')  # Split labels by comma and remove leading/trailing spaces\n",
        "        image_path = os.path.join(image_folder_add, filename)\n",
        "        image_file_paths.append(image_path)\n",
        "        genre_labels.append(labels)"
      ],
      "metadata": {
        "id": "O2DdTX5_XNV8"
      },
      "execution_count": null,
      "outputs": []
    },
    {
      "cell_type": "code",
      "source": [
        "len(image_file_paths)"
      ],
      "metadata": {
        "id": "nXDErAZjdJn0",
        "colab": {
          "base_uri": "https://localhost:8080/"
        },
        "outputId": "1682815c-a98c-4114-8b6e-98cc6411354d"
      },
      "execution_count": null,
      "outputs": [
        {
          "output_type": "execute_result",
          "data": {
            "text/plain": [
              "31104"
            ]
          },
          "metadata": {},
          "execution_count": 2
        }
      ]
    },
    {
      "cell_type": "code",
      "source": [
        "# genre_labels"
      ],
      "metadata": {
        "id": "PWOIg0hTdKvS"
      },
      "execution_count": null,
      "outputs": []
    },
    {
      "cell_type": "code",
      "source": [
        "# unique_labels_set = set()\n",
        "\n",
        "# for labels in genre_labels:\n",
        "#     unique_labels_set.update(labels)\n",
        "\n",
        "# unique_labels = sorted(list(unique_labels_set))"
      ],
      "metadata": {
        "id": "WnWdzeiWXXOk"
      },
      "execution_count": null,
      "outputs": []
    },
    {
      "cell_type": "code",
      "source": [
        "# unique_labels"
      ],
      "metadata": {
        "id": "rB1rz-dwZgxV"
      },
      "execution_count": null,
      "outputs": []
    },
    {
      "cell_type": "code",
      "source": [
        "# len(unique_labels)"
      ],
      "metadata": {
        "id": "gbg9-ae_zi0F"
      },
      "execution_count": null,
      "outputs": []
    },
    {
      "cell_type": "code",
      "source": [
        "from collections import defaultdict\n",
        "\n",
        "label_counts = defaultdict(int)\n",
        "\n",
        "for labels in genre_labels:\n",
        "    for label in labels:\n",
        "        label_counts[label] += 1"
      ],
      "metadata": {
        "id": "yslKvYyH2tQn"
      },
      "execution_count": null,
      "outputs": []
    },
    {
      "cell_type": "code",
      "source": [
        "# Convert the defaultdict into a list of tuples\n",
        "label_count_list = [(label, count) for label, count in label_counts.items()]\n",
        "\n",
        "# Sort the list of tuples based on counts in descending order\n",
        "sorted_label_count_list = sorted(label_count_list, key=lambda x: x[1], reverse=True)\n",
        "\n",
        "# Display the sorted list\n",
        "for label, count in sorted_label_count_list:\n",
        "    print(f\"{label}: {count}\")\n",
        "\n",
        "print(\"Total Labels: \", len(label_count_list))"
      ],
      "metadata": {
        "colab": {
          "base_uri": "https://localhost:8080/"
        },
        "id": "PFbfclqsU9hm",
        "outputId": "1ef4026a-e31e-4ca0-ef1b-6a45410b2ccc"
      },
      "execution_count": null,
      "outputs": [
        {
          "output_type": "stream",
          "name": "stdout",
          "text": [
            "Drama: 16848\n",
            "Comedy: 10216\n",
            "Romance: 6452\n",
            "Thriller: 6226\n",
            "Crime: 4586\n",
            "Action: 4310\n",
            "Adventure: 3222\n",
            "Horror: 3206\n",
            "Documentary: 2468\n",
            "Mystery: 2462\n",
            "Sci-Fi: 2424\n",
            "Fantasy: 2324\n",
            "Family: 1956\n",
            "War: 1612\n",
            "Biography: 1576\n",
            "History: 1360\n",
            "Music: 1268\n",
            "Animation: 1172\n",
            "Musical: 1006\n",
            "Western: 846\n",
            "Sport: 758\n",
            "Short: 562\n",
            "Film-Noir: 404\n",
            "News: 78\n",
            "Talk-Show: 4\n",
            "Reality-TV: 2\n",
            "Total Labels:  26\n"
          ]
        }
      ]
    },
    {
      "cell_type": "code",
      "source": [
        "min_label_count = 400\n",
        "valid_labels = [label for label, count in label_counts.items() if count >= min_label_count]\n",
        "valid_labels = sorted(list(valid_labels))"
      ],
      "metadata": {
        "id": "DV3BPMTYWfaq"
      },
      "execution_count": null,
      "outputs": []
    },
    {
      "cell_type": "code",
      "source": [
        "valid_labels, len(valid_labels)"
      ],
      "metadata": {
        "colab": {
          "base_uri": "https://localhost:8080/"
        },
        "id": "4whPvouoXCuy",
        "outputId": "c06b309b-7adc-45a4-888e-67d9e11e1bfc"
      },
      "execution_count": null,
      "outputs": [
        {
          "output_type": "execute_result",
          "data": {
            "text/plain": [
              "(['Action',\n",
              "  'Adventure',\n",
              "  'Animation',\n",
              "  'Biography',\n",
              "  'Comedy',\n",
              "  'Crime',\n",
              "  'Documentary',\n",
              "  'Drama',\n",
              "  'Family',\n",
              "  'Fantasy',\n",
              "  'Film-Noir',\n",
              "  'History',\n",
              "  'Horror',\n",
              "  'Music',\n",
              "  'Musical',\n",
              "  'Mystery',\n",
              "  'Romance',\n",
              "  'Sci-Fi',\n",
              "  'Short',\n",
              "  'Sport',\n",
              "  'Thriller',\n",
              "  'War',\n",
              "  'Western'],\n",
              " 23)"
            ]
          },
          "metadata": {},
          "execution_count": 6
        }
      ]
    },
    {
      "cell_type": "code",
      "source": [
        "# filtered_image_paths = []\n",
        "# filtered_genre_labels = []\n",
        "\n",
        "# for image_path, labels in zip(image_file_paths, genre_labels):\n",
        "#     valid_labels_for_sample = [label for label in labels if label in valid_labels]\n",
        "\n",
        "#     if valid_labels_for_sample:\n",
        "#         filtered_image_paths.append(image_path)\n",
        "#         filtered_genre_labels.append(valid_labels_for_sample)"
      ],
      "metadata": {
        "id": "0fOqnZ46We-d"
      },
      "execution_count": null,
      "outputs": []
    },
    {
      "cell_type": "code",
      "source": [
        "# len(filtered_image_paths)"
      ],
      "metadata": {
        "id": "T0NkX3jwWp56"
      },
      "execution_count": null,
      "outputs": []
    },
    {
      "cell_type": "code",
      "source": [
        "# len(filtered_genre_labels)"
      ],
      "metadata": {
        "id": "Wdv_QSfJWqDT"
      },
      "execution_count": null,
      "outputs": []
    },
    {
      "cell_type": "code",
      "source": [
        "multi_hot_labels = []\n",
        "\n",
        "for labels in genre_labels:\n",
        "    multi_hot = [1 if label in labels else 0 for label in valid_labels]\n",
        "    multi_hot_labels.append(multi_hot)"
      ],
      "metadata": {
        "id": "weVX9tVdZhxP"
      },
      "execution_count": null,
      "outputs": []
    },
    {
      "cell_type": "code",
      "source": [
        "multi_hot_labels[1]"
      ],
      "metadata": {
        "id": "5BdzoGhlZ1uE",
        "colab": {
          "base_uri": "https://localhost:8080/"
        },
        "outputId": "dbea7055-3efd-4dbf-f516-4a1e06955079"
      },
      "execution_count": null,
      "outputs": [
        {
          "output_type": "execute_result",
          "data": {
            "text/plain": [
              "[0, 0, 0, 0, 0, 1, 0, 1, 0, 0, 0, 0, 0, 0, 0, 0, 0, 0, 0, 0, 1, 0, 0]"
            ]
          },
          "metadata": {},
          "execution_count": 8
        }
      ]
    },
    {
      "cell_type": "code",
      "source": [
        "genre_labels[1]"
      ],
      "metadata": {
        "id": "1ozp7IfHZ2-m",
        "colab": {
          "base_uri": "https://localhost:8080/"
        },
        "outputId": "6e462db4-dd74-4c5c-d10c-f10a925de0b9"
      },
      "execution_count": null,
      "outputs": [
        {
          "output_type": "execute_result",
          "data": {
            "text/plain": [
              "['Crime', 'Drama', 'Thriller']"
            ]
          },
          "metadata": {},
          "execution_count": 9
        }
      ]
    },
    {
      "cell_type": "code",
      "source": [
        "import os\n",
        "import torch\n",
        "from torch.utils.data import Dataset, DataLoader\n",
        "from torchvision import transforms\n",
        "from PIL import Image\n",
        "\n",
        "class CustomMultiLabelDataset(Dataset):\n",
        "    def __init__(self, image_file_paths, multi_encoded_labels, transform=None):\n",
        "        self.image_file_paths = image_file_paths\n",
        "        self.multi_encoded_labels = multi_encoded_labels\n",
        "        self.transform = transform\n",
        "\n",
        "    def __len__(self):\n",
        "        return len(self.image_file_paths)\n",
        "\n",
        "    def __getitem__(self, idx):\n",
        "        image_path = self.image_file_paths[idx]\n",
        "        image = Image.open(image_path)\n",
        "\n",
        "        labels = self.multi_encoded_labels[idx]\n",
        "        labels = torch.tensor(labels, dtype=torch.float32)\n",
        "\n",
        "        if self.transform:\n",
        "            image = self.transform(image)\n",
        "\n",
        "        return image, labels\n",
        "\n",
        "# Define data transformations (resize, normalize, etc.)\n",
        "transform = transforms.Compose([\n",
        "    transforms.Resize((224, 224)),\n",
        "    transforms.ToTensor(),\n",
        "    transforms.Normalize(mean=[0.485, 0.456, 0.406], std=[0.229, 0.224, 0.225]),\n",
        "])"
      ],
      "metadata": {
        "id": "uprw1hgjbHji"
      },
      "execution_count": null,
      "outputs": []
    },
    {
      "cell_type": "code",
      "source": [
        "# Create a custom dataset\n",
        "train_dataset = CustomMultiLabelDataset(image_file_paths, multi_hot_labels, transform=transform)"
      ],
      "metadata": {
        "id": "pjHkp2KZblJf"
      },
      "execution_count": null,
      "outputs": []
    },
    {
      "cell_type": "code",
      "source": [
        "len(train_dataset)"
      ],
      "metadata": {
        "id": "6djdqSdHdylD",
        "colab": {
          "base_uri": "https://localhost:8080/"
        },
        "outputId": "a9bb97fd-c369-495e-a2eb-a76b04943653"
      },
      "execution_count": null,
      "outputs": [
        {
          "output_type": "execute_result",
          "data": {
            "text/plain": [
              "31104"
            ]
          },
          "metadata": {},
          "execution_count": 12
        }
      ]
    },
    {
      "cell_type": "code",
      "source": [
        "train_dataset[10]"
      ],
      "metadata": {
        "id": "XY0b1aLgd1Dy",
        "colab": {
          "base_uri": "https://localhost:8080/"
        },
        "outputId": "34dbce38-000c-4a8c-a605-83b303841c38"
      },
      "execution_count": null,
      "outputs": [
        {
          "output_type": "execute_result",
          "data": {
            "text/plain": [
              "(tensor([[[2.2489, 2.2489, 2.2489,  ..., 2.2489, 2.2489, 2.2489],\n",
              "          [2.2489, 2.2489, 2.2489,  ..., 2.2489, 2.2489, 2.2489],\n",
              "          [2.2489, 2.2489, 2.2489,  ..., 2.2489, 2.2489, 2.2489],\n",
              "          ...,\n",
              "          [2.2489, 2.2489, 2.2489,  ..., 2.2489, 2.2489, 2.2489],\n",
              "          [2.2489, 2.2489, 2.2489,  ..., 2.2489, 2.2489, 2.2489],\n",
              "          [2.2489, 2.2489, 2.2489,  ..., 2.2489, 2.2489, 2.2489]],\n",
              " \n",
              "         [[2.4286, 2.4286, 2.4286,  ..., 2.4286, 2.4286, 2.4286],\n",
              "          [2.4286, 2.4286, 2.4286,  ..., 2.4286, 2.4286, 2.4286],\n",
              "          [2.4286, 2.4286, 2.4286,  ..., 2.4286, 2.4286, 2.4286],\n",
              "          ...,\n",
              "          [2.4286, 2.4286, 2.4286,  ..., 2.4286, 2.4286, 2.4286],\n",
              "          [2.4286, 2.4286, 2.4286,  ..., 2.4286, 2.4286, 2.4286],\n",
              "          [2.4286, 2.4286, 2.4286,  ..., 2.4286, 2.4286, 2.4286]],\n",
              " \n",
              "         [[2.6400, 2.6400, 2.6400,  ..., 2.6400, 2.6400, 2.6400],\n",
              "          [2.6400, 2.6400, 2.6400,  ..., 2.6400, 2.6400, 2.6400],\n",
              "          [2.6400, 2.6400, 2.6400,  ..., 2.6400, 2.6400, 2.6400],\n",
              "          ...,\n",
              "          [2.6400, 2.6400, 2.6400,  ..., 2.6400, 2.6400, 2.6400],\n",
              "          [2.6400, 2.6400, 2.6400,  ..., 2.6400, 2.6400, 2.6400],\n",
              "          [2.6400, 2.6400, 2.6400,  ..., 2.6400, 2.6400, 2.6400]]]),\n",
              " tensor([0., 0., 0., 0., 0., 0., 1., 0., 0., 0., 0., 0., 0., 0., 0., 0., 0., 0.,\n",
              "         1., 0., 0., 0., 0.]))"
            ]
          },
          "metadata": {},
          "execution_count": 13
        }
      ]
    },
    {
      "cell_type": "markdown",
      "source": [
        "# Test Dataset Preparation"
      ],
      "metadata": {
        "id": "W5OWR3LAvXb_"
      }
    },
    {
      "cell_type": "code",
      "source": [
        "import os\n",
        "\n",
        "test_image_file_paths = []\n",
        "test_genre_labels = []\n",
        "\n",
        "image_folder_add = \"/content/Dataset(s)/mm-imdb/joint/test\"\n",
        "labels_file = '/content/Dataset(s)/mm-imdb/joint/joint_test_label.txt'\n",
        "\n",
        "with open(labels_file, 'r') as file:\n",
        "    for line in file:\n",
        "        parts = line.strip().split('|')\n",
        "        filename = parts[0].strip()\n",
        "        labels = parts[1].strip().split(', ')  # Split labels by comma and remove leading/trailing spaces\n",
        "\n",
        "        if not (filename.endswith(\"_1.png\") or filename.endswith(\"_2.png\")):\n",
        "            image_path = os.path.join(image_folder_add, filename)\n",
        "            test_image_file_paths.append(image_path)\n",
        "            test_genre_labels.append(labels)\n"
      ],
      "metadata": {
        "id": "O6ZbynEblVNf"
      },
      "execution_count": null,
      "outputs": []
    },
    {
      "cell_type": "code",
      "source": [
        "test_image_file_paths[0:10]"
      ],
      "metadata": {
        "colab": {
          "base_uri": "https://localhost:8080/"
        },
        "id": "y4MFRh5PluWU",
        "outputId": "08b8b0da-88b6-4601-9710-f78d26768bac"
      },
      "execution_count": null,
      "outputs": [
        {
          "output_type": "execute_result",
          "data": {
            "text/plain": [
              "['/content/Dataset(s)/mm-imdb/joint/test/0078718_3.png',\n",
              " '/content/Dataset(s)/mm-imdb/joint/test/0078718_4.png',\n",
              " '/content/Dataset(s)/mm-imdb/joint/test/0089003_3.png',\n",
              " '/content/Dataset(s)/mm-imdb/joint/test/0089003_4.png',\n",
              " '/content/Dataset(s)/mm-imdb/joint/test/0098136_3.png',\n",
              " '/content/Dataset(s)/mm-imdb/joint/test/0098136_4.png',\n",
              " '/content/Dataset(s)/mm-imdb/joint/test/0057693_3.png',\n",
              " '/content/Dataset(s)/mm-imdb/joint/test/0057693_4.png',\n",
              " '/content/Dataset(s)/mm-imdb/joint/test/0385330_3.png',\n",
              " '/content/Dataset(s)/mm-imdb/joint/test/0385330_4.png']"
            ]
          },
          "metadata": {},
          "execution_count": 15
        }
      ]
    },
    {
      "cell_type": "code",
      "source": [
        "test_multi_hot_labels = []\n",
        "\n",
        "for labels in test_genre_labels:\n",
        "    test_multi_hot = [1 if label in labels else 0 for label in valid_labels]\n",
        "    test_multi_hot_labels.append(test_multi_hot)"
      ],
      "metadata": {
        "id": "PFyQCaOQveK7"
      },
      "execution_count": null,
      "outputs": []
    },
    {
      "cell_type": "code",
      "source": [
        "test_dataset = CustomMultiLabelDataset(test_image_file_paths, test_multi_hot_labels, transform=transform)"
      ],
      "metadata": {
        "id": "BculxAgbwCed"
      },
      "execution_count": null,
      "outputs": []
    },
    {
      "cell_type": "code",
      "source": [
        "len(test_dataset)"
      ],
      "metadata": {
        "id": "dRs9JPiR1L6p",
        "colab": {
          "base_uri": "https://localhost:8080/"
        },
        "outputId": "c2e17c6d-0f7f-4d98-de64-67c4b9a752c9"
      },
      "execution_count": null,
      "outputs": [
        {
          "output_type": "execute_result",
          "data": {
            "text/plain": [
              "15598"
            ]
          },
          "metadata": {},
          "execution_count": 18
        }
      ]
    },
    {
      "cell_type": "markdown",
      "source": [
        "# Training"
      ],
      "metadata": {
        "id": "T73kFItave8m"
      }
    },
    {
      "cell_type": "code",
      "source": [
        "batch_size = 32\n",
        "train_loader = DataLoader(train_dataset, batch_size=batch_size, shuffle=True)\n",
        "test_loader = DataLoader(test_dataset, batch_size=batch_size, shuffle=False)"
      ],
      "metadata": {
        "id": "qmjc3h-Xb3pn"
      },
      "execution_count": null,
      "outputs": []
    },
    {
      "cell_type": "code",
      "source": [
        "import torch\n",
        "import torch.nn as nn\n",
        "import torch.optim as optim\n",
        "from torchvision import models\n",
        "device = torch.device(\"cuda\" if torch.cuda.is_available() else \"cpu\")\n",
        "\n",
        "model = models.resnet101(pretrained=True)\n",
        "model.fc = nn.Linear(model.fc.in_features, len(valid_labels))\n",
        "model.to(device)"
      ],
      "metadata": {
        "id": "nzkSDHpbcBvG"
      },
      "execution_count": null,
      "outputs": []
    },
    {
      "cell_type": "code",
      "source": [
        "# Define loss function and optimizer\n",
        "criterion = nn.BCEWithLogitsLoss()  # Binary Cross-Entropy Loss\n",
        "optimizer = optim.Adam(model.parameters(), lr=0.001)\n",
        "num_epochs = 30"
      ],
      "metadata": {
        "id": "W3xyf2mIcUp6"
      },
      "execution_count": null,
      "outputs": []
    },
    {
      "cell_type": "code",
      "source": [
        "for epoch in range(num_epochs):\n",
        "    model.train()\n",
        "    running_loss = 0.0\n",
        "\n",
        "    for inputs, labels in train_loader:\n",
        "        inputs, labels = inputs.to(device), labels.to(device)\n",
        "\n",
        "        optimizer.zero_grad()\n",
        "\n",
        "        outputs = model(inputs)\n",
        "        loss = criterion(outputs, labels.float())\n",
        "        loss.backward()\n",
        "        optimizer.step()\n",
        "\n",
        "        running_loss += loss.item()\n",
        "\n",
        "    print(f\"Epoch {epoch + 1}/{num_epochs}, Loss: {running_loss / len(train_loader)}\")\n",
        "\n",
        "    # if epoch > 10:\n",
        "    save_dir = \"/content/Model/Models-Train-22/\"\n",
        "    os.makedirs(save_dir, exist_ok=True)  # Create the directory if it doesn't exist\n",
        "    model_name = str(epoch+1) + \"_model.pth\"\n",
        "    save_path = os.path.join(save_dir, model_name)  # Specify the complete path to the model file\n",
        "    torch.save(model.state_dict(), save_path)\n",
        "\n",
        "    model.eval()\n",
        "    predictions = []\n",
        "    true_labels = []\n",
        "\n",
        "    with torch.no_grad():\n",
        "        for inputs, labels in test_loader:\n",
        "            inputs, labels = inputs.to(device), labels.to(device)\n",
        "\n",
        "            outputs = model(inputs)\n",
        "            # loss = criterion(outputs, labels.float())\n",
        "\n",
        "            # Apply a threshold (e.g., 0.5) to convert logits to binary predictions\n",
        "            predictions.extend((outputs > 0.5).int().cpu().numpy())\n",
        "            true_labels.extend(labels.int().cpu().numpy())\n",
        "\n",
        "    # Calculate evaluation metrics\n",
        "    from sklearn.metrics import accuracy_score, precision_score, recall_score, f1_score, classification_report\n",
        "\n",
        "    accuracy = accuracy_score(true_labels, predictions)\n",
        "    precision = precision_score(true_labels, predictions, average='macro')\n",
        "    recall = recall_score(true_labels, predictions, average='macro')\n",
        "    f1 = f1_score(true_labels, predictions, average='macro')\n",
        "\n",
        "    print(f\"Accuracy: {accuracy}\")\n",
        "    print(f\"Precision: {precision}\")\n",
        "    print(f\"Recall: {recall}\")\n",
        "    print(f\"F1-Score: {f1}\")\n",
        "    print(classification_report(true_labels, predictions))"
      ],
      "metadata": {
        "id": "ZRds1BV-chaz",
        "colab": {
          "base_uri": "https://localhost:8080/"
        },
        "outputId": "5390d761-d57d-4bc9-8c88-70802da16b7d"
      },
      "execution_count": 22,
      "outputs": [
        {
          "output_type": "stream",
          "name": "stdout",
          "text": [
            "Epoch 1/30, Loss: 0.2836504194716858\n"
          ]
        },
        {
          "output_type": "stream",
          "name": "stderr",
          "text": [
            "/usr/local/lib/python3.10/dist-packages/sklearn/metrics/_classification.py:1344: UndefinedMetricWarning: Precision is ill-defined and being set to 0.0 in labels with no predicted samples. Use `zero_division` parameter to control this behavior.\n",
            "  _warn_prf(average, modifier, msg_start, len(result))\n"
          ]
        },
        {
          "output_type": "stream",
          "name": "stdout",
          "text": [
            "Accuracy: 0.056417489421720736\n",
            "Precision: 0.17162715514959717\n",
            "Recall: 0.02227671067156182\n",
            "F1-Score: 0.027833318068983738\n",
            "              precision    recall  f1-score   support\n",
            "\n",
            "           0       0.45      0.03      0.05      2088\n",
            "           1       0.00      0.00      0.00      1642\n",
            "           2       0.00      0.00      0.00       612\n",
            "           3       0.00      0.00      0.00       822\n",
            "           4       0.53      0.01      0.02      5222\n",
            "           5       0.00      0.00      0.00      2326\n",
            "           6       0.00      0.00      0.00      1258\n",
            "           7       0.61      0.45      0.52      8284\n",
            "           8       0.00      0.00      0.00      1036\n",
            "           9       0.00      0.00      0.00      1170\n",
            "          10       0.00      0.00      0.00       204\n",
            "          11       0.00      0.00      0.00       690\n",
            "          12       0.83      0.00      0.01      1650\n",
            "          13       0.00      0.00      0.00       622\n",
            "          14       0.00      0.00      0.00       506\n",
            "          15       0.00      0.00      0.00      1234\n",
            "          16       0.00      0.00      0.00      3180\n",
            "          17       0.52      0.02      0.04      1172\n",
            "          18       0.00      0.00      0.00       284\n",
            "          19       0.00      0.00      0.00       382\n",
            "          20       1.00      0.00      0.00      3134\n",
            "          21       0.00      0.00      0.00       802\n",
            "          22       0.00      0.00      0.00       420\n",
            "\n",
            "   micro avg       0.61      0.10      0.17     38740\n",
            "   macro avg       0.17      0.02      0.03     38740\n",
            "weighted avg       0.36      0.10      0.12     38740\n",
            " samples avg       0.25      0.13      0.16     38740\n",
            "\n"
          ]
        },
        {
          "output_type": "stream",
          "name": "stderr",
          "text": [
            "/usr/local/lib/python3.10/dist-packages/sklearn/metrics/_classification.py:1344: UndefinedMetricWarning: Precision and F-score are ill-defined and being set to 0.0 in labels with no predicted samples. Use `zero_division` parameter to control this behavior.\n",
            "  _warn_prf(average, modifier, msg_start, len(result))\n",
            "/usr/local/lib/python3.10/dist-packages/sklearn/metrics/_classification.py:1344: UndefinedMetricWarning: Precision and F-score are ill-defined and being set to 0.0 in samples with no predicted labels. Use `zero_division` parameter to control this behavior.\n",
            "  _warn_prf(average, modifier, msg_start, len(result))\n"
          ]
        },
        {
          "output_type": "stream",
          "name": "stdout",
          "text": [
            "Epoch 2/30, Loss: 0.27204719956948925\n"
          ]
        },
        {
          "output_type": "stream",
          "name": "stderr",
          "text": [
            "/usr/local/lib/python3.10/dist-packages/sklearn/metrics/_classification.py:1344: UndefinedMetricWarning: Precision is ill-defined and being set to 0.0 in labels with no predicted samples. Use `zero_division` parameter to control this behavior.\n",
            "  _warn_prf(average, modifier, msg_start, len(result))\n"
          ]
        },
        {
          "output_type": "stream",
          "name": "stdout",
          "text": [
            "Accuracy: 0.030709065264777534\n",
            "Precision: 0.25139339466615696\n",
            "Recall: 0.05970432881335783\n",
            "F1-Score: 0.0760074105076718\n",
            "              precision    recall  f1-score   support\n",
            "\n",
            "           0       0.35      0.24      0.28      2088\n",
            "           1       0.34      0.12      0.17      1642\n",
            "           2       0.26      0.01      0.02       612\n",
            "           3       0.50      0.00      0.01       822\n",
            "           4       0.63      0.03      0.06      5222\n",
            "           5       0.00      0.00      0.00      2326\n",
            "           6       0.63      0.25      0.35      1258\n",
            "           7       0.64      0.16      0.26      8284\n",
            "           8       0.62      0.00      0.01      1036\n",
            "           9       0.24      0.04      0.07      1170\n",
            "          10       0.00      0.00      0.00       204\n",
            "          11       0.38      0.00      0.01       690\n",
            "          12       0.39      0.13      0.20      1650\n",
            "          13       0.57      0.01      0.01       622\n",
            "          14       0.00      0.00      0.00       506\n",
            "          15       0.00      0.00      0.00      1234\n",
            "          16       0.00      0.00      0.00      3180\n",
            "          17       0.24      0.38      0.30      1172\n",
            "          18       0.00      0.00      0.00       284\n",
            "          19       0.00      0.00      0.00       382\n",
            "          20       0.00      0.00      0.00      3134\n",
            "          21       0.00      0.00      0.00       802\n",
            "          22       0.00      0.00      0.00       420\n",
            "\n",
            "   micro avg       0.43      0.08      0.14     38740\n",
            "   macro avg       0.25      0.06      0.08     38740\n",
            "weighted avg       0.35      0.08      0.12     38740\n",
            " samples avg       0.15      0.09      0.10     38740\n",
            "\n"
          ]
        },
        {
          "output_type": "stream",
          "name": "stderr",
          "text": [
            "/usr/local/lib/python3.10/dist-packages/sklearn/metrics/_classification.py:1344: UndefinedMetricWarning: Precision and F-score are ill-defined and being set to 0.0 in labels with no predicted samples. Use `zero_division` parameter to control this behavior.\n",
            "  _warn_prf(average, modifier, msg_start, len(result))\n",
            "/usr/local/lib/python3.10/dist-packages/sklearn/metrics/_classification.py:1344: UndefinedMetricWarning: Precision and F-score are ill-defined and being set to 0.0 in samples with no predicted labels. Use `zero_division` parameter to control this behavior.\n",
            "  _warn_prf(average, modifier, msg_start, len(result))\n"
          ]
        },
        {
          "output_type": "stream",
          "name": "stdout",
          "text": [
            "Epoch 3/30, Loss: 0.2694740804226555\n"
          ]
        },
        {
          "output_type": "stream",
          "name": "stderr",
          "text": [
            "/usr/local/lib/python3.10/dist-packages/sklearn/metrics/_classification.py:1344: UndefinedMetricWarning: Precision is ill-defined and being set to 0.0 in labels with no predicted samples. Use `zero_division` parameter to control this behavior.\n",
            "  _warn_prf(average, modifier, msg_start, len(result))\n"
          ]
        },
        {
          "output_type": "stream",
          "name": "stdout",
          "text": [
            "Accuracy: 0.020900115399410182\n",
            "Precision: 0.24197149174534244\n",
            "Recall: 0.02399963121082393\n",
            "F1-Score: 0.02301721325750784\n",
            "              precision    recall  f1-score   support\n",
            "\n",
            "           0       1.00      0.00      0.00      2088\n",
            "           1       0.50      0.00      0.00      1642\n",
            "           2       0.40      0.00      0.01       612\n",
            "           3       0.13      0.04      0.06       822\n",
            "           4       0.65      0.03      0.06      5222\n",
            "           5       0.00      0.00      0.00      2326\n",
            "           6       0.14      0.37      0.20      1258\n",
            "           7       0.67      0.06      0.10      8284\n",
            "           8       0.73      0.01      0.02      1036\n",
            "           9       0.00      0.00      0.00      1170\n",
            "          10       0.00      0.00      0.00       204\n",
            "          11       0.22      0.01      0.01       690\n",
            "          12       0.25      0.00      0.00      1650\n",
            "          13       0.00      0.00      0.00       622\n",
            "          14       0.00      0.00      0.00       506\n",
            "          15       0.00      0.00      0.00      1234\n",
            "          16       0.00      0.00      0.00      3180\n",
            "          17       0.72      0.03      0.06      1172\n",
            "          18       0.00      0.00      0.00       284\n",
            "          19       0.00      0.00      0.00       382\n",
            "          20       0.00      0.00      0.00      3134\n",
            "          21       0.15      0.00      0.00       802\n",
            "          22       0.00      0.00      0.00       420\n",
            "\n",
            "   micro avg       0.25      0.03      0.05     38740\n",
            "   macro avg       0.24      0.02      0.02     38740\n",
            "weighted avg       0.38      0.03      0.04     38740\n",
            " samples avg       0.07      0.04      0.05     38740\n",
            "\n"
          ]
        },
        {
          "output_type": "stream",
          "name": "stderr",
          "text": [
            "/usr/local/lib/python3.10/dist-packages/sklearn/metrics/_classification.py:1344: UndefinedMetricWarning: Precision and F-score are ill-defined and being set to 0.0 in labels with no predicted samples. Use `zero_division` parameter to control this behavior.\n",
            "  _warn_prf(average, modifier, msg_start, len(result))\n",
            "/usr/local/lib/python3.10/dist-packages/sklearn/metrics/_classification.py:1344: UndefinedMetricWarning: Precision and F-score are ill-defined and being set to 0.0 in samples with no predicted labels. Use `zero_division` parameter to control this behavior.\n",
            "  _warn_prf(average, modifier, msg_start, len(result))\n"
          ]
        },
        {
          "output_type": "stream",
          "name": "stdout",
          "text": [
            "Epoch 4/30, Loss: 0.2638752593241111\n"
          ]
        },
        {
          "output_type": "stream",
          "name": "stderr",
          "text": [
            "/usr/local/lib/python3.10/dist-packages/sklearn/metrics/_classification.py:1344: UndefinedMetricWarning: Precision is ill-defined and being set to 0.0 in labels with no predicted samples. Use `zero_division` parameter to control this behavior.\n",
            "  _warn_prf(average, modifier, msg_start, len(result))\n"
          ]
        },
        {
          "output_type": "stream",
          "name": "stdout",
          "text": [
            "Accuracy: 0.05051929734581356\n",
            "Precision: 0.34113529972659007\n",
            "Recall: 0.05541915996283993\n",
            "F1-Score: 0.07571658917697381\n",
            "              precision    recall  f1-score   support\n",
            "\n",
            "           0       0.51      0.02      0.04      2088\n",
            "           1       0.62      0.05      0.09      1642\n",
            "           2       0.00      0.00      0.00       612\n",
            "           3       0.26      0.08      0.12       822\n",
            "           4       0.60      0.06      0.12      5222\n",
            "           5       0.72      0.03      0.06      2326\n",
            "           6       0.35      0.41      0.38      1258\n",
            "           7       0.66      0.30      0.41      8284\n",
            "           8       0.71      0.00      0.01      1036\n",
            "           9       0.54      0.01      0.01      1170\n",
            "          10       0.00      0.00      0.00       204\n",
            "          11       0.00      0.00      0.00       690\n",
            "          12       0.56      0.01      0.01      1650\n",
            "          13       0.24      0.09      0.14       622\n",
            "          14       0.00      0.00      0.00       506\n",
            "          15       0.25      0.00      0.00      1234\n",
            "          16       0.52      0.03      0.06      3180\n",
            "          17       0.58      0.16      0.25      1172\n",
            "          18       0.00      0.00      0.00       284\n",
            "          19       0.00      0.00      0.00       382\n",
            "          20       0.74      0.02      0.05      3134\n",
            "          21       0.00      0.00      0.00       802\n",
            "          22       0.00      0.00      0.00       420\n",
            "\n",
            "   micro avg       0.55      0.10      0.17     38740\n",
            "   macro avg       0.34      0.06      0.08     38740\n",
            "weighted avg       0.53      0.10      0.15     38740\n",
            " samples avg       0.22      0.13      0.15     38740\n",
            "\n"
          ]
        },
        {
          "output_type": "stream",
          "name": "stderr",
          "text": [
            "/usr/local/lib/python3.10/dist-packages/sklearn/metrics/_classification.py:1344: UndefinedMetricWarning: Precision and F-score are ill-defined and being set to 0.0 in labels with no predicted samples. Use `zero_division` parameter to control this behavior.\n",
            "  _warn_prf(average, modifier, msg_start, len(result))\n",
            "/usr/local/lib/python3.10/dist-packages/sklearn/metrics/_classification.py:1344: UndefinedMetricWarning: Precision and F-score are ill-defined and being set to 0.0 in samples with no predicted labels. Use `zero_division` parameter to control this behavior.\n",
            "  _warn_prf(average, modifier, msg_start, len(result))\n"
          ]
        },
        {
          "output_type": "stream",
          "name": "stdout",
          "text": [
            "Epoch 5/30, Loss: 0.2591856137960536\n"
          ]
        },
        {
          "output_type": "stream",
          "name": "stderr",
          "text": [
            "/usr/local/lib/python3.10/dist-packages/sklearn/metrics/_classification.py:1344: UndefinedMetricWarning: Precision is ill-defined and being set to 0.0 in labels with no predicted samples. Use `zero_division` parameter to control this behavior.\n",
            "  _warn_prf(average, modifier, msg_start, len(result))\n"
          ]
        },
        {
          "output_type": "stream",
          "name": "stdout",
          "text": [
            "Accuracy: 0.07571483523528658\n",
            "Precision: 0.33656092089166106\n",
            "Recall: 0.053331953582261525\n",
            "F1-Score: 0.07166565972386546\n",
            "              precision    recall  f1-score   support\n",
            "\n",
            "           0       0.00      0.00      0.00      2088\n",
            "           1       0.55      0.09      0.15      1642\n",
            "           2       0.34      0.02      0.04       612\n",
            "           3       0.33      0.02      0.04       822\n",
            "           4       0.65      0.04      0.08      5222\n",
            "           5       0.76      0.01      0.02      2326\n",
            "           6       0.63      0.31      0.42      1258\n",
            "           7       0.64      0.56      0.60      8284\n",
            "           8       0.41      0.01      0.02      1036\n",
            "           9       0.00      0.00      0.00      1170\n",
            "          10       0.00      0.00      0.00       204\n",
            "          11       0.18      0.01      0.02       690\n",
            "          12       0.00      0.00      0.00      1650\n",
            "          13       0.16      0.05      0.07       622\n",
            "          14       0.00      0.00      0.00       506\n",
            "          15       0.67      0.00      0.00      1234\n",
            "          16       0.55      0.02      0.04      3180\n",
            "          17       0.78      0.03      0.06      1172\n",
            "          18       0.00      0.00      0.00       284\n",
            "          19       0.00      0.00      0.00       382\n",
            "          20       0.85      0.01      0.02      3134\n",
            "          21       0.25      0.02      0.05       802\n",
            "          22       0.00      0.00      0.00       420\n",
            "\n",
            "   micro avg       0.62      0.15      0.24     38740\n",
            "   macro avg       0.34      0.05      0.07     38740\n",
            "weighted avg       0.51      0.15      0.17     38740\n",
            " samples avg       0.34      0.19      0.22     38740\n",
            "\n"
          ]
        },
        {
          "output_type": "stream",
          "name": "stderr",
          "text": [
            "/usr/local/lib/python3.10/dist-packages/sklearn/metrics/_classification.py:1344: UndefinedMetricWarning: Precision and F-score are ill-defined and being set to 0.0 in labels with no predicted samples. Use `zero_division` parameter to control this behavior.\n",
            "  _warn_prf(average, modifier, msg_start, len(result))\n",
            "/usr/local/lib/python3.10/dist-packages/sklearn/metrics/_classification.py:1344: UndefinedMetricWarning: Precision and F-score are ill-defined and being set to 0.0 in samples with no predicted labels. Use `zero_division` parameter to control this behavior.\n",
            "  _warn_prf(average, modifier, msg_start, len(result))\n"
          ]
        },
        {
          "output_type": "stream",
          "name": "stdout",
          "text": [
            "Epoch 6/30, Loss: 0.256402663809895\n"
          ]
        },
        {
          "output_type": "stream",
          "name": "stderr",
          "text": [
            "/usr/local/lib/python3.10/dist-packages/sklearn/metrics/_classification.py:1344: UndefinedMetricWarning: Precision is ill-defined and being set to 0.0 in labels with no predicted samples. Use `zero_division` parameter to control this behavior.\n",
            "  _warn_prf(average, modifier, msg_start, len(result))\n"
          ]
        },
        {
          "output_type": "stream",
          "name": "stdout",
          "text": [
            "Accuracy: 0.05962302859340941\n",
            "Precision: 0.4578842385580112\n",
            "Recall: 0.04621856845407741\n",
            "F1-Score: 0.0687933365766916\n",
            "              precision    recall  f1-score   support\n",
            "\n",
            "           0       0.50      0.00      0.01      2088\n",
            "           1       0.60      0.07      0.12      1642\n",
            "           2       0.71      0.01      0.02       612\n",
            "           3       0.29      0.02      0.04       822\n",
            "           4       0.68      0.07      0.12      5222\n",
            "           5       0.74      0.06      0.12      2326\n",
            "           6       0.61      0.34      0.44      1258\n",
            "           7       0.68      0.35      0.46      8284\n",
            "           8       0.54      0.01      0.03      1036\n",
            "           9       1.00      0.00      0.00      1170\n",
            "          10       0.00      0.00      0.00       204\n",
            "          11       0.00      0.00      0.00       690\n",
            "          12       1.00      0.00      0.01      1650\n",
            "          13       0.23      0.01      0.02       622\n",
            "          14       0.00      0.00      0.00       506\n",
            "          15       0.45      0.01      0.03      1234\n",
            "          16       0.63      0.00      0.01      3180\n",
            "          17       0.70      0.01      0.01      1172\n",
            "          18       0.00      0.00      0.00       284\n",
            "          19       0.00      0.00      0.00       382\n",
            "          20       0.66      0.07      0.13      3134\n",
            "          21       0.50      0.01      0.02       802\n",
            "          22       0.00      0.00      0.00       420\n",
            "\n",
            "   micro avg       0.66      0.11      0.19     38740\n",
            "   macro avg       0.46      0.05      0.07     38740\n",
            "weighted avg       0.61      0.11      0.16     38740\n",
            " samples avg       0.25      0.14      0.17     38740\n",
            "\n"
          ]
        },
        {
          "output_type": "stream",
          "name": "stderr",
          "text": [
            "/usr/local/lib/python3.10/dist-packages/sklearn/metrics/_classification.py:1344: UndefinedMetricWarning: Precision and F-score are ill-defined and being set to 0.0 in labels with no predicted samples. Use `zero_division` parameter to control this behavior.\n",
            "  _warn_prf(average, modifier, msg_start, len(result))\n",
            "/usr/local/lib/python3.10/dist-packages/sklearn/metrics/_classification.py:1344: UndefinedMetricWarning: Precision and F-score are ill-defined and being set to 0.0 in samples with no predicted labels. Use `zero_division` parameter to control this behavior.\n",
            "  _warn_prf(average, modifier, msg_start, len(result))\n"
          ]
        },
        {
          "output_type": "stream",
          "name": "stdout",
          "text": [
            "Epoch 7/30, Loss: 0.25208266356906284\n"
          ]
        },
        {
          "output_type": "stream",
          "name": "stderr",
          "text": [
            "/usr/local/lib/python3.10/dist-packages/sklearn/metrics/_classification.py:1344: UndefinedMetricWarning: Precision is ill-defined and being set to 0.0 in labels with no predicted samples. Use `zero_division` parameter to control this behavior.\n",
            "  _warn_prf(average, modifier, msg_start, len(result))\n"
          ]
        },
        {
          "output_type": "stream",
          "name": "stdout",
          "text": [
            "Accuracy: 0.07327862546480318\n",
            "Precision: 0.5256239346332044\n",
            "Recall: 0.06143153548395475\n",
            "F1-Score: 0.09450497727996257\n",
            "              precision    recall  f1-score   support\n",
            "\n",
            "           0       0.62      0.01      0.02      2088\n",
            "           1       0.76      0.05      0.09      1642\n",
            "           2       0.64      0.06      0.10       612\n",
            "           3       0.57      0.00      0.01       822\n",
            "           4       0.71      0.16      0.26      5222\n",
            "           5       0.75      0.07      0.12      2326\n",
            "           6       0.82      0.22      0.35      1258\n",
            "           7       0.68      0.47      0.56      8284\n",
            "           8       0.74      0.06      0.11      1036\n",
            "           9       1.00      0.00      0.01      1170\n",
            "          10       0.00      0.00      0.00       204\n",
            "          11       0.27      0.02      0.04       690\n",
            "          12       1.00      0.00      0.01      1650\n",
            "          13       0.42      0.01      0.02       622\n",
            "          14       0.00      0.00      0.00       506\n",
            "          15       0.36      0.00      0.01      1234\n",
            "          16       0.54      0.04      0.08      3180\n",
            "          17       0.82      0.03      0.05      1172\n",
            "          18       0.00      0.00      0.00       284\n",
            "          19       0.00      0.00      0.00       382\n",
            "          20       0.70      0.05      0.10      3134\n",
            "          21       0.68      0.16      0.26       802\n",
            "          22       0.00      0.00      0.00       420\n",
            "\n",
            "   micro avg       0.68      0.15      0.25     38740\n",
            "   macro avg       0.53      0.06      0.09     38740\n",
            "weighted avg       0.66      0.15      0.20     38740\n",
            " samples avg       0.32      0.18      0.22     38740\n",
            "\n"
          ]
        },
        {
          "output_type": "stream",
          "name": "stderr",
          "text": [
            "/usr/local/lib/python3.10/dist-packages/sklearn/metrics/_classification.py:1344: UndefinedMetricWarning: Precision and F-score are ill-defined and being set to 0.0 in labels with no predicted samples. Use `zero_division` parameter to control this behavior.\n",
            "  _warn_prf(average, modifier, msg_start, len(result))\n",
            "/usr/local/lib/python3.10/dist-packages/sklearn/metrics/_classification.py:1344: UndefinedMetricWarning: Precision and F-score are ill-defined and being set to 0.0 in samples with no predicted labels. Use `zero_division` parameter to control this behavior.\n",
            "  _warn_prf(average, modifier, msg_start, len(result))\n"
          ]
        },
        {
          "output_type": "stream",
          "name": "stdout",
          "text": [
            "Epoch 8/30, Loss: 0.2479112458265858\n"
          ]
        },
        {
          "output_type": "stream",
          "name": "stderr",
          "text": [
            "/usr/local/lib/python3.10/dist-packages/sklearn/metrics/_classification.py:1344: UndefinedMetricWarning: Precision is ill-defined and being set to 0.0 in labels with no predicted samples. Use `zero_division` parameter to control this behavior.\n",
            "  _warn_prf(average, modifier, msg_start, len(result))\n"
          ]
        },
        {
          "output_type": "stream",
          "name": "stdout",
          "text": [
            "Accuracy: 0.07424028721630978\n",
            "Precision: 0.5223753080310679\n",
            "Recall: 0.07116346067454536\n",
            "F1-Score: 0.10185277487756972\n",
            "              precision    recall  f1-score   support\n",
            "\n",
            "           0       0.43      0.00      0.01      2088\n",
            "           1       0.71      0.01      0.01      1642\n",
            "           2       0.78      0.01      0.02       612\n",
            "           3       0.50      0.01      0.02       822\n",
            "           4       0.75      0.10      0.18      5222\n",
            "           5       0.58      0.21      0.31      2326\n",
            "           6       0.85      0.23      0.37      1258\n",
            "           7       0.63      0.56      0.59      8284\n",
            "           8       0.67      0.01      0.02      1036\n",
            "           9       0.00      0.00      0.00      1170\n",
            "          10       0.00      0.00      0.00       204\n",
            "          11       0.42      0.01      0.02       690\n",
            "          12       0.88      0.00      0.01      1650\n",
            "          13       0.42      0.05      0.08       622\n",
            "          14       1.00      0.00      0.00       506\n",
            "          15       0.67      0.00      0.00      1234\n",
            "          16       0.48      0.16      0.24      3180\n",
            "          17       0.87      0.02      0.03      1172\n",
            "          18       0.00      0.00      0.00       284\n",
            "          19       0.00      0.00      0.00       382\n",
            "          20       0.67      0.10      0.17      3134\n",
            "          21       0.71      0.14      0.23       802\n",
            "          22       0.00      0.00      0.00       420\n",
            "\n",
            "   micro avg       0.63      0.18      0.28     38740\n",
            "   macro avg       0.52      0.07      0.10     38740\n",
            "weighted avg       0.61      0.18      0.23     38740\n",
            " samples avg       0.34      0.21      0.24     38740\n",
            "\n"
          ]
        },
        {
          "output_type": "stream",
          "name": "stderr",
          "text": [
            "/usr/local/lib/python3.10/dist-packages/sklearn/metrics/_classification.py:1344: UndefinedMetricWarning: Precision and F-score are ill-defined and being set to 0.0 in labels with no predicted samples. Use `zero_division` parameter to control this behavior.\n",
            "  _warn_prf(average, modifier, msg_start, len(result))\n",
            "/usr/local/lib/python3.10/dist-packages/sklearn/metrics/_classification.py:1344: UndefinedMetricWarning: Precision and F-score are ill-defined and being set to 0.0 in samples with no predicted labels. Use `zero_division` parameter to control this behavior.\n",
            "  _warn_prf(average, modifier, msg_start, len(result))\n"
          ]
        },
        {
          "output_type": "stream",
          "name": "stdout",
          "text": [
            "Epoch 9/30, Loss: 0.2446981381180355\n"
          ]
        },
        {
          "output_type": "stream",
          "name": "stderr",
          "text": [
            "/usr/local/lib/python3.10/dist-packages/sklearn/metrics/_classification.py:1344: UndefinedMetricWarning: Precision is ill-defined and being set to 0.0 in labels with no predicted samples. Use `zero_division` parameter to control this behavior.\n",
            "  _warn_prf(average, modifier, msg_start, len(result))\n"
          ]
        },
        {
          "output_type": "stream",
          "name": "stdout",
          "text": [
            "Accuracy: 0.08610078215155789\n",
            "Precision: 0.5170927074159193\n",
            "Recall: 0.0929630118851709\n",
            "F1-Score: 0.1298641432808159\n",
            "              precision    recall  f1-score   support\n",
            "\n",
            "           0       0.65      0.06      0.10      2088\n",
            "           1       0.80      0.01      0.02      1642\n",
            "           2       0.80      0.01      0.01       612\n",
            "           3       0.00      0.00      0.00       822\n",
            "           4       0.70      0.23      0.35      5222\n",
            "           5       0.55      0.29      0.38      2326\n",
            "           6       0.88      0.19      0.32      1258\n",
            "           7       0.71      0.45      0.55      8284\n",
            "           8       0.94      0.02      0.03      1036\n",
            "           9       0.50      0.00      0.00      1170\n",
            "          10       1.00      0.00      0.01       204\n",
            "          11       0.00      0.00      0.00       690\n",
            "          12       0.52      0.29      0.37      1650\n",
            "          13       0.83      0.01      0.02       622\n",
            "          14       0.00      0.00      0.00       506\n",
            "          15       0.37      0.01      0.02      1234\n",
            "          16       0.62      0.02      0.04      3180\n",
            "          17       0.65      0.17      0.27      1172\n",
            "          18       0.00      0.00      0.00       284\n",
            "          19       0.00      0.00      0.00       382\n",
            "          20       0.49      0.32      0.39      3134\n",
            "          21       0.87      0.06      0.11       802\n",
            "          22       0.00      0.00      0.00       420\n",
            "\n",
            "   micro avg       0.64      0.20      0.31     38740\n",
            "   macro avg       0.52      0.09      0.13     38740\n",
            "weighted avg       0.61      0.20      0.27     38740\n",
            " samples avg       0.40      0.24      0.28     38740\n",
            "\n"
          ]
        },
        {
          "output_type": "stream",
          "name": "stderr",
          "text": [
            "/usr/local/lib/python3.10/dist-packages/sklearn/metrics/_classification.py:1344: UndefinedMetricWarning: Precision and F-score are ill-defined and being set to 0.0 in labels with no predicted samples. Use `zero_division` parameter to control this behavior.\n",
            "  _warn_prf(average, modifier, msg_start, len(result))\n",
            "/usr/local/lib/python3.10/dist-packages/sklearn/metrics/_classification.py:1344: UndefinedMetricWarning: Precision and F-score are ill-defined and being set to 0.0 in samples with no predicted labels. Use `zero_division` parameter to control this behavior.\n",
            "  _warn_prf(average, modifier, msg_start, len(result))\n"
          ]
        },
        {
          "output_type": "stream",
          "name": "stdout",
          "text": [
            "Epoch 10/30, Loss: 0.24152144579669085\n"
          ]
        },
        {
          "output_type": "stream",
          "name": "stderr",
          "text": [
            "/usr/local/lib/python3.10/dist-packages/sklearn/metrics/_classification.py:1344: UndefinedMetricWarning: Precision is ill-defined and being set to 0.0 in labels with no predicted samples. Use `zero_division` parameter to control this behavior.\n",
            "  _warn_prf(average, modifier, msg_start, len(result))\n"
          ]
        },
        {
          "output_type": "stream",
          "name": "stdout",
          "text": [
            "Accuracy: 0.03391460443646621\n",
            "Precision: 0.3660028127124983\n",
            "Recall: 0.1182843478288416\n",
            "F1-Score: 0.12604470731271938\n",
            "              precision    recall  f1-score   support\n",
            "\n",
            "           0       0.25      0.43      0.32      2088\n",
            "           1       0.14      0.46      0.22      1642\n",
            "           2       0.44      0.10      0.17       612\n",
            "           3       0.00      0.00      0.00       822\n",
            "           4       0.70      0.19      0.29      5222\n",
            "           5       0.86      0.03      0.05      2326\n",
            "           6       0.94      0.10      0.19      1258\n",
            "           7       0.73      0.15      0.25      8284\n",
            "           8       0.25      0.32      0.28      1036\n",
            "           9       0.35      0.17      0.23      1170\n",
            "          10       0.00      0.00      0.00       204\n",
            "          11       0.33      0.01      0.02       690\n",
            "          12       1.00      0.00      0.00      1650\n",
            "          13       0.00      0.00      0.00       622\n",
            "          14       0.00      0.00      0.00       506\n",
            "          15       0.00      0.00      0.00      1234\n",
            "          16       0.67      0.02      0.03      3180\n",
            "          17       0.38      0.38      0.38      1172\n",
            "          18       0.00      0.00      0.00       284\n",
            "          19       0.00      0.00      0.00       382\n",
            "          20       0.77      0.03      0.05      3134\n",
            "          21       0.56      0.25      0.34       802\n",
            "          22       0.05      0.08      0.06       420\n",
            "\n",
            "   micro avg       0.33      0.14      0.20     38740\n",
            "   macro avg       0.37      0.12      0.13     38740\n",
            "weighted avg       0.57      0.14      0.17     38740\n",
            " samples avg       0.20      0.15      0.16     38740\n",
            "\n"
          ]
        },
        {
          "output_type": "stream",
          "name": "stderr",
          "text": [
            "/usr/local/lib/python3.10/dist-packages/sklearn/metrics/_classification.py:1344: UndefinedMetricWarning: Precision and F-score are ill-defined and being set to 0.0 in labels with no predicted samples. Use `zero_division` parameter to control this behavior.\n",
            "  _warn_prf(average, modifier, msg_start, len(result))\n",
            "/usr/local/lib/python3.10/dist-packages/sklearn/metrics/_classification.py:1344: UndefinedMetricWarning: Precision and F-score are ill-defined and being set to 0.0 in samples with no predicted labels. Use `zero_division` parameter to control this behavior.\n",
            "  _warn_prf(average, modifier, msg_start, len(result))\n"
          ]
        },
        {
          "output_type": "stream",
          "name": "stdout",
          "text": [
            "Epoch 11/30, Loss: 0.2391612376143903\n"
          ]
        },
        {
          "output_type": "stream",
          "name": "stderr",
          "text": [
            "/usr/local/lib/python3.10/dist-packages/sklearn/metrics/_classification.py:1344: UndefinedMetricWarning: Precision is ill-defined and being set to 0.0 in labels with no predicted samples. Use `zero_division` parameter to control this behavior.\n",
            "  _warn_prf(average, modifier, msg_start, len(result))\n"
          ]
        },
        {
          "output_type": "stream",
          "name": "stdout",
          "text": [
            "Accuracy: 0.0914219771765611\n",
            "Precision: 0.553424101075479\n",
            "Recall: 0.11209281866884474\n",
            "F1-Score: 0.1513364916322899\n",
            "              precision    recall  f1-score   support\n",
            "\n",
            "           0       0.64      0.04      0.08      2088\n",
            "           1       0.69      0.11      0.20      1642\n",
            "           2       0.90      0.03      0.06       612\n",
            "           3       0.31      0.00      0.01       822\n",
            "           4       0.72      0.15      0.24      5222\n",
            "           5       0.76      0.08      0.15      2326\n",
            "           6       0.75      0.31      0.44      1258\n",
            "           7       0.64      0.63      0.63      8284\n",
            "           8       0.91      0.04      0.07      1036\n",
            "           9       1.00      0.00      0.01      1170\n",
            "          10       0.00      0.00      0.00       204\n",
            "          11       0.28      0.09      0.13       690\n",
            "          12       0.96      0.04      0.08      1650\n",
            "          13       0.32      0.27      0.29       622\n",
            "          14       0.23      0.09      0.13       506\n",
            "          15       0.49      0.03      0.05      1234\n",
            "          16       0.48      0.22      0.30      3180\n",
            "          17       0.94      0.05      0.10      1172\n",
            "          18       0.00      0.00      0.00       284\n",
            "          19       0.00      0.00      0.00       382\n",
            "          20       0.81      0.03      0.05      3134\n",
            "          21       0.45      0.31      0.37       802\n",
            "          22       0.45      0.05      0.09       420\n",
            "\n",
            "   micro avg       0.61      0.22      0.32     38740\n",
            "   macro avg       0.55      0.11      0.15     38740\n",
            "weighted avg       0.66      0.22      0.26     38740\n",
            " samples avg       0.40      0.26      0.29     38740\n",
            "\n"
          ]
        },
        {
          "output_type": "stream",
          "name": "stderr",
          "text": [
            "/usr/local/lib/python3.10/dist-packages/sklearn/metrics/_classification.py:1344: UndefinedMetricWarning: Precision and F-score are ill-defined and being set to 0.0 in labels with no predicted samples. Use `zero_division` parameter to control this behavior.\n",
            "  _warn_prf(average, modifier, msg_start, len(result))\n",
            "/usr/local/lib/python3.10/dist-packages/sklearn/metrics/_classification.py:1344: UndefinedMetricWarning: Precision and F-score are ill-defined and being set to 0.0 in samples with no predicted labels. Use `zero_division` parameter to control this behavior.\n",
            "  _warn_prf(average, modifier, msg_start, len(result))\n"
          ]
        },
        {
          "output_type": "stream",
          "name": "stdout",
          "text": [
            "Epoch 12/30, Loss: 0.23674815295287122\n"
          ]
        },
        {
          "output_type": "stream",
          "name": "stderr",
          "text": [
            "/usr/local/lib/python3.10/dist-packages/sklearn/metrics/_classification.py:1344: UndefinedMetricWarning: Precision is ill-defined and being set to 0.0 in labels with no predicted samples. Use `zero_division` parameter to control this behavior.\n",
            "  _warn_prf(average, modifier, msg_start, len(result))\n"
          ]
        },
        {
          "output_type": "stream",
          "name": "stdout",
          "text": [
            "Accuracy: 0.08661366841902808\n",
            "Precision: 0.5572857421961593\n",
            "Recall: 0.1115741074984403\n",
            "F1-Score: 0.15468261765500765\n",
            "              precision    recall  f1-score   support\n",
            "\n",
            "           0       0.72      0.06      0.11      2088\n",
            "           1       0.64      0.13      0.22      1642\n",
            "           2       0.66      0.09      0.16       612\n",
            "           3       0.49      0.02      0.04       822\n",
            "           4       0.65      0.34      0.45      5222\n",
            "           5       0.82      0.02      0.05      2326\n",
            "           6       0.48      0.42      0.45      1258\n",
            "           7       0.72      0.39      0.50      8284\n",
            "           8       0.59      0.15      0.24      1036\n",
            "           9       0.55      0.09      0.16      1170\n",
            "          10       0.00      0.00      0.00       204\n",
            "          11       0.33      0.01      0.03       690\n",
            "          12       0.88      0.04      0.07      1650\n",
            "          13       0.27      0.32      0.29       622\n",
            "          14       0.27      0.08      0.12       506\n",
            "          15       1.00      0.00      0.00      1234\n",
            "          16       0.58      0.07      0.12      3180\n",
            "          17       0.73      0.20      0.31      1172\n",
            "          18       0.00      0.00      0.00       284\n",
            "          19       0.00      0.00      0.00       382\n",
            "          20       0.84      0.01      0.02      3134\n",
            "          21       0.79      0.09      0.17       802\n",
            "          22       0.80      0.03      0.06       420\n",
            "\n",
            "   micro avg       0.63      0.18      0.29     38740\n",
            "   macro avg       0.56      0.11      0.15     38740\n",
            "weighted avg       0.67      0.18      0.25     38740\n",
            " samples avg       0.37      0.23      0.26     38740\n",
            "\n"
          ]
        },
        {
          "output_type": "stream",
          "name": "stderr",
          "text": [
            "/usr/local/lib/python3.10/dist-packages/sklearn/metrics/_classification.py:1344: UndefinedMetricWarning: Precision and F-score are ill-defined and being set to 0.0 in labels with no predicted samples. Use `zero_division` parameter to control this behavior.\n",
            "  _warn_prf(average, modifier, msg_start, len(result))\n",
            "/usr/local/lib/python3.10/dist-packages/sklearn/metrics/_classification.py:1344: UndefinedMetricWarning: Precision and F-score are ill-defined and being set to 0.0 in samples with no predicted labels. Use `zero_division` parameter to control this behavior.\n",
            "  _warn_prf(average, modifier, msg_start, len(result))\n"
          ]
        },
        {
          "output_type": "stream",
          "name": "stdout",
          "text": [
            "Epoch 13/30, Loss: 0.23393231398836084\n"
          ]
        },
        {
          "output_type": "stream",
          "name": "stderr",
          "text": [
            "/usr/local/lib/python3.10/dist-packages/sklearn/metrics/_classification.py:1344: UndefinedMetricWarning: Precision is ill-defined and being set to 0.0 in labels with no predicted samples. Use `zero_division` parameter to control this behavior.\n",
            "  _warn_prf(average, modifier, msg_start, len(result))\n"
          ]
        },
        {
          "output_type": "stream",
          "name": "stdout",
          "text": [
            "Accuracy: 0.07712527247082959\n",
            "Precision: 0.48062421488183565\n",
            "Recall: 0.1079532282527805\n",
            "F1-Score: 0.15560085533831997\n",
            "              precision    recall  f1-score   support\n",
            "\n",
            "           0       0.64      0.10      0.17      2088\n",
            "           1       0.67      0.08      0.14      1642\n",
            "           2       0.68      0.11      0.19       612\n",
            "           3       0.00      0.00      0.00       822\n",
            "           4       0.70      0.17      0.28      5222\n",
            "           5       0.85      0.08      0.14      2326\n",
            "           6       0.51      0.40      0.45      1258\n",
            "           7       0.74      0.30      0.43      8284\n",
            "           8       0.69      0.12      0.20      1036\n",
            "           9       0.78      0.02      0.04      1170\n",
            "          10       0.00      0.00      0.00       204\n",
            "          11       0.33      0.01      0.03       690\n",
            "          12       0.60      0.32      0.42      1650\n",
            "          13       0.62      0.11      0.19       622\n",
            "          14       0.00      0.00      0.00       506\n",
            "          15       0.50      0.00      0.00      1234\n",
            "          16       0.90      0.00      0.01      3180\n",
            "          17       0.55      0.31      0.40      1172\n",
            "          18       0.00      0.00      0.00       284\n",
            "          19       0.00      0.00      0.00       382\n",
            "          20       0.65      0.06      0.11      3134\n",
            "          21       0.63      0.30      0.40       802\n",
            "          22       0.00      0.00      0.00       420\n",
            "\n",
            "   micro avg       0.67      0.15      0.25     38740\n",
            "   macro avg       0.48      0.11      0.16     38740\n",
            "weighted avg       0.65      0.15      0.23     38740\n",
            " samples avg       0.33      0.19      0.22     38740\n",
            "\n"
          ]
        },
        {
          "output_type": "stream",
          "name": "stderr",
          "text": [
            "/usr/local/lib/python3.10/dist-packages/sklearn/metrics/_classification.py:1344: UndefinedMetricWarning: Precision and F-score are ill-defined and being set to 0.0 in labels with no predicted samples. Use `zero_division` parameter to control this behavior.\n",
            "  _warn_prf(average, modifier, msg_start, len(result))\n",
            "/usr/local/lib/python3.10/dist-packages/sklearn/metrics/_classification.py:1344: UndefinedMetricWarning: Precision and F-score are ill-defined and being set to 0.0 in samples with no predicted labels. Use `zero_division` parameter to control this behavior.\n",
            "  _warn_prf(average, modifier, msg_start, len(result))\n"
          ]
        },
        {
          "output_type": "stream",
          "name": "stdout",
          "text": [
            "Epoch 14/30, Loss: 0.23166129157069779\n"
          ]
        },
        {
          "output_type": "stream",
          "name": "stderr",
          "text": [
            "/usr/local/lib/python3.10/dist-packages/sklearn/metrics/_classification.py:1344: UndefinedMetricWarning: Precision is ill-defined and being set to 0.0 in labels with no predicted samples. Use `zero_division` parameter to control this behavior.\n",
            "  _warn_prf(average, modifier, msg_start, len(result))\n"
          ]
        },
        {
          "output_type": "stream",
          "name": "stdout",
          "text": [
            "Accuracy: 0.0969996153352994\n",
            "Precision: 0.5704550000233728\n",
            "Recall: 0.09964667008643059\n",
            "F1-Score: 0.1338659585091061\n",
            "              precision    recall  f1-score   support\n",
            "\n",
            "           0       0.75      0.02      0.04      2088\n",
            "           1       0.80      0.02      0.03      1642\n",
            "           2       0.76      0.04      0.07       612\n",
            "           3       0.00      0.00      0.00       822\n",
            "           4       0.76      0.11      0.19      5222\n",
            "           5       0.63      0.22      0.32      2326\n",
            "           6       0.72      0.30      0.43      1258\n",
            "           7       0.62      0.68      0.65      8284\n",
            "           8       0.83      0.03      0.06      1036\n",
            "           9       0.90      0.01      0.02      1170\n",
            "          10       0.00      0.00      0.00       204\n",
            "          11       1.00      0.00      0.00       690\n",
            "          12       0.91      0.02      0.05      1650\n",
            "          13       0.75      0.03      0.06       622\n",
            "          14       0.00      0.00      0.00       506\n",
            "          15       0.31      0.00      0.01      1234\n",
            "          16       0.52      0.24      0.33      3180\n",
            "          17       0.73      0.16      0.26      1172\n",
            "          18       0.00      0.00      0.00       284\n",
            "          19       0.00      0.00      0.00       382\n",
            "          20       0.58      0.06      0.11      3134\n",
            "          21       0.56      0.33      0.41       802\n",
            "          22       1.00      0.02      0.04       420\n",
            "\n",
            "   micro avg       0.62      0.22      0.33     38740\n",
            "   macro avg       0.57      0.10      0.13     38740\n",
            "weighted avg       0.64      0.22      0.26     38740\n",
            " samples avg       0.43      0.27      0.31     38740\n",
            "\n"
          ]
        },
        {
          "output_type": "stream",
          "name": "stderr",
          "text": [
            "/usr/local/lib/python3.10/dist-packages/sklearn/metrics/_classification.py:1344: UndefinedMetricWarning: Precision and F-score are ill-defined and being set to 0.0 in labels with no predicted samples. Use `zero_division` parameter to control this behavior.\n",
            "  _warn_prf(average, modifier, msg_start, len(result))\n",
            "/usr/local/lib/python3.10/dist-packages/sklearn/metrics/_classification.py:1344: UndefinedMetricWarning: Precision and F-score are ill-defined and being set to 0.0 in samples with no predicted labels. Use `zero_division` parameter to control this behavior.\n",
            "  _warn_prf(average, modifier, msg_start, len(result))\n"
          ]
        },
        {
          "output_type": "stream",
          "name": "stdout",
          "text": [
            "Epoch 15/30, Loss: 0.22866930210112055\n"
          ]
        },
        {
          "output_type": "stream",
          "name": "stderr",
          "text": [
            "/usr/local/lib/python3.10/dist-packages/sklearn/metrics/_classification.py:1344: UndefinedMetricWarning: Precision is ill-defined and being set to 0.0 in labels with no predicted samples. Use `zero_division` parameter to control this behavior.\n",
            "  _warn_prf(average, modifier, msg_start, len(result))\n"
          ]
        },
        {
          "output_type": "stream",
          "name": "stdout",
          "text": [
            "Accuracy: 0.1023208103603026\n",
            "Precision: 0.6006412890131478\n",
            "Recall: 0.14356100906660219\n",
            "F1-Score: 0.20709683427020842\n",
            "              precision    recall  f1-score   support\n",
            "\n",
            "           0       0.65      0.12      0.21      2088\n",
            "           1       0.60      0.17      0.26      1642\n",
            "           2       0.65      0.15      0.25       612\n",
            "           3       0.43      0.01      0.01       822\n",
            "           4       0.61      0.44      0.52      5222\n",
            "           5       0.67      0.23      0.35      2326\n",
            "           6       0.81      0.28      0.42      1258\n",
            "           7       0.72      0.47      0.57      8284\n",
            "           8       0.60      0.21      0.31      1036\n",
            "           9       0.70      0.07      0.12      1170\n",
            "          10       0.00      0.00      0.00       204\n",
            "          11       0.47      0.02      0.04       690\n",
            "          12       0.99      0.04      0.08      1650\n",
            "          13       0.58      0.21      0.31       622\n",
            "          14       0.31      0.04      0.07       506\n",
            "          15       1.00      0.00      0.00      1234\n",
            "          16       0.61      0.12      0.20      3180\n",
            "          17       0.90      0.12      0.21      1172\n",
            "          18       0.00      0.00      0.00       284\n",
            "          19       0.53      0.05      0.10       382\n",
            "          20       0.70      0.08      0.14      3134\n",
            "          21       0.85      0.12      0.21       802\n",
            "          22       0.45      0.34      0.39       420\n",
            "\n",
            "   micro avg       0.67      0.24      0.35     38740\n",
            "   macro avg       0.60      0.14      0.21     38740\n",
            "weighted avg       0.68      0.24      0.32     38740\n",
            " samples avg       0.44      0.28      0.32     38740\n",
            "\n"
          ]
        },
        {
          "output_type": "stream",
          "name": "stderr",
          "text": [
            "/usr/local/lib/python3.10/dist-packages/sklearn/metrics/_classification.py:1344: UndefinedMetricWarning: Precision and F-score are ill-defined and being set to 0.0 in labels with no predicted samples. Use `zero_division` parameter to control this behavior.\n",
            "  _warn_prf(average, modifier, msg_start, len(result))\n",
            "/usr/local/lib/python3.10/dist-packages/sklearn/metrics/_classification.py:1344: UndefinedMetricWarning: Precision and F-score are ill-defined and being set to 0.0 in samples with no predicted labels. Use `zero_division` parameter to control this behavior.\n",
            "  _warn_prf(average, modifier, msg_start, len(result))\n"
          ]
        },
        {
          "output_type": "stream",
          "name": "stdout",
          "text": [
            "Epoch 16/30, Loss: 0.22581486026813954\n"
          ]
        },
        {
          "output_type": "stream",
          "name": "stderr",
          "text": [
            "/usr/local/lib/python3.10/dist-packages/sklearn/metrics/_classification.py:1344: UndefinedMetricWarning: Precision is ill-defined and being set to 0.0 in labels with no predicted samples. Use `zero_division` parameter to control this behavior.\n",
            "  _warn_prf(average, modifier, msg_start, len(result))\n"
          ]
        },
        {
          "output_type": "stream",
          "name": "stdout",
          "text": [
            "Accuracy: 0.08347224003077318\n",
            "Precision: 0.5916623005424131\n",
            "Recall: 0.1221964661684554\n",
            "F1-Score: 0.17278948905896777\n",
            "              precision    recall  f1-score   support\n",
            "\n",
            "           0       0.54      0.24      0.33      2088\n",
            "           1       0.50      0.22      0.31      1642\n",
            "           2       0.59      0.03      0.05       612\n",
            "           3       0.00      0.00      0.00       822\n",
            "           4       0.69      0.33      0.45      5222\n",
            "           5       0.68      0.20      0.30      2326\n",
            "           6       0.92      0.11      0.20      1258\n",
            "           7       0.72      0.32      0.44      8284\n",
            "           8       0.76      0.09      0.16      1036\n",
            "           9       0.61      0.09      0.16      1170\n",
            "          10       0.00      0.00      0.00       204\n",
            "          11       1.00      0.00      0.01       690\n",
            "          12       0.68      0.28      0.40      1650\n",
            "          13       0.84      0.06      0.11       622\n",
            "          14       0.18      0.00      0.01       506\n",
            "          15       0.58      0.03      0.06      1234\n",
            "          16       0.74      0.03      0.05      3180\n",
            "          17       0.81      0.16      0.27      1172\n",
            "          18       0.00      0.00      0.00       284\n",
            "          19       1.00      0.01      0.02       382\n",
            "          20       0.64      0.13      0.22      3134\n",
            "          21       0.86      0.08      0.14       802\n",
            "          22       0.24      0.41      0.30       420\n",
            "\n",
            "   micro avg       0.65      0.19      0.30     38740\n",
            "   macro avg       0.59      0.12      0.17     38740\n",
            "weighted avg       0.67      0.19      0.28     38740\n",
            " samples avg       0.39      0.22      0.27     38740\n",
            "\n"
          ]
        },
        {
          "output_type": "stream",
          "name": "stderr",
          "text": [
            "/usr/local/lib/python3.10/dist-packages/sklearn/metrics/_classification.py:1344: UndefinedMetricWarning: Precision and F-score are ill-defined and being set to 0.0 in labels with no predicted samples. Use `zero_division` parameter to control this behavior.\n",
            "  _warn_prf(average, modifier, msg_start, len(result))\n",
            "/usr/local/lib/python3.10/dist-packages/sklearn/metrics/_classification.py:1344: UndefinedMetricWarning: Precision and F-score are ill-defined and being set to 0.0 in samples with no predicted labels. Use `zero_division` parameter to control this behavior.\n",
            "  _warn_prf(average, modifier, msg_start, len(result))\n"
          ]
        },
        {
          "output_type": "stream",
          "name": "stdout",
          "text": [
            "Epoch 17/30, Loss: 0.2219782877912737\n"
          ]
        },
        {
          "output_type": "stream",
          "name": "stderr",
          "text": [
            "/usr/local/lib/python3.10/dist-packages/sklearn/metrics/_classification.py:1344: UndefinedMetricWarning: Precision is ill-defined and being set to 0.0 in labels with no predicted samples. Use `zero_division` parameter to control this behavior.\n",
            "  _warn_prf(average, modifier, msg_start, len(result))\n"
          ]
        },
        {
          "output_type": "stream",
          "name": "stdout",
          "text": [
            "Accuracy: 0.10533401718168996\n",
            "Precision: 0.6577154250339815\n",
            "Recall: 0.1191130112933765\n",
            "F1-Score: 0.17412384516237503\n",
            "              precision    recall  f1-score   support\n",
            "\n",
            "           0       0.71      0.06      0.11      2088\n",
            "           1       0.72      0.02      0.03      1642\n",
            "           2       0.82      0.04      0.08       612\n",
            "           3       0.75      0.00      0.01       822\n",
            "           4       0.69      0.36      0.47      5222\n",
            "           5       0.64      0.24      0.35      2326\n",
            "           6       0.59      0.39      0.47      1258\n",
            "           7       0.73      0.47      0.57      8284\n",
            "           8       0.78      0.06      0.12      1036\n",
            "           9       0.86      0.02      0.03      1170\n",
            "          10       0.00      0.00      0.00       204\n",
            "          11       1.00      0.00      0.00       690\n",
            "          12       0.79      0.22      0.35      1650\n",
            "          13       0.64      0.19      0.29       622\n",
            "          14       0.33      0.00      0.01       506\n",
            "          15       0.46      0.07      0.12      1234\n",
            "          16       0.61      0.07      0.12      3180\n",
            "          17       0.91      0.11      0.19      1172\n",
            "          18       0.00      0.00      0.00       284\n",
            "          19       0.75      0.02      0.05       382\n",
            "          20       0.61      0.18      0.28      3134\n",
            "          21       0.81      0.18      0.30       802\n",
            "          22       0.92      0.03      0.05       420\n",
            "\n",
            "   micro avg       0.69      0.23      0.34     38740\n",
            "   macro avg       0.66      0.12      0.17     38740\n",
            "weighted avg       0.69      0.23      0.30     38740\n",
            " samples avg       0.45      0.27      0.32     38740\n",
            "\n"
          ]
        },
        {
          "output_type": "stream",
          "name": "stderr",
          "text": [
            "/usr/local/lib/python3.10/dist-packages/sklearn/metrics/_classification.py:1344: UndefinedMetricWarning: Precision and F-score are ill-defined and being set to 0.0 in labels with no predicted samples. Use `zero_division` parameter to control this behavior.\n",
            "  _warn_prf(average, modifier, msg_start, len(result))\n",
            "/usr/local/lib/python3.10/dist-packages/sklearn/metrics/_classification.py:1344: UndefinedMetricWarning: Precision and F-score are ill-defined and being set to 0.0 in samples with no predicted labels. Use `zero_division` parameter to control this behavior.\n",
            "  _warn_prf(average, modifier, msg_start, len(result))\n"
          ]
        },
        {
          "output_type": "stream",
          "name": "stdout",
          "text": [
            "Epoch 18/30, Loss: 0.21823699596058194\n"
          ]
        },
        {
          "output_type": "stream",
          "name": "stderr",
          "text": [
            "/usr/local/lib/python3.10/dist-packages/sklearn/metrics/_classification.py:1344: UndefinedMetricWarning: Precision is ill-defined and being set to 0.0 in labels with no predicted samples. Use `zero_division` parameter to control this behavior.\n",
            "  _warn_prf(average, modifier, msg_start, len(result))\n"
          ]
        },
        {
          "output_type": "stream",
          "name": "stdout",
          "text": [
            "Accuracy: 0.10296191819464035\n",
            "Precision: 0.5775182889151833\n",
            "Recall: 0.10733057581661226\n",
            "F1-Score: 0.15602033240789567\n",
            "              precision    recall  f1-score   support\n",
            "\n",
            "           0       0.50      0.01      0.03      2088\n",
            "           1       0.60      0.05      0.09      1642\n",
            "           2       0.69      0.10      0.17       612\n",
            "           3       0.39      0.01      0.02       822\n",
            "           4       0.75      0.20      0.31      5222\n",
            "           5       0.81      0.08      0.14      2326\n",
            "           6       0.58      0.38      0.46      1258\n",
            "           7       0.66      0.60      0.63      8284\n",
            "           8       0.71      0.10      0.17      1036\n",
            "           9       0.76      0.05      0.09      1170\n",
            "          10       0.00      0.00      0.00       204\n",
            "          11       0.12      0.00      0.00       690\n",
            "          12       0.82      0.16      0.27      1650\n",
            "          13       0.58      0.24      0.34       622\n",
            "          14       0.25      0.01      0.02       506\n",
            "          15       0.56      0.02      0.03      1234\n",
            "          16       0.59      0.15      0.24      3180\n",
            "          17       0.82      0.14      0.25      1172\n",
            "          18       0.00      0.00      0.00       284\n",
            "          19       0.50      0.00      0.01       382\n",
            "          20       0.69      0.04      0.08      3134\n",
            "          21       0.88      0.08      0.14       802\n",
            "          22       1.00      0.04      0.08       420\n",
            "\n",
            "   micro avg       0.67      0.21      0.32     38740\n",
            "   macro avg       0.58      0.11      0.16     38740\n",
            "weighted avg       0.65      0.21      0.27     38740\n",
            " samples avg       0.44      0.26      0.31     38740\n",
            "\n"
          ]
        },
        {
          "output_type": "stream",
          "name": "stderr",
          "text": [
            "/usr/local/lib/python3.10/dist-packages/sklearn/metrics/_classification.py:1344: UndefinedMetricWarning: Precision and F-score are ill-defined and being set to 0.0 in labels with no predicted samples. Use `zero_division` parameter to control this behavior.\n",
            "  _warn_prf(average, modifier, msg_start, len(result))\n",
            "/usr/local/lib/python3.10/dist-packages/sklearn/metrics/_classification.py:1344: UndefinedMetricWarning: Precision and F-score are ill-defined and being set to 0.0 in samples with no predicted labels. Use `zero_division` parameter to control this behavior.\n",
            "  _warn_prf(average, modifier, msg_start, len(result))\n"
          ]
        },
        {
          "output_type": "stream",
          "name": "stdout",
          "text": [
            "Epoch 19/30, Loss: 0.21353389063673744\n"
          ]
        },
        {
          "output_type": "stream",
          "name": "stderr",
          "text": [
            "/usr/local/lib/python3.10/dist-packages/sklearn/metrics/_classification.py:1344: UndefinedMetricWarning: Precision is ill-defined and being set to 0.0 in labels with no predicted samples. Use `zero_division` parameter to control this behavior.\n",
            "  _warn_prf(average, modifier, msg_start, len(result))\n"
          ]
        },
        {
          "output_type": "stream",
          "name": "stdout",
          "text": [
            "Accuracy: 0.11732273368380562\n",
            "Precision: 0.5806246642743372\n",
            "Recall: 0.14826529352580592\n",
            "F1-Score: 0.21120744160462673\n",
            "              precision    recall  f1-score   support\n",
            "\n",
            "           0       0.59      0.02      0.04      2088\n",
            "           1       0.67      0.10      0.18      1642\n",
            "           2       0.60      0.14      0.22       612\n",
            "           3       0.47      0.03      0.05       822\n",
            "           4       0.70      0.22      0.34      5222\n",
            "           5       0.76      0.10      0.17      2326\n",
            "           6       0.84      0.24      0.38      1258\n",
            "           7       0.66      0.70      0.68      8284\n",
            "           8       0.63      0.23      0.34      1036\n",
            "           9       0.45      0.16      0.24      1170\n",
            "          10       0.00      0.00      0.00       204\n",
            "          11       0.44      0.04      0.07       690\n",
            "          12       0.76      0.25      0.37      1650\n",
            "          13       0.68      0.17      0.27       622\n",
            "          14       0.26      0.02      0.04       506\n",
            "          15       0.56      0.00      0.01      1234\n",
            "          16       0.55      0.23      0.33      3180\n",
            "          17       0.91      0.08      0.15      1172\n",
            "          18       0.00      0.00      0.00       284\n",
            "          19       0.77      0.11      0.19       382\n",
            "          20       0.67      0.03      0.06      3134\n",
            "          21       0.81      0.18      0.30       802\n",
            "          22       0.57      0.34      0.43       420\n",
            "\n",
            "   micro avg       0.66      0.26      0.37     38740\n",
            "   macro avg       0.58      0.15      0.21     38740\n",
            "weighted avg       0.65      0.26      0.32     38740\n",
            " samples avg       0.50      0.31      0.36     38740\n",
            "\n"
          ]
        },
        {
          "output_type": "stream",
          "name": "stderr",
          "text": [
            "/usr/local/lib/python3.10/dist-packages/sklearn/metrics/_classification.py:1344: UndefinedMetricWarning: Precision and F-score are ill-defined and being set to 0.0 in labels with no predicted samples. Use `zero_division` parameter to control this behavior.\n",
            "  _warn_prf(average, modifier, msg_start, len(result))\n",
            "/usr/local/lib/python3.10/dist-packages/sklearn/metrics/_classification.py:1344: UndefinedMetricWarning: Precision and F-score are ill-defined and being set to 0.0 in samples with no predicted labels. Use `zero_division` parameter to control this behavior.\n",
            "  _warn_prf(average, modifier, msg_start, len(result))\n"
          ]
        },
        {
          "output_type": "stream",
          "name": "stdout",
          "text": [
            "Epoch 20/30, Loss: 0.20725274792730564\n"
          ]
        },
        {
          "output_type": "stream",
          "name": "stderr",
          "text": [
            "/usr/local/lib/python3.10/dist-packages/sklearn/metrics/_classification.py:1344: UndefinedMetricWarning: Precision is ill-defined and being set to 0.0 in labels with no predicted samples. Use `zero_division` parameter to control this behavior.\n",
            "  _warn_prf(average, modifier, msg_start, len(result))\n"
          ]
        },
        {
          "output_type": "stream",
          "name": "stdout",
          "text": [
            "Accuracy: 0.09462751634824977\n",
            "Precision: 0.5956173385332081\n",
            "Recall: 0.1565547689926035\n",
            "F1-Score: 0.22250571719908283\n",
            "              precision    recall  f1-score   support\n",
            "\n",
            "           0       0.54      0.28      0.37      2088\n",
            "           1       0.66      0.10      0.17      1642\n",
            "           2       0.59      0.13      0.21       612\n",
            "           3       1.00      0.00      0.00       822\n",
            "           4       0.60      0.50      0.55      5222\n",
            "           5       0.49      0.34      0.40      2326\n",
            "           6       0.89      0.18      0.30      1258\n",
            "           7       0.70      0.42      0.53      8284\n",
            "           8       0.69      0.11      0.20      1036\n",
            "           9       0.82      0.03      0.06      1170\n",
            "          10       0.29      0.01      0.02       204\n",
            "          11       0.00      0.00      0.00       690\n",
            "          12       0.76      0.13      0.23      1650\n",
            "          13       0.70      0.15      0.25       622\n",
            "          14       0.27      0.01      0.02       506\n",
            "          15       0.47      0.05      0.09      1234\n",
            "          16       0.56      0.18      0.27      3180\n",
            "          17       0.81      0.17      0.27      1172\n",
            "          18       0.00      0.00      0.00       284\n",
            "          19       0.75      0.12      0.21       382\n",
            "          20       0.52      0.31      0.39      3134\n",
            "          21       0.87      0.12      0.22       802\n",
            "          22       0.73      0.24      0.36       420\n",
            "\n",
            "   micro avg       0.62      0.27      0.38     38740\n",
            "   macro avg       0.60      0.16      0.22     38740\n",
            "weighted avg       0.63      0.27      0.35     38740\n",
            " samples avg       0.46      0.31      0.34     38740\n",
            "\n"
          ]
        },
        {
          "output_type": "stream",
          "name": "stderr",
          "text": [
            "/usr/local/lib/python3.10/dist-packages/sklearn/metrics/_classification.py:1344: UndefinedMetricWarning: Precision and F-score are ill-defined and being set to 0.0 in labels with no predicted samples. Use `zero_division` parameter to control this behavior.\n",
            "  _warn_prf(average, modifier, msg_start, len(result))\n",
            "/usr/local/lib/python3.10/dist-packages/sklearn/metrics/_classification.py:1344: UndefinedMetricWarning: Precision and F-score are ill-defined and being set to 0.0 in samples with no predicted labels. Use `zero_division` parameter to control this behavior.\n",
            "  _warn_prf(average, modifier, msg_start, len(result))\n"
          ]
        },
        {
          "output_type": "stream",
          "name": "stdout",
          "text": [
            "Epoch 21/30, Loss: 0.2001288066093078\n"
          ]
        },
        {
          "output_type": "stream",
          "name": "stderr",
          "text": [
            "/usr/local/lib/python3.10/dist-packages/sklearn/metrics/_classification.py:1344: UndefinedMetricWarning: Precision is ill-defined and being set to 0.0 in labels with no predicted samples. Use `zero_division` parameter to control this behavior.\n",
            "  _warn_prf(average, modifier, msg_start, len(result))\n"
          ]
        },
        {
          "output_type": "stream",
          "name": "stdout",
          "text": [
            "Accuracy: 0.09667906141813053\n",
            "Precision: 0.5832482486182787\n",
            "Recall: 0.13124909475185206\n",
            "F1-Score: 0.1816406468264494\n",
            "              precision    recall  f1-score   support\n",
            "\n",
            "           0       0.53      0.04      0.07      2088\n",
            "           1       0.66      0.06      0.12      1642\n",
            "           2       0.61      0.08      0.15       612\n",
            "           3       0.67      0.01      0.01       822\n",
            "           4       0.70      0.16      0.25      5222\n",
            "           5       0.73      0.05      0.09      2326\n",
            "           6       0.72      0.31      0.43      1258\n",
            "           7       0.68      0.59      0.63      8284\n",
            "           8       0.66      0.10      0.17      1036\n",
            "           9       0.51      0.14      0.21      1170\n",
            "          10       0.00      0.00      0.00       204\n",
            "          11       0.47      0.01      0.02       690\n",
            "          12       0.36      0.46      0.40      1650\n",
            "          13       0.65      0.20      0.30       622\n",
            "          14       0.40      0.01      0.02       506\n",
            "          15       0.36      0.10      0.16      1234\n",
            "          16       0.64      0.09      0.17      3180\n",
            "          17       0.78      0.14      0.24      1172\n",
            "          18       0.00      0.00      0.00       284\n",
            "          19       1.00      0.01      0.02       382\n",
            "          20       0.54      0.27      0.36      3134\n",
            "          21       0.83      0.15      0.25       802\n",
            "          22       0.93      0.06      0.12       420\n",
            "\n",
            "   micro avg       0.61      0.24      0.34     38740\n",
            "   macro avg       0.58      0.13      0.18     38740\n",
            "weighted avg       0.63      0.24      0.29     38740\n",
            " samples avg       0.45      0.28      0.32     38740\n",
            "\n"
          ]
        },
        {
          "output_type": "stream",
          "name": "stderr",
          "text": [
            "/usr/local/lib/python3.10/dist-packages/sklearn/metrics/_classification.py:1344: UndefinedMetricWarning: Precision and F-score are ill-defined and being set to 0.0 in labels with no predicted samples. Use `zero_division` parameter to control this behavior.\n",
            "  _warn_prf(average, modifier, msg_start, len(result))\n",
            "/usr/local/lib/python3.10/dist-packages/sklearn/metrics/_classification.py:1344: UndefinedMetricWarning: Precision and F-score are ill-defined and being set to 0.0 in samples with no predicted labels. Use `zero_division` parameter to control this behavior.\n",
            "  _warn_prf(average, modifier, msg_start, len(result))\n"
          ]
        },
        {
          "output_type": "stream",
          "name": "stdout",
          "text": [
            "Epoch 22/30, Loss: 0.19166424996200412\n"
          ]
        },
        {
          "output_type": "stream",
          "name": "stderr",
          "text": [
            "/usr/local/lib/python3.10/dist-packages/sklearn/metrics/_classification.py:1344: UndefinedMetricWarning: Precision is ill-defined and being set to 0.0 in labels with no predicted samples. Use `zero_division` parameter to control this behavior.\n",
            "  _warn_prf(average, modifier, msg_start, len(result))\n"
          ]
        },
        {
          "output_type": "stream",
          "name": "stdout",
          "text": [
            "Accuracy: 0.11873317091934864\n",
            "Precision: 0.6112944355921749\n",
            "Recall: 0.16020176732147665\n",
            "F1-Score: 0.23090379658373886\n",
            "              precision    recall  f1-score   support\n",
            "\n",
            "           0       0.73      0.08      0.14      2088\n",
            "           1       0.69      0.09      0.16      1642\n",
            "           2       0.55      0.17      0.26       612\n",
            "           3       0.44      0.03      0.05       822\n",
            "           4       0.67      0.32      0.44      5222\n",
            "           5       0.66      0.16      0.25      2326\n",
            "           6       0.60      0.40      0.48      1258\n",
            "           7       0.68      0.62      0.65      8284\n",
            "           8       0.58      0.23      0.33      1036\n",
            "           9       0.69      0.08      0.14      1170\n",
            "          10       0.00      0.00      0.00       204\n",
            "          11       0.56      0.03      0.05       690\n",
            "          12       0.79      0.19      0.31      1650\n",
            "          13       0.65      0.21      0.32       622\n",
            "          14       0.38      0.02      0.04       506\n",
            "          15       0.53      0.03      0.05      1234\n",
            "          16       0.65      0.07      0.13      3180\n",
            "          17       0.78      0.20      0.32      1172\n",
            "          18       0.60      0.01      0.02       284\n",
            "          19       0.70      0.18      0.28       382\n",
            "          20       0.61      0.13      0.21      3134\n",
            "          21       0.79      0.20      0.32       802\n",
            "          22       0.75      0.24      0.36       420\n",
            "\n",
            "   micro avg       0.67      0.26      0.38     38740\n",
            "   macro avg       0.61      0.16      0.23     38740\n",
            "weighted avg       0.65      0.26      0.33     38740\n",
            " samples avg       0.51      0.31      0.36     38740\n",
            "\n"
          ]
        },
        {
          "output_type": "stream",
          "name": "stderr",
          "text": [
            "/usr/local/lib/python3.10/dist-packages/sklearn/metrics/_classification.py:1344: UndefinedMetricWarning: Precision and F-score are ill-defined and being set to 0.0 in labels with no predicted samples. Use `zero_division` parameter to control this behavior.\n",
            "  _warn_prf(average, modifier, msg_start, len(result))\n",
            "/usr/local/lib/python3.10/dist-packages/sklearn/metrics/_classification.py:1344: UndefinedMetricWarning: Precision and F-score are ill-defined and being set to 0.0 in samples with no predicted labels. Use `zero_division` parameter to control this behavior.\n",
            "  _warn_prf(average, modifier, msg_start, len(result))\n"
          ]
        },
        {
          "output_type": "stream",
          "name": "stdout",
          "text": [
            "Epoch 23/30, Loss: 0.18194982255406586\n",
            "Accuracy: 0.10046159764072317\n",
            "Precision: 0.5591020585302426\n",
            "Recall: 0.1776152015335814\n",
            "F1-Score: 0.2361398980550609\n",
            "              precision    recall  f1-score   support\n",
            "\n",
            "           0       0.50      0.26      0.34      2088\n",
            "           1       0.60      0.11      0.19      1642\n",
            "           2       0.72      0.11      0.19       612\n",
            "           3       0.33      0.00      0.00       822\n",
            "           4       0.65      0.35      0.46      5222\n",
            "           5       0.51      0.29      0.37      2326\n",
            "           6       0.78      0.22      0.34      1258\n",
            "           7       0.68      0.56      0.61      8284\n",
            "           8       0.68      0.11      0.19      1036\n",
            "           9       0.67      0.05      0.09      1170\n",
            "          10       0.10      0.01      0.02       204\n",
            "          11       0.57      0.01      0.02       690\n",
            "          12       0.53      0.40      0.45      1650\n",
            "          13       0.67      0.01      0.03       622\n",
            "          14       0.44      0.02      0.04       506\n",
            "          15       0.34      0.15      0.21      1234\n",
            "          16       0.55      0.12      0.20      3180\n",
            "          17       0.58      0.27      0.37      1172\n",
            "          18       0.33      0.00      0.01       284\n",
            "          19       0.78      0.08      0.14       382\n",
            "          20       0.42      0.46      0.44      3134\n",
            "          21       0.66      0.27      0.38       802\n",
            "          22       0.75      0.23      0.35       420\n",
            "\n",
            "   micro avg       0.59      0.30      0.40     38740\n",
            "   macro avg       0.56      0.18      0.24     38740\n",
            "weighted avg       0.59      0.30      0.37     38740\n",
            " samples avg       0.50      0.34      0.38     38740\n",
            "\n"
          ]
        },
        {
          "output_type": "stream",
          "name": "stderr",
          "text": [
            "/usr/local/lib/python3.10/dist-packages/sklearn/metrics/_classification.py:1344: UndefinedMetricWarning: Precision and F-score are ill-defined and being set to 0.0 in samples with no predicted labels. Use `zero_division` parameter to control this behavior.\n",
            "  _warn_prf(average, modifier, msg_start, len(result))\n"
          ]
        },
        {
          "output_type": "stream",
          "name": "stdout",
          "text": [
            "Epoch 24/30, Loss: 0.1710930631760462\n",
            "Accuracy: 0.11116809847416335\n",
            "Precision: 0.555211114575681\n",
            "Recall: 0.18182179574878382\n",
            "F1-Score: 0.25657081934108783\n",
            "              precision    recall  f1-score   support\n",
            "\n",
            "           0       0.50      0.27      0.35      2088\n",
            "           1       0.50      0.22      0.31      1642\n",
            "           2       0.55      0.15      0.24       612\n",
            "           3       0.39      0.02      0.03       822\n",
            "           4       0.66      0.28      0.39      5222\n",
            "           5       0.57      0.21      0.31      2326\n",
            "           6       0.73      0.26      0.38      1258\n",
            "           7       0.67      0.62      0.64      8284\n",
            "           8       0.64      0.17      0.27      1036\n",
            "           9       0.57      0.12      0.19      1170\n",
            "          10       0.00      0.00      0.00       204\n",
            "          11       0.35      0.08      0.13       690\n",
            "          12       0.62      0.30      0.40      1650\n",
            "          13       0.75      0.14      0.24       622\n",
            "          14       0.28      0.02      0.04       506\n",
            "          15       0.41      0.08      0.13      1234\n",
            "          16       0.58      0.13      0.22      3180\n",
            "          17       0.62      0.23      0.33      1172\n",
            "          18       0.60      0.01      0.02       284\n",
            "          19       0.75      0.12      0.20       382\n",
            "          20       0.51      0.28      0.36      3134\n",
            "          21       0.63      0.30      0.40       802\n",
            "          22       0.88      0.19      0.31       420\n",
            "\n",
            "   micro avg       0.62      0.29      0.40     38740\n",
            "   macro avg       0.56      0.18      0.26     38740\n",
            "weighted avg       0.59      0.29      0.37     38740\n",
            " samples avg       0.50      0.33      0.37     38740\n",
            "\n"
          ]
        },
        {
          "output_type": "stream",
          "name": "stderr",
          "text": [
            "/usr/local/lib/python3.10/dist-packages/sklearn/metrics/_classification.py:1344: UndefinedMetricWarning: Precision and F-score are ill-defined and being set to 0.0 in samples with no predicted labels. Use `zero_division` parameter to control this behavior.\n",
            "  _warn_prf(average, modifier, msg_start, len(result))\n"
          ]
        },
        {
          "output_type": "stream",
          "name": "stdout",
          "text": [
            "Epoch 25/30, Loss: 0.1594627703321569\n",
            "Accuracy: 0.10738556225157071\n",
            "Precision: 0.5330335524858606\n",
            "Recall: 0.16411510126925472\n",
            "F1-Score: 0.23352377288729254\n",
            "              precision    recall  f1-score   support\n",
            "\n",
            "           0       0.58      0.05      0.10      2088\n",
            "           1       0.58      0.11      0.18      1642\n",
            "           2       0.51      0.18      0.26       612\n",
            "           3       0.34      0.06      0.10       822\n",
            "           4       0.66      0.28      0.39      5222\n",
            "           5       0.62      0.10      0.17      2326\n",
            "           6       0.63      0.32      0.42      1258\n",
            "           7       0.66      0.62      0.64      8284\n",
            "           8       0.57      0.16      0.24      1036\n",
            "           9       0.51      0.14      0.22      1170\n",
            "          10       0.00      0.00      0.00       204\n",
            "          11       0.35      0.03      0.05       690\n",
            "          12       0.63      0.29      0.40      1650\n",
            "          13       0.61      0.23      0.33       622\n",
            "          14       0.31      0.07      0.12       506\n",
            "          15       0.48      0.04      0.07      1234\n",
            "          16       0.50      0.24      0.32      3180\n",
            "          17       0.59      0.28      0.38      1172\n",
            "          18       0.31      0.02      0.03       284\n",
            "          19       0.83      0.07      0.12       382\n",
            "          20       0.57      0.15      0.24      3134\n",
            "          21       0.77      0.22      0.34       802\n",
            "          22       0.66      0.15      0.24       420\n",
            "\n",
            "   micro avg       0.62      0.27      0.38     38740\n",
            "   macro avg       0.53      0.16      0.23     38740\n",
            "weighted avg       0.59      0.27      0.34     38740\n",
            " samples avg       0.48      0.32      0.35     38740\n",
            "\n"
          ]
        },
        {
          "output_type": "stream",
          "name": "stderr",
          "text": [
            "/usr/local/lib/python3.10/dist-packages/sklearn/metrics/_classification.py:1344: UndefinedMetricWarning: Precision and F-score are ill-defined and being set to 0.0 in samples with no predicted labels. Use `zero_division` parameter to control this behavior.\n",
            "  _warn_prf(average, modifier, msg_start, len(result))\n"
          ]
        },
        {
          "output_type": "stream",
          "name": "stdout",
          "text": [
            "Epoch 26/30, Loss: 0.14775384298751873\n",
            "Accuracy: 0.10373124759584562\n",
            "Precision: 0.5026903463839192\n",
            "Recall: 0.19953393485807938\n",
            "F1-Score: 0.26183937630682996\n",
            "              precision    recall  f1-score   support\n",
            "\n",
            "           0       0.43      0.36      0.39      2088\n",
            "           1       0.50      0.15      0.23      1642\n",
            "           2       0.44      0.25      0.32       612\n",
            "           3       0.43      0.01      0.02       822\n",
            "           4       0.63      0.37      0.46      5222\n",
            "           5       0.52      0.29      0.37      2326\n",
            "           6       0.57      0.36      0.44      1258\n",
            "           7       0.67      0.58      0.62      8284\n",
            "           8       0.57      0.18      0.27      1036\n",
            "           9       0.70      0.07      0.13      1170\n",
            "          10       0.17      0.00      0.01       204\n",
            "          11       0.14      0.02      0.04       690\n",
            "          12       0.58      0.22      0.32      1650\n",
            "          13       0.62      0.14      0.23       622\n",
            "          14       0.43      0.04      0.07       506\n",
            "          15       0.32      0.04      0.07      1234\n",
            "          16       0.51      0.16      0.24      3180\n",
            "          17       0.60      0.26      0.36      1172\n",
            "          18       0.56      0.02      0.03       284\n",
            "          19       0.60      0.19      0.29       382\n",
            "          20       0.48      0.34      0.40      3134\n",
            "          21       0.48      0.35      0.41       802\n",
            "          22       0.62      0.20      0.30       420\n",
            "\n",
            "   micro avg       0.58      0.31      0.41     38740\n",
            "   macro avg       0.50      0.20      0.26     38740\n",
            "weighted avg       0.55      0.31      0.38     38740\n",
            " samples avg       0.49      0.35      0.38     38740\n",
            "\n"
          ]
        },
        {
          "output_type": "stream",
          "name": "stderr",
          "text": [
            "/usr/local/lib/python3.10/dist-packages/sklearn/metrics/_classification.py:1344: UndefinedMetricWarning: Precision and F-score are ill-defined and being set to 0.0 in samples with no predicted labels. Use `zero_division` parameter to control this behavior.\n",
            "  _warn_prf(average, modifier, msg_start, len(result))\n"
          ]
        },
        {
          "output_type": "stream",
          "name": "stdout",
          "text": [
            "Epoch 27/30, Loss: 0.13620648009572256\n",
            "Accuracy: 0.08815232722143865\n",
            "Precision: 0.46451778475574224\n",
            "Recall: 0.20925297758538622\n",
            "F1-Score: 0.2664942741538397\n",
            "              precision    recall  f1-score   support\n",
            "\n",
            "           0       0.43      0.35      0.38      2088\n",
            "           1       0.29      0.42      0.35      1642\n",
            "           2       0.41      0.26      0.32       612\n",
            "           3       0.40      0.05      0.09       822\n",
            "           4       0.66      0.29      0.40      5222\n",
            "           5       0.60      0.14      0.22      2326\n",
            "           6       0.51      0.35      0.41      1258\n",
            "           7       0.71      0.45      0.55      8284\n",
            "           8       0.47      0.30      0.37      1036\n",
            "           9       0.42      0.19      0.26      1170\n",
            "          10       0.00      0.00      0.00       204\n",
            "          11       0.23      0.22      0.22       690\n",
            "          12       0.50      0.25      0.34      1650\n",
            "          13       0.68      0.13      0.22       622\n",
            "          14       0.26      0.07      0.11       506\n",
            "          15       0.28      0.02      0.04      1234\n",
            "          16       0.56      0.15      0.23      3180\n",
            "          17       0.54      0.23      0.32      1172\n",
            "          18       0.44      0.01      0.03       284\n",
            "          19       0.74      0.13      0.22       382\n",
            "          20       0.51      0.17      0.26      3134\n",
            "          21       0.52      0.32      0.39       802\n",
            "          22       0.51      0.33      0.40       420\n",
            "\n",
            "   micro avg       0.54      0.27      0.36     38740\n",
            "   macro avg       0.46      0.21      0.27     38740\n",
            "weighted avg       0.55      0.27      0.35     38740\n",
            " samples avg       0.43      0.30      0.33     38740\n",
            "\n"
          ]
        },
        {
          "output_type": "stream",
          "name": "stderr",
          "text": [
            "/usr/local/lib/python3.10/dist-packages/sklearn/metrics/_classification.py:1344: UndefinedMetricWarning: Precision and F-score are ill-defined and being set to 0.0 in samples with no predicted labels. Use `zero_division` parameter to control this behavior.\n",
            "  _warn_prf(average, modifier, msg_start, len(result))\n"
          ]
        },
        {
          "output_type": "stream",
          "name": "stdout",
          "text": [
            "Epoch 28/30, Loss: 0.12366935870621676\n",
            "Accuracy: 0.0982177202205411\n",
            "Precision: 0.459931193291392\n",
            "Recall: 0.20024669882777532\n",
            "F1-Score: 0.2645899159261898\n",
            "              precision    recall  f1-score   support\n",
            "\n",
            "           0       0.46      0.28      0.35      2088\n",
            "           1       0.47      0.22      0.30      1642\n",
            "           2       0.43      0.17      0.25       612\n",
            "           3       0.26      0.09      0.13       822\n",
            "           4       0.56      0.48      0.51      5222\n",
            "           5       0.52      0.20      0.29      2326\n",
            "           6       0.50      0.40      0.45      1258\n",
            "           7       0.68      0.51      0.58      8284\n",
            "           8       0.51      0.22      0.31      1036\n",
            "           9       0.46      0.13      0.20      1170\n",
            "          10       0.12      0.00      0.01       204\n",
            "          11       0.33      0.10      0.15       690\n",
            "          12       0.56      0.14      0.22      1650\n",
            "          13       0.45      0.24      0.32       622\n",
            "          14       0.24      0.07      0.11       506\n",
            "          15       0.32      0.00      0.01      1234\n",
            "          16       0.48      0.17      0.26      3180\n",
            "          17       0.65      0.23      0.34      1172\n",
            "          18       0.33      0.02      0.05       284\n",
            "          19       0.36      0.28      0.32       382\n",
            "          20       0.52      0.19      0.28      3134\n",
            "          21       0.70      0.20      0.31       802\n",
            "          22       0.67      0.24      0.35       420\n",
            "\n",
            "   micro avg       0.56      0.30      0.39     38740\n",
            "   macro avg       0.46      0.20      0.26     38740\n",
            "weighted avg       0.53      0.30      0.36     38740\n",
            " samples avg       0.48      0.34      0.37     38740\n",
            "\n"
          ]
        },
        {
          "output_type": "stream",
          "name": "stderr",
          "text": [
            "/usr/local/lib/python3.10/dist-packages/sklearn/metrics/_classification.py:1344: UndefinedMetricWarning: Precision and F-score are ill-defined and being set to 0.0 in samples with no predicted labels. Use `zero_division` parameter to control this behavior.\n",
            "  _warn_prf(average, modifier, msg_start, len(result))\n"
          ]
        },
        {
          "output_type": "stream",
          "name": "stdout",
          "text": [
            "Epoch 29/30, Loss: 0.1127259717342049\n",
            "Accuracy: 0.09783305551993846\n",
            "Precision: 0.4718799837213222\n",
            "Recall: 0.2055776243710006\n",
            "F1-Score: 0.2729844001855958\n",
            "              precision    recall  f1-score   support\n",
            "\n",
            "           0       0.45      0.30      0.36      2088\n",
            "           1       0.50      0.20      0.28      1642\n",
            "           2       0.48      0.18      0.26       612\n",
            "           3       0.45      0.03      0.05       822\n",
            "           4       0.57      0.48      0.52      5222\n",
            "           5       0.52      0.22      0.31      2326\n",
            "           6       0.66      0.28      0.40      1258\n",
            "           7       0.68      0.48      0.57      8284\n",
            "           8       0.54      0.20      0.29      1036\n",
            "           9       0.39      0.18      0.24      1170\n",
            "          10       0.08      0.00      0.01       204\n",
            "          11       0.37      0.05      0.08       690\n",
            "          12       0.50      0.36      0.42      1650\n",
            "          13       0.59      0.19      0.29       622\n",
            "          14       0.24      0.07      0.11       506\n",
            "          15       0.23      0.02      0.04      1234\n",
            "          16       0.47      0.23      0.31      3180\n",
            "          17       0.51      0.28      0.36      1172\n",
            "          18       0.24      0.03      0.06       284\n",
            "          19       0.68      0.17      0.27       382\n",
            "          20       0.49      0.22      0.31      3134\n",
            "          21       0.68      0.23      0.34       802\n",
            "          22       0.54      0.33      0.41       420\n",
            "\n",
            "   micro avg       0.56      0.30      0.40     38740\n",
            "   macro avg       0.47      0.21      0.27     38740\n",
            "weighted avg       0.53      0.30      0.38     38740\n",
            " samples avg       0.48      0.35      0.37     38740\n",
            "\n"
          ]
        },
        {
          "output_type": "stream",
          "name": "stderr",
          "text": [
            "/usr/local/lib/python3.10/dist-packages/sklearn/metrics/_classification.py:1344: UndefinedMetricWarning: Precision and F-score are ill-defined and being set to 0.0 in samples with no predicted labels. Use `zero_division` parameter to control this behavior.\n",
            "  _warn_prf(average, modifier, msg_start, len(result))\n"
          ]
        },
        {
          "output_type": "stream",
          "name": "stdout",
          "text": [
            "Epoch 30/30, Loss: 0.10266341257518456\n",
            "Accuracy: 0.09738428003590203\n",
            "Precision: 0.4617069716470413\n",
            "Recall: 0.2141371979217872\n",
            "F1-Score: 0.2695986298941292\n",
            "              precision    recall  f1-score   support\n",
            "\n",
            "           0       0.41      0.25      0.31      2088\n",
            "           1       0.45      0.20      0.28      1642\n",
            "           2       0.49      0.24      0.33       612\n",
            "           3       0.36      0.03      0.06       822\n",
            "           4       0.52      0.59      0.55      5222\n",
            "           5       0.39      0.27      0.32      2326\n",
            "           6       0.65      0.24      0.35      1258\n",
            "           7       0.65      0.64      0.64      8284\n",
            "           8       0.55      0.20      0.29      1036\n",
            "           9       0.49      0.14      0.21      1170\n",
            "          10       0.09      0.01      0.02       204\n",
            "          11       0.30      0.04      0.08       690\n",
            "          12       0.60      0.19      0.29      1650\n",
            "          13       0.55      0.23      0.33       622\n",
            "          14       0.30      0.05      0.08       506\n",
            "          15       0.35      0.03      0.06      1234\n",
            "          16       0.42      0.27      0.33      3180\n",
            "          17       0.52      0.22      0.31      1172\n",
            "          18       0.50      0.02      0.04       284\n",
            "          19       0.57      0.20      0.30       382\n",
            "          20       0.48      0.21      0.29      3134\n",
            "          21       0.61      0.24      0.35       802\n",
            "          22       0.36      0.39      0.38       420\n",
            "\n",
            "   micro avg       0.54      0.35      0.42     38740\n",
            "   macro avg       0.46      0.21      0.27     38740\n",
            "weighted avg       0.51      0.35      0.39     38740\n",
            " samples avg       0.51      0.39      0.41     38740\n",
            "\n"
          ]
        },
        {
          "output_type": "stream",
          "name": "stderr",
          "text": [
            "/usr/local/lib/python3.10/dist-packages/sklearn/metrics/_classification.py:1344: UndefinedMetricWarning: Precision and F-score are ill-defined and being set to 0.0 in samples with no predicted labels. Use `zero_division` parameter to control this behavior.\n",
            "  _warn_prf(average, modifier, msg_start, len(result))\n"
          ]
        }
      ]
    },
    {
      "cell_type": "markdown",
      "source": [
        "# New Section"
      ],
      "metadata": {
        "id": "VWtsIHx6w0T4"
      }
    },
    {
      "cell_type": "code",
      "source": [
        "import torch\n",
        "import torch.nn as nn\n",
        "import torch.optim as optim\n",
        "from torchvision import models\n",
        "\n",
        "device = \"cuda\" if torch.cuda.is_available() else \"cpu\"\n",
        "print(device)\n",
        "\n",
        "save_dir = \"/content/Model/Models-Train-1\"\n",
        "load_path = os.path.join(save_dir, '8_model.pth')\n",
        "\n",
        "\n",
        "model = models.resnet101(pretrained=False)\n",
        "model.fc = nn.Sequential(\n",
        "    nn.Linear(model.fc.in_features, 512),\n",
        "    nn.ReLU(),\n",
        "    nn.Linear(512, len(unique_labels)),\n",
        "    nn.Sigmoid()\n",
        ")\n",
        "model.load_state_dict(torch.load(load_path))\n",
        "model.eval()\n",
        "model.to(device)"
      ],
      "metadata": {
        "id": "n3WA2jmvwinp"
      },
      "execution_count": null,
      "outputs": []
    },
    {
      "cell_type": "code",
      "source": [
        "# Initialize lists to store predicted and ground truth labels\n",
        "predicted_labels = []\n",
        "true_labels = []\n",
        "\n",
        "# Iterate through the test set and make predictions\n",
        "with torch.no_grad():\n",
        "    for inputs, labels in test_loader:\n",
        "        inputs, labels = inputs.to(device), labels.to(device)\n",
        "        outputs = model(inputs)\n",
        "        predicted_labels.extend(outputs.cpu().numpy())\n",
        "        true_labels.extend(labels.cpu().numpy())"
      ],
      "metadata": {
        "id": "2xfv0nHIxEAR"
      },
      "execution_count": null,
      "outputs": []
    },
    {
      "cell_type": "code",
      "source": [
        "predicted_labels[0]"
      ],
      "metadata": {
        "id": "xD6r2Tetx9Ks"
      },
      "execution_count": null,
      "outputs": []
    },
    {
      "cell_type": "code",
      "source": [
        "threshold = 0.5\n",
        "\n",
        "binary_predictions = []\n",
        "\n",
        "for sample_logits in predicted_labels:\n",
        "    binary_sample_predictions = [1 if value >= threshold else 0 for value in sample_logits]\n",
        "    binary_predictions.append(binary_sample_predictions)"
      ],
      "metadata": {
        "id": "cjZ_uU9My8nw"
      },
      "execution_count": null,
      "outputs": []
    },
    {
      "cell_type": "code",
      "source": [
        "binary_predictions[1000]"
      ],
      "metadata": {
        "id": "jpFmDp3KzPwc"
      },
      "execution_count": null,
      "outputs": []
    },
    {
      "cell_type": "code",
      "source": [
        "from sklearn.metrics import accuracy_score, precision_score, recall_score, f1_score, classification_report\n",
        "\n",
        "accuracy = accuracy_score(true_labels, binary_predictions)\n",
        "precision = precision_score(true_labels, binary_predictions, average='macro')\n",
        "recall = recall_score(true_labels, binary_predictions, average='macro')\n",
        "f1 = f1_score(true_labels, binary_predictions, average='macro')\n",
        "\n",
        "print(f\"Accuracy: {accuracy}\")\n",
        "print(f\"Precision: {precision}\")\n",
        "print(f\"Recall: {recall}\")\n",
        "print(f\"F1-Score: {f1}\")\n",
        "print(classification_report(true_labels, binary_predictions))"
      ],
      "metadata": {
        "id": "poAMnH0lximL"
      },
      "execution_count": null,
      "outputs": []
    },
    {
      "cell_type": "code",
      "source": [],
      "metadata": {
        "id": "aibnGr-BxTny"
      },
      "execution_count": null,
      "outputs": []
    }
  ]
}