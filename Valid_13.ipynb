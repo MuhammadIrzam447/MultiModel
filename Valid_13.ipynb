{
  "nbformat": 4,
  "nbformat_minor": 0,
  "metadata": {
    "colab": {
      "provenance": [],
      "gpuType": "T4",
      "include_colab_link": true
    },
    "kernelspec": {
      "name": "python3",
      "display_name": "Python 3"
    },
    "language_info": {
      "name": "python"
    },
    "accelerator": "GPU"
  },
  "cells": [
    {
      "cell_type": "markdown",
      "metadata": {
        "id": "view-in-github",
        "colab_type": "text"
      },
      "source": [
        "<a href=\"https://colab.research.google.com/github/MuhammadIrzam447/MultiModel/blob/master/Valid_13.ipynb\" target=\"_parent\"><img src=\"https://colab.research.google.com/assets/colab-badge.svg\" alt=\"Open In Colab\"/></a>"
      ]
    },
    {
      "cell_type": "code",
      "execution_count": 1,
      "metadata": {
        "id": "ObgVtPmABT7d"
      },
      "outputs": [],
      "source": [
        "from google.colab import drive\n",
        "import pandas as pd\n",
        "import os\n",
        "from PIL import Image\n",
        "import torch\n",
        "from torchvision import datasets, transforms\n",
        "import torchvision.models as models\n",
        "from torchvision.datasets import ImageFolder\n",
        "import torchvision\n",
        "import torch.nn as nn\n",
        "import torch.optim as optim\n",
        "from sklearn.metrics import confusion_matrix\n",
        "from sklearn.metrics import precision_recall_fscore_support\n",
        "from sklearn.metrics import accuracy_score, precision_score, recall_score, f1_score\n",
        "import matplotlib.pyplot as plt\n",
        "import seaborn as sns\n",
        "import numpy as np\n",
        "from PIL import UnidentifiedImageError\n",
        "from sklearn.metrics import classification_report, roc_auc_score"
      ]
    },
    {
      "cell_type": "code",
      "source": [
        "if torch.cuda.is_available():\n",
        "    device = torch.device(\"cuda\")\n",
        "else:\n",
        "    device = torch.device(\"cpu\")\n",
        "print(device)"
      ],
      "metadata": {
        "id": "pziXvdPgU58B",
        "colab": {
          "base_uri": "https://localhost:8080/"
        },
        "outputId": "b86e6852-9c43-40c4-cbec-74ef790164ef"
      },
      "execution_count": 2,
      "outputs": [
        {
          "output_type": "stream",
          "name": "stdout",
          "text": [
            "cuda\n"
          ]
        }
      ]
    },
    {
      "cell_type": "code",
      "source": [
        "# from google.colab import drive\n",
        "# drive.mount('/content/drive', force_remount=True)"
      ],
      "metadata": {
        "id": "8EPDp91Tyicv"
      },
      "execution_count": 3,
      "outputs": []
    },
    {
      "cell_type": "markdown",
      "source": [
        "# Loading Validation Dataset and Preprocessing"
      ],
      "metadata": {
        "id": "p3yzu25SYhKf"
      }
    },
    {
      "cell_type": "code",
      "source": [
        "# save_dir = '/content/Model/Fused_ResNetmodel_Hatefull_Experiment#5'\n",
        "# load_path = os.path.join(save_dir, 'model.pth')\n",
        "\n",
        "# # Create an instance of the ResNet model\n",
        "# resnet = torchvision.models.resnet101(pretrained=False)\n",
        "# resnet.fc = nn.Linear(2048, 2) # Choose the number of output classses as per your model\n",
        "\n",
        "# # Load the saved model parameters\n",
        "# # resnet.load_state_dict(torch.load(load_path, map_location=torch.device('cpu')))\n",
        "# resnet.load_state_dict(torch.load(load_path))\n",
        "\n",
        "# # Set the model to evaluation mode and respective device\n",
        "# resnet.eval()\n",
        "# resnet.to(device)"
      ],
      "metadata": {
        "id": "6gITvuS1n91U"
      },
      "execution_count": 4,
      "outputs": []
    },
    {
      "cell_type": "code",
      "source": [
        "val_transform = transforms.Compose([\n",
        "    transforms.Resize((224, 224)),\n",
        "    transforms.ToTensor(),\n",
        "    transforms.Normalize(mean=[0.485, 0.456, 0.406], std=[0.229, 0.224, 0.225])\n",
        "])"
      ],
      "metadata": {
        "id": "4ElOxuNZvqLy"
      },
      "execution_count": 5,
      "outputs": []
    },
    {
      "cell_type": "code",
      "source": [
        "class ValidationDataset(torch.utils.data.Dataset):\n",
        "    def __init__(self, data_dir):\n",
        "        self.data_dir = data_dir\n",
        "        self.dataset = datasets.ImageFolder(data_dir, transform=val_transform)\n",
        "        self.classes = sorted(os.listdir(data_dir))\n",
        "        self.class_lengths = self._compute_class_lengths()\n",
        "\n",
        "    def _compute_class_lengths(self):\n",
        "        class_lengths = {cls: 0 for cls in self.classes}\n",
        "\n",
        "        for cls in self.classes:\n",
        "            cls_dir = os.path.join(self.data_dir, cls)\n",
        "            if os.path.isdir(cls_dir):\n",
        "                class_lengths[cls] = len(os.listdir(cls_dir))\n",
        "\n",
        "        return class_lengths\n",
        "\n",
        "    def __getitem__(self, index):\n",
        "        image, label = self.dataset[index]\n",
        "        return image, label\n",
        "\n",
        "    def __len__(self):\n",
        "        return len(self.dataset)"
      ],
      "metadata": {
        "id": "ZEqVuNvcMgvo"
      },
      "execution_count": 6,
      "outputs": []
    },
    {
      "cell_type": "code",
      "source": [
        "valPath = \"/content/hateful-train+test_unseen/test\"\n",
        "val_dataset = ValidationDataset(valPath)"
      ],
      "metadata": {
        "id": "4UfrxOQ3sCgB"
      },
      "execution_count": 7,
      "outputs": []
    },
    {
      "cell_type": "code",
      "source": [
        "batch_size = 32\n",
        "validation_data_loader = torch.utils.data.DataLoader(val_dataset, batch_size=batch_size, shuffle=False)"
      ],
      "metadata": {
        "id": "8e-uQ6lqVhmI"
      },
      "execution_count": 8,
      "outputs": []
    },
    {
      "cell_type": "code",
      "source": [
        "print(\"Number of samples:\", len(val_dataset))\n",
        "print(\"Number of classes:\", len(val_dataset.classes))"
      ],
      "metadata": {
        "id": "oShp-fOcVmYs",
        "colab": {
          "base_uri": "https://localhost:8080/"
        },
        "outputId": "1a9ad7ff-dcd9-44a7-c0a6-d672cd2a2ac7"
      },
      "execution_count": 9,
      "outputs": [
        {
          "output_type": "stream",
          "name": "stdout",
          "text": [
            "Number of samples: 2000\n",
            "Number of classes: 2\n"
          ]
        }
      ]
    },
    {
      "cell_type": "code",
      "source": [
        "num_batches = len(validation_data_loader)\n",
        "print(\"Number of batches:\", num_batches)"
      ],
      "metadata": {
        "id": "l_2_YsDRCJL7",
        "colab": {
          "base_uri": "https://localhost:8080/"
        },
        "outputId": "1f650103-3dc1-41d9-ca94-a44d165c77ba"
      },
      "execution_count": 10,
      "outputs": [
        {
          "output_type": "stream",
          "name": "stdout",
          "text": [
            "Number of batches: 63\n"
          ]
        }
      ]
    },
    {
      "cell_type": "markdown",
      "source": [
        "# Validation"
      ],
      "metadata": {
        "id": "RbwN0R_b2tMA"
      }
    },
    {
      "cell_type": "code",
      "source": [
        "epoch = 1\n",
        "save_dir = '/content/Model/Models-Train-03/'\n",
        "while epoch < 20:\n",
        "    model_name = str(epoch+1) + \"_model.pth\"\n",
        "    load_path = os.path.join(save_dir, model_name)\n",
        "\n",
        "    # Create an instance of the ResNet model\n",
        "    resnet = torchvision.models.resnet101(pretrained=False)\n",
        "    resnet.fc = nn.Linear(2048, 2) # Choose the number of output classses as per your model\n",
        "\n",
        "    # Load the saved model parameters\n",
        "    # resnet.load_state_dict(torch.load(load_path, map_location=torch.device('cpu')))\n",
        "    resnet.load_state_dict(torch.load(load_path))\n",
        "\n",
        "    # Set the model to evaluation mode and respective device\n",
        "    resnet.eval()\n",
        "    resnet.to(device)\n",
        "\n",
        "    # resnet.eval()\n",
        "\n",
        "    predicted_classes = []\n",
        "    actual_labels = []\n",
        "\n",
        "    with torch.no_grad():\n",
        "        for images, labels in validation_data_loader:\n",
        "            # Move the images and labels to the GPU if available\n",
        "            images = images.to(device)\n",
        "            labels = labels.to(device)\n",
        "\n",
        "            # Forward pass\n",
        "            outputs = resnet(images)\n",
        "\n",
        "            # Get the predicted labels\n",
        "            _, predicted_label = torch.max(outputs, 1)\n",
        "\n",
        "            # Store the predicted and true labels\n",
        "            predicted_classes.extend(predicted_label.cpu().tolist())\n",
        "            actual_labels.extend(labels.cpu().tolist())\n",
        "\n",
        "        accuracy = accuracy_score(actual_labels, predicted_classes)\n",
        "        precision = precision_score(actual_labels, predicted_classes, average='weighted')\n",
        "        recall = recall_score(actual_labels, predicted_classes, average='weighted')\n",
        "        f1 = f1_score(actual_labels, predicted_classes, average='weighted')\n",
        "\n",
        "        print(\"Result with model \" + model_name + \" : \")\n",
        "        print(\"=========================================\")\n",
        "        print(\"Accuracy:\", accuracy)\n",
        "        print(\"Precision:\", precision)\n",
        "        print(\"Recall:\", recall)\n",
        "        print(\"F1-score:\", f1)\n",
        "        print(classification_report(actual_labels, predicted_classes))\n",
        "\n",
        "        predicted_classes = np.array(predicted_classes)\n",
        "        actual_labels = np.array(actual_labels)\n",
        "\n",
        "        # Calculate the AUROC score\n",
        "        auroc = roc_auc_score(actual_labels, predicted_classes)\n",
        "        print(\"AUROC:\", auroc)\n",
        "        epoch = epoch + 1\n"
      ],
      "metadata": {
        "id": "QYxUnUjO7DOa",
        "colab": {
          "base_uri": "https://localhost:8080/"
        },
        "outputId": "ec433c05-1e44-4ccb-f389-3d4d9edadc47"
      },
      "execution_count": 11,
      "outputs": [
        {
          "output_type": "stream",
          "name": "stderr",
          "text": [
            "/usr/local/lib/python3.10/dist-packages/torchvision/models/_utils.py:208: UserWarning: The parameter 'pretrained' is deprecated since 0.13 and may be removed in the future, please use 'weights' instead.\n",
            "  warnings.warn(\n",
            "/usr/local/lib/python3.10/dist-packages/torchvision/models/_utils.py:223: UserWarning: Arguments other than a weight enum or `None` for 'weights' are deprecated since 0.13 and may be removed in the future. The current behavior is equivalent to passing `weights=None`.\n",
            "  warnings.warn(msg)\n"
          ]
        },
        {
          "output_type": "stream",
          "name": "stdout",
          "text": [
            "Result with model 2_model.pth : \n",
            "=========================================\n",
            "Accuracy: 0.665\n",
            "Precision: 0.6526537698412699\n",
            "Recall: 0.665\n",
            "F1-score: 0.6525369618888164\n",
            "              precision    recall  f1-score   support\n",
            "\n",
            "           0       0.70      0.81      0.75      1250\n",
            "           1       0.57      0.43      0.49       750\n",
            "\n",
            "    accuracy                           0.67      2000\n",
            "   macro avg       0.64      0.62      0.62      2000\n",
            "weighted avg       0.65      0.67      0.65      2000\n",
            "\n",
            "AUROC: 0.6173333333333334\n"
          ]
        },
        {
          "output_type": "stream",
          "name": "stderr",
          "text": [
            "/usr/local/lib/python3.10/dist-packages/torchvision/models/_utils.py:208: UserWarning: The parameter 'pretrained' is deprecated since 0.13 and may be removed in the future, please use 'weights' instead.\n",
            "  warnings.warn(\n",
            "/usr/local/lib/python3.10/dist-packages/torchvision/models/_utils.py:223: UserWarning: Arguments other than a weight enum or `None` for 'weights' are deprecated since 0.13 and may be removed in the future. The current behavior is equivalent to passing `weights=None`.\n",
            "  warnings.warn(msg)\n"
          ]
        },
        {
          "output_type": "stream",
          "name": "stdout",
          "text": [
            "Result with model 3_model.pth : \n",
            "=========================================\n",
            "Accuracy: 0.673\n",
            "Precision: 0.680874781175986\n",
            "Recall: 0.673\n",
            "F1-score: 0.6758735223349723\n",
            "              precision    recall  f1-score   support\n",
            "\n",
            "           0       0.75      0.71      0.73      1250\n",
            "           1       0.56      0.62      0.59       750\n",
            "\n",
            "    accuracy                           0.67      2000\n",
            "   macro avg       0.66      0.66      0.66      2000\n",
            "weighted avg       0.68      0.67      0.68      2000\n",
            "\n",
            "AUROC: 0.6618666666666666\n"
          ]
        },
        {
          "output_type": "stream",
          "name": "stderr",
          "text": [
            "/usr/local/lib/python3.10/dist-packages/torchvision/models/_utils.py:208: UserWarning: The parameter 'pretrained' is deprecated since 0.13 and may be removed in the future, please use 'weights' instead.\n",
            "  warnings.warn(\n",
            "/usr/local/lib/python3.10/dist-packages/torchvision/models/_utils.py:223: UserWarning: Arguments other than a weight enum or `None` for 'weights' are deprecated since 0.13 and may be removed in the future. The current behavior is equivalent to passing `weights=None`.\n",
            "  warnings.warn(msg)\n"
          ]
        },
        {
          "output_type": "stream",
          "name": "stdout",
          "text": [
            "Result with model 4_model.pth : \n",
            "=========================================\n",
            "Accuracy: 0.697\n",
            "Precision: 0.7098699605128456\n",
            "Recall: 0.6970000000000001\n",
            "F1-score: 0.7006989930893412\n",
            "              precision    recall  f1-score   support\n",
            "\n",
            "           0       0.79      0.71      0.74      1250\n",
            "           1       0.58      0.68      0.63       750\n",
            "\n",
            "    accuracy                           0.70      2000\n",
            "   macro avg       0.68      0.69      0.69      2000\n",
            "weighted avg       0.71      0.70      0.70      2000\n",
            "\n",
            "AUROC: 0.6936000000000001\n"
          ]
        },
        {
          "output_type": "stream",
          "name": "stderr",
          "text": [
            "/usr/local/lib/python3.10/dist-packages/torchvision/models/_utils.py:208: UserWarning: The parameter 'pretrained' is deprecated since 0.13 and may be removed in the future, please use 'weights' instead.\n",
            "  warnings.warn(\n",
            "/usr/local/lib/python3.10/dist-packages/torchvision/models/_utils.py:223: UserWarning: Arguments other than a weight enum or `None` for 'weights' are deprecated since 0.13 and may be removed in the future. The current behavior is equivalent to passing `weights=None`.\n",
            "  warnings.warn(msg)\n"
          ]
        },
        {
          "output_type": "stream",
          "name": "stdout",
          "text": [
            "Result with model 5_model.pth : \n",
            "=========================================\n",
            "Accuracy: 0.678\n",
            "Precision: 0.6904333231614282\n",
            "Recall: 0.678\n",
            "F1-score: 0.6818082788671025\n",
            "              precision    recall  f1-score   support\n",
            "\n",
            "           0       0.77      0.69      0.73      1250\n",
            "           1       0.56      0.65      0.60       750\n",
            "\n",
            "    accuracy                           0.68      2000\n",
            "   macro avg       0.66      0.67      0.67      2000\n",
            "weighted avg       0.69      0.68      0.68      2000\n",
            "\n",
            "AUROC: 0.6725333333333332\n"
          ]
        },
        {
          "output_type": "stream",
          "name": "stderr",
          "text": [
            "/usr/local/lib/python3.10/dist-packages/torchvision/models/_utils.py:208: UserWarning: The parameter 'pretrained' is deprecated since 0.13 and may be removed in the future, please use 'weights' instead.\n",
            "  warnings.warn(\n",
            "/usr/local/lib/python3.10/dist-packages/torchvision/models/_utils.py:223: UserWarning: Arguments other than a weight enum or `None` for 'weights' are deprecated since 0.13 and may be removed in the future. The current behavior is equivalent to passing `weights=None`.\n",
            "  warnings.warn(msg)\n"
          ]
        },
        {
          "output_type": "stream",
          "name": "stdout",
          "text": [
            "Result with model 6_model.pth : \n",
            "=========================================\n",
            "Accuracy: 0.7005\n",
            "Precision: 0.7114938986151431\n",
            "Recall: 0.7005\n",
            "F1-score: 0.7038601426619367\n",
            "              precision    recall  f1-score   support\n",
            "\n",
            "           0       0.79      0.72      0.75      1250\n",
            "           1       0.59      0.67      0.63       750\n",
            "\n",
            "    accuracy                           0.70      2000\n",
            "   macro avg       0.69      0.70      0.69      2000\n",
            "weighted avg       0.71      0.70      0.70      2000\n",
            "\n",
            "AUROC: 0.6953333333333331\n"
          ]
        },
        {
          "output_type": "stream",
          "name": "stderr",
          "text": [
            "/usr/local/lib/python3.10/dist-packages/torchvision/models/_utils.py:208: UserWarning: The parameter 'pretrained' is deprecated since 0.13 and may be removed in the future, please use 'weights' instead.\n",
            "  warnings.warn(\n",
            "/usr/local/lib/python3.10/dist-packages/torchvision/models/_utils.py:223: UserWarning: Arguments other than a weight enum or `None` for 'weights' are deprecated since 0.13 and may be removed in the future. The current behavior is equivalent to passing `weights=None`.\n",
            "  warnings.warn(msg)\n"
          ]
        },
        {
          "output_type": "stream",
          "name": "stdout",
          "text": [
            "Result with model 7_model.pth : \n",
            "=========================================\n",
            "Accuracy: 0.7285\n",
            "Precision: 0.7293211801302182\n",
            "Recall: 0.7285\n",
            "F1-score: 0.7288883130778735\n",
            "              precision    recall  f1-score   support\n",
            "\n",
            "           0       0.79      0.78      0.78      1250\n",
            "           1       0.64      0.65      0.64       750\n",
            "\n",
            "    accuracy                           0.73      2000\n",
            "   macro avg       0.71      0.71      0.71      2000\n",
            "weighted avg       0.73      0.73      0.73      2000\n",
            "\n",
            "AUROC: 0.7118666666666666\n"
          ]
        },
        {
          "output_type": "stream",
          "name": "stderr",
          "text": [
            "/usr/local/lib/python3.10/dist-packages/torchvision/models/_utils.py:208: UserWarning: The parameter 'pretrained' is deprecated since 0.13 and may be removed in the future, please use 'weights' instead.\n",
            "  warnings.warn(\n",
            "/usr/local/lib/python3.10/dist-packages/torchvision/models/_utils.py:223: UserWarning: Arguments other than a weight enum or `None` for 'weights' are deprecated since 0.13 and may be removed in the future. The current behavior is equivalent to passing `weights=None`.\n",
            "  warnings.warn(msg)\n"
          ]
        },
        {
          "output_type": "stream",
          "name": "stdout",
          "text": [
            "Result with model 8_model.pth : \n",
            "=========================================\n",
            "Accuracy: 0.7135\n",
            "Precision: 0.725984126984127\n",
            "Recall: 0.7135\n",
            "F1-score: 0.7169797570850203\n",
            "              precision    recall  f1-score   support\n",
            "\n",
            "           0       0.80      0.72      0.76      1250\n",
            "           1       0.60      0.70      0.65       750\n",
            "\n",
            "    accuracy                           0.71      2000\n",
            "   macro avg       0.70      0.71      0.70      2000\n",
            "weighted avg       0.73      0.71      0.72      2000\n",
            "\n",
            "AUROC: 0.7110666666666666\n"
          ]
        },
        {
          "output_type": "stream",
          "name": "stderr",
          "text": [
            "/usr/local/lib/python3.10/dist-packages/torchvision/models/_utils.py:208: UserWarning: The parameter 'pretrained' is deprecated since 0.13 and may be removed in the future, please use 'weights' instead.\n",
            "  warnings.warn(\n",
            "/usr/local/lib/python3.10/dist-packages/torchvision/models/_utils.py:223: UserWarning: Arguments other than a weight enum or `None` for 'weights' are deprecated since 0.13 and may be removed in the future. The current behavior is equivalent to passing `weights=None`.\n",
            "  warnings.warn(msg)\n"
          ]
        },
        {
          "output_type": "stream",
          "name": "stdout",
          "text": [
            "Result with model 9_model.pth : \n",
            "=========================================\n",
            "Accuracy: 0.7275\n",
            "Precision: 0.7250925208498841\n",
            "Recall: 0.7275\n",
            "F1-score: 0.7260412605671199\n",
            "              precision    recall  f1-score   support\n",
            "\n",
            "           0       0.77      0.80      0.79      1250\n",
            "           1       0.64      0.61      0.63       750\n",
            "\n",
            "    accuracy                           0.73      2000\n",
            "   macro avg       0.71      0.70      0.71      2000\n",
            "weighted avg       0.73      0.73      0.73      2000\n",
            "\n",
            "AUROC: 0.7044\n"
          ]
        },
        {
          "output_type": "stream",
          "name": "stderr",
          "text": [
            "/usr/local/lib/python3.10/dist-packages/torchvision/models/_utils.py:208: UserWarning: The parameter 'pretrained' is deprecated since 0.13 and may be removed in the future, please use 'weights' instead.\n",
            "  warnings.warn(\n",
            "/usr/local/lib/python3.10/dist-packages/torchvision/models/_utils.py:223: UserWarning: Arguments other than a weight enum or `None` for 'weights' are deprecated since 0.13 and may be removed in the future. The current behavior is equivalent to passing `weights=None`.\n",
            "  warnings.warn(msg)\n"
          ]
        },
        {
          "output_type": "stream",
          "name": "stdout",
          "text": [
            "Result with model 10_model.pth : \n",
            "=========================================\n",
            "Accuracy: 0.712\n",
            "Precision: 0.7226948184414526\n",
            "Recall: 0.712\n",
            "F1-score: 0.7152108942540086\n",
            "              precision    recall  f1-score   support\n",
            "\n",
            "           0       0.80      0.73      0.76      1250\n",
            "           1       0.60      0.69      0.64       750\n",
            "\n",
            "    accuracy                           0.71      2000\n",
            "   macro avg       0.70      0.71      0.70      2000\n",
            "weighted avg       0.72      0.71      0.72      2000\n",
            "\n",
            "AUROC: 0.7074666666666667\n"
          ]
        },
        {
          "output_type": "stream",
          "name": "stderr",
          "text": [
            "/usr/local/lib/python3.10/dist-packages/torchvision/models/_utils.py:208: UserWarning: The parameter 'pretrained' is deprecated since 0.13 and may be removed in the future, please use 'weights' instead.\n",
            "  warnings.warn(\n",
            "/usr/local/lib/python3.10/dist-packages/torchvision/models/_utils.py:223: UserWarning: Arguments other than a weight enum or `None` for 'weights' are deprecated since 0.13 and may be removed in the future. The current behavior is equivalent to passing `weights=None`.\n",
            "  warnings.warn(msg)\n"
          ]
        },
        {
          "output_type": "stream",
          "name": "stdout",
          "text": [
            "Result with model 11_model.pth : \n",
            "=========================================\n",
            "Accuracy: 0.694\n",
            "Precision: 0.714734382972227\n",
            "Recall: 0.694\n",
            "F1-score: 0.6985618992529508\n",
            "              precision    recall  f1-score   support\n",
            "\n",
            "           0       0.80      0.68      0.74      1250\n",
            "           1       0.57      0.71      0.64       750\n",
            "\n",
            "    accuracy                           0.69      2000\n",
            "   macro avg       0.69      0.70      0.69      2000\n",
            "weighted avg       0.71      0.69      0.70      2000\n",
            "\n",
            "AUROC: 0.6981333333333333\n"
          ]
        },
        {
          "output_type": "stream",
          "name": "stderr",
          "text": [
            "/usr/local/lib/python3.10/dist-packages/torchvision/models/_utils.py:208: UserWarning: The parameter 'pretrained' is deprecated since 0.13 and may be removed in the future, please use 'weights' instead.\n",
            "  warnings.warn(\n",
            "/usr/local/lib/python3.10/dist-packages/torchvision/models/_utils.py:223: UserWarning: Arguments other than a weight enum or `None` for 'weights' are deprecated since 0.13 and may be removed in the future. The current behavior is equivalent to passing `weights=None`.\n",
            "  warnings.warn(msg)\n"
          ]
        },
        {
          "output_type": "stream",
          "name": "stdout",
          "text": [
            "Result with model 12_model.pth : \n",
            "=========================================\n",
            "Accuracy: 0.6835\n",
            "Precision: 0.708402855743586\n",
            "Recall: 0.6835\n",
            "F1-score: 0.6884278582880183\n",
            "              precision    recall  f1-score   support\n",
            "\n",
            "           0       0.80      0.66      0.72      1250\n",
            "           1       0.56      0.72      0.63       750\n",
            "\n",
            "    accuracy                           0.68      2000\n",
            "   macro avg       0.68      0.69      0.68      2000\n",
            "weighted avg       0.71      0.68      0.69      2000\n",
            "\n",
            "AUROC: 0.6905333333333332\n"
          ]
        },
        {
          "output_type": "stream",
          "name": "stderr",
          "text": [
            "/usr/local/lib/python3.10/dist-packages/torchvision/models/_utils.py:208: UserWarning: The parameter 'pretrained' is deprecated since 0.13 and may be removed in the future, please use 'weights' instead.\n",
            "  warnings.warn(\n",
            "/usr/local/lib/python3.10/dist-packages/torchvision/models/_utils.py:223: UserWarning: Arguments other than a weight enum or `None` for 'weights' are deprecated since 0.13 and may be removed in the future. The current behavior is equivalent to passing `weights=None`.\n",
            "  warnings.warn(msg)\n"
          ]
        },
        {
          "output_type": "stream",
          "name": "stdout",
          "text": [
            "Result with model 13_model.pth : \n",
            "=========================================\n",
            "Accuracy: 0.7295\n",
            "Precision: 0.7292854578729923\n",
            "Recall: 0.7295\n",
            "F1-score: 0.7293910633892635\n",
            "              precision    recall  f1-score   support\n",
            "\n",
            "           0       0.78      0.78      0.78      1250\n",
            "           1       0.64      0.64      0.64       750\n",
            "\n",
            "    accuracy                           0.73      2000\n",
            "   macro avg       0.71      0.71      0.71      2000\n",
            "weighted avg       0.73      0.73      0.73      2000\n",
            "\n",
            "AUROC: 0.7110666666666666\n"
          ]
        },
        {
          "output_type": "stream",
          "name": "stderr",
          "text": [
            "/usr/local/lib/python3.10/dist-packages/torchvision/models/_utils.py:208: UserWarning: The parameter 'pretrained' is deprecated since 0.13 and may be removed in the future, please use 'weights' instead.\n",
            "  warnings.warn(\n",
            "/usr/local/lib/python3.10/dist-packages/torchvision/models/_utils.py:223: UserWarning: Arguments other than a weight enum or `None` for 'weights' are deprecated since 0.13 and may be removed in the future. The current behavior is equivalent to passing `weights=None`.\n",
            "  warnings.warn(msg)\n"
          ]
        },
        {
          "output_type": "stream",
          "name": "stdout",
          "text": [
            "Result with model 14_model.pth : \n",
            "=========================================\n",
            "Accuracy: 0.7145\n",
            "Precision: 0.7210589302250197\n",
            "Recall: 0.7145\n",
            "F1-score: 0.71683108628271\n",
            "              precision    recall  f1-score   support\n",
            "\n",
            "           0       0.79      0.74      0.76      1250\n",
            "           1       0.61      0.67      0.64       750\n",
            "\n",
            "    accuracy                           0.71      2000\n",
            "   macro avg       0.70      0.71      0.70      2000\n",
            "weighted avg       0.72      0.71      0.72      2000\n",
            "\n",
            "AUROC: 0.7051999999999999\n"
          ]
        },
        {
          "output_type": "stream",
          "name": "stderr",
          "text": [
            "/usr/local/lib/python3.10/dist-packages/torchvision/models/_utils.py:208: UserWarning: The parameter 'pretrained' is deprecated since 0.13 and may be removed in the future, please use 'weights' instead.\n",
            "  warnings.warn(\n",
            "/usr/local/lib/python3.10/dist-packages/torchvision/models/_utils.py:223: UserWarning: Arguments other than a weight enum or `None` for 'weights' are deprecated since 0.13 and may be removed in the future. The current behavior is equivalent to passing `weights=None`.\n",
            "  warnings.warn(msg)\n"
          ]
        },
        {
          "output_type": "stream",
          "name": "stdout",
          "text": [
            "Result with model 15_model.pth : \n",
            "=========================================\n",
            "Accuracy: 0.7195\n",
            "Precision: 0.7268296053586484\n",
            "Recall: 0.7195\n",
            "F1-score: 0.7219892250863459\n",
            "              precision    recall  f1-score   support\n",
            "\n",
            "           0       0.79      0.74      0.77      1250\n",
            "           1       0.61      0.68      0.65       750\n",
            "\n",
            "    accuracy                           0.72      2000\n",
            "   macro avg       0.70      0.71      0.71      2000\n",
            "weighted avg       0.73      0.72      0.72      2000\n",
            "\n",
            "AUROC: 0.7116000000000002\n"
          ]
        },
        {
          "output_type": "stream",
          "name": "stderr",
          "text": [
            "/usr/local/lib/python3.10/dist-packages/torchvision/models/_utils.py:208: UserWarning: The parameter 'pretrained' is deprecated since 0.13 and may be removed in the future, please use 'weights' instead.\n",
            "  warnings.warn(\n",
            "/usr/local/lib/python3.10/dist-packages/torchvision/models/_utils.py:223: UserWarning: Arguments other than a weight enum or `None` for 'weights' are deprecated since 0.13 and may be removed in the future. The current behavior is equivalent to passing `weights=None`.\n",
            "  warnings.warn(msg)\n"
          ]
        },
        {
          "output_type": "stream",
          "name": "stdout",
          "text": [
            "Result with model 16_model.pth : \n",
            "=========================================\n",
            "Accuracy: 0.7215\n",
            "Precision: 0.7250557905701398\n",
            "Recall: 0.7215\n",
            "F1-score: 0.7229435730731907\n",
            "              precision    recall  f1-score   support\n",
            "\n",
            "           0       0.79      0.76      0.77      1250\n",
            "           1       0.62      0.66      0.64       750\n",
            "\n",
            "    accuracy                           0.72      2000\n",
            "   macro avg       0.70      0.71      0.71      2000\n",
            "weighted avg       0.73      0.72      0.72      2000\n",
            "\n",
            "AUROC: 0.7086666666666667\n"
          ]
        },
        {
          "output_type": "stream",
          "name": "stderr",
          "text": [
            "/usr/local/lib/python3.10/dist-packages/torchvision/models/_utils.py:208: UserWarning: The parameter 'pretrained' is deprecated since 0.13 and may be removed in the future, please use 'weights' instead.\n",
            "  warnings.warn(\n",
            "/usr/local/lib/python3.10/dist-packages/torchvision/models/_utils.py:223: UserWarning: Arguments other than a weight enum or `None` for 'weights' are deprecated since 0.13 and may be removed in the future. The current behavior is equivalent to passing `weights=None`.\n",
            "  warnings.warn(msg)\n"
          ]
        },
        {
          "output_type": "stream",
          "name": "stdout",
          "text": [
            "Result with model 17_model.pth : \n",
            "=========================================\n",
            "Accuracy: 0.6915\n",
            "Precision: 0.7104060189643566\n",
            "Recall: 0.6915\n",
            "F1-score: 0.6959596547473778\n",
            "              precision    recall  f1-score   support\n",
            "\n",
            "           0       0.79      0.68      0.74      1250\n",
            "           1       0.57      0.70      0.63       750\n",
            "\n",
            "    accuracy                           0.69      2000\n",
            "   macro avg       0.68      0.69      0.68      2000\n",
            "weighted avg       0.71      0.69      0.70      2000\n",
            "\n",
            "AUROC: 0.6937333333333334\n"
          ]
        },
        {
          "output_type": "stream",
          "name": "stderr",
          "text": [
            "/usr/local/lib/python3.10/dist-packages/torchvision/models/_utils.py:208: UserWarning: The parameter 'pretrained' is deprecated since 0.13 and may be removed in the future, please use 'weights' instead.\n",
            "  warnings.warn(\n",
            "/usr/local/lib/python3.10/dist-packages/torchvision/models/_utils.py:223: UserWarning: Arguments other than a weight enum or `None` for 'weights' are deprecated since 0.13 and may be removed in the future. The current behavior is equivalent to passing `weights=None`.\n",
            "  warnings.warn(msg)\n"
          ]
        },
        {
          "output_type": "stream",
          "name": "stdout",
          "text": [
            "Result with model 18_model.pth : \n",
            "=========================================\n",
            "Accuracy: 0.718\n",
            "Precision: 0.7265444557944527\n",
            "Recall: 0.718\n",
            "F1-score: 0.7207611980166614\n",
            "              precision    recall  f1-score   support\n",
            "\n",
            "           0       0.80      0.74      0.77      1250\n",
            "           1       0.61      0.69      0.65       750\n",
            "\n",
            "    accuracy                           0.72      2000\n",
            "   macro avg       0.70      0.71      0.71      2000\n",
            "weighted avg       0.73      0.72      0.72      2000\n",
            "\n",
            "AUROC: 0.7114666666666667\n"
          ]
        },
        {
          "output_type": "stream",
          "name": "stderr",
          "text": [
            "/usr/local/lib/python3.10/dist-packages/torchvision/models/_utils.py:208: UserWarning: The parameter 'pretrained' is deprecated since 0.13 and may be removed in the future, please use 'weights' instead.\n",
            "  warnings.warn(\n",
            "/usr/local/lib/python3.10/dist-packages/torchvision/models/_utils.py:223: UserWarning: Arguments other than a weight enum or `None` for 'weights' are deprecated since 0.13 and may be removed in the future. The current behavior is equivalent to passing `weights=None`.\n",
            "  warnings.warn(msg)\n"
          ]
        },
        {
          "output_type": "stream",
          "name": "stdout",
          "text": [
            "Result with model 19_model.pth : \n",
            "=========================================\n",
            "Accuracy: 0.7145\n",
            "Precision: 0.7202421630296912\n",
            "Recall: 0.7145\n",
            "F1-score: 0.716618338789354\n",
            "              precision    recall  f1-score   support\n",
            "\n",
            "           0       0.79      0.75      0.77      1250\n",
            "           1       0.61      0.66      0.64       750\n",
            "\n",
            "    accuracy                           0.71      2000\n",
            "   macro avg       0.70      0.70      0.70      2000\n",
            "weighted avg       0.72      0.71      0.72      2000\n",
            "\n",
            "AUROC: 0.7041333333333333\n"
          ]
        },
        {
          "output_type": "stream",
          "name": "stderr",
          "text": [
            "/usr/local/lib/python3.10/dist-packages/torchvision/models/_utils.py:208: UserWarning: The parameter 'pretrained' is deprecated since 0.13 and may be removed in the future, please use 'weights' instead.\n",
            "  warnings.warn(\n",
            "/usr/local/lib/python3.10/dist-packages/torchvision/models/_utils.py:223: UserWarning: Arguments other than a weight enum or `None` for 'weights' are deprecated since 0.13 and may be removed in the future. The current behavior is equivalent to passing `weights=None`.\n",
            "  warnings.warn(msg)\n"
          ]
        },
        {
          "output_type": "stream",
          "name": "stdout",
          "text": [
            "Result with model 20_model.pth : \n",
            "=========================================\n",
            "Accuracy: 0.7115\n",
            "Precision: 0.7191569429828487\n",
            "Recall: 0.7115\n",
            "F1-score: 0.7141097709920073\n",
            "              precision    recall  f1-score   support\n",
            "\n",
            "           0       0.79      0.74      0.76      1250\n",
            "           1       0.60      0.67      0.64       750\n",
            "\n",
            "    accuracy                           0.71      2000\n",
            "   macro avg       0.70      0.70      0.70      2000\n",
            "weighted avg       0.72      0.71      0.71      2000\n",
            "\n",
            "AUROC: 0.7033333333333334\n"
          ]
        }
      ]
    },
    {
      "cell_type": "code",
      "source": [
        "accuracy = accuracy_score(actual_labels, predicted_classes)\n",
        "precision = precision_score(actual_labels, predicted_classes, average='weighted')\n",
        "recall = recall_score(actual_labels, predicted_classes, average='weighted')\n",
        "f1 = f1_score(actual_labels, predicted_classes, average='weighted')\n",
        "\n",
        "print(\"Accuracy:\", accuracy)\n",
        "print(\"Precision:\", precision)\n",
        "print(\"Recall:\", recall)\n",
        "print(\"F1-score:\", f1)"
      ],
      "metadata": {
        "id": "SiJYzy3heKgR",
        "colab": {
          "base_uri": "https://localhost:8080/"
        },
        "outputId": "25ee8102-a5f4-4fab-ccb7-2ce08221f79d"
      },
      "execution_count": 12,
      "outputs": [
        {
          "output_type": "stream",
          "name": "stdout",
          "text": [
            "Accuracy: 0.7115\n",
            "Precision: 0.7191569429828487\n",
            "Recall: 0.7115\n",
            "F1-score: 0.7141097709920073\n"
          ]
        }
      ]
    },
    {
      "cell_type": "code",
      "source": [
        "print(classification_report(actual_labels, predicted_classes))"
      ],
      "metadata": {
        "id": "1PEdbnvj0vPK",
        "colab": {
          "base_uri": "https://localhost:8080/"
        },
        "outputId": "21fab06e-7f47-46a1-9228-7d20064357a8"
      },
      "execution_count": 13,
      "outputs": [
        {
          "output_type": "stream",
          "name": "stdout",
          "text": [
            "              precision    recall  f1-score   support\n",
            "\n",
            "           0       0.79      0.74      0.76      1250\n",
            "           1       0.60      0.67      0.64       750\n",
            "\n",
            "    accuracy                           0.71      2000\n",
            "   macro avg       0.70      0.70      0.70      2000\n",
            "weighted avg       0.72      0.71      0.71      2000\n",
            "\n"
          ]
        }
      ]
    },
    {
      "cell_type": "code",
      "source": [
        "labels = ['Accuracy', 'Precision', 'Recall', 'F1-score']\n",
        "values = [accuracy, precision, recall, f1]\n",
        "\n",
        "x = np.arange(len(labels))\n",
        "\n",
        "fig, ax = plt.subplots(figsize=(5, 4))\n",
        "bars = ax.bar(x, values)\n",
        "\n",
        "# labels, title, and legend\n",
        "ax.set_xlabel('Metrics')\n",
        "ax.set_ylabel('Score')\n",
        "ax.set_title('Model Performance Metrics')\n",
        "ax.set_xticks(x)\n",
        "ax.set_xticklabels(labels)\n",
        "\n",
        "# scores on top of each bar\n",
        "for i, bar in enumerate(bars):\n",
        "    score = values[i]\n",
        "    ax.text(bar.get_x() + bar.get_width() / 2, bar.get_height(), f'{score:.2f}', ha='center', va='bottom')\n",
        "\n",
        "plt.show()"
      ],
      "metadata": {
        "id": "xSO-PViWdHwB",
        "colab": {
          "base_uri": "https://localhost:8080/",
          "height": 410
        },
        "outputId": "8a36171f-89a2-4624-ffdf-c0146f3e7b88"
      },
      "execution_count": 14,
      "outputs": [
        {
          "output_type": "display_data",
          "data": {
            "text/plain": [
              "<Figure size 500x400 with 1 Axes>"
            ],
            "image/png": "[encoded data removed]"
          },
          "metadata": {}
        }
      ]
    },
    {
      "cell_type": "code",
      "source": [
        "from sklearn.metrics import confusion_matrix, ConfusionMatrixDisplay\n",
        "cm = confusion_matrix(actual_labels, predicted_classes)\n",
        "ConfusionMatrixDisplay(cm).plot()"
      ],
      "metadata": {
        "colab": {
          "base_uri": "https://localhost:8080/",
          "height": 467
        },
        "id": "6UgUV1DcD_J0",
        "outputId": "65e6b817-a5e4-423b-a738-e971727f4210"
      },
      "execution_count": 15,
      "outputs": [
        {
          "output_type": "execute_result",
          "data": {
            "text/plain": [
              "<sklearn.metrics._plot.confusion_matrix.ConfusionMatrixDisplay at 0x7f9586909960>"
            ]
          },
          "metadata": {},
          "execution_count": 15
        },
        {
          "output_type": "display_data",
          "data": {
            "text/plain": [
              "<Figure size 640x480 with 2 Axes>"
            ],
            "image/png": "[encoded data removed]"
          },
          "metadata": {}
        }
      ]
    },
    {
      "cell_type": "code",
      "source": [
        "# Count the occurrences of each label in predicted and true labels\n",
        "predicted_counts = np.bincount(predicted_classes)\n",
        "true_counts = np.bincount(actual_labels)\n",
        "\n",
        "# Get the unique labels\n",
        "labels = np.unique(np.concatenate((predicted_classes, actual_labels)))\n",
        "\n",
        "# Set the x-axis range\n",
        "x = np.arange(len(labels))\n",
        "\n",
        "# Set the width of the bars\n",
        "width = 0.35\n",
        "\n",
        "# Plot the predicted and true label counts\n",
        "fig, ax = plt.subplots(figsize=(5,5))\n",
        "ax.bar(x - width/2, predicted_counts, width, label='Predicted Labels')\n",
        "ax.bar(x + width/2, true_counts, width, label='True Labels')\n",
        "\n",
        "# Add labels, title, and legend\n",
        "ax.set_xlabel('Labels')\n",
        "ax.set_ylabel('Count')\n",
        "ax.set_title('Distribution of Predicted and True Labels')\n",
        "ax.set_xticks(x)\n",
        "ax.set_xticklabels(labels)\n",
        "ax.legend()\n",
        "\n",
        "plt.show()"
      ],
      "metadata": {
        "id": "55bbdFyXajU8",
        "colab": {
          "base_uri": "https://localhost:8080/",
          "height": 487
        },
        "outputId": "00bf587f-76fe-4cc1-ca5d-838f22407ae0"
      },
      "execution_count": 16,
      "outputs": [
        {
          "output_type": "display_data",
          "data": {
            "text/plain": [
              "<Figure size 500x500 with 1 Axes>"
            ],
            "image/png": "[encoded data removed]"
          },
          "metadata": {}
        }
      ]
    },
    {
      "cell_type": "code",
      "source": [],
      "metadata": {
        "id": "sLUhPIJuD43X"
      },
      "execution_count": 16,
      "outputs": []
    }
  ]
}